{
 "cells": [
  {
   "cell_type": "markdown",
   "metadata": {},
   "source": [
    "# This notebook\n",
    "\n",
    "Note: installing neuron was not that straightforward.\n",
    "\n",
    "\n",
    "\n"
   ]
  },
  {
   "cell_type": "code",
   "execution_count": 65,
   "metadata": {
    "collapsed": false
   },
   "outputs": [],
   "source": [
    "import argparse\n",
    "import numpy as np\n",
    "import datetime\n",
    "import pickle \n",
    "import warnings\n",
    "import neuron\n",
    "import sys\n",
    "import csv\n",
    "#! echo $PYTHONPATH"
   ]
  },
  {
   "cell_type": "code",
   "execution_count": 2,
   "metadata": {
    "collapsed": false
   },
   "outputs": [],
   "source": [
    "%run BREPpy.py\n",
    "\n",
    "#Todo: Read in from command line for int or bool parameters.\n",
    "b = Brep()\n",
    "b.init_from_script(['--config_fn','./input_files/Parameters.hoc'])\n",
    "b.read_in_config()"
   ]
  },
  {
   "cell_type": "markdown",
   "metadata": {},
   "source": [
    "### Parsing the Parameter file\n",
    "Not nice: there are about 4 different names for one variable- there are the default ones in the code, the assigned ones in the code, and the ones in the parameter file. \n",
    "I will use variables that are similar to the ones defined in the grammar in the code, with the difference that they will be adapted to Python syntax ( _ instead of -), and a few have an additional postfix to clarify what they do (e.g. \\_fn = filename) \n",
    "\n",
    "\n",
    "### On the installation of neuron\n",
    "Neuron did not really work out of the box for me. \n",
    "I (ubuntu 16.04 LTS, 64 bit) did it the following way:\n",
    "- Download the .rpm package from here: https://www.neuron.yale.edu/neuron/download\n",
    "- Install it with: \n",
    "    `alien -i nrn_...*package*` (Note that the .deb package did not work out, and neither did the installation using rpm directly)\n",
    "- Edit the .bashrc file by adding the following lines: \n",
    "\n",
    "    `#Added for neuron\n",
    "    export PYTHONPATH=\"${PYTHONPATH}:/usr/local/nrn/lib/python/\" `\n",
    "    \n",
    "    (first check that this path is actually where it got installed by going to the folder and see whether `python -c 'import neuron'` tells you about your NEURON version or whether there ain't no module called neuron.\n",
    "\n",
    "\n",
    "http://www.davison.webfactional.com/notes/hoc-to-python-bulbnet/"
   ]
  },
  {
   "cell_type": "markdown",
   "metadata": {
    "collapsed": true
   },
   "source": [
    "## Checking out the output of the original BREP program."
   ]
  },
  {
   "cell_type": "code",
   "execution_count": 210,
   "metadata": {
    "collapsed": false
   },
   "outputs": [],
   "source": [
    "##filenames and input paths for the different files.\n",
    "import os\n",
    "from collections import OrderedDict\n",
    "res_p = os.path.normpath(os.getcwd()+'/output_1/')\n",
    "\n",
    "fns = OrderedDict ()\n",
    "fns['aa_gol_dist']='AAtoGoCdistances.dat'\n",
    "fns['aa_gol_segs']='AAtoGoCsegments.dat'\n",
    "fns['aa_gol_source']='AAtoGoCsources.dat'\n",
    "fns['aa_gol_target']='AAtoGoCtargets.dat'\n",
    "\n",
    "fns['gran_coord'] ='GCcoordinates.sorted.dat'       \n",
    "fns['gran_t_coord']='GCTcoordinates.sorted.dat'\n",
    "    \n",
    "fns['go_coord']='GoCcoordinates.sorted.dat'\n",
    "fns['go_basd_coord']='GoCbdendcoordinates.sorted.dat'\n",
    "fns['go_apical_coord']='GoCadendcoordinates.sorted.dat'\n",
    "fns['go_axon_coord']='GoCaxoncoordinates.sorted.dat'\n",
    "fns['go_dist']='GoCdistances.dat' #\n",
    "       \n",
    "fns['go_go_dist']='GoCtoGoCdistances.dat'\n",
    "fns['go_go_sources']='GoCtoGoCsources.dat'\n",
    "fns['go_go_targets']='GoCtoGoCtargets.dat'\n",
    "fns['go_go_gap_dist']='GoCtoGoCgapdistances.dat'\n",
    "fns['go_go_gap_source']='GoCtoGoCgapsources.dat'\n",
    "fns['go_go_gap_target']='GoCtoGoCgaptargets.dat'\n",
    "\n",
    "fns['pf_go_dist']='PFtoGoCdistances.dat'\n",
    "fns['pf_go_seg']='PFtoGoCsegments.dat'\n",
    "fns['pf_go_source']='PFtoGoCsources.dat'\n",
    "fns['pf_go_target']='PFtoGoCtargets.dat'\n",
    "\n",
    "#for k,v in fns.items():\n",
    "##    print (k)\n",
    "#a = import_csv(in_f)\n",
    "#rr = read_in_coordfile (in_goba)"
   ]
  },
  {
   "cell_type": "code",
   "execution_count": 397,
   "metadata": {
    "collapsed": false
   },
   "outputs": [],
   "source": [
    "\n",
    "#def import_csv (fn):\n",
    "def read_in_coordfile (fn, parse_ignore = True):\n",
    "    res = []\n",
    "    with open (fn, newline = '') as f:\n",
    "        rr = csv.reader(f, delimiter = ' ')\n",
    "        err = []\n",
    "        for line in rr:\n",
    "            ar = []\n",
    "            for j in range(len(line)):\n",
    "                try: ar.append(float(line[j]))\n",
    "                except: err.append(line[j])\n",
    "            res.append(np.asarray(ar))\n",
    "    if len(err)> 0 and not parse_ignore: print ('Could not parse on {} instances: {}'.format(len(err), set(err)))\n",
    "    return np.asarray(res)\n",
    "\n",
    "#rr = read_in_coordfile(fn)"
   ]
  },
  {
   "cell_type": "code",
   "execution_count": 471,
   "metadata": {
    "collapsed": false
   },
   "outputs": [
    {
     "name": "stdout",
     "output_type": "stream",
     "text": [
      "(200, 40, 3)\n",
      "(200, 120)\n",
      "(200, 40, 3)\n"
     ]
    }
   ],
   "source": [
    "# Visualize Golgi cells\n",
    "import matplotlib.pyplot as plt\n",
    "from mpl_toolkits.mplot3d import Axes3D\n",
    "%matplotlib inline\n",
    "\n",
    "#read in\n",
    "coord = read_in_coordfile(res_p +'/'+fns['go_coord'])\n",
    "apical = read_in_coordfile(res_p +'/'+fns['go_apical_coord'])\n",
    "basal = read_in_coordfile(res_p +'/'+fns['go_basd_coord'])\n",
    "axon = read_in_coordfile(res_p +'/'+fns['go_axon_coord'])\n",
    "new_ap = read_in_coordfile('new_apical.dat', parse_ignore=False)\n",
    "new_bas = read_in_coordfile('new_basal.dat', parse_ignore=False)\n",
    "new_ax = read_in_coordfile('new_axon.dat', parse_ignore=False)\n",
    "\n",
    "\n",
    "#reshape\n",
    "def coord_reshape (dat):\n",
    "    dat = dat.reshape([dat.shape[0], int(dat.shape[1]/3),3])\n",
    "    return dat\n",
    "\n",
    "\n",
    "apical = apical.reshape([apical.shape[0],int(apical.shape[1]/3),3])\n",
    "basal = basal.reshape([basal.shape[0],int(basal.shape[1]/3),3])\n",
    "axon = axon.reshape([axon.shape[0],int(axon.shape[1]/3),3])\n",
    "print (axon.shape)\n",
    "new_ap = coord_reshape(new_ap)\n",
    "new_bas = coord_reshape(new_bas)\n",
    "print( new_ax.shape)\n",
    "new_ax = coord_reshape(new_ax)\n",
    "print (new_ax.shape)"
   ]
  },
  {
   "cell_type": "code",
   "execution_count": 470,
   "metadata": {
    "collapsed": false
   },
   "outputs": [],
   "source": [
    "ax_x = [-45, 45]\n",
    "ax_y = [-160, 160]\n",
    "ax_z = [-75, 75]\n",
    "n_pts = 40\n",
    "\n",
    "def generate_axon (coord, ax_x, ax_y, ax_z, n_pts):\n",
    "    res = []\n",
    "    for j in range(len(coord)):\n",
    "        ar = np.random.uniform(size = [n_pts, 3])\n",
    "        for i, [low, high] in enumerate([ax_x, ax_y, ax_z]):\n",
    "            ar[:,i] = ar[:,i]*(high-low)+low+coord[j,i]\n",
    "        ar[0,:] = (coord[j,:]) # include point of soma (as done in the original BREP)\n",
    "        res.append(ar.ravel())\n",
    "    return np.asarray(res)\n",
    "\n",
    "my_ax = generate_axon (coord, ax_x, ax_y, ax_z, n_pts)\n",
    "np.savetxt('new_axon.dat', my_ax , delimiter=' ')\n",
    "\n"
   ]
  },
  {
   "cell_type": "code",
   "execution_count": 472,
   "metadata": {
    "collapsed": false
   },
   "outputs": [
    {
     "data": {
      "image/png": "[encoded data removed]",
      "text/plain": [
       "<matplotlib.figure.Figure at 0x7f44bf54f860>"
      ]
     },
     "metadata": {},
     "output_type": "display_data"
    },
    {
     "data": {
      "image/png": "[encoded data removed]",
      "text/plain": [
       "<matplotlib.figure.Figure at 0x7f44c4f45e48>"
      ]
     },
     "metadata": {},
     "output_type": "display_data"
    }
   ],
   "source": [
    "# plot\n",
    "ns = np.arange(1) #neurons to be plotted.\n",
    "\n",
    "plot_somata = True\n",
    "plot_apical = 0\n",
    "plot_basal = 0\n",
    "plot_axon = 0\n",
    "plot_new_ap = 0\n",
    "plot_new_bas  = 0\n",
    "plot_new_ax = 1\n",
    "overlay = 0\n",
    "\n",
    "options= [\n",
    "    (apical, plot_apical, 'kx'),\n",
    "    (basal, plot_basal, 'gx'), \n",
    "    (axon, plot_axon, 'r.'), \n",
    "    (new_ap, plot_new_ap, 'cx'),\n",
    "    (new_bas, plot_new_bas, 'mx'),\n",
    "    (new_ax, plot_new_ax, 'y.')]\n",
    "\n",
    "\n",
    "fig = plt.figure()\n",
    "ax = fig.gca(projection='3d')\n",
    "if plot_somata: \n",
    "    if not overlay: ax.plot(coord[ns,0], coord[ns,1], coord[ns,2], 'bo')\n",
    "    else: ax.plot ([0],[0],[0],'bo')\n",
    "\n",
    "#plot dendrites and axon.\n",
    "for pts, yn, col in options:\n",
    "    for i in ns:\n",
    "        if yn:\n",
    "            if overlay: pt = pts[i,:,:]-coord[i,:]\n",
    "            else: pt = pts[i,:,:]\n",
    "            ax.plot(pt[:,0], pt[:,1], pt[:,2], col)\n",
    "\n",
    "#ax.view_init(30,180)\n",
    "proj2D = True\n",
    "if proj2D:\n",
    "    plt.figure()\n",
    "    for pts, yn, col in options:\n",
    "        for i in ns:\n",
    "            if yn:\n",
    "                if overlay: pt = pts[i,:,:]-coord[i,:]\n",
    "                else: pt = pts[i,:,:]\n",
    "                plt.plot(pt[:,0], pt[:,1], col)"
   ]
  },
  {
   "cell_type": "code",
   "execution_count": 427,
   "metadata": {
    "collapsed": false
   },
   "outputs": [
    {
     "data": {
      "image/png": "[encoded data removed]",
      "text/plain": [
       "<matplotlib.figure.Figure at 0x7f44bf49a7f0>"
      ]
     },
     "metadata": {},
     "output_type": "display_data"
    }
   ],
   "source": [
    "a_h = 332.0\n",
    "a_r= 100.0\n",
    "b_h = -6.0\n",
    "b_r = 60.0\n",
    "a_m = [30.0, 120.0]\n",
    "b_m = [-20.0, -240.0]\n",
    "b_std = 10.0\n",
    "a_std = 10.0\n",
    "a_sp = 7.5\n",
    "b_sp = 7.5\n",
    "\n",
    "\n",
    "som = coord\n",
    "\n",
    "\n",
    "def gen_dendrites (som, c_r, c_h, c_m, c_std, c_sp, col, plot_fig = False):\n",
    "    c_n = int(np.linalg.norm([c_r, c_h])/c_sp)\n",
    "    c_gr = np.linspace(0,1,c_n)*np.ones((3, c_n))\n",
    "    b_res = []\n",
    "    for i in range(len(som)):\n",
    "        som_c = som[i,:]\n",
    "        d_res = []\n",
    "        for cc_m in c_m:\n",
    "            ep_ang = (np.random.randn()*c_std + cc_m)*np.pi/180\n",
    "            pt = ([np.sin(ep_ang)*c_r, np.cos(ep_ang)*c_r, c_h])*c_gr.T\n",
    "            if plot_fig: ax.plot(pt[:,0], pt[:,1], pt[:,2], col);\n",
    "            d_res.append(pt+som_c)\n",
    "        b_res.append(d_res)\n",
    "    return b_res\n",
    "\n",
    "def dend_to_file_format (dend, save = True):\n",
    "    dd = np.asarray([np.ravel(np.concatenate((dend[i][0], dend[i][1]))) for i in range(len(dend))])\n",
    "    return dd\n",
    "    \n",
    "a_dend = gen_dendrites(som, a_r, a_h, a_m, a_std, a_sp, 'gx')\n",
    "b_dend = gen_dendrites(som, b_r, b_h, b_m, b_std, b_sp, 'kx')\n",
    "\n",
    "af = (dend_to_file_format(a_dend))\n",
    "np.savetxt('new_apical.dat', af, delimiter=' ')\n",
    "\n",
    "bf = (dend_to_file_format(b_dend))\n",
    "np.savetxt('new_basal.dat', bf, delimiter=' ')\n",
    "\n",
    "\n"
   ]
  },
  {
   "cell_type": "code",
   "execution_count": 428,
   "metadata": {
    "collapsed": false
   },
   "outputs": [
    {
     "name": "stdout",
     "output_type": "stream",
     "text": [
      "[[   0.            1.          142.09308533]\n",
      " [   0.            2.          157.44978905]\n",
      " [   0.            3.           43.12415203]\n",
      " ..., \n",
      " [ 199.          196.           65.79048276]\n",
      " [ 199.          197.           95.59447442]\n",
      " [ 199.          198.           17.75951662]]\n",
      "[[  -0.   -0.   -0.]\n",
      " [  -1.    0.  142.]\n",
      " [  -1.    0.  157.]\n",
      " ..., \n",
      " [   3.   -0.   96.]\n",
      " [   3.   -0.  -18.]\n",
      " [  -0.   -0.   -0.]]\n"
     ]
    }
   ],
   "source": [
    "res = np.zeros((40000, 3))\n",
    "for i in range(200):\n",
    "    for j in range(200):\n",
    "        res[i*200+j,:] = coord[i,:]-coord[j,:]\n",
    "#dist = [coord[i,:]-coord[j,:] for i,j in range(200)]\n",
    "dist = read_in_coordfile(res_p +'/'+fns['go_dist'])\n",
    "\n",
    "print (dist)\n",
    "print (np.round(-res))\n",
    "#print (res[1:100,:] + dist[:99,:])\n",
    "#the distances file just contains all possible differences betwween the different Golgi cells, rounded in an inconsistant way."
   ]
  },
  {
   "cell_type": "code",
   "execution_count": 250,
   "metadata": {
    "collapsed": false
   },
   "outputs": [
    {
     "name": "stdout",
     "output_type": "stream",
     "text": [
      "[  56.31006333  113.8559862   110.4045377    15.34303723  107.9276772\n",
      "   94.27480316   56.04726051   59.50642166   38.07129959   76.36443417\n",
      "   47.9885867    54.73232036    9.8691233    65.98634018   41.88766941\n",
      "   58.04680016  112.99076202   15.5543146   119.87818485   10.0483928\n",
      "  103.291404     16.35245464   94.02119516   67.55205461   18.50082904\n",
      "   15.22664819  115.69709246  109.09285366    0.82075037   11.9595946\n",
      "   25.85390636   36.21259885   33.85475679    3.03820216   40.04966157\n",
      "   43.23773634   24.74031385   65.69946128   38.12732945   62.91163291\n",
      "   14.74542281   35.99190708   37.27495948   13.13174009   50.95825049\n",
      "   79.06989875  112.50682176   65.79048276  117.48522206    9.22962467\n",
      "   53.59530878   99.70743204   64.50728449   20.58380682   93.81356417\n",
      "   95.59447442   18.17589638  112.47734432   19.9397943    16.30913634\n",
      "   61.08593857   35.55643808   22.26225624   36.79938365   22.50878582\n",
      "    5.85895196   26.49809677   93.45842923   45.28039136   12.95481222\n",
      "   38.66562495   19.41269051    8.12621171    5.60927963   84.01736424\n",
      "   74.20884803   68.20402378    5.88287995   58.86781215   12.40294833\n",
      "    8.34790785   68.36091408   53.60600758   71.92340987   53.73606336\n",
      "   78.12718554   60.55499174   17.75951662   48.32796189   32.47130006\n",
      "   68.07889999    7.15169956   26.92312919   44.54803879   61.66941451\n",
      "   44.47982425   39.28824631   68.19352132   49.82973161   75.72529064]\n",
      "[[ 204.67474932]\n",
      " [ 143.51234785]\n",
      " [ 139.63910973]\n",
      " ..., \n",
      " [  30.11965264]\n",
      " [  98.62871048]\n",
      " [  68.81562912]]\n"
     ]
    }
   ],
   "source": [
    "## golgi-golgi interactions\n",
    "src = read_in_coordfile(res_p +'/'+fns['go_go_sources'])\n",
    "tar = read_in_coordfile(res_p +'/'+fns['go_go_targets'])\n",
    "dis = read_in_coordfile(res_p +'/'+fns['go_go_dist'])\n",
    "\n",
    "res_n = np.zeros(100)\n",
    "for i in range(100):\n",
    "    #res_n[i] = np.linalg.norm(coord[int(tar[i]),:]-coord[int(src[i]),:])\n",
    "    res_n[i] = (sum((coord[int(tar[i]),:]-coord[int(src[i]),:])**2)**0.5)\n",
    "\n",
    "import networkx as nx+\n",
    "print (res_n)\n",
    "print (dis[:-100])"
   ]
  },
  {
   "cell_type": "raw",
   "metadata": {},
   "source": [
    "#Tracing back the GoC-GoC-dist funciton\n",
    "(GoC-GoC-distances (kd-tree->list* GoC-Soma-Points) my-comm myrank size\n",
    "                               (or (options 'output) \"GoC\")\n",
    "                               (or (options 'goc-start) 0))\n",
    "                                \n",
    "   output -> output prefix\n",
    "   goc-start -> default 0\n",
    "   size -> something MPI-ish\n",
    "   GoC-Soma-Points\n",
    "       car goc-points file\n",
    "                 (let ((GoC-grid (car (Grid (/ x-extent 2.) (/ y-extent 2.) (/ z-extent 2.) boundary))))\n",
    "                  (car (ClusteredRandomPointProcess \n",
    "                      GoC-grid\n",
    "                      (or (config 'numGoC) (options 'num-goc) (defopt 'num-goc))\n",
    "                      (or (config 'meanGoCdistance) (options 'mean-goc-distance) (defopt 'mean-goc-distance)) \n",
    "                      (car (get-rng-seeds)) (car (get-rng-seeds) )\n",
    "                      boundary)))))\n"
   ]
  },
  {
   "cell_type": "code",
   "execution_count": 414,
   "metadata": {
    "collapsed": false
   },
   "outputs": [
    {
     "ename": "KeyboardInterrupt",
     "evalue": "",
     "output_type": "error",
     "traceback": [
      "\u001b[1;31m---------------------------------------------------------------------------\u001b[0m",
      "\u001b[1;31mKeyboardInterrupt\u001b[0m                         Traceback (most recent call last)",
      "\u001b[1;32m<ipython-input-414-ca1429318fe0>\u001b[0m in \u001b[0;36m<module>\u001b[1;34m()\u001b[0m\n\u001b[0;32m      2\u001b[0m     \u001b[1;31m#print ('Read in file: ', v)\u001b[0m\u001b[1;33m\u001b[0m\u001b[1;33m\u001b[0m\u001b[0m\n\u001b[0;32m      3\u001b[0m     \u001b[0mc_p\u001b[0m \u001b[1;33m=\u001b[0m \u001b[0mos\u001b[0m\u001b[1;33m.\u001b[0m\u001b[0mgetcwd\u001b[0m\u001b[1;33m(\u001b[0m\u001b[1;33m)\u001b[0m\u001b[1;33m+\u001b[0m\u001b[1;34m'/output_1/'\u001b[0m\u001b[1;33m+\u001b[0m\u001b[0mv\u001b[0m\u001b[1;33m\u001b[0m\u001b[0m\n\u001b[1;32m----> 4\u001b[1;33m     \u001b[0mcur\u001b[0m \u001b[1;33m=\u001b[0m \u001b[0mread_in_coordfile\u001b[0m\u001b[1;33m(\u001b[0m\u001b[0mc_p\u001b[0m\u001b[1;33m)\u001b[0m\u001b[1;33m\u001b[0m\u001b[0m\n\u001b[0m\u001b[0;32m      5\u001b[0m \u001b[1;33m\u001b[0m\u001b[0m\n\u001b[0;32m      6\u001b[0m     \u001b[0mc_p2\u001b[0m \u001b[1;33m=\u001b[0m \u001b[0mos\u001b[0m\u001b[1;33m.\u001b[0m\u001b[0mgetcwd\u001b[0m\u001b[1;33m(\u001b[0m\u001b[1;33m)\u001b[0m\u001b[1;33m+\u001b[0m\u001b[1;34m'/output_2/'\u001b[0m\u001b[1;33m+\u001b[0m\u001b[0mv\u001b[0m\u001b[1;33m\u001b[0m\u001b[0m\n",
      "\u001b[1;32m<ipython-input-397-f7670c4e928d>\u001b[0m in \u001b[0;36mread_in_coordfile\u001b[1;34m(fn, parse_ignore)\u001b[0m\n\u001b[0;32m     11\u001b[0m                 \u001b[1;32mtry\u001b[0m\u001b[1;33m:\u001b[0m \u001b[0mar\u001b[0m\u001b[1;33m.\u001b[0m\u001b[0mappend\u001b[0m\u001b[1;33m(\u001b[0m\u001b[0mfloat\u001b[0m\u001b[1;33m(\u001b[0m\u001b[0mline\u001b[0m\u001b[1;33m[\u001b[0m\u001b[0mj\u001b[0m\u001b[1;33m]\u001b[0m\u001b[1;33m)\u001b[0m\u001b[1;33m)\u001b[0m\u001b[1;33m\u001b[0m\u001b[0m\n\u001b[0;32m     12\u001b[0m                 \u001b[1;32mexcept\u001b[0m\u001b[1;33m:\u001b[0m \u001b[0merr\u001b[0m\u001b[1;33m.\u001b[0m\u001b[0mappend\u001b[0m\u001b[1;33m(\u001b[0m\u001b[0mline\u001b[0m\u001b[1;33m[\u001b[0m\u001b[0mj\u001b[0m\u001b[1;33m]\u001b[0m\u001b[1;33m)\u001b[0m\u001b[1;33m\u001b[0m\u001b[0m\n\u001b[1;32m---> 13\u001b[1;33m             \u001b[0mres\u001b[0m\u001b[1;33m.\u001b[0m\u001b[0mappend\u001b[0m\u001b[1;33m(\u001b[0m\u001b[0mnp\u001b[0m\u001b[1;33m.\u001b[0m\u001b[0masarray\u001b[0m\u001b[1;33m(\u001b[0m\u001b[0mar\u001b[0m\u001b[1;33m)\u001b[0m\u001b[1;33m)\u001b[0m\u001b[1;33m\u001b[0m\u001b[0m\n\u001b[0m\u001b[0;32m     14\u001b[0m     \u001b[1;32mif\u001b[0m \u001b[0mlen\u001b[0m\u001b[1;33m(\u001b[0m\u001b[0merr\u001b[0m\u001b[1;33m)\u001b[0m\u001b[1;33m>\u001b[0m \u001b[1;36m0\u001b[0m \u001b[1;32mand\u001b[0m \u001b[1;32mnot\u001b[0m \u001b[0mparse_ignore\u001b[0m\u001b[1;33m:\u001b[0m \u001b[0mprint\u001b[0m \u001b[1;33m(\u001b[0m\u001b[1;34m'Could not parse on {} instances: {}'\u001b[0m\u001b[1;33m.\u001b[0m\u001b[0mformat\u001b[0m\u001b[1;33m(\u001b[0m\u001b[0mlen\u001b[0m\u001b[1;33m(\u001b[0m\u001b[0merr\u001b[0m\u001b[1;33m)\u001b[0m\u001b[1;33m,\u001b[0m \u001b[0mset\u001b[0m\u001b[1;33m(\u001b[0m\u001b[0merr\u001b[0m\u001b[1;33m)\u001b[0m\u001b[1;33m)\u001b[0m\u001b[1;33m)\u001b[0m\u001b[1;33m\u001b[0m\u001b[0m\n\u001b[0;32m     15\u001b[0m     \u001b[1;32mreturn\u001b[0m \u001b[0mnp\u001b[0m\u001b[1;33m.\u001b[0m\u001b[0masarray\u001b[0m\u001b[1;33m(\u001b[0m\u001b[0mres\u001b[0m\u001b[1;33m)\u001b[0m\u001b[1;33m\u001b[0m\u001b[0m\n",
      "\u001b[1;32m/home/ines/Applications/anaconda3/lib/python3.5/site-packages/numpy/core/numeric.py\u001b[0m in \u001b[0;36masarray\u001b[1;34m(a, dtype, order)\u001b[0m\n\u001b[0;32m    529\u001b[0m \u001b[1;33m\u001b[0m\u001b[0m\n\u001b[0;32m    530\u001b[0m     \"\"\"\n\u001b[1;32m--> 531\u001b[1;33m     \u001b[1;32mreturn\u001b[0m \u001b[0marray\u001b[0m\u001b[1;33m(\u001b[0m\u001b[0ma\u001b[0m\u001b[1;33m,\u001b[0m \u001b[0mdtype\u001b[0m\u001b[1;33m,\u001b[0m \u001b[0mcopy\u001b[0m\u001b[1;33m=\u001b[0m\u001b[1;32mFalse\u001b[0m\u001b[1;33m,\u001b[0m \u001b[0morder\u001b[0m\u001b[1;33m=\u001b[0m\u001b[0morder\u001b[0m\u001b[1;33m)\u001b[0m\u001b[1;33m\u001b[0m\u001b[0m\n\u001b[0m\u001b[0;32m    532\u001b[0m \u001b[1;33m\u001b[0m\u001b[0m\n\u001b[0;32m    533\u001b[0m \u001b[1;33m\u001b[0m\u001b[0m\n",
      "\u001b[1;31mKeyboardInterrupt\u001b[0m: "
     ]
    }
   ],
   "source": [
    "for k, v in fns.items():\n",
    "    #print ('Read in file: ', v)\n",
    "    c_p = os.getcwd()+'/output_1/'+v\n",
    "    cur = read_in_coordfile(c_p)\n",
    "    \n",
    "    c_p2 = os.getcwd()+'/output_2/'+v\n",
    "    cur2 = read_in_coordfile(c_p2)\n",
    "\n",
    "    #print ('Shape 1 is: ', cur.shape)\n",
    "    #print ('Shape 2 is: ', cur2.shape)\n",
    "    \n",
    "    #print ('First elements in 1 are:', cur.flatten()[:15])\n",
    "    #print ('First elements in 2 are:', cur2.flatten()[:15])\n",
    "    \n",
    "    #print (' ')"
   ]
  },
  {
   "cell_type": "markdown",
   "metadata": {},
   "source": [
    "On kd-Trees:\n",
    "- binary search stree\n",
    "    - every branching node contains a k-dimensional point\n",
    "    - every leaf node contains a set of points\n",
    "- every branching node represents a splitting hyperplane that divides the space into two half-spaces    \n",
    "    - left of the splitting hyperplane = left subtree, same for richt\n",
    "    - each spliitting hyperplane is perpendicular to one of the axes in the k-dimensional space\n",
    "    - the axes for the splitting hyperplanes are rotating\n",
    "\n",
    "On the chicken kd-tree library:\n",
    "- works with datastructure POINT3D\n",
    "    - constructor: make-point3d dbl dbl dbl \n",
    "    - accessors point3d-x /y/z\n",
    "    - predicate: point3d?\n",
    "- KD-Tree itself\n",
    "    - constructor: list->kd-tree (list of POINT3D)\n",
    "    - predicates: kd-tree? -> checks object, kd-tree-empty?, \n",
    "        - kd-tree-is-valid? -> checks if all points in subtree lie on left side of hyperplane and right on right\n",
    "        - kd-tree-all-subtrees-are-valid? -> valid property for all branching nodes?\n",
    "    - accessors: \n",
    "        - kd-tree->list  -> all the points contained in tree in a POINT3D list\n",
    "        - kd-tree->list\\* -> list with elements of the form (i . POINT3D) -> i is the relative integer index of the point\n",
    "     \n",
    "for other accessors, the author was not motivated enough to write a description.\n"
   ]
  },
  {
   "cell_type": "code",
   "execution_count": 132,
   "metadata": {
    "collapsed": false
   },
   "outputs": [
    {
     "name": "stdout",
     "output_type": "stream",
     "text": [
      "(200, 72)\n"
     ]
    },
    {
     "ename": "ValueError",
     "evalue": "cannot reshape array of size 72 into shape (50,3)",
     "output_type": "error",
     "traceback": [
      "\u001b[1;31m---------------------------------------------------------------------------\u001b[0m",
      "\u001b[1;31mValueError\u001b[0m                                Traceback (most recent call last)",
      "\u001b[1;32m<ipython-input-132-f6a7f8def76f>\u001b[0m in \u001b[0;36m<module>\u001b[1;34m()\u001b[0m\n\u001b[0;32m      8\u001b[0m     \u001b[0mplt\u001b[0m\u001b[1;33m.\u001b[0m\u001b[0mfigure\u001b[0m\u001b[1;33m(\u001b[0m\u001b[1;33m)\u001b[0m\u001b[1;33m\u001b[0m\u001b[0m\n\u001b[0;32m      9\u001b[0m     \u001b[1;32mfor\u001b[0m \u001b[0mi\u001b[0m \u001b[1;32min\u001b[0m \u001b[0mrange\u001b[0m\u001b[1;33m(\u001b[0m\u001b[0mlen\u001b[0m\u001b[1;33m(\u001b[0m\u001b[0mrr\u001b[0m\u001b[1;33m)\u001b[0m\u001b[1;33m)\u001b[0m\u001b[1;33m:\u001b[0m\u001b[1;33m\u001b[0m\u001b[0m\n\u001b[1;32m---> 10\u001b[1;33m         \u001b[0mg\u001b[0m \u001b[1;33m=\u001b[0m \u001b[0mrr\u001b[0m\u001b[1;33m[\u001b[0m\u001b[0mi\u001b[0m\u001b[1;33m,\u001b[0m\u001b[1;33m:\u001b[0m\u001b[1;33m]\u001b[0m\u001b[1;33m.\u001b[0m\u001b[0mreshape\u001b[0m\u001b[1;33m(\u001b[0m\u001b[1;33m[\u001b[0m\u001b[1;36m50\u001b[0m\u001b[1;33m,\u001b[0m\u001b[1;36m3\u001b[0m\u001b[1;33m]\u001b[0m\u001b[1;33m)\u001b[0m\u001b[1;33m\u001b[0m\u001b[0m\n\u001b[0m\u001b[0;32m     11\u001b[0m         \u001b[0mplt\u001b[0m\u001b[1;33m.\u001b[0m\u001b[0mplot\u001b[0m\u001b[1;33m(\u001b[0m\u001b[0mg\u001b[0m\u001b[1;33m[\u001b[0m\u001b[1;33m:\u001b[0m\u001b[1;36m25\u001b[0m\u001b[1;33m,\u001b[0m\u001b[0mj\u001b[0m\u001b[1;33m]\u001b[0m\u001b[1;33m)\u001b[0m\u001b[1;33m\u001b[0m\u001b[0m\n\u001b[0;32m     12\u001b[0m         \u001b[0mplt\u001b[0m\u001b[1;33m.\u001b[0m\u001b[0mplot\u001b[0m\u001b[1;33m(\u001b[0m\u001b[0mg\u001b[0m\u001b[1;33m[\u001b[0m\u001b[1;36m25\u001b[0m\u001b[1;33m:\u001b[0m\u001b[1;33m,\u001b[0m\u001b[0mj\u001b[0m\u001b[1;33m]\u001b[0m\u001b[1;33m)\u001b[0m\u001b[1;33m\u001b[0m\u001b[0m\n",
      "\u001b[1;31mValueError\u001b[0m: cannot reshape array of size 72 into shape (50,3)"
     ]
    },
    {
     "data": {
      "text/plain": [
       "<matplotlib.figure.Figure at 0x7f44c06282b0>"
      ]
     },
     "metadata": {},
     "output_type": "display_data"
    }
   ],
   "source": [
    "print (rr.shape)\n",
    "ri = rr[:,0]\n",
    "ro = rr[0,:]\n",
    "\n",
    "import matplotlib.pyplot as plt\n",
    "%matplotlib inline\n",
    "for j in range(3):\n",
    "    plt.figure()\n",
    "    for i in range(len(rr)):\n",
    "        g = rr[i,:].reshape([50,3])\n",
    "        plt.plot(g[:25,j])\n",
    "        plt.plot(g[25:,j])\n",
    "        \n",
    "plt.figure()\n",
    "for i in range(len(rr)):\n",
    "    g = rr[i,:].reshape([50,3])\n",
    "    plt.plot(g[24,0], g[24,1], 'kx')\n",
    "    plt.plot(g[49,0], g[49,1], 'rx')"
   ]
  },
  {
   "cell_type": "markdown",
   "metadata": {
    "collapsed": true
   },
   "source": [
    "### Checking out the kd-tree libraries\n",
    "\n",
    "Scipy:\n",
    "- Documentation: https://docs.scipy.org/doc/scipy-0.14.0/reference/generated/scipy.spatial.KDTree.html\n",
    "- Source Code: https://github.com/scipy/scipy/blob/master/scipy/spatial/kdtree.py\n",
    "- Algorithm reference Maneewongvatana and Mount 1999\n",
    "- Can be queried for r nearest neighbors, however r should be relatively small because elsewise, brute force is just as efficient.\n",
    "- Approximate nearest neighbors seems to be another, and much faster option, and might work well for us.\n",
    "- Uses pythonic libraries. \n",
    "- The heap queue algorithm: https://github.com/python/cpython/blob/2.7/Lib/heapq.py seems to be used, but it is also in python\n",
    "\n",
    "\n",
    "SKlearn:\n",
    "- Documentation: http://scikit-learn.org/stable/modules/generated/sklearn.neighbors.KDTree.html\n",
    "- Source Code: https://github.com/scikit-learn/scikit-learn/blob/master/sklearn/neighbors/kd_tree.pyx\n",
    "- uses cython. Might thus be faster. Let's check.\n",
    "\n",
    "\n",
    "Neither of them appears to have parallelization supported right from the beginning.\n",
    "Both just take regular arrays as inputs.\n",
    "\n",
    "\n",
    "Could be interesting:\n",
    "http://ieeexplore.ieee.org/abstract/document/5654017/?reload=true\n",
    "GPU implementation for kNN search\n",
    "Following this:\n",
    "https://link.springer.com/chapter/10.1007/978-3-642-38628-2_67\n",
    "\n"
   ]
  },
  {
   "cell_type": "code",
   "execution_count": 50,
   "metadata": {
    "collapsed": true
   },
   "outputs": [],
   "source": [
    "from scipy.spatial import KDTree as T_sp\n",
    "from sklearn.neighbors import KDTree as T_sk\n",
    "s_dat = np.asarray(import_csv(fn_out))\n",
    "import time\n",
    "\n",
    "rn = np.random.randint(0, len(s_dat), 50)\n",
    "nn = 10"
   ]
  },
  {
   "cell_type": "code",
   "execution_count": 51,
   "metadata": {
    "collapsed": false
   },
   "outputs": [
    {
     "name": "stdout",
     "output_type": "stream",
     "text": [
      "(798000, 3)\n"
     ]
    }
   ],
   "source": [
    "print (s_dat.shape)"
   ]
  },
  {
   "cell_type": "code",
   "execution_count": 60,
   "metadata": {
    "collapsed": false
   },
   "outputs": [],
   "source": [
    "k_dist = np.zeros((len(rn), nn))\n",
    "k_ind = np.zeros((len(rn), nn))\n",
    "tk0 = time.time()\n",
    "kt = T_sk(s_dat)\n",
    "tk1 = time.time()\n",
    "for i, ii in enumerate(rn):\n",
    "    warnings.simplefilter('ignore') #definitely not ideal. But no clue how the validation file gets called\n",
    "    k_dist[i,:], k_ind [i,:] = kt.query(s_dat[ii,:], k = nn)\n",
    "tk2 = time.time()"
   ]
  },
  {
   "cell_type": "code",
   "execution_count": 410,
   "metadata": {
    "collapsed": false
   },
   "outputs": [
    {
     "name": "stdout",
     "output_type": "stream",
     "text": [
      "(10, 276)\n",
      "(10, 92, 3)\n"
     ]
    },
    {
     "data": {
      "text/plain": [
       "\"with open ('new_apical2.dat', 'wb', newline = '') as f_out:\\n    wr = csv.writer(f_out, delimiter = ' ')\\n    ff = dend_to_file_format(a_dend)\\n    for row in ff:\\n        print (row)\\n        wr.writerow([ff[i,j] for j in range(len(ff[i,:]))])\""
      ]
     },
     "execution_count": 410,
     "metadata": {},
     "output_type": "execute_result"
    }
   ],
   "source": [
    "\n",
    "\n",
    "\n",
    "import pickle as pkl\n",
    "'''with open ('new_apical2.dat', 'wb', newline = '') as f_out:\n",
    "    wr = csv.writer(f_out, delimiter = ' ')\n",
    "    ff = dend_to_file_format(a_dend)\n",
    "    for row in ff:\n",
    "        print (row)\n",
    "        wr.writerow([ff[i,j] for j in range(len(ff[i,:]))])\n",
    "        \n",
    "ff.T.tofile('new_apical.dat',sep=' ',format='%10.5f')\n",
    "'''"
   ]
  },
  {
   "cell_type": "code",
   "execution_count": 53,
   "metadata": {
    "collapsed": true
   },
   "outputs": [],
   "source": [
    "p_dist = np.zeros((len(rn), nn))\n",
    "p_ind = np.zeros((len(rn), nn))\n",
    "tp0 = time.time()\n",
    "pt = T_sp(s_dat)\n",
    "tp1 = time.time()\n",
    "for i, ii in enumerate(rn):\n",
    "    p_dist[i,:], p_ind [i,:] = pt.query(s_dat[ii,:], k = nn)\n",
    "tp2 = time.time()"
   ]
  },
  {
   "cell_type": "code",
   "execution_count": 70,
   "metadata": {
    "collapsed": false
   },
   "outputs": [
    {
     "name": "stdout",
     "output_type": "stream",
     "text": [
      "1.112079381942749\n",
      "4.108412981033325\n",
      "0.004629611968994141\n",
      "0.04588818550109863\n"
     ]
    }
   ],
   "source": [
    "#Here is the first, blunt comparison of both algorithms in terms of time:\n",
    "print (tk1-tk0)\n",
    "print (tp1-tp0)\n",
    "\n",
    "print (tk2-tk1)\n",
    "print (tp2-tp1)\n",
    "#Scikit-learn is way faster.\n",
    "\n",
    "#print (np.isclose (k_dist, p_dist))\n",
    "#print (k_ind -p_ind) \n",
    "# Where the indices are not the same it is because the distances are equal."
   ]
  },
  {
   "cell_type": "code",
   "execution_count": 90,
   "metadata": {
    "collapsed": false
   },
   "outputs": [],
   "source": [
    "# Reading in, subsampling and storing again the csv files in order to have a smaller dataset at hand that has a similar density anyway.\n",
    "\n",
    "import csv\n",
    "\n",
    "fn_in = 'input_files/GCTcoordinates.dat'\n",
    "fn_out = 'input_files/GCT_small.dat' #100x150 -> 11 k\n",
    "fn_out2 = 'input_files/GCT_smallsmall.dat' #30x100 -> 2.2k\n",
    "fn_out3 = 'input_files/GCT_tiny.dat' # 2x5 ->  6\n",
    "\n",
    "x_r = [0.0, 2.0]\n",
    "y_r = [0.0, 5.0]\n",
    "z_r = [0.0, 1000.0]\n",
    "rrs = [x_r, y_r, z_r]\n",
    "\n",
    "def subsample_coords (rrs, fn_in, fn_out = 'input_files/downsampled.dat', save = True):\n",
    "    res = []\n",
    "    rnr = [0, 0]\n",
    "    with open(fn_in, newline = '') as f, open (fn_out, 'w', newline = '') as w_f:\n",
    "        rr = csv.reader(f, delimiter = ' ')\n",
    "        if save: wr = csv.writer(w_f, delimiter = ' ')\n",
    "        for line in rr:\n",
    "            in_range = all([float(line[i])>rrs[i][0] and float(line[i])<rrs[i][1] for i in range(len(rrs))]) #check if in range\n",
    "            if in_range: \n",
    "                if save: wr.writerow([float(line[j]) for j in range(len(rrs))])\n",
    "                res.append([float(line[j]) for j in range(len(rrs))])\n",
    "                rnr[0] = rnr[0]+1\n",
    "            else:\n",
    "                rnr[1] = rnr[1]+1\n",
    "    print ('Subsampled {} of {}'.format(rnr[0], rnr[1]))\n",
    "    return res\n",
    "\n",
    "#my_s = subsample_coords (rrs, fn_in, fn_out3, save = True)\n",
    "\n",
    "def import_csv (fn):\n",
    "    res = []\n",
    "    with open (fn, newline = '') as f:\n",
    "        rr = csv.reader(f, delimiter = ' ')\n",
    "        for line in rr:\n",
    "            res.append([float(line[j]) for j in range(len(line))])\n",
    "    return np.asarray(res)\n"
   ]
  },
  {
   "cell_type": "markdown",
   "metadata": {},
   "source": [
    "# Random and deprecated stuff below this."
   ]
  },
  {
   "cell_type": "code",
   "execution_count": 39,
   "metadata": {
    "collapsed": false
   },
   "outputs": [
    {
     "name": "stdout",
     "output_type": "stream",
     "text": [
      "Nseg for APical is 5 and Basal is 3\n",
      "\t36 \n"
     ]
    }
   ],
   "source": [
    "# Development site for the read_in_config function.\n",
    "\n",
    "#from neuron import hoc, h\n",
    "# weird thing that I did not get yet: despite all the copy statements, the second time you calculate d_l, it would give 0. \n",
    "# Thus, the hoc objects must somehow take on each other's parameters... \n",
    "\n",
    "#load an empty hoc object and find out which parameters are native to that object (probably useless...)\n",
    "empty_hoc = dir(neuron.hoc.HocObject()).copy()\n",
    "config_fn = './input_files/Parameters.hoc'\n",
    "overwrite_config =  True\n",
    "#load our own hoc object from the parameter file, get the disjunct list of parameters (probably useless...)\n",
    "neuron.h.xopen(config_fn)\n",
    "full_hoc = dir(neuron.h)\n",
    "if 'd_l' not in globals():\n",
    "    d_l = list (set (full_hoc)  - set (empty_hoc)).copy()\n",
    "\n",
    "#c_d = b.config_dict\n",
    "c_d = dict((v,k) for k,v in b.config_dict.items()) #exchange key and value\n",
    "#this dict translates the parameters used in the Parameters file to the ones used in the code\n",
    "# Check if the Brep object contains the right parameters and if so, change them.\n",
    "# Note: Resolve conflicts with the command line - I think default should be that command line should has priority \n",
    "self = b\n",
    "for h_k in full_hoc:\n",
    "    if h_k in c_d.keys() and h_k not in self.cl_args.keys():\n",
    "        if hasattr (self.args, c_d[h_k]):\n",
    "            setattr (self.args, c_d[h_k], getattr (neuron.h, h_k))\n",
    "        else:\n",
    "            print ('Did not find {}'.format(c_d[h_k]))\n",
    "    elif h_k in c_d.keys() and h_k in self.cl_args.keys():\n",
    "        if hasattr (self.args, c_d[h_k]):\n",
    "            if overwrite_config:\n",
    "                warnings.warn('Parameter {} was set both by command line and in config, will use value from command line'.format(c_d[h_k]))\n",
    "            else:\n",
    "                warnings.warn('Parameter {} was set both by command line and in config, will use value from config file'.format(c_d[h_k]))\n",
    "                setattr (self.args, c_d[h_k], getattr (neuron.h, h_k))\n",
    "    \n",
    "# The following two parameters are an exception:\n",
    "if 'GLdepth' in d_l and 'PCLdepth' in d_l and not 'aa-length' in self.cl_args.keys():\n",
    "    setattr (self.args, 'aa-length', getattr(neuron.h, 'GLdepth')+getattr(neuron.h,'PCLdepth'))\n",
    "    \n"
   ]
  },
  {
   "cell_type": "code",
   "execution_count": 41,
   "metadata": {
    "collapsed": false
   },
   "outputs": [
    {
     "ename": "ImportError",
     "evalue": "No module named 'neuron'",
     "output_type": "error",
     "traceback": [
      "\u001b[1;31m---------------------------------------------------------------------------\u001b[0m",
      "\u001b[1;31mImportError\u001b[0m                               Traceback (most recent call last)",
      "\u001b[1;32m<ipython-input-41-673f2528413f>\u001b[0m in \u001b[0;36m<module>\u001b[1;34m()\u001b[0m\n\u001b[0;32m      3\u001b[0m \u001b[1;31m#Had to be done only once, but will be kept for reference.\u001b[0m\u001b[1;33m\u001b[0m\u001b[1;33m\u001b[0m\u001b[0m\n\u001b[0;32m      4\u001b[0m \u001b[1;33m\u001b[0m\u001b[0m\n\u001b[1;32m----> 5\u001b[1;33m \u001b[1;32mfrom\u001b[0m \u001b[0mneuron\u001b[0m \u001b[1;32mimport\u001b[0m \u001b[0mhoc\u001b[0m\u001b[1;33m,\u001b[0m \u001b[0mh\u001b[0m\u001b[1;33m\u001b[0m\u001b[0m\n\u001b[0m\u001b[0;32m      6\u001b[0m \u001b[1;31m# weird thing that I did not get yet: despite all the copy statements, the second time you calculate d_l, it would give 0.\u001b[0m\u001b[1;33m\u001b[0m\u001b[1;33m\u001b[0m\u001b[0m\n\u001b[0;32m      7\u001b[0m \u001b[1;31m# Thus, the hoc objects must somehow take on each other's parameters...\u001b[0m\u001b[1;33m\u001b[0m\u001b[1;33m\u001b[0m\u001b[0m\n",
      "\u001b[1;31mImportError\u001b[0m: No module named 'neuron'"
     ]
    }
   ],
   "source": [
    "### The transformations of the parameters, automized in a small parser script.\n",
    "\n",
    "#Had to be done only once, but will be kept for reference.\n",
    "\n",
    "from neuron import hoc, h\n",
    "# weird thing that I did not get yet: despite all the copy statements, the second time you calculate d_l, it would give 0. \n",
    "# Thus, the hoc objects must somehow take on each other's parameters... \n",
    "\n",
    "#load an empty hoc object and find out which parameters are native to that object (probably useless...)\n",
    "empty_hoc = dir(hoc.HocObject()).copy()\n",
    "config_fn = './input_files/Parameters.hoc'\n",
    "#load our own hoc object from the parameter file, get the disjunct list of parameters (probably useless...)\n",
    "h.xopen(config_fn)\n",
    "full_hoc = dir(h).copy()\n",
    "if 'd_l' not in globals():\n",
    "    d_l = list (set (full_hoc)  - set (empty_hoc)).copy()\n",
    "\n",
    "# Code file\n",
    "tf = 'brep_commented.scm'\n",
    "# Step one: parse all lines that contain both config or options as those are the ones that \n",
    "res_dict = {}\n",
    "with open (tf, 'rb') as tff:\n",
    "    for line in tff:\n",
    "        st = str(line)\n",
    "        c = st.find (\"config '\")\n",
    "        o = st.find (\"options '\") \n",
    "        if c > 0 and o > 0:\n",
    "            c_clb = st[c:].find (')')\n",
    "            o_clb = st[o:].find (')')\n",
    "            res_dict[st[c+8:c+c_clb]] = st[o+9:o+o_clb] \n",
    "    tff.close()\n",
    "\n",
    "#parameters that are defined in the res file but have not been parsed yet\n",
    "rest_hk = (set (d_l)- set(res_dict.keys()))\n",
    "rem = {}\n",
    "#check if they occur in the code\n",
    "with open ('brep_commented.scm', 'rb') as f_in:\n",
    "    n = 0\n",
    "    for line in f_in:\n",
    "        n = n+1\n",
    "        for w in rest_hk:\n",
    "            if str(line).find(w)>0:\n",
    "                if w in rem.keys():\n",
    "                    rem[w].append(n)\n",
    "                else:\n",
    "                    rem[w] = [n]                  \n",
    "print (rem) # 'TS is coincidental, the other two parameters are taken seperate care of.\n",
    "\n",
    "#print the resulting dict to a file.\n",
    "with open ('par_d2.txt', 'w') as f_out:\n",
    "    for k in res_dict.keys():\n",
    "        f_out.write(\"'\" +res_dict[k]+ \"' : '\"+k+ \"', \\n\" )\n",
    "\n",
    "#print (res_dict)"
   ]
  },
  {
   "cell_type": "code",
   "execution_count": 5,
   "metadata": {
    "collapsed": false
   },
   "outputs": [
    {
     "name": "stdout",
     "output_type": "stream",
     "text": [
      "I\r\n",
      "Traceback (most recent call last):\r\n",
      "  File \"/home/ines/Desktop/LabRot_OIST/pybrep/BREPpy.py\", line 134, in <module>\r\n",
      "    Brep().initialize_and_dump()\r\n",
      "  File \"/home/ines/Desktop/LabRot_OIST/pybrep/BREPpy.py\", line 123, in initialize_and_dump\r\n",
      "    self.cl_args = self.parser.convert_arg_line_to_args()\r\n",
      "TypeError: convert_arg_line_to_args() missing 1 required positional argument: 'arg_line'\r\n"
     ]
    },
    {
     "ename": "FileNotFoundError",
     "evalue": "[Errno 2] No such file or directory: './tmp.pkl'",
     "output_type": "error",
     "traceback": [
      "\u001b[1;31m---------------------------------------------------------------------------\u001b[0m",
      "\u001b[1;31mFileNotFoundError\u001b[0m                         Traceback (most recent call last)",
      "\u001b[1;32m<ipython-input-5-c22c446b07d9>\u001b[0m in \u001b[0;36m<module>\u001b[1;34m()\u001b[0m\n\u001b[0;32m     22\u001b[0m arg_dict = {'config_file': 'blabla.c',\n\u001b[0;32m     23\u001b[0m             'verbose': True}\n\u001b[1;32m---> 24\u001b[1;33m \u001b[0mb\u001b[0m \u001b[1;33m=\u001b[0m \u001b[0mnew_Brep\u001b[0m\u001b[1;33m(\u001b[0m\u001b[0marg_dict\u001b[0m\u001b[1;33m,\u001b[0m \u001b[0mgc_points_fn\u001b[0m \u001b[1;33m=\u001b[0m \u001b[1;34m'yipyip'\u001b[0m \u001b[1;33m)\u001b[0m\u001b[1;33m\u001b[0m\u001b[0m\n\u001b[0m",
      "\u001b[1;32m<ipython-input-5-c22c446b07d9>\u001b[0m in \u001b[0;36mnew_Brep\u001b[1;34m(arg_dict, **kwargs)\u001b[0m\n\u001b[0;32m      6\u001b[0m     \u001b[1;32mif\u001b[0m \u001b[1;32mTrue\u001b[0m\u001b[1;33m:\u001b[0m \u001b[1;31m#delete and make new Brep file\u001b[0m\u001b[1;33m\u001b[0m\u001b[0m\n\u001b[0;32m      7\u001b[0m         \u001b[0mget_ipython\u001b[0m\u001b[1;33m(\u001b[0m\u001b[1;33m)\u001b[0m\u001b[1;33m.\u001b[0m\u001b[0msystem\u001b[0m\u001b[1;33m(\u001b[0m\u001b[1;34m' python ~/Desktop/LabRot_OIST/pybrep/BREPpy.py --config_file blabla '\u001b[0m\u001b[1;33m)\u001b[0m\u001b[1;33m\u001b[0m\u001b[0m\n\u001b[1;32m----> 8\u001b[1;33m         \u001b[0ma\u001b[0m \u001b[1;33m=\u001b[0m \u001b[0mpkl\u001b[0m\u001b[1;33m.\u001b[0m\u001b[0mload\u001b[0m\u001b[1;33m(\u001b[0m\u001b[0mopen\u001b[0m\u001b[1;33m(\u001b[0m\u001b[1;34m'./tmp.pkl'\u001b[0m\u001b[1;33m,\u001b[0m \u001b[1;34m'rb'\u001b[0m\u001b[1;33m)\u001b[0m\u001b[1;33m)\u001b[0m\u001b[1;33m\u001b[0m\u001b[0m\n\u001b[0m\u001b[0;32m      9\u001b[0m         \u001b[0mget_ipython\u001b[0m\u001b[1;33m(\u001b[0m\u001b[1;33m)\u001b[0m\u001b[1;33m.\u001b[0m\u001b[0msystem\u001b[0m\u001b[1;33m(\u001b[0m\u001b[1;34m' rm tmp.pkl'\u001b[0m\u001b[1;33m)\u001b[0m\u001b[1;33m\u001b[0m\u001b[0m\n\u001b[0;32m     10\u001b[0m         \u001b[0mb\u001b[0m \u001b[1;33m=\u001b[0m \u001b[0mBrep2\u001b[0m\u001b[1;33m(\u001b[0m\u001b[0ma\u001b[0m\u001b[1;33m)\u001b[0m\u001b[1;33m\u001b[0m\u001b[0m\n",
      "\u001b[1;31mFileNotFoundError\u001b[0m: [Errno 2] No such file or directory: './tmp.pkl'"
     ]
    }
   ],
   "source": [
    "#Used this to try out command line calls. \n",
    "\n",
    "#Brep = importlib.reload(BREPpy)\n",
    "#stupid workaround so that the known command line call can be kept up.\n",
    "#I think I changed something, would have to git checkout....\n",
    "class Brep2 (Brep, b):\n",
    "    def __init__:\n",
    "        self.args = b.args\n",
    "        self.config_dict = b.config_dict\n",
    "        self.cl_args = b.cl_args\n",
    "        \n",
    "\n",
    "\n",
    "def new_Brep (arg_dict = {}, **kwargs):\n",
    "    if True: #delete and make new Brep file\n",
    "        ! python ~/Desktop/LabRot_OIST/pybrep/BREPpy.py --config_file blabla \n",
    "        a = pkl.load(open('./tmp.pkl', 'rb'))\n",
    "        ! rm tmp.pkl\n",
    "        b = Brep2(a)\n",
    "    else: b = Brep2(pkl.load(open('./tmp.pkl', 'rb'))) \n",
    "    #Process and add arguments    \n",
    "    arg_dict.update(kwargs)\n",
    "    for k in arg_dict.keys():\n",
    "        if hasattr (b.args, k):\n",
    "            setattr (b.args, k, arg_dict[k])\n",
    "        else:\n",
    "            warnings.warn ('Keyline argument {} not known'.format(k))\n",
    "            \n",
    "    return b\n",
    "\n",
    "arg_dict = {'config_file': 'blabla.c',\n",
    "            'verbose': True}\n",
    "b = new_Brep(arg_dict, gc_points_fn = 'yipyip' )\n"
   ]
  },
  {
   "cell_type": "code",
   "execution_count": 52,
   "metadata": {
    "collapsed": false
   },
   "outputs": [
    {
     "ename": "SyntaxError",
     "evalue": "Missing parentheses in call to 'print' (<ipython-input-52-e95a52b59324>, line 7)",
     "output_type": "error",
     "traceback": [
      "\u001b[1;36m  File \u001b[1;32m\"<ipython-input-52-e95a52b59324>\"\u001b[1;36m, line \u001b[1;32m7\u001b[0m\n\u001b[1;33m    print 'nb'\u001b[0m\n\u001b[1;37m             ^\u001b[0m\n\u001b[1;31mSyntaxError\u001b[0m\u001b[1;31m:\u001b[0m Missing parentheses in call to 'print'\n"
     ]
    }
   ],
   "source": [
    "## Fun with magic\n",
    "\n",
    "# http://ipython.readthedocs.io/en/stable/interactive/magics.html\n",
    "#notable ones\n",
    "# %debug #-> debug stuff. Lets you inspect the stack frame of an exception interactively\n",
    "# %env #-> see all env variables"
   ]
  },
  {
   "cell_type": "code",
   "execution_count": 58,
   "metadata": {
    "collapsed": false
   },
   "outputs": [
    {
     "name": "stdout",
     "output_type": "stream",
     "text": [
      "I\n"
     ]
    },
    {
     "ename": "TypeError",
     "evalue": "convert_arg_line_to_args() missing 1 required positional argument: 'arg_line'",
     "output_type": "error",
     "traceback": [
      "\u001b[1;31m---------------------------------------------------------------------------\u001b[0m",
      "\u001b[1;31mTypeError\u001b[0m                                 Traceback (most recent call last)",
      "\u001b[1;32m/home/ines/Desktop/LabRot_OIST/pybrep/BREPpy.py\u001b[0m in \u001b[0;36m<module>\u001b[1;34m()\u001b[0m\n\u001b[0;32m    132\u001b[0m \u001b[1;33m\u001b[0m\u001b[0m\n\u001b[0;32m    133\u001b[0m \u001b[1;32mif\u001b[0m \u001b[0m__name__\u001b[0m \u001b[1;33m==\u001b[0m \u001b[1;34m'__main__'\u001b[0m\u001b[1;33m:\u001b[0m\u001b[1;33m\u001b[0m\u001b[0m\n\u001b[1;32m--> 134\u001b[1;33m         \u001b[0mBrep\u001b[0m\u001b[1;33m(\u001b[0m\u001b[1;33m)\u001b[0m\u001b[1;33m.\u001b[0m\u001b[0minitialize_and_dump\u001b[0m\u001b[1;33m(\u001b[0m\u001b[1;33m)\u001b[0m\u001b[1;33m\u001b[0m\u001b[0m\n\u001b[0m",
      "\u001b[1;32m/home/ines/Desktop/LabRot_OIST/pybrep/BREPpy.py\u001b[0m in \u001b[0;36minitialize_and_dump\u001b[1;34m(self)\u001b[0m\n\u001b[0;32m    121\u001b[0m         \u001b[0mprint\u001b[0m \u001b[1;33m(\u001b[0m\u001b[1;34m'I'\u001b[0m\u001b[1;33m)\u001b[0m\u001b[1;33m\u001b[0m\u001b[0m\n\u001b[0;32m    122\u001b[0m         \u001b[0mself\u001b[0m\u001b[1;33m.\u001b[0m\u001b[0margs\u001b[0m \u001b[1;33m=\u001b[0m \u001b[0mself\u001b[0m\u001b[1;33m.\u001b[0m\u001b[0mparser\u001b[0m\u001b[1;33m.\u001b[0m\u001b[0mparse_args\u001b[0m\u001b[1;33m(\u001b[0m\u001b[1;33m)\u001b[0m\u001b[1;33m\u001b[0m\u001b[0m\n\u001b[1;32m--> 123\u001b[1;33m         \u001b[0mself\u001b[0m\u001b[1;33m.\u001b[0m\u001b[0mcl_args\u001b[0m \u001b[1;33m=\u001b[0m \u001b[0mself\u001b[0m\u001b[1;33m.\u001b[0m\u001b[0mparser\u001b[0m\u001b[1;33m.\u001b[0m\u001b[0mconvert_arg_line_to_args\u001b[0m\u001b[1;33m(\u001b[0m\u001b[1;33m)\u001b[0m\u001b[1;33m\u001b[0m\u001b[0m\n\u001b[0m\u001b[0;32m    124\u001b[0m         \u001b[0mprint\u001b[0m \u001b[1;33m(\u001b[0m\u001b[1;34m'yoo I parsed it'\u001b[0m\u001b[1;33m)\u001b[0m\u001b[1;33m\u001b[0m\u001b[0m\n\u001b[0;32m    125\u001b[0m         \u001b[0mself\u001b[0m\u001b[1;33m.\u001b[0m\u001b[0mparser\u001b[0m \u001b[1;33m=\u001b[0m \u001b[1;36m0\u001b[0m\u001b[1;33m\u001b[0m\u001b[0m\n",
      "\u001b[1;31mTypeError\u001b[0m: convert_arg_line_to_args() missing 1 required positional argument: 'arg_line'"
     ]
    }
   ],
   "source": []
  },
  {
   "cell_type": "code",
   "execution_count": null,
   "metadata": {
    "collapsed": true
   },
   "outputs": [],
   "source": []
  }
 ],
 "metadata": {
  "kernelspec": {
   "display_name": "Python 3",
   "language": "python",
   "name": "python3"
  },
  "language_info": {
   "codemirror_mode": {
    "name": "ipython",
    "version": 3
   },
   "file_extension": ".py",
   "mimetype": "text/x-python",
   "name": "python",
   "nbconvert_exporter": "python",
   "pygments_lexer": "ipython3",
   "version": "3.5.2"
  }
 },
 "nbformat": 4,
 "nbformat_minor": 1
}
