{
 "cells": [
  {
   "cell_type": "markdown",
   "metadata": {},
   "source": [
    "# This notebook\n",
    "\n",
    "Note: installing neuron was not that straightforward.\n",
    "\n",
    "\n",
    "\n"
   ]
  },
  {
   "cell_type": "code",
   "execution_count": 48,
   "metadata": {
    "collapsed": false
   },
   "outputs": [
    {
     "ename": "ImportError",
     "evalue": "No module named 'neuron'",
     "output_type": "error",
     "traceback": [
      "\u001b[1;31m---------------------------------------------------------------------------\u001b[0m",
      "\u001b[1;31mImportError\u001b[0m                               Traceback (most recent call last)",
      "\u001b[1;32m<ipython-input-48-ba2ef3b29323>\u001b[0m in \u001b[0;36m<module>\u001b[1;34m()\u001b[0m\n\u001b[0;32m      4\u001b[0m \u001b[1;32mimport\u001b[0m \u001b[0mpickle\u001b[0m\u001b[1;33m\u001b[0m\u001b[0m\n\u001b[0;32m      5\u001b[0m \u001b[1;32mimport\u001b[0m \u001b[0mwarnings\u001b[0m\u001b[1;33m\u001b[0m\u001b[0m\n\u001b[1;32m----> 6\u001b[1;33m \u001b[1;32mimport\u001b[0m \u001b[0mneuron\u001b[0m\u001b[1;33m\u001b[0m\u001b[0m\n\u001b[0m\u001b[0;32m      7\u001b[0m \u001b[1;32mimport\u001b[0m \u001b[0msys\u001b[0m\u001b[1;33m\u001b[0m\u001b[0m\n",
      "\u001b[1;31mImportError\u001b[0m: No module named 'neuron'"
     ]
    }
   ],
   "source": [
    "import argparse\n",
    "import numpy as np\n",
    "import datetime\n",
    "import pickle \n",
    "import warnings\n",
    "import neuron\n",
    "import sys\n",
    "#! echo $PYTHONPATH"
   ]
  },
  {
   "cell_type": "code",
   "execution_count": null,
   "metadata": {
    "collapsed": false
   },
   "outputs": [],
   "source": [
    "a = Brep()\n",
    "#a.parser.set_defaults()\n",
    "#print (a.args.aa_length)\n",
    "a.parser.add_argument('ba', type = int, default = 1)\n",
    "a.args = a.parser.convert_arg_line_to_args(' --verbose 1')"
   ]
  },
  {
   "cell_type": "markdown",
   "metadata": {},
   "source": [
    "### Parsing the Parameter file\n",
    "Not nice: there are about 4 different names for one variable- there are the default ones in the code, the assigned ones in the code, and the ones in the parameter file. \n",
    "I will use variables that are similar to the ones defined in the grammar in the code, with the difference that they will be adapted to Python syntax ( _ instead of -), and a few have an additional postfix to clarify what they do (e.g. \\_fn = filename) \n",
    "\n",
    "\n",
    "### On the installation of neuron\n",
    "Neuron did not really work out of the box for me. \n",
    "I (ubuntu 16.04 LTS, 64 bit) did it the following way:\n",
    "- Download the .rpm package from here: https://www.neuron.yale.edu/neuron/download\n",
    "- Install it with: \n",
    "    `alien -i nrn_...*package*` (Note that the .deb package did not work out, and neither did the installation using rpm directly)\n",
    "- Edit the .bashrc file by adding the following lines: \n",
    "\n",
    "    `#Added for neuron\n",
    "    export PYTHONPATH=\"${PYTHONPATH}:/usr/lol/nrn/lib/python/\" `\n",
    "    \n",
    "    (first check that this path is actually where it got installed by going to the folder and see whether `python -c 'import neuron'` tells you about your NEURON version or whether there ain't no module called neuron.\n",
    "\n",
    "\n",
    "http://www.davison.webfactional.com/notes/hoc-to-python-bulbnet/"
   ]
  },
  {
   "cell_type": "code",
   "execution_count": 43,
   "metadata": {
    "collapsed": false
   },
   "outputs": [
    {
     "name": "stdout",
     "output_type": "stream",
     "text": [
      "0\n",
      "1\n",
      "{'config_fn': './input_files/Parameters.hoc'}\n"
     ]
    }
   ],
   "source": [
    "b = Brep()\n",
    "b.init_from_script(['--config_fn','./input_files/Parameters.hoc'])\n",
    "print (b.cl_args)"
   ]
  },
  {
   "cell_type": "code",
   "execution_count": 44,
   "metadata": {
    "collapsed": false
   },
   "outputs": [
    {
     "ename": "ImportError",
     "evalue": "No module named 'neuron'",
     "output_type": "error",
     "traceback": [
      "\u001b[1;31m---------------------------------------------------------------------------\u001b[0m",
      "\u001b[1;31mImportError\u001b[0m                               Traceback (most recent call last)",
      "\u001b[1;32m<ipython-input-44-dc09e035bf01>\u001b[0m in \u001b[0;36m<module>\u001b[1;34m()\u001b[0m\n\u001b[1;32m----> 1\u001b[1;33m \u001b[1;32mfrom\u001b[0m \u001b[0mneuron\u001b[0m \u001b[1;32mimport\u001b[0m \u001b[0mhoc\u001b[0m\u001b[1;33m,\u001b[0m \u001b[0mh\u001b[0m\u001b[1;33m\u001b[0m\u001b[0m\n\u001b[0m\u001b[0;32m      2\u001b[0m \u001b[1;31m# weird thing that I did not get yet: despite all the copy statements, the second time you calculate d_l, it would give 0.\u001b[0m\u001b[1;33m\u001b[0m\u001b[1;33m\u001b[0m\u001b[0m\n\u001b[0;32m      3\u001b[0m \u001b[1;31m# Thus, the hoc objects must somehow take on each other's parameters...\u001b[0m\u001b[1;33m\u001b[0m\u001b[1;33m\u001b[0m\u001b[0m\n\u001b[0;32m      4\u001b[0m \u001b[1;33m\u001b[0m\u001b[0m\n\u001b[0;32m      5\u001b[0m \u001b[1;31m#load an empty hoc object and find out which parameters are native to that object (probably useless...)\u001b[0m\u001b[1;33m\u001b[0m\u001b[1;33m\u001b[0m\u001b[0m\n",
      "\u001b[1;31mImportError\u001b[0m: No module named 'neuron'"
     ]
    }
   ],
   "source": [
    "from neuron import hoc, h\n",
    "# weird thing that I did not get yet: despite all the copy statements, the second time you calculate d_l, it would give 0. \n",
    "# Thus, the hoc objects must somehow take on each other's parameters... \n",
    "\n",
    "#load an empty hoc object and find out which parameters are native to that object (probably useless...)\n",
    "empty_hoc = dir(hoc.HocObject()).copy()\n",
    "config_fn = './input_files/Parameters.hoc'\n",
    "#load our own hoc object from the parameter file, get the disjunct list of parameters (probably useless...)\n",
    "h.xopen(config_fn)\n",
    "full_hoc = dir(h).copy()\n",
    "if 'd_l' not in globals():\n",
    "    d_l = list (set (full_hoc)  - set (empty_hoc)).copy()\n",
    "    \n",
    "c_d = b.config_dict #this dict translates the parameters used in the Parameters file to the ones used in the code\n",
    "# Check if the Brep object contains the right parameters and if so, change them.\n",
    "# Note: Resolve conflicts with the command line - I think default should be that command line should has priority \n",
    "for h_k in d_l:\n",
    "    if hasattr (self.args, c_d[h_k]):\n",
    "        setattr (self.args, c_d[h_k], getattr (h, h_k))\n",
    "# The following two parameters are an exception:\n",
    "if 'GLdepth' in d_l and 'PCLdepth' in d_l:\n",
    "    setattr (self.args, 'aa-length', getattr(h, 'GLdepth')+getattr(h,'PCLdepth'))\n",
    "    \n"
   ]
  },
  {
   "cell_type": "code",
   "execution_count": 35,
   "metadata": {
    "collapsed": true
   },
   "outputs": [],
   "source": [
    "import argparse\n",
    "import numpy as np\n",
    "import datetime\n",
    "import pickle\n",
    "\n",
    "\n",
    "# On the naming conventions: I tried to keep variable names similar as the ones in the brep.scm file\n",
    "# However, all - had to bee transformed to _ , and sometimes a postfix like _fn (filename) or _num (number) was added for clarification.\n",
    "\n",
    "class Brep (object):\n",
    "    \n",
    "    def __init__(self):\n",
    "        \n",
    "        self.parser = argparse.ArgumentParser(prog='BREP for py ', conflict_handler='resolve')\n",
    "        self.parser.add_argument(\"--config_fn\",   type = str, default = '', help =\"use the given hoc configuration file to obtain parameters\")\n",
    "        self.parser.add_argument(\"--gc_points_fn\",  type = str, default = '', help =\"load originating points for granule cells from given file, default is randomly generated\")\n",
    "        self.parser.add_argument(\"--gct_points_fn\", type = str, default = '', help =\"load junction points for parallel fibers from given file, default is offset from GC soma points\")\n",
    "        self.parser.add_argument(\"--goc_points_fn\", type = str, default = '' , help =\"load originating points for Golgi cells from given file, default is randomly generated\") #!!\n",
    "        self.parser.add_argument(\"--rng_seeds\",     type =list, default = [13, 17, 19, 23, 29, 37], help =\"Use the given seeds for random number generation\")\n",
    "        self.parser.add_argument(\"--mpi_split\",     type = int, default = 0, help =\"perform MPI split operation\") #actually it should be color, and only if this element exists, the communicator is split. Thus, not sure if I put the right default.\n",
    "        \n",
    "        self.parser.add_argument(\"--x_extent\",  type = float, default = 1200.0, help =\"X_extent of patch\")\n",
    "        self.parser.add_argument(\"--y_extent\",  type = float, default = 300.0 , help =\"Y_extent of patch\")\n",
    "        self.parser.add_argument(\"--z_extent\",  type = float, default = 150.0 , help =\"Z_extent of patch\")\n",
    "                                 \n",
    "        self.parser.add_argument(\"--pf_length\", type = float, default = 100.0, help =\"parallel fiber length\")\n",
    "        self.parser.add_argument(\"--pf_step\",   type = float, default = 30.0 , help =\"parallel fiber step size\")\n",
    "        self.parser.add_argument(\"--pf_start\",  type = int,   default = 0,     help =\"starting index for parallel fiber points\")                                     \n",
    "        self.parser.add_argument(\"--aa_length\", type = float, default = 200.0, help =\"ascending axon length\")\n",
    "        self.parser.add_argument(\"--aa_step\",   type = float, default = 100.0, help =\"ascending axon step size\")\n",
    "\n",
    "        self.parser.add_argument(\"--goc_num\", type = int , default = 200, help =\"number of Golgi cells\")\n",
    "        self.parser.add_argument(\"--goc_mean_distance\", type = float , default = 50.0, help =\"mean distance between Golgi cells and Golgi cell grid\")\n",
    "        self.parser.add_argument(\"--gc_num\",    type = int,   default = 10000, help =\"number of granule cells and parallel fibers\")\n",
    "                                 \n",
    "        self.parser.add_argument(\"--goc_start\",        type = int,   default = 0,    help =\"starting index for Golgi cell points default is 0\")\n",
    "        self.parser.add_argument(\"--pf_goc_zone\",      type = float, default = 5.0,  help =\"PF to Golgi cell connectivity zone\" ) # verify datatype, not sure what the zone parameters mean so far.\n",
    "        self.parser.add_argument(\"--aa_goc_zone\",      type = float, default = 5.0,  help =\"AA to Golgi cell connectivity zone\" )  \n",
    "        self.parser.add_argument(\"--goc_goc_zone\",     type = float, default = 30.0, help =\"Golgi to Golgi cell connectivity zone\" )\n",
    "        self.parser.add_argument(\"--goc_goc_gap_zone\", type = float, default = 30.0, help =\"Golgi to Golgi gap junction connectivity zone\")\n",
    "                                 \n",
    "        #GOC dendrites\n",
    "        self.parser.add_argument(\"--goc_dendrites\",               type = int,   default = 4,     help =\"number of Golgi cell dendrites\")                                 \n",
    "        \n",
    "        self.parser.add_argument(\"--goc_theta_apical_min\",        type = float, default = 30.0,  help =\"min angle used to determine height of apical dendrite in z direction\")\n",
    "        self.parser.add_argument(\"--goc_theta_apical_max\",        type = float, default = 60.0,  help =\"max angle used to determine height of apical dendrite in z direction\")\n",
    "        self.parser.add_argument(\"--goc_theta_apical_stdev\",      type = float, default = 1.0,   help =\"stdev of angle used to determine height of apical dendrite in z direction\")\n",
    "        \n",
    "        self.parser.add_argument(\"--goc_theta_basolateral_min\",   type = float, default = 30.0,  help =\"min angle used to determine height of basolateral dendrite in z direction\")\n",
    "        self.parser.add_argument(\"--goc_theta_basolateral_max\",   type = float, default = 60.0,  help =\"max angle used to determine height of basolateral dendrite in z direction\")\n",
    "        self.parser.add_argument(\"--goc_theta_basolateral_stdev\", type = float, default = 1.0,   help =\"stdev of angle used to determine height of basolateral dendrite in z direction\")\n",
    "        \n",
    "        self.parser.add_argument(\"--goc_apical_dendheight\",       type = float, default = 100.0, help =\"height of Golgi cell apical dendritic cone\")\n",
    "        self.parser.add_argument(\"--goc_apical_radius\",           type = float, default = 100.0, help =\"radius of Golgi cell apical dendrite cone\")\n",
    "        self.parser.add_argument(\"--goc_apical_nseg\",             type = int,   default = 2,     help =\"number of segments of GoC apical dendrite\")\n",
    "        self.parser.add_argument(\"--goc_apical_nsegpts\",          type = int,   default = 4,     help =\"number of points per segments of GoC apical dendrite\")\n",
    "        \n",
    "        self.parser.add_argument(\"--goc_basolateral_dendheight\",  type = float, default = 100.0, help =\"height of Golgi cell basolateral dendritic cone\")\n",
    "        self.parser.add_argument(\"--goc_basolateral_radius\",      type = float, default = 100.0, help =\"radius of Golgi cell basolateral dendrite cone\")\n",
    "        self.parser.add_argument(\"--goc_basolateral_nseg\",        type = int,   default = 2,     help =\"number of segments of GoC basolateral dendrite\")\n",
    "        self.parser.add_argument(\"--goc_basolateral_nsegpts\",     type = int,   default = 4,     help =\"number of points per segments of GoC basolateral dendrite\")\n",
    "        \n",
    "        #GOC axons\n",
    "        self.parser.add_argument(\"--goc_axons\",      type = int,   default = 10,    help =\"number of Golgi cell axons\")\n",
    "        self.parser.add_argument(\"--goc_axonsegs\",   type = int,   default = 1,     help =\"number of Golgi cell axon segments\")\n",
    "        self.parser.add_argument(\"--goc_axonpts\",    type = int,   default = 2,     help =\"number of Golgi cell axon points\")\n",
    "        self.parser.add_argument(\"--goc_axon_x_min\", type = float, default =-200.0, help =\"minimum extent of Golgi cell axons along X axis\")\n",
    "        self.parser.add_argument(\"--goc_axon_x_max\", type = float, default = 200.0, help =\"maximum extent of Golgi cell axons along X axis\")\n",
    "        self.parser.add_argument(\"--goc_axon_y_min\", type = float, default =-200.0, help =\"minimum extent of Golgi cell axons along Y axis\")\n",
    "        self.parser.add_argument(\"--goc_axon_y_max\", type = float, default = 200.0, help =\"maximum extent of Golgi cell axons along Y axis\")\n",
    "        self.parser.add_argument(\"--goc_axon_z_min\", type = float, default =-30.0,  help =\"minimum extent of Golgi cell axons along Z axis\")\n",
    "        self.parser.add_argument(\"--goc_axon_z_max\", type = float, default =-200.0, help =\"maximum extent of Golgi cell axons along Z axis\")\n",
    "        \n",
    "        #Output utilities\n",
    "        self.parser.add_argument(\"--save_aa\", type = bool, default = False, help =\"save ascending axon points\")\n",
    "        self.parser.add_argument(\"--save_pf\", type = bool, default = False, help =\"save parallel fiber points\")\n",
    "        self.parser.add_argument(\"--output\",  type = str,  default = '',    help =\"specify output file prefix, default is a timestemp.\") # we should set a default here that puts in a timeprint in order to prevent unvoluntary overwrite\n",
    "        self.parser.add_argument(\"--verbose\", type = bool, default = False, help =\"verbose model\")\n",
    "        self.config_dict = {\n",
    "        'y-extent' : 'GoCyrange', \n",
    "        'goc-apical-nsegpts' : 'GoC_Ad_nsegpts', \n",
    "        'goc-theta-basolateral-min' : 'GoC_Btheta_min', \n",
    "        'goc-basolateral-nseg' : 'GoC_Bd_nseg', \n",
    "        'goc-basolateral-nsegpts' : 'GoC_Bd_nsegpts', \n",
    "        'goc-axon-z-min' : 'GoC_Axon_Zmin', \n",
    "        'goc-axon-y-max' : 'GoC_Axon_Ymax', \n",
    "        'num-gc' : 'numGC', \n",
    "        'goc-basolateral-dendheight' : 'GoC_PhysBasolateralDendH', \n",
    "        'aa-goc-zone' : 'AAtoGoCzone', \n",
    "        'mean-goc-distance' : 'meanGoCdistance', \n",
    "        'goc-theta-apical-min' : 'GoC_Atheta_min', \n",
    "        'goc-dendrites' : 'numDendGolgi', \n",
    "        'goc-axon-x-min' : 'GoC_Axon_Xmin', \n",
    "        'goc-theta-basolateral-stdev' : 'GoC_Btheta_stdev', \n",
    "        'goc-theta-apical-stdev' : 'GoC_Atheta_stdev', \n",
    "        'goc-theta-apical-max' : 'GoC_Atheta_max', \n",
    "        'goc-axonsegs' : 'GoC_Axon_nseg', \n",
    "        'num-goc' : 'numGoC', \n",
    "        'goc-axonpts' : 'GoC_Axon_npts', \n",
    "        'z-extent' : 'GoCzrange', \n",
    "        'goc-axons' : 'numAxonGolgi', \n",
    "        'goc-theta-basolateral-max' : 'GoC_Btheta_max', \n",
    "        'pf-step' : 'PFstep', \n",
    "        'aa-step' : 'AAstep', \n",
    "        'x-extent' : 'GoCxrange', \n",
    "        'goc-apical-radius' : 'GoC_PhysApicalDendR', \n",
    "        'goc-axon-x-max' : 'GoC_Axon_Xmax', \n",
    "        'goc-basolateral-radius' : 'GoC_PhysBasolateralDendR', \n",
    "        'goc-goc-gap-zone' : 'GoCtoGoCgapzone', \n",
    "        'goc-apical-nseg' : 'GoC_Ad_nseg', \n",
    "        'goc-axon-y-min' : 'GoC_Axon_Ymin', \n",
    "        'goc-axon-z-max' : 'GoC_Axon_Zmax', \n",
    "        'goc-apical-dendheight' : 'GoC_PhysApicalDendH', \n",
    "        'goc-goc-zone' : 'GoCtoGoCzone', \n",
    "        'pf-goc-zone' : 'PFtoGoCzone', \n",
    "        'pf-length' : 'PFlength' }\n",
    "\n",
    "        \n",
    "    def init_from_script (self, cml_str = ['']):\n",
    "        self.args = self.parser.parse_args(cml_str)\n",
    "        d  =  {}\n",
    "        for k_c in range(len(cml_str)-1):\n",
    "            print (k_c)\n",
    "            if len(str(cml_str[k_c])) > 2:\n",
    "                print ('1')\n",
    "                if cml_str[k_c][:2] == '--':\n",
    "                    d[cml_str[k_c][2:]] = cml_str[k_c+1]\n",
    "        setattr (self, 'cl_args', d)\n",
    "                \n",
    "            \n",
    "\n",
    "        \n",
    "    def init_from_cl(self):\n",
    "        self.args = self.parser.parse_args()\n",
    "        from collections import defaultdict\n",
    "        d=defaultdict(list)\n",
    "        for k, v in ((k.lstrip('-'), v) for k,v in (a.split('=') for a in sys.argv[1:])):\n",
    "            d[k].append(v)\n",
    "        setattr (self, 'cl_args', d)\n",
    "        #https://stackoverflow.com/questions/12807539/how-do-you-convert-command-line-args-in-python-to-a-dictionary\n",
    "        \n",
    "    def check_output_prefix(self):\n",
    "        '''checks if there is a specified output prefix.\n",
    "        If not, will generate one from the timestampe'''\n",
    "        if self.args.output == '':\n",
    "            ! mkdir 'Res_{:%Y-%m-%d_%H-%M-%S}'.format(datetime.datetime.now())\n",
    "            self.args.output = 'Res_{:%Y-%m-%d_%H-%M-%S}/'.format(datetime.datetime.now())\n",
    "            \n",
    "    def read_in_config(self):\n",
    "        '''checks if a config file has been specified, and if so, updates the args\n",
    "        Warns if the file cannot be found, opened or properly read in (e.g. unkown parameter) '''\n",
    "        if self.args.config == '':\n",
    "            warnings.warn('Cannot find config file!')\n",
    "            \n",
    "    \n",
    "    def p_verb (stat, *args):\n",
    "        '''prints statement only if the print mode is on.\n",
    "        Prints args in some smart ways'''\n",
    "        pass\n",
    "    \n",
    "    def get_GC_Points():\n",
    "        ''' \n",
    "        corresponds to GC-Points statement in brep.csm file.\n",
    "        Read in the GC-Points provided in a file or render some randomly. (UniformRandomProcess)\n",
    "        '''\n",
    "        pass\n",
    "        \n",
    "    def get_GCT_Points():\n",
    "        '''\n",
    "        corresponds to the GCT-Points statement from the \n",
    "        '''\n",
    "    \n",
    "    def get_GOC_Points():\n",
    "        '''\n",
    "        get GOC Points from file or render them\n",
    "        '''\n",
    "        \n"
   ]
  },
  {
   "cell_type": "markdown",
   "metadata": {
    "collapsed": true
   },
   "source": [
    "### Checking out the kd-tree libraries\n",
    "\n",
    "Scipy:\n",
    "- Documentation: https://docs.scipy.org/doc/scipy-0.14.0/reference/generated/scipy.spatial.KDTree.html\n",
    "- Source Code: https://github.com/scipy/scipy/blob/master/scipy/spatial/kdtree.py\n",
    "- Algorithm reference Maneewongvatana and Mount 1999\n",
    "- Can be queried for r nearest neighbors, however r should be relatively small because elsewise, brute force is just as efficient.\n",
    "- Approximate nearest neighbors seems to be another, and much faster option, and might work well for us.\n",
    "- Uses pythonic libraries. \n",
    "- The heap queue algorithm: https://github.com/python/cpython/blob/2.7/Lib/heapq.py seems to be used, but it is also in python\n",
    "\n",
    "\n",
    "SKlearn:\n",
    "- Documentation: http://scikit-learn.org/stable/modules/generated/sklearn.neighbors.KDTree.html\n",
    "- Source Code: https://github.com/scikit-learn/scikit-learn/blob/master/sklearn/neighbors/kd_tree.pyx\n",
    "- uses cython. Might thus be faster. Let's check.\n",
    "\n",
    "\n",
    "Neither of them appears to have parallelization supported right from the beginning.\n",
    "Both just take regular arrays as inputs.\n",
    "\n",
    "\n",
    "Could be interesting:\n",
    "http://ieeexplore.ieee.org/abstract/document/5654017/?reload=true\n",
    "GPU implementation for kNN search\n",
    "Following this:\n",
    "https://link.springer.com/chapter/10.1007/978-3-642-38628-2_67\n",
    "\n"
   ]
  },
  {
   "cell_type": "code",
   "execution_count": null,
   "metadata": {
    "collapsed": true
   },
   "outputs": [],
   "source": []
  },
  {
   "cell_type": "code",
   "execution_count": null,
   "metadata": {
    "collapsed": true
   },
   "outputs": [],
   "source": []
  },
  {
   "cell_type": "code",
   "execution_count": null,
   "metadata": {
    "collapsed": true
   },
   "outputs": [],
   "source": []
  },
  {
   "cell_type": "markdown",
   "metadata": {},
   "source": [
    "# Random and deprecated stuff below this."
   ]
  },
  {
   "cell_type": "code",
   "execution_count": 41,
   "metadata": {
    "collapsed": false
   },
   "outputs": [
    {
     "ename": "ImportError",
     "evalue": "No module named 'neuron'",
     "output_type": "error",
     "traceback": [
      "\u001b[1;31m---------------------------------------------------------------------------\u001b[0m",
      "\u001b[1;31mImportError\u001b[0m                               Traceback (most recent call last)",
      "\u001b[1;32m<ipython-input-41-673f2528413f>\u001b[0m in \u001b[0;36m<module>\u001b[1;34m()\u001b[0m\n\u001b[0;32m      3\u001b[0m \u001b[1;31m#Had to be done only once, but will be kept for reference.\u001b[0m\u001b[1;33m\u001b[0m\u001b[1;33m\u001b[0m\u001b[0m\n\u001b[0;32m      4\u001b[0m \u001b[1;33m\u001b[0m\u001b[0m\n\u001b[1;32m----> 5\u001b[1;33m \u001b[1;32mfrom\u001b[0m \u001b[0mneuron\u001b[0m \u001b[1;32mimport\u001b[0m \u001b[0mhoc\u001b[0m\u001b[1;33m,\u001b[0m \u001b[0mh\u001b[0m\u001b[1;33m\u001b[0m\u001b[0m\n\u001b[0m\u001b[0;32m      6\u001b[0m \u001b[1;31m# weird thing that I did not get yet: despite all the copy statements, the second time you calculate d_l, it would give 0.\u001b[0m\u001b[1;33m\u001b[0m\u001b[1;33m\u001b[0m\u001b[0m\n\u001b[0;32m      7\u001b[0m \u001b[1;31m# Thus, the hoc objects must somehow take on each other's parameters...\u001b[0m\u001b[1;33m\u001b[0m\u001b[1;33m\u001b[0m\u001b[0m\n",
      "\u001b[1;31mImportError\u001b[0m: No module named 'neuron'"
     ]
    }
   ],
   "source": [
    "### The transformations of the parameters, automized in a small parser script.\n",
    "\n",
    "#Had to be done only once, but will be kept for reference.\n",
    "\n",
    "from neuron import hoc, h\n",
    "# weird thing that I did not get yet: despite all the copy statements, the second time you calculate d_l, it would give 0. \n",
    "# Thus, the hoc objects must somehow take on each other's parameters... \n",
    "\n",
    "#load an empty hoc object and find out which parameters are native to that object (probably useless...)\n",
    "empty_hoc = dir(hoc.HocObject()).copy()\n",
    "config_fn = './input_files/Parameters.hoc'\n",
    "#load our own hoc object from the parameter file, get the disjunct list of parameters (probably useless...)\n",
    "h.xopen(config_fn)\n",
    "full_hoc = dir(h).copy()\n",
    "if 'd_l' not in globals():\n",
    "    d_l = list (set (full_hoc)  - set (empty_hoc)).copy()\n",
    "\n",
    "# Code file\n",
    "tf = 'brep_commented.scm'\n",
    "# Step one: parse all lines that contain both config or options as those are the ones that \n",
    "res_dict = {}\n",
    "with open (tf, 'rb') as tff:\n",
    "    for line in tff:\n",
    "        st = str(line)\n",
    "        c = st.find (\"config '\")\n",
    "        o = st.find (\"options '\") \n",
    "        if c > 0 and o > 0:\n",
    "            c_clb = st[c:].find (')')\n",
    "            o_clb = st[o:].find (')')\n",
    "            res_dict[st[c+8:c+c_clb]] = st[o+9:o+o_clb] \n",
    "    tff.close()\n",
    "\n",
    "#parameters that are defined in the res file but have not been parsed yet\n",
    "rest_hk = (set (d_l)- set(res_dict.keys()))\n",
    "rem = {}\n",
    "#check if they occur in the code\n",
    "with open ('brep_commented.scm', 'rb') as f_in:\n",
    "    n = 0\n",
    "    for line in f_in:\n",
    "        n = n+1\n",
    "        for w in rest_hk:\n",
    "            if str(line).find(w)>0:\n",
    "                if w in rem.keys():\n",
    "                    rem[w].append(n)\n",
    "                else:\n",
    "                    rem[w] = [n]                  \n",
    "print (rem) # 'TS is coincidental, the other two parameters are taken seperate care of.\n",
    "\n",
    "#print the resulting dict to a file.\n",
    "with open ('par_d2.txt', 'w') as f_out:\n",
    "    for k in res_dict.keys():\n",
    "        f_out.write(\"'\" +res_dict[k]+ \"' : '\"+k+ \"', \\n\" )\n",
    "\n",
    "#print (res_dict)"
   ]
  },
  {
   "cell_type": "code",
   "execution_count": 5,
   "metadata": {
    "collapsed": false
   },
   "outputs": [
    {
     "name": "stdout",
     "output_type": "stream",
     "text": [
      "I\r\n",
      "Traceback (most recent call last):\r\n",
      "  File \"/home/ines/Desktop/LabRot_OIST/pybrep/BREPpy.py\", line 134, in <module>\r\n",
      "    Brep().initialize_and_dump()\r\n",
      "  File \"/home/ines/Desktop/LabRot_OIST/pybrep/BREPpy.py\", line 123, in initialize_and_dump\r\n",
      "    self.cl_args = self.parser.convert_arg_line_to_args()\r\n",
      "TypeError: convert_arg_line_to_args() missing 1 required positional argument: 'arg_line'\r\n"
     ]
    },
    {
     "ename": "FileNotFoundError",
     "evalue": "[Errno 2] No such file or directory: './tmp.pkl'",
     "output_type": "error",
     "traceback": [
      "\u001b[1;31m---------------------------------------------------------------------------\u001b[0m",
      "\u001b[1;31mFileNotFoundError\u001b[0m                         Traceback (most recent call last)",
      "\u001b[1;32m<ipython-input-5-c22c446b07d9>\u001b[0m in \u001b[0;36m<module>\u001b[1;34m()\u001b[0m\n\u001b[0;32m     22\u001b[0m arg_dict = {'config_file': 'blabla.c',\n\u001b[0;32m     23\u001b[0m             'verbose': True}\n\u001b[1;32m---> 24\u001b[1;33m \u001b[0mb\u001b[0m \u001b[1;33m=\u001b[0m \u001b[0mnew_Brep\u001b[0m\u001b[1;33m(\u001b[0m\u001b[0marg_dict\u001b[0m\u001b[1;33m,\u001b[0m \u001b[0mgc_points_fn\u001b[0m \u001b[1;33m=\u001b[0m \u001b[1;34m'yipyip'\u001b[0m \u001b[1;33m)\u001b[0m\u001b[1;33m\u001b[0m\u001b[0m\n\u001b[0m",
      "\u001b[1;32m<ipython-input-5-c22c446b07d9>\u001b[0m in \u001b[0;36mnew_Brep\u001b[1;34m(arg_dict, **kwargs)\u001b[0m\n\u001b[0;32m      6\u001b[0m     \u001b[1;32mif\u001b[0m \u001b[1;32mTrue\u001b[0m\u001b[1;33m:\u001b[0m \u001b[1;31m#delete and make new Brep file\u001b[0m\u001b[1;33m\u001b[0m\u001b[0m\n\u001b[0;32m      7\u001b[0m         \u001b[0mget_ipython\u001b[0m\u001b[1;33m(\u001b[0m\u001b[1;33m)\u001b[0m\u001b[1;33m.\u001b[0m\u001b[0msystem\u001b[0m\u001b[1;33m(\u001b[0m\u001b[1;34m' python ~/Desktop/LabRot_OIST/pybrep/BREPpy.py --config_file blabla '\u001b[0m\u001b[1;33m)\u001b[0m\u001b[1;33m\u001b[0m\u001b[0m\n\u001b[1;32m----> 8\u001b[1;33m         \u001b[0ma\u001b[0m \u001b[1;33m=\u001b[0m \u001b[0mpkl\u001b[0m\u001b[1;33m.\u001b[0m\u001b[0mload\u001b[0m\u001b[1;33m(\u001b[0m\u001b[0mopen\u001b[0m\u001b[1;33m(\u001b[0m\u001b[1;34m'./tmp.pkl'\u001b[0m\u001b[1;33m,\u001b[0m \u001b[1;34m'rb'\u001b[0m\u001b[1;33m)\u001b[0m\u001b[1;33m)\u001b[0m\u001b[1;33m\u001b[0m\u001b[0m\n\u001b[0m\u001b[0;32m      9\u001b[0m         \u001b[0mget_ipython\u001b[0m\u001b[1;33m(\u001b[0m\u001b[1;33m)\u001b[0m\u001b[1;33m.\u001b[0m\u001b[0msystem\u001b[0m\u001b[1;33m(\u001b[0m\u001b[1;34m' rm tmp.pkl'\u001b[0m\u001b[1;33m)\u001b[0m\u001b[1;33m\u001b[0m\u001b[0m\n\u001b[0;32m     10\u001b[0m         \u001b[0mb\u001b[0m \u001b[1;33m=\u001b[0m \u001b[0mBrep2\u001b[0m\u001b[1;33m(\u001b[0m\u001b[0ma\u001b[0m\u001b[1;33m)\u001b[0m\u001b[1;33m\u001b[0m\u001b[0m\n",
      "\u001b[1;31mFileNotFoundError\u001b[0m: [Errno 2] No such file or directory: './tmp.pkl'"
     ]
    }
   ],
   "source": [
    "#Used this to try out command line calls. \n",
    "\n",
    "#Brep = importlib.reload(BREPpy)\n",
    "#stupid workaround so that the known command line call can be kept up.\n",
    "#I think I changed something, would have to git checkout....\n",
    "class Brep2 (Brep, b):\n",
    "    def __init__:\n",
    "        self.args = b.args\n",
    "        self.config_dict = b.config_dict\n",
    "        self.cl_args = b.cl_args\n",
    "        \n",
    "\n",
    "\n",
    "def new_Brep (arg_dict = {}, **kwargs):\n",
    "    if True: #delete and make new Brep file\n",
    "        ! python ~/Desktop/LabRot_OIST/pybrep/BREPpy.py --config_file blabla \n",
    "        a = pkl.load(open('./tmp.pkl', 'rb'))\n",
    "        ! rm tmp.pkl\n",
    "        b = Brep2(a)\n",
    "    else: b = Brep2(pkl.load(open('./tmp.pkl', 'rb'))) \n",
    "    #Process and add arguments    \n",
    "    arg_dict.update(kwargs)\n",
    "    for k in arg_dict.keys():\n",
    "        if hasattr (b.args, k):\n",
    "            setattr (b.args, k, arg_dict[k])\n",
    "        else:\n",
    "            warnings.warn ('Keyline argument {} not known'.format(k))\n",
    "            \n",
    "    return b\n",
    "\n",
    "arg_dict = {'config_file': 'blabla.c',\n",
    "            'verbose': True}\n",
    "b = new_Brep(arg_dict, gc_points_fn = 'yipyip' )\n"
   ]
  },
  {
   "cell_type": "code",
   "execution_count": 52,
   "metadata": {
    "collapsed": false
   },
   "outputs": [
    {
     "ename": "SyntaxError",
     "evalue": "Missing parentheses in call to 'print' (<ipython-input-52-e95a52b59324>, line 7)",
     "output_type": "error",
     "traceback": [
      "\u001b[1;36m  File \u001b[1;32m\"<ipython-input-52-e95a52b59324>\"\u001b[1;36m, line \u001b[1;32m7\u001b[0m\n\u001b[1;33m    print 'nb'\u001b[0m\n\u001b[1;37m             ^\u001b[0m\n\u001b[1;31mSyntaxError\u001b[0m\u001b[1;31m:\u001b[0m Missing parentheses in call to 'print'\n"
     ]
    }
   ],
   "source": [
    "## Fun with magic\n",
    "\n",
    "# http://ipython.readthedocs.io/en/stable/interactive/magics.html\n",
    "#notable ones\n",
    "# %debug #-> debug stuff. Lets you inspect the stack frame of an exception interactively\n",
    "# %env #-> see all env variables"
   ]
  },
  {
   "cell_type": "code",
   "execution_count": 58,
   "metadata": {
    "collapsed": false
   },
   "outputs": [
    {
     "name": "stdout",
     "output_type": "stream",
     "text": [
      "I\n"
     ]
    },
    {
     "ename": "TypeError",
     "evalue": "convert_arg_line_to_args() missing 1 required positional argument: 'arg_line'",
     "output_type": "error",
     "traceback": [
      "\u001b[1;31m---------------------------------------------------------------------------\u001b[0m",
      "\u001b[1;31mTypeError\u001b[0m                                 Traceback (most recent call last)",
      "\u001b[1;32m/home/ines/Desktop/LabRot_OIST/pybrep/BREPpy.py\u001b[0m in \u001b[0;36m<module>\u001b[1;34m()\u001b[0m\n\u001b[0;32m    132\u001b[0m \u001b[1;33m\u001b[0m\u001b[0m\n\u001b[0;32m    133\u001b[0m \u001b[1;32mif\u001b[0m \u001b[0m__name__\u001b[0m \u001b[1;33m==\u001b[0m \u001b[1;34m'__main__'\u001b[0m\u001b[1;33m:\u001b[0m\u001b[1;33m\u001b[0m\u001b[0m\n\u001b[1;32m--> 134\u001b[1;33m         \u001b[0mBrep\u001b[0m\u001b[1;33m(\u001b[0m\u001b[1;33m)\u001b[0m\u001b[1;33m.\u001b[0m\u001b[0minitialize_and_dump\u001b[0m\u001b[1;33m(\u001b[0m\u001b[1;33m)\u001b[0m\u001b[1;33m\u001b[0m\u001b[0m\n\u001b[0m",
      "\u001b[1;32m/home/ines/Desktop/LabRot_OIST/pybrep/BREPpy.py\u001b[0m in \u001b[0;36minitialize_and_dump\u001b[1;34m(self)\u001b[0m\n\u001b[0;32m    121\u001b[0m         \u001b[0mprint\u001b[0m \u001b[1;33m(\u001b[0m\u001b[1;34m'I'\u001b[0m\u001b[1;33m)\u001b[0m\u001b[1;33m\u001b[0m\u001b[0m\n\u001b[0;32m    122\u001b[0m         \u001b[0mself\u001b[0m\u001b[1;33m.\u001b[0m\u001b[0margs\u001b[0m \u001b[1;33m=\u001b[0m \u001b[0mself\u001b[0m\u001b[1;33m.\u001b[0m\u001b[0mparser\u001b[0m\u001b[1;33m.\u001b[0m\u001b[0mparse_args\u001b[0m\u001b[1;33m(\u001b[0m\u001b[1;33m)\u001b[0m\u001b[1;33m\u001b[0m\u001b[0m\n\u001b[1;32m--> 123\u001b[1;33m         \u001b[0mself\u001b[0m\u001b[1;33m.\u001b[0m\u001b[0mcl_args\u001b[0m \u001b[1;33m=\u001b[0m \u001b[0mself\u001b[0m\u001b[1;33m.\u001b[0m\u001b[0mparser\u001b[0m\u001b[1;33m.\u001b[0m\u001b[0mconvert_arg_line_to_args\u001b[0m\u001b[1;33m(\u001b[0m\u001b[1;33m)\u001b[0m\u001b[1;33m\u001b[0m\u001b[0m\n\u001b[0m\u001b[0;32m    124\u001b[0m         \u001b[0mprint\u001b[0m \u001b[1;33m(\u001b[0m\u001b[1;34m'yoo I parsed it'\u001b[0m\u001b[1;33m)\u001b[0m\u001b[1;33m\u001b[0m\u001b[0m\n\u001b[0;32m    125\u001b[0m         \u001b[0mself\u001b[0m\u001b[1;33m.\u001b[0m\u001b[0mparser\u001b[0m \u001b[1;33m=\u001b[0m \u001b[1;36m0\u001b[0m\u001b[1;33m\u001b[0m\u001b[0m\n",
      "\u001b[1;31mTypeError\u001b[0m: convert_arg_line_to_args() missing 1 required positional argument: 'arg_line'"
     ]
    }
   ],
   "source": [
    "%run BREPpy.py"
   ]
  },
  {
   "cell_type": "code",
   "execution_count": null,
   "metadata": {
    "collapsed": true
   },
   "outputs": [],
   "source": []
  }
 ],
 "metadata": {
  "kernelspec": {
   "display_name": "Python 3",
   "language": "python",
   "name": "python3"
  },
  "language_info": {
   "codemirror_mode": {
    "name": "ipython",
    "version": 3
   },
   "file_extension": ".py",
   "mimetype": "text/x-python",
   "name": "python",
   "nbconvert_exporter": "python",
   "pygments_lexer": "ipython3",
   "version": "3.5.2"
  }
 },
 "nbformat": 4,
 "nbformat_minor": 1
}
