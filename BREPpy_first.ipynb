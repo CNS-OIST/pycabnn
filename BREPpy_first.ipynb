{
 "cells": [
  {
   "cell_type": "markdown",
   "metadata": {},
   "source": [
    "# This notebook\n",
    "\n",
    "Note: installing neuron was not that straightforward.\n",
    "I did it the following way:\n",
    "Download the .rpm package from here: https://www.neuron.yale.edu/neuron/download\n",
    "Then installed it with: alien -i *package*\n",
    "Note that the .deb package did not work out, and neither did the installation using rpm directly.\n",
    "And then I had to edit my .bashrc file by adding the following lines:\n",
    "#Added for neuron\n",
    "export PYTHONPATH=${HOME}/usr/local/nrn/lib/python:$PYTHONPATH\n",
    "(first check that this is actually where it got installed\n",
    "\n",
    "\n"
   ]
  },
  {
   "cell_type": "code",
   "execution_count": 117,
   "metadata": {
    "collapsed": true
   },
   "outputs": [],
   "source": [
    "import argparse\n",
    "import numpy as np\n",
    "import datetime\n",
    "import pickle as pkl\n",
    "import warnings\n"
   ]
  },
  {
   "cell_type": "code",
   "execution_count": 152,
   "metadata": {
    "collapsed": false
   },
   "outputs": [],
   "source": [
    "# stupid workaround so that the known command line call can be kept up.\n",
    "def new_Brep (arg_dict = {}, **kwargs):\n",
    "    if False: #delete and make new Brep file\n",
    "        ! python ~/Desktop/LabRot_OIST/cerebellar_granular_network/brep/BREPpy.py\n",
    "        a = pkl.load(open('./tmp.pkl', 'rb'))\n",
    "        ! rm tmp.pkl\n",
    "        b = Brep2(a)\n",
    "    else: b = Brep2(pkl.load(open('./tmp.pkl', 'rb'))) \n",
    "    #Process and add arguments    \n",
    "    arg_dict.update(kwargs)\n",
    "    for k in arg_dict.keys():\n",
    "        if hasattr (b.args, k):\n",
    "            setattr (b.args, k, arg_dict[k])\n",
    "        else:\n",
    "            warnings.warn ('Keyline argument {} not known'.format(k))\n",
    "            \n",
    "    return b\n",
    "\n",
    "arg_dict = {'config_file': 'blabla.c',\n",
    "            'verbose': True}\n",
    "b = new_Brep(arg_dict, gc_points_fn = 'yipyip' )\n"
   ]
  },
  {
   "cell_type": "code",
   "execution_count": 123,
   "metadata": {
    "collapsed": false
   },
   "outputs": [],
   "source": [
    "class Brep2(Brep):\n",
    "    \n",
    "    def __init__ (self, br):\n",
    "        self.args = br.args\n",
    "    \n",
    "    def check_output_prefix(self):\n",
    "        '''checks if there is a specified output prefix.\n",
    "        If not, will generate one from the timestampe'''\n",
    "        if self.args.output == '':\n",
    "            ! mkdir 'Res_{:%Y-%m-%d_%H-%M-%S}'.format(datetime.datetime.now())\n",
    "            self.args.output = 'Res_{:%Y-%m-%d_%H-%M-%S}/'.format(datetime.datetime.now())\n",
    "            \n",
    "    def read_in_config(self):\n",
    "        '''checks if a config file has been specified, and if so, updates the args\n",
    "        Warns if the file cannot be found, opened or properly read in (e.g. unkown parameter) '''\n",
    "        if self.args.config == '':\n",
    "            warnings.warn('Cannot find config file!')\n",
    "            \n",
    "    \n",
    "    def p_verb (stat, **args):\n",
    "        '''prints statement only if the print mode is on.\n",
    "        Prints args in some smart ways'''\n",
    "        pass\n",
    "    \n",
    "    def get_GC_Points():\n",
    "        ''' \n",
    "        corresponds to GC-Points statement in brep.csm file.\n",
    "        Read in the GC-Points provided in a file or render some randomly. (UniformRandomProcess)\n",
    "        '''\n",
    "        pass\n",
    "        \n",
    "    def get_GCT_Points():\n",
    "        '''\n",
    "        corresponds to the GCT-Points statement from the \n",
    "        '''\n",
    "    \n",
    "    def get_GOC_Points():\n",
    "        '''\n",
    "        get GOC Points from file or render them\n",
    "        '''\n",
    "        \n",
    "    #def \n",
    "            \n"
   ]
  },
  {
   "cell_type": "code",
   "execution_count": 116,
   "metadata": {
    "collapsed": false
   },
   "outputs": [],
   "source": [
    "arg_dict = {'config_file': 'blabla.c',\n",
    "            'verbose': True}\n",
    "\n",
    "b = new_Brep\n"
   ]
  },
  {
   "cell_type": "code",
   "execution_count": 48,
   "metadata": {
    "collapsed": false
   },
   "outputs": [],
   "source": [
    "a = Brep()\n",
    "#a.parser.set_defaults()\n",
    "#print (a.args.aa_length)\n",
    "a.parser.add_argument('ba', type = int, default = 1)\n",
    "a.args = a.parser.convert_arg_line_to_args(' --verbose 1')"
   ]
  },
  {
   "cell_type": "code",
   "execution_count": 1,
   "metadata": {
    "collapsed": false
   },
   "outputs": [
    {
     "ename": "ImportError",
     "evalue": "No module named 'neuron'",
     "output_type": "error",
     "traceback": [
      "\u001b[1;31m---------------------------------------------------------------------------\u001b[0m",
      "\u001b[1;31mImportError\u001b[0m                               Traceback (most recent call last)",
      "\u001b[1;32m<ipython-input-1-323dccb06f43>\u001b[0m in \u001b[0;36m<module>\u001b[1;34m()\u001b[0m\n\u001b[1;32m----> 1\u001b[1;33m \u001b[1;32mfrom\u001b[0m \u001b[0mneuron\u001b[0m \u001b[1;32mimport\u001b[0m \u001b[0mh\u001b[0m\u001b[1;33m\u001b[0m\u001b[0m\n\u001b[0m",
      "\u001b[1;31mImportError\u001b[0m: No module named 'neuron'"
     ]
    }
   ],
   "source": [
    "from neuron import h\n"
   ]
  },
  {
   "cell_type": "code",
   "execution_count": 8,
   "metadata": {
    "collapsed": false
   },
   "outputs": [
    {
     "name": "stdout",
     "output_type": "stream",
     "text": [
      "<class 'str'>\n"
     ]
    },
    {
     "ename": "NameError",
     "evalue": "name 'isempty' is not defined",
     "output_type": "error",
     "traceback": [
      "\u001b[1;31m---------------------------------------------------------------------------\u001b[0m",
      "\u001b[1;31mNameError\u001b[0m                                 Traceback (most recent call last)",
      "\u001b[1;32m<ipython-input-8-367ff52d0950>\u001b[0m in \u001b[0;36m<module>\u001b[1;34m()\u001b[0m\n\u001b[0;32m      1\u001b[0m \u001b[0ma\u001b[0m \u001b[1;33m=\u001b[0m \u001b[1;34m''\u001b[0m\u001b[1;33m\u001b[0m\u001b[0m\n\u001b[0;32m      2\u001b[0m \u001b[0mprint\u001b[0m \u001b[1;33m(\u001b[0m\u001b[0mtype\u001b[0m\u001b[1;33m(\u001b[0m\u001b[0ma\u001b[0m\u001b[1;33m)\u001b[0m\u001b[1;33m)\u001b[0m\u001b[1;33m\u001b[0m\u001b[0m\n\u001b[1;32m----> 3\u001b[1;33m \u001b[0mprint\u001b[0m \u001b[1;33m(\u001b[0m\u001b[0misempty\u001b[0m\u001b[1;33m(\u001b[0m\u001b[0ma\u001b[0m\u001b[1;33m)\u001b[0m\u001b[1;33m)\u001b[0m\u001b[1;33m\u001b[0m\u001b[0m\n\u001b[0m",
      "\u001b[1;31mNameError\u001b[0m: name 'isempty' is not defined"
     ]
    }
   ],
   "source": [
    "a = ''\n",
    "print (type(a))\n",
    "print (isempty(a))"
   ]
  },
  {
   "cell_type": "code",
   "execution_count": null,
   "metadata": {
    "collapsed": true
   },
   "outputs": [],
   "source": []
  }
 ],
 "metadata": {
  "kernelspec": {
   "display_name": "Python 3",
   "language": "python",
   "name": "python3"
  },
  "language_info": {
   "codemirror_mode": {
    "name": "ipython",
    "version": 3
   },
   "file_extension": ".py",
   "mimetype": "text/x-python",
   "name": "python",
   "nbconvert_exporter": "python",
   "pygments_lexer": "ipython3",
   "version": "3.5.2"
  }
 },
 "nbformat": 4,
 "nbformat_minor": 1
}
