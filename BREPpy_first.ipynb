{
 "cells": [
  {
   "cell_type": "markdown",
   "metadata": {},
   "source": [
    "# This notebook\n",
    "\n",
    "Note: installing neuron was not that straightforward.\n",
    "\n",
    "\n",
    "\n"
   ]
  },
  {
   "cell_type": "code",
   "execution_count": 117,
   "metadata": {
    "collapsed": true
   },
   "outputs": [],
   "source": [
    "import argparse\n",
    "import numpy as np\n",
    "import datetime\n",
    "import pickle as pkl\n",
    "import warnings\n"
   ]
  },
  {
   "cell_type": "code",
   "execution_count": 152,
   "metadata": {
    "collapsed": false
   },
   "outputs": [],
   "source": [
    "# stupid workaround so that the known command line call can be kept up.\n",
    "def new_Brep (arg_dict = {}, **kwargs):\n",
    "    if False: #delete and make new Brep file\n",
    "        ! python ~/Desktop/LabRot_OIST/cerebellar_granular_network/brep/BREPpy.py\n",
    "        a = pkl.load(open('./tmp.pkl', 'rb'))\n",
    "        ! rm tmp.pkl\n",
    "        b = Brep2(a)\n",
    "    else: b = Brep2(pkl.load(open('./tmp.pkl', 'rb'))) \n",
    "    #Process and add arguments    \n",
    "    arg_dict.update(kwargs)\n",
    "    for k in arg_dict.keys():\n",
    "        if hasattr (b.args, k):\n",
    "            setattr (b.args, k, arg_dict[k])\n",
    "        else:\n",
    "            warnings.warn ('Keyline argument {} not known'.format(k))\n",
    "            \n",
    "    return b\n",
    "\n",
    "arg_dict = {'config_file': 'blabla.c',\n",
    "            'verbose': True}\n",
    "b = new_Brep(arg_dict, gc_points_fn = 'yipyip' )\n"
   ]
  },
  {
   "cell_type": "code",
   "execution_count": 123,
   "metadata": {
    "collapsed": false
   },
   "outputs": [],
   "source": [
    "class Brep2(Brep):\n",
    "    \n",
    "    def __init__ (self, br):\n",
    "        self.args = br.args\n",
    "    \n",
    "    def check_output_prefix(self):\n",
    "        '''checks if there is a specified output prefix.\n",
    "        If not, will generate one from the timestampe'''\n",
    "        if self.args.output == '':\n",
    "            ! mkdir 'Res_{:%Y-%m-%d_%H-%M-%S}'.format(datetime.datetime.now())\n",
    "            self.args.output = 'Res_{:%Y-%m-%d_%H-%M-%S}/'.format(datetime.datetime.now())\n",
    "            \n",
    "    def read_in_config(self):\n",
    "        '''checks if a config file has been specified, and if so, updates the args\n",
    "        Warns if the file cannot be found, opened or properly read in (e.g. unkown parameter) '''\n",
    "        if self.args.config == '':\n",
    "            warnings.warn('Cannot find config file!')\n",
    "            \n",
    "    \n",
    "    def p_verb (stat, **args):\n",
    "        '''prints statement only if the print mode is on.\n",
    "        Prints args in some smart ways'''\n",
    "        pass\n",
    "    \n",
    "    def get_GC_Points():\n",
    "        ''' \n",
    "        corresponds to GC-Points statement in brep.csm file.\n",
    "        Read in the GC-Points provided in a file or render some randomly. (UniformRandomProcess)\n",
    "        '''\n",
    "        pass\n",
    "        \n",
    "    def get_GCT_Points():\n",
    "        '''\n",
    "        corresponds to the GCT-Points statement from the \n",
    "        '''\n",
    "    \n",
    "    def get_GOC_Points():\n",
    "        '''\n",
    "        get GOC Points from file or render them\n",
    "        '''\n",
    "        \n",
    "    #def \n",
    "            \n"
   ]
  },
  {
   "cell_type": "code",
   "execution_count": 116,
   "metadata": {
    "collapsed": false
   },
   "outputs": [],
   "source": [
    "arg_dict = {'config_file': 'blabla.c',\n",
    "            'verbose': True}\n",
    "\n",
    "b = new_Brep\n"
   ]
  },
  {
   "cell_type": "code",
   "execution_count": 48,
   "metadata": {
    "collapsed": false
   },
   "outputs": [],
   "source": [
    "a = Brep()\n",
    "#a.parser.set_defaults()\n",
    "#print (a.args.aa_length)\n",
    "a.parser.add_argument('ba', type = int, default = 1)\n",
    "a.args = a.parser.convert_arg_line_to_args(' --verbose 1')"
   ]
  },
  {
   "cell_type": "markdown",
   "metadata": {},
   "source": [
    "### Parsing the Parameter file\n",
    "Not nice: there are about 4 different names for one variable- there are the default ones in the code, the assigned ones in the code, and the ones in the parameter file. \n",
    "I will use variables that are similar to the ones defined in the grammar in the code, with the difference that they will be adapted to Python syntax ( _ instead of -), and a few have an additional postfix to clarify what they do (e.g. \\_fn = filename) \n",
    "\n",
    "\n",
    "### On the installation of neuron\n",
    "Neuron did not really work out of the box for me. \n",
    "I (ubuntu 16.04 LTS, 64 bit) did it the following way:\n",
    "- Download the .rpm package from here: https://www.neuron.yale.edu/neuron/download\n",
    "- Install it with: \n",
    "    `alien -i nrn_...*package*` (Note that the .deb package did not work out, and neither did the installation using rpm directly)\n",
    "- Edit the .bashrc file by adding the following lines: \n",
    "\n",
    "    `#Added for neuron\n",
    "    export PYTHONPATH=\"${PYTHONPATH}:/usr/lol/nrn/lib/python/\" `\n",
    "    \n",
    "    (first check that this path is actually where it got installed by going to the folder and see whether `python -c 'import neuron'` tells you about your NEURON version or whether there ain't no module called neuron.\n",
    "\n",
    "\n",
    "http://www.davison.webfactional.com/notes/hoc-to-python-bulbnet/"
   ]
  },
  {
   "cell_type": "code",
   "execution_count": 6,
   "metadata": {
    "collapsed": false
   },
   "outputs": [
    {
     "name": "stdout",
     "output_type": "stream",
     "text": [
      "Nseg for APical is 5 and Basal is 3\n",
      "\t36 \n",
      "['GoC_Ad_nsegpts', 'GoC_Axon_Ymax', 'MFxextent', 'GoC_d_lambda_f', 'GoC_ApicalDendL', 'BC_gaba_decay', 'nsag', 'PCxrange', 'numDendGolgi', 'x_c1', 'PFzoffset', 'numAMPA', 'nband', 'GoCzrange', 'numAMPAGolgiMF', 'GoCtoGCmedio', 'GoC_PhysApicalDendR', 'Gapcond', 'GoC_PhysBasolateralDendR', 'SCzrange', 'numNMDAGolgiPF', 'saggwidth', 'AA_GoC_con', 'ENABLE_GRAPHICAL_INTERFACE', 'frate', 'GoC_Bd_nsegpts', 'MFyextent', 'RandomPF', 'GoC_GoC_gap_x0', 'GoCtoGoCdecayrate', 'BCdensity', 'probGoCtoGC', 'gseed', 'v_init', 'GoC_Axon_Xmax', 'y_c2', 'MFnoise', 'PF_GoC_con', 'GoCtoGCsagittal', 'MLdev', 'BCyrange', 'GoC_Axon_Ymin', 'MLdepth', 'GoC_GoC_gap_beta', 'GoC_PhysApicalDendH', 'MFcons', 'stoptime', 'MFyrange', 'AAtoGoCzone', 'MFfreqBundle', 'CV_gmax', 'GoCtoGoCgapzone', 'MFBundleZone', 'PCLdepth', 'BC_gaba_rise', 'GoC_d_freq', 'GoC_Axon_Zmin', 'MFtoGCzone', 'GoC_d_diam', 'clear_ds', 'BCzone', 'SCtoPCratio', 'TS_goc', 'SCdensity', 'GoC_AxonL', 'PCzrange', 'GoC_GoC_gap_lambda', 'SC_ampa_rise', 'connectacrossbands', 'GoC_GoC_gap_A2', 'GoC_Bd_nseg', 'BCxrange', 'ProbGoCtoGoCbase', 'Scale_factor', 'dendz', 'GoC_GoC_inh_con', 'AAstep', 'GoC_Btheta_stdev', 'Golgi_den_con', 'GoC_d_lambda', 'GoC_Atheta_max', 'box_fac', 'loadtop', 'GoC_GoC_gap_con', 'numAMPAGolgiGC', 'TS', 'PFlength', 'GoCyrange', 'MFxrange', 'GoC_Btheta_min', 'TS_mf', 'step_time', 'GCtoGoCratio', 'TS_pf', 'numGABAGoC', 'BC_ampa_decay', 'GLdepth', 'GoC_GoC_gap_A1', 'GoC_Btheta_max', 'step_record', 'GCzrange', 'GoCxrange', 'SCxrange', 'GoCtoGoCzone', 'GoCdensity', 'PFtoGoCzone', 'BCtoGoCratio', 'SC_ampa_decay', 'SCyrange', 'GoC_PhysBasolateralDendH', 'GCyrange', 'factorf', 'PCyrange', 'GoC_Atheta_stdev', 'ProbMFGC', 'GoC_nDendML', 'flag_vecstim', 'ProbPFtoSC', 'GoC_d_Ra', 'dendradius', 'GCtoPCratio', 'sigmad', 'GoC_Axon_Zmax', 'x_c2', 'BC_ampa_rise', 'MFfreq', 'SC_gaba_decay', 'GoC_BasolateralDendL', 'numAxonGolgi', 'numGABA', 'MFstdnorm', 'GoC_GoC_gap_dx', 'SC_gaba_rise', 'ProbPFtoBC', 'numseg', 'GoC_cm', 'BCzrange', 'MFdensity', 'numBundles', 'GoC_Ad_nseg', 'y_c1', 'numAMPAGolgiPF', 'MFtoGoCzone', 'GoC_nDendGL', 'GoC_Axon_Xmin', 'ProbMFGoC', 'MLplug', 'SCzone', 'GoC_Atheta_min', 'bandwidth', 'probAxontoGoC', 'VLOW', 'ProbPFtoGoC', 'PFstep', 'GCxrange', 'VHIGH', 'MF_GC_con']\n"
     ]
    }
   ],
   "source": [
    "from neuron import hoc, h\n",
    "# weird thing that I did not get yet: despite all the copy statements, the second time you calculate d_l, it would give 0. \n",
    "# Thus, the hoc objects must somehow take on each other's parameters... \n",
    "\n",
    "empty_hoc = dir(hoc.HocObject()).copy()\n",
    "config_fn = './input_files/Parameters.hoc'\n",
    "h.xopen(config_fn)\n",
    "full_hoc = dir(h).copy()\n",
    "if 'd_l' not in globals():\n",
    "    d_l = list (set (full_hoc)  - set (empty_hoc)).copy()\n",
    "    \n",
    "print (d_l)"
   ]
  },
  {
   "cell_type": "code",
   "execution_count": 1,
   "metadata": {
    "collapsed": false
   },
   "outputs": [],
   "source": [
    "from neuron import h\n",
    "\n",
    "\n"
   ]
  },
  {
   "cell_type": "code",
   "execution_count": 9,
   "metadata": {
    "collapsed": false
   },
   "outputs": [
    {
     "name": "stdout",
     "output_type": "stream",
     "text": [
      "['GoC_d_Ra', 'SC_gaba_decay', 'PFstep', 'MFdensity', 'ProbPFtoGoC', 'numAMPAGolgiPF', 'numAxonGolgi', 'GoC_GoC_gap_x0', 'MFxrange', 'BC_gaba_rise', 'GoC_Btheta_max', 'GoC_GoC_gap_lambda', 'SCdensity', 'nband', 'numGABAGoC', 'x_c2', 'MLplug', 'connectacrossbands', 'AAtoGoCzone', 'GoC_Atheta_max', 'PCzrange', 'GoCtoGoCzone', 'ENABLE_GRAPHICAL_INTERFACE', 'GoC_GoC_gap_dx', 'GoCtoGCsagittal', 'GoC_Bd_nsegpts', 'GoC_Axon_Zmin', 'VLOW', 'GoC_GoC_gap_con', 'BC_ampa_rise', 'numAMPA', 'PF_GoC_con', 'GoC_GoC_gap_beta', 'MF_GC_con', 'GoCyrange', 'GoC_Axon_Xmin', 'ProbMFGoC', 'v_init', 'GoC_d_diam', 'CV_gmax', 'stoptime', 'SC_ampa_decay', 'probGoCtoGC', 'box_fac', 'BCdensity', 'GCtoPCratio', 'nsag', 'Gapcond', 'SCzone', 'Scale_factor', 'BCtoGoCratio', 'ProbGoCtoGoCbase', 'GoC_PhysApicalDendH', 'saggwidth', 'GoC_Axon_Ymax', 'MFfreq', 'frate', 'loadtop', 'TS', 'GoC_ApicalDendL', 'numAMPAGolgiMF', 'GoC_Axon_Ymin', 'GoC_Atheta_stdev', 'numDendGolgi', 'SC_ampa_rise', 'GoC_Btheta_stdev', 'Golgi_den_con', 'GoC_d_freq', 'GoCtoGoCgapzone', 'GoC_Ad_nsegpts', 'GoC_nDendGL', 'PCLdepth', 'MFyextent', 'numseg', 'GLdepth', 'x_c1', 'VHIGH', 'GoC_Axon_Zmax', 'GoC_Axon_Xmax', 'PCyrange', 'GoC_PhysApicalDendR', 'MFBundleZone', 'MFfreqBundle', 'factorf', 'step_record', 'SCyrange', 'y_c1', 'gseed', 'GoC_cm', 'MLdepth', 'PCxrange', 'MFtoGoCzone', 'SCtoPCratio', 'GoCtoGoCdecayrate', 'GoC_d_lambda', 'dendradius', 'MFnoise', 'ProbMFGC', 'GoC_PhysBasolateralDendR', 'y_c2', 'MFxextent', 'BC_ampa_decay', 'GoC_GoC_gap_A1', 'GoCzrange', 'ProbPFtoSC', 'GoC_GoC_gap_A2', 'PFzoffset', 'GoC_PhysBasolateralDendH', 'clear_ds', 'GoC_nDendML', 'GCyrange', 'GoC_BasolateralDendL', 'dendz', 'SCxrange', 'GoC_Ad_nseg', 'TS_pf', 'numGABA', 'probAxontoGoC', 'MLdev', 'sigmad', 'SCzrange', 'step_time', 'BCzone', 'MFcons', 'numNMDAGolgiPF', 'BC_gaba_decay', 'numBundles', 'GCzrange', 'GoCxrange', 'SC_gaba_rise', 'MFyrange', 'MFstdnorm', 'GoC_GoC_inh_con', 'BCzrange', 'flag_vecstim', 'GoC_Bd_nseg', 'RandomPF', 'GoC_Btheta_min', 'TS_goc', 'GoCtoGCmedio', 'PFlength', 'GCtoGoCratio', 'GCxrange', 'ProbPFtoBC', 'TS_mf', 'BCyrange', 'GoC_d_lambda_f', 'BCxrange', 'GoC_Atheta_min', 'AA_GoC_con', 'GoC_AxonL', 'PFtoGoCzone', 'numAMPAGolgiGC', 'MFtoGCzone', 'GoCdensity', 'bandwidth', 'AAstep']\n",
      "[]\n"
     ]
    }
   ],
   "source": [
    "\n"
   ]
  },
  {
   "cell_type": "code",
   "execution_count": 8,
   "metadata": {
    "collapsed": false
   },
   "outputs": [
    {
     "name": "stdout",
     "output_type": "stream",
     "text": [
      "<class 'str'>\n"
     ]
    },
    {
     "ename": "NameError",
     "evalue": "name 'isempty' is not defined",
     "output_type": "error",
     "traceback": [
      "\u001b[1;31m---------------------------------------------------------------------------\u001b[0m",
      "\u001b[1;31mNameError\u001b[0m                                 Traceback (most recent call last)",
      "\u001b[1;32m<ipython-input-8-367ff52d0950>\u001b[0m in \u001b[0;36m<module>\u001b[1;34m()\u001b[0m\n\u001b[0;32m      1\u001b[0m \u001b[0ma\u001b[0m \u001b[1;33m=\u001b[0m \u001b[1;34m''\u001b[0m\u001b[1;33m\u001b[0m\u001b[0m\n\u001b[0;32m      2\u001b[0m \u001b[0mprint\u001b[0m \u001b[1;33m(\u001b[0m\u001b[0mtype\u001b[0m\u001b[1;33m(\u001b[0m\u001b[0ma\u001b[0m\u001b[1;33m)\u001b[0m\u001b[1;33m)\u001b[0m\u001b[1;33m\u001b[0m\u001b[0m\n\u001b[1;32m----> 3\u001b[1;33m \u001b[0mprint\u001b[0m \u001b[1;33m(\u001b[0m\u001b[0misempty\u001b[0m\u001b[1;33m(\u001b[0m\u001b[0ma\u001b[0m\u001b[1;33m)\u001b[0m\u001b[1;33m)\u001b[0m\u001b[1;33m\u001b[0m\u001b[0m\n\u001b[0m",
      "\u001b[1;31mNameError\u001b[0m: name 'isempty' is not defined"
     ]
    }
   ],
   "source": [
    "a = ''\n",
    "print (type(a))\n",
    "print (isempty(a))"
   ]
  },
  {
   "cell_type": "code",
   "execution_count": null,
   "metadata": {
    "collapsed": true
   },
   "outputs": [],
   "source": []
  }
 ],
 "metadata": {
  "kernelspec": {
   "display_name": "Python 3",
   "language": "python",
   "name": "python3"
  },
  "language_info": {
   "codemirror_mode": {
    "name": "ipython",
    "version": 3
   },
   "file_extension": ".py",
   "mimetype": "text/x-python",
   "name": "python",
   "nbconvert_exporter": "python",
   "pygments_lexer": "ipython3",
   "version": "3.5.2"
  }
 },
 "nbformat": 4,
 "nbformat_minor": 1
}
