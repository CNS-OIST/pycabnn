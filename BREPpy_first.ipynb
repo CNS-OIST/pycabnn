{
 "cells": [
  {
   "cell_type": "markdown",
   "metadata": {},
   "source": [
    "# BREPpy sandbox\n",
    "\n",
    "\n",
    "**So far:**\n",
    "- Generate the cell-representing dots\n",
    "- Implement knn-search\n",
    "    - (Optimize speed -> Parallelize!)\n",
    "- Write tests (General correct function, Comparison with scheme-BREP)\n",
    "\n",
    "**Open questions:**\n",
    "- How was the spacing \n",
    "\n"
   ]
  },
  {
   "cell_type": "markdown",
   "metadata": {},
   "source": [
    "## Parsing the Parameter file\n",
    "\n"
   ]
  },
  {
   "cell_type": "markdown",
   "metadata": {},
   "source": [
    "Not nice: there are about 4 different names for one variable- there are the default ones in the code, the assigned ones in the code, and the ones in the parameter file. \n",
    "I will use variables that are similar to the ones defined in the grammar in the code, with the difference that they will be adapted to Python syntax ( _ instead of -), and a few have an additional postfix to clarify what they do (e.g. \\_fn = filename) "
   ]
  },
  {
   "cell_type": "markdown",
   "metadata": {},
   "source": [
    "### On the installation of neuron\n",
    "Neuron did not really work out of the box for me. \n",
    "I (ubuntu 16.04 LTS, 64 bit) did it the following way:\n",
    "- Download the .rpm package from here: https://www.neuron.yale.edu/neuron/download\n",
    "- Install it with: \n",
    "    `alien -i nrn_...*package*` (Note that the .deb package did not work out, and neither did the installation using rpm directly)\n",
    "- Edit the .bashrc file by adding the following lines: \n",
    "\n",
    "    `#Added for neuron\n",
    "    export PYTHONPATH=\"${PYTHONPATH}:/usr/local/nrn/lib/python/\" `\n",
    "    \n",
    "    (first check that this path is actually where it got installed by going to the folder and see whether `python -c 'import neuron'` tells you about your NEURON version or whether there ain't no module called neuron.\n",
    "\n",
    "\n",
    "http://www.davison.webfactional.com/notes/hoc-to-python-bulbnet/"
   ]
  },
  {
   "cell_type": "code",
   "execution_count": 18,
   "metadata": {
    "ExecuteTime": {
     "end_time": "2017-10-31T12:00:02.748933Z",
     "start_time": "2017-10-31T11:59:55.600192Z"
    },
    "collapsed": false
   },
   "outputs": [],
   "source": [
    "import argparse\n",
    "import numpy as np\n",
    "import datetime\n",
    "import pickle \n",
    "import warnings\n",
    "import neuron\n",
    "import sys\n",
    "import csv\n",
    "import matplotlib.pyplot as plt\n",
    "from mpl_toolkits.mplot3d import Axes3D\n",
    "%matplotlib inline\n",
    "#! echo $PYTHONPATH"
   ]
  },
  {
   "cell_type": "code",
   "execution_count": 2,
   "metadata": {
    "collapsed": false
   },
   "outputs": [],
   "source": [
    "%run BREPpy.py\n",
    "\n",
    "#Todo: Read in from command line for int or bool parameters.\n",
    "b = Brep()\n",
    "b.init_from_script(['--config_fn','./input_files/Parameters.hoc'])\n",
    "b.read_in_config()"
   ]
  },
  {
   "cell_type": "markdown",
   "metadata": {
    "collapsed": true
   },
   "source": [
    "## Checking out the output of the original BREP program."
   ]
  },
  {
   "cell_type": "code",
   "execution_count": 4,
   "metadata": {
    "code_folding": [
     0
    ],
    "collapsed": false
   },
   "outputs": [],
   "source": [
    "##filenames and input paths for the different files.\n",
    "import os\n",
    "from collections import OrderedDict\n",
    "res_p = os.path.normpath(os.getcwd()+'/output_1/')\n",
    "\n",
    "fns = OrderedDict ()\n",
    "fns['aa_gol_dist']='AAtoGoCdistances.dat'\n",
    "fns['aa_gol_segs']='AAtoGoCsegments.dat'\n",
    "fns['aa_gol_source']='AAtoGoCsources.dat'\n",
    "fns['aa_gol_target']='AAtoGoCtargets.dat'\n",
    "\n",
    "fns['gran_coord'] ='GCcoordinates.sorted.dat'       \n",
    "fns['gran_t_coord']='GCTcoordinates.sorted.dat'\n",
    "    \n",
    "fns['go_coord']='GoCcoordinates.sorted.dat'\n",
    "fns['go_basd_coord']='GoCbdendcoordinates.sorted.dat'\n",
    "fns['go_apical_coord']='GoCadendcoordinates.sorted.dat'\n",
    "fns['go_axon_coord']='GoCaxoncoordinates.sorted.dat'\n",
    "fns['go_dist']='GoCdistances.dat' \n",
    "       \n",
    "fns['go_go_dist']='GoCtoGoCdistances.dat'\n",
    "fns['go_go_source']='GoCtoGoCsources.dat'\n",
    "fns['go_go_targets']='GoCtoGoCtargets.dat'\n",
    "fns['go_go_gap_dist']='GoCtoGoCgapdistances.dat'\n",
    "fns['go_go_gap_source']='GoCtoGoCgapsources.dat'\n",
    "fns['go_go_gap_target']='GoCtoGoCgaptargets.dat'\n",
    "\n",
    "fns['pf_go_dist']='PFtoGoCdistances.dat'\n",
    "fns['pf_go_seg']='PFtoGoCsegments.dat'\n",
    "fns['pf_go_source']='PFtoGoCsources.dat'\n",
    "fns['pf_go_target']='PFtoGoCtargets.dat'\n",
    "\n",
    "#for k,v in fns.items():\n",
    "##    print (k)\n",
    "#a = import_csv(in_f)\n",
    "#rr = read_in_coordfile (in_goba)"
   ]
  },
  {
   "cell_type": "code",
   "execution_count": 6,
   "metadata": {
    "code_folding": [
     2
    ],
    "collapsed": false
   },
   "outputs": [],
   "source": [
    "\n",
    "#def import_csv (fn):\n",
    "def read_in_coordfile (fn, parse_ignore = True):\n",
    "    res = []\n",
    "    with open (fn, newline = '') as f:\n",
    "        rr = csv.reader(f, delimiter = ' ')\n",
    "        err = []\n",
    "        for line in rr:\n",
    "            ar = []\n",
    "            for j in range(len(line)):\n",
    "                try: ar.append(float(line[j]))\n",
    "                except: err.append(line[j])\n",
    "            res.append(np.asarray(ar))\n",
    "    if len(err)> 0 and not parse_ignore: print ('Could not parse on {} instances: {}'.format(len(err), set(err)))\n",
    "    return np.asarray(res)\n",
    "\n",
    "#reshape\n",
    "def coord_reshape (dat):\n",
    "    dat = dat.reshape([dat.shape[0], int(dat.shape[1]/3),3])\n",
    "    return dat\n",
    "\n",
    "#rr = read_in_coordfile(fn)"
   ]
  },
  {
   "cell_type": "code",
   "execution_count": 473,
   "metadata": {
    "collapsed": false
   },
   "outputs": [
    {
     "name": "stdout",
     "output_type": "stream",
     "text": [
      "Read in file:  AAtoGoCdistances.dat\n",
      "Shape 1 is:  (6710504, 1)\n",
      "Shape 2 is:  (6791558, 1)\n",
      "First elements in 1 are: [  72.40834762  134.96968328  134.16163914   57.545658    132.6008968\n",
      "  131.98243735   54.86484883  131.93994811   54.41139699  131.33764955\n",
      "   54.84450738   54.73146502  131.55278608   54.29964586   53.71808993]\n",
      "First elements in 2 are: [ 211.2796311   211.26980386  210.67810779  209.55052216  132.6845687\n",
      "  209.4256309   132.61236629  132.53076982  208.84039181  132.14997176\n",
      "  209.00578191   55.24744928  209.00317589  209.14315443  132.33628668]\n",
      " \n",
      "Read in file:  AAtoGoCsegments.dat\n",
      "Shape 1 is:  (6710504, 2)\n",
      "Shape 2 is:  (6791558, 2)\n",
      "First elements in 1 are: [ 1.  3.  1.  3.  1.  3.  1.  3.  1.  3.  1.  3.  1.  3.  1.]\n",
      "First elements in 2 are: [ 1.  3.  1.  3.  1.  3.  1.  3.  1.  3.  1.  3.  1.  3.  1.]\n",
      " \n",
      "Read in file:  AAtoGoCsources.dat\n",
      "Shape 1 is:  (6710504, 1)\n",
      "Shape 2 is:  (6791558, 1)\n",
      "First elements in 1 are: [ 9838.  8704.  8734.  9781.  8713.  8744.  9773.  8526.  9798.  8551.\n",
      "  9780.  9761.  8546.  9807.  9841.]\n",
      "First elements in 2 are: [ 8722.  8702.  8709.  8594.  9828.  8574.  9808.  9811.  8585.  9829.\n",
      "  8545.  9998.  8546.  8524.  9788.]\n",
      " \n",
      "Read in file:  AAtoGoCtargets.dat\n",
      "Shape 1 is:  (6710504, 1)\n",
      "Shape 2 is:  (6791558, 1)\n",
      "First elements in 1 are: [ 199.  199.  199.  199.  199.  199.  199.  199.  199.  199.  199.  199.\n",
      "  199.  199.  199.]\n",
      "First elements in 2 are: [ 199.  199.  199.  199.  199.  199.  199.  199.  199.  199.  199.  199.\n",
      "  199.  199.  199.]\n",
      " \n",
      "Read in file:  GCcoordinates.sorted.dat\n",
      "Shape 1 is:  (10000, 3)\n",
      "Shape 2 is:  (10000, 3)\n",
      "First elements in 1 are: [  2.92099674e-02   1.43426477e+00   3.14339780e+01   4.38020162e-02\n",
      "   1.54191876e+00   3.41657133e+00   4.66044180e-02   1.66561430e+00\n",
      "   2.88222102e+01   4.91275406e-02   1.34833232e+00   2.63926429e+01\n",
      "   5.30541546e-02   6.44615726e-01   1.96030531e+01]\n",
      "First elements in 2 are: [  1.16266506e-02   1.20264431e+00   2.07962694e+01   1.84952476e-02\n",
      "   3.73424689e-01   3.64349089e+01   2.34072273e-02   3.16049522e-01\n",
      "   4.45561700e+01   2.53834757e-02   9.06163862e-01   4.45303660e+01\n",
      "   2.70344123e-02   8.96549986e-01   3.00468121e+01]\n",
      " \n",
      "Read in file:  GCTcoordinates.sorted.dat\n",
      "Shape 1 is:  (6, 3)\n",
      "Shape 2 is:  (6, 3)\n",
      "First elements in 1 are: [   1.    4.  408.    1.    2.  397.    1.    2.  361.    1.    4.  317.\n",
      "    1.    3.  386.]\n",
      "First elements in 2 are: [   1.    4.  408.    1.    2.  397.    1.    2.  361.    1.    4.  317.\n",
      "    1.    3.  386.]\n",
      " \n",
      "Read in file:  GoCcoordinates.sorted.dat\n",
      "Shape 1 is:  (200, 3)\n",
      "Shape 2 is:  (200, 3)\n",
      "First elements in 1 are: [  2.11967489e+00   4.24253352e-02   3.57897748e+01   7.29914164e-01\n",
      "   8.84742346e-02   1.77876056e+02   8.63677047e-01   1.01990835e-01\n",
      "   1.93234543e+02   1.04538273e+00   1.25710868e-01   7.89004631e+01\n",
      "   3.49460682e-01   5.34039174e-01   1.55116542e+02]\n",
      "First elements in 2 are: [  8.22694237e-01   5.38353925e-02   1.54756912e+02   2.22174971e+00\n",
      "   1.56910414e-01   1.48427776e+02   2.41837376e+00   2.90574039e-01\n",
      "   9.05544356e+01   2.21220544e+00   7.67871701e-01   1.63634050e+02\n",
      "   9.85591201e-01   7.83905824e-01   3.86919940e+01]\n",
      " \n",
      "Read in file:  GoCbdendcoordinates.sorted.dat\n",
      "Shape 1 is:  (200, 72)\n",
      "Shape 2 is:  (200, 72)\n",
      "First elements in 1 are: [  2.11967489   0.04242534  35.78977479  -0.6250809    4.75606318\n",
      "  35.24432024  -3.36983669   9.46970103  34.69886569  -6.11459248\n",
      "  14.18333888  34.15341115  -8.85934827  18.89697673  33.6079566 ]\n",
      "First elements in 2 are: [  8.22694237e-01   5.38353925e-02   1.54756912e+02  -2.00079182e+00\n",
      "   4.72073936e+00   1.54211457e+02  -4.82427787e+00   9.38764332e+00\n",
      "   1.53666003e+02  -7.64776393e+00   1.40545473e+01   1.53120548e+02\n",
      "  -1.04712500e+01   1.87214513e+01   1.52575094e+02]\n",
      " \n",
      "Read in file:  GoCadendcoordinates.sorted.dat\n",
      "Shape 1 is:  (200, 150)\n",
      "Shape 2 is:  (200, 150)\n",
      "First elements in 1 are: [  2.11967489e+00   4.24253352e-02   3.57897748e+01  -1.94728857e+00\n",
      "   9.48471334e-01   4.96231081e+01  -6.01425202e+00   1.85451733e+00\n",
      "   6.34564415e+01  -1.00812155e+01   2.76056333e+00   7.72897748e+01\n",
      "  -1.41481789e+01   3.66660933e+00   9.11231081e+01]\n",
      "First elements in 2 are: [  8.22694237e-01   5.38353925e-02   1.54756912e+02   5.11919989e-01\n",
      "   4.20889622e+00   1.68590245e+02   2.01145740e-01   8.36395705e+00\n",
      "   1.82423579e+02  -1.09628508e-01   1.25190179e+01   1.96256912e+02\n",
      "  -4.20402757e-01   1.66740787e+01   2.10090245e+02]\n",
      " \n",
      "Read in file:  GoCaxoncoordinates.sorted.dat\n",
      "Shape 1 is:  (200, 120)\n",
      "Shape 2 is:  (200, 120)\n",
      "First elements in 1 are: [  2.11967489e+00   4.24253352e-02   3.57897748e+01   2.11967489e+00\n",
      "  -7.94575747e+01  -1.21022521e+00   2.11967489e+00   4.24253352e-02\n",
      "   3.57897748e+01  -3.48803251e+01   2.05424253e+01  -3.72102252e+01\n",
      "   2.11967489e+00   4.24253352e-02   3.57897748e+01]\n",
      "First elements in 2 are: [  8.22694237e-01   5.38353925e-02   1.54756912e+02  -3.11773058e+01\n",
      "  -1.11446165e+02   2.27756912e+02   8.22694237e-01   5.38353925e-02\n",
      "   1.54756912e+02   3.78226942e+01  -1.02446165e+02   1.19756912e+02\n",
      "   8.22694237e-01   5.38353925e-02   1.54756912e+02]\n",
      " \n",
      "Read in file:  GoCdistances.dat\n",
      "Shape 1 is:  (39800, 3)\n",
      "Shape 2 is:  (39800, 3)\n",
      "First elements in 1 are: [   0.            1.          142.09308533    0.            2.\n",
      "  157.44978905    0.            3.           43.12415203    0.            4.\n",
      "  119.3409093     0.            5.           57.58487626]\n",
      "First elements in 2 are: [   0.            1.            6.48274215    0.            2.\n",
      "   64.22273916    0.            3.            9.01355438    0.            4.\n",
      "  116.06732847    0.            5.           64.83014992]\n",
      " \n",
      "Read in file:  GoCtoGoCdistances.dat\n",
      "Shape 1 is:  (28971, 1)\n",
      "Shape 2 is:  (28918, 1)\n",
      "First elements in 1 are: [ 204.67474932  143.51234785  139.63910973  149.12592275  116.24264164\n",
      "   94.27480316  120.9470865   113.49496076   75.59782605  126.79818482\n",
      "  110.4684031   122.16915411  103.93430191  217.98100778   41.88766941]\n",
      "First elements in 2 are: [ 154.21400973   92.36243981  105.92020789  151.0343013    99.94362838\n",
      "  204.29195553  183.48129445  117.45034298  125.81160279  104.52911739\n",
      "  126.37735486   87.35638828  128.08245972  140.09905996  173.12174398]\n",
      " \n",
      "Read in file:  GoCtoGoCsources.dat\n",
      "Shape 1 is:  (28971, 1)\n",
      "Shape 2 is:  (28918, 1)\n",
      "First elements in 1 are: [  29.   95.  111.   41.   45.  164.   22.  115.   14.  191.  147.  192.\n",
      "    3.   73.  106.]\n",
      "First elements in 2 are: [ 155.   81.   74.  146.  114.  148.  196.  154.   50.  161.   44.   19.\n",
      "  128.   70.  126.]\n",
      " \n",
      "Read in file:  GoCtoGoCtargets.dat\n",
      "Shape 1 is:  (28971, 1)\n",
      "Shape 2 is:  (28918, 1)\n",
      "First elements in 1 are: [ 199.  199.  199.  199.  199.  199.  199.  199.  199.  199.  199.  199.\n",
      "  199.  199.  199.]\n",
      "First elements in 2 are: [ 199.  199.  199.  199.  199.  199.  199.  199.  199.  199.  199.  199.\n",
      "  199.  199.  199.]\n",
      " \n",
      "Read in file:  GoCtoGoCgapdistances.dat\n",
      "Shape 1 is:  (25580, 1)\n",
      "Shape 2 is:  (25766, 1)\n",
      "First elements in 1 are: [ 17.75951662  65.79048276  52.04343004  13.28818546  46.29242785\n",
      "  54.73232036  76.36443417  43.23773634   6.19199264   5.88287995\n",
      "   5.85895196  36.21259885   1.9524113   67.55205461  33.85475679]\n",
      "First elements in 2 are: [  1.30734677  47.74188488  16.97711031   1.33378281  33.38637738\n",
      "  36.98147887  67.26747067  21.00823042  17.94723337  33.11732036\n",
      "  33.26748009  14.19015546  78.67018883  42.98034604  45.51286054]\n",
      " \n",
      "Read in file:  GoCtoGoCgapsources.dat\n",
      "Shape 1 is:  (25580, 1)\n",
      "Shape 2 is:  (25766, 1)\n",
      "First elements in 1 are: [ 198.  196.  195.  194.  193.  192.  191.  190.  189.  187.  186.  185.\n",
      "  184.  182.  181.]\n",
      "First elements in 2 are: [ 198.  196.  195.  194.  189.  186.  185.  184.  182.  181.  180.  177.\n",
      "  176.  175.  174.]\n",
      " \n",
      "Read in file:  GoCtoGoCgaptargets.dat\n",
      "Shape 1 is:  (25580, 1)\n",
      "Shape 2 is:  (25766, 1)\n",
      "First elements in 1 are: [ 199.  199.  199.  199.  199.  199.  199.  199.  199.  199.  199.  199.\n",
      "  199.  199.  199.]\n",
      "First elements in 2 are: [ 199.  199.  199.  199.  199.  199.  199.  199.  199.  199.  199.  199.\n",
      "  199.  199.  199.]\n",
      " \n",
      "Read in file:  PFtoGoCdistances.dat\n",
      "Shape 1 is:  (42, 1)\n",
      "Shape 2 is:  (46, 1)\n",
      "First elements in 1 are: [ 260.53844231  225.50455438  225.50455438  166.73511892  380.14241658\n",
      "  357.29032024  320.91683808  320.91683808  262.46873891  371.51038757\n",
      "  355.89248569  321.45403586  321.45403586  259.80850246  372.05044917]\n",
      "First elements in 2 are: [ 453.58899054  343.27046452  321.51170336  299.71256442  282.86373566\n",
      "  249.34619619  249.34619619  188.97698022  370.59296438  357.54410707\n",
      "  314.31127683  314.31127683  260.83118532  227.32714795  227.32714795]\n",
      " \n",
      "Read in file:  PFtoGoCsegments.dat\n",
      "Shape 1 is:  (42, 2)\n",
      "Shape 2 is:  (46, 2)\n",
      "First elements in 1 are: [ 3.  4.  3.  4.  3.  4.  2.  4.  5.  3.  4.  3.  4.  3.  4.]\n",
      "First elements in 2 are: [ 5.  3.  4.  3.  4.  3.  4.  3.  4.  3.  3.  3.  3.  3.  3.]\n",
      " \n",
      "Read in file:  PFtoGoCsources.dat\n",
      "Shape 1 is:  (42, 1)\n",
      "Shape 2 is:  (46, 1)\n",
      "First elements in 1 are: [ 4.  5.  2.  3.  1.  4.  5.  2.  3.  1.  4.  5.  2.  3.  4.]\n",
      "First elements in 2 are: [ 1.  3.  0.  1.  4.  5.  2.  3.  1.  4.  5.  2.  3.  5.  2.]\n",
      " \n",
      "Read in file:  PFtoGoCtargets.dat\n",
      "Shape 1 is:  (42, 1)\n",
      "Shape 2 is:  (46, 1)\n",
      "First elements in 1 are: [ 183.  183.  183.  183.  180.  180.  180.  180.  180.  180.  180.  180.\n",
      "  180.  180.  173.]\n",
      "First elements in 2 are: [ 188.  188.  184.  184.  184.  184.  184.  184.  181.  181.  181.  181.\n",
      "  181.  175.  175.]\n",
      " \n"
     ]
    }
   ],
   "source": [
    "# An overview over the different files that BREP produces and the comparison between two different files\n",
    "for k, v in fns.items():\n",
    "    print ('Read in file: ', v)\n",
    "    c_p = os.getcwd()+'/output_1/'+v\n",
    "    cur = read_in_coordfile(c_p)\n",
    "    \n",
    "    c_p2 = os.getcwd()+'/output_2/'+v\n",
    "    cur2 = read_in_coordfile(c_p2)\n",
    "\n",
    "    print ('Shape 1 is: ', cur.shape)\n",
    "    print ('Shape 2 is: ', cur2.shape)\n",
    "    \n",
    "    print ('First elements in 1 are:', cur.flatten()[:15])\n",
    "    print ('First elements in 2 are:', cur2.flatten()[:15])\n",
    "    \n",
    "    print (' ')"
   ]
  },
  {
   "cell_type": "markdown",
   "metadata": {},
   "source": [
    "### Notable things\n",
    "- BREP does not seem to take into account the densities from the config file. It just uses the number of Golgi/Granule cells that are defined in its default. The parameters NumGC or NumGoC which is defined in the input dict does not exist in the Parameter.hoc file at all.\n",
    "- BREP does not seem to check for or find out if there is a number of GCT points that is not related to the number of GC points. It just simulates GC points with aa independently of the GCT points that are the origin of the PF\n",
    "- The connectivity also does not correspond "
   ]
  },
  {
   "cell_type": "markdown",
   "metadata": {},
   "source": [
    "## Golgi cells\n"
   ]
  },
  {
   "cell_type": "markdown",
   "metadata": {},
   "source": [
    "### Visualization"
   ]
  },
  {
   "cell_type": "code",
   "execution_count": 16,
   "metadata": {
    "collapsed": false
   },
   "outputs": [
    {
     "name": "stdout",
     "output_type": "stream",
     "text": [
      "(200, 40, 3)\n",
      "(200, 120)\n"
     ]
    }
   ],
   "source": [
    "# Visualize Golgi cells\n",
    "import matplotlib.pyplot as plt\n",
    "from mpl_toolkits.mplot3d import Axes3D\n",
    "%matplotlib inline\n",
    "\n",
    "#read in\n",
    "coord = read_in_coordfile(res_p +'/'+fns['go_coord'])\n",
    "apical = read_in_coordfile(res_p +'/'+fns['go_apical_coord'])\n",
    "basal = read_in_coordfile(res_p +'/'+fns['go_basd_coord'])\n",
    "axon = read_in_coordfile(res_p +'/'+fns['go_axon_coord'])\n",
    "new_ap = read_in_coordfile('new_apical.dat', parse_ignore=False)\n",
    "new_bas = read_in_coordfile('new_basal.dat', parse_ignore=False)\n",
    "new_ax = read_in_coordfile('new_axon.dat', parse_ignore=False)\n",
    "\n",
    "\n",
    "apical = apical.reshape([apical.shape[0],int(apical.shape[1]/3),3])\n",
    "basal = basal.reshape([basal.shape[0],int(basal.shape[1]/3),3])\n",
    "axon = axon.reshape([axon.shape[0],int(axon.shape[1]/3),3])\n",
    "print (axon.shape)\n",
    "new_ap = coord_reshape(new_ap)\n",
    "new_bas = coord_reshape(new_bas)\n",
    "print( new_ax.shape)\n",
    "new_ax = coord_reshape(new_ax)\n"
   ]
  },
  {
   "cell_type": "code",
   "execution_count": 22,
   "metadata": {
    "code_folding": [
     0
    ],
    "collapsed": false
   },
   "outputs": [
    {
     "data": {
      "text/plain": [
       "(0, 30)"
      ]
     },
     "execution_count": 22,
     "metadata": {},
     "output_type": "execute_result"
    },
    {
     "data": {
      "image/png": "[encoded data removed]",
      "text/plain": [
       "<matplotlib.figure.Figure at 0x7f62f1f859b0>"
      ]
     },
     "metadata": {},
     "output_type": "display_data"
    }
   ],
   "source": [
    "# dendrite spacing\n",
    "ap = apical[1,:]\n",
    "bas = basal[1,:]\n",
    "resa = [np.linalg.norm(ap[j,:]-ap[j+1,:]) for j in range(len(ap)-1)]\n",
    "resb = [np.linalg.norm(bas[j,:]-bas[j+1,:]) for j in range(len(bas)-1)]\n",
    "plt.plot(resa, 'b')\n",
    "plt.plot(resb, 'g')\n",
    "plt.ylim([0,30])"
   ]
  },
  {
   "cell_type": "code",
   "execution_count": 472,
   "metadata": {
    "collapsed": false
   },
   "outputs": [
    {
     "data": {
      "image/png": "[encoded data removed]",
      "text/plain": [
       "<matplotlib.figure.Figure at 0x7f44bf54f860>"
      ]
     },
     "metadata": {},
     "output_type": "display_data"
    },
    {
     "data": {
      "image/png": "[encoded data removed]",
      "text/plain": [
       "<matplotlib.figure.Figure at 0x7f44c4f45e48>"
      ]
     },
     "metadata": {},
     "output_type": "display_data"
    }
   ],
   "source": [
    "# plot\n",
    "ns = np.arange(1) #neurons to be plotted.\n",
    "\n",
    "plot_somata = True\n",
    "plot_apical = 0\n",
    "plot_basal = 0\n",
    "plot_axon = 0\n",
    "plot_new_ap = 0\n",
    "plot_new_bas  = 0\n",
    "plot_new_ax = 1\n",
    "overlay = 0\n",
    "\n",
    "options= [\n",
    "    (apical, plot_apical, 'kx'),\n",
    "    (basal, plot_basal, 'gx'), \n",
    "    (axon, plot_axon, 'r.'), \n",
    "    (new_ap, plot_new_ap, 'cx'),\n",
    "    (new_bas, plot_new_bas, 'mx'),\n",
    "    (new_ax, plot_new_ax, 'y.')]\n",
    "\n",
    "\n",
    "fig = plt.figure()\n",
    "ax = fig.gca(projection='3d')\n",
    "if plot_somata: \n",
    "    if not overlay: ax.plot(coord[ns,0], coord[ns,1], coord[ns,2], 'bo')\n",
    "    else: ax.plot ([0],[0],[0],'bo')\n",
    "\n",
    "#plot dendrites and axon.\n",
    "for pts, yn, col in options:\n",
    "    for i in ns:\n",
    "        if yn:\n",
    "            if overlay: pt = pts[i,:,:]-coord[i,:]\n",
    "            else: pt = pts[i,:,:]\n",
    "            ax.plot(pt[:,0], pt[:,1], pt[:,2], col)\n",
    "\n",
    "#ax.view_init(30,180)\n",
    "proj2D = True\n",
    "if proj2D:\n",
    "    plt.figure()\n",
    "    for pts, yn, col in options:\n",
    "        for i in ns:\n",
    "            if yn:\n",
    "                if overlay: pt = pts[i,:,:]-coord[i,:]\n",
    "                else: pt = pts[i,:,:]\n",
    "                plt.plot(pt[:,0], pt[:,1], col)"
   ]
  },
  {
   "cell_type": "markdown",
   "metadata": {
    "ExecuteTime": {
     "end_time": "2017-10-31T10:56:34.126245Z",
     "start_time": "2017-10-31T10:56:34.122943Z"
    }
   },
   "source": [
    "### Distances"
   ]
  },
  {
   "cell_type": "code",
   "execution_count": 428,
   "metadata": {
    "collapsed": false
   },
   "outputs": [
    {
     "name": "stdout",
     "output_type": "stream",
     "text": [
      "[[   0.            1.          142.09308533]\n",
      " [   0.            2.          157.44978905]\n",
      " [   0.            3.           43.12415203]\n",
      " ..., \n",
      " [ 199.          196.           65.79048276]\n",
      " [ 199.          197.           95.59447442]\n",
      " [ 199.          198.           17.75951662]]\n",
      "[[  -0.   -0.   -0.]\n",
      " [  -1.    0.  142.]\n",
      " [  -1.    0.  157.]\n",
      " ..., \n",
      " [   3.   -0.   96.]\n",
      " [   3.   -0.  -18.]\n",
      " [  -0.   -0.   -0.]]\n"
     ]
    }
   ],
   "source": [
    "res = np.zeros((40000, 3))\n",
    "for i in range(200):\n",
    "    for j in range(200):\n",
    "        res[i*200+j,:] = coord[i,:]-coord[j,:]\n",
    "#dist = [coord[i,:]-coord[j,:] for i,j in range(200)]\n",
    "dist = read_in_coordfile(res_p +'/'+fns['go_dist'])\n",
    "\n",
    "print (dist)\n",
    "print (np.round(-res))\n",
    "#print (res[1:100,:] + dist[:99,:])\n",
    "#the distances file just contains all possible differences betwween the different Golgi cells, rounded in an inconsistant way."
   ]
  },
  {
   "cell_type": "markdown",
   "metadata": {
    "ExecuteTime": {
     "end_time": "2017-10-31T10:57:31.241861Z",
     "start_time": "2017-10-31T10:57:31.239094Z"
    }
   },
   "source": [
    "### Golgi-Golgi Interactions"
   ]
  },
  {
   "cell_type": "code",
   "execution_count": 250,
   "metadata": {
    "collapsed": false
   },
   "outputs": [
    {
     "name": "stdout",
     "output_type": "stream",
     "text": [
      "[  56.31006333  113.8559862   110.4045377    15.34303723  107.9276772\n",
      "   94.27480316   56.04726051   59.50642166   38.07129959   76.36443417\n",
      "   47.9885867    54.73232036    9.8691233    65.98634018   41.88766941\n",
      "   58.04680016  112.99076202   15.5543146   119.87818485   10.0483928\n",
      "  103.291404     16.35245464   94.02119516   67.55205461   18.50082904\n",
      "   15.22664819  115.69709246  109.09285366    0.82075037   11.9595946\n",
      "   25.85390636   36.21259885   33.85475679    3.03820216   40.04966157\n",
      "   43.23773634   24.74031385   65.69946128   38.12732945   62.91163291\n",
      "   14.74542281   35.99190708   37.27495948   13.13174009   50.95825049\n",
      "   79.06989875  112.50682176   65.79048276  117.48522206    9.22962467\n",
      "   53.59530878   99.70743204   64.50728449   20.58380682   93.81356417\n",
      "   95.59447442   18.17589638  112.47734432   19.9397943    16.30913634\n",
      "   61.08593857   35.55643808   22.26225624   36.79938365   22.50878582\n",
      "    5.85895196   26.49809677   93.45842923   45.28039136   12.95481222\n",
      "   38.66562495   19.41269051    8.12621171    5.60927963   84.01736424\n",
      "   74.20884803   68.20402378    5.88287995   58.86781215   12.40294833\n",
      "    8.34790785   68.36091408   53.60600758   71.92340987   53.73606336\n",
      "   78.12718554   60.55499174   17.75951662   48.32796189   32.47130006\n",
      "   68.07889999    7.15169956   26.92312919   44.54803879   61.66941451\n",
      "   44.47982425   39.28824631   68.19352132   49.82973161   75.72529064]\n",
      "[[ 204.67474932]\n",
      " [ 143.51234785]\n",
      " [ 139.63910973]\n",
      " ..., \n",
      " [  30.11965264]\n",
      " [  98.62871048]\n",
      " [  68.81562912]]\n"
     ]
    }
   ],
   "source": [
    "## golgi-golgi interactions\n",
    "src = read_in_coordfile(res_p +'/'+fns['go_go_sources'])\n",
    "tar = read_in_coordfile(res_p +'/'+fns['go_go_targets'])\n",
    "dis = read_in_coordfile(res_p +'/'+fns['go_go_dist'])\n",
    "\n",
    "res_n = np.zeros(100)\n",
    "for i in range(100):\n",
    "    #res_n[i] = np.linalg.norm(coord[int(tar[i]),:]-coord[int(src[i]),:])\n",
    "    res_n[i] = (sum((coord[int(tar[i]),:]-coord[int(src[i]),:])**2)**0.5)\n",
    "\n",
    "import networkx as nx\n",
    "print (res_n)\n",
    "print (dis[:-100])"
   ]
  },
  {
   "cell_type": "markdown",
   "metadata": {},
   "source": [
    "### Connectivities"
   ]
  },
  {
   "cell_type": "code",
   "execution_count": 31,
   "metadata": {
    "collapsed": false
   },
   "outputs": [],
   "source": [
    "# Checking out the connectivities per GC\n",
    "n_Go = 200\n",
    "#source files\n",
    "gap_t = read_in_coordfile(res_p +'/'+fns['go_go_gap_target'])\n",
    "pf_t = read_in_coordfile(res_p +'/'+fns['pf_go_target'])\n",
    "aa_t = read_in_coordfile(res_p +'/'+fns['aa_gol_target'])\n",
    "gg_t = read_in_coordfile(res_p +'/'+fns['go_go_targets'])"
   ]
  },
  {
   "cell_type": "code",
   "execution_count": 30,
   "metadata": {
    "collapsed": false
   },
   "outputs": [
    {
     "name": "stdout",
     "output_type": "stream",
     "text": [
      "Golgi to Golgi:\n",
      "Connections per cell:  144.85 +/- 36.88 , range  72 - 195\n",
      "AA to Golgi:\n",
      "Connections per cell:  33552.52 +/- 11268.76 , range  10800 - 54606\n",
      "Parallel Fiber to Golgi:\n",
      "Connections per cell:  2.47 +/- 2.25 , range  1 - 10\n",
      "Golgi to Golgi gap junctions:\n",
      "Connections per cell:  127.9 +/- 26.65 , range  74 - 166\n",
      "\n",
      "Here are the paper values as a comparison:\n",
      "Golgi to Golgi:\n",
      "Connections per cell:  144.85 +/- 36.88 , range  72 - 195\n",
      "AA to Golgi:\n",
      "Connections per cell:  554 +/- 302 , range  55 - 1245\n",
      "Parallel Fiber to Golgi:\n",
      "Connections per cell:  4759 +/- 1037, range 2512-6582\n",
      "Golgi to Golgi gap junctions:\n",
      "Connections per cell:  13.7 +/- 4.6 , range  1-31\n",
      "\n"
     ]
    }
   ],
   "source": [
    "\n",
    "\n",
    "def target_stats (dat, name = ''):\n",
    "    un, counts = np.unique(dat, return_counts=True)\n",
    "    print (name)\n",
    "    print ('Connections per cell: ', round(np.mean(counts),2),'+/-', round(np.std(counts), 2), ', range ', min(counts),'-', max(counts))\n",
    "\n",
    "target_stats(gg_t, 'Golgi to Golgi:')\n",
    "target_stats(aa_t, 'AA to Golgi:')\n",
    "target_stats(pf_t, 'Parallel Fiber to Golgi:')\n",
    "target_stats(gap_t, 'Golgi to Golgi gap junctions:')\n",
    "\n",
    "print(\n",
    "'''\n",
    "Here are the paper values as a comparison:\n",
    "Golgi to Golgi:\n",
    "Connections per cell:  144.85 +/- 36.88 , range  72 - 195\n",
    "AA to Golgi:\n",
    "Connections per cell:  554 +/- 302 , range  55 - 1245\n",
    "Parallel Fiber to Golgi:\n",
    "Connections per cell:  4759 +/- 1037, range 2512-6582\n",
    "Golgi to Golgi gap junctions:\n",
    "Connections per cell:  13.7 +/- 4.6 , range  1-31\n",
    "''')"
   ]
  },
  {
   "cell_type": "markdown",
   "metadata": {},
   "source": [
    "## Granule cells"
   ]
  },
  {
   "cell_type": "code",
   "execution_count": null,
   "metadata": {
    "collapsed": true
   },
   "outputs": [],
   "source": [
    "ax_x = [-45, 45] #transverse\n",
    "ax_y = [-160, 160] #sagittal\n",
    "ax_z = [-75, 75] #vertical"
   ]
  },
  {
   "cell_type": "code",
   "execution_count": 128,
   "metadata": {
    "ExecuteTime": {
     "end_time": "2017-10-31T14:37:40.494038Z",
     "start_time": "2017-10-31T14:37:39.767393Z"
    },
    "collapsed": false
   },
   "outputs": [
    {
     "name": "stdout",
     "output_type": "stream",
     "text": [
      "40\n",
      "80000\n",
      "80000\n",
      "40\n"
     ]
    },
    {
     "data": {
      "image/png": "[encoded data removed]",
      "text/plain": [
       "<matplotlib.figure.Figure at 0x7f3ffedf7fd0>"
      ]
     },
     "metadata": {},
     "output_type": "display_data"
    }
   ],
   "source": [
    "# Cheap somata generating method \n",
    "\n",
    "#Dimensions of the Granule cell layer\n",
    "Gc_x = 300\n",
    "Gc_y = 70\n",
    "Gc_z = 200\n",
    "\n",
    "GoC_minspace = 20\n",
    "GrC_minspace = 2\n",
    "\n",
    "n_Go = int(2000*Gc_x*Gc_y/700/1500)\n",
    "n_Gr = 2000*n_Go\n",
    "print (n_Go)\n",
    "print (n_Gr)\n",
    "\n",
    "def get_cell_loc (n_cell, Gc_x, Gc_y, Gc_z):\n",
    "    # get spacing for grid:\n",
    "    vol_c = Gc_x*Gc_y*Gc_z/n_cell\n",
    "    sp_def = vol_c**(1/3)/2\n",
    "    \n",
    "    #first get a few too many\n",
    "    gr = np.asarray([[i,j,k] \n",
    "                     for i in np.arange(0, Gc_x, 2*sp_def)   \n",
    "                     for j in np.arange(0, Gc_y, 2*sp_def) \n",
    "                     for k in np.arange(0, Gc_z, 2*sp_def)])\n",
    "\n",
    "    grc = gr + np.random.randn(*gr.shape)*sp_def\n",
    "    #then remove the ones that lie most outside to get the correct number of cells\n",
    "    \n",
    "    lower = grc.T.ravel()\n",
    "    upper = -(grc-[Gc_x, Gc_y, Gc_z]).T.ravel()\n",
    "    most_out_idx = np.mod(np.argsort(np.concatenate((lower,upper))), len(grc))\n",
    "    del_el = len(grc) - n_cell # number of elements to be deleted\n",
    "    n_del = del_el\n",
    "    \n",
    "    while len(np.unique(most_out_idx[:n_del])) < del_el:\n",
    "        n_del = n_del + del_el - len(np.unique(most_out_idx[:n_del]))\n",
    "        \n",
    "    grc = grc[np.setdiff1d(np.arange(len(grc)), most_out_idx[:n_del]),:]\n",
    "    return grc\n",
    "\n",
    "Gr_co = get_cell_loc(n_Gr, Gc_x, Gc_y, Gc_z)\n",
    "print(len(Gr_co))\n",
    "Go_co = get_cell_loc(n_Go, Gc_x, Gc_y, Gc_z)\n",
    "print(len(Go_co))\n",
    "\n",
    "\n",
    "def plot3d (ax, dat, *args, **kwargs):\n",
    "    ax.plot(dat[:,0], dat[:,1], dat[:,2], *args, **kwargs)\n",
    "\n",
    "fig = plt.figure()\n",
    "ax = fig.gca(projection='3d')\n",
    "plot3d(ax, Gr_co, 'k.', markersize=0.2)\n",
    "\n",
    "#fig = plt.figure()\n",
    "#ax = fig.gca(projection='3d')\n",
    "plot3d(ax, Go_co, 'ro')\n",
    "\n",
    "## Kd-trees"
   ]
  },
  {
   "cell_type": "code",
   "execution_count": 120,
   "metadata": {
    "ExecuteTime": {
     "end_time": "2017-10-31T14:27:47.660245Z",
     "start_time": "2017-10-31T14:27:47.511968Z"
    },
    "collapsed": false
   },
   "outputs": [
    {
     "name": "stdout",
     "output_type": "stream",
     "text": [
      "(79999, 3)\n",
      "(79500, 3)\n",
      "[ 0  1  3 -1  3  5  2  3  4  5  3  2]\n",
      "[ 1  0  4  2 11  5  6  7  8 10  3  9]\n",
      "[[-1 -1  0]\n",
      " [-2  1  2]\n",
      " [ 1  1  1]\n",
      " [ 4  1 -1]]\n",
      "\n",
      "4\n",
      "[[ 1  1  0]\n",
      " [ 2 -1 -2]\n",
      " [-1 -1 -1]\n",
      " [-4 -1  1]]\n",
      "[ 1  1  0  2 -1 -2 -1 -1 -1 -4 -1  1]\n",
      "[ 9  5  4  6  7  8 10  2  0  1 11  3]\n",
      "\n",
      "[ 0  1  3 -1  3  5  2  3  4  5  3  2  1  1  0  2 -1 -2 -1 -1 -1 -4 -1  1]\n",
      "[15 21  1 19 18 17 14 22  0 20 16 12 23  4 13  2 11  8  7  6  5 10  9  3]\n",
      "[3 1 1 3 2 1 2 2 0 0 0 0 3 0 1 2 3 0 3 2 1 2 1 3]\n",
      "[0 1 2 3]\n",
      "\n",
      "[[ 0  1  3]\n",
      " [-1  3  5]\n",
      " [ 2  3  4]\n",
      " [ 5  3  2]]\n",
      "[[ 1  1  0]\n",
      " [ 2 -1 -2]\n",
      " [-1 -1 -1]\n",
      " [-4 -1  1]]\n"
     ]
    }
   ],
   "source": [
    "dat = Gr_co\n",
    "\n",
    "\n",
    "print (dat.shape)\n",
    "\n",
    "lower = dat.T.ravel()\n",
    "upper = -(dat-[Gc_x, Gc_y, Gc_z]).T.ravel()\n",
    "most_out_idx = np.mod(np.argsort(np.concatenate((lower,upper))), len(dat))\n",
    "\n",
    "n_del = 500\n",
    "dat = dat[np.setdiff1d(np.arange(len(dat)), most_out_idx[:n_del]),:]\n",
    "\n",
    "print (dat.shape)\n",
    "\n",
    "\n",
    "\n",
    "\n",
    "\n",
    "test_ar = np.array([[0,1,3],[-1,3,5],[2,3,4], [5,3,2]])\n",
    "print (test_ar.ravel())\n",
    "print (np.argsort(test_ar.T.ravel()))\n",
    "tt2 = test_ar- [1,2,3]\n",
    "print (tt2)\n",
    "\n",
    "print ('')\n",
    "most_out = np.argsort(np.concatenate(( test_ar.T.ravel(), -(test_ar-[1,2,3]).T.ravel() )))\n",
    "\n",
    "most_out_idx = np.mod(most_out, len(test_ar))\n",
    "\n",
    "print (len(test_ar))\n",
    "print( -(test_ar-[1,2,3]))\n",
    "print( -(test_ar-[1,2,3]).ravel())\n",
    "print (np.argsort( -(test_ar-[1,2,3]).ravel()))\n",
    "\n",
    "print ('')\n",
    "print (np.concatenate(( test_ar.ravel(), -(test_ar-[1,2,3]).ravel() )))\n",
    "print (most_out)\n",
    "print (most_out_idx)\n",
    "print \n",
    "\n",
    "print ('')\n",
    "print (test_ar)\n",
    "print( -(test_ar-[1,2,3]))\n",
    "#hs = np.sum(np.heaviside(-dat) + np.heaviside(dat-[Gc_x, Gx_y, Gc_z]))"
   ]
  },
  {
   "cell_type": "code",
   "execution_count": 106,
   "metadata": {
    "ExecuteTime": {
     "end_time": "2017-10-31T14:12:48.149480Z",
     "start_time": "2017-10-31T14:12:48.127072Z"
    },
    "collapsed": false
   },
   "outputs": [
    {
     "name": "stderr",
     "output_type": "stream",
     "text": [
      "/home/ines/Applications/anaconda3/lib/python3.5/site-packages/ipykernel/__main__.py:5: DeprecationWarning: elementwise == comparison failed; this will raise an error in the future.\n"
     ]
    },
    {
     "ename": "TypeError",
     "evalue": "'bool' object is not iterable",
     "output_type": "error",
     "traceback": [
      "\u001b[1;31m---------------------------------------------------------------------------\u001b[0m",
      "\u001b[1;31mTypeError\u001b[0m                                 Traceback (most recent call last)",
      "\u001b[1;32m<ipython-input-106-26b5e8fe3e85>\u001b[0m in \u001b[0;36m<module>\u001b[1;34m()\u001b[0m\n\u001b[0;32m      3\u001b[0m \u001b[0mnew_idx\u001b[0m \u001b[1;33m=\u001b[0m \u001b[1;33m[\u001b[0m\u001b[0many\u001b[0m\u001b[1;33m(\u001b[0m\u001b[0mar\u001b[0m\u001b[1;33m[\u001b[0m\u001b[0mi\u001b[0m\u001b[1;33m]\u001b[0m\u001b[1;33m==\u001b[0m \u001b[0mde\u001b[0m\u001b[1;33m)\u001b[0m \u001b[1;32mfor\u001b[0m \u001b[0mi\u001b[0m \u001b[1;32min\u001b[0m \u001b[0mrange\u001b[0m\u001b[1;33m(\u001b[0m\u001b[0mlen\u001b[0m\u001b[1;33m(\u001b[0m\u001b[0mar\u001b[0m\u001b[1;33m)\u001b[0m\u001b[1;33m)\u001b[0m\u001b[1;33m]\u001b[0m\u001b[1;33m\u001b[0m\u001b[0m\n\u001b[0;32m      4\u001b[0m \u001b[1;33m\u001b[0m\u001b[0m\n\u001b[1;32m----> 5\u001b[1;33m \u001b[0mprint\u001b[0m \u001b[1;33m(\u001b[0m\u001b[0many\u001b[0m\u001b[1;33m(\u001b[0m\u001b[0mar\u001b[0m \u001b[1;33m==\u001b[0m \u001b[0mde\u001b[0m\u001b[1;33m)\u001b[0m\u001b[1;33m)\u001b[0m\u001b[1;33m\u001b[0m\u001b[0m\n\u001b[0m",
      "\u001b[1;31mTypeError\u001b[0m: 'bool' object is not iterable"
     ]
    }
   ],
   "source": [
    "de = [2, 3]\n",
    "ar = np.arange(10)\n",
    "new_idx = [any(ar[i]==de) for i in range(len(ar))]\n",
    "\n",
    "print (any(ar == de))"
   ]
  },
  {
   "cell_type": "markdown",
   "metadata": {},
   "source": [
    "### General Background\n",
    "\n",
    "- binary search stree\n",
    "    - every branching node contains a k-dimensional point\n",
    "    - every leaf node contains a set of points\n",
    "- every branching node represents a splitting hyperplane that divides the space into two half-spaces    \n",
    "    - left of the splitting hyperplane = left subtree, same for richt\n",
    "    - each spliitting hyperplane is perpendicular to one of the axes in the k-dimensional space\n",
    "    - the axes for the splitting hyperplanes are rotating"
   ]
  },
  {
   "cell_type": "markdown",
   "metadata": {},
   "source": [
    "### On the chicken kd-tree library:\n",
    "- works with datastructure POINT3D\n",
    "    - constructor: make-point3d dbl dbl dbl \n",
    "    - accessors point3d-x /y/z\n",
    "    - predicate: point3d?\n",
    "- KD-Tree itself\n",
    "    - constructor: list->kd-tree (list of POINT3D)\n",
    "    - predicates: kd-tree? -> checks object, kd-tree-empty?, \n",
    "        - kd-tree-is-valid? -> checks if all points in subtree lie on left side of hyperplane and right on right\n",
    "        - kd-tree-all-subtrees-are-valid? -> valid property for all branching nodes?\n",
    "    - accessors: \n",
    "        - kd-tree->list  -> all the points contained in tree in a POINT3D list\n",
    "        - kd-tree->list\\* -> list with elements of the form (i . POINT3D) -> i is the relative integer index of the point\n",
    "     \n",
    "for other accessors, the author was not motivated enough to write a description.\n"
   ]
  },
  {
   "cell_type": "markdown",
   "metadata": {
    "collapsed": true
   },
   "source": [
    "### Pythonic Kd-Tree libraries:\n",
    "\n",
    "#### Scipy:\n",
    "- Documentation: https://docs.scipy.org/doc/scipy-0.14.0/reference/generated/scipy.spatial.KDTree.html\n",
    "- Source Code: https://github.com/scipy/scipy/blob/master/scipy/spatial/kdtree.py\n",
    "- Algorithm reference Maneewongvatana and Mount 1999\n",
    "- Can be queried for r nearest neighbors, however r should be relatively small because elsewise, brute force is just as efficient.\n",
    "- Approximate nearest neighbors seems to be another, and much faster option, and might work well for us.\n",
    "- Uses pythonic libraries. \n",
    "- The heap queue algorithm: https://github.com/python/cpython/blob/2.7/Lib/heapq.py seems to be used, but it is also in python\n",
    "\n",
    "\n",
    "#### SKlearn:\n",
    "- Documentation: http://scikit-learn.org/stable/modules/generated/sklearn.neighbors.KDTree.html\n",
    "- Source Code: https://github.com/scikit-learn/scikit-learn/blob/master/sklearn/neighbors/kd_tree.pyx\n",
    "- uses cython. Might thus be faster. Let's check.\n",
    "\n",
    "\n",
    "Neither of them appears to have parallelization supported right from the beginning.\n",
    "Both just take regular arrays as inputs.\n",
    "\n",
    "\n",
    "Could be interesting:\n",
    "http://ieeexplore.ieee.org/abstract/document/5654017/?reload=true\n",
    "GPU implementation for kNN search\n",
    "Following this:\n",
    "https://link.springer.com/chapter/10.1007/978-3-642-38628-2_67\n",
    "\n"
   ]
  },
  {
   "cell_type": "code",
   "execution_count": 50,
   "metadata": {
    "collapsed": true
   },
   "outputs": [],
   "source": [
    "from scipy.spatial import KDTree as T_sp\n",
    "from sklearn.neighbors import KDTree as T_sk\n",
    "s_dat = np.asarray(import_csv(fn_out))\n",
    "import time\n",
    "\n",
    "rn = np.random.randint(0, len(s_dat), 50)\n",
    "nn = 10"
   ]
  },
  {
   "cell_type": "code",
   "execution_count": 51,
   "metadata": {
    "collapsed": false
   },
   "outputs": [
    {
     "name": "stdout",
     "output_type": "stream",
     "text": [
      "(798000, 3)\n"
     ]
    }
   ],
   "source": [
    "print (s_dat.shape)"
   ]
  },
  {
   "cell_type": "code",
   "execution_count": 60,
   "metadata": {
    "collapsed": false
   },
   "outputs": [],
   "source": [
    "k_dist = np.zeros((len(rn), nn))\n",
    "k_ind = np.zeros((len(rn), nn))\n",
    "tk0 = time.time()\n",
    "kt = T_sk(s_dat)\n",
    "tk1 = time.time()\n",
    "for i, ii in enumerate(rn):\n",
    "    warnings.simplefilter('ignore') #definitely not ideal. But no clue how the validation file gets called\n",
    "    k_dist[i,:], k_ind [i,:] = kt.query(s_dat[ii,:], k = nn)\n",
    "tk2 = time.time()"
   ]
  },
  {
   "cell_type": "code",
   "execution_count": 53,
   "metadata": {
    "collapsed": true
   },
   "outputs": [],
   "source": [
    "p_dist = np.zeros((len(rn), nn))\n",
    "p_ind = np.zeros((len(rn), nn))\n",
    "tp0 = time.time()\n",
    "pt = T_sp(s_dat)\n",
    "tp1 = time.time()\n",
    "for i, ii in enumerate(rn):\n",
    "    p_dist[i,:], p_ind [i,:] = pt.query(s_dat[ii,:], k = nn)\n",
    "tp2 = time.time()"
   ]
  },
  {
   "cell_type": "code",
   "execution_count": 70,
   "metadata": {
    "collapsed": false
   },
   "outputs": [
    {
     "name": "stdout",
     "output_type": "stream",
     "text": [
      "1.112079381942749\n",
      "4.108412981033325\n",
      "0.004629611968994141\n",
      "0.04588818550109863\n"
     ]
    }
   ],
   "source": [
    "#Here is the first, blunt comparison of both algorithms in terms of time:\n",
    "print (tk1-tk0)\n",
    "print (tp1-tp0)\n",
    "\n",
    "print (tk2-tk1)\n",
    "print (tp2-tp1)\n",
    "#Scikit-learn is way faster.\n",
    "\n",
    "#print (np.isclose (k_dist, p_dist))\n",
    "#print (k_ind -p_ind) \n",
    "# Where the indices are not the same it is because the distances are equal."
   ]
  },
  {
   "cell_type": "code",
   "execution_count": 90,
   "metadata": {
    "collapsed": false
   },
   "outputs": [],
   "source": [
    "# Reading in, subsampling and storing again the csv files in order to have a smaller dataset at hand that has a similar density anyway.\n",
    "\n",
    "import csv\n",
    "\n",
    "fn_in = 'input_files/GCTcoordinates.dat'\n",
    "fn_out = 'input_files/GCT_small.dat' #100x150 -> 11 k\n",
    "fn_out2 = 'input_files/GCT_smallsmall.dat' #30x100 -> 2.2k\n",
    "fn_out3 = 'input_files/GCT_tiny.dat' # 2x5 ->  6\n",
    "\n",
    "x_r = [0.0, 2.0]\n",
    "y_r = [0.0, 5.0]\n",
    "z_r = [0.0, 1000.0]\n",
    "rrs = [x_r, y_r, z_r]\n",
    "\n",
    "def subsample_coords (rrs, fn_in, fn_out = 'input_files/downsampled.dat', save = True):\n",
    "    res = []\n",
    "    rnr = [0, 0]\n",
    "    with open(fn_in, newline = '') as f, open (fn_out, 'w', newline = '') as w_f:\n",
    "        rr = csv.reader(f, delimiter = ' ')\n",
    "        if save: wr = csv.writer(w_f, delimiter = ' ')\n",
    "        for line in rr:\n",
    "            in_range = all([float(line[i])>rrs[i][0] and float(line[i])<rrs[i][1] for i in range(len(rrs))]) #check if in range\n",
    "            if in_range: \n",
    "                if save: wr.writerow([float(line[j]) for j in range(len(rrs))])\n",
    "                res.append([float(line[j]) for j in range(len(rrs))])\n",
    "                rnr[0] = rnr[0]+1\n",
    "            else:\n",
    "                rnr[1] = rnr[1]+1\n",
    "    print ('Subsampled {} of {}'.format(rnr[0], rnr[1]))\n",
    "    return res\n",
    "\n",
    "#my_s = subsample_coords (rrs, fn_in, fn_out3, save = True)\n",
    "\n",
    "def import_csv (fn):\n",
    "    res = []\n",
    "    with open (fn, newline = '') as f:\n",
    "        rr = csv.reader(f, delimiter = ' ')\n",
    "        for line in rr:\n",
    "            res.append([float(line[j]) for j in range(len(line))])\n",
    "    return np.asarray(res)\n"
   ]
  },
  {
   "cell_type": "markdown",
   "metadata": {},
   "source": [
    "## Random and deprecated stuff below this."
   ]
  },
  {
   "cell_type": "code",
   "execution_count": 39,
   "metadata": {
    "collapsed": false
   },
   "outputs": [
    {
     "name": "stdout",
     "output_type": "stream",
     "text": [
      "Nseg for APical is 5 and Basal is 3\n",
      "\t36 \n"
     ]
    }
   ],
   "source": [
    "# Development site for the read_in_config function.\n",
    "\n",
    "#from neuron import hoc, h\n",
    "# weird thing that I did not get yet: despite all the copy statements, the second time you calculate d_l, it would give 0. \n",
    "# Thus, the hoc objects must somehow take on each other's parameters... \n",
    "\n",
    "#load an empty hoc object and find out which parameters are native to that object (probably useless...)\n",
    "empty_hoc = dir(neuron.hoc.HocObject()).copy()\n",
    "config_fn = './input_files/Parameters.hoc'\n",
    "overwrite_config =  True\n",
    "#load our own hoc object from the parameter file, get the disjunct list of parameters (probably useless...)\n",
    "neuron.h.xopen(config_fn)\n",
    "full_hoc = dir(neuron.h)\n",
    "if 'd_l' not in globals():\n",
    "    d_l = list (set (full_hoc)  - set (empty_hoc)).copy()\n",
    "\n",
    "#c_d = b.config_dict\n",
    "c_d = dict((v,k) for k,v in b.config_dict.items()) #exchange key and value\n",
    "#this dict translates the parameters used in the Parameters file to the ones used in the code\n",
    "# Check if the Brep object contains the right parameters and if so, change them.\n",
    "# Note: Resolve conflicts with the command line - I think default should be that command line should has priority \n",
    "self = b\n",
    "for h_k in full_hoc:\n",
    "    if h_k in c_d.keys() and h_k not in self.cl_args.keys():\n",
    "        if hasattr (self.args, c_d[h_k]):\n",
    "            setattr (self.args, c_d[h_k], getattr (neuron.h, h_k))\n",
    "        else:\n",
    "            print ('Did not find {}'.format(c_d[h_k]))\n",
    "    elif h_k in c_d.keys() and h_k in self.cl_args.keys():\n",
    "        if hasattr (self.args, c_d[h_k]):\n",
    "            if overwrite_config:\n",
    "                warnings.warn('Parameter {} was set both by command line and in config, will use value from command line'.format(c_d[h_k]))\n",
    "            else:\n",
    "                warnings.warn('Parameter {} was set both by command line and in config, will use value from config file'.format(c_d[h_k]))\n",
    "                setattr (self.args, c_d[h_k], getattr (neuron.h, h_k))\n",
    "    \n",
    "# The following two parameters are an exception:\n",
    "if 'GLdepth' in d_l and 'PCLdepth' in d_l and not 'aa-length' in self.cl_args.keys():\n",
    "    setattr (self.args, 'aa-length', getattr(neuron.h, 'GLdepth')+getattr(neuron.h,'PCLdepth'))\n",
    "    \n"
   ]
  },
  {
   "cell_type": "code",
   "execution_count": 41,
   "metadata": {
    "collapsed": false
   },
   "outputs": [
    {
     "ename": "ImportError",
     "evalue": "No module named 'neuron'",
     "output_type": "error",
     "traceback": [
      "\u001b[1;31m---------------------------------------------------------------------------\u001b[0m",
      "\u001b[1;31mImportError\u001b[0m                               Traceback (most recent call last)",
      "\u001b[1;32m<ipython-input-41-673f2528413f>\u001b[0m in \u001b[0;36m<module>\u001b[1;34m()\u001b[0m\n\u001b[0;32m      3\u001b[0m \u001b[1;31m#Had to be done only once, but will be kept for reference.\u001b[0m\u001b[1;33m\u001b[0m\u001b[1;33m\u001b[0m\u001b[0m\n\u001b[0;32m      4\u001b[0m \u001b[1;33m\u001b[0m\u001b[0m\n\u001b[1;32m----> 5\u001b[1;33m \u001b[1;32mfrom\u001b[0m \u001b[0mneuron\u001b[0m \u001b[1;32mimport\u001b[0m \u001b[0mhoc\u001b[0m\u001b[1;33m,\u001b[0m \u001b[0mh\u001b[0m\u001b[1;33m\u001b[0m\u001b[0m\n\u001b[0m\u001b[0;32m      6\u001b[0m \u001b[1;31m# weird thing that I did not get yet: despite all the copy statements, the second time you calculate d_l, it would give 0.\u001b[0m\u001b[1;33m\u001b[0m\u001b[1;33m\u001b[0m\u001b[0m\n\u001b[0;32m      7\u001b[0m \u001b[1;31m# Thus, the hoc objects must somehow take on each other's parameters...\u001b[0m\u001b[1;33m\u001b[0m\u001b[1;33m\u001b[0m\u001b[0m\n",
      "\u001b[1;31mImportError\u001b[0m: No module named 'neuron'"
     ]
    }
   ],
   "source": [
    "### The transformations of the parameters, automized in a small parser script.\n",
    "\n",
    "#Had to be done only once, but will be kept for reference.\n",
    "\n",
    "from neuron import hoc, h\n",
    "# weird thing that I did not get yet: despite all the copy statements, the second time you calculate d_l, it would give 0. \n",
    "# Thus, the hoc objects must somehow take on each other's parameters... \n",
    "\n",
    "#load an empty hoc object and find out which parameters are native to that object (probably useless...)\n",
    "empty_hoc = dir(hoc.HocObject()).copy()\n",
    "config_fn = './input_files/Parameters.hoc'\n",
    "#load our own hoc object from the parameter file, get the disjunct list of parameters (probably useless...)\n",
    "h.xopen(config_fn)\n",
    "full_hoc = dir(h).copy()\n",
    "if 'd_l' not in globals():\n",
    "    d_l = list (set (full_hoc)  - set (empty_hoc)).copy()\n",
    "\n",
    "# Code file\n",
    "tf = 'brep_commented.scm'\n",
    "# Step one: parse all lines that contain both config or options as those are the ones that \n",
    "res_dict = {}\n",
    "with open (tf, 'rb') as tff:\n",
    "    for line in tff:\n",
    "        st = str(line)\n",
    "        c = st.find (\"config '\")\n",
    "        o = st.find (\"options '\") \n",
    "        if c > 0 and o > 0:\n",
    "            c_clb = st[c:].find (')')\n",
    "            o_clb = st[o:].find (')')\n",
    "            res_dict[st[c+8:c+c_clb]] = st[o+9:o+o_clb] \n",
    "    tff.close()\n",
    "\n",
    "#parameters that are defined in the res file but have not been parsed yet\n",
    "rest_hk = (set (d_l)- set(res_dict.keys()))\n",
    "rem = {}\n",
    "#check if they occur in the code\n",
    "with open ('brep_commented.scm', 'rb') as f_in:\n",
    "    n = 0\n",
    "    for line in f_in:\n",
    "        n = n+1\n",
    "        for w in rest_hk:\n",
    "            if str(line).find(w)>0:\n",
    "                if w in rem.keys():\n",
    "                    rem[w].append(n)\n",
    "                else:\n",
    "                    rem[w] = [n]                  \n",
    "print (rem) # 'TS is coincidental, the other two parameters are taken seperate care of.\n",
    "\n",
    "#print the resulting dict to a file.\n",
    "with open ('par_d2.txt', 'w') as f_out:\n",
    "    for k in res_dict.keys():\n",
    "        f_out.write(\"'\" +res_dict[k]+ \"' : '\"+k+ \"', \\n\" )\n",
    "\n",
    "#print (res_dict)"
   ]
  },
  {
   "cell_type": "code",
   "execution_count": 5,
   "metadata": {
    "collapsed": false
   },
   "outputs": [
    {
     "name": "stdout",
     "output_type": "stream",
     "text": [
      "I\r\n",
      "Traceback (most recent call last):\r\n",
      "  File \"/home/ines/Desktop/LabRot_OIST/pybrep/BREPpy.py\", line 134, in <module>\r\n",
      "    Brep().initialize_and_dump()\r\n",
      "  File \"/home/ines/Desktop/LabRot_OIST/pybrep/BREPpy.py\", line 123, in initialize_and_dump\r\n",
      "    self.cl_args = self.parser.convert_arg_line_to_args()\r\n",
      "TypeError: convert_arg_line_to_args() missing 1 required positional argument: 'arg_line'\r\n"
     ]
    },
    {
     "ename": "FileNotFoundError",
     "evalue": "[Errno 2] No such file or directory: './tmp.pkl'",
     "output_type": "error",
     "traceback": [
      "\u001b[1;31m---------------------------------------------------------------------------\u001b[0m",
      "\u001b[1;31mFileNotFoundError\u001b[0m                         Traceback (most recent call last)",
      "\u001b[1;32m<ipython-input-5-c22c446b07d9>\u001b[0m in \u001b[0;36m<module>\u001b[1;34m()\u001b[0m\n\u001b[0;32m     22\u001b[0m arg_dict = {'config_file': 'blabla.c',\n\u001b[0;32m     23\u001b[0m             'verbose': True}\n\u001b[1;32m---> 24\u001b[1;33m \u001b[0mb\u001b[0m \u001b[1;33m=\u001b[0m \u001b[0mnew_Brep\u001b[0m\u001b[1;33m(\u001b[0m\u001b[0marg_dict\u001b[0m\u001b[1;33m,\u001b[0m \u001b[0mgc_points_fn\u001b[0m \u001b[1;33m=\u001b[0m \u001b[1;34m'yipyip'\u001b[0m \u001b[1;33m)\u001b[0m\u001b[1;33m\u001b[0m\u001b[0m\n\u001b[0m",
      "\u001b[1;32m<ipython-input-5-c22c446b07d9>\u001b[0m in \u001b[0;36mnew_Brep\u001b[1;34m(arg_dict, **kwargs)\u001b[0m\n\u001b[0;32m      6\u001b[0m     \u001b[1;32mif\u001b[0m \u001b[1;32mTrue\u001b[0m\u001b[1;33m:\u001b[0m \u001b[1;31m#delete and make new Brep file\u001b[0m\u001b[1;33m\u001b[0m\u001b[0m\n\u001b[0;32m      7\u001b[0m         \u001b[0mget_ipython\u001b[0m\u001b[1;33m(\u001b[0m\u001b[1;33m)\u001b[0m\u001b[1;33m.\u001b[0m\u001b[0msystem\u001b[0m\u001b[1;33m(\u001b[0m\u001b[1;34m' python ~/Desktop/LabRot_OIST/pybrep/BREPpy.py --config_file blabla '\u001b[0m\u001b[1;33m)\u001b[0m\u001b[1;33m\u001b[0m\u001b[0m\n\u001b[1;32m----> 8\u001b[1;33m         \u001b[0ma\u001b[0m \u001b[1;33m=\u001b[0m \u001b[0mpkl\u001b[0m\u001b[1;33m.\u001b[0m\u001b[0mload\u001b[0m\u001b[1;33m(\u001b[0m\u001b[0mopen\u001b[0m\u001b[1;33m(\u001b[0m\u001b[1;34m'./tmp.pkl'\u001b[0m\u001b[1;33m,\u001b[0m \u001b[1;34m'rb'\u001b[0m\u001b[1;33m)\u001b[0m\u001b[1;33m)\u001b[0m\u001b[1;33m\u001b[0m\u001b[0m\n\u001b[0m\u001b[0;32m      9\u001b[0m         \u001b[0mget_ipython\u001b[0m\u001b[1;33m(\u001b[0m\u001b[1;33m)\u001b[0m\u001b[1;33m.\u001b[0m\u001b[0msystem\u001b[0m\u001b[1;33m(\u001b[0m\u001b[1;34m' rm tmp.pkl'\u001b[0m\u001b[1;33m)\u001b[0m\u001b[1;33m\u001b[0m\u001b[0m\n\u001b[0;32m     10\u001b[0m         \u001b[0mb\u001b[0m \u001b[1;33m=\u001b[0m \u001b[0mBrep2\u001b[0m\u001b[1;33m(\u001b[0m\u001b[0ma\u001b[0m\u001b[1;33m)\u001b[0m\u001b[1;33m\u001b[0m\u001b[0m\n",
      "\u001b[1;31mFileNotFoundError\u001b[0m: [Errno 2] No such file or directory: './tmp.pkl'"
     ]
    }
   ],
   "source": [
    "#Used this to try out command line calls. \n",
    "\n",
    "#Brep = importlib.reload(BREPpy)\n",
    "#stupid workaround so that the known command line call can be kept up.\n",
    "#I think I changed something, would have to git checkout....\n",
    "class Brep2 (Brep, b):\n",
    "    def __init__:\n",
    "        self.args = b.args\n",
    "        self.config_dict = b.config_dict\n",
    "        self.cl_args = b.cl_args\n",
    "        \n",
    "\n",
    "\n",
    "def new_Brep (arg_dict = {}, **kwargs):\n",
    "    if True: #delete and make new Brep file\n",
    "        ! python ~/Desktop/LabRot_OIST/pybrep/BREPpy.py --config_file blabla \n",
    "        a = pkl.load(open('./tmp.pkl', 'rb'))\n",
    "        ! rm tmp.pkl\n",
    "        b = Brep2(a)\n",
    "    else: b = Brep2(pkl.load(open('./tmp.pkl', 'rb'))) \n",
    "    #Process and add arguments    \n",
    "    arg_dict.update(kwargs)\n",
    "    for k in arg_dict.keys():\n",
    "        if hasattr (b.args, k):\n",
    "            setattr (b.args, k, arg_dict[k])\n",
    "        else:\n",
    "            warnings.warn ('Keyline argument {} not known'.format(k))\n",
    "            \n",
    "    return b\n",
    "\n",
    "arg_dict = {'config_file': 'blabla.c',\n",
    "            'verbose': True}\n",
    "b = new_Brep(arg_dict, gc_points_fn = 'yipyip' )\n"
   ]
  },
  {
   "cell_type": "code",
   "execution_count": 52,
   "metadata": {
    "collapsed": false
   },
   "outputs": [
    {
     "ename": "SyntaxError",
     "evalue": "Missing parentheses in call to 'print' (<ipython-input-52-e95a52b59324>, line 7)",
     "output_type": "error",
     "traceback": [
      "\u001b[1;36m  File \u001b[1;32m\"<ipython-input-52-e95a52b59324>\"\u001b[1;36m, line \u001b[1;32m7\u001b[0m\n\u001b[1;33m    print 'nb'\u001b[0m\n\u001b[1;37m             ^\u001b[0m\n\u001b[1;31mSyntaxError\u001b[0m\u001b[1;31m:\u001b[0m Missing parentheses in call to 'print'\n"
     ]
    }
   ],
   "source": [
    "## Fun with magic\n",
    "\n",
    "# http://ipython.readthedocs.io/en/stable/interactive/magics.html\n",
    "#notable ones\n",
    "# %debug #-> debug stuff. Lets you inspect the stack frame of an exception interactively\n",
    "# %env #-> see all env variables"
   ]
  },
  {
   "cell_type": "code",
   "execution_count": 58,
   "metadata": {
    "collapsed": false
   },
   "outputs": [
    {
     "name": "stdout",
     "output_type": "stream",
     "text": [
      "I\n"
     ]
    },
    {
     "ename": "TypeError",
     "evalue": "convert_arg_line_to_args() missing 1 required positional argument: 'arg_line'",
     "output_type": "error",
     "traceback": [
      "\u001b[1;31m---------------------------------------------------------------------------\u001b[0m",
      "\u001b[1;31mTypeError\u001b[0m                                 Traceback (most recent call last)",
      "\u001b[1;32m/home/ines/Desktop/LabRot_OIST/pybrep/BREPpy.py\u001b[0m in \u001b[0;36m<module>\u001b[1;34m()\u001b[0m\n\u001b[0;32m    132\u001b[0m \u001b[1;33m\u001b[0m\u001b[0m\n\u001b[0;32m    133\u001b[0m \u001b[1;32mif\u001b[0m \u001b[0m__name__\u001b[0m \u001b[1;33m==\u001b[0m \u001b[1;34m'__main__'\u001b[0m\u001b[1;33m:\u001b[0m\u001b[1;33m\u001b[0m\u001b[0m\n\u001b[1;32m--> 134\u001b[1;33m         \u001b[0mBrep\u001b[0m\u001b[1;33m(\u001b[0m\u001b[1;33m)\u001b[0m\u001b[1;33m.\u001b[0m\u001b[0minitialize_and_dump\u001b[0m\u001b[1;33m(\u001b[0m\u001b[1;33m)\u001b[0m\u001b[1;33m\u001b[0m\u001b[0m\n\u001b[0m",
      "\u001b[1;32m/home/ines/Desktop/LabRot_OIST/pybrep/BREPpy.py\u001b[0m in \u001b[0;36minitialize_and_dump\u001b[1;34m(self)\u001b[0m\n\u001b[0;32m    121\u001b[0m         \u001b[0mprint\u001b[0m \u001b[1;33m(\u001b[0m\u001b[1;34m'I'\u001b[0m\u001b[1;33m)\u001b[0m\u001b[1;33m\u001b[0m\u001b[0m\n\u001b[0;32m    122\u001b[0m         \u001b[0mself\u001b[0m\u001b[1;33m.\u001b[0m\u001b[0margs\u001b[0m \u001b[1;33m=\u001b[0m \u001b[0mself\u001b[0m\u001b[1;33m.\u001b[0m\u001b[0mparser\u001b[0m\u001b[1;33m.\u001b[0m\u001b[0mparse_args\u001b[0m\u001b[1;33m(\u001b[0m\u001b[1;33m)\u001b[0m\u001b[1;33m\u001b[0m\u001b[0m\n\u001b[1;32m--> 123\u001b[1;33m         \u001b[0mself\u001b[0m\u001b[1;33m.\u001b[0m\u001b[0mcl_args\u001b[0m \u001b[1;33m=\u001b[0m \u001b[0mself\u001b[0m\u001b[1;33m.\u001b[0m\u001b[0mparser\u001b[0m\u001b[1;33m.\u001b[0m\u001b[0mconvert_arg_line_to_args\u001b[0m\u001b[1;33m(\u001b[0m\u001b[1;33m)\u001b[0m\u001b[1;33m\u001b[0m\u001b[0m\n\u001b[0m\u001b[0;32m    124\u001b[0m         \u001b[0mprint\u001b[0m \u001b[1;33m(\u001b[0m\u001b[1;34m'yoo I parsed it'\u001b[0m\u001b[1;33m)\u001b[0m\u001b[1;33m\u001b[0m\u001b[0m\n\u001b[0;32m    125\u001b[0m         \u001b[0mself\u001b[0m\u001b[1;33m.\u001b[0m\u001b[0mparser\u001b[0m \u001b[1;33m=\u001b[0m \u001b[1;36m0\u001b[0m\u001b[1;33m\u001b[0m\u001b[0m\n",
      "\u001b[1;31mTypeError\u001b[0m: convert_arg_line_to_args() missing 1 required positional argument: 'arg_line'"
     ]
    }
   ],
   "source": []
  },
  {
   "cell_type": "code",
   "execution_count": 13,
   "metadata": {
    "collapsed": false
   },
   "outputs": [
    {
     "data": {
      "text/plain": [
       "14.447221955179558"
      ]
     },
     "execution_count": 13,
     "metadata": {},
     "output_type": "execute_result"
    }
   ],
   "source": [
    "(332**2 + 100**2)**0.5 / 24"
   ]
  },
  {
   "cell_type": "code",
   "execution_count": 15,
   "metadata": {
    "collapsed": false
   },
   "outputs": [
    {
     "data": {
      "text/plain": [
       "5.024937810560445"
      ]
     },
     "execution_count": 15,
     "metadata": {},
     "output_type": "execute_result"
    }
   ],
   "source": [
    "(6**2+60**2)**0.5/12"
   ]
  },
  {
   "cell_type": "code",
   "execution_count": null,
   "metadata": {
    "collapsed": true
   },
   "outputs": [],
   "source": []
  }
 ],
 "metadata": {
  "kernelspec": {
   "display_name": "Python 3",
   "language": "python",
   "name": "python3"
  },
  "language_info": {
   "codemirror_mode": {
    "name": "ipython",
    "version": 3
   },
   "file_extension": ".py",
   "mimetype": "text/x-python",
   "name": "python",
   "nbconvert_exporter": "python",
   "pygments_lexer": "ipython3",
   "version": "3.5.2"
  },
  "toc": {
   "nav_menu": {},
   "number_sections": true,
   "sideBar": true,
   "skip_h1_title": false,
   "toc_cell": false,
   "toc_position": {
    "height": "731px",
    "left": "0px",
    "right": "1411.75px",
    "top": "108px",
    "width": "212px"
   },
   "toc_section_display": "block",
   "toc_window_display": true
  },
  "varInspector": {
   "cols": {
    "lenName": 16,
    "lenType": 16,
    "lenVar": 40
   },
   "kernels_config": {
    "python": {
     "delete_cmd_postfix": "",
     "delete_cmd_prefix": "del ",
     "library": "var_list.py",
     "varRefreshCmd": "print(var_dic_list())"
    },
    "r": {
     "delete_cmd_postfix": ") ",
     "delete_cmd_prefix": "rm(",
     "library": "var_list.r",
     "varRefreshCmd": "cat(var_dic_list()) "
    }
   },
   "types_to_exclude": [
    "module",
    "function",
    "builtin_function_or_method",
    "instance",
    "_Feature"
   ],
   "window_display": false
  }
 },
 "nbformat": 4,
 "nbformat_minor": 1
}
