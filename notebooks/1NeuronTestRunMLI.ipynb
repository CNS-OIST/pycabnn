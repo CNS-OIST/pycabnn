{
 "cells": [
  {
   "cell_type": "code",
   "execution_count": 1,
   "metadata": {},
   "outputs": [],
   "source": [
    "import numpy as np\n",
    "from tqdm import tqdm\n",
    "import matplotlib.pyplot as plt\n",
    "import random #generating negative random numbers\n",
    "\n",
    "from mpl_toolkits.mplot3d import Axes3D # for 3D visualization\n",
    "\n",
    "from tqdm import tqdm, trange #loading status\n",
    "\n"
   ]
  },
  {
   "cell_type": "code",
   "execution_count": 2,
   "metadata": {},
   "outputs": [],
   "source": [
    "%load_ext autoreload\n",
    "%autoreload 2"
   ]
  },
  {
   "cell_type": "code",
   "execution_count": 3,
   "metadata": {},
   "outputs": [
    {
     "name": "stdout",
     "output_type": "stream",
     "text": [
      "/Users/reuschenbachjosefine\n"
     ]
    }
   ],
   "source": [
    "cd"
   ]
  },
  {
   "cell_type": "code",
   "execution_count": 4,
   "metadata": {},
   "outputs": [
    {
     "name": "stdout",
     "output_type": "stream",
     "text": [
      "/Users/reuschenbachjosefine/ComputationalNeuroscienceUnit/pycabnn-MLI\n"
     ]
    }
   ],
   "source": [
    "cd ComputationalNeuroscienceUnit/pycabnn-MLI/"
   ]
  },
  {
   "cell_type": "code",
   "execution_count": 5,
   "metadata": {},
   "outputs": [
    {
     "name": "stderr",
     "output_type": "stream",
     "text": [
      "/Users/reuschenbachjosefine/ComputationalNeuroscienceUnit/pycabnn-MLI/pycabnn/connector.py:13: TqdmExperimentalWarning: Using `tqdm.autonotebook.tqdm` in notebook mode. Use `tqdm.tqdm` instead to force console mode (e.g. in jupyter console)\n",
      "  from tqdm.autonotebook import tqdm\n"
     ]
    }
   ],
   "source": [
    "import pycabnn.generate_cell_position_mli as pop"
   ]
  },
  {
   "cell_type": "code",
   "execution_count": 6,
   "metadata": {},
   "outputs": [
    {
     "name": "stdout",
     "output_type": "stream",
     "text": [
      "Nseg for APical is 5 and Basal is 3\n",
      "\t36 \n"
     ]
    },
    {
     "data": {
      "text/plain": [
       "1.0"
      ]
     },
     "execution_count": 6,
     "metadata": {},
     "output_type": "execute_result"
    }
   ],
   "source": [
    "from neuron import h\n",
    "h.load_file('test_data/params/Parameters.hoc')"
   ]
  },
  {
   "cell_type": "code",
   "execution_count": 22,
   "metadata": {},
   "outputs": [
    {
     "name": "stdout",
     "output_type": "stream",
     "text": [
      "\u001b[34mLiterature\u001b[m\u001b[m/                      \u001b[34mconnection\u001b[m\u001b[m/\n",
      "\u001b[34mNeuronTutorial\u001b[m\u001b[m/                  \u001b[34mconnection_test_20210707\u001b[m\u001b[m/\n",
      "\u001b[34mOther\u001b[m\u001b[m/                           \u001b[34mpycabnn-MLI\u001b[m\u001b[m/\n",
      "\u001b[34mPresentation\u001b[m\u001b[m/                    pycabnn-MLI-mystery.zip\n",
      "\u001b[34mReports\u001b[m\u001b[m/                         ~$boratoryRotationProposal.docx\n",
      "\u001b[34mTonicGABAProject\u001b[m\u001b[m/                \u001b[31m~cell-positions.npz\u001b[m\u001b[m*\n"
     ]
    }
   ],
   "source": [
    "%ls"
   ]
  },
  {
   "cell_type": "code",
   "execution_count": 21,
   "metadata": {},
   "outputs": [
    {
     "name": "stdout",
     "output_type": "stream",
     "text": [
      "/Users/reuschenbachjosefine/ComputationalNeuroscienceUnit\n"
     ]
    }
   ],
   "source": [
    "cd ..\n"
   ]
  },
  {
   "cell_type": "code",
   "execution_count": 23,
   "metadata": {},
   "outputs": [
    {
     "name": "stdout",
     "output_type": "stream",
     "text": [
      "/Users/reuschenbachjosefine/ComputationalNeuroscienceUnit/connection_test_20210707\n"
     ]
    }
   ],
   "source": [
    "cd connection_test_20210707"
   ]
  },
  {
   "cell_type": "code",
   "execution_count": 24,
   "metadata": {},
   "outputs": [
    {
     "data": {
      "text/plain": [
       "array([[ 260.49691676,  240.67988039,  322.96117708],\n",
       "       [1465.06295851,  597.04816666,  306.79052032],\n",
       "       [ 472.20029745,  592.2483781 ,  291.51042226],\n",
       "       [ 244.05444309,  228.43872702,  407.48067531],\n",
       "       [ 431.83855078,  462.50694568,  413.37245933]])"
      ]
     },
     "execution_count": 24,
     "metadata": {},
     "output_type": "execute_result"
    }
   ],
   "source": [
    "somas=np.loadtxt(\"MLIcoordinates.sorted.dat\")\n",
    "# somas = somas['mli']\n",
    "somas[:5]"
   ]
  },
  {
   "cell_type": "code",
   "execution_count": 25,
   "metadata": {},
   "outputs": [
    {
     "data": {
      "text/plain": [
       "233.49482242584656"
      ]
     },
     "execution_count": 25,
     "metadata": {},
     "output_type": "execute_result"
    }
   ],
   "source": [
    "somas[:,2].min()"
   ]
  },
  {
   "cell_type": "code",
   "execution_count": 26,
   "metadata": {},
   "outputs": [],
   "source": [
    "import pycabnn.cell_population as pop"
   ]
  },
  {
   "cell_type": "code",
   "execution_count": 27,
   "metadata": {},
   "outputs": [],
   "source": [
    "mlipop = pop.MLI_pop(h)"
   ]
  },
  {
   "cell_type": "code",
   "execution_count": 28,
   "metadata": {},
   "outputs": [],
   "source": [
    "mlipop.load_somata(somas)"
   ]
  },
  {
   "cell_type": "code",
   "execution_count": 34,
   "metadata": {},
   "outputs": [],
   "source": [
    "#DendPointAllAll, dendpt_ids_all, segs = mlipop.gen_dendrite(return_end_points=False)"
   ]
  },
  {
   "cell_type": "markdown",
   "metadata": {},
   "source": [
    "## Save data to text files"
   ]
  },
  {
   "cell_type": "code",
   "execution_count": 18,
   "metadata": {},
   "outputs": [],
   "source": [
    "np.savetxt(\"DendPointAllAll.txt\", DendPointAllAll, fmt=\"%s\")"
   ]
  },
  {
   "cell_type": "code",
   "execution_count": 19,
   "metadata": {},
   "outputs": [],
   "source": [
    "np.savetxt(\"seg.txt\", segs, fmt=\"%s\")"
   ]
  },
  {
   "cell_type": "code",
   "execution_count": 20,
   "metadata": {},
   "outputs": [],
   "source": [
    "np.savetxt(\"dendpt_ids_all.txt\", dendpt_ids_all, fmt=\"%s\")"
   ]
  },
  {
   "cell_type": "code",
   "execution_count": 38,
   "metadata": {},
   "outputs": [],
   "source": [
    "#DendPointAllAll=np.loadtxt(\"DendPointAllAll.txt\")\n"
   ]
  },
  {
   "cell_type": "code",
   "execution_count": 56,
   "metadata": {},
   "outputs": [],
   "source": [
    "#seg=np.loadtxt(\"seg.txt\")"
   ]
  },
  {
   "cell_type": "code",
   "execution_count": 56,
   "metadata": {},
   "outputs": [
    {
     "name": "stdout",
     "output_type": "stream",
     "text": [
      "/Users/reuschenbachjosefine/ComputationalNeuroscienceUnit/pycabnn-MLI/test_data/MLI_20000\n"
     ]
    }
   ],
   "source": [
    "cd MLI_20000/"
   ]
  },
  {
   "cell_type": "code",
   "execution_count": 57,
   "metadata": {},
   "outputs": [
    {
     "name": "stdout",
     "output_type": "stream",
     "text": [
      "MLIcoordinates.dat      MLIdata_20210705.npz    MLIdata_20210705_1.npz\n"
     ]
    }
   ],
   "source": [
    "ls"
   ]
  },
  {
   "cell_type": "code",
   "execution_count": 29,
   "metadata": {},
   "outputs": [],
   "source": [
    "dendpt_ids_all = np.loadtxt('MLI/dendpt_ids_all.txt')"
   ]
  },
  {
   "cell_type": "code",
   "execution_count": 28,
   "metadata": {},
   "outputs": [],
   "source": [
    "dendpt_ids_all = dendpt_ids_all.astype(int)\n",
    "seg = seg.astype(int)"
   ]
  },
  {
   "cell_type": "code",
   "execution_count": 31,
   "metadata": {},
   "outputs": [
    {
     "data": {
      "text/plain": [
       "array([    0,     0,     0, ..., 19884, 19884, 19884])"
      ]
     },
     "execution_count": 31,
     "metadata": {},
     "output_type": "execute_result"
    }
   ],
   "source": [
    "dendpt_ids_all"
   ]
  },
  {
   "cell_type": "markdown",
   "metadata": {},
   "source": [
    "## Save data as npz\n",
    "\n",
    "Text files are too big ~400MB for DentPointAllAll. Trying numpy NPZ."
   ]
  },
  {
   "cell_type": "code",
   "execution_count": 32,
   "metadata": {},
   "outputs": [],
   "source": [
    "np.savez_compressed('MLIdata_20210705_1.npz', \n",
    "                    dendpoints=DendPointAllAll,\n",
    "                    segments=seg,\n",
    "                    ids=dendpt_ids_all\n",
    ")"
   ]
  },
  {
   "cell_type": "code",
   "execution_count": 44,
   "metadata": {},
   "outputs": [
    {
     "name": "stdout",
     "output_type": "stream",
     "text": [
      "/Users/reuschenbachjosefine/ComputationalNeuroscienceUnit/pycabnn-MLI\n"
     ]
    }
   ],
   "source": [
    "cd pycabnn-MLI/\n"
   ]
  },
  {
   "cell_type": "code",
   "execution_count": 45,
   "metadata": {},
   "outputs": [
    {
     "name": "stdout",
     "output_type": "stream",
     "text": [
      "LICENSE.txt                    \u001b[34mpycabnn\u001b[m\u001b[m/\n",
      "README.md                      requirements.txt\n",
      "SnipsForEPointOnSphere.ipynb   \u001b[31mrun_connector.py\u001b[m\u001b[m*\n",
      "environment.yml                \u001b[31mrun_connector_MLI.py\u001b[m\u001b[m*\n",
      "\u001b[31mgenerate_cell_position.py\u001b[m\u001b[m*     start_ipcluster.sh\n",
      "\u001b[31mgenerate_cell_position_mli.py\u001b[m\u001b[m* temp_arra.npz\n",
      "\u001b[34mmovie_figs\u001b[m\u001b[m/                    \u001b[34mtest_data\u001b[m\u001b[m/\n",
      "\u001b[34mnotebooks\u001b[m\u001b[m/                     testsave.npz\n",
      "optional-requirements.txt      \u001b[31munpack_db.py\u001b[m\u001b[m*\n"
     ]
    }
   ],
   "source": [
    "ls"
   ]
  },
  {
   "cell_type": "code",
   "execution_count": 46,
   "metadata": {},
   "outputs": [],
   "source": [
    "mlipop.load_data('testsave.npz')"
   ]
  },
  {
   "cell_type": "code",
   "execution_count": 122,
   "metadata": {},
   "outputs": [],
   "source": [
    "mlipop.save_data('testsave.npz')"
   ]
  },
  {
   "cell_type": "code",
   "execution_count": 131,
   "metadata": {},
   "outputs": [],
   "source": [
    "np.savetxt('test_data/MLIcoordinates.dat', somas[:100,:])"
   ]
  },
  {
   "cell_type": "code",
   "execution_count": 51,
   "metadata": {},
   "outputs": [
    {
     "ename": "TypeError",
     "evalue": "'MLI_pop' object is not subscriptable",
     "output_type": "error",
     "traceback": [
      "\u001b[0;31m---------------------------------------------------------------------------\u001b[0m",
      "\u001b[0;31mTypeError\u001b[0m                                 Traceback (most recent call last)",
      "\u001b[0;32m<ipython-input-51-eb4ba0046c4d>\u001b[0m in \u001b[0;36m<module>\u001b[0;34m\u001b[0m\n\u001b[0;32m----> 1\u001b[0;31m \u001b[0mDendPointAllAll\u001b[0m\u001b[0;34m=\u001b[0m \u001b[0mmlipop\u001b[0m\u001b[0;34m[\u001b[0m\u001b[0;34m\"dendpoints\"\u001b[0m\u001b[0;34m]\u001b[0m\u001b[0;34m\u001b[0m\u001b[0;34m\u001b[0m\u001b[0m\n\u001b[0m\u001b[1;32m      2\u001b[0m \u001b[0;31m#segs_all= MLI[\"segments\"]\u001b[0m\u001b[0;34m\u001b[0m\u001b[0;34m\u001b[0m\u001b[0;34m\u001b[0m\u001b[0m\n\u001b[1;32m      3\u001b[0m \u001b[0;31m#dendpt_ids_all= MLI[\"ids\"]\u001b[0m\u001b[0;34m\u001b[0m\u001b[0;34m\u001b[0m\u001b[0;34m\u001b[0m\u001b[0m\n",
      "\u001b[0;31mTypeError\u001b[0m: 'MLI_pop' object is not subscriptable"
     ]
    }
   ],
   "source": [
    "DendPointAllAll= mlipop[\"dendpoints\"]\n",
    "#segs_all= MLI[\"segments\"]\n",
    "#dendpt_ids_all= MLI[\"ids\"]"
   ]
  },
  {
   "cell_type": "markdown",
   "metadata": {},
   "source": [
    "qpts = util.Query_point(DendPointAllAll, dendpt_ids_all, segs_all)"
   ]
  },
  {
   "cell_type": "code",
   "execution_count": 385,
   "metadata": {},
   "outputs": [
    {
     "data": {
      "text/plain": [
       "array([[1, 0],\n",
       "       [1, 0],\n",
       "       [1, 0],\n",
       "       ...,\n",
       "       [4, 9],\n",
       "       [4, 9],\n",
       "       [4, 9]])"
      ]
     },
     "execution_count": 385,
     "metadata": {},
     "output_type": "execute_result"
    }
   ],
   "source": [
    "qpts.seg"
   ]
  },
  {
   "cell_type": "code",
   "execution_count": 355,
   "metadata": {},
   "outputs": [],
   "source": [
    "dendpts100 = qpts.coo[qpts.idx<100,:]\n",
    "ids100 = qpts.idx[qpts.idx<100]\n",
    "seg100 = qpts.seg[qpts.idx<100,:]"
   ]
  },
  {
   "cell_type": "code",
   "execution_count": null,
   "metadata": {},
   "outputs": [],
   "source": []
  },
  {
   "cell_type": "code",
   "execution_count": 141,
   "metadata": {},
   "outputs": [],
   "source": [
    "np.savez_compressed('test_data/cell_position/MLIdata.npz',\n",
    "                    dendpoints=dendpts100,\n",
    "                   segments=seg100,\n",
    "                   ids=ids100)"
   ]
  },
  {
   "cell_type": "code",
   "execution_count": 369,
   "metadata": {},
   "outputs": [
    {
     "data": {
      "text/plain": [
       "0"
      ]
     },
     "execution_count": 369,
     "metadata": {},
     "output_type": "execute_result"
    }
   ],
   "source": [
    "type(seg100)\n",
    "\n",
    "seg100[0,0]"
   ]
  },
  {
   "cell_type": "code",
   "execution_count": 366,
   "metadata": {},
   "outputs": [],
   "source": [
    "#switching seg and ID position\n",
    "for i in range(len(seg100)):\n",
    "    seg100[i, 0], seg100[i,1] = seg100[i, 1], seg100[i,0]"
   ]
  },
  {
   "cell_type": "code",
   "execution_count": 361,
   "metadata": {},
   "outputs": [
    {
     "name": "stdout",
     "output_type": "stream",
     "text": [
      "['c', 'b', 'a']\n"
     ]
    }
   ],
   "source": [
    "a_list = [\"a\", \"b\", \"c\"]\n",
    "a_list[0], a_list[2] = a_list[2], a_list[0]\n",
    "print(a_list)\n"
   ]
  },
  {
   "cell_type": "markdown",
   "metadata": {},
   "source": [
    "# Read the connector result"
   ]
  },
  {
   "cell_type": "code",
   "execution_count": 370,
   "metadata": {},
   "outputs": [],
   "source": [
    "import pandas as pd"
   ]
  },
  {
   "cell_type": "code",
   "execution_count": 371,
   "metadata": {},
   "outputs": [
    {
     "data": {
      "text/html": [
       "<div>\n",
       "<style scoped>\n",
       "    .dataframe tbody tr th:only-of-type {\n",
       "        vertical-align: middle;\n",
       "    }\n",
       "\n",
       "    .dataframe tbody tr th {\n",
       "        vertical-align: top;\n",
       "    }\n",
       "\n",
       "    .dataframe thead th {\n",
       "        text-align: right;\n",
       "    }\n",
       "</style>\n",
       "<table border=\"1\" class=\"dataframe\">\n",
       "  <thead>\n",
       "    <tr style=\"text-align: right;\">\n",
       "      <th></th>\n",
       "      <th>source</th>\n",
       "      <th>target</th>\n",
       "      <th>segment</th>\n",
       "      <th>branch</th>\n",
       "      <th>distance</th>\n",
       "    </tr>\n",
       "  </thead>\n",
       "  <tbody>\n",
       "    <tr>\n",
       "      <th>0</th>\n",
       "      <td>362237</td>\n",
       "      <td>0</td>\n",
       "      <td>1</td>\n",
       "      <td>0</td>\n",
       "      <td>124.820050</td>\n",
       "    </tr>\n",
       "    <tr>\n",
       "      <th>1</th>\n",
       "      <td>14223</td>\n",
       "      <td>0</td>\n",
       "      <td>1</td>\n",
       "      <td>0</td>\n",
       "      <td>217.820050</td>\n",
       "    </tr>\n",
       "    <tr>\n",
       "      <th>2</th>\n",
       "      <td>772002</td>\n",
       "      <td>0</td>\n",
       "      <td>1</td>\n",
       "      <td>0</td>\n",
       "      <td>168.820050</td>\n",
       "    </tr>\n",
       "    <tr>\n",
       "      <th>3</th>\n",
       "      <td>131434</td>\n",
       "      <td>0</td>\n",
       "      <td>1</td>\n",
       "      <td>0</td>\n",
       "      <td>204.820050</td>\n",
       "    </tr>\n",
       "    <tr>\n",
       "      <th>4</th>\n",
       "      <td>582204</td>\n",
       "      <td>0</td>\n",
       "      <td>1</td>\n",
       "      <td>0</td>\n",
       "      <td>210.820050</td>\n",
       "    </tr>\n",
       "    <tr>\n",
       "      <th>...</th>\n",
       "      <td>...</td>\n",
       "      <td>...</td>\n",
       "      <td>...</td>\n",
       "      <td>...</td>\n",
       "      <td>...</td>\n",
       "    </tr>\n",
       "    <tr>\n",
       "      <th>983587</th>\n",
       "      <td>271047</td>\n",
       "      <td>99</td>\n",
       "      <td>4</td>\n",
       "      <td>9</td>\n",
       "      <td>72.738357</td>\n",
       "    </tr>\n",
       "    <tr>\n",
       "      <th>983588</th>\n",
       "      <td>774330</td>\n",
       "      <td>99</td>\n",
       "      <td>4</td>\n",
       "      <td>9</td>\n",
       "      <td>81.738357</td>\n",
       "    </tr>\n",
       "    <tr>\n",
       "      <th>983589</th>\n",
       "      <td>711250</td>\n",
       "      <td>99</td>\n",
       "      <td>4</td>\n",
       "      <td>9</td>\n",
       "      <td>176.738357</td>\n",
       "    </tr>\n",
       "    <tr>\n",
       "      <th>983590</th>\n",
       "      <td>694731</td>\n",
       "      <td>99</td>\n",
       "      <td>4</td>\n",
       "      <td>9</td>\n",
       "      <td>162.738357</td>\n",
       "    </tr>\n",
       "    <tr>\n",
       "      <th>983591</th>\n",
       "      <td>611337</td>\n",
       "      <td>99</td>\n",
       "      <td>4</td>\n",
       "      <td>9</td>\n",
       "      <td>140.738357</td>\n",
       "    </tr>\n",
       "  </tbody>\n",
       "</table>\n",
       "<p>983592 rows × 5 columns</p>\n",
       "</div>"
      ],
      "text/plain": [
       "        source  target  segment  branch    distance\n",
       "0       362237       0        1       0  124.820050\n",
       "1        14223       0        1       0  217.820050\n",
       "2       772002       0        1       0  168.820050\n",
       "3       131434       0        1       0  204.820050\n",
       "4       582204       0        1       0  210.820050\n",
       "...        ...     ...      ...     ...         ...\n",
       "983587  271047      99        4       9   72.738357\n",
       "983588  774330      99        4       9   81.738357\n",
       "983589  711250      99        4       9  176.738357\n",
       "983590  694731      99        4       9  162.738357\n",
       "983591  611337      99        4       9  140.738357\n",
       "\n",
       "[983592 rows x 5 columns]"
      ]
     },
     "execution_count": 371,
     "metadata": {},
     "output_type": "execute_result"
    }
   ],
   "source": [
    "tb = pd.read_hdf('../connection_test_20210707/AAtoMLI.h5', \"connection\")\n",
    "tb"
   ]
  },
  {
   "cell_type": "code",
   "execution_count": 65,
   "metadata": {},
   "outputs": [
    {
     "name": "stderr",
     "output_type": "stream",
     "text": [
      "/opt/anaconda3/lib/python3.8/site-packages/IPython/core/magics/execution.py:508: UserWarning: Error changing user exception modes.\n",
      "Unrecognized mode in FormattedTB: <[5000:5001]>\n",
      "Valid modes: ['Plain', 'Context', 'Verbose', 'Minimal']\n",
      "  warn('Error changing %s exception modes.\\n%s' %\n"
     ]
    }
   ],
   "source": [
    "tb[5000:5050]"
   ]
  },
  {
   "cell_type": "code",
   "execution_count": 400,
   "metadata": {},
   "outputs": [
    {
     "data": {
      "text/plain": [
       "0.11079629087760168"
      ]
     },
     "execution_count": 400,
     "metadata": {},
     "output_type": "execute_result"
    }
   ],
   "source": [
    "min(tb.distance)\n"
   ]
  },
  {
   "cell_type": "code",
   "execution_count": 410,
   "metadata": {},
   "outputs": [
    {
     "data": {
      "text/html": [
       "<div>\n",
       "<style scoped>\n",
       "    .dataframe tbody tr th:only-of-type {\n",
       "        vertical-align: middle;\n",
       "    }\n",
       "\n",
       "    .dataframe tbody tr th {\n",
       "        vertical-align: top;\n",
       "    }\n",
       "\n",
       "    .dataframe thead th {\n",
       "        text-align: right;\n",
       "    }\n",
       "</style>\n",
       "<table border=\"1\" class=\"dataframe\">\n",
       "  <thead>\n",
       "    <tr style=\"text-align: right;\">\n",
       "      <th></th>\n",
       "      <th>source</th>\n",
       "      <th>target</th>\n",
       "      <th>segment</th>\n",
       "      <th>branch</th>\n",
       "      <th>distance</th>\n",
       "    </tr>\n",
       "  </thead>\n",
       "  <tbody>\n",
       "    <tr>\n",
       "      <th>5</th>\n",
       "      <td>312416</td>\n",
       "      <td>0</td>\n",
       "      <td>1</td>\n",
       "      <td>0</td>\n",
       "      <td>201.82005</td>\n",
       "    </tr>\n",
       "  </tbody>\n",
       "</table>\n",
       "</div>"
      ],
      "text/plain": [
       "   source  target  segment  branch   distance\n",
       "5  312416       0        1       0  201.82005"
      ]
     },
     "execution_count": 410,
     "metadata": {},
     "output_type": "execute_result"
    }
   ],
   "source": [
    "tb[5:6]"
   ]
  },
  {
   "cell_type": "code",
   "execution_count": 447,
   "metadata": {},
   "outputs": [],
   "source": [
    "#smaller1All=[]\n",
    "smaller1All=np.empty((0,5), dtype=object)\n",
    "#smaller1All = pd.DataFrame()\n",
    "for i in range(len(tb.distance)):\n",
    "    if tb.distance[i]<5:\n",
    "        n=i+1\n",
    "        smaller1= tb[i:n]\n",
    "        #smaller1All.append(smaller1)\n",
    "        smaller1All = np.append(smaller1All ,smaller1, axis=0)\n",
    "\n",
    "\n"
   ]
  },
  {
   "cell_type": "code",
   "execution_count": 454,
   "metadata": {},
   "outputs": [
    {
     "data": {
      "text/plain": [
       "array([4.545233529302493, 3.918316199030727, 4.918316199030727,\n",
       "       3.291398868758961, 4.291398868758961], dtype=object)"
      ]
     },
     "execution_count": 454,
     "metadata": {},
     "output_type": "execute_result"
    }
   ],
   "source": [
    "smaller1All[:5,4]"
   ]
  },
  {
   "cell_type": "code",
   "execution_count": 442,
   "metadata": {},
   "outputs": [
    {
     "data": {
      "text/plain": [
       "(0, 0)"
      ]
     },
     "execution_count": 442,
     "metadata": {},
     "output_type": "execute_result"
    }
   ],
   "source": [
    "#smaller1All=tb[3:5]\n",
    "smaller1All.shape"
   ]
  },
  {
   "cell_type": "code",
   "execution_count": 293,
   "metadata": {},
   "outputs": [
    {
     "data": {
      "text/plain": [
       "124.88786641906866"
      ]
     },
     "execution_count": 293,
     "metadata": {},
     "output_type": "execute_result"
    }
   ],
   "source": [
    "dist = np.sqrt((gc[362237,0]-dendpts100[0,0])**2 + \n",
    "               (gc[362237,1]-dendpts100[0,1])**2 + \n",
    "               (gc[362237,2]-dendpts100[0,2])**2)\n",
    "dist"
   ]
  },
  {
   "cell_type": "code",
   "execution_count": 298,
   "metadata": {},
   "outputs": [
    {
     "data": {
      "text/plain": [
       "array([1395.78599977,  108.71121054,  270.73835728])"
      ]
     },
     "execution_count": 298,
     "metadata": {},
     "output_type": "execute_result"
    }
   ],
   "source": [
    "dendpts100[35999]"
   ]
  },
  {
   "cell_type": "code",
   "execution_count": 294,
   "metadata": {},
   "outputs": [
    {
     "data": {
      "text/plain": [
       "217.85802531422084"
      ]
     },
     "execution_count": 294,
     "metadata": {},
     "output_type": "execute_result"
    }
   ],
   "source": [
    "dist = np.sqrt((gc[14223,0]-dendpts100[0,0])**2 + \n",
    "               (gc[14223,1]-dendpts100[0,1])**2 + \n",
    "               (gc[14223,2]-dendpts100[0,2])**2)\n",
    "dist"
   ]
  },
  {
   "cell_type": "code",
   "execution_count": 299,
   "metadata": {},
   "outputs": [
    {
     "data": {
      "text/plain": [
       "140.7809503682406"
      ]
     },
     "execution_count": 299,
     "metadata": {},
     "output_type": "execute_result"
    }
   ],
   "source": [
    "dist = np.sqrt((gc[611337,0]-dendpts100[35999,0])**2 + \n",
    "               (gc[611337,1]-dendpts100[35999,1])**2 + \n",
    "               (gc[611337,2]-dendpts100[35999,2])**2)\n",
    "dist"
   ]
  },
  {
   "cell_type": "code",
   "execution_count": 300,
   "metadata": {},
   "outputs": [
    {
     "data": {
      "text/plain": [
       "72.8227886924902"
      ]
     },
     "execution_count": 300,
     "metadata": {},
     "output_type": "execute_result"
    }
   ],
   "source": [
    "dist = np.sqrt((gc[271047,0]-dendpts100[35999,0])**2 + \n",
    "               (gc[271047,1]-dendpts100[35999,1])**2 + \n",
    "               (gc[271047,2]-dendpts100[35999,2])**2)\n",
    "dist"
   ]
  },
  {
   "cell_type": "code",
   "execution_count": 153,
   "metadata": {},
   "outputs": [],
   "source": [
    "gc = np.loadtxt('test_data/cell_position/GCcoordinates.dat')"
   ]
  },
  {
   "cell_type": "code",
   "execution_count": 154,
   "metadata": {},
   "outputs": [
    {
     "data": {
      "text/plain": [
       "array([259., 238., 198.])"
      ]
     },
     "execution_count": 154,
     "metadata": {},
     "output_type": "execute_result"
    }
   ],
   "source": [
    "gc[362237,:]\n"
   ]
  },
  {
   "cell_type": "code",
   "execution_count": 191,
   "metadata": {},
   "outputs": [
    {
     "data": {
      "text/plain": [
       "(983592,)"
      ]
     },
     "execution_count": 191,
     "metadata": {},
     "output_type": "execute_result"
    }
   ],
   "source": [
    "tb.source.shape"
   ]
  },
  {
   "cell_type": "code",
   "execution_count": 195,
   "metadata": {},
   "outputs": [
    {
     "data": {
      "text/plain": [
       "797995"
      ]
     },
     "execution_count": 195,
     "metadata": {},
     "output_type": "execute_result"
    }
   ],
   "source": [
    "max(tb.source)"
   ]
  },
  {
   "cell_type": "code",
   "execution_count": 248,
   "metadata": {},
   "outputs": [],
   "source": [
    "GCcellAll=[]\n",
    "for  i in range(len(tb.source)):\n",
    "    if (tb.target[i]==0) and (tb.branch[i]==0) and (tb.segment[i]==1):\n",
    "        GCcell= [tb.source[i]]\n",
    "        #GCcellAll=np.append(GCcellAll, GCcell, axis=0)\n",
    "        #GCcellAll = np.vstack((GCcellAll,GCcell))\n",
    "        GCcellAll.extend(GCcell)\n",
    "\n",
    "\n"
   ]
  },
  {
   "cell_type": "code",
   "execution_count": 251,
   "metadata": {
    "scrolled": true
   },
   "outputs": [],
   "source": [
    "GCcoor_0_0_1_All=np.empty((0,3), dtype=object)\n",
    "for i in range(len(GCcellAll)):\n",
    "    GCcoor_0_0_1=(gc[GCcellAll[i]])\n",
    "    GCcoor_0_0_1_All = np.vstack((GCcoor_0_0_1_All ,GCcoor_0_0_1))\n",
    "\n"
   ]
  },
  {
   "cell_type": "code",
   "execution_count": null,
   "metadata": {},
   "outputs": [],
   "source": []
  },
  {
   "cell_type": "code",
   "execution_count": null,
   "metadata": {},
   "outputs": [],
   "source": [
    "MLIcellAll=np.empty((0,3), dtype=object)\n",
    "\n",
    "for  i in range(len(dendpts100)):\n",
    "    if (ids100[i]==0) and (seg100[i,0]==1) and (seg100[i,1]==0):\n",
    "        MLIcell= np.array(dendpts100[i])\n",
    "        #GCcellAll=np.append(GCcellAll, GCcell, axis=0)\n",
    "        #GCcellAll = np.vstack((GCcellAll,GCcell))\n",
    "        MLIcellAll = np.vstack((MLIcellAll ,MLIcell))\n",
    "\n"
   ]
  },
  {
   "cell_type": "code",
   "execution_count": null,
   "metadata": {},
   "outputs": [],
   "source": []
  },
  {
   "cell_type": "code",
   "execution_count": 288,
   "metadata": {},
   "outputs": [],
   "source": [
    "GCcellAll_1_0_1=[]\n",
    "for  i in range(len(tb.source)):\n",
    "    if (tb.target[i]==1) and (tb.branch[i]==0) and (tb.segment[i]==1):\n",
    "        GCcell= [tb.source[i]]\n",
    "        #GCcellAll=np.append(GCcellAll, GCcell, axis=0)\n",
    "        #GCcellAll = np.vstack((GCcellAll,GCcell))\n",
    "        GCcellAll_1_0_1.extend(GCcell)"
   ]
  },
  {
   "cell_type": "code",
   "execution_count": 289,
   "metadata": {},
   "outputs": [],
   "source": [
    "GCcoor_1_0_1_All=np.empty((0,3), dtype=object)\n",
    "for i in range(len(GCcellAll)):\n",
    "    GCcoor_1_0_1=(gc[GCcellAll[i]])\n",
    "    GCcoor_1_0_1_All = np.vstack((GCcoor_1_0_1_All ,GCcoor_1_0_1))"
   ]
  },
  {
   "cell_type": "code",
   "execution_count": 290,
   "metadata": {},
   "outputs": [],
   "source": [
    "MLIcellAll_1_0_1=np.empty((0,3), dtype=object)\n",
    "\n",
    "for  i in range(len(dendpts100)):\n",
    "    if (ids100[i]==1) and (seg100[i,0]==1) and (seg100[i,1]==0):\n",
    "        MLIcell= np.array(dendpts100[i])\n",
    "        #GCcellAll=np.append(GCcellAll, GCcell, axis=0)\n",
    "        #GCcellAll = np.vstack((GCcellAll,GCcell))\n",
    "        MLIcellAll_1_0_1 = np.vstack((MLIcellAll_1_0_1 ,MLIcell))\n",
    "\n"
   ]
  },
  {
   "cell_type": "code",
   "execution_count": null,
   "metadata": {},
   "outputs": [],
   "source": []
  },
  {
   "cell_type": "code",
   "execution_count": null,
   "metadata": {},
   "outputs": [],
   "source": []
  },
  {
   "cell_type": "code",
   "execution_count": 372,
   "metadata": {},
   "outputs": [],
   "source": [
    "GCcellAll_0_9_1=[]\n",
    "for  i in range(len(tb.source)):\n",
    "    if (tb.target[i]==1) and (tb.branch[i]==9) and (tb.segment[i]==1):\n",
    "        GCcell= [tb.source[i]]\n",
    "        #GCcellAll=np.append(GCcellAll, GCcell, axis=0)\n",
    "        #GCcellAll = np.vstack((GCcellAll,GCcell))\n",
    "        GCcellAll_0_9_1.extend(GCcell)"
   ]
  },
  {
   "cell_type": "code",
   "execution_count": 373,
   "metadata": {},
   "outputs": [],
   "source": [
    "GCcoor_0_9_1_All=np.empty((0,3), dtype=object)\n",
    "for i in range(len(GCcellAll)):\n",
    "    GCcoor_0_9_1=(gc[GCcellAll[i]])\n",
    "    GCcoor_0_9_1_All = np.vstack((GCcoor_0_9_1_All ,GCcoor_0_9_1))"
   ]
  },
  {
   "cell_type": "code",
   "execution_count": 377,
   "metadata": {},
   "outputs": [],
   "source": [
    "MLIcellAll_0_9_1=np.empty((0,3), dtype=object)\n",
    "\n",
    "for  i in range(len(dendpts100)):\n",
    "    if (ids100[i]==0) and (seg100[i,1]==1) and (seg100[i,0]==9):\n",
    "        MLIcell= np.array(dendpts100[i])\n",
    "        #GCcellAll=np.append(GCcellAll, GCcell, axis=0)\n",
    "        #GCcellAll = np.vstack((GCcellAll,GCcell))\n",
    "        MLIcellAll_0_9_1 = np.vstack((MLIcellAll_0_9_1 ,MLIcell))\n",
    "\n",
    "\n"
   ]
  },
  {
   "cell_type": "code",
   "execution_count": 378,
   "metadata": {},
   "outputs": [
    {
     "data": {
      "text/plain": [
       "array([[262.4451884552232, 240.25055474856867, 322.82004990601],\n",
       "       [264.3934601541885, 239.82122910652066, 322.6789227289996],\n",
       "       [266.3417318531538, 239.39190346447265, 322.5377955519892],\n",
       "       [268.2900035521191, 238.9625778224246, 322.39666837497873],\n",
       "       [270.2382752510844, 238.5332521803766, 322.2555411979683],\n",
       "       [272.1865469500497, 238.10392653832858, 322.1144140209579],\n",
       "       [274.134818649015, 237.67460089628057, 321.97328684394745],\n",
       "       [276.0830903479803, 237.24527525423255, 321.832159666937],\n",
       "       [278.03136204694556, 236.8159496121845, 321.69103248992656]],\n",
       "      dtype=object)"
      ]
     },
     "execution_count": 378,
     "metadata": {},
     "output_type": "execute_result"
    }
   ],
   "source": [
    "MLIcellAll"
   ]
  },
  {
   "cell_type": "code",
   "execution_count": 379,
   "metadata": {},
   "outputs": [
    {
     "name": "stderr",
     "output_type": "stream",
     "text": [
      "100%|██████████| 360/360 [00:26<00:00, 13.47it/s]\n"
     ]
    },
    {
     "data": {
      "image/png": "[encoded data removed]",
      "text/plain": [
       "<Figure size 720x720 with 1 Axes>"
      ]
     },
     "metadata": {
      "needs_background": "light"
     },
     "output_type": "display_data"
    }
   ],
   "source": [
    "fig = plt.figure(figsize=(10,10))\n",
    "ax = fig.add_subplot(111, projection='3d')\n",
    "ax.plot(GCcoor_0_9_1_All[:,0], GCcoor_0_9_1_All[:,1], GCcoor_0_9_1_All[:,2],'og')\n",
    "ax.plot(somas[0,0], somas[0,1], somas[0,2],'or', markersize=8)\n",
    "ax.plot(MLIcellAll_0_9_1[:,0], MLIcellAll_0_9_1[:,1], MLIcellAll_0_9_1[:,2],'ok', markersize=5)\n",
    "\n",
    "for ii in trange(0,360,1):\n",
    "    ax.view_init(elev=5., azim=ii)\n",
    "    plt.savefig(\"movie_figs/movie%d.png\" % ii)"
   ]
  },
  {
   "cell_type": "code",
   "execution_count": 285,
   "metadata": {},
   "outputs": [],
   "source": [
    "\n",
    "\n"
   ]
  },
  {
   "cell_type": "code",
   "execution_count": 343,
   "metadata": {},
   "outputs": [
    {
     "data": {
      "text/plain": [
       "array([[262.4451884552232, 240.25055474856867, 322.82004990601],\n",
       "       [264.3934601541885, 239.82122910652066, 322.6789227289996],\n",
       "       [266.3417318531538, 239.39190346447265, 322.5377955519892],\n",
       "       [268.2900035521191, 238.9625778224246, 322.39666837497873],\n",
       "       [270.2382752510844, 238.5332521803766, 322.2555411979683],\n",
       "       [272.1865469500497, 238.10392653832858, 322.1144140209579],\n",
       "       [274.134818649015, 237.67460089628057, 321.97328684394745],\n",
       "       [276.0830903479803, 237.24527525423255, 321.832159666937],\n",
       "       [278.03136204694556, 236.8159496121845, 321.69103248992656]],\n",
       "      dtype=object)"
      ]
     },
     "execution_count": 343,
     "metadata": {},
     "output_type": "execute_result"
    }
   ],
   "source": [
    "MLIcellAll"
   ]
  },
  {
   "cell_type": "code",
   "execution_count": 302,
   "metadata": {},
   "outputs": [
    {
     "name": "stderr",
     "output_type": "stream",
     "text": [
      "100%|██████████| 360/360 [00:30<00:00, 11.89it/s]\n"
     ]
    },
    {
     "data": {
      "image/png": "[encoded data removed]",
      "text/plain": [
       "<Figure size 720x720 with 1 Axes>"
      ]
     },
     "metadata": {
      "needs_background": "light"
     },
     "output_type": "display_data"
    }
   ],
   "source": [
    "fig = plt.figure(figsize=(10,10))\n",
    "ax = fig.add_subplot(111, projection='3d')\n",
    "ax.plot(GCcoor_0_0_1_All[:,0], GCcoor_0_0_1_All[:,1], GCcoor_0_0_1_All[:,2],'og')\n",
    "ax.plot(somas[0,0], somas[0,1], somas[0,2],'or', markersize=8)\n",
    "ax.plot(dendpts100[:90,0], dendpts100[:90,1], dendpts100[:90,2],'oc', markersize=5)\n",
    "ax.plot(MLIcellAll[:,0], MLIcellAll[:,1], MLIcellAll[:,2],'ok', markersize=5)\n",
    "\n",
    "\n",
    "\n",
    "\n",
    "for ii in trange(0,360,1):\n",
    "    ax.view_init(elev=5., azim=ii)\n",
    "    plt.savefig(\"movie_figs/movie%d.png\" % ii)"
   ]
  },
  {
   "cell_type": "code",
   "execution_count": 301,
   "metadata": {},
   "outputs": [
    {
     "name": "stderr",
     "output_type": "stream",
     "text": [
      "100%|██████████| 360/360 [00:34<00:00, 10.45it/s]\n"
     ]
    },
    {
     "data": {
      "image/png": "[encoded data removed]",
      "text/plain": [
       "<Figure size 720x720 with 1 Axes>"
      ]
     },
     "metadata": {
      "needs_background": "light"
     },
     "output_type": "display_data"
    }
   ],
   "source": [
    "fig = plt.figure(figsize=(10,10))\n",
    "ax = fig.add_subplot(111, projection='3d')\n",
    "ax.plot(GCcoor_1_0_1_All[:,0], GCcoor_1_0_1_All[:,1], GCcoor_1_0_1_All[:,2],'og')\n",
    "ax.plot(somas[1,0], somas[1,1], somas[1,2],'or', markersize=8)\n",
    "#ax.plot(dendpts100[:90,0], dendpts100[:90,1], dendpts100[:90,2],'oc', markersize=5)\n",
    "ax.plot(MLIcellAll_1_0_1[:,0], MLIcellAll_1_0_1[:,1], MLIcellAll_1_0_1[:,2],'ok', markersize=5)\n",
    "\n",
    "\n",
    "for ii in trange(0,360,1):\n",
    "    ax.view_init(elev=5., azim=ii)\n",
    "    plt.savefig(\"movie_figs/movie%d.png\" % ii)"
   ]
  },
  {
   "cell_type": "markdown",
   "metadata": {},
   "source": [
    "## PF to MLI"
   ]
  },
  {
   "cell_type": "code",
   "execution_count": 2,
   "metadata": {},
   "outputs": [
    {
     "ename": "NameError",
     "evalue": "name 'pd' is not defined",
     "output_type": "error",
     "traceback": [
      "\u001b[0;31m---------------------------------------------------------------------------\u001b[0m",
      "\u001b[0;31mNameError\u001b[0m                                 Traceback (most recent call last)",
      "\u001b[0;32m<ipython-input-2-2ea6386d7b55>\u001b[0m in \u001b[0;36m<module>\u001b[0;34m\u001b[0m\n\u001b[0;32m----> 1\u001b[0;31m \u001b[0mpf\u001b[0m \u001b[0;34m=\u001b[0m \u001b[0mpd\u001b[0m\u001b[0;34m.\u001b[0m\u001b[0mread_hdf\u001b[0m\u001b[0;34m(\u001b[0m\u001b[0;34m'../connection_test_20210707/PFtoMLI.h5'\u001b[0m\u001b[0;34m,\u001b[0m \u001b[0;34m\"connection\"\u001b[0m\u001b[0;34m)\u001b[0m\u001b[0;34m\u001b[0m\u001b[0;34m\u001b[0m\u001b[0m\n\u001b[0m\u001b[1;32m      2\u001b[0m \u001b[0mpf\u001b[0m\u001b[0;34m\u001b[0m\u001b[0;34m\u001b[0m\u001b[0m\n",
      "\u001b[0;31mNameError\u001b[0m: name 'pd' is not defined"
     ]
    }
   ],
   "source": [
    "pf = pd.read_hdf('../connection_test_20210707/PFtoMLI.h5', \"connection\")\n",
    "pf"
   ]
  },
  {
   "cell_type": "code",
   "execution_count": 327,
   "metadata": {},
   "outputs": [
    {
     "data": {
      "text/plain": [
       "(13192043, 5)"
      ]
     },
     "execution_count": 327,
     "metadata": {},
     "output_type": "execute_result"
    }
   ],
   "source": [
    "pf.shape"
   ]
  },
  {
   "cell_type": "code",
   "execution_count": 329,
   "metadata": {},
   "outputs": [
    {
     "data": {
      "text/plain": [
       "(983592, 5)"
      ]
     },
     "execution_count": 329,
     "metadata": {},
     "output_type": "execute_result"
    }
   ],
   "source": [
    "tb.shape"
   ]
  },
  {
   "cell_type": "code",
   "execution_count": 320,
   "metadata": {},
   "outputs": [],
   "source": [
    "GCcellAll_0_9_1_PF=[]\n",
    "for  i in range(len(tb.source)):\n",
    "    if (pf.target[i]==1) and (pf.branch[i]==9) and (pf.segment[i]==1):\n",
    "        GCcell= [pf.source[i]]\n",
    "        #GCcellAll=np.append(GCcellAll, GCcell, axis=0)\n",
    "        #GCcellAll = np.vstack((GCcellAll,GCcell))\n",
    "        GCcellAll_0_9_1_PF.extend(GCcell)"
   ]
  },
  {
   "cell_type": "code",
   "execution_count": 321,
   "metadata": {},
   "outputs": [],
   "source": [
    "GCcoor_0_9_1_PF_All=np.empty((0,3), dtype=object)\n",
    "for i in range(len(GCcellAll)):\n",
    "    GCcoor_0_9_1=(gc[GCcellAll[i]])\n",
    "    GCcoor_0_9_1_PF_All = np.vstack((GCcoor_0_9_1_PF_All ,GCcoor_0_9_1))"
   ]
  },
  {
   "cell_type": "code",
   "execution_count": 323,
   "metadata": {},
   "outputs": [
    {
     "data": {
      "text/plain": [
       "(310, 3)"
      ]
     },
     "execution_count": 323,
     "metadata": {},
     "output_type": "execute_result"
    }
   ],
   "source": [
    "GCcoor_0_9_1_PF_All.shape"
   ]
  },
  {
   "cell_type": "code",
   "execution_count": 324,
   "metadata": {},
   "outputs": [],
   "source": [
    "MLIcellAll_0_9_1_PF=np.empty((0,3), dtype=object)\n",
    "\n",
    "for  i in range(len(dendpts100)):\n",
    "    if (ids100[i]==0) and (seg100[i,0]==1) and (seg100[i,1]==9):\n",
    "        MLIcell= np.array(dendpts100[i])\n",
    "        #GCcellAll=np.append(GCcellAll, GCcell, axis=0)\n",
    "        #GCcellAll = np.vstack((GCcellAll,GCcell))\n",
    "        MLIcellAll_0_9_1_PF = np.vstack((MLIcellAll_0_9_1_PF ,MLIcell))\n",
    "\n",
    "\n"
   ]
  },
  {
   "cell_type": "code",
   "execution_count": 326,
   "metadata": {},
   "outputs": [
    {
     "name": "stderr",
     "output_type": "stream",
     "text": [
      "100%|██████████| 360/360 [00:28<00:00, 12.66it/s]\n"
     ]
    },
    {
     "data": {
      "image/png": "[encoded data removed]",
      "text/plain": [
       "<Figure size 720x720 with 1 Axes>"
      ]
     },
     "metadata": {
      "needs_background": "light"
     },
     "output_type": "display_data"
    }
   ],
   "source": [
    "fig = plt.figure(figsize=(10,10))\n",
    "ax = fig.add_subplot(111, projection='3d')\n",
    "ax.plot(GCcoor_0_9_1_PF_All[:,0], GCcoor_0_9_1_PF_All[:,1], GCcoor_0_9_1_PF_All[:,2],'og')\n",
    "ax.plot(somas[0,0], somas[0,1], somas[0,2],'or', markersize=8)\n",
    "ax.plot(MLIcellAll_0_9_1_PF[:,0], MLIcellAll_0_9_1_PF[:,1], MLIcellAll_0_9_1_PF[:,2],'ok', markersize=5)\n",
    "\n",
    "for ii in trange(0,360,1):\n",
    "    ax.view_init(elev=5., azim=ii)\n",
    "    plt.savefig(\"movie_figs/movie%d.png\" % ii)"
   ]
  },
  {
   "cell_type": "code",
   "execution_count": 1,
   "metadata": {},
   "outputs": [
    {
     "ename": "NameError",
     "evalue": "name 'pf' is not defined",
     "output_type": "error",
     "traceback": [
      "\u001b[0;31m---------------------------------------------------------------------------\u001b[0m",
      "\u001b[0;31mNameError\u001b[0m                                 Traceback (most recent call last)",
      "\u001b[0;32m<ipython-input-1-6504b1670143>\u001b[0m in \u001b[0;36m<module>\u001b[0;34m\u001b[0m\n\u001b[0;32m----> 1\u001b[0;31m \u001b[0mpf\u001b[0m\u001b[0;34m\u001b[0m\u001b[0;34m\u001b[0m\u001b[0m\n\u001b[0m",
      "\u001b[0;31mNameError\u001b[0m: name 'pf' is not defined"
     ]
    }
   ],
   "source": [
    "pf"
   ]
  },
  {
   "cell_type": "code",
   "execution_count": null,
   "metadata": {},
   "outputs": [],
   "source": [
    "GCcellAll_0_9_1_PF=[]\n",
    "for  i in range(len(tb.source)):\n",
    "    if (pf.target[i]==1) and (pf.branch[i]==9) and (pf.segment[i]==1):\n",
    "        GCcell= [pf.source[i]]\n",
    "        #GCcellAll=np.append(GCcellAll, GCcell, axis=0)\n",
    "        #GCcellAll = np.vstack((GCcellAll,GCcell))\n",
    "        GCcellAll_0_9_1_PF.extend(GCcell)"
   ]
  }
 ],
 "metadata": {
  "kernelspec": {
   "display_name": "Python 3",
   "language": "python",
   "name": "python3"
  },
  "language_info": {
   "codemirror_mode": {
    "name": "ipython",
    "version": 3
   },
   "file_extension": ".py",
   "mimetype": "text/x-python",
   "name": "python",
   "nbconvert_exporter": "python",
   "pygments_lexer": "ipython3",
   "version": "3.8.5"
  }
 },
 "nbformat": 4,
 "nbformat_minor": 4
}
