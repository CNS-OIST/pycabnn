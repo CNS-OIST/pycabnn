{
 "cells": [
  {
   "cell_type": "code",
   "execution_count": 1,
   "metadata": {
    "ExecuteTime": {
     "end_time": "2018-01-04T14:31:07.331313Z",
     "start_time": "2018-01-04T14:30:46.677488Z"
    }
   },
   "outputs": [],
   "source": [
    "import matplotlib.pyplot as plt\n",
    "%matplotlib inline"
   ]
  },
  {
   "cell_type": "markdown",
   "metadata": {},
   "source": [
    "too old and weird to be useful\n",
    "\n",
    "\n",
    "Here is a list of the parameters that are planned to be read in from command line or so.\n",
    "global_prefix -> for the output path and maybe the run.\n",
    "Config_filename (maybe one for hoc, one for pseudo_hoc)\n",
    "Input filename for the GC points\n",
    "Input filename for the GoC coordinates\n",
    "\n",
    "\n",
    "\n",
    "To do (still):\n",
    "Check the dendrite directions\n",
    "Check the generate somata randomly function or take it out (which would be sad though...\n",
    "\n",
    "Write tests\n",
    "Save tests\n",
    "\n",
    "\n"
   ]
  },
  {
   "cell_type": "code",
   "execution_count": 7,
   "metadata": {
    "ExecuteTime": {
     "end_time": "2017-11-30T02:11:04.024028Z",
     "start_time": "2017-11-30T02:11:03.920381Z"
    }
   },
   "outputs": [
    {
     "ename": "AttributeError",
     "evalue": "module 'sklearn' has no attribute '__version_'",
     "output_type": "error",
     "traceback": [
      "\u001b[0;31m---------------------------------------------------------------------------\u001b[0m",
      "\u001b[0;31mAttributeError\u001b[0m                            Traceback (most recent call last)",
      "\u001b[0;32m<ipython-input-7-b6bfe7406e0c>\u001b[0m in \u001b[0;36m<module>\u001b[0;34m()\u001b[0m\n\u001b[1;32m      1\u001b[0m \u001b[0;32mimport\u001b[0m \u001b[0msklearn\u001b[0m\u001b[0;34m\u001b[0m\u001b[0m\n\u001b[0;32m----> 2\u001b[0;31m \u001b[0msklearn\u001b[0m\u001b[0;34m.\u001b[0m\u001b[0m__version_\u001b[0m\u001b[0;34m\u001b[0m\u001b[0m\n\u001b[0m",
      "\u001b[0;31mAttributeError\u001b[0m: module 'sklearn' has no attribute '__version_'"
     ]
    }
   ],
   "source": [
    "import sklearn\n",
    "sklearn.__version_"
   ]
  },
  {
   "cell_type": "code",
   "execution_count": 2,
   "metadata": {
    "ExecuteTime": {
     "end_time": "2018-01-04T14:31:24.822292Z",
     "start_time": "2018-01-04T14:31:07.564918Z"
    }
   },
   "outputs": [
    {
     "name": "stdout",
     "output_type": "stream",
     "text": [
      "pseudo-hoc object succesfully read in from  pseudo_hoc.pkl\n"
     ]
    }
   ],
   "source": [
    "%run BREPpy.py\n",
    "\n",
    "np.random.seed(0)\n",
    "\n",
    "import pdb\n",
    "\n",
    "p1 = './example_simulation/coordinates_input/'\n",
    "p2 = './example_simulation/coordinates_input/subsampled/'\n",
    "\n",
    "go_ori = p1+'GoCcoordinates.dat'\n",
    "gr_ori = p1+'GCcoordinates.dat'\n",
    "go_64 = p2+'GoCcoordinates_64.dat'\n",
    "gr_64 = p2+'GCcoordinates_64.dat'\n",
    "go_16 = p2+'GoCcoordinates_16.dat'\n",
    "gr_16 = p2+'GCcoordinates_16.dat'\n",
    "go_4 = p2+'GoCcoordinates_4.dat'\n",
    "gr_4 = p2+'GCcoordinates_4.dat'\n",
    "\n",
    "class Pseudo_hoc (object):\n",
    "    '''Up to now, the program depends on a hoc object that contains the parameters for the simulation.\n",
    "    However, as in the cluster, neuron is not installed for python 3, this class is a workaround:\n",
    "    First, a dict has to be generated (and probably pickled) from the hoc file in a python distribution that has neuron installed.\n",
    "    This dict (or the file containing it) is then read in in this class, and an empty object with no other functionalities gets\n",
    "    assigned all the parameters from the dict as attributes. The resulting object can then be used as a parameter carrier just as the hoc file.'''\n",
    "    \n",
    "    def __init__ (self, ad_or_fn = []):\n",
    "        '''Add parameters from dict or filename to pseudo_hoc object'''\n",
    "        #Make a pseudo-hoc object\n",
    "        if ad_or_fn == []: return\n",
    "        elif type(ad_or_fn) == str:\n",
    "            try:\n",
    "                import pickle\n",
    "                with open (ad_or_fn, 'rb') as f_in:\n",
    "                    ad_or_fn = pickle.load(f_in)\n",
    "            except: print ('Tried to read in ', ad_or_fn, ' as a file, failed')\n",
    "        else: assert type(ad_or_fn) == dict, 'Could not read in ' + ad_or_fn\n",
    "        # Add all elements from the read in file as arguments to the pseudo-hoc object\n",
    "        for k,v in ad_or_fn.items():\n",
    "            #As for the pickling process, all values had to be declared as strings, try to convert them back to a number\n",
    "            try: v = float(v) \n",
    "            except: pass\n",
    "            try: setattr(self, k, v)\n",
    "            except: pass\n",
    "            \n",
    "    def convert_hoc_to_pickle (self, config_fn, output_fn = 'pseudo_hoc.pkl'):\n",
    "        '''Take a .hoc config file and pickle it as a neuron-independent python dict.'''\n",
    "        try: import neuron\n",
    "        except: \n",
    "            print ('Could not import neuron, go to a python environment with an installed neuron version and try again.')\n",
    "            return\n",
    "        neuron.h.xopen(config_fn)\n",
    "        d = dir(h)\n",
    "        h_dict = dict()\n",
    "        #Transfer parameters from the hoc object to a python dictionary\n",
    "        for n,el in enumerate(d):\n",
    "            #note! so far all used parameters in the BREPpy started with capital letters, so only adding atrributes that start with capital letters is a reasonable filtering method.\n",
    "            #However, this is to be kept in mind when adding additional parameters to the parameter file.\n",
    "            if el[0].isupper():\n",
    "                try:\n",
    "                    #The value has to be converted to its string representation to get rid of the hoc properties.\n",
    "                    #Must be kept in mind when reading in though.\n",
    "                    h_dict[el] = repr(getattr(h,el))\n",
    "                except: pass\n",
    "        #Dump the dictionary\n",
    "        import pickle\n",
    "        with open(output_fn, 'wb') as f:\n",
    "            pickle.dump(h_dict, f)\n",
    "\n",
    "            \n",
    "try:\n",
    "    notthiscell()\n",
    "    import neuron\n",
    "    config_fn = './input_files/Parameters.hoc'\n",
    "    neuron.h.xopen(config_fn)\n",
    "    print ('hoc object succesfully read in from ', config_fn)\n",
    "except:\n",
    "    config_fn = 'pseudo_hoc.pkl'\n",
    "    h = Pseudo_hoc(config_fn)\n",
    "    print ('pseudo-hoc object succesfully read in from ', config_fn)\n",
    "\n",
    "\n",
    "\n"
   ]
  },
  {
   "cell_type": "code",
   "execution_count": 3,
   "metadata": {
    "ExecuteTime": {
     "end_time": "2017-11-29T23:45:26.058384Z",
     "start_time": "2017-11-29T23:45:26.054518Z"
    }
   },
   "outputs": [],
   "source": [
    "ph = Pseudo_hoc()\n",
    "ph.convert_hoc_to_pickle('./input_files/Parameters.hoc',  'pseudo_hoc2.pkl' )\n"
   ]
  },
  {
   "cell_type": "code",
   "execution_count": 5,
   "metadata": {
    "ExecuteTime": {
     "end_time": "2017-11-29T23:46:10.647233Z",
     "start_time": "2017-11-29T23:46:10.642252Z"
    }
   },
   "outputs": [],
   "source": [
    "h = Pseudo_hoc('pseudo_hoc2.pkl')"
   ]
  },
  {
   "cell_type": "code",
   "execution_count": 10,
   "metadata": {
    "ExecuteTime": {
     "end_time": "2018-01-04T14:46:14.427786Z",
     "start_time": "2018-01-04T14:46:14.138277Z"
    }
   },
   "outputs": [
    {
     "name": "stdout",
     "output_type": "stream",
     "text": [
      "(1, 24)\n",
      "(1, 24, 2)\n"
     ]
    },
    {
     "ename": "TypeError",
     "evalue": "object of type 'int' has no len()",
     "output_type": "error",
     "traceback": [
      "\u001b[0;31m----------------------------------------------\u001b[0m",
      "\u001b[0;31mAttributeError\u001b[0mTraceback (most recent call last)",
      "\u001b[0;32m~/Desktop/LabRot_OIST/pybrep/BREPpy.py\u001b[0m in \u001b[0;36m__init__\u001b[0;34m(self, coord, IDs, segs, lin_offset, set_0, prevent_lin)\u001b[0m\n\u001b[1;32m    436\u001b[0m                 \u001b[0;32mtry\u001b[0m\u001b[0;34m:\u001b[0m\u001b[0;34m\u001b[0m\u001b[0m\n\u001b[0;32m--> 437\u001b[0;31m                     \u001b[0mlin_offset\u001b[0m \u001b[0;34m=\u001b[0m \u001b[0mfloat\u001b[0m\u001b[0;34m(\u001b[0m\u001b[0mnp\u001b[0m\u001b[0;34m.\u001b[0m\u001b[0marray\u001b[0m\u001b[0;34m(\u001b[0m\u001b[0mlin_offset\u001b[0m\u001b[0;34m)\u001b[0m\u001b[0;34m)\u001b[0m \u001b[0;34m*\u001b[0m \u001b[0mnp\u001b[0m\u001b[0;34m.\u001b[0m\u001b[0mones\u001b[0m\u001b[0;34m(\u001b[0m\u001b[0mself\u001b[0m\u001b[0;34m.\u001b[0m\u001b[0mnpts\u001b[0m\u001b[0;34m)\u001b[0m\u001b[0;34m\u001b[0m\u001b[0m\n\u001b[0m\u001b[1;32m    438\u001b[0m                 \u001b[0;32mexcept\u001b[0m\u001b[0;34m:\u001b[0m\u001b[0;34m\u001b[0m\u001b[0m\n",
      "\u001b[0;31mAttributeError\u001b[0m: 'Query_point' object has no attribute 'npts'",
      "\nDuring handling of the above exception, another exception occurred:\n",
      "\u001b[0;31mTypeError\u001b[0m    Traceback (most recent call last)",
      "\u001b[0;32m<ipython-input-10-97e015c0e8c7>\u001b[0m in \u001b[0;36m<module>\u001b[0;34m()\u001b[0m\n\u001b[1;32m      4\u001b[0m \u001b[0mgp\u001b[0m \u001b[0;34m=\u001b[0m \u001b[0mGranule_pop\u001b[0m\u001b[0;34m(\u001b[0m\u001b[0mh\u001b[0m\u001b[0;34m)\u001b[0m\u001b[0;34m\u001b[0m\u001b[0m\n\u001b[1;32m      5\u001b[0m \u001b[0mgp\u001b[0m\u001b[0;34m.\u001b[0m\u001b[0mload_somata\u001b[0m\u001b[0;34m(\u001b[0m\u001b[0mnp\u001b[0m\u001b[0;34m.\u001b[0m\u001b[0mzeros\u001b[0m\u001b[0;34m(\u001b[0m\u001b[0;34m(\u001b[0m\u001b[0;36m1\u001b[0m\u001b[0;34m,\u001b[0m\u001b[0;36m3\u001b[0m\u001b[0;34m)\u001b[0m\u001b[0;34m)\u001b[0m\u001b[0;34m)\u001b[0m\u001b[0;34m\u001b[0m\u001b[0m\n\u001b[0;32m----> 6\u001b[0;31m \u001b[0mgp\u001b[0m\u001b[0;34m.\u001b[0m\u001b[0madd_aa_endpoints_fixed\u001b[0m\u001b[0;34m(\u001b[0m\u001b[0;34m)\u001b[0m\u001b[0;34m\u001b[0m\u001b[0m\n\u001b[0m\u001b[1;32m      7\u001b[0m \u001b[0mgp\u001b[0m\u001b[0;34m.\u001b[0m\u001b[0madd_pf_endpoints\u001b[0m\u001b[0;34m(\u001b[0m\u001b[0;34m)\u001b[0m\u001b[0;34m\u001b[0m\u001b[0m\n",
      "\u001b[0;32m~/Desktop/LabRot_OIST/pybrep/BREPpy.py\u001b[0m in \u001b[0;36madd_aa_endpoints_fixed\u001b[0;34m(self)\u001b[0m\n\u001b[1;32m    790\u001b[0m         \u001b[0mself\u001b[0m\u001b[0;34m.\u001b[0m\u001b[0maa_dots\u001b[0m \u001b[0;34m=\u001b[0m \u001b[0mnp\u001b[0m\u001b[0;34m.\u001b[0m\u001b[0marray\u001b[0m\u001b[0;34m(\u001b[0m\u001b[0;34m[\u001b[0m\u001b[0mnp\u001b[0m\u001b[0;34m.\u001b[0m\u001b[0marray\u001b[0m\u001b[0;34m(\u001b[0m\u001b[0;34m[\u001b[0m\u001b[0mself\u001b[0m\u001b[0;34m.\u001b[0m\u001b[0msom\u001b[0m\u001b[0;34m[\u001b[0m\u001b[0mi\u001b[0m\u001b[0;34m]\u001b[0m\u001b[0;34m,\u001b[0m \u001b[0mself\u001b[0m\u001b[0;34m.\u001b[0m\u001b[0msom\u001b[0m\u001b[0;34m[\u001b[0m\u001b[0mi\u001b[0m\u001b[0;34m]\u001b[0m\u001b[0;34m]\u001b[0m\u001b[0;34m)\u001b[0m \u001b[0;32mfor\u001b[0m \u001b[0mi\u001b[0m \u001b[0;32min\u001b[0m \u001b[0mrange\u001b[0m\u001b[0;34m(\u001b[0m\u001b[0mlen\u001b[0m\u001b[0;34m(\u001b[0m\u001b[0mself\u001b[0m\u001b[0;34m.\u001b[0m\u001b[0msom\u001b[0m\u001b[0;34m)\u001b[0m\u001b[0;34m)\u001b[0m\u001b[0;34m]\u001b[0m\u001b[0;34m)\u001b[0m\u001b[0;34m\u001b[0m\u001b[0m\n\u001b[1;32m    791\u001b[0m         \u001b[0mself\u001b[0m\u001b[0;34m.\u001b[0m\u001b[0maa_dots\u001b[0m\u001b[0;34m[\u001b[0m\u001b[0;34m:\u001b[0m\u001b[0;34m,\u001b[0m\u001b[0;36m1\u001b[0m\u001b[0;34m,\u001b[0m\u001b[0;36m2\u001b[0m\u001b[0;34m]\u001b[0m \u001b[0;34m=\u001b[0m \u001b[0mself\u001b[0m\u001b[0;34m.\u001b[0m\u001b[0maa_dots\u001b[0m\u001b[0;34m[\u001b[0m\u001b[0;34m:\u001b[0m\u001b[0;34m,\u001b[0m\u001b[0;36m1\u001b[0m\u001b[0;34m,\u001b[0m\u001b[0;36m2\u001b[0m\u001b[0;34m]\u001b[0m \u001b[0;34m+\u001b[0m \u001b[0mself\u001b[0m\u001b[0;34m.\u001b[0m\u001b[0maa_length\u001b[0m\u001b[0;34m\u001b[0m\u001b[0m\n\u001b[0;32m--> 792\u001b[0;31m         \u001b[0mself\u001b[0m\u001b[0;34m.\u001b[0m\u001b[0mqpts_aa\u001b[0m \u001b[0;34m=\u001b[0m \u001b[0mQuery_point\u001b[0m\u001b[0;34m(\u001b[0m\u001b[0mself\u001b[0m\u001b[0;34m.\u001b[0m\u001b[0maa_dots\u001b[0m\u001b[0;34m)\u001b[0m\u001b[0;34m\u001b[0m\u001b[0m\n\u001b[0m\u001b[1;32m    793\u001b[0m \u001b[0;34m\u001b[0m\u001b[0m\n\u001b[1;32m    794\u001b[0m \u001b[0;34m\u001b[0m\u001b[0m\n",
      "\u001b[0;32m~/Desktop/LabRot_OIST/pybrep/BREPpy.py\u001b[0m in \u001b[0;36m__init__\u001b[0;34m(self, coord, IDs, segs, lin_offset, set_0, prevent_lin)\u001b[0m\n\u001b[1;32m    437\u001b[0m                     \u001b[0mlin_offset\u001b[0m \u001b[0;34m=\u001b[0m \u001b[0mfloat\u001b[0m\u001b[0;34m(\u001b[0m\u001b[0mnp\u001b[0m\u001b[0;34m.\u001b[0m\u001b[0marray\u001b[0m\u001b[0;34m(\u001b[0m\u001b[0mlin_offset\u001b[0m\u001b[0;34m)\u001b[0m\u001b[0;34m)\u001b[0m \u001b[0;34m*\u001b[0m \u001b[0mnp\u001b[0m\u001b[0;34m.\u001b[0m\u001b[0mones\u001b[0m\u001b[0;34m(\u001b[0m\u001b[0mself\u001b[0m\u001b[0;34m.\u001b[0m\u001b[0mnpts\u001b[0m\u001b[0;34m)\u001b[0m\u001b[0;34m\u001b[0m\u001b[0m\n\u001b[1;32m    438\u001b[0m                 \u001b[0;32mexcept\u001b[0m\u001b[0;34m:\u001b[0m\u001b[0;34m\u001b[0m\u001b[0m\n\u001b[0;32m--> 439\u001b[0;31m                     \u001b[0;32massert\u001b[0m\u001b[0;34m(\u001b[0m\u001b[0mlen\u001b[0m\u001b[0;34m(\u001b[0m\u001b[0mlin_offset\u001b[0m\u001b[0;34m)\u001b[0m \u001b[0;34m==\u001b[0m \u001b[0mself\u001b[0m\u001b[0;34m.\u001b[0m\u001b[0mnpts\u001b[0m\u001b[0;34m)\u001b[0m\u001b[0;34m,\u001b[0m \u001b[0;34m'lin_offset should be a scalar or an array with length npts!'\u001b[0m\u001b[0;34m\u001b[0m\u001b[0m\n\u001b[0m\u001b[1;32m    440\u001b[0m                 \u001b[0;32mfinally\u001b[0m\u001b[0;34m:\u001b[0m\u001b[0;34m\u001b[0m\u001b[0m\n\u001b[1;32m    441\u001b[0m                     \u001b[0mself\u001b[0m\u001b[0;34m.\u001b[0m\u001b[0mlin_offset\u001b[0m \u001b[0;34m=\u001b[0m \u001b[0mlin_offset\u001b[0m\u001b[0;34m\u001b[0m\u001b[0m\n",
      "\u001b[0;31mTypeError\u001b[0m: object of type 'int' has no len()"
     ]
    }
   ],
   "source": [
    "gg = Golgi_pop(h)\n",
    "gg.load_somata(np.zeros((1,3)))\n",
    "gg.add_dendrites()\n",
    "gp = Granule_pop(h)\n",
    "gp.load_somata(np.zeros((1,3)))\n",
    "gp.add_aa_endpoints_fixed()\n",
    "gp.add_pf_endpoints()"
   ]
  },
  {
   "cell_type": "code",
   "execution_count": 6,
   "metadata": {
    "ExecuteTime": {
     "end_time": "2017-11-29T23:46:17.752512Z",
     "start_time": "2017-11-29T23:46:12.082976Z"
    }
   },
   "outputs": [],
   "source": [
    "# Set up the Golgi population, render dendrites\n",
    "gg = Golgi_pop(h)\n",
    "gg.load_somata(go_64)\n",
    "gg.add_dendrites()\n",
    "\n",
    "\n",
    "#Set up Granule population including aa and pf\n",
    "gp = Granule_pop(h)\n",
    "gp.load_somata(gr_64)\n",
    "gp.add_aa_endpoints_fixed()\n",
    "gp.add_pf_endpoints()\n",
    "\n",
    "#Build connector and obtain the connections\n",
    "cc = Connect_2D(gg.qpts, gp.qpts_aa, 15)\n",
    "res_aa, l_res_aa = cc.find_connections()\n",
    "cc.save_results (res_aa, l_res_aa)\n",
    "#cc.save_results(l1,r1, 'first_test/pts_in_lin_aa_')\n",
    "#cc.save_results(l2,r2, 'first_test/lin_in_pts_aa_', query_is_lin=True)\n",
    "\n",
    "cc = Connect_2D(gg.qpts, gp.qpts_pf, 15)\n",
    "res_pf, l_res_pf = cc.find_connections()\n",
    "\n",
    "\n",
    "#l21,r21 = cc.query_pts_in_lin()\n",
    "#l22,r22 = cc.query_lin_in_pts()\n",
    "#cc.save_results(l1,r1, 'first_test/pts_in_lin_pf')\n",
    "#cc.save_results(l2,r2, 'first_test/lin_in_pts_pf', query_is_lin=True)\n",
    "\n",
    "#gg.save_dend_coords ('first_test/')\n",
    "#gg.save_somata ('first_test/', 'GoCcoordinates.dat')\n",
    "\n",
    "#gp.save_gct_points('first_test/')\n",
    "#gp.save_somata('first_test/', 'GCcoordinates.dat')\n"
   ]
  },
  {
   "cell_type": "code",
   "execution_count": null,
   "metadata": {
    "ExecuteTime": {
     "end_time": "2017-11-29T22:58:19.473105Z",
     "start_time": "2017-11-29T22:58:19.467595Z"
    }
   },
   "outputs": [],
   "source": [
    "bh = dict()\n",
    "d = 'bla'\n",
    "type (bh)\n",
    "type(d) ==  str"
   ]
  },
  {
   "cell_type": "code",
   "execution_count": null,
   "metadata": {
    "ExecuteTime": {
     "end_time": "2017-11-29T01:14:12.197102Z",
     "start_time": "2017-11-29T01:14:12.190062Z"
    }
   },
   "outputs": [],
   "source": [
    "res_pf3= res_pf.copy()\n",
    "res_aa3 = res_aa.copy()"
   ]
  },
  {
   "cell_type": "code",
   "execution_count": null,
   "metadata": {
    "ExecuteTime": {
     "end_time": "2017-11-29T02:46:57.606342Z",
     "start_time": "2017-11-29T02:46:57.596742Z"
    }
   },
   "outputs": [],
   "source": [
    "print (len(res_pf))\n",
    "print (len(res_aa))"
   ]
  },
  {
   "cell_type": "code",
   "execution_count": null,
   "metadata": {
    "ExecuteTime": {
     "end_time": "2017-11-29T01:14:30.362188Z",
     "start_time": "2017-11-29T01:14:30.328256Z"
    }
   },
   "outputs": [],
   "source": [
    "print (np.all(np.array([np.all(res_pf1[i] == res_pf3[i]) for i in range(len(res_pf1))])))\n",
    "print (np.all(np.array([np.all(res_aa1[i] == res_aa3[i]) for i in range(len(res_aa1))])))"
   ]
  },
  {
   "cell_type": "code",
   "execution_count": null,
   "metadata": {
    "ExecuteTime": {
     "end_time": "2017-11-29T08:19:41.289299Z",
     "start_time": "2017-11-29T08:19:41.050400Z"
    }
   },
   "outputs": [],
   "source": [
    "#v = var(h)\n",
    "\n",
    "\n",
    "#print (len(v))\n",
    "print (len(d))\n",
    "\n",
    "class alibi (object):\n",
    "    def __init__ (self, arg_dict):\n",
    "        for k,v in arg_dict.items():\n",
    "            try: setattr(self, k, v)\n",
    "            except: pass\n",
    "\n",
    "alibi_args = alibi(h_dict)\n",
    "\n",
    "\n"
   ]
  },
  {
   "cell_type": "code",
   "execution_count": null,
   "metadata": {
    "ExecuteTime": {
     "end_time": "2017-11-29T02:52:07.809461Z",
     "start_time": "2017-11-29T02:52:07.802963Z"
    }
   },
   "outputs": [],
   "source": [
    "h_dict.items()"
   ]
  },
  {
   "cell_type": "code",
   "execution_count": null,
   "metadata": {
    "ExecuteTime": {
     "end_time": "2017-11-29T02:43:15.186307Z",
     "start_time": "2017-11-29T02:43:15.172591Z"
    }
   },
   "outputs": [],
   "source": [
    "alibi_args2"
   ]
  },
  {
   "cell_type": "code",
   "execution_count": null,
   "metadata": {
    "ExecuteTime": {
     "end_time": "2017-11-29T22:49:24.144198Z",
     "start_time": "2017-11-29T22:49:24.106084Z"
    }
   },
   "outputs": [],
   "source": [
    "#turn the hoc file into a dict\n",
    "\n",
    "\n",
    "config_fn = './input_files/Parameters.hoc'\n",
    "import neuron\n",
    "neuron.h.xopen(config_fn)\n",
    "d = dir(h)\n",
    "\n",
    "\n",
    "h_dict = dict()\n",
    "\n",
    "for n,el in enumerate(d):\n",
    "    if el[0].isupper():\n",
    "        try:\n",
    "            h_dict[el] = repr(getattr(h,el))\n",
    "            #setattr(alibi_args, el, getattr(h,el))       \n",
    "            #print (el)\n",
    "        except: pass\n",
    "\n",
    "        \n",
    "import pickle\n",
    "with open('pseudo_hoc.pkl', 'wb') as f:\n",
    "    pickle.dump(h_dict, f)"
   ]
  },
  {
   "cell_type": "code",
   "execution_count": null,
   "metadata": {
    "ExecuteTime": {
     "end_time": "2017-11-29T02:50:28.842678Z",
     "start_time": "2017-11-29T02:50:28.828765Z"
    }
   },
   "outputs": [],
   "source": []
  },
  {
   "cell_type": "code",
   "execution_count": null,
   "metadata": {
    "ExecuteTime": {
     "end_time": "2017-11-29T02:05:11.912844Z",
     "start_time": "2017-11-29T02:05:11.908956Z"
    }
   },
   "outputs": [],
   "source": [
    "ar = np.load('pseudo')"
   ]
  },
  {
   "cell_type": "code",
   "execution_count": null,
   "metadata": {
    "ExecuteTime": {
     "end_time": "2017-11-22T13:02:22.570637Z",
     "start_time": "2017-11-22T13:02:22.549171Z"
    }
   },
   "outputs": [],
   "source": [
    "print (sum([len(l11[i]) for i in range(len(l11))]))\n",
    "print (sum([len(l12[i]) for i in range(len(l12))]))\n",
    "print (sum([len(l13[i]) for i in range(len(l13))]))\n",
    "\n",
    "def ravel_list (l):\n",
    "    return [i for ar in l for i in ar]\n",
    "    \n",
    "\n",
    "\n",
    "\n"
   ]
  },
  {
   "cell_type": "code",
   "execution_count": null,
   "metadata": {
    "ExecuteTime": {
     "end_time": "2017-11-28T08:30:13.538578Z",
     "start_time": "2017-11-28T08:30:06.704198Z"
    }
   },
   "outputs": [],
   "source": [
    "from BREPpy import *\n",
    "p1 = './example_simulation/coordinates_input/'\n",
    "p2 = './example_simulation/coordinates_input/subsampled/'\n",
    "\n",
    "go_ori = p1+'GoCcoordinates.dat'\n",
    "gr_ori = p1+'GCcoordinates.dat'\n",
    "go_64 = p2+'GoCcoordinates_64.dat'\n",
    "gr_64 = p2+'GCcoordinates_64.dat'\n",
    "go_16 = p2+'GoCcoordinates_16.dat'\n",
    "gr_16 = p2+'GCcoordinates_16.dat'\n",
    "go_4 = p2+'GoCcoordinates_4.dat'\n",
    "gr_4 = p2+'GCcoordinates_4.dat' \n",
    "\n",
    "\n",
    "empty_hoc = dir(neuron.hoc.HocObject()).copy()\n",
    "config_fn = './input_files/Parameters.hoc'\n",
    "neuron.h.xopen(config_fn)\n",
    "\n",
    "#pdb.set_trace()\n",
    "\n",
    "\n",
    "# Set up the Golgi population, render dendrites\n",
    "gg = Golgi_pop(h)\n",
    "gg.load_somata(go_64)\n",
    "gg.add_dendrites()\n",
    "\n",
    "\n",
    "#Set up Granule population including aa and pf\n",
    "gp = Granule_pop(h)\n",
    "gp.load_somata(gr_64)\n",
    "gp.add_aa_endpoints_fixed()\n",
    "gp.add_pf_endpoints()\n",
    "\n",
    "#Build connector and obtain the connections\n",
    "cc = Connect_2D(gg.qpts, gp.qpts_aa, 15)\n",
    "res_aa, l_res_aa = cc.find_connections()\n",
    "cc.save_results (res_aa, l_res_aa)\n",
    "#cc.save_results(l1,r1, 'first_test/pts_in_lin_aa_')\n",
    "#cc.save_results(l2,r2, 'first_test/lin_in_pts_aa_', query_is_lin=True)\n",
    "\n",
    "cc = Connect_2D(gg.qpts, gp.qpts_pf, 15)\n",
    "res_pf, l_res_pf = cc.find_connections()\n",
    "\n",
    "\n"
   ]
  },
  {
   "cell_type": "code",
   "execution_count": null,
   "metadata": {
    "ExecuteTime": {
     "end_time": "2017-11-22T13:04:52.813042Z",
     "start_time": "2017-11-22T13:04:52.649277Z"
    }
   },
   "outputs": [],
   "source": [
    "l1_r = ravel_list(r11)\n",
    "idx,nc= np.unique(r11_r, return_counts = True)"
   ]
  },
  {
   "cell_type": "code",
   "execution_count": null,
   "metadata": {
    "ExecuteTime": {
     "end_time": "2017-11-22T11:29:56.494162Z",
     "start_time": "2017-11-22T11:28:59.437323Z"
    }
   },
   "outputs": [],
   "source": [
    "cc.save_results(l2,r2, 'first_test/lin_in_pts_pf', query_is_lin=True)"
   ]
  },
  {
   "cell_type": "code",
   "execution_count": null,
   "metadata": {
    "ExecuteTime": {
     "end_time": "2017-11-22T12:10:57.499646Z",
     "start_time": "2017-11-22T12:10:57.486424Z"
    }
   },
   "outputs": [],
   "source": [
    "a = True\n",
    "print (type(a))\n",
    "print (type([]).__name__ == 'bool')"
   ]
  },
  {
   "cell_type": "code",
   "execution_count": null,
   "metadata": {
    "ExecuteTime": {
     "end_time": "2017-11-22T12:32:40.513015Z",
     "start_time": "2017-11-22T12:32:40.507726Z"
    }
   },
   "outputs": [],
   "source": [
    "print (type(gp).__name__)"
   ]
  },
  {
   "cell_type": "code",
   "execution_count": null,
   "metadata": {
    "ExecuteTime": {
     "end_time": "2017-11-22T03:58:44.199359Z",
     "start_time": "2017-11-22T03:58:44.095289Z"
    }
   },
   "outputs": [],
   "source": [
    "so = gg.qpts.seg\n",
    "\n",
    "print (sg.shape)\n",
    "\n",
    "dist_info = False\n",
    "\n",
    "titles = ['AA', 'PF']\n",
    "\n",
    "fc = so[:,0]\n",
    "sc = so[:,1]\n",
    "print ('First')\n",
    "for i in np.unique(fc):\n",
    "    idx = np.isclose(fc, i)\n",
    "    if dist_info: print (i, ': n =', sum(idx), ', corresponding mean distance:', np.mean(dis_f[n][idx]))\n",
    "    else: print (i, ': n =', sum(idx))\n",
    "print ('Second')\n",
    "for i in np.unique(sc):\n",
    "    idx = np.isclose(sc, i)\n",
    "    if dist_info: print (i, ': n =', sum(idx), ', corresponding mean distance:', np.mean(dis_f[n][idx]))\n",
    "    else: print (i, ': n =', sum(idx))"
   ]
  },
  {
   "cell_type": "code",
   "execution_count": null,
   "metadata": {
    "ExecuteTime": {
     "end_time": "2017-11-22T06:43:20.173830Z",
     "start_time": "2017-11-22T06:43:19.338013Z"
    }
   },
   "outputs": [],
   "source": [
    "%run BREPpy.py\n",
    "gg = Golgi_pop(h)\n",
    "gg.load_somata(go_64)\n",
    "gg.add_dendrites()\n",
    "gg.save_dend_coords('teeeeest_')"
   ]
  },
  {
   "cell_type": "code",
   "execution_count": null,
   "metadata": {
    "ExecuteTime": {
     "end_time": "2017-11-22T06:40:11.133674Z",
     "start_time": "2017-11-22T06:40:10.986793Z"
    }
   },
   "outputs": [],
   "source": [
    "%run BREPpy.py\n",
    "\n",
    "gp = Granule_pop(h)\n",
    "gp.load_somata(gr_64)\n",
    "gp.save_gct_points('teeeeest_')\n",
    "gp.add_aa_endpoints_fixed()\n",
    "gp.add_pf_endpoints()\n",
    "gp.save_gct_points('teeeeest_')\n"
   ]
  },
  {
   "cell_type": "code",
   "execution_count": null,
   "metadata": {
    "ExecuteTime": {
     "end_time": "2017-11-22T06:31:04.755634Z",
     "start_time": "2017-11-22T06:31:04.744174Z"
    }
   },
   "outputs": [],
   "source": [
    "ad = gg.a_dend\n",
    "print (ad.shape)\n",
    "nn = ad[1]\n",
    "#print (nn)\n",
    "print (ad.ravel().shape)"
   ]
  },
  {
   "cell_type": "code",
   "execution_count": null,
   "metadata": {
    "ExecuteTime": {
     "end_time": "2017-11-22T02:32:22.176024Z",
     "start_time": "2017-11-22T02:32:22.150605Z"
    }
   },
   "outputs": [],
   "source": [
    "seg2 = seg.copy()"
   ]
  },
  {
   "cell_type": "code",
   "execution_count": null,
   "metadata": {
    "ExecuteTime": {
     "end_time": "2017-11-22T04:56:03.468729Z",
     "start_time": "2017-11-22T04:56:03.445017Z"
    }
   },
   "outputs": [],
   "source": [
    "t = np.array([1,2])\n",
    "print (str(t))"
   ]
  },
  {
   "cell_type": "code",
   "execution_count": null,
   "metadata": {
    "ExecuteTime": {
     "end_time": "2017-11-22T06:35:26.927539Z",
     "start_time": "2017-11-22T06:35:26.899535Z"
    }
   },
   "outputs": [],
   "source": [
    "warnings.warn?\n"
   ]
  },
  {
   "cell_type": "code",
   "execution_count": null,
   "metadata": {
    "ExecuteTime": {
     "end_time": "2017-11-22T05:05:31.059979Z",
     "start_time": "2017-11-22T05:05:28.728272Z"
    }
   },
   "outputs": [],
   "source": [
    "r1, lr1 = cc.query_pts_in_lin()"
   ]
  },
  {
   "cell_type": "code",
   "execution_count": null,
   "metadata": {
    "ExecuteTime": {
     "end_time": "2017-11-22T05:06:55.381056Z",
     "start_time": "2017-11-22T05:05:46.583887Z"
    }
   },
   "outputs": [],
   "source": [
    "% run BREPpy.py\n",
    "cc = Connect_2D(gg.qpts, gp.qpts_aa, 15)\n",
    "cc.save_results(r1, lr1, 'test_AA')\n"
   ]
  },
  {
   "cell_type": "code",
   "execution_count": null,
   "metadata": {
    "ExecuteTime": {
     "end_time": "2017-11-22T06:13:50.654789Z",
     "start_time": "2017-11-22T06:13:50.639137Z"
    }
   },
   "outputs": [],
   "source": [
    "print (gp.aa_dots.shape)\n",
    "\n",
    "print (gp.aa_dots[:2, :, :])\n",
    "print (gp.aa_dots[:2, -1, :])\n",
    "\n",
    " "
   ]
  },
  {
   "cell_type": "code",
   "execution_count": null,
   "metadata": {
    "ExecuteTime": {
     "end_time": "2017-11-20T04:09:22.007979Z",
     "start_time": "2017-11-20T04:09:21.615481Z"
    }
   },
   "outputs": [],
   "source": [
    "#%run BREPpy.py\n",
    "plt.figure(figsize = (12,8))\n",
    "\n",
    "gg.plot_somata(False, 'ro')\n",
    "gp.plot_somata(False, 'k.', markersize = 0.5)\n",
    "plt.title ('Somata in the granule layer (Granule: black, Golgi: red)');"
   ]
  },
  {
   "cell_type": "code",
   "execution_count": null,
   "metadata": {
    "ExecuteTime": {
     "end_time": "2017-11-20T05:21:41.304761Z",
     "start_time": "2017-11-20T05:21:24.087725Z"
    }
   },
   "outputs": [],
   "source": [
    "## plot some full cells\n",
    "\n",
    "#Different populations\n",
    "gr_pop = gp\n",
    "go_pop = gg\n",
    "\n",
    "m = 0\n",
    "#print (gg.qpts.idx[m])\n",
    "\n",
    "#Get all Granule cells that are attached to one Golgi cell point (r1 comes from query_pts_in_lin)\n",
    "go_cells = gg.qpts.idx[m]   #indices for the Golgi population\n",
    "gr_cells =r1[m] #indices for the Granule cell population\n",
    "q_pt =gg.qpts.coo[m]     # special (query?) points\n",
    "\n",
    "\n",
    "# 3D plot\n",
    "plt.figure()\n",
    "ax = plt.gcf().gca(projection='3d')\n",
    "def plot3d (ax, dat, *args, **kwargs):\n",
    "    if dat == []: return\n",
    "    if len(dat.shape) == 1: #if single dot\n",
    "        dat = np.expand_dims(dat, axis = 0)\n",
    "    ax.plot(dat[:,0], dat[:,1], dat[:,2], *args, **kwargs)\n",
    "\n",
    "for c in gr_cells:\n",
    "    plot3d(ax, gr_pop.aa_dots[c], 'c')\n",
    "    plot3d(ax, gr_pop.pf_dots[c], 'b')\n",
    "    plot3d(ax, gr_pop.som[c], 'bo')\n",
    "\n",
    "for c in go_cells:\n",
    "    plot3d(ax, go_pop.a_dend[c], 'rx')\n",
    "    plot3d(ax, go_pop.b_dend[c], 'mx')\n",
    "    plot3d(ax, np.expand_dims(go_pop.som[c], axis = 0), 'ro')\n",
    "\n",
    "    plot3d(ax, q_pt, 'gx', markersize = 2)\n",
    "\n",
    "    plt.title('3D space')\n",
    "    \n",
    "#2D projections\n",
    "plt.figure(figsize=(15,5))\n",
    "for i, [j, k, tit] in enumerate([[0,1, 'x-y plane'], [1,2, 'y-z plane'], [0,2, 'x-z plane']]):\n",
    "    \n",
    "    plt.subplot(1,3,i+1)\n",
    "    \n",
    "    for c in gr_cells:\n",
    "        plt.plot(gr_pop.aa_dots[c,:,j], gr_pop.aa_dots[c,:,k], 'c')\n",
    "        plt.plot(gr_pop.pf_dots[c,:,j], gr_pop.pf_dots[c,:,k], 'b')\n",
    "        plt.plot(gr_pop.som[c,j], gr_pop.som[c,k], 'bo')\n",
    "\n",
    "    for c in go_cells:\n",
    "        plt.plot(go_pop.a_dend[c,:,j], go_pop.a_dend[c,:,k], 'rx')\n",
    "        plt.plot(go_pop.b_dend[c,:,j], go_pop.b_dend[c,:,k], 'mx')\n",
    "        plt.plot(go_pop.som[c,j], go_pop.som[c,k], 'ro')\n",
    "        \n",
    "    if len(q_pt) > 0: plt.plot(q_pt[j], q_pt[k], 'gx', markersize = 20)\n",
    "    \n",
    "    \n",
    "    if True:\n",
    "        if i in [0,2]: plt.xlim([-100, 500])\n",
    "    plt.title (tit)\n",
    "    \n",
    "    \n",
    "    plt.axis('equal')"
   ]
  },
  {
   "cell_type": "code",
   "execution_count": null,
   "metadata": {
    "ExecuteTime": {
     "end_time": "2017-11-16T05:01:42.648464Z",
     "start_time": "2017-11-16T05:01:41.449399Z"
    }
   },
   "outputs": [],
   "source": [
    "## plot some full cells\n",
    "import matplotlib.pyplot as plt\n",
    "%matplotlib inline\n",
    "\n",
    "gr_pop = gp\n",
    "go_pop = gg\n",
    "\n",
    "a = np.random.randint(0, len(r2[0]), 5)\n",
    "#ex = r2[a]\n",
    "\n",
    "\n",
    "gr_cells = r2[0] #np.random.randint(0, len(gr_pop.som), 10)\n",
    "go_cells = [0] #np.random.randint(0, len(go_pop.som), 2)\n",
    "\n",
    "\n",
    "# 3D plot\n",
    "plt.figure()\n",
    "ax = plt.gcf().gca(projection='3d')\n",
    "def plot3d (ax, dat, *args, **kwargs):\n",
    "    if len(dat.shape) == 1: #if single dot\n",
    "        dat = np.expand_dims(dat, axis = 0)\n",
    "    ax.plot(dat[:,0], dat[:,1], dat[:,2], *args, **kwargs)\n",
    "\n",
    "for c in gr_cells:\n",
    "    plot3d(ax, gr_pop.aa_dots[c], 'c')\n",
    "    plot3d(ax, gr_pop.pf_dots[c], 'b')\n",
    "    plot3d(ax, gr_pop.som[c], 'bo')\n",
    "\n",
    "for c in go_cells:\n",
    "    plot3d(ax, go_pop.a_dend[c], 'r')\n",
    "    plot3d(ax, go_pop.b_dend[c], 'm')\n",
    "    plot3d(ax, np.expand_dims(go_pop.som[c], axis = 0), 'ro')\n",
    "    \n",
    "    \n",
    "#2D projections\n",
    "plt.figure(figsize=(15,5))\n",
    "for i, [j, k, tit] in enumerate([[0,1, 'x-y plane'], [1,2, 'y-z plane'], [0,2, 'x-z plane']]):\n",
    "    \n",
    "    plt.subplot(1,3,i+1)\n",
    "    \n",
    "    for c in gr_cells:\n",
    "        plt.plot(gr_pop.aa_dots[c,:,j], gr_pop.aa_dots[c,:,k], 'c')\n",
    "        plt.plot(gr_pop.pf_dots[c,:,j], gr_pop.pf_dots[c,:,k], 'b')\n",
    "        plt.plot(gr_pop.som[c,j], gr_pop.som[c,k], 'bo')\n",
    "\n",
    "    for c in go_cells:\n",
    "        plt.plot(go_pop.a_dend[c,:,j], go_pop.a_dend[c,:,k], 'r')\n",
    "        plt.plot(go_pop.b_dend[c,:,j], go_pop.b_dend[c,:,k], 'm')\n",
    "        plt.plot(go_pop.som[c,j], go_pop.som[c,k], 'ro')\n",
    "    \n",
    "    if True:\n",
    "        if i in [0,2]: plt.xlim([-100, 500])\n",
    "    plt.title (tit)"
   ]
  },
  {
   "cell_type": "code",
   "execution_count": null,
   "metadata": {},
   "outputs": [],
   "source": []
  },
  {
   "cell_type": "code",
   "execution_count": null,
   "metadata": {
    "ExecuteTime": {
     "end_time": "2017-11-13T10:50:24.393140Z",
     "start_time": "2017-11-13T10:50:24.384933Z"
    }
   },
   "outputs": [],
   "source": [
    "qpt = Query_points(gg.som)\n",
    "\n",
    "qpt.npts"
   ]
  },
  {
   "cell_type": "code",
   "execution_count": null,
   "metadata": {
    "ExecuteTime": {
     "end_time": "2017-11-14T13:03:32.638698Z",
     "start_time": "2017-11-14T13:03:20.946889Z"
    }
   },
   "outputs": [],
   "source": [
    "from neuron import hoc, h\n",
    "\n",
    "%run BREPpy.py\n",
    "\n",
    "\n",
    "empty_hoc = dir(neuron.hoc.HocObject()).copy()\n",
    "config_fn = './input_files/Parameters.hoc'\n",
    "#load our own hoc object from the parameter file, get the disjunct list of parameters (probably useless...)\n",
    "neuron.h.xopen(config_fn)\n",
    "gp = Granule_pop(h)\n",
    "gp.load_somata('./example_simulation/coordinates_input/GCcoordinates.dat')\n",
    "\n",
    "\n",
    "plt.figure()\n",
    "ax = plt.gcf().gca(projection='3d')\n",
    "ax.plot(gp.som[:,0], gp.som[:,1], gp.som[:,2], *args)"
   ]
  },
  {
   "cell_type": "code",
   "execution_count": null,
   "metadata": {
    "ExecuteTime": {
     "end_time": "2017-11-14T08:54:59.243050Z",
     "start_time": "2017-11-14T08:54:58.271204Z"
    }
   },
   "outputs": [],
   "source": [
    "from neuron import hoc, h\n",
    "\n",
    "%run BREPpy.py\n",
    "gp = Granule_pop('./example_simulation/coordinates_input/GCcoordinates.dat', h)\n",
    "gp.add_aa_endpoints_random()\n",
    "\n"
   ]
  },
  {
   "cell_type": "code",
   "execution_count": null,
   "metadata": {},
   "outputs": [],
   "source": [
    "    def read_in_config2 (self):\n",
    "       '''checks if a config file has been specified, and if so, updates the args.\n",
    "        If overwrite_config is set True, command line arguments that specify a parameter that also exists\n",
    "        in the config file will have priority.'''\n",
    "        if self.args.config_fn == '':\n",
    "            warnings.warn('Cannot find config file!')\n",
    "        else:  #read in config file using neurons h object\n",
    "            self.p_verb('Reading config file')\n",
    "            empty_hoc = dir(hoc.HocObject()).copy()\n",
    "            neuron.h.xopen(self.args.config_fn)\n",
    "            full_hoc = dir(neuron.h) \n",
    "        self.\n"
   ]
  },
  {
   "cell_type": "code",
   "execution_count": null,
   "metadata": {
    "ExecuteTime": {
     "end_time": "2017-11-13T14:11:02.527743Z",
     "start_time": "2017-11-13T14:11:02.514237Z"
    }
   },
   "outputs": [],
   "source": [
    "%run BREPpy.py"
   ]
  },
  {
   "cell_type": "markdown",
   "metadata": {
    "collapsed": true
   },
   "source": [
    "# Visualization of Golgi cells"
   ]
  },
  {
   "cell_type": "markdown",
   "metadata": {},
   "source": [
    "For both the apical and the basal dendrites, a parameter GoC_*d_nseg is defined by `int((GoC_ApicalDendL/(GoC_d_lambda*GoC_d_lambda_f)+0.9)/2)*2 + 1 ` (analogous for BasolateralDendL)\n",
    "Plugging in the values for the other parameters specified, I get that only if the length parameter GoC_**DendL is >= 488.6 (which seems an unlikely case), this parameter is not 1. (Values in the current config file are 166 for apical, 60 for basolateral)\n",
    "I would like to understand what this parameter does and what it is used for (something cable equationish?)\n"
   ]
  },
  {
   "cell_type": "markdown",
   "metadata": {},
   "source": [
    "# Visualization of Parallel fiber"
   ]
  },
  {
   "cell_type": "markdown",
   "metadata": {},
   "source": [
    "# Visualization of Somata"
   ]
  },
  {
   "cell_type": "markdown",
   "metadata": {},
   "source": [
    "# Single connection visualization"
   ]
  },
  {
   "cell_type": "markdown",
   "metadata": {},
   "source": [
    "# Connection density visualization"
   ]
  },
  {
   "cell_type": "code",
   "execution_count": null,
   "metadata": {
    "ExecuteTime": {
     "end_time": "2017-11-14T12:44:01.403282Z",
     "start_time": "2017-11-14T12:44:01.396534Z"
    }
   },
   "outputs": [],
   "source": [
    "l = 166\n",
    "fr = l/(0.1*1000*np.sqrt (3/(4*np.pi)))\n",
    "print (fr)\n",
    "nsegp = fr+0.9\n",
    "nseg = int(nsegp/2)*2+1\n",
    "print (nsegp)\n",
    "print (nseg)\n"
   ]
  },
  {
   "cell_type": "code",
   "execution_count": null,
   "metadata": {
    "ExecuteTime": {
     "end_time": "2017-11-14T12:39:04.709959Z",
     "start_time": "2017-11-14T12:39:04.361772Z"
    }
   },
   "outputs": [],
   "source": [
    "int (0.9)"
   ]
  },
  {
   "cell_type": "code",
   "execution_count": null,
   "metadata": {
    "ExecuteTime": {
     "end_time": "2017-11-14T12:50:53.363142Z",
     "start_time": "2017-11-14T12:50:53.186476Z"
    }
   },
   "outputs": [],
   "source": [
    "b = 'ga'\n",
    "print (type(b) == str)"
   ]
  },
  {
   "cell_type": "code",
   "execution_count": null,
   "metadata": {},
   "outputs": [],
   "source": [
    "import threading\n",
    "from queue import Queue\n",
    "import time\n",
    "\n",
    "\n"
   ]
  },
  {
   "cell_type": "code",
   "execution_count": null,
   "metadata": {
    "ExecuteTime": {
     "end_time": "2017-11-15T15:47:32.666023Z",
     "start_time": "2017-11-15T15:47:06.559718Z"
    }
   },
   "outputs": [],
   "source": [
    "\n",
    "q"
   ]
  },
  {
   "cell_type": "code",
   "execution_count": null,
   "metadata": {},
   "outputs": [],
   "source": [
    "%connect_info #-> gives the number and the address of the kernel you use\n",
    "%qtconsole #-> opens the console with iqdb\n",
    "%debug #-> starts a iqdb pocess inline\n",
    "#-> here, if you print debug, you will jump to the last error. Leave with q\n",
    "\n",
    "# pdb.set_trace() -> "
   ]
  },
  {
   "cell_type": "code",
   "execution_count": null,
   "metadata": {},
   "outputs": [],
   "source": [
    "# about the nseg parameter in the Parameters.hoc file.\n",
    "l = 166\n",
    "fr = l/(0.1*1000*np.sqrt (3/(4*np.pi)))\n",
    "print (fr)\n",
    "nsegp = fr+0.9\n",
    "nseg = int(nsegp/2)*2+1\n",
    "print (nsegp)\n",
    "print (nseg)\n"
   ]
  },
  {
   "cell_type": "code",
   "execution_count": null,
   "metadata": {},
   "outputs": [],
   "source": [
    "% run BREPpy\n",
    "gol = './example_simulation/coordinates_input/subsampled/GoCcoordinates_64.dat'\n",
    "h = Pseudo_hoc('pseudo_hoc.pkl')\n",
    "\n",
    "gg = Golgi_pop(h)\n",
    "gg.load_somata(gol)\n",
    "#gg.gen_random_cell_loc(1995, 1500, 700, 200)\n",
    "gg.add_dendrites()\n",
    "gg.add_axon()\n",
    "cc = Connect_3D(gg.axon_q, gg.b_dend_q, 30, './output_pybrep/spam/GoCtoGoC_')\n",
    "_ cc.connections_parallel(True)"
   ]
  }
 ],
 "metadata": {
  "kernelspec": {
   "display_name": "Python 3",
   "language": "python",
   "name": "python3"
  },
  "language_info": {
   "codemirror_mode": {
    "name": "ipython",
    "version": 3
   },
   "file_extension": ".py",
   "mimetype": "text/x-python",
   "name": "python",
   "nbconvert_exporter": "python",
   "pygments_lexer": "ipython3",
   "version": "3.5.2"
  },
  "toc": {
   "nav_menu": {},
   "number_sections": true,
   "sideBar": true,
   "skip_h1_title": true,
   "toc_cell": false,
   "toc_position": {},
   "toc_section_display": "block",
   "toc_window_display": false
  },
  "varInspector": {
   "cols": {
    "lenName": 16,
    "lenType": 16,
    "lenVar": 40
   },
   "kernels_config": {
    "python": {
     "delete_cmd_postfix": "",
     "delete_cmd_prefix": "del ",
     "library": "var_list.py",
     "varRefreshCmd": "print(var_dic_list())"
    },
    "r": {
     "delete_cmd_postfix": ") ",
     "delete_cmd_prefix": "rm(",
     "library": "var_list.r",
     "varRefreshCmd": "cat(var_dic_list()) "
    }
   },
   "types_to_exclude": [
    "module",
    "function",
    "builtin_function_or_method",
    "instance",
    "_Feature"
   ],
   "window_display": false
  }
 },
 "nbformat": 4,
 "nbformat_minor": 1
}
