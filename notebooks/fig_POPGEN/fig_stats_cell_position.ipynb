{
 "cells": [
  {
   "cell_type": "markdown",
   "metadata": {},
   "source": [
    "# Statistical analysis of the generated cell positions\n",
    "\n",
    "This notebook contains some codes that analyze the cell position data generated from pycabnn."
   ]
  },
  {
   "cell_type": "code",
   "execution_count": 4,
   "metadata": {},
   "outputs": [
    {
     "name": "stderr",
     "output_type": "stream",
     "text": [
      "/opt/anaconda3/lib/python3.7/site-packages/ipykernel_launcher.py:2: TqdmExperimentalWarning: Using `tqdm.autonotebook.tqdm` in notebook mode. Use `tqdm.tqdm` instead to force console mode (e.g. in jupyter console)\n",
      "  \n"
     ]
    }
   ],
   "source": [
    "import numpy as np\n",
    "from tqdm.autonotebook import tqdm\n",
    "import matplotlib.pyplot as plt\n",
    "\n",
    "from sklearn.neighbors import NearestNeighbors"
   ]
  },
  {
   "cell_type": "markdown",
   "metadata": {},
   "source": [
    "## Load data\n",
    "\n",
    "Here we load the sample cell position data."
   ]
  },
  {
   "cell_type": "code",
   "execution_count": 5,
   "metadata": {},
   "outputs": [],
   "source": [
    "# A few utility functions to p\n",
    "\n",
    "def limit_to_box(x, box):\n",
    "    \"\"\"select only the points within a given box.\"\"\"\n",
    "    mf = x.copy()\n",
    "    for i, t in enumerate(box):\n",
    "        mf = mf[mf[:, i] >= t[0], :]\n",
    "        mf = mf[mf[:, i] <= t[1], :]\n",
    "    return mf\n",
    "\n",
    "def print_range(goc):\n",
    "    \"\"\"prints the 3d range occupied by the cell population\"\"\"\n",
    "    print(\n",
    "        \"Current range:\\n\",\n",
    "        \"x: [{}, {}]\\n\".format(goc[:, 0].min(), goc[:, 0].max()),\n",
    "        \"y: [{}, {}]\\n\".format(goc[:, 1].min(), goc[:, 1].max()),\n",
    "        \"z: [{}, {}]\".format(goc[:, 2].min(), goc[:, 2].max()),\n",
    "    )\n",
    "\n",
    "def fix_coords(x, bbox):\n",
    "    \"\"\"removes the cells in a 25 um-wide gutter.\"\"\"\n",
    "    y = x - 25\n",
    "    y = limit_to_box(y, bbox)\n",
    "    print_range(y)\n",
    "    return y\n"
   ]
  },
  {
   "cell_type": "code",
   "execution_count": 6,
   "metadata": {},
   "outputs": [
    {
     "name": "stdout",
     "output_type": "stream",
     "text": [
      "Current range:\n",
      " x: [0.008738726727301582, 699.9951413085064]\n",
      " y: [0.0056677228167814064, 699.9989124811175]\n",
      " z: [0.0020255851778578915, 199.99996645157134]\n",
      "Current range:\n",
      " x: [0.0003566497912323996, 699.9434720937548]\n",
      " y: [0.03680411733359179, 699.9969905094972]\n",
      " z: [0.0011508231361929688, 199.98956118528915]\n"
     ]
    }
   ],
   "source": [
    "# load the data\n",
    "fname = \"../../test_data/generated_positions/coords_20190626_1_6.npz\"\n",
    "f = np.load(fname)\n",
    "f['grc_nop'].shape # grc_nop is grc positions without perturbation\n",
    "\n",
    "# readjuct the data to the bounding box - note that the data were generated in a larger volume\n",
    "bbox = [[0, 700], [0, 700], [0, 200]]\n",
    "grc = fix_coords(f['grc_nop'], bbox) # here we use the unperturbed position\n",
    "glo = fix_coords(f['glo'], bbox)\n",
    "grx = grc + np.random.randn(*grc.shape)*0.2 # add perturbation, corresponding to the softness margin, 0.2 um here.\n"
   ]
  },
  {
   "cell_type": "markdown",
   "metadata": {},
   "source": [
    "## GrC position analysis"
   ]
  },
  {
   "cell_type": "markdown",
   "metadata": {},
   "source": [
    "### Nearest neighbor histogram\n",
    "\n",
    "Here we draw the nearest neighbor distance histogram (Fig. 4B)"
   ]
  },
  {
   "cell_type": "code",
   "execution_count": 7,
   "metadata": {},
   "outputs": [],
   "source": [
    "nn = NearestNeighbors()\n",
    "nn.fit(grx)\n",
    "dists, nnids = nn.kneighbors(grx, n_neighbors=2, return_distance=True)\n",
    "\n",
    "nn.fit(grc)\n",
    "dists_u, nnids = nn.kneighbors(grc, n_neighbors=2, return_distance=True)\n",
    "\n",
    "nnids = nnids[:,1]\n",
    "dists = dists[:,1]\n",
    "\n",
    "dists_u = dists_u[:,1]"
   ]
  },
  {
   "cell_type": "code",
   "execution_count": 8,
   "metadata": {},
   "outputs": [
    {
     "data": {
      "image/png": "[encoded data removed]",
      "text/plain": [
       "<Figure size 252.283x157.677 with 1 Axes>"
      ]
     },
     "metadata": {
      "needs_background": "light"
     },
     "output_type": "display_data"
    }
   ],
   "source": [
    "_, ax = plt.subplots(figsize=(8.9/2.54, 8.9/2.54*5/8))\n",
    "ax.hist(dists, 450, density=True, color='k')\n",
    "\n",
    "ax.set(\n",
    "    xlim=[5, 10],\n",
    "    xlabel='nearest neighbor distance (μm)',\n",
    "    ylabel='density'\n",
    ")\n",
    "plt.tight_layout()\n",
    "plt.savefig('nn_dist_hist.png', dpi=600)"
   ]
  },
  {
   "cell_type": "markdown",
   "metadata": {},
   "source": [
    "### Pair correlation function\n",
    "\n",
    "Here are the codes for computing the pair correlation function (Fig. 4C)"
   ]
  },
  {
   "cell_type": "code",
   "execution_count": 9,
   "metadata": {},
   "outputs": [
    {
     "data": {
      "application/vnd.jupyter.widget-view+json": {
       "model_id": "2bb419892db545f79facabbd12b1f9f2",
       "version_major": 2,
       "version_minor": 0
      },
      "text/plain": [
       "HBox(children=(FloatProgress(value=0.0, max=240.0), HTML(value='')))"
      ]
     },
     "metadata": {},
     "output_type": "display_data"
    },
    {
     "name": "stdout",
     "output_type": "stream",
     "text": [
      "\n"
     ]
    }
   ],
   "source": [
    "# we limit the calculation to \"inside\" cells to avoid the boundary effect.\n",
    "gry = limit_to_box(grx, [[30, 670], [30, 670], [30, 170]])\n",
    "\n",
    "nn = NearestNeighbors(n_jobs=-1)\n",
    "nn.fit(grx)\n",
    "\n",
    "mcounts = []\n",
    "sdcounts = []\n",
    "dists = np.linspace(0, 30, 240)\n",
    "for r in tqdm(dists):\n",
    "    count = np.frompyfunc(lambda x: x.size, 1, 1)(nn.radius_neighbors(\n",
    "        gry, radius=r, return_distance=False\n",
    "    )).astype(float) - 1\n",
    "    mcounts.append(count.mean())\n",
    "    sdcounts.append(count.std()/np.sqrt(count.size))\n",
    "\n",
    "# mcount = count.mean()\n",
    "# sdcount = count.std()\n",
    "# print('{} ± {}'.format(mcount, sdcount))"
   ]
  },
  {
   "cell_type": "code",
   "execution_count": 10,
   "metadata": {
    "lines_to_next_cell": 0,
    "scrolled": true
   },
   "outputs": [
    {
     "name": "stderr",
     "output_type": "stream",
     "text": [
      "/opt/anaconda3/lib/python3.7/site-packages/ipykernel_launcher.py:1: RuntimeWarning: invalid value encountered in true_divide\n",
      "  \"\"\"Entry point for launching an IPython kernel.\n"
     ]
    },
    {
     "data": {
      "image/png": "[encoded data removed]",
      "text/plain": [
       "<Figure size 252.283x157.677 with 1 Axes>"
      ]
     },
     "metadata": {
      "needs_background": "light"
     },
     "output_type": "display_data"
    }
   ],
   "source": [
    "cc2 = np.gradient(mcounts)/(dists**2)\n",
    "cc2_0 = cc2[-1]\n",
    "cc2 = cc2/cc2_0\n",
    "\n",
    "mcounts = np.array(mcounts)\n",
    "sdcounts = np.array(sdcounts)\n",
    "\n",
    "cc2_u = np.gradient(mcounts + 150*sdcounts)/(dists**2+0.001)/cc2_0\n",
    "cc2_d = np.gradient(mcounts - 150*sdcounts)/(dists**2+0.001)/cc2_0\n",
    "\n",
    "_, ax = plt.subplots(figsize=(8.9/2.54, 8.9/2.54*5/8))\n",
    "ax.plot(dists, cc2, 'k')\n",
    "ax.set(\n",
    "    ylim = [0, 3],\n",
    "    xlim = [0, 30],\n",
    "    xlabel='radial distance (μm)',\n",
    "    ylabel='pair correlation function'\n",
    ")\n",
    "plt.tight_layout()\n",
    "plt.savefig('cc2_grc.png', dpi=600)"
   ]
  },
  {
   "cell_type": "markdown",
   "metadata": {},
   "source": [
    "### Anglular distribution\n",
    "\n",
    "Here we check that the nearest neighbor of each granule cell is preferentially positioned in the sagittal direction, as in the human data."
   ]
  },
  {
   "cell_type": "code",
   "execution_count": 11,
   "metadata": {
    "lines_to_next_cell": 2
   },
   "outputs": [],
   "source": [
    "nn.fit(grx)\n",
    "gry = limit_to_box(grx, [[30, 670], [30, 670], [30, 170]])\n",
    "nnids = nn.kneighbors(gry, n_neighbors=2, return_distance=False)\n",
    "nnids = nnids[:,1]"
   ]
  },
  {
   "cell_type": "code",
   "execution_count": 12,
   "metadata": {},
   "outputs": [],
   "source": [
    "# print(grx.shape)\n",
    "# print(gry.shape)\n",
    "nn_gry = grx[nnids,:]\n",
    "dvec = nn_gry-gry\n",
    "dvec\n",
    "\n",
    "from numpy.linalg import norm\n",
    "dst_dvec = norm(dvec, axis=-1)\n",
    "dvec2 = dvec[:,0:2]\n",
    "l2_dvec2 = norm(dvec2, axis=-1)\n",
    "\n",
    "cos_theta = dvec2[:,0]/l2_dvec2\n",
    "sin_theta = dvec2[:,1]/l2_dvec2\n",
    "\n",
    "theta = np.arctan2(sin_theta, cos_theta)"
   ]
  },
  {
   "cell_type": "code",
   "execution_count": 13,
   "metadata": {},
   "outputs": [
    {
     "data": {
      "text/plain": [
       "Text(0.5, 0, 'angle from sagittal')"
      ]
     },
     "execution_count": 13,
     "metadata": {},
     "output_type": "execute_result"
    },
    {
     "data": {
      "image/png": "[encoded data removed]",
      "text/plain": [
       "<Figure size 432x288 with 1 Axes>"
      ]
     },
     "metadata": {
      "needs_background": "light"
     },
     "output_type": "display_data"
    },
    {
     "data": {
      "image/png": "[encoded data removed]",
      "text/plain": [
       "<Figure size 432x288 with 1 Axes>"
      ]
     },
     "metadata": {
      "needs_background": "light"
     },
     "output_type": "display_data"
    }
   ],
   "source": [
    "xx = np.linspace(-np.pi/2, np.pi/2, 21)\n",
    "n, x, _ = plt.hist((theta), xx)\n",
    "\n",
    "xtickloc = np.linspace(-np.pi/2, np.pi/2, 3)\n",
    "n = n/sum(n)*100\n",
    "_, ax = plt.subplots()\n",
    "# ax.bar(x[:-1], n)\n",
    "ax.step(x, np.hstack([n, n[0]]), 'k')\n",
    "# ax.set_ylim([2050, 2300])\n",
    "ax.set_xticks(xtickloc)\n",
    "ax.set_xticklabels([r'-$\\pi$/2', '0', r'$\\pi$/2'])\n",
    "ax.set_ylabel('fraction (%)')\n",
    "ax.set_xlabel('angle from sagittal')"
   ]
  },
  {
   "cell_type": "code",
   "execution_count": 15,
   "metadata": {},
   "outputs": [
    {
     "name": "stdout",
     "output_type": "stream",
     "text": [
      "14.520773344302759 %\n"
     ]
    }
   ],
   "source": [
    "# Compute the excess nearest neighbor count in the sagittal direction\n",
    "print(f'{(n.max()-n.min())/n.min()*100} %')"
   ]
  },
  {
   "cell_type": "markdown",
   "metadata": {},
   "source": [
    "## Simple distance-based GrC-Glo connection\n",
    "\n",
    "Here we demonstrate and analyze the GrC-glomerulus connectivity based on the simple distance-based rule."
   ]
  },
  {
   "cell_type": "markdown",
   "metadata": {},
   "source": [
    "## Pycabnn-generated cell position"
   ]
  },
  {
   "cell_type": "code",
   "execution_count": 16,
   "metadata": {},
   "outputs": [],
   "source": [
    "scale_factor = 1/4\n",
    "\n",
    "src = grx.copy()\n",
    "tgt = glo.copy()\n",
    "src[:, 1] *= scale_factor\n",
    "tgt[:, 1] *= scale_factor"
   ]
  },
  {
   "cell_type": "code",
   "execution_count": 17,
   "metadata": {},
   "outputs": [
    {
     "name": "stdout",
     "output_type": "stream",
     "text": [
      "N conns = 4.4299305337498005 ± 1.3655061061100664\n"
     ]
    },
    {
     "data": {
      "image/png": "[encoded data removed]",
      "text/plain": [
       "<Figure size 432x288 with 1 Axes>"
      ]
     },
     "metadata": {
      "needs_background": "light"
     },
     "output_type": "display_data"
    }
   ],
   "source": [
    "rr = 7.85\n",
    "nn = NearestNeighbors()\n",
    "nn.fit(tgt)\n",
    "conns = nn.radius_neighbors(src, radius=rr, return_distance=False)\n",
    "nconns = np.frompyfunc(lambda x: x.size, 1, 1)(conns).astype(int)\n",
    "\n",
    "n_r, x_r, _ = plt.hist(nconns,np.arange(nconns.max()),100)\n",
    "print('N conns = {} ± {}'.format(np.mean(nconns), np.std(nconns)))\n",
    "      \n",
    "# conns = nn.kneighbors(src, n_neighbors=2, return_distance=False)"
   ]
  },
  {
   "cell_type": "markdown",
   "metadata": {},
   "source": [
    "## Random cell position\n",
    "\n",
    "The same connectivity analysis with the purely random cell positions. The result can be slightly different from the numbers that we reported in the paper --- since it is random!"
   ]
  },
  {
   "cell_type": "code",
   "execution_count": 20,
   "metadata": {},
   "outputs": [],
   "source": [
    "# generate the purely rarndom cell position\n",
    "grx = np.random.rand(*grx.shape)\n",
    "glo = np.random.rand(*glo.shape)\n",
    "\n",
    "grx[:,0] *= 700\n",
    "grx[:,1] *= 700\n",
    "grx[:,2] *= 200\n",
    "\n",
    "glo[:,0] *= 700\n",
    "glo[:,1] *= 700\n",
    "glo[:,2] *= 200\n",
    "\n",
    "scale_factor = 1/4\n",
    "\n",
    "# grx = grc + np.random.randn(*grc.shape)*0.2\n",
    "\n",
    "src = grx.copy()\n",
    "tgt = glo.copy()\n",
    "src[:, 1] *= scale_factor\n",
    "tgt[:, 1] *= scale_factor"
   ]
  },
  {
   "cell_type": "code",
   "execution_count": 21,
   "metadata": {},
   "outputs": [
    {
     "name": "stdout",
     "output_type": "stream",
     "text": [
      "N conns = 4.238801941309006 ± 2.099390143368081\n"
     ]
    },
    {
     "data": {
      "image/png": "[encoded data removed]",
      "text/plain": [
       "<Figure size 432x288 with 1 Axes>"
      ]
     },
     "metadata": {
      "needs_background": "light"
     },
     "output_type": "display_data"
    }
   ],
   "source": [
    "nn = NearestNeighbors()\n",
    "nn.fit(tgt)\n",
    "conns = nn.radius_neighbors(src, radius=rr, return_distance=False)\n",
    "nconns = np.frompyfunc(lambda x: x.size, 1, 1)(conns).astype(int)\n",
    "nc, xc, _ = plt.hist(nconns, np.arange(nconns.max()), 100)\n",
    "print('N conns = {} ± {}'.format(np.mean(nconns), np.std(nconns)))"
   ]
  },
  {
   "cell_type": "code",
   "execution_count": null,
   "metadata": {},
   "outputs": [],
   "source": []
  }
 ],
 "metadata": {
  "@webio": {
   "lastCommId": null,
   "lastKernelId": null
  },
  "jupytext": {
   "encoding": "# -*- coding: utf-8 -*-",
   "formats": "ipynb,py:light"
  },
  "kernelspec": {
   "display_name": "Python 3",
   "language": "python",
   "name": "python3"
  },
  "language_info": {
   "codemirror_mode": {
    "name": "ipython",
    "version": 3
   },
   "file_extension": ".py",
   "mimetype": "text/x-python",
   "name": "python",
   "nbconvert_exporter": "python",
   "pygments_lexer": "ipython3",
   "version": "3.7.7"
  }
 },
 "nbformat": 4,
 "nbformat_minor": 4
}
