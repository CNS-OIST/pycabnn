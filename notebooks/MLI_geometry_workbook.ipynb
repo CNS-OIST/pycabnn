{
 "cells": [
  {
   "cell_type": "code",
   "execution_count": 1,
   "metadata": {},
   "outputs": [],
   "source": [
    "import numpy as np\n",
    "from tqdm import tqdm\n",
    "import matplotlib.pyplot as plt\n",
    "import random #generating negative random numbers\n",
    "\n",
    "from mpl_toolkits.mplot3d import Axes3D # for 3D visualization\n",
    "\n",
    "from tqdm import tqdm, trange #loading status\n"
   ]
  },
  {
   "cell_type": "code",
   "execution_count": null,
   "metadata": {},
   "outputs": [],
   "source": []
  },
  {
   "cell_type": "code",
   "execution_count": null,
   "metadata": {},
   "outputs": [],
   "source": []
  },
  {
   "cell_type": "markdown",
   "metadata": {},
   "source": [
    "## Dendpoint generation in 2D"
   ]
  },
  {
   "cell_type": "code",
   "execution_count": null,
   "metadata": {},
   "outputs": [],
   "source": [
    "Ldend = 180\n",
    "soma = np.zeros(3)\n",
    "soma= np.array([-150,-300,0])\n",
    "\n",
    "DEBUG=False\n",
    "\n",
    "def debug_print(*s):\n",
    "    if DEBUG:\n",
    "        print(*s)\n",
    "    else:\n",
    "        pass\n",
    "\n",
    "def make_random_dend_ends():\n",
    "    angle0 = np.random.rand()*np.pi/2\n",
    "    debug_print(\"Starting Point\",angle0) #random starting point\n",
    "    # first 3 angles between dends\n",
    "    angles3 = np.ones(3)*np.pi/2\n",
    "    angles = np.cumsum(angles3) \n",
    "    angles = np.hstack([0, angles]) + angle0 \n",
    "\n",
    "    #adding more variability for each point independent from the others\n",
    "    r=np.random.uniform(-0.5, 0.5,4)\n",
    "    angles=angles+r\n",
    "    debug_print(\"Single Point Variation=\", r)\n",
    "\n",
    "    #produce x and y coordinates\n",
    "    return np.array([[Ldend*np.cos(a), Ldend*np.sin(a)] for a in angles]) # cos=x; sin=y\n",
    "    \n",
    "point1_xz = make_random_dend_ends()               \n",
    "print(point1_xz)\n",
    "\n",
    "print(soma)\n",
    "point1_xz = point1_xz + soma[:2]               \n",
    "\n",
    "print(point1_xz)\n",
    "\n",
    "\n"
   ]
  },
  {
   "cell_type": "code",
   "execution_count": null,
   "metadata": {},
   "outputs": [],
   "source": [
    "#circle\n",
    "theta = np.linspace( 0 , 2 * np.pi , 170 )  \n",
    "radius = Ldend #ToDO automate: point -soma?\n",
    "Ca = radius * np.cos( theta )+soma[0]\n",
    "Cb = radius * np.sin( theta )+soma[1]"
   ]
  },
  {
   "cell_type": "code",
   "execution_count": null,
   "metadata": {},
   "outputs": [],
   "source": [
    "# upper and lower borders (y= mx+n)\n",
    "xlay=np.linspace(-500,150,150)\n",
    "upperLimit=-250 #MLI layer border\n",
    "lowerLimit=-75 #MLI layer border\n",
    "up=0*xlay+upperLimit\n",
    "down=0*xlay+lowerLimit"
   ]
  },
  {
   "cell_type": "code",
   "execution_count": null,
   "metadata": {},
   "outputs": [],
   "source": [
    "##Check if upper layer limit collides with dendrite radius around soma\n",
    "#calculate distance between layer and soma\n",
    "d=abs(soma[1]-upperLimit)\n",
    "print(d)\n",
    "if d < radius:\n",
    "    print(\"Dendrites might interfere with layer limit\")\n",
    "elif d <= radius:\n",
    "    print(\"Dendrites might reach layer limit\")\n",
    "else:\n",
    "    print(\"There is enough space for dendrites\")\n",
    "\n"
   ]
  },
  {
   "cell_type": "code",
   "execution_count": null,
   "metadata": {},
   "outputs": [],
   "source": [
    "#plot\n",
    "figure, axes= plt.subplots(1)\n",
    "\n",
    "axes.plot(point1_xz[:,0], point1_xz[:,1], 'o')\n",
    "axes.plot(soma[0],soma[1], 'or')\n",
    "\n",
    "axes.plot(Ca,Cb, \".\")\n",
    "axes.plot(xlay,up, \"grey\")\n",
    "#axes.plot(xlay,down, \"grey\")\n",
    "axes.set_aspect(1)"
   ]
  },
  {
   "cell_type": "code",
   "execution_count": null,
   "metadata": {},
   "outputs": [],
   "source": [
    "#check which dendrite is outside of the layer and correct its position\n",
    "def fix_dend_ends_upper(point1_xz, soma, upperLimit, push_down=100):\n",
    "    \n",
    "    d=abs(soma[1]-upperLimit)\n",
    "    \n",
    "    point1_xz_new = np.zeros_like(point1_xz)\n",
    "    for i in range(point1_xz.shape[0]):\n",
    "        x, y=point1_xz[i];\n",
    "        \n",
    "        #print(point1_xz[i]);\n",
    "        if y>soma[1]+d:\n",
    "            debug_print(\"Dendrite\",i, \"is outside the layer:\", point1_xz[i]);\n",
    "            if point1_xz[i,0]< soma[0]:       # make sure each dendrite goes to one one side\n",
    "                y=soma[1]+d- np.random.uniform(0, push_down); #soma y coord. plus the distance to layer+ variability \n",
    "                point1_xz_new[i,1]=y\n",
    "                phi=np.arcsin((y-soma[1])/radius) # calculate phi for new x\n",
    "                x1=radius*np.cos(phi)+soma[0]     # new x coord. on layer\n",
    "                point1_xz_new[i,0]=soma[0]-(x1-soma[0]) \n",
    "            else:\n",
    "                y=soma[1]+d- np.random.uniform(0, push_down); #soma y coord. plus the distance to layer\n",
    "                phi=np.arcsin((y-soma[1])/radius) # calculate phi for new x\n",
    "                x1=radius*np.cos(phi)+soma[0]     # new x coord. on layer\n",
    "                point1_xz_new[i,:]=[x1, y]\n",
    "            debug_print(\"New Coordinates\", point1_xz[i])\n",
    "        else:\n",
    "            debug_print(\"Dendrite\",i, \"is inside the layer \")\n",
    "            point1_xz_new[i,:]= [x, y]\n",
    "\n",
    "    return point1_xz_new\n",
    "\n",
    "\n",
    "point1_xz_new = fix_dend_ends_upper(point1_xz, soma, -250)"
   ]
  },
  {
   "cell_type": "code",
   "execution_count": null,
   "metadata": {},
   "outputs": [],
   "source": [
    "#plot\n",
    "figure, axes= plt.subplots(1)\n",
    "\n",
    "axes.plot(point1_xz_new[:,0], point1_xz_new[:,1], 'or')\n",
    "axes.plot(point1_xz[:,0], point1_xz[:,1], 'ok')\n",
    "axes.plot(soma[0],soma[1], 'og')\n",
    "axes.plot(Ca,Cb, \".\")\n",
    "axes.plot(xlay,up, \"grey\")\n",
    "#axes.plot(xlay,down, \"grey\")\n",
    "axes.set_aspect(1)"
   ]
  },
  {
   "cell_type": "markdown",
   "metadata": {},
   "source": [
    "## Check distance to other EndPoints"
   ]
  },
  {
   "cell_type": "code",
   "execution_count": null,
   "metadata": {},
   "outputs": [],
   "source": [
    "point1_xz_new"
   ]
  },
  {
   "cell_type": "code",
   "execution_count": null,
   "metadata": {},
   "outputs": [],
   "source": []
  },
  {
   "cell_type": "markdown",
   "metadata": {},
   "source": [
    "Add points between Soma and EndPoint"
   ]
  },
  {
   "cell_type": "code",
   "execution_count": null,
   "metadata": {},
   "outputs": [],
   "source": [
    "#calculate x values for points between soma and endpoint\n",
    "#xDendAll=np.empty((0,0), dtype=object)\n",
    "def dend_points_soma_endpoint(point1_xz_new, soma, nPoint=90):\n",
    "    xDendAll = np.zeros(shape=(0))\n",
    "    yDendAll = np.zeros(shape=(0))\n",
    "    for i in range(point1_xz_new.shape[0]):\n",
    "        #nPoint= 90\n",
    "        xLen=abs(soma[0]-point1_xz_new[i,0]) # length of dendrite on x axis\n",
    "        xComp= xLen/nPoint # distance of compartments on x axis\n",
    "        if point1_xz_new[i,0] < soma[0]:\n",
    "            xDend=(np.cumsum(np.ones(nPoint-1)*xComp))+ point1_xz_new[i,0]#soma[0]\n",
    "            xDendAll = np.append(xDendAll, xDend, axis=0)\n",
    "        else:\n",
    "            xDend=(np.cumsum(np.ones(nPoint-1)*xComp))+soma[0]\n",
    "            xDendAll = np.append(xDendAll, xDend, axis=0)\n",
    "        #calculating slope\n",
    "        m=(soma[1]-point1_xz_new[i,1])/(soma[0]-point1_xz_new[i,0]) #m=(y1-y2)/(x1-x2)\n",
    "        #function for calculating y\n",
    "        yDend=np.array((m*xDend)-(m*soma[0])+soma[1])\n",
    "        \n",
    "        yDendAll = np.append(yDendAll, yDend, axis=0)\n",
    "    \n",
    "    return xDendAll, yDendAll\n",
    "        \n",
    "xDendAll,yDendAll = dend_points_soma_endpoint(point1_xz_new, soma)\n",
    "\n",
    "\n",
    "#TODO: case for vertical line?\n",
    "\n",
    "    \n"
   ]
  },
  {
   "cell_type": "code",
   "execution_count": null,
   "metadata": {},
   "outputs": [],
   "source": [
    "#plot\n",
    "figure, axes= plt.subplots(1)\n",
    "\n",
    "axes.plot(point1_xz_new[:,0], point1_xz_new[:,1], 'or')\n",
    "axes.plot(point1_xz[:,0], point1_xz[:,1], 'ok')\n",
    "axes.plot(soma[0],soma[1], 'og')\n",
    "axes.plot(xDendAll[:],yDendAll[:],'oy')\n",
    "axes.plot(Ca,Cb, \".\")\n",
    "axes.plot(xlay,up, \"grey\")\n",
    "#axes.plot(xlay,down, \"grey\")\n",
    "axes.set_aspect(1)"
   ]
  },
  {
   "cell_type": "code",
   "execution_count": null,
   "metadata": {},
   "outputs": [],
   "source": []
  },
  {
   "cell_type": "markdown",
   "metadata": {},
   "source": [
    "## ADD MORE SOMA"
   ]
  },
  {
   "cell_type": "code",
   "execution_count": null,
   "metadata": {},
   "outputs": [],
   "source": [
    "soma = np.zeros((60,3))\n",
    "somas = np.array([np.random.uniform(-600,600,3) for i in soma]) # cos=x; sin=y\n",
    "somas[:,0] = np.random.uniform(-600, 600, size=60)\n",
    "somas[:,1] = np.random.uniform(20, 180, size=60)\n",
    "\n",
    "\n",
    "print(\"We generated\", len(somas), \"somas.\")"
   ]
  },
  {
   "cell_type": "code",
   "execution_count": null,
   "metadata": {},
   "outputs": [],
   "source": [
    "# upper and lower borders (y= mx+n)\n",
    "xlay=np.linspace(-600,600,600)\n",
    "upperLimit=max(somas[:,1])+20 #MLI layer border\n",
    "lowerLimit=min(somas[:,1]-20) #MLI layer border\n",
    "\n",
    "#upperLimit= 200 #MLI layer border\n",
    "up=0*xlay+upperLimit\n",
    "down=0*xlay+lowerLimit"
   ]
  },
  {
   "cell_type": "code",
   "execution_count": null,
   "metadata": {},
   "outputs": [],
   "source": [
    "figure, axes= plt.subplots(1)\n",
    "\n",
    "#axes.plot(point1_xz[:,0], point1_xz[:,1], 'o')\n",
    "#axes.plot(Ca,Cb, \".\")\n",
    "axes.plot(somas[:,0],somas[:,1] ,'or')\n",
    "axes.plot(xlay,up, \"grey\")\n",
    "axes.plot(xlay,down, \"grey\")\n",
    "\n",
    "\n",
    "axes.set_aspect(1)\n",
    "plt.title(\"Somas\");"
   ]
  },
  {
   "cell_type": "code",
   "execution_count": null,
   "metadata": {},
   "outputs": [],
   "source": [
    "##generate endpoints around respective somas\n",
    "EpointDendx=np.empty((0,2), dtype=object) #empty array for dendrites\n",
    "EpointDend=np.empty((0,2), dtype=object) #empty array for dendrites\n",
    "xDendAllAll=np.empty((0), dtype=object) #empty array for dendrites\n",
    "yDendAllAll=np.empty((0), dtype=object) #empty array for dendrites\n",
    "\n",
    "for s in range(somas.shape[0]):\n",
    "    \n",
    "    soma = somas[s,:2]\n",
    "    point1_xz = make_random_dend_ends() + soma\n",
    "    point1_xz_new = fix_dend_ends_upper(point1_xz, soma, upperLimit)\n",
    "    point1_xz_new = -fix_dend_ends_upper(-point1_xz_new, -soma, lowerLimit)\n",
    "    xDendAll,yDendAll = dend_points_soma_endpoint(point1_xz_new, soma)\n",
    "    \n",
    "\n",
    "    EpointDendx = np.append(EpointDendx, point1_xz, axis=0)\n",
    "    EpointDend = np.append(EpointDend, point1_xz_new, axis=0)\n",
    "    \n",
    "    xDendAllAll = np.append(xDendAllAll, xDendAll, axis=0)\n",
    "    yDendAllAll = np.append(yDendAllAll, yDendAll, axis=0)"
   ]
  },
  {
   "cell_type": "code",
   "execution_count": null,
   "metadata": {},
   "outputs": [],
   "source": [
    "def plot_one_skeleton(soma, pointDend, axes):\n",
    "    for i in range(pointDend.shape[0]):\n",
    "        dend_point = pointDend[i, :]\n",
    "        axes.plot([soma[0], dend_point[0]], [soma[1], dend_point[1]], ':k')\n",
    "\n",
    "def plot_skeletons(somas, point_dends, axes):\n",
    "    for s in range(somas.shape[0]):\n",
    "        soma = somas[s,:2]\n",
    "        point_dends_1 = point_dends[(s*4):((s+1)*4),:]\n",
    "        plot_one_skeleton(soma, point_dends_1, axes)\n",
    "        \n",
    "figure, axes= plt.subplots(1)\n",
    "\n",
    "axes.plot(EpointDend[:,0], EpointDend[:,1], 'or', markersize=3)\n",
    "axes.plot(EpointDendx[:,0], EpointDendx[:,1], 'ok', markersize=2)\n",
    "axes.plot(somas[:,0],somas[:,1] ,'og', markersize=3)\n",
    "#plot_skeletons(somas, EpointDend, axes)\n",
    "axes.plot(xDendAllAll[:], yDendAllAll[:],\"oc\", markersize=0.1)\n",
    "    \n",
    "axes.plot(xlay,up, \"grey\")\n",
    "axes.plot(xlay,down, \"grey\")\n",
    "\n",
    "\n",
    "axes.set_aspect(1)\n",
    "plt.title(\"Somas (green) & Dendrite (red, black)\");"
   ]
  },
  {
   "cell_type": "code",
   "execution_count": null,
   "metadata": {},
   "outputs": [],
   "source": [
    "plt.hist(EpointDend[:,1],20);\n",
    "\n"
   ]
  },
  {
   "cell_type": "code",
   "execution_count": null,
   "metadata": {},
   "outputs": [],
   "source": [
    "figure, axes= plt.subplots(1)\n",
    "\n",
    "axes.plot(EpointDend[:4,0], EpointDend[:4,1], 'or', markersize=3)\n",
    "axes.plot(somas[:1,0],somas[:1,1] ,'og', markersize=3)"
   ]
  },
  {
   "cell_type": "markdown",
   "metadata": {},
   "source": [
    "## WHAT ABOUT 3D?"
   ]
  },
  {
   "cell_type": "code",
   "execution_count": null,
   "metadata": {},
   "outputs": [],
   "source": [
    "#%matplotlib notebook"
   ]
  },
  {
   "cell_type": "code",
   "execution_count": null,
   "metadata": {},
   "outputs": [],
   "source": [
    "#plotting sphere\n",
    "\n",
    "phi = np.linspace(0, np.pi, 50)\n",
    "theta = np.linspace(0, 2*np.pi, 50)\n",
    "phi, theta = np.meshgrid(phi, theta)\n",
    "\n",
    "x = np.sin(phi) * np.cos(theta) * Ldend +somas[0,0]\n",
    "y = np.sin(phi) * np.sin(theta)* Ldend +somas[0,1]\n",
    "z = np.cos(phi) *Ldend + somas[0,2]\n",
    "\n",
    "\n",
    "fig = plt.figure(figsize=plt.figaspect(1.))\n",
    "ax = fig.add_subplot(111, projection='3d')\n",
    "ax.plot_wireframe(x, y, z, alpha=0.2)\n",
    "ax.plot(somas[0,0], somas[0,1], somas[0,2],'or')\n",
    "\n",
    "\n",
    "\n",
    "ax.set_aspect(\"auto\")\n",
    "\n",
    "\n",
    "\n",
    "\n",
    "plt.show()"
   ]
  },
  {
   "cell_type": "code",
   "execution_count": null,
   "metadata": {},
   "outputs": [],
   "source": []
  },
  {
   "cell_type": "code",
   "execution_count": null,
   "metadata": {},
   "outputs": [],
   "source": []
  },
  {
   "cell_type": "code",
   "execution_count": null,
   "metadata": {},
   "outputs": [],
   "source": []
  },
  {
   "cell_type": "markdown",
   "metadata": {},
   "source": [
    "### Random perturbation in z-axis"
   ]
  },
  {
   "cell_type": "code",
   "execution_count": null,
   "metadata": {},
   "outputs": [],
   "source": [
    "EpointDend.shape"
   ]
  },
  {
   "cell_type": "code",
   "execution_count": null,
   "metadata": {},
   "outputs": [],
   "source": [
    "fig = plt.figure(figsize=plt.figaspect(1.))\n",
    "ax = fig.add_subplot(111, projection='3d')\n",
    "ax.plot(somas[:10,0], somas[:10,1], somas[:10,2],'or')"
   ]
  },
  {
   "cell_type": "code",
   "execution_count": null,
   "metadata": {},
   "outputs": [],
   "source": []
  },
  {
   "cell_type": "code",
   "execution_count": null,
   "metadata": {},
   "outputs": [],
   "source": [
    "EpointDend3 = np.zeros((EpointDend.shape[0], 3))\n",
    "EpointDend3[:, 0:2] = EpointDend\n",
    "for i in range(somas.shape[0]):\n",
    "    EpointDend3[(4*i):(4*(i+1)), 2] = somas[i, 2]"
   ]
  },
  {
   "cell_type": "code",
   "execution_count": null,
   "metadata": {},
   "outputs": [],
   "source": [
    "fig = plt.figure(figsize=plt.figaspect(1.))\n",
    "ax = fig.add_subplot(111, projection='3d')\n",
    "ax.plot(somas[:1,0], somas[:1,1], somas[:1,2],'or')\n",
    "ax.plot(EpointDend3[:4,0], EpointDend3[:4,1], EpointDend3[:4,2],'ok')\n",
    "#for ii in range(0,360,1):\n",
    " #   ax.view_init(elev=5., azim=ii)\n",
    "  #  plt.savefig(\"movie_figs/movie%d.png\" % ii)"
   ]
  },
  {
   "cell_type": "code",
   "execution_count": null,
   "metadata": {},
   "outputs": [],
   "source": []
  },
  {
   "cell_type": "code",
   "execution_count": null,
   "metadata": {},
   "outputs": [],
   "source": [
    "## 3rd coordinate for Endpoints for only one soma\n",
    "sigma = 24\n",
    "\n",
    "ep1 = EpointDend[:4,:] - somas[0,:2]\n",
    "ep1_3d = np.zeros((4,3))\n",
    "ep1_3d[:,:2] = ep1\n",
    "ep1_3d[:, 2] = np.random.randn(4)*sigma\n",
    "\n",
    "\n",
    "#adjust distance to soma back to Ldend(=180)\n",
    "for i in range(4):\n",
    "    norm = np.sqrt(ep1_3d[i,0]**2 + ep1_3d[i,1]**2 + ep1_3d[i,2]**2) \n",
    "    ep1_3d[i,:] = ep1_3d[i,:]/norm*Ldend\n",
    "   \n",
    "\n",
    "ep1_3d = ep1_3d + somas[0,:]"
   ]
  },
  {
   "cell_type": "code",
   "execution_count": null,
   "metadata": {},
   "outputs": [],
   "source": [
    "fig = plt.figure(figsize=plt.figaspect(1.))\n",
    "ax = fig.add_subplot(111)\n",
    "ax.plot(somas[0,0], somas[0,1],'.r')\n",
    "ax.plot(EpointDend[:4,0], EpointDend[:4,1],'.g')\n",
    "ax.plot(ep1_3d[:,0], ep1_3d[:,1],'.k')\n"
   ]
  },
  {
   "cell_type": "code",
   "execution_count": null,
   "metadata": {},
   "outputs": [],
   "source": [
    "fig = plt.figure(figsize=plt.figaspect(1.))\n",
    "ax = fig.add_subplot(111, projection='3d')\n",
    "ax.plot(somas[0,0], somas[0,1], somas[0,2],'or')\n",
    "ax.plot(ep1_3d[:,0], ep1_3d[:,1], ep1_3d[:,2],'ok')"
   ]
  },
  {
   "cell_type": "code",
   "execution_count": null,
   "metadata": {},
   "outputs": [],
   "source": [
    "def make_dend_ends_3d(somas, EpointDend):\n",
    "    ep1_3d_All=np.empty((0,3), dtype=object) #empty array for dendrites\n",
    "    sigma = 24\n",
    "    \n",
    "    for s in range(somas.shape[0]):\n",
    "        soma = somas[s,:]\n",
    "\n",
    "        ep1 = EpointDend[(s*4):((s+1)*4),:] - somas[s,:2]\n",
    "        ep1_3d = np.zeros((4,3))\n",
    "        ep1_3d[:,:2] = ep1\n",
    "        ep1_3d[:, 2] = np.random.randn(4)*sigma\n",
    "\n",
    "        #print(ep1_3d)\n",
    "\n",
    "        for i in range(4):\n",
    "            norm = np.sqrt(ep1_3d[i,0]**2 + ep1_3d[i,1]**2 + ep1_3d[i,2]**2)\n",
    "            ep1_3d[i,:3] = ep1_3d[i,:3]/norm*Ldend\n",
    "        ep1_3d = ep1_3d[:,:3] + somas[s,:]\n",
    "        ep1_3d_All=np.append(ep1_3d_All, ep1_3d, axis=0)\n",
    "        #print(EpointDend[(s*4):((s+1)*4),:])\n",
    "        \n",
    "    return ep1_3d_All\n",
    "    \n",
    "ep1_3d_All=make_dend_ends_3d(somas, EpointDend)"
   ]
  },
  {
   "cell_type": "code",
   "execution_count": null,
   "metadata": {},
   "outputs": [],
   "source": []
  },
  {
   "cell_type": "code",
   "execution_count": null,
   "metadata": {},
   "outputs": [],
   "source": [
    "figure, axes= plt.subplots(1)\n",
    "\n",
    "\n",
    "axes.plot(ep1_3d_All[:32,0], ep1_3d_All[:32,1], 'oc', markersize=5)\n",
    "axes.plot(somas[:8,0],somas[:8,1],'og', markersize=5)\n",
    "plot_skeletons(somas[0:8], ep1_3d_All[0:32], axes)\n",
    "#axes.plot(xDendAllAll[:], yDendAllAll[:],\"oc\", markersize=0.1)\n",
    "    \n",
    "axes.plot(xlay,up, \"grey\")\n",
    "axes.plot(xlay,down, \"grey\")"
   ]
  },
  {
   "cell_type": "code",
   "execution_count": null,
   "metadata": {},
   "outputs": [],
   "source": [
    "fig = plt.figure(figsize=plt.figaspect(1.))\n",
    "ax = fig.add_subplot(111, projection='3d')\n",
    "ax.plot(somas[0:8,0], somas[0:8,1], somas[0:8,2],'og')\n",
    "ax.plot(ep1_3d_All[:32,0], ep1_3d_All[:32,1], ep1_3d_All[:32,2],'oc')\n",
    "plot_skeletons(somas[0:8], ep1_3d_All[0:32], axes)"
   ]
  },
  {
   "cell_type": "code",
   "execution_count": null,
   "metadata": {},
   "outputs": [],
   "source": []
  },
  {
   "cell_type": "code",
   "execution_count": null,
   "metadata": {},
   "outputs": [],
   "source": [
    "fig = plt.figure(figsize=plt.figaspect(1.))\n",
    "ax = fig.add_subplot(111)\n",
    "for s in range(8,12):\n",
    "    ax.plot(somas[s,0], somas[s,1],'.g')\n",
    "    #ax.plot(EpointDend[:,0], EpointDend[:,1],'.c')\n",
    "    ax.plot(ep1_3d_All[(s*4):((s+1)*4),0], ep1_3d_All[(s*4):((s+1)*4),1],'.c')\n",
    "    for d in range(4):\n",
    "        ax.plot([somas[s,0], ep1_3d_All[(s*4+d), 0]],\n",
    "                [somas[s,1], ep1_3d_All[(s*4+d), 1]], ':k')\n",
    "\n"
   ]
  },
  {
   "cell_type": "code",
   "execution_count": null,
   "metadata": {},
   "outputs": [],
   "source": [
    "from tqdm import tqdm, trange\n",
    "\n",
    "fig = plt.figure(figsize=plt.figaspect(1.))\n",
    "ax = fig.add_subpot(111, projection='3d')\n",
    "for s in range(10,30):\n",
    "    ax.plot(somas[s,0], somas[s,2], somas[s,1], 'og')\n",
    "    #ax.plot(EpointDend[:,0], EpointDend[:,1],'.c')\n",
    "    ax.plot(ep1_3d_All[(s*4):((s+1)*4),0], \n",
    "            ep1_3d_All[(s*4):((s+1)*4),2],\n",
    "            ep1_3d_All[(s*4):((s+1)*4),1], '.c')\n",
    "    for d in range(4):\n",
    "        ax.plot([somas[s,0], ep1_3d_All[(s*4+d), 0]],\n",
    "                [somas[s,2], ep1_3d_All[(s*4+d), 2]],\n",
    "                [somas[s,1], ep1_3d_All[(s*4+d), 1]], ':k')\n",
    "\n",
    "#for ii in trange(0,360,1):\n",
    " #   ax.view_init(elev=5., azim=ii)\n",
    "  #  plt.savefig(\"movie_figs/movie%d.png\" % ii)"
   ]
  },
  {
   "cell_type": "code",
   "execution_count": null,
   "metadata": {},
   "outputs": [],
   "source": [
    "ls"
   ]
  },
  {
   "cell_type": "markdown",
   "metadata": {},
   "source": [
    "## Generate Dendrite points"
   ]
  },
  {
   "cell_type": "code",
   "execution_count": null,
   "metadata": {},
   "outputs": [],
   "source": []
  },
  {
   "cell_type": "code",
   "execution_count": null,
   "metadata": {},
   "outputs": [],
   "source": [
    "def generate_DendPoint_3d(soma, ep1_3d, nPoint=90):\n",
    "    DendPointAll= np.empty((0,3),dtype=object)\n",
    "\n",
    "    for i in range(ep1_3d.shape[0]):\n",
    "        VectorSoEp= ep1_3d[i]-soma #calculate the vector from soma to endpoint\n",
    "        for s in range(nPoint):\n",
    "            DendPoint= np.array(soma+ VectorSoEp/nPoint*s) # vector soma + vectorsomaendpoint shortened\n",
    "            DendPointAll = np.vstack((DendPointAll,DendPoint))\n",
    "            \n",
    "    return DendPointAll\n",
    "\n",
    "DendPointAll=generate_DendPoint_3d(somas[0], ep1_3d)\n"
   ]
  },
  {
   "cell_type": "code",
   "execution_count": null,
   "metadata": {},
   "outputs": [],
   "source": [
    "fig = plt.figure(figsize=(5,5))\n",
    "ax = fig.add_subplot(111, projection='3d')\n",
    "ax.plot(somas[0,0], somas[0,1], somas[0,2],'or')\n",
    "ax.plot(ep1_3d[:,0], ep1_3d[:,1], ep1_3d[:,2],'ok')\n",
    "#ax.plot(DendPoint[0], DendPoint[1],DendPoint[2],\"oc\", markersize=3)\n",
    "ax.plot(DendPointAll[:,0], DendPointAll[:,1],DendPointAll[:,2],\"oc\", markersize=3)\n",
    "\n",
    "\n",
    "\n",
    "\n",
    "for ii in trange(0,360,1):\n",
    "    ax.view_init(elev=5., azim=ii)\n",
    "    plt.savefig(\"movie_figs/movie%d.png\" % ii)"
   ]
  },
  {
   "cell_type": "code",
   "execution_count": null,
   "metadata": {},
   "outputs": [],
   "source": []
  },
  {
   "cell_type": "code",
   "execution_count": null,
   "metadata": {},
   "outputs": [],
   "source": [
    "##generate endpoints around respective somas\n",
    "DendPointAllAll=np.empty((0,3), dtype=object) #empty array for dendrites\n",
    "\n",
    "\n",
    "for s in range(somas.shape[0]):\n",
    "    soma = somas[s]\n",
    "    DendPointAll=(generate_DendPoint_3d(soma,ep1_3d_All[s*4:(s+1)*4]))\n",
    "    \n",
    "    DendPointAllAll = np.vstack((DendPointAllAll, DendPointAll))\n"
   ]
  },
  {
   "cell_type": "code",
   "execution_count": null,
   "metadata": {},
   "outputs": [],
   "source": [
    "fig = plt.figure(figsize=(10,10))\n",
    "ax = fig.add_subplot(111, projection='3d')\n",
    "ax.plot(somas[:8,0], somas[:8,1], somas[:8,2],'og')\n",
    "ax.plot(ep1_3d_All[:32,0], ep1_3d_All[:32,1], ep1_3d_All[:32,2],'oc')\n",
    "#ax.plot(DendPoint[0], DendPoint[1],DendPoint[2],\"oc\", markersize=3)\n",
    "ax.plot(DendPointAllAll[:2880,0], DendPointAllAll[:2880,1],DendPointAllAll[:2880,2],\"ok\", markersize=1)\n",
    "\n",
    "#for ii in trange(0,360,1):\n",
    " #   ax.view_init(elev=5., azim=ii)\n",
    "  #  plt.savefig(\"movie_figs/movie%d.png\" % ii)"
   ]
  },
  {
   "cell_type": "code",
   "execution_count": null,
   "metadata": {},
   "outputs": [],
   "source": [
    "!open ."
   ]
  },
  {
   "cell_type": "code",
   "execution_count": null,
   "metadata": {},
   "outputs": [],
   "source": [
    "DendPointAllAll.shape"
   ]
  },
  {
   "cell_type": "markdown",
   "metadata": {},
   "source": [
    "## Adding ID of Soma and Endpoints"
   ]
  },
  {
   "cell_type": "code",
   "execution_count": null,
   "metadata": {},
   "outputs": [],
   "source": [
    "def adding_SomaID_to_Epoint(ep1_3d_All, somas):\n",
    "    \"\"\"Adding Number of Soma to respective Endpoints\"\"\"\n",
    "    ep1_3d_All_ID = np.zeros((ep1_3d_All.shape[0],4))\n",
    "    ep1_3d_All_ID[:,:3] = ep1_3d_All\n",
    "    for i in range(somas.shape[0]):\n",
    "        ep1_3d_All_ID[i*4:(i+1)*4,3] =i\n",
    "        \n",
    "    return ep1_3d_All_ID\n",
    "\n",
    "ep1_3d_All_ID= adding_SomaID_to_Epoint(ep1_3d_All, somas)"
   ]
  },
  {
   "cell_type": "code",
   "execution_count": null,
   "metadata": {},
   "outputs": [],
   "source": [
    "ep1_3d_All_ID[-4:-1]"
   ]
  },
  {
   "cell_type": "code",
   "execution_count": null,
   "metadata": {},
   "outputs": [],
   "source": [
    "def adding_EPointID_to_Dpoint(DendPointAllAll, ep1_3d_All):\n",
    "    \"\"\"Adding Number of Epoint to respective Dendritic Points\"\"\"\n",
    "    DendPointAllAll_ID = np.zeros((DendPointAllAll.shape[0],4))\n",
    "    DendPointAllAll_ID[:,:3] = DendPointAllAll\n",
    "    for i in range(ep1_3d_All.shape[0]):\n",
    "        DendPointAllAll_ID[i*240:(i+1)*240,3] =i\n",
    "        \n",
    "    return DendPointAllAll_ID\n",
    "\n",
    "DendPointAllAll_ID= adding_EPointID_to_Dpoint(DendPointAllAll, ep1_3d_All)"
   ]
  },
  {
   "cell_type": "code",
   "execution_count": null,
   "metadata": {},
   "outputs": [],
   "source": [
    "DendPointAllAll_ID.shape"
   ]
  },
  {
   "cell_type": "code",
   "execution_count": 2,
   "metadata": {},
   "outputs": [
    {
     "name": "stdout",
     "output_type": "stream",
     "text": [
      "/Users/reuschenbachjosefine\n"
     ]
    }
   ],
   "source": [
    "cd"
   ]
  },
  {
   "cell_type": "code",
   "execution_count": null,
   "metadata": {},
   "outputs": [],
   "source": []
  },
  {
   "cell_type": "code",
   "execution_count": null,
   "metadata": {},
   "outputs": [],
   "source": []
  },
  {
   "cell_type": "markdown",
   "metadata": {},
   "source": [
    "## Generate AXON"
   ]
  },
  {
   "cell_type": "code",
   "execution_count": 3,
   "metadata": {},
   "outputs": [
    {
     "name": "stdout",
     "output_type": "stream",
     "text": [
      "/Users/reuschenbachjosefine/ComputationalNeuroscienceUnit/pycabnn-MLI\n"
     ]
    }
   ],
   "source": [
    "cd ComputationalNeuroscienceUnit/pycabnn-MLI/"
   ]
  },
  {
   "cell_type": "code",
   "execution_count": 4,
   "metadata": {},
   "outputs": [],
   "source": [
    "soma = np.zeros((60,3))\n",
    "somas = np.array([np.random.uniform(-600,600,3) for i in soma]) # cos=x; sin=y\n",
    "#somas[:,0] = np.random.uniform(-600, 600, size=60)\n",
    "somas[:,1] = np.random.uniform(20, 180, size=60)"
   ]
  },
  {
   "cell_type": "code",
   "execution_count": 5,
   "metadata": {},
   "outputs": [],
   "source": [
    "n_axonterm = 100\n",
    "sigma_transv = 15\n",
    "def axon_generation(somas):\n",
    "    AxonsAll=np.empty((0,3), dtype=object) #empty array for axons\n",
    "    for i in range(somas.shape[0]):\n",
    "        center=somas[i]\n",
    "        axons = np.zeros((100,3))\n",
    "        axons = np.array([np.random.uniform((center-200),(center+200),3) for i in axons]) # cos=x; sin=y\n",
    "#         axons[:,0] = np.random.uniform((center[0]-200),(center[0]+200), size=100)\n",
    "#         axons[:,1] = np.random.uniform((center[1]-200),(center[1]+200), size=100)\n",
    "#         axons[:,2] = np.random.uniform((center[2]-200),(center[2]+200), size=100)\n",
    "        axons[:,0] = np.random.randn(n_axonterm)*sigma_transv + center[0]\n",
    "        axons[:,1] =np.random.randn(n_axonterm)*sigma_transv + center[1]\n",
    "        axons[:,2] = np.random.randn(n_axonterm)*sigma_transv + center[2]\n",
    "\n",
    "        AxonsAll = np.append(AxonsAll, axons, axis=0)\n",
    "        \n",
    "    return(AxonsAll)\n",
    "    \n",
    "AxonsAll= axon_generation(somas)\n",
    "\n"
   ]
  },
  {
   "cell_type": "code",
   "execution_count": 124,
   "metadata": {},
   "outputs": [],
   "source": [
    "#check if out of Layer Plus correction (z-Axis) PLUS correction\n",
    "def axon_correct(somas, AxonsAll):\n",
    "    outPlus=[]\n",
    "    outMinus=[]\n",
    "    upperLimit=max(somas[:,2])+10\n",
    "    lowerLimit=min(somas[:,2])-10\n",
    "    AxonsAllNew=np.zeros_like(AxonsAll)\n",
    "    AxonsAllNew[:,0:3]=AxonsAll[:,0:3]\n",
    "    for i in range(AxonsAll.shape[0]):\n",
    "    \n",
    "        if AxonsAll[i,2]>upperLimit:\n",
    "            outPlus.append(i)\n",
    "            AxonsAllNew[i,2]= upperLimit-np.random.uniform(0,(max(somas[:,2])-min(somas[:,2])))\n",
    "                    \n",
    "        elif AxonsAll[i,2]< lowerLimit:\n",
    "            outMinus.append(i)\n",
    "            AxonsAllNew[i,2]= lowerLimit+np.random.uniform(0, (max(somas[:,2])-min(somas[:,2])))\n",
    "            \n",
    "    return(AxonsAllNew, outMinus, outPlus)\n",
    "        \n",
    "AxonsAllNew, outMinus, outPlus= axon_correct(somas, AxonsAll)"
   ]
  },
  {
   "cell_type": "code",
   "execution_count": null,
   "metadata": {},
   "outputs": [],
   "source": []
  },
  {
   "cell_type": "code",
   "execution_count": 111,
   "metadata": {},
   "outputs": [],
   "source": [
    "#CONTROL check if out of Layer Plus correction (z-Axis)\n",
    "outPlusC=[]\n",
    "outMinusC=[]\n",
    "upperLimit=max(somas[:,2])+10\n",
    "lowerLimit=min(somas[:,2])-10\n",
    "for i in range(AxonsAllNew.shape[0]):\n",
    "    #print(i)\n",
    "    if AxonsAllNew[i,2]>upperLimit:\n",
    "        outPlusC.append(i)                \n",
    "    elif AxonsAllNew[i,2]< lowerLimit:\n",
    "        outMinusC.append(i)\n",
    "        "
   ]
  },
  {
   "cell_type": "code",
   "execution_count": null,
   "metadata": {},
   "outputs": [],
   "source": []
  },
  {
   "cell_type": "code",
   "execution_count": null,
   "metadata": {},
   "outputs": [],
   "source": []
  },
  {
   "cell_type": "code",
   "execution_count": 24,
   "metadata": {},
   "outputs": [
    {
     "name": "stdout",
     "output_type": "stream",
     "text": [
      "520.2975460497441 -598.3415682849335\n"
     ]
    }
   ],
   "source": [
    "print(max(somas[:,2]), min(somas[:,2]))"
   ]
  },
  {
   "cell_type": "code",
   "execution_count": 116,
   "metadata": {},
   "outputs": [
    {
     "name": "stdout",
     "output_type": "stream",
     "text": [
      "#Axons out at upper layer: 21 , #Axons out at lower layer: 34 In total Out: 55 , From overall: 6000\n"
     ]
    }
   ],
   "source": [
    "print(\"#Axons out at upper layer:\",len(outPlus),\n",
    "      \", #Axons out at lower layer:\", len(outMinus),\n",
    "     \"In total Out:\" ,(len(outPlus)+len(outMinus)),\n",
    "     \", From overall:\", AxonsAll.shape[0] )"
   ]
  },
  {
   "cell_type": "code",
   "execution_count": 26,
   "metadata": {},
   "outputs": [],
   "source": [
    "#Find coordinated which have been changed\n",
    "AxOutCoordAll=np.empty((0,3), dtype=object)\n",
    "for i in range(len(outPlus)):\n",
    "    AxOutCoord = AxonsAll[outPlus[i]]\n",
    "    AxOutCoordAll = np.vstack((AxOutCoordAll, AxOutCoord))\n",
    "    \n",
    "    \n",
    "for i in range(len(outMinus)):\n",
    "    AxOutCoord = AxonsAll[outMinus[i]]\n",
    "    AxOutCoordAll = np.vstack((AxOutCoordAll, AxOutCoord))\n",
    "    \n",
    "\n",
    "\n",
    "    "
   ]
  },
  {
   "cell_type": "code",
   "execution_count": 36,
   "metadata": {},
   "outputs": [
    {
     "data": {
      "text/plain": [
       "[2477,\n",
       " 2484,\n",
       " 2494,\n",
       " 2700,\n",
       " 2701,\n",
       " 2709,\n",
       " 2710,\n",
       " 2712,\n",
       " 2716,\n",
       " 2717,\n",
       " 2721,\n",
       " 2723,\n",
       " 2725,\n",
       " 2732,\n",
       " 2739,\n",
       " 2747,\n",
       " 2750,\n",
       " 2751,\n",
       " 2753,\n",
       " 2754,\n",
       " 2755,\n",
       " 2757,\n",
       " 2760,\n",
       " 2761,\n",
       " 2762,\n",
       " 2763,\n",
       " 2766,\n",
       " 2771,\n",
       " 2776,\n",
       " 2779,\n",
       " 2783,\n",
       " 2784,\n",
       " 2794,\n",
       " 2795]"
      ]
     },
     "execution_count": 36,
     "metadata": {},
     "output_type": "execute_result"
    }
   ],
   "source": [
    "outMinus"
   ]
  },
  {
   "cell_type": "code",
   "execution_count": 27,
   "metadata": {},
   "outputs": [
    {
     "data": {
      "text/plain": [
       "520.2975460497441"
      ]
     },
     "execution_count": 27,
     "metadata": {},
     "output_type": "execute_result"
    }
   ],
   "source": [
    "max(somas[:,2])"
   ]
  },
  {
   "cell_type": "code",
   "execution_count": 28,
   "metadata": {},
   "outputs": [
    {
     "name": "stdout",
     "output_type": "stream",
     "text": [
      "530.2975460497441\n",
      "-608.3415682849335\n"
     ]
    }
   ],
   "source": [
    "print(upperLimit)\n",
    "print(lowerLimit)"
   ]
  },
  {
   "cell_type": "code",
   "execution_count": 29,
   "metadata": {},
   "outputs": [
    {
     "data": {
      "text/plain": [
       "-640.8630585505558"
      ]
     },
     "execution_count": 29,
     "metadata": {},
     "output_type": "execute_result"
    }
   ],
   "source": [
    "min(AxOutCoordAll[:,2])"
   ]
  },
  {
   "cell_type": "code",
   "execution_count": 30,
   "metadata": {},
   "outputs": [
    {
     "data": {
      "text/plain": [
       "(55, 3)"
      ]
     },
     "execution_count": 30,
     "metadata": {},
     "output_type": "execute_result"
    }
   ],
   "source": [
    "AxOutCoordAll.shape\n"
   ]
  },
  {
   "cell_type": "code",
   "execution_count": null,
   "metadata": {},
   "outputs": [],
   "source": []
  },
  {
   "cell_type": "code",
   "execution_count": 118,
   "metadata": {},
   "outputs": [
    {
     "name": "stderr",
     "output_type": "stream",
     "text": [
      "100%|██████████| 360/360 [00:36<00:00,  9.94it/s]\n"
     ]
    },
    {
     "data": {
      "image/png": "[encoded data removed]",
      "text/plain": [
       "<Figure size 720x720 with 1 Axes>"
      ]
     },
     "metadata": {
      "needs_background": "light"
     },
     "output_type": "display_data"
    }
   ],
   "source": [
    "fig = plt.figure(figsize=(10,10))\n",
    "ax = fig.add_subplot(111, projection='3d')\n",
    "#ax.plot(AxonsAll[:,0], AxonsAll[:,1], AxonsAll[:,2],'og')\n",
    "ax.plot(somas[:,0], somas[:,1], somas[:,2],'ob')\n",
    "#ax.plot(somas[:,0]+200, somas[:,1]+200, somas[:,2]+200,'oc')#borders\n",
    "#ax.plot(somas[:,0]-200, somas[:,1]-200, somas[:,2]-200,'oc')#borders\n",
    "ax.plot(AxOutCoordAll[:,0], AxOutCoordAll[:,1], AxOutCoordAll[:,2],'oc')\n",
    "ax.plot(AxonsAllNew[:,0], AxonsAllNew[:,1], AxonsAllNew[:,2],'og')\n",
    "\n",
    "\n",
    "\n",
    "for ii in trange(0,360,1):\n",
    "    ax.view_init(elev=5., azim=ii)\n",
    "    plt.savefig(\"movie_figs/movie%d.png\" % ii)"
   ]
  },
  {
   "cell_type": "code",
   "execution_count": 32,
   "metadata": {},
   "outputs": [
    {
     "name": "stdout",
     "output_type": "stream",
     "text": [
      "[-112.09245757  101.34407506  260.65656836]\n"
     ]
    },
    {
     "data": {
      "image/png": "[encoded data removed]",
      "text/plain": [
       "<Figure size 720x720 with 1 Axes>"
      ]
     },
     "metadata": {
      "needs_background": "light"
     },
     "output_type": "display_data"
    }
   ],
   "source": [
    "fig = plt.figure(figsize=(10,10))\n",
    "ax = fig.add_subplot(111, projection='3d')\n",
    "ax.plot(AxonsAll[0:100,0], AxonsAll[0:100,1], AxonsAll[0:100,2],'og')\n",
    "ax.plot(somas[0:1,0], somas[0:1,1], somas[0:1,2],'ob')\n",
    "ax.plot(somas[0:1,0]+200, somas[0:1,1]+200, somas[0:1,2]+200,'oc')\n",
    "ax.plot(somas[0:1,0]-200, somas[0:1,1]-200, somas[0:1,2]-200,'oc')\n",
    "\n",
    "\n",
    "\n",
    "print(somas[0])"
   ]
  },
  {
   "cell_type": "code",
   "execution_count": 16,
   "metadata": {},
   "outputs": [
    {
     "data": {
      "image/png": "[encoded data removed]",
      "text/plain": [
       "<Figure size 432x288 with 1 Axes>"
      ]
     },
     "metadata": {
      "needs_background": "light"
     },
     "output_type": "display_data"
    }
   ],
   "source": [
    "plt.hist(AxonsAll[:,0],50);\n",
    "plt.hist(AxonsAll[:,2],50);\n",
    "plt.hist(AxonsAll[:,1],50);\n",
    "\n",
    "\n",
    "\n"
   ]
  },
  {
   "cell_type": "code",
   "execution_count": 120,
   "metadata": {},
   "outputs": [
    {
     "data": {
      "image/png": "[encoded data removed]",
      "text/plain": [
       "<Figure size 432x288 with 1 Axes>"
      ]
     },
     "metadata": {
      "needs_background": "light"
     },
     "output_type": "display_data"
    }
   ],
   "source": [
    "plt.hist(AxonsAllNew[:,0],50);\n",
    "plt.hist(AxonsAllNew[:,2],50);\n",
    "plt.hist(AxonsAllNew[:,1],50);\n"
   ]
  },
  {
   "cell_type": "code",
   "execution_count": 123,
   "metadata": {},
   "outputs": [
    {
     "data": {
      "image/png": "[encoded data removed]",
      "text/plain": [
       "<Figure size 432x288 with 1 Axes>"
      ]
     },
     "metadata": {
      "needs_background": "light"
     },
     "output_type": "display_data"
    }
   ],
   "source": [
    "plt.hist(AxonsAllNew[:,2],100);\n",
    "plt.hist(AxonsAll[:,2],100);"
   ]
  },
  {
   "cell_type": "code",
   "execution_count": 17,
   "metadata": {},
   "outputs": [
    {
     "data": {
      "image/png": "[encoded data removed]",
      "text/plain": [
       "<Figure size 432x288 with 1 Axes>"
      ]
     },
     "metadata": {
      "needs_background": "light"
     },
     "output_type": "display_data"
    }
   ],
   "source": [
    "nsamples = np.random.randn(1000)\n",
    "plt.hist(nsamples,100);"
   ]
  },
  {
   "cell_type": "code",
   "execution_count": null,
   "metadata": {},
   "outputs": [],
   "source": []
  },
  {
   "cell_type": "code",
   "execution_count": null,
   "metadata": {},
   "outputs": [],
   "source": []
  },
  {
   "cell_type": "code",
   "execution_count": null,
   "metadata": {},
   "outputs": [],
   "source": []
  },
  {
   "cell_type": "code",
   "execution_count": null,
   "metadata": {},
   "outputs": [],
   "source": []
  },
  {
   "cell_type": "code",
   "execution_count": null,
   "metadata": {},
   "outputs": [],
   "source": []
  },
  {
   "cell_type": "code",
   "execution_count": null,
   "metadata": {},
   "outputs": [],
   "source": []
  },
  {
   "cell_type": "code",
   "execution_count": null,
   "metadata": {},
   "outputs": [],
   "source": []
  },
  {
   "cell_type": "code",
   "execution_count": null,
   "metadata": {},
   "outputs": [],
   "source": []
  },
  {
   "cell_type": "code",
   "execution_count": null,
   "metadata": {},
   "outputs": [],
   "source": []
  },
  {
   "cell_type": "code",
   "execution_count": null,
   "metadata": {},
   "outputs": [],
   "source": []
  },
  {
   "cell_type": "code",
   "execution_count": null,
   "metadata": {},
   "outputs": [],
   "source": []
  },
  {
   "cell_type": "code",
   "execution_count": null,
   "metadata": {},
   "outputs": [],
   "source": []
  },
  {
   "cell_type": "code",
   "execution_count": null,
   "metadata": {},
   "outputs": [],
   "source": []
  },
  {
   "cell_type": "code",
   "execution_count": null,
   "metadata": {},
   "outputs": [],
   "source": []
  },
  {
   "cell_type": "code",
   "execution_count": null,
   "metadata": {},
   "outputs": [],
   "source": []
  },
  {
   "cell_type": "code",
   "execution_count": null,
   "metadata": {},
   "outputs": [],
   "source": []
  },
  {
   "cell_type": "code",
   "execution_count": null,
   "metadata": {},
   "outputs": [],
   "source": []
  },
  {
   "cell_type": "code",
   "execution_count": null,
   "metadata": {},
   "outputs": [],
   "source": []
  },
  {
   "cell_type": "code",
   "execution_count": null,
   "metadata": {},
   "outputs": [],
   "source": []
  },
  {
   "cell_type": "code",
   "execution_count": null,
   "metadata": {},
   "outputs": [],
   "source": []
  },
  {
   "cell_type": "code",
   "execution_count": null,
   "metadata": {},
   "outputs": [],
   "source": []
  },
  {
   "cell_type": "code",
   "execution_count": null,
   "metadata": {},
   "outputs": [],
   "source": []
  },
  {
   "cell_type": "markdown",
   "metadata": {},
   "source": [
    "## Running script with Neuron"
   ]
  },
  {
   "cell_type": "code",
   "execution_count": null,
   "metadata": {},
   "outputs": [],
   "source": [
    "cd ComputationalNeuroscienceUnit/pycabnn-MLI/"
   ]
  },
  {
   "cell_type": "code",
   "execution_count": null,
   "metadata": {},
   "outputs": [],
   "source": [
    "soma = np.zeros((60,3))\n",
    "somas = np.array([np.random.uniform(-600,600,3) for i in soma]) # cos=x; sin=y\n",
    "somas[:,0] = np.random.uniform(-600, 600, size=60)\n",
    "somas[:,1] = np.random.uniform(20, 180, size=60)\n",
    "\n",
    "\n",
    "print(\"We generated\", len(somas), \"somas.\")"
   ]
  },
  {
   "cell_type": "code",
   "execution_count": null,
   "metadata": {},
   "outputs": [],
   "source": [
    "somas.shape"
   ]
  },
  {
   "cell_type": "code",
   "execution_count": null,
   "metadata": {},
   "outputs": [],
   "source": [
    "%load_ext autoreload\n",
    "%autoreload 2"
   ]
  },
  {
   "cell_type": "code",
   "execution_count": null,
   "metadata": {},
   "outputs": [],
   "source": [
    "import pycabnn.cell_population as pop"
   ]
  },
  {
   "cell_type": "code",
   "execution_count": null,
   "metadata": {},
   "outputs": [],
   "source": [
    "from neuron import h\n",
    "h.load_file('test_data/params/Parameters.hoc')"
   ]
  },
  {
   "cell_type": "code",
   "execution_count": null,
   "metadata": {},
   "outputs": [],
   "source": [
    "h.MLI_dend_length"
   ]
  },
  {
   "cell_type": "code",
   "execution_count": null,
   "metadata": {},
   "outputs": [],
   "source": [
    "mlipop = pop.MLI_pop(h)"
   ]
  },
  {
   "cell_type": "code",
   "execution_count": null,
   "metadata": {},
   "outputs": [],
   "source": [
    "type(mlipop)"
   ]
  },
  {
   "cell_type": "code",
   "execution_count": null,
   "metadata": {
    "scrolled": true
   },
   "outputs": [],
   "source": [
    "dir(mlipop)"
   ]
  },
  {
   "cell_type": "code",
   "execution_count": null,
   "metadata": {},
   "outputs": [],
   "source": [
    "DendPointAllAll, dendpt_ids_all, segs = mlipop.gen_dendrite(somas, return_end_points=False)"
   ]
  },
  {
   "cell_type": "code",
   "execution_count": null,
   "metadata": {},
   "outputs": [],
   "source": [
    "21600/4/90"
   ]
  },
  {
   "cell_type": "code",
   "execution_count": null,
   "metadata": {},
   "outputs": [],
   "source": [
    "fig = plt.figure(figsize=(10,10))\n",
    "ax = fig.add_subplot(111, projection='3d')\n",
    "# ax.plot(somas[0,0], somas[0,1], somas[0,2],'og')\n",
    "\n",
    "for i in range(90*4,90*4*2):\n",
    "    if segs[i,1]== 0:\n",
    "        ax.plot(DendPointAllAll[i,0], DendPointAllAll[i,1],DendPointAllAll[i,2],\"or\", markersize=1)\n",
    "    else:\n",
    "        ax.plot(DendPointAllAll[i,0], DendPointAllAll[i,1],DendPointAllAll[i,2],\"ok\", markersize=1)"
   ]
  },
  {
   "cell_type": "code",
   "execution_count": null,
   "metadata": {},
   "outputs": [],
   "source": [
    "segs[:(360+360):45,:]\n",
    "segs[:(90),:]"
   ]
  },
  {
   "cell_type": "code",
   "execution_count": null,
   "metadata": {},
   "outputs": [],
   "source": []
  },
  {
   "cell_type": "code",
   "execution_count": null,
   "metadata": {},
   "outputs": [],
   "source": [
    "DendPointAllAll.shape, dendpt_ids_all.shape, segs.shape"
   ]
  },
  {
   "cell_type": "code",
   "execution_count": null,
   "metadata": {},
   "outputs": [],
   "source": [
    "import os\n",
    "x = np.arange(10)\n",
    "y = np.arange(11, 20)\n",
    "print(\"Original arrays:\")\n",
    "print(x)\n",
    "print(y)\n",
    "np.savez('temp_arra.npz', x=x, y=y)\n",
    "print(\"Load arrays from the 'temp_arra.npz' file:\")\n",
    "with np.load('temp_arra.npz') as data:\n",
    "    x2 = data['x']\n",
    "    y2 = data['y']\n",
    "    print(x2)\n",
    "    print(y2)"
   ]
  },
  {
   "cell_type": "code",
   "execution_count": null,
   "metadata": {},
   "outputs": [],
   "source": [
    "ls"
   ]
  },
  {
   "cell_type": "code",
   "execution_count": null,
   "metadata": {},
   "outputs": [],
   "source": []
  }
 ],
 "metadata": {
  "kernelspec": {
   "display_name": "Python 3",
   "language": "python",
   "name": "python3"
  },
  "language_info": {
   "codemirror_mode": {
    "name": "ipython",
    "version": 3
   },
   "file_extension": ".py",
   "mimetype": "text/x-python",
   "name": "python",
   "nbconvert_exporter": "python",
   "pygments_lexer": "ipython3",
   "version": "3.8.5"
  }
 },
 "nbformat": 4,
 "nbformat_minor": 4
}
