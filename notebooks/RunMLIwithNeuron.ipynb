{
 "cells": [
  {
   "cell_type": "code",
   "execution_count": 1,
   "metadata": {},
   "outputs": [],
   "source": [
    "import numpy as np\n",
    "from tqdm import tqdm\n",
    "import matplotlib.pyplot as plt\n",
    "import random #generating negative random numbers\n",
    "\n",
    "from mpl_toolkits.mplot3d import Axes3D # for 3D visualization\n",
    "\n",
    "from tqdm import tqdm, trange #loading status\n",
    "\n",
    "\n"
   ]
  },
  {
   "cell_type": "code",
   "execution_count": 2,
   "metadata": {},
   "outputs": [],
   "source": [
    "%load_ext autoreload\n",
    "%autoreload 2"
   ]
  },
  {
   "cell_type": "code",
   "execution_count": 3,
   "metadata": {},
   "outputs": [
    {
     "name": "stdout",
     "output_type": "stream",
     "text": [
      "/Users/reuschenbachjosefine\n"
     ]
    }
   ],
   "source": [
    "cd"
   ]
  },
  {
   "cell_type": "code",
   "execution_count": 4,
   "metadata": {},
   "outputs": [
    {
     "name": "stdout",
     "output_type": "stream",
     "text": [
      "/Users/reuschenbachjosefine/ComputationalNeuroscienceUnit/pycabnn-MLI\n"
     ]
    }
   ],
   "source": [
    "cd ComputationalNeuroscienceUnit/pycabnn-MLI"
   ]
  },
  {
   "cell_type": "code",
   "execution_count": 5,
   "metadata": {},
   "outputs": [
    {
     "name": "stdout",
     "output_type": "stream",
     "text": [
      "LICENSE.txt                    \u001b[34mpycabnn\u001b[m\u001b[m/\n",
      "README.md                      requirements.txt\n",
      "SnipsForEPointOnSphere.ipynb   \u001b[31mrun_connector.py\u001b[m\u001b[m*\n",
      "environment.yml                \u001b[31mrun_connector_MLI.py\u001b[m\u001b[m*\n",
      "\u001b[31mgenerate_cell_position.py\u001b[m\u001b[m*     start_ipcluster.sh\n",
      "\u001b[31mgenerate_cell_position_mli.py\u001b[m\u001b[m* temp_arra.npz\n",
      "\u001b[34mmovie_figs\u001b[m\u001b[m/                    \u001b[34mtest_data\u001b[m\u001b[m/\n",
      "\u001b[34mmovie_figs_1\u001b[m\u001b[m/                  testsave.npz\n",
      "\u001b[34mnotebooks\u001b[m\u001b[m/                     \u001b[31munpack_db.py\u001b[m\u001b[m*\n",
      "optional-requirements.txt\n"
     ]
    }
   ],
   "source": [
    "ls"
   ]
  },
  {
   "cell_type": "code",
   "execution_count": 6,
   "metadata": {},
   "outputs": [
    {
     "data": {
      "text/plain": [
       "array([[ 260.49691676,  240.67988039,  322.96117708],\n",
       "       [1465.06295851,  597.04816666,  306.79052032],\n",
       "       [ 472.20029745,  592.2483781 ,  291.51042226],\n",
       "       [ 244.05444309,  228.43872702,  407.48067531],\n",
       "       [ 431.83855078,  462.50694568,  413.37245933]])"
      ]
     },
     "execution_count": 6,
     "metadata": {},
     "output_type": "execute_result"
    }
   ],
   "source": [
    "somas=np.loadtxt(\"test_data/MLI_20000/MLIcoordinates.dat\")\n",
    "# somas = somas['mli']\n",
    "somas[:5]"
   ]
  },
  {
   "cell_type": "code",
   "execution_count": 7,
   "metadata": {},
   "outputs": [
    {
     "name": "stderr",
     "output_type": "stream",
     "text": [
      "/Users/reuschenbachjosefine/ComputationalNeuroscienceUnit/pycabnn-MLI/pycabnn/connector.py:13: TqdmExperimentalWarning: Using `tqdm.autonotebook.tqdm` in notebook mode. Use `tqdm.tqdm` instead to force console mode (e.g. in jupyter console)\n",
      "  from tqdm.autonotebook import tqdm\n"
     ]
    }
   ],
   "source": [
    "import pycabnn.generate_cell_position_mli as pop"
   ]
  },
  {
   "cell_type": "code",
   "execution_count": 8,
   "metadata": {},
   "outputs": [
    {
     "name": "stdout",
     "output_type": "stream",
     "text": [
      "Nseg for APical is 5 and Basal is 3\n",
      "\t36 \n"
     ]
    },
    {
     "data": {
      "text/plain": [
       "1.0"
      ]
     },
     "execution_count": 8,
     "metadata": {},
     "output_type": "execute_result"
    }
   ],
   "source": [
    "from neuron import h\n",
    "h.load_file('test_data/params/Parameters.hoc')"
   ]
  },
  {
   "cell_type": "code",
   "execution_count": 9,
   "metadata": {},
   "outputs": [],
   "source": [
    "import pycabnn.cell_population as pop"
   ]
  },
  {
   "cell_type": "code",
   "execution_count": 10,
   "metadata": {},
   "outputs": [],
   "source": [
    "mlipop = pop.MLI_pop(h)"
   ]
  },
  {
   "cell_type": "code",
   "execution_count": 11,
   "metadata": {},
   "outputs": [],
   "source": [
    "mlipop.load_somata(somas)"
   ]
  },
  {
   "cell_type": "code",
   "execution_count": 12,
   "metadata": {},
   "outputs": [],
   "source": [
    "mlipop.load_data('testsave.npz')"
   ]
  },
  {
   "cell_type": "markdown",
   "metadata": {},
   "source": [
    "#### Import npz file and check attributes"
   ]
  },
  {
   "cell_type": "code",
   "execution_count": 23,
   "metadata": {},
   "outputs": [
    {
     "name": "stdout",
     "output_type": "stream",
     "text": [
      "/Users/reuschenbachjosefine\n"
     ]
    }
   ],
   "source": [
    "cd .."
   ]
  },
  {
   "cell_type": "code",
   "execution_count": 24,
   "metadata": {},
   "outputs": [
    {
     "name": "stdout",
     "output_type": "stream",
     "text": [
      "/Users/reuschenbachjosefine/ComputationalNeuroscienceUnit/pycabnn-MLI\n"
     ]
    }
   ],
   "source": [
    "cd ComputationalNeuroscienceUnit/pycabnn-MLI\n"
   ]
  },
  {
   "cell_type": "code",
   "execution_count": 25,
   "metadata": {},
   "outputs": [],
   "source": [
    "MLI=np.load(\"test_data/MLI_20000/MLIdata_20210705.npz\", mmap_mode='r')"
   ]
  },
  {
   "cell_type": "code",
   "execution_count": 26,
   "metadata": {},
   "outputs": [
    {
     "name": "stdout",
     "output_type": "stream",
     "text": [
      "dendpoints\n",
      "segments\n",
      "ids\n"
     ]
    }
   ],
   "source": [
    "for k in MLI.files:\n",
    "    print(k)"
   ]
  },
  {
   "cell_type": "code",
   "execution_count": 27,
   "metadata": {},
   "outputs": [],
   "source": [
    "DendPointAllAll= MLI[\"dendpoints\"]\n",
    "segs_all= MLI[\"segments\"]\n",
    "dendpt_ids_all= MLI[\"ids\"]"
   ]
  },
  {
   "cell_type": "code",
   "execution_count": 28,
   "metadata": {},
   "outputs": [
    {
     "data": {
      "text/plain": [
       "(7158600, 2)"
      ]
     },
     "execution_count": 28,
     "metadata": {},
     "output_type": "execute_result"
    }
   ],
   "source": [
    "segs_all.shape"
   ]
  },
  {
   "cell_type": "markdown",
   "metadata": {},
   "source": [
    "#### Query Point"
   ]
  },
  {
   "cell_type": "code",
   "execution_count": 29,
   "metadata": {},
   "outputs": [
    {
     "name": "stdout",
     "output_type": "stream",
     "text": [
      "/Users/reuschenbachjosefine\n"
     ]
    }
   ],
   "source": [
    "cd"
   ]
  },
  {
   "cell_type": "code",
   "execution_count": 30,
   "metadata": {},
   "outputs": [
    {
     "name": "stdout",
     "output_type": "stream",
     "text": [
      "/Users/reuschenbachjosefine/ComputationalNeuroscienceUnit/pycabnn-MLI/pycabnn\n"
     ]
    }
   ],
   "source": [
    "cd ComputationalNeuroscienceUnit/pycabnn-MLI/pycabnn/"
   ]
  },
  {
   "cell_type": "code",
   "execution_count": 31,
   "metadata": {},
   "outputs": [],
   "source": [
    "import util as util"
   ]
  },
  {
   "cell_type": "code",
   "execution_count": 32,
   "metadata": {},
   "outputs": [],
   "source": [
    "qpts = util.Query_point(DendPointAllAll, dendpt_ids_all, segs_all)"
   ]
  },
  {
   "cell_type": "code",
   "execution_count": 33,
   "metadata": {},
   "outputs": [],
   "source": [
    "dendpts100 = qpts.coo[qpts.idx<100,:]\n",
    "ids100 = qpts.idx[qpts.idx<100]\n",
    "seg100 = qpts.seg[qpts.idx<100,:]"
   ]
  },
  {
   "cell_type": "code",
   "execution_count": 34,
   "metadata": {},
   "outputs": [
    {
     "data": {
      "text/plain": [
       "(36000, 2)"
      ]
     },
     "execution_count": 34,
     "metadata": {},
     "output_type": "execute_result"
    }
   ],
   "source": [
    "seg100.shape"
   ]
  },
  {
   "cell_type": "code",
   "execution_count": null,
   "metadata": {},
   "outputs": [],
   "source": []
  },
  {
   "cell_type": "markdown",
   "metadata": {},
   "source": [
    "## Connector Results"
   ]
  },
  {
   "cell_type": "code",
   "execution_count": 35,
   "metadata": {},
   "outputs": [
    {
     "name": "stdout",
     "output_type": "stream",
     "text": [
      "/Users/reuschenbachjosefine/ComputationalNeuroscienceUnit/pycabnn-MLI\n"
     ]
    }
   ],
   "source": [
    "cd .."
   ]
  },
  {
   "cell_type": "code",
   "execution_count": 36,
   "metadata": {},
   "outputs": [
    {
     "name": "stdout",
     "output_type": "stream",
     "text": [
      "LICENSE.txt                    \u001b[34mpycabnn\u001b[m\u001b[m/\n",
      "README.md                      requirements.txt\n",
      "SnipsForEPointOnSphere.ipynb   \u001b[31mrun_connector.py\u001b[m\u001b[m*\n",
      "environment.yml                \u001b[31mrun_connector_MLI.py\u001b[m\u001b[m*\n",
      "\u001b[31mgenerate_cell_position.py\u001b[m\u001b[m*     start_ipcluster.sh\n",
      "\u001b[31mgenerate_cell_position_mli.py\u001b[m\u001b[m* temp_arra.npz\n",
      "\u001b[34mmovie_figs\u001b[m\u001b[m/                    \u001b[34mtest_data\u001b[m\u001b[m/\n",
      "\u001b[34mmovie_figs_1\u001b[m\u001b[m/                  testsave.npz\n",
      "\u001b[34mnotebooks\u001b[m\u001b[m/                     \u001b[31munpack_db.py\u001b[m\u001b[m*\n",
      "optional-requirements.txt\n"
     ]
    }
   ],
   "source": [
    "ls"
   ]
  },
  {
   "cell_type": "code",
   "execution_count": 37,
   "metadata": {},
   "outputs": [],
   "source": [
    "gc = np.loadtxt('test_data/cell_position/GCcoordinates.dat')"
   ]
  },
  {
   "cell_type": "code",
   "execution_count": 38,
   "metadata": {},
   "outputs": [],
   "source": [
    "import pandas as pd"
   ]
  },
  {
   "cell_type": "code",
   "execution_count": 39,
   "metadata": {},
   "outputs": [
    {
     "data": {
      "text/html": [
       "<div>\n",
       "<style scoped>\n",
       "    .dataframe tbody tr th:only-of-type {\n",
       "        vertical-align: middle;\n",
       "    }\n",
       "\n",
       "    .dataframe tbody tr th {\n",
       "        vertical-align: top;\n",
       "    }\n",
       "\n",
       "    .dataframe thead th {\n",
       "        text-align: right;\n",
       "    }\n",
       "</style>\n",
       "<table border=\"1\" class=\"dataframe\">\n",
       "  <thead>\n",
       "    <tr style=\"text-align: right;\">\n",
       "      <th></th>\n",
       "      <th>source</th>\n",
       "      <th>target</th>\n",
       "      <th>segment</th>\n",
       "      <th>branch</th>\n",
       "      <th>distance</th>\n",
       "    </tr>\n",
       "  </thead>\n",
       "  <tbody>\n",
       "    <tr>\n",
       "      <th>0</th>\n",
       "      <td>362237</td>\n",
       "      <td>0</td>\n",
       "      <td>1</td>\n",
       "      <td>0</td>\n",
       "      <td>124.820050</td>\n",
       "    </tr>\n",
       "    <tr>\n",
       "      <th>1</th>\n",
       "      <td>14223</td>\n",
       "      <td>0</td>\n",
       "      <td>1</td>\n",
       "      <td>0</td>\n",
       "      <td>217.820050</td>\n",
       "    </tr>\n",
       "    <tr>\n",
       "      <th>2</th>\n",
       "      <td>772002</td>\n",
       "      <td>0</td>\n",
       "      <td>1</td>\n",
       "      <td>0</td>\n",
       "      <td>168.820050</td>\n",
       "    </tr>\n",
       "    <tr>\n",
       "      <th>3</th>\n",
       "      <td>131434</td>\n",
       "      <td>0</td>\n",
       "      <td>1</td>\n",
       "      <td>0</td>\n",
       "      <td>204.820050</td>\n",
       "    </tr>\n",
       "    <tr>\n",
       "      <th>4</th>\n",
       "      <td>582204</td>\n",
       "      <td>0</td>\n",
       "      <td>1</td>\n",
       "      <td>0</td>\n",
       "      <td>210.820050</td>\n",
       "    </tr>\n",
       "    <tr>\n",
       "      <th>...</th>\n",
       "      <td>...</td>\n",
       "      <td>...</td>\n",
       "      <td>...</td>\n",
       "      <td>...</td>\n",
       "      <td>...</td>\n",
       "    </tr>\n",
       "    <tr>\n",
       "      <th>983587</th>\n",
       "      <td>271047</td>\n",
       "      <td>99</td>\n",
       "      <td>4</td>\n",
       "      <td>9</td>\n",
       "      <td>72.738357</td>\n",
       "    </tr>\n",
       "    <tr>\n",
       "      <th>983588</th>\n",
       "      <td>774330</td>\n",
       "      <td>99</td>\n",
       "      <td>4</td>\n",
       "      <td>9</td>\n",
       "      <td>81.738357</td>\n",
       "    </tr>\n",
       "    <tr>\n",
       "      <th>983589</th>\n",
       "      <td>711250</td>\n",
       "      <td>99</td>\n",
       "      <td>4</td>\n",
       "      <td>9</td>\n",
       "      <td>176.738357</td>\n",
       "    </tr>\n",
       "    <tr>\n",
       "      <th>983590</th>\n",
       "      <td>694731</td>\n",
       "      <td>99</td>\n",
       "      <td>4</td>\n",
       "      <td>9</td>\n",
       "      <td>162.738357</td>\n",
       "    </tr>\n",
       "    <tr>\n",
       "      <th>983591</th>\n",
       "      <td>611337</td>\n",
       "      <td>99</td>\n",
       "      <td>4</td>\n",
       "      <td>9</td>\n",
       "      <td>140.738357</td>\n",
       "    </tr>\n",
       "  </tbody>\n",
       "</table>\n",
       "<p>983592 rows × 5 columns</p>\n",
       "</div>"
      ],
      "text/plain": [
       "        source  target  segment  branch    distance\n",
       "0       362237       0        1       0  124.820050\n",
       "1        14223       0        1       0  217.820050\n",
       "2       772002       0        1       0  168.820050\n",
       "3       131434       0        1       0  204.820050\n",
       "4       582204       0        1       0  210.820050\n",
       "...        ...     ...      ...     ...         ...\n",
       "983587  271047      99        4       9   72.738357\n",
       "983588  774330      99        4       9   81.738357\n",
       "983589  711250      99        4       9  176.738357\n",
       "983590  694731      99        4       9  162.738357\n",
       "983591  611337      99        4       9  140.738357\n",
       "\n",
       "[983592 rows x 5 columns]"
      ]
     },
     "execution_count": 39,
     "metadata": {},
     "output_type": "execute_result"
    }
   ],
   "source": [
    "tb = pd.read_hdf('../connection_test_20210707/AAtoMLI.h5', \"connection\")\n",
    "tb"
   ]
  },
  {
   "cell_type": "code",
   "execution_count": 40,
   "metadata": {},
   "outputs": [
    {
     "data": {
      "text/plain": [
       "124.88786641906866"
      ]
     },
     "execution_count": 40,
     "metadata": {},
     "output_type": "execute_result"
    }
   ],
   "source": [
    "dist = np.sqrt((gc[362237,0]-dendpts100[0,0])**2 + \n",
    "               (gc[362237,1]-dendpts100[0,1])**2 + \n",
    "               (gc[362237,2]-dendpts100[0,2])**2)\n",
    "dist"
   ]
  },
  {
   "cell_type": "code",
   "execution_count": 41,
   "metadata": {},
   "outputs": [],
   "source": [
    "GCcellAll_001=[]\n",
    "for  i in range(len(tb.source)):\n",
    "    if (tb.target[i]==0) and (tb.branch[i]==0) and (tb.segment[i]==1): #segmeny is acutally branch \n",
    "        GCcell= [tb.source[i]]\n",
    "        #GCcellAll=np.append(GCcellAll, GCcell, axis=0)\n",
    "        #GCcellAll = np.vstack((GCcellAll,GCcell))\n",
    "        GCcellAll_001.extend(GCcell)\n",
    "\n",
    "\n",
    "\n"
   ]
  },
  {
   "cell_type": "code",
   "execution_count": 42,
   "metadata": {},
   "outputs": [],
   "source": [
    "GCcoor_All_001=np.empty((0,3), dtype=object)\n",
    "for i in range(len(GCcellAll_001)):\n",
    "    GCcoor_001=(gc[GCcellAll_001[i]])\n",
    "    GCcoor_All_001 = np.vstack((GCcoor_All_001 ,GCcoor_001))\n"
   ]
  },
  {
   "cell_type": "code",
   "execution_count": 43,
   "metadata": {},
   "outputs": [],
   "source": [
    "MLIcellAll_001=np.empty((0,3), dtype=object)\n",
    "\n",
    "for  i in range(len(dendpts100)):\n",
    "    if (ids100[i]==0) and (seg100[i,0]==1) and (seg100[i,1]==0):\n",
    "        MLIcell= np.array(dendpts100[i])\n",
    "        MLIcellAll_001 = np.vstack((MLIcellAll_001, MLIcell))\n",
    "\n",
    "\n"
   ]
  },
  {
   "cell_type": "code",
   "execution_count": 44,
   "metadata": {},
   "outputs": [
    {
     "data": {
      "text/plain": [
       "array([[1, 0],\n",
       "       [1, 0],\n",
       "       [1, 0],\n",
       "       ...,\n",
       "       [4, 9],\n",
       "       [4, 9],\n",
       "       [4, 9]])"
      ]
     },
     "execution_count": 44,
     "metadata": {},
     "output_type": "execute_result"
    }
   ],
   "source": [
    "seg100"
   ]
  },
  {
   "cell_type": "code",
   "execution_count": 45,
   "metadata": {},
   "outputs": [
    {
     "data": {
      "text/plain": [
       "array([ 260.49691676, 1465.06295851,  472.20029745, ...,  246.18660025,\n",
       "       1195.12771213, 1441.1328444 ])"
      ]
     },
     "execution_count": 45,
     "metadata": {},
     "output_type": "execute_result"
    }
   ],
   "source": [
    "somas[:,0]"
   ]
  },
  {
   "cell_type": "code",
   "execution_count": 46,
   "metadata": {},
   "outputs": [
    {
     "name": "stderr",
     "output_type": "stream",
     "text": [
      "100%|██████████| 360/360 [00:38<00:00,  9.31it/s]\n"
     ]
    },
    {
     "data": {
      "image/png": "[encoded data removed]",
      "text/plain": [
       "<Figure size 720x720 with 1 Axes>"
      ]
     },
     "metadata": {
      "needs_background": "light"
     },
     "output_type": "display_data"
    }
   ],
   "source": [
    "fig = plt.figure(figsize=(10,10))\n",
    "ax = fig.add_subplot(111, projection='3d')\n",
    "ax.plot(GCcoor_All_001[:,0], GCcoor_All_001[:,1], GCcoor_All_001[:,2],'og')\n",
    "ax.plot(somas[0,0], somas[0,1], somas[0,2],'or', markersize=8)\n",
    "ax.plot(MLIcellAll_001[:,0], MLIcellAll_001[:,1], MLIcellAll_001[:,2],'ok', markersize=5)\n",
    "ax.set(xlim=np.array([-10, 10])+somas[0,0], \n",
    "       ylim=np.array([-10, 10])+somas[0,1],\n",
    "       zlim=[0, 450])\n",
    "\n",
    "for ii in trange(0,360,1):\n",
    "    ax.view_init(elev=20., azim=ii)\n",
    "    plt.savefig(\"movie_figs/movie%d.png\" % ii)"
   ]
  },
  {
   "cell_type": "code",
   "execution_count": 47,
   "metadata": {},
   "outputs": [],
   "source": [
    "GCcellAll_091=[]\n",
    "for  i in range(len(tb.source)):\n",
    "    if (tb.target[i]==0) and (tb.branch[i]==9) and (tb.segment[i]==1):\n",
    "        GCcell= [tb.source[i]]\n",
    "        #GCcellAll=np.append(GCcellAll, GCcell, axis=0)\n",
    "        #GCcellAll = np.vstack((GCcellAll,GCcell))\n",
    "        GCcellAll_091.extend(GCcell)"
   ]
  },
  {
   "cell_type": "code",
   "execution_count": 48,
   "metadata": {},
   "outputs": [],
   "source": [
    "GCcoor_091_All=np.empty((0,3), dtype=object)\n",
    "for i in range(len(GCcellAll_091)):\n",
    "    GCcoor_091=(gc[GCcellAll_091[i]])\n",
    "    GCcoor_091_All = np.vstack((GCcoor_091_All ,GCcoor_091))"
   ]
  },
  {
   "cell_type": "code",
   "execution_count": 49,
   "metadata": {},
   "outputs": [],
   "source": [
    "MLIcellAll_091=np.empty((0,3), dtype=object)\n",
    "\n",
    "for  i in range(len(dendpts100)):\n",
    "    if (ids100[i]==0) and (seg100[i,0]==1) and (seg100[i,1]==9):\n",
    "        MLIcell= np.array(dendpts100[i])\n",
    "        #GCcellAll=np.append(GCcellAll, GCcell, axis=0)\n",
    "        #GCcellAll = np.vstack((GCcellAll,GCcell))\n",
    "        MLIcellAll_091 = np.vstack((MLIcellAll_091 ,MLIcell))\n",
    "\n",
    "\n",
    "\n"
   ]
  },
  {
   "cell_type": "code",
   "execution_count": 50,
   "metadata": {},
   "outputs": [
    {
     "data": {
      "text/plain": [
       "array([[420.25519607141223, 205.4751777426792, 311.3887485681651],\n",
       "       [422.20346777037753, 205.04585210063118, 311.24762139115467],\n",
       "       [424.15173946934283, 204.61652645858317, 311.1064942141443],\n",
       "       [426.10001116830813, 204.18720081653515, 310.96536703713383],\n",
       "       [428.04828286727343, 203.75787517448714, 310.8242398601234],\n",
       "       [429.99655456623873, 203.32854953243913, 310.683112683113],\n",
       "       [431.94482626520403, 202.8992238903911, 310.54198550610255],\n",
       "       [433.8930979641693, 202.46989824834307, 310.4008583290921],\n",
       "       [435.8413696631346, 202.04057260629506, 310.2597311520817]],\n",
       "      dtype=object)"
      ]
     },
     "execution_count": 50,
     "metadata": {},
     "output_type": "execute_result"
    }
   ],
   "source": [
    "MLIcellAll_091"
   ]
  },
  {
   "cell_type": "code",
   "execution_count": 51,
   "metadata": {},
   "outputs": [
    {
     "name": "stderr",
     "output_type": "stream",
     "text": [
      "100%|██████████| 360/360 [00:27<00:00, 13.16it/s]\n"
     ]
    },
    {
     "data": {
      "image/png": "[encoded data removed]",
      "text/plain": [
       "<Figure size 720x720 with 1 Axes>"
      ]
     },
     "metadata": {
      "needs_background": "light"
     },
     "output_type": "display_data"
    }
   ],
   "source": [
    "fig = plt.figure(figsize=(10,10))\n",
    "ax = fig.add_subplot(111, projection='3d')\n",
    "ax.plot(GCcoor_091_All[:,0], GCcoor_091_All[:,1], GCcoor_091_All[:,2],'og')\n",
    "ax.plot(somas[0,0], somas[0,1], somas[0,2],'or', markersize=8)\n",
    "ax.plot(MLIcellAll_091[:,0], MLIcellAll_091[:,1], MLIcellAll_091[:,2],'ok', markersize=5)\n",
    "\n",
    "for ii in trange(0,360,1):\n",
    "    ax.view_init(elev=5., azim=ii)\n",
    "    plt.savefig(\"movie_figs_1/movie%d.png\" % ii)"
   ]
  },
  {
   "cell_type": "markdown",
   "metadata": {},
   "source": [
    "### PF to MLI"
   ]
  },
  {
   "cell_type": "code",
   "execution_count": 52,
   "metadata": {},
   "outputs": [
    {
     "data": {
      "text/html": [
       "<div>\n",
       "<style scoped>\n",
       "    .dataframe tbody tr th:only-of-type {\n",
       "        vertical-align: middle;\n",
       "    }\n",
       "\n",
       "    .dataframe tbody tr th {\n",
       "        vertical-align: top;\n",
       "    }\n",
       "\n",
       "    .dataframe thead th {\n",
       "        text-align: right;\n",
       "    }\n",
       "</style>\n",
       "<table border=\"1\" class=\"dataframe\">\n",
       "  <thead>\n",
       "    <tr style=\"text-align: right;\">\n",
       "      <th></th>\n",
       "      <th>source</th>\n",
       "      <th>target</th>\n",
       "      <th>segment</th>\n",
       "      <th>branch</th>\n",
       "      <th>distance</th>\n",
       "    </tr>\n",
       "  </thead>\n",
       "  <tbody>\n",
       "    <tr>\n",
       "      <th>0</th>\n",
       "      <td>603191</td>\n",
       "      <td>0</td>\n",
       "      <td>1</td>\n",
       "      <td>0</td>\n",
       "      <td>1029.554812</td>\n",
       "    </tr>\n",
       "    <tr>\n",
       "      <th>1</th>\n",
       "      <td>389935</td>\n",
       "      <td>0</td>\n",
       "      <td>1</td>\n",
       "      <td>0</td>\n",
       "      <td>391.554812</td>\n",
       "    </tr>\n",
       "    <tr>\n",
       "      <th>2</th>\n",
       "      <td>457648</td>\n",
       "      <td>0</td>\n",
       "      <td>1</td>\n",
       "      <td>0</td>\n",
       "      <td>828.554812</td>\n",
       "    </tr>\n",
       "    <tr>\n",
       "      <th>3</th>\n",
       "      <td>463007</td>\n",
       "      <td>0</td>\n",
       "      <td>1</td>\n",
       "      <td>0</td>\n",
       "      <td>828.554812</td>\n",
       "    </tr>\n",
       "    <tr>\n",
       "      <th>4</th>\n",
       "      <td>496893</td>\n",
       "      <td>0</td>\n",
       "      <td>1</td>\n",
       "      <td>0</td>\n",
       "      <td>290.445188</td>\n",
       "    </tr>\n",
       "    <tr>\n",
       "      <th>...</th>\n",
       "      <td>...</td>\n",
       "      <td>...</td>\n",
       "      <td>...</td>\n",
       "      <td>...</td>\n",
       "      <td>...</td>\n",
       "    </tr>\n",
       "    <tr>\n",
       "      <th>13192038</th>\n",
       "      <td>732684</td>\n",
       "      <td>99</td>\n",
       "      <td>4</td>\n",
       "      <td>9</td>\n",
       "      <td>1215.786000</td>\n",
       "    </tr>\n",
       "    <tr>\n",
       "      <th>13192039</th>\n",
       "      <td>650855</td>\n",
       "      <td>99</td>\n",
       "      <td>4</td>\n",
       "      <td>9</td>\n",
       "      <td>1203.786000</td>\n",
       "    </tr>\n",
       "    <tr>\n",
       "      <th>13192040</th>\n",
       "      <td>795727</td>\n",
       "      <td>99</td>\n",
       "      <td>4</td>\n",
       "      <td>9</td>\n",
       "      <td>320.214000</td>\n",
       "    </tr>\n",
       "    <tr>\n",
       "      <th>13192041</th>\n",
       "      <td>397990</td>\n",
       "      <td>99</td>\n",
       "      <td>4</td>\n",
       "      <td>9</td>\n",
       "      <td>1006.786000</td>\n",
       "    </tr>\n",
       "    <tr>\n",
       "      <th>13192042</th>\n",
       "      <td>183413</td>\n",
       "      <td>99</td>\n",
       "      <td>4</td>\n",
       "      <td>9</td>\n",
       "      <td>629.786000</td>\n",
       "    </tr>\n",
       "  </tbody>\n",
       "</table>\n",
       "<p>13192043 rows × 5 columns</p>\n",
       "</div>"
      ],
      "text/plain": [
       "          source  target  segment  branch     distance\n",
       "0         603191       0        1       0  1029.554812\n",
       "1         389935       0        1       0   391.554812\n",
       "2         457648       0        1       0   828.554812\n",
       "3         463007       0        1       0   828.554812\n",
       "4         496893       0        1       0   290.445188\n",
       "...          ...     ...      ...     ...          ...\n",
       "13192038  732684      99        4       9  1215.786000\n",
       "13192039  650855      99        4       9  1203.786000\n",
       "13192040  795727      99        4       9   320.214000\n",
       "13192041  397990      99        4       9  1006.786000\n",
       "13192042  183413      99        4       9   629.786000\n",
       "\n",
       "[13192043 rows x 5 columns]"
      ]
     },
     "execution_count": 52,
     "metadata": {},
     "output_type": "execute_result"
    }
   ],
   "source": [
    "pf = pd.read_hdf('../connection_test_20210707/PFtoMLI.h5', \"connection\")\n",
    "pf"
   ]
  },
  {
   "cell_type": "code",
   "execution_count": 53,
   "metadata": {},
   "outputs": [],
   "source": [
    "GCcellAll_091_PF=[]\n",
    "for  i in range(len(pf.source)):\n",
    "    if (pf.target[i]==0) and (pf.branch[i]==9) and (pf.segment[i]==1):\n",
    "        GCcell= [pf.source[i]]\n",
    "        #GCcellAll=np.append(GCcellAll, GCcell, axis=0)\n",
    "        #GCcellAll = np.vstack((GCcellAll,GCcell))\n",
    "        GCcellAll_091_PF.extend(GCcell)"
   ]
  },
  {
   "cell_type": "code",
   "execution_count": 54,
   "metadata": {},
   "outputs": [],
   "source": [
    "GCcoor_091_All_PF=np.empty((0,3), dtype=object)\n",
    "for i in range(len(GCcellAll_091_PF)):\n",
    "    GCcoor_091=(gc[GCcellAll_091_PF[i]])\n",
    "    GCcoor_091_All_PF = np.vstack((GCcoor_091_All_PF ,GCcoor_091))"
   ]
  },
  {
   "cell_type": "code",
   "execution_count": 55,
   "metadata": {},
   "outputs": [],
   "source": [
    "MLIcellAll_091_PF=np.empty((0,3), dtype=object)\n",
    "\n",
    "for  i in range(len(dendpts100)):\n",
    "    if (ids100[i]==0) and (seg100[i,0]==1) and (seg100[i,1]==9):\n",
    "        MLIcell= np.array(dendpts100[i])\n",
    "        #GCcellAll=np.append(GCcellAll, GCcell, axis=0)\n",
    "        #GCcellAll = np.vstack((GCcellAll,GCcell))\n",
    "        MLIcellAll_091_PF = np.vstack((MLIcellAll_091_PF ,MLIcell))\n",
    "\n",
    "\n",
    "\n",
    "\n"
   ]
  },
  {
   "cell_type": "code",
   "execution_count": 56,
   "metadata": {},
   "outputs": [
    {
     "name": "stderr",
     "output_type": "stream",
     "text": [
      "100%|██████████| 360/360 [00:31<00:00, 11.35it/s]\n"
     ]
    },
    {
     "data": {
      "image/png": "[encoded data removed]",
      "text/plain": [
       "<Figure size 720x720 with 1 Axes>"
      ]
     },
     "metadata": {
      "needs_background": "light"
     },
     "output_type": "display_data"
    }
   ],
   "source": [
    "fig = plt.figure(figsize=(10,10))\n",
    "ax = fig.add_subplot(111, projection='3d')\n",
    "ax.plot(GCcoor_091_All_PF[:,0], GCcoor_091_All_PF[:,1], GCcoor_091_All_PF[:,2],'og')\n",
    "ax.plot(somas[0,0], somas[0,1], somas[0,2],'or', markersize=8)\n",
    "ax.plot(MLIcellAll_091_PF[:,0], MLIcellAll_091_PF[:,1], MLIcellAll_091_PF[:,2],'ok', markersize=5)\n",
    "\n",
    "for ii in trange(0,360,1):\n",
    "    ax.view_init(elev=5., azim=ii)\n",
    "    plt.savefig(\"movie_figs/movie%d.png\" % ii)"
   ]
  },
  {
   "cell_type": "code",
   "execution_count": 57,
   "metadata": {},
   "outputs": [],
   "source": [
    "GCcellAll_45_5_3_PF=[]\n",
    "for  i in range(len(pf.source)):\n",
    "    if (pf.target[i]==45) and (pf.branch[i]==5) and (pf.segment[i]==3):\n",
    "        GCcell= [pf.source[i]]\n",
    "        #GCcellAll=np.append(GCcellAll, GCcell, axis=0)\n",
    "        #GCcellAll = np.vstack((GCcellAll,GCcell))\n",
    "        GCcellAll_45_5_3_PF.extend(GCcell)"
   ]
  },
  {
   "cell_type": "code",
   "execution_count": 58,
   "metadata": {},
   "outputs": [],
   "source": [
    "GCcoor_45_5_3_All_PF=np.empty((0,3), dtype=object)\n",
    "for i in range(len(GCcellAll_45_5_3_PF)):\n",
    "    GCcoor_45_5_3=(gc[GCcellAll_45_5_3_PF[i]])\n",
    "    GCcoor_45_5_3_All_PF = np.vstack((GCcoor_45_5_3_All_PF ,GCcoor_45_5_3))"
   ]
  },
  {
   "cell_type": "code",
   "execution_count": 59,
   "metadata": {},
   "outputs": [],
   "source": [
    "MLIcellAll_45_5_3_PF=np.empty((0,3), dtype=object)\n",
    "\n",
    "for  i in range(len(dendpts100)):\n",
    "    if (ids100[i]==45) and (seg100[i,0]==3) and (seg100[i,1]==5):\n",
    "        MLIcell= np.array(dendpts100[i])\n",
    "        #GCcellAll=np.append(GCcellAll, GCcell, axis=0)\n",
    "        #GCcellAll = np.vstack((GCcellAll,GCcell))\n",
    "        MLIcellAll_45_5_3_PF = np.vstack((MLIcellAll_45_5_3_PF ,MLIcell))\n",
    "\n",
    "\n",
    "\n",
    "\n",
    "\n"
   ]
  },
  {
   "cell_type": "code",
   "execution_count": 60,
   "metadata": {},
   "outputs": [],
   "source": [
    "MLIcellAll_45__3_PF=np.empty((0,3), dtype=object)\n",
    "\n",
    "for  i in range(len(dendpts100)):\n",
    "    if (ids100[i]==45) and (seg100[i,0]==3):\n",
    "        MLIcell= np.array(dendpts100[i])\n",
    "        #GCcellAll=np.append(GCcellAll, GCcell, axis=0)\n",
    "        #GCcellAll = np.vstack((GCcellAll,GCcell))\n",
    "        MLIcellAll_45__3_PF = np.vstack((MLIcellAll_45__3_PF ,MLIcell))\n"
   ]
  },
  {
   "cell_type": "code",
   "execution_count": 61,
   "metadata": {},
   "outputs": [
    {
     "data": {
      "text/plain": [
       "(90, 3)"
      ]
     },
     "execution_count": 61,
     "metadata": {},
     "output_type": "execute_result"
    }
   ],
   "source": [
    "MLIcellAll_45__3_PF.shape"
   ]
  },
  {
   "cell_type": "code",
   "execution_count": 62,
   "metadata": {},
   "outputs": [
    {
     "name": "stderr",
     "output_type": "stream",
     "text": [
      "100%|██████████| 360/360 [00:35<00:00, 10.17it/s]\n"
     ]
    },
    {
     "data": {
      "image/png": "[encoded data removed]",
      "text/plain": [
       "<Figure size 720x720 with 1 Axes>"
      ]
     },
     "metadata": {
      "needs_background": "light"
     },
     "output_type": "display_data"
    }
   ],
   "source": [
    "fig = plt.figure(figsize=(10,10))\n",
    "ax = fig.add_subplot(111, projection='3d')\n",
    "ax.plot(GCcoor_45_5_3_All_PF[:,0], GCcoor_45_5_3_All_PF[:,1], GCcoor_45_5_3_All_PF[:,2],'og')\n",
    "ax.plot(somas[45,0], somas[45,1], somas[45,2],'or', markersize=8)\n",
    "ax.plot(MLIcellAll_45_5_3_PF[:,0], MLIcellAll_45_5_3_PF[:,1], MLIcellAll_45_5_3_PF[:,2],'ok', markersize=5)\n",
    "ax.plot(MLIcellAll_45__3_PF[:,0], MLIcellAll_45__3_PF[:,1], MLIcellAll_45__3_PF[:,2],'oc', markersize=5)\n",
    "\n",
    "\n",
    "for ii in trange(0,360,1):\n",
    "    ax.view_init(elev=5., azim=ii)\n",
    "    plt.savefig(\"movie_figs_1/movie%d.png\" % ii)"
   ]
  },
  {
   "cell_type": "code",
   "execution_count": null,
   "metadata": {},
   "outputs": [],
   "source": []
  },
  {
   "cell_type": "code",
   "execution_count": 129,
   "metadata": {},
   "outputs": [],
   "source": [
    "GCcellAll_87_2_4_PF=[]\n",
    "for  i in range(len(pf.source)):\n",
    "    if (pf.target[i]==87) and (pf.branch[i]==2) and (pf.segment[i]==4):\n",
    "        GCcell= [pf.source[i]]\n",
    "        #GCcellAll=np.append(GCcellAll, GCcell, axis=0)\n",
    "        #GCcellAll = np.vstack((GCcellAll,GCcell))\n",
    "        GCcellAll_87_2_4_PF.extend(GCcell)\n",
    "        \n",
    "GCcoor_87_2_4_All_PF=np.empty((0,3), dtype=object)\n",
    "for i in range(len(GCcellAll_87_2_4_PF)):\n",
    "    GCcoor_87_2_4=(gc[GCcellAll_87_2_4_PF[i]])\n",
    "    GCcoor_87_2_4_All_PF = np.vstack((GCcoor_87_2_4_All_PF ,GCcoor_87_2_4))  \n"
   ]
  },
  {
   "cell_type": "code",
   "execution_count": 123,
   "metadata": {},
   "outputs": [],
   "source": [
    "MLIcellAll_87_2_4_PF=np.empty((0,3), dtype=object)\n",
    "\n",
    "for  i in range(len(dendpts100)):\n",
    "    if (ids100[i]==87) and (seg100[i,0]==4) and (seg100[i,1]==2):\n",
    "        MLIcell= np.array(dendpts100[i])\n",
    "        #GCcellAll=np.append(GCcellAll, GCcell, axis=0)\n",
    "        #GCcellAll = np.vstack((GCcellAll,GCcell))\n",
    "        MLIcellAll_87_2_4_PF = np.vstack((MLIcellAll_87_2_4_PF ,MLIcell))\n",
    "\n",
    "\n",
    "\n",
    "\n",
    "\n",
    "\n"
   ]
  },
  {
   "cell_type": "code",
   "execution_count": 127,
   "metadata": {},
   "outputs": [
    {
     "data": {
      "text/plain": [
       "array([[1, 0],\n",
       "       [1, 0],\n",
       "       [1, 0],\n",
       "       ...,\n",
       "       [4, 9],\n",
       "       [4, 9],\n",
       "       [4, 9]])"
      ]
     },
     "execution_count": 127,
     "metadata": {},
     "output_type": "execute_result"
    }
   ],
   "source": [
    "seg100"
   ]
  },
  {
   "cell_type": "code",
   "execution_count": 130,
   "metadata": {},
   "outputs": [
    {
     "name": "stderr",
     "output_type": "stream",
     "text": [
      "100%|██████████| 360/360 [00:35<00:00, 10.22it/s]\n"
     ]
    },
    {
     "data": {
      "image/png": "[encoded data removed]",
      "text/plain": [
       "<Figure size 720x720 with 1 Axes>"
      ]
     },
     "metadata": {
      "needs_background": "light"
     },
     "output_type": "display_data"
    }
   ],
   "source": [
    "fig = plt.figure(figsize=(10,10))\n",
    "ax = fig.add_subplot(111, projection='3d')\n",
    "ax.plot(GCcoor_87_2_4_All_PF[:,0], GCcoor_87_2_4_All_PF[:,1], GCcoor_87_2_4_All_PF[:,2],'og')\n",
    "ax.plot(somas[87,0], somas[87,1], somas[87,2],'or', markersize=8)\n",
    "ax.plot(MLIcellAll_87_2_4_PF[:,0], MLIcellAll_87_2_4_PF[:,1], MLIcellAll_87_2_4_PF[:,2],'ok', markersize=5)\n",
    "\n",
    "for ii in trange(0,360,1):\n",
    "    ax.view_init(elev=5., azim=ii)\n",
    "    plt.savefig(\"movie_figs_1/movie%d.png\" % ii)"
   ]
  },
  {
   "cell_type": "markdown",
   "metadata": {},
   "source": []
  },
  {
   "cell_type": "code",
   "execution_count": null,
   "metadata": {},
   "outputs": [],
   "source": []
  },
  {
   "cell_type": "code",
   "execution_count": null,
   "metadata": {},
   "outputs": [],
   "source": []
  },
  {
   "cell_type": "code",
   "execution_count": null,
   "metadata": {},
   "outputs": [],
   "source": []
  },
  {
   "cell_type": "code",
   "execution_count": null,
   "metadata": {},
   "outputs": [],
   "source": []
  },
  {
   "cell_type": "code",
   "execution_count": null,
   "metadata": {},
   "outputs": [],
   "source": []
  },
  {
   "cell_type": "code",
   "execution_count": null,
   "metadata": {},
   "outputs": [],
   "source": []
  },
  {
   "cell_type": "code",
   "execution_count": null,
   "metadata": {},
   "outputs": [],
   "source": []
  },
  {
   "cell_type": "markdown",
   "metadata": {},
   "source": [
    "#### Amount of connections?"
   ]
  },
  {
   "cell_type": "code",
   "execution_count": 64,
   "metadata": {},
   "outputs": [],
   "source": [
    "nsource_pf = pf.groupby('target').count().source"
   ]
  },
  {
   "cell_type": "code",
   "execution_count": 65,
   "metadata": {},
   "outputs": [
    {
     "data": {
      "text/plain": [
       "(138191, 5)"
      ]
     },
     "execution_count": 65,
     "metadata": {},
     "output_type": "execute_result"
    }
   ],
   "source": [
    "pf[pf.target==0].shape"
   ]
  },
  {
   "cell_type": "code",
   "execution_count": 66,
   "metadata": {},
   "outputs": [
    {
     "data": {
      "text/plain": [
       "131920.43"
      ]
     },
     "execution_count": 66,
     "metadata": {},
     "output_type": "execute_result"
    }
   ],
   "source": [
    "nsource_pf.mean()"
   ]
  },
  {
   "cell_type": "code",
   "execution_count": 67,
   "metadata": {},
   "outputs": [
    {
     "data": {
      "text/plain": [
       "9835.92"
      ]
     },
     "execution_count": 67,
     "metadata": {},
     "output_type": "execute_result"
    }
   ],
   "source": [
    "nsource_aa = tb.groupby('target').count().source\n",
    "nsource_aa.mean()"
   ]
  },
  {
   "cell_type": "markdown",
   "metadata": {},
   "source": [
    "## 2micro AA to MLI"
   ]
  },
  {
   "cell_type": "code",
   "execution_count": 74,
   "metadata": {},
   "outputs": [
    {
     "data": {
      "text/html": [
       "<div>\n",
       "<style scoped>\n",
       "    .dataframe tbody tr th:only-of-type {\n",
       "        vertical-align: middle;\n",
       "    }\n",
       "\n",
       "    .dataframe tbody tr th {\n",
       "        vertical-align: top;\n",
       "    }\n",
       "\n",
       "    .dataframe thead th {\n",
       "        text-align: right;\n",
       "    }\n",
       "</style>\n",
       "<table border=\"1\" class=\"dataframe\">\n",
       "  <thead>\n",
       "    <tr style=\"text-align: right;\">\n",
       "      <th></th>\n",
       "      <th>source</th>\n",
       "      <th>target</th>\n",
       "      <th>segment</th>\n",
       "      <th>branch</th>\n",
       "      <th>distance</th>\n",
       "    </tr>\n",
       "  </thead>\n",
       "  <tbody>\n",
       "    <tr>\n",
       "      <th>0</th>\n",
       "      <td>196070</td>\n",
       "      <td>0</td>\n",
       "      <td>1</td>\n",
       "      <td>0</td>\n",
       "      <td>124.820050</td>\n",
       "    </tr>\n",
       "    <tr>\n",
       "      <th>1</th>\n",
       "      <td>447092</td>\n",
       "      <td>0</td>\n",
       "      <td>1</td>\n",
       "      <td>0</td>\n",
       "      <td>152.820050</td>\n",
       "    </tr>\n",
       "    <tr>\n",
       "      <th>2</th>\n",
       "      <td>704666</td>\n",
       "      <td>0</td>\n",
       "      <td>1</td>\n",
       "      <td>0</td>\n",
       "      <td>123.678923</td>\n",
       "    </tr>\n",
       "    <tr>\n",
       "      <th>3</th>\n",
       "      <td>639254</td>\n",
       "      <td>0</td>\n",
       "      <td>1</td>\n",
       "      <td>0</td>\n",
       "      <td>218.537796</td>\n",
       "    </tr>\n",
       "    <tr>\n",
       "      <th>4</th>\n",
       "      <td>240744</td>\n",
       "      <td>0</td>\n",
       "      <td>1</td>\n",
       "      <td>0</td>\n",
       "      <td>153.537796</td>\n",
       "    </tr>\n",
       "    <tr>\n",
       "      <th>...</th>\n",
       "      <td>...</td>\n",
       "      <td>...</td>\n",
       "      <td>...</td>\n",
       "      <td>...</td>\n",
       "      <td>...</td>\n",
       "    </tr>\n",
       "    <tr>\n",
       "      <th>39237</th>\n",
       "      <td>699303</td>\n",
       "      <td>99</td>\n",
       "      <td>4</td>\n",
       "      <td>9</td>\n",
       "      <td>153.063641</td>\n",
       "    </tr>\n",
       "    <tr>\n",
       "      <th>39238</th>\n",
       "      <td>271047</td>\n",
       "      <td>99</td>\n",
       "      <td>4</td>\n",
       "      <td>9</td>\n",
       "      <td>73.063641</td>\n",
       "    </tr>\n",
       "    <tr>\n",
       "      <th>39239</th>\n",
       "      <td>421237</td>\n",
       "      <td>99</td>\n",
       "      <td>4</td>\n",
       "      <td>9</td>\n",
       "      <td>192.900999</td>\n",
       "    </tr>\n",
       "    <tr>\n",
       "      <th>39240</th>\n",
       "      <td>774330</td>\n",
       "      <td>99</td>\n",
       "      <td>4</td>\n",
       "      <td>9</td>\n",
       "      <td>81.900999</td>\n",
       "    </tr>\n",
       "    <tr>\n",
       "      <th>39241</th>\n",
       "      <td>546338</td>\n",
       "      <td>99</td>\n",
       "      <td>4</td>\n",
       "      <td>9</td>\n",
       "      <td>207.738357</td>\n",
       "    </tr>\n",
       "  </tbody>\n",
       "</table>\n",
       "<p>39242 rows × 5 columns</p>\n",
       "</div>"
      ],
      "text/plain": [
       "       source  target  segment  branch    distance\n",
       "0      196070       0        1       0  124.820050\n",
       "1      447092       0        1       0  152.820050\n",
       "2      704666       0        1       0  123.678923\n",
       "3      639254       0        1       0  218.537796\n",
       "4      240744       0        1       0  153.537796\n",
       "...       ...     ...      ...     ...         ...\n",
       "39237  699303      99        4       9  153.063641\n",
       "39238  271047      99        4       9   73.063641\n",
       "39239  421237      99        4       9  192.900999\n",
       "39240  774330      99        4       9   81.900999\n",
       "39241  546338      99        4       9  207.738357\n",
       "\n",
       "[39242 rows x 5 columns]"
      ]
     },
     "execution_count": 74,
     "metadata": {},
     "output_type": "execute_result"
    }
   ],
   "source": [
    "aa2 = pd.read_hdf('../connection_test_dist2_20210715 _first/AAtoMLI.h5', \"connection\")\n",
    "aa2"
   ]
  },
  {
   "cell_type": "code",
   "execution_count": 75,
   "metadata": {},
   "outputs": [
    {
     "data": {
      "text/plain": [
       "392.42"
      ]
     },
     "execution_count": 75,
     "metadata": {},
     "output_type": "execute_result"
    }
   ],
   "source": [
    "##Amount of connections from one MLI to AAs\n",
    "nsource_aa2 = aa2.groupby('target').count().source\n",
    "nsource_aa2.mean()"
   ]
  },
  {
   "cell_type": "markdown",
   "metadata": {},
   "source": [
    "## 2microm PF to MLI"
   ]
  },
  {
   "cell_type": "code",
   "execution_count": 85,
   "metadata": {},
   "outputs": [
    {
     "data": {
      "text/html": [
       "<div>\n",
       "<style scoped>\n",
       "    .dataframe tbody tr th:only-of-type {\n",
       "        vertical-align: middle;\n",
       "    }\n",
       "\n",
       "    .dataframe tbody tr th {\n",
       "        vertical-align: top;\n",
       "    }\n",
       "\n",
       "    .dataframe thead th {\n",
       "        text-align: right;\n",
       "    }\n",
       "</style>\n",
       "<table border=\"1\" class=\"dataframe\">\n",
       "  <thead>\n",
       "    <tr style=\"text-align: right;\">\n",
       "      <th></th>\n",
       "      <th>source</th>\n",
       "      <th>target</th>\n",
       "      <th>segment</th>\n",
       "      <th>branch</th>\n",
       "      <th>distance</th>\n",
       "    </tr>\n",
       "  </thead>\n",
       "  <tbody>\n",
       "    <tr>\n",
       "      <th>0</th>\n",
       "      <td>489132</td>\n",
       "      <td>0</td>\n",
       "      <td>1</td>\n",
       "      <td>0</td>\n",
       "      <td>424.554812</td>\n",
       "    </tr>\n",
       "    <tr>\n",
       "      <th>1</th>\n",
       "      <td>187803</td>\n",
       "      <td>0</td>\n",
       "      <td>1</td>\n",
       "      <td>0</td>\n",
       "      <td>1033.554812</td>\n",
       "    </tr>\n",
       "    <tr>\n",
       "      <th>2</th>\n",
       "      <td>220640</td>\n",
       "      <td>0</td>\n",
       "      <td>1</td>\n",
       "      <td>0</td>\n",
       "      <td>830.554812</td>\n",
       "    </tr>\n",
       "    <tr>\n",
       "      <th>3</th>\n",
       "      <td>751902</td>\n",
       "      <td>0</td>\n",
       "      <td>1</td>\n",
       "      <td>0</td>\n",
       "      <td>938.554812</td>\n",
       "    </tr>\n",
       "    <tr>\n",
       "      <th>4</th>\n",
       "      <td>2214</td>\n",
       "      <td>0</td>\n",
       "      <td>1</td>\n",
       "      <td>0</td>\n",
       "      <td>372.445188</td>\n",
       "    </tr>\n",
       "    <tr>\n",
       "      <th>...</th>\n",
       "      <td>...</td>\n",
       "      <td>...</td>\n",
       "      <td>...</td>\n",
       "      <td>...</td>\n",
       "      <td>...</td>\n",
       "    </tr>\n",
       "    <tr>\n",
       "      <th>2110173</th>\n",
       "      <td>375491</td>\n",
       "      <td>99</td>\n",
       "      <td>4</td>\n",
       "      <td>9</td>\n",
       "      <td>1050.786000</td>\n",
       "    </tr>\n",
       "    <tr>\n",
       "      <th>2110174</th>\n",
       "      <td>140751</td>\n",
       "      <td>99</td>\n",
       "      <td>4</td>\n",
       "      <td>9</td>\n",
       "      <td>1084.786000</td>\n",
       "    </tr>\n",
       "    <tr>\n",
       "      <th>2110175</th>\n",
       "      <td>522445</td>\n",
       "      <td>99</td>\n",
       "      <td>4</td>\n",
       "      <td>9</td>\n",
       "      <td>518.786000</td>\n",
       "    </tr>\n",
       "    <tr>\n",
       "      <th>2110176</th>\n",
       "      <td>4112</td>\n",
       "      <td>99</td>\n",
       "      <td>4</td>\n",
       "      <td>9</td>\n",
       "      <td>1159.786000</td>\n",
       "    </tr>\n",
       "    <tr>\n",
       "      <th>2110177</th>\n",
       "      <td>352097</td>\n",
       "      <td>99</td>\n",
       "      <td>4</td>\n",
       "      <td>9</td>\n",
       "      <td>1187.786000</td>\n",
       "    </tr>\n",
       "  </tbody>\n",
       "</table>\n",
       "<p>2110178 rows × 5 columns</p>\n",
       "</div>"
      ],
      "text/plain": [
       "         source  target  segment  branch     distance\n",
       "0        489132       0        1       0   424.554812\n",
       "1        187803       0        1       0  1033.554812\n",
       "2        220640       0        1       0   830.554812\n",
       "3        751902       0        1       0   938.554812\n",
       "4          2214       0        1       0   372.445188\n",
       "...         ...     ...      ...     ...          ...\n",
       "2110173  375491      99        4       9  1050.786000\n",
       "2110174  140751      99        4       9  1084.786000\n",
       "2110175  522445      99        4       9   518.786000\n",
       "2110176    4112      99        4       9  1159.786000\n",
       "2110177  352097      99        4       9  1187.786000\n",
       "\n",
       "[2110178 rows x 5 columns]"
      ]
     },
     "execution_count": 85,
     "metadata": {},
     "output_type": "execute_result"
    }
   ],
   "source": [
    "pf2 = pd.read_hdf('../connection_test_dist2_20210715 _first/PFtoMLI.h5', \"connection\")\n",
    "pf2"
   ]
  },
  {
   "cell_type": "code",
   "execution_count": 86,
   "metadata": {},
   "outputs": [
    {
     "data": {
      "text/plain": [
       "21101.78"
      ]
     },
     "execution_count": 86,
     "metadata": {},
     "output_type": "execute_result"
    }
   ],
   "source": [
    "##Amount of connections from one MLI to PFs\n",
    "nsource_pf2 = pf2.groupby('target').count().source\n",
    "nsource_pf2.mean()"
   ]
  },
  {
   "cell_type": "code",
   "execution_count": null,
   "metadata": {},
   "outputs": [],
   "source": []
  },
  {
   "cell_type": "markdown",
   "metadata": {},
   "source": [
    "## 1microm AA to MLI"
   ]
  },
  {
   "cell_type": "code",
   "execution_count": 87,
   "metadata": {},
   "outputs": [
    {
     "data": {
      "text/html": [
       "<div>\n",
       "<style scoped>\n",
       "    .dataframe tbody tr th:only-of-type {\n",
       "        vertical-align: middle;\n",
       "    }\n",
       "\n",
       "    .dataframe tbody tr th {\n",
       "        vertical-align: top;\n",
       "    }\n",
       "\n",
       "    .dataframe thead th {\n",
       "        text-align: right;\n",
       "    }\n",
       "</style>\n",
       "<table border=\"1\" class=\"dataframe\">\n",
       "  <thead>\n",
       "    <tr style=\"text-align: right;\">\n",
       "      <th></th>\n",
       "      <th>source</th>\n",
       "      <th>target</th>\n",
       "      <th>segment</th>\n",
       "      <th>branch</th>\n",
       "      <th>distance</th>\n",
       "    </tr>\n",
       "  </thead>\n",
       "  <tbody>\n",
       "    <tr>\n",
       "      <th>0</th>\n",
       "      <td>196070</td>\n",
       "      <td>0</td>\n",
       "      <td>1</td>\n",
       "      <td>0</td>\n",
       "      <td>124.820050</td>\n",
       "    </tr>\n",
       "    <tr>\n",
       "      <th>1</th>\n",
       "      <td>447092</td>\n",
       "      <td>0</td>\n",
       "      <td>1</td>\n",
       "      <td>0</td>\n",
       "      <td>152.820050</td>\n",
       "    </tr>\n",
       "    <tr>\n",
       "      <th>2</th>\n",
       "      <td>704666</td>\n",
       "      <td>0</td>\n",
       "      <td>1</td>\n",
       "      <td>0</td>\n",
       "      <td>123.678923</td>\n",
       "    </tr>\n",
       "    <tr>\n",
       "      <th>3</th>\n",
       "      <td>639254</td>\n",
       "      <td>0</td>\n",
       "      <td>1</td>\n",
       "      <td>0</td>\n",
       "      <td>218.537796</td>\n",
       "    </tr>\n",
       "    <tr>\n",
       "      <th>4</th>\n",
       "      <td>240744</td>\n",
       "      <td>0</td>\n",
       "      <td>1</td>\n",
       "      <td>0</td>\n",
       "      <td>153.537796</td>\n",
       "    </tr>\n",
       "    <tr>\n",
       "      <th>...</th>\n",
       "      <td>...</td>\n",
       "      <td>...</td>\n",
       "      <td>...</td>\n",
       "      <td>...</td>\n",
       "      <td>...</td>\n",
       "    </tr>\n",
       "    <tr>\n",
       "      <th>39237</th>\n",
       "      <td>699303</td>\n",
       "      <td>99</td>\n",
       "      <td>4</td>\n",
       "      <td>9</td>\n",
       "      <td>153.063641</td>\n",
       "    </tr>\n",
       "    <tr>\n",
       "      <th>39238</th>\n",
       "      <td>271047</td>\n",
       "      <td>99</td>\n",
       "      <td>4</td>\n",
       "      <td>9</td>\n",
       "      <td>73.063641</td>\n",
       "    </tr>\n",
       "    <tr>\n",
       "      <th>39239</th>\n",
       "      <td>421237</td>\n",
       "      <td>99</td>\n",
       "      <td>4</td>\n",
       "      <td>9</td>\n",
       "      <td>192.900999</td>\n",
       "    </tr>\n",
       "    <tr>\n",
       "      <th>39240</th>\n",
       "      <td>774330</td>\n",
       "      <td>99</td>\n",
       "      <td>4</td>\n",
       "      <td>9</td>\n",
       "      <td>81.900999</td>\n",
       "    </tr>\n",
       "    <tr>\n",
       "      <th>39241</th>\n",
       "      <td>546338</td>\n",
       "      <td>99</td>\n",
       "      <td>4</td>\n",
       "      <td>9</td>\n",
       "      <td>207.738357</td>\n",
       "    </tr>\n",
       "  </tbody>\n",
       "</table>\n",
       "<p>39242 rows × 5 columns</p>\n",
       "</div>"
      ],
      "text/plain": [
       "       source  target  segment  branch    distance\n",
       "0      196070       0        1       0  124.820050\n",
       "1      447092       0        1       0  152.820050\n",
       "2      704666       0        1       0  123.678923\n",
       "3      639254       0        1       0  218.537796\n",
       "4      240744       0        1       0  153.537796\n",
       "...       ...     ...      ...     ...         ...\n",
       "39237  699303      99        4       9  153.063641\n",
       "39238  271047      99        4       9   73.063641\n",
       "39239  421237      99        4       9  192.900999\n",
       "39240  774330      99        4       9   81.900999\n",
       "39241  546338      99        4       9  207.738357\n",
       "\n",
       "[39242 rows x 5 columns]"
      ]
     },
     "execution_count": 87,
     "metadata": {},
     "output_type": "execute_result"
    }
   ],
   "source": [
    "aa1 = pd.read_hdf('../connection_test_dist1_20210715/AAtoMLI.h5', \"connection\")\n",
    "aa1"
   ]
  },
  {
   "cell_type": "code",
   "execution_count": 88,
   "metadata": {},
   "outputs": [
    {
     "data": {
      "text/plain": [
       "392.42"
      ]
     },
     "execution_count": 88,
     "metadata": {},
     "output_type": "execute_result"
    }
   ],
   "source": [
    "##Amount of connections from one MLI to PFs\n",
    "nsource_aa1 = aa1.groupby('target').count().source\n",
    "nsource_aa1.mean()"
   ]
  },
  {
   "cell_type": "code",
   "execution_count": null,
   "metadata": {},
   "outputs": [],
   "source": []
  },
  {
   "cell_type": "code",
   "execution_count": null,
   "metadata": {},
   "outputs": [],
   "source": []
  },
  {
   "cell_type": "code",
   "execution_count": null,
   "metadata": {},
   "outputs": [],
   "source": []
  },
  {
   "cell_type": "markdown",
   "metadata": {},
   "source": [
    "## 1microm PF to MLI"
   ]
  },
  {
   "cell_type": "code",
   "execution_count": 89,
   "metadata": {},
   "outputs": [
    {
     "data": {
      "text/html": [
       "<div>\n",
       "<style scoped>\n",
       "    .dataframe tbody tr th:only-of-type {\n",
       "        vertical-align: middle;\n",
       "    }\n",
       "\n",
       "    .dataframe tbody tr th {\n",
       "        vertical-align: top;\n",
       "    }\n",
       "\n",
       "    .dataframe thead th {\n",
       "        text-align: right;\n",
       "    }\n",
       "</style>\n",
       "<table border=\"1\" class=\"dataframe\">\n",
       "  <thead>\n",
       "    <tr style=\"text-align: right;\">\n",
       "      <th></th>\n",
       "      <th>source</th>\n",
       "      <th>target</th>\n",
       "      <th>segment</th>\n",
       "      <th>branch</th>\n",
       "      <th>distance</th>\n",
       "    </tr>\n",
       "  </thead>\n",
       "  <tbody>\n",
       "    <tr>\n",
       "      <th>0</th>\n",
       "      <td>2214</td>\n",
       "      <td>0</td>\n",
       "      <td>1</td>\n",
       "      <td>0</td>\n",
       "      <td>372.445188</td>\n",
       "    </tr>\n",
       "    <tr>\n",
       "      <th>1</th>\n",
       "      <td>1928</td>\n",
       "      <td>0</td>\n",
       "      <td>1</td>\n",
       "      <td>0</td>\n",
       "      <td>624.554812</td>\n",
       "    </tr>\n",
       "    <tr>\n",
       "      <th>2</th>\n",
       "      <td>119702</td>\n",
       "      <td>0</td>\n",
       "      <td>1</td>\n",
       "      <td>0</td>\n",
       "      <td>1158.554812</td>\n",
       "    </tr>\n",
       "    <tr>\n",
       "      <th>3</th>\n",
       "      <td>232164</td>\n",
       "      <td>0</td>\n",
       "      <td>1</td>\n",
       "      <td>0</td>\n",
       "      <td>1053.554812</td>\n",
       "    </tr>\n",
       "    <tr>\n",
       "      <th>4</th>\n",
       "      <td>238986</td>\n",
       "      <td>0</td>\n",
       "      <td>1</td>\n",
       "      <td>0</td>\n",
       "      <td>1132.554812</td>\n",
       "    </tr>\n",
       "    <tr>\n",
       "      <th>...</th>\n",
       "      <td>...</td>\n",
       "      <td>...</td>\n",
       "      <td>...</td>\n",
       "      <td>...</td>\n",
       "      <td>...</td>\n",
       "    </tr>\n",
       "    <tr>\n",
       "      <th>527141</th>\n",
       "      <td>79202</td>\n",
       "      <td>99</td>\n",
       "      <td>4</td>\n",
       "      <td>9</td>\n",
       "      <td>864.786000</td>\n",
       "    </tr>\n",
       "    <tr>\n",
       "      <th>527142</th>\n",
       "      <td>22744</td>\n",
       "      <td>99</td>\n",
       "      <td>4</td>\n",
       "      <td>9</td>\n",
       "      <td>612.786000</td>\n",
       "    </tr>\n",
       "    <tr>\n",
       "      <th>527143</th>\n",
       "      <td>60625</td>\n",
       "      <td>99</td>\n",
       "      <td>4</td>\n",
       "      <td>9</td>\n",
       "      <td>1147.786000</td>\n",
       "    </tr>\n",
       "    <tr>\n",
       "      <th>527144</th>\n",
       "      <td>611573</td>\n",
       "      <td>99</td>\n",
       "      <td>4</td>\n",
       "      <td>9</td>\n",
       "      <td>231.786000</td>\n",
       "    </tr>\n",
       "    <tr>\n",
       "      <th>527145</th>\n",
       "      <td>736152</td>\n",
       "      <td>99</td>\n",
       "      <td>4</td>\n",
       "      <td>9</td>\n",
       "      <td>970.786000</td>\n",
       "    </tr>\n",
       "  </tbody>\n",
       "</table>\n",
       "<p>527146 rows × 5 columns</p>\n",
       "</div>"
      ],
      "text/plain": [
       "        source  target  segment  branch     distance\n",
       "0         2214       0        1       0   372.445188\n",
       "1         1928       0        1       0   624.554812\n",
       "2       119702       0        1       0  1158.554812\n",
       "3       232164       0        1       0  1053.554812\n",
       "4       238986       0        1       0  1132.554812\n",
       "...        ...     ...      ...     ...          ...\n",
       "527141   79202      99        4       9   864.786000\n",
       "527142   22744      99        4       9   612.786000\n",
       "527143   60625      99        4       9  1147.786000\n",
       "527144  611573      99        4       9   231.786000\n",
       "527145  736152      99        4       9   970.786000\n",
       "\n",
       "[527146 rows x 5 columns]"
      ]
     },
     "execution_count": 89,
     "metadata": {},
     "output_type": "execute_result"
    }
   ],
   "source": [
    "pf1 = pd.read_hdf('../connection_test_dist1_20210715/PFtoMLI.h5', \"connection\")\n",
    "pf1"
   ]
  },
  {
   "cell_type": "code",
   "execution_count": 90,
   "metadata": {},
   "outputs": [
    {
     "data": {
      "text/plain": [
       "5271.46"
      ]
     },
     "execution_count": 90,
     "metadata": {},
     "output_type": "execute_result"
    }
   ],
   "source": [
    "##Amount of connections from one MLI to PFs\n",
    "nsource_pf1 = pf1.groupby('target').count().source\n",
    "nsource_pf1.mean()"
   ]
  },
  {
   "cell_type": "code",
   "execution_count": null,
   "metadata": {},
   "outputs": [],
   "source": []
  },
  {
   "cell_type": "markdown",
   "metadata": {},
   "source": [
    "## 0.5 microm AA to MLI"
   ]
  },
  {
   "cell_type": "code",
   "execution_count": 91,
   "metadata": {},
   "outputs": [
    {
     "data": {
      "text/html": [
       "<div>\n",
       "<style scoped>\n",
       "    .dataframe tbody tr th:only-of-type {\n",
       "        vertical-align: middle;\n",
       "    }\n",
       "\n",
       "    .dataframe tbody tr th {\n",
       "        vertical-align: top;\n",
       "    }\n",
       "\n",
       "    .dataframe thead th {\n",
       "        text-align: right;\n",
       "    }\n",
       "</style>\n",
       "<table border=\"1\" class=\"dataframe\">\n",
       "  <thead>\n",
       "    <tr style=\"text-align: right;\">\n",
       "      <th></th>\n",
       "      <th>source</th>\n",
       "      <th>target</th>\n",
       "      <th>segment</th>\n",
       "      <th>branch</th>\n",
       "      <th>distance</th>\n",
       "    </tr>\n",
       "  </thead>\n",
       "  <tbody>\n",
       "    <tr>\n",
       "      <th>0</th>\n",
       "      <td>8645</td>\n",
       "      <td>0</td>\n",
       "      <td>1</td>\n",
       "      <td>0</td>\n",
       "      <td>170.396668</td>\n",
       "    </tr>\n",
       "    <tr>\n",
       "      <th>1</th>\n",
       "      <td>68383</td>\n",
       "      <td>0</td>\n",
       "      <td>1</td>\n",
       "      <td>1</td>\n",
       "      <td>200.549905</td>\n",
       "    </tr>\n",
       "    <tr>\n",
       "      <th>2</th>\n",
       "      <td>221483</td>\n",
       "      <td>0</td>\n",
       "      <td>1</td>\n",
       "      <td>1</td>\n",
       "      <td>150.408778</td>\n",
       "    </tr>\n",
       "    <tr>\n",
       "      <th>3</th>\n",
       "      <td>124025</td>\n",
       "      <td>0</td>\n",
       "      <td>1</td>\n",
       "      <td>1</td>\n",
       "      <td>199.408778</td>\n",
       "    </tr>\n",
       "    <tr>\n",
       "      <th>4</th>\n",
       "      <td>63845</td>\n",
       "      <td>0</td>\n",
       "      <td>1</td>\n",
       "      <td>1</td>\n",
       "      <td>140.408778</td>\n",
       "    </tr>\n",
       "    <tr>\n",
       "      <th>...</th>\n",
       "      <td>...</td>\n",
       "      <td>...</td>\n",
       "      <td>...</td>\n",
       "      <td>...</td>\n",
       "      <td>...</td>\n",
       "    </tr>\n",
       "    <tr>\n",
       "      <th>9625</th>\n",
       "      <td>724214</td>\n",
       "      <td>99</td>\n",
       "      <td>4</td>\n",
       "      <td>8</td>\n",
       "      <td>223.527417</td>\n",
       "    </tr>\n",
       "    <tr>\n",
       "      <th>9626</th>\n",
       "      <td>54284</td>\n",
       "      <td>99</td>\n",
       "      <td>4</td>\n",
       "      <td>9</td>\n",
       "      <td>164.039492</td>\n",
       "    </tr>\n",
       "    <tr>\n",
       "      <th>9627</th>\n",
       "      <td>18903</td>\n",
       "      <td>99</td>\n",
       "      <td>4</td>\n",
       "      <td>9</td>\n",
       "      <td>179.714208</td>\n",
       "    </tr>\n",
       "    <tr>\n",
       "      <th>9628</th>\n",
       "      <td>341606</td>\n",
       "      <td>99</td>\n",
       "      <td>4</td>\n",
       "      <td>9</td>\n",
       "      <td>176.226283</td>\n",
       "    </tr>\n",
       "    <tr>\n",
       "      <th>9629</th>\n",
       "      <td>421237</td>\n",
       "      <td>99</td>\n",
       "      <td>4</td>\n",
       "      <td>9</td>\n",
       "      <td>192.900999</td>\n",
       "    </tr>\n",
       "  </tbody>\n",
       "</table>\n",
       "<p>9630 rows × 5 columns</p>\n",
       "</div>"
      ],
      "text/plain": [
       "      source  target  segment  branch    distance\n",
       "0       8645       0        1       0  170.396668\n",
       "1      68383       0        1       1  200.549905\n",
       "2     221483       0        1       1  150.408778\n",
       "3     124025       0        1       1  199.408778\n",
       "4      63845       0        1       1  140.408778\n",
       "...      ...     ...      ...     ...         ...\n",
       "9625  724214      99        4       8  223.527417\n",
       "9626   54284      99        4       9  164.039492\n",
       "9627   18903      99        4       9  179.714208\n",
       "9628  341606      99        4       9  176.226283\n",
       "9629  421237      99        4       9  192.900999\n",
       "\n",
       "[9630 rows x 5 columns]"
      ]
     },
     "execution_count": 91,
     "metadata": {},
     "output_type": "execute_result"
    }
   ],
   "source": [
    "aa05 = pd.read_hdf('../connection_test_dist05_20210715/AAtoMLI.h5', \"connection\")\n",
    "aa05"
   ]
  },
  {
   "cell_type": "code",
   "execution_count": 92,
   "metadata": {},
   "outputs": [
    {
     "data": {
      "text/plain": [
       "96.3"
      ]
     },
     "execution_count": 92,
     "metadata": {},
     "output_type": "execute_result"
    }
   ],
   "source": [
    "##Amount of connections from one MLI to PFs\n",
    "nsource_aa05 = aa05.groupby('target').count().source\n",
    "nsource_aa05.mean()"
   ]
  },
  {
   "cell_type": "markdown",
   "metadata": {},
   "source": [
    "## 0.5 microm PF to MLI"
   ]
  },
  {
   "cell_type": "code",
   "execution_count": 175,
   "metadata": {},
   "outputs": [
    {
     "data": {
      "text/html": [
       "<div>\n",
       "<style scoped>\n",
       "    .dataframe tbody tr th:only-of-type {\n",
       "        vertical-align: middle;\n",
       "    }\n",
       "\n",
       "    .dataframe tbody tr th {\n",
       "        vertical-align: top;\n",
       "    }\n",
       "\n",
       "    .dataframe thead th {\n",
       "        text-align: right;\n",
       "    }\n",
       "</style>\n",
       "<table border=\"1\" class=\"dataframe\">\n",
       "  <thead>\n",
       "    <tr style=\"text-align: right;\">\n",
       "      <th></th>\n",
       "      <th>source</th>\n",
       "      <th>target</th>\n",
       "      <th>segment</th>\n",
       "      <th>branch</th>\n",
       "      <th>distance</th>\n",
       "    </tr>\n",
       "  </thead>\n",
       "  <tbody>\n",
       "    <tr>\n",
       "      <th>0</th>\n",
       "      <td>1928</td>\n",
       "      <td>0</td>\n",
       "      <td>1</td>\n",
       "      <td>0</td>\n",
       "      <td>624.554812</td>\n",
       "    </tr>\n",
       "    <tr>\n",
       "      <th>1</th>\n",
       "      <td>5168</td>\n",
       "      <td>0</td>\n",
       "      <td>1</td>\n",
       "      <td>0</td>\n",
       "      <td>399.554812</td>\n",
       "    </tr>\n",
       "    <tr>\n",
       "      <th>2</th>\n",
       "      <td>717609</td>\n",
       "      <td>0</td>\n",
       "      <td>1</td>\n",
       "      <td>0</td>\n",
       "      <td>274.445188</td>\n",
       "    </tr>\n",
       "    <tr>\n",
       "      <th>3</th>\n",
       "      <td>1928</td>\n",
       "      <td>0</td>\n",
       "      <td>1</td>\n",
       "      <td>0</td>\n",
       "      <td>622.606540</td>\n",
       "    </tr>\n",
       "    <tr>\n",
       "      <th>4</th>\n",
       "      <td>5168</td>\n",
       "      <td>0</td>\n",
       "      <td>1</td>\n",
       "      <td>0</td>\n",
       "      <td>397.606540</td>\n",
       "    </tr>\n",
       "    <tr>\n",
       "      <th>...</th>\n",
       "      <td>...</td>\n",
       "      <td>...</td>\n",
       "      <td>...</td>\n",
       "      <td>...</td>\n",
       "      <td>...</td>\n",
       "    </tr>\n",
       "    <tr>\n",
       "      <th>131632</th>\n",
       "      <td>412158</td>\n",
       "      <td>99</td>\n",
       "      <td>4</td>\n",
       "      <td>9</td>\n",
       "      <td>302.786000</td>\n",
       "    </tr>\n",
       "    <tr>\n",
       "      <th>131633</th>\n",
       "      <td>79202</td>\n",
       "      <td>99</td>\n",
       "      <td>4</td>\n",
       "      <td>9</td>\n",
       "      <td>864.786000</td>\n",
       "    </tr>\n",
       "    <tr>\n",
       "      <th>131634</th>\n",
       "      <td>22744</td>\n",
       "      <td>99</td>\n",
       "      <td>4</td>\n",
       "      <td>9</td>\n",
       "      <td>612.786000</td>\n",
       "    </tr>\n",
       "    <tr>\n",
       "      <th>131635</th>\n",
       "      <td>611573</td>\n",
       "      <td>99</td>\n",
       "      <td>4</td>\n",
       "      <td>9</td>\n",
       "      <td>231.786000</td>\n",
       "    </tr>\n",
       "    <tr>\n",
       "      <th>131636</th>\n",
       "      <td>736152</td>\n",
       "      <td>99</td>\n",
       "      <td>4</td>\n",
       "      <td>9</td>\n",
       "      <td>970.786000</td>\n",
       "    </tr>\n",
       "  </tbody>\n",
       "</table>\n",
       "<p>131637 rows × 5 columns</p>\n",
       "</div>"
      ],
      "text/plain": [
       "        source  target  segment  branch    distance\n",
       "0         1928       0        1       0  624.554812\n",
       "1         5168       0        1       0  399.554812\n",
       "2       717609       0        1       0  274.445188\n",
       "3         1928       0        1       0  622.606540\n",
       "4         5168       0        1       0  397.606540\n",
       "...        ...     ...      ...     ...         ...\n",
       "131632  412158      99        4       9  302.786000\n",
       "131633   79202      99        4       9  864.786000\n",
       "131634   22744      99        4       9  612.786000\n",
       "131635  611573      99        4       9  231.786000\n",
       "131636  736152      99        4       9  970.786000\n",
       "\n",
       "[131637 rows x 5 columns]"
      ]
     },
     "execution_count": 175,
     "metadata": {},
     "output_type": "execute_result"
    }
   ],
   "source": [
    "pf05 = pd.read_hdf('../connection_test_dist05_20210715/PFtoMLI.h5', \"connection\")\n",
    "pf05"
   ]
  },
  {
   "cell_type": "code",
   "execution_count": 176,
   "metadata": {},
   "outputs": [
    {
     "data": {
      "text/plain": [
       "1316.37"
      ]
     },
     "execution_count": 176,
     "metadata": {},
     "output_type": "execute_result"
    }
   ],
   "source": [
    "##Amount of connections from one MLI to PFs\n",
    "nsource_pf05 = pf05.groupby('target').count().source\n",
    "nsource_pf05.mean()"
   ]
  },
  {
   "cell_type": "markdown",
   "metadata": {},
   "source": [
    "## Boxplot PF"
   ]
  },
  {
   "cell_type": "code",
   "execution_count": 186,
   "metadata": {},
   "outputs": [
    {
     "data": {
      "text/plain": [
       "(100, 1)"
      ]
     },
     "execution_count": 186,
     "metadata": {},
     "output_type": "execute_result"
    }
   ],
   "source": [
    "pf05_nSource=np.array([nsource_pf05])\n",
    "pf05_nSource=np.reshape(pf05_nSource, [100, 1])\n",
    "pf05_nSource.shape"
   ]
  },
  {
   "cell_type": "code",
   "execution_count": 187,
   "metadata": {},
   "outputs": [
    {
     "data": {
      "text/plain": [
       "(100, 1)"
      ]
     },
     "execution_count": 187,
     "metadata": {},
     "output_type": "execute_result"
    }
   ],
   "source": [
    "pf1_nSource=np.array([nsource_pf1])\n",
    "pf1_nSource=np.reshape(pf1_nSource, [100, 1])\n",
    "pf1_nSource.shape"
   ]
  },
  {
   "cell_type": "code",
   "execution_count": 211,
   "metadata": {},
   "outputs": [
    {
     "data": {
      "text/plain": [
       "(100, 1)"
      ]
     },
     "execution_count": 211,
     "metadata": {},
     "output_type": "execute_result"
    }
   ],
   "source": [
    "pf2_nSource=np.array([nsource_pf2])\n",
    "pf2_nSource=np.reshape(pf2_nSource, [100, 1])\n",
    "pf2_nSource.shape"
   ]
  },
  {
   "cell_type": "code",
   "execution_count": 212,
   "metadata": {},
   "outputs": [
    {
     "data": {
      "text/plain": [
       "(100, 3)"
      ]
     },
     "execution_count": 212,
     "metadata": {},
     "output_type": "execute_result"
    }
   ],
   "source": [
    "#merge all PF settings in one array\n",
    "nSourceAll=np.concatenate((pf05_nSource, pf1_nSource, pf2_nSource), axis=1)\n",
    "nSourceAll.shape"
   ]
  },
  {
   "cell_type": "code",
   "execution_count": 202,
   "metadata": {},
   "outputs": [
    {
     "data": {
      "text/plain": [
       "array([[1316],\n",
       "       [ 951],\n",
       "       [1450],\n",
       "       [1110],\n",
       "       [ 983]])"
      ]
     },
     "execution_count": 202,
     "metadata": {},
     "output_type": "execute_result"
    }
   ],
   "source": [
    "pf05_nSource[0:5]"
   ]
  },
  {
   "cell_type": "code",
   "execution_count": 213,
   "metadata": {},
   "outputs": [
    {
     "name": "stdout",
     "output_type": "stream",
     "text": [
      "1316.37 5271.46 21101.78\n"
     ]
    }
   ],
   "source": [
    "print(nsource_pf05.mean(),nsource_pf1.mean(), nsource_pf2.mean())"
   ]
  },
  {
   "cell_type": "code",
   "execution_count": 220,
   "metadata": {},
   "outputs": [
    {
     "data": {
      "image/png": "[encoded data removed]",
      "text/plain": [
       "<Figure size 432x288 with 1 Axes>"
      ]
     },
     "metadata": {
      "needs_background": "light"
     },
     "output_type": "display_data"
    }
   ],
   "source": [
    "\n",
    "df = pd.DataFrame(nSourceAll, columns=['PF_0.5', 'PF_1', 'PF_2'])\n",
    "ax = df.plot.box()\n"
   ]
  },
  {
   "cell_type": "markdown",
   "metadata": {},
   "source": [
    "## Boxplot PF and AA 0.5"
   ]
  },
  {
   "cell_type": "code",
   "execution_count": 218,
   "metadata": {},
   "outputs": [
    {
     "data": {
      "text/plain": [
       "(100, 1)"
      ]
     },
     "execution_count": 218,
     "metadata": {},
     "output_type": "execute_result"
    }
   ],
   "source": [
    "aa05_nSource=np.array([nsource_aa05])\n",
    "aa05_nSource=np.reshape(aa05_nSource, [100, 1])\n",
    "aa05_nSource.shape"
   ]
  },
  {
   "cell_type": "code",
   "execution_count": 219,
   "metadata": {},
   "outputs": [
    {
     "data": {
      "text/plain": [
       "(100, 2)"
      ]
     },
     "execution_count": 219,
     "metadata": {},
     "output_type": "execute_result"
    }
   ],
   "source": [
    "#merge PF  and AA in one array\n",
    "nSource05=np.concatenate((pf05_nSource, aa05_nSource), axis=1)\n",
    "nSource05.shape"
   ]
  },
  {
   "cell_type": "code",
   "execution_count": 221,
   "metadata": {},
   "outputs": [
    {
     "data": {
      "image/png": "[encoded data removed]",
      "text/plain": [
       "<Figure size 432x288 with 1 Axes>"
      ]
     },
     "metadata": {
      "needs_background": "light"
     },
     "output_type": "display_data"
    }
   ],
   "source": [
    "df = pd.DataFrame(nSource05, columns=['PF_0.5', 'AA_0.5'])\n",
    "ax = df.plot.box()"
   ]
  },
  {
   "cell_type": "code",
   "execution_count": null,
   "metadata": {},
   "outputs": [],
   "source": []
  }
 ],
 "metadata": {
  "kernelspec": {
   "display_name": "Python 3",
   "language": "python",
   "name": "python3"
  },
  "language_info": {
   "codemirror_mode": {
    "name": "ipython",
    "version": 3
   },
   "file_extension": ".py",
   "mimetype": "text/x-python",
   "name": "python",
   "nbconvert_exporter": "python",
   "pygments_lexer": "ipython3",
   "version": "3.8.5"
  }
 },
 "nbformat": 4,
 "nbformat_minor": 4
}
