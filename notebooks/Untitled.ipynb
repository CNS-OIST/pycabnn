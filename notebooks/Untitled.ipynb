{
 "cells": [
  {
   "cell_type": "code",
   "execution_count": 1,
   "metadata": {},
   "outputs": [],
   "source": [
    "import numpy as np\n",
    "from tqdm import tqdm\n",
    "import matplotlib.pyplot as plt\n",
    "import random #generating negative random numbers\n",
    "\n",
    "from mpl_toolkits.mplot3d import Axes3D # for 3D visualization\n",
    "\n",
    "from tqdm import tqdm, trange #loading status\n",
    "\n"
   ]
  },
  {
   "cell_type": "code",
   "execution_count": 2,
   "metadata": {},
   "outputs": [],
   "source": [
    "%load_ext autoreload\n",
    "%autoreload 2"
   ]
  },
  {
   "cell_type": "code",
   "execution_count": 5,
   "metadata": {},
   "outputs": [
    {
     "name": "stdout",
     "output_type": "stream",
     "text": [
      "/Users/reuschenbachjosefine/ComputationalNeuroscienceUnit/pycabnn-MLI\n"
     ]
    }
   ],
   "source": [
    "cd ComputationalNeuroscienceUnit/pycabnn-MLI/"
   ]
  },
  {
   "cell_type": "code",
   "execution_count": 6,
   "metadata": {},
   "outputs": [
    {
     "name": "stderr",
     "output_type": "stream",
     "text": [
      "/Users/reuschenbachjosefine/ComputationalNeuroscienceUnit/pycabnn-MLI/pycabnn/connector.py:13: TqdmExperimentalWarning: Using `tqdm.autonotebook.tqdm` in notebook mode. Use `tqdm.tqdm` instead to force console mode (e.g. in jupyter console)\n",
      "  from tqdm.autonotebook import tqdm\n"
     ]
    }
   ],
   "source": [
    "import pycabnn.generate_cell_position_mli as pop"
   ]
  },
  {
   "cell_type": "code",
   "execution_count": 11,
   "metadata": {},
   "outputs": [
    {
     "name": "stdout",
     "output_type": "stream",
     "text": [
      "Nseg for APical is 5 and Basal is 3\n",
      "\t36 \n"
     ]
    },
    {
     "data": {
      "text/plain": [
       "1.0"
      ]
     },
     "execution_count": 11,
     "metadata": {},
     "output_type": "execute_result"
    }
   ],
   "source": [
    "from neuron import h\n",
    "h.load_file('test_data/params/Parameters.hoc')"
   ]
  },
  {
   "cell_type": "code",
   "execution_count": 6,
   "metadata": {},
   "outputs": [
    {
     "name": "stdout",
     "output_type": "stream",
     "text": [
      "LICENSE.txt                    optional-requirements.txt\n",
      "README.md                      \u001b[34mpycabnn\u001b[m\u001b[m/\n",
      "SnipsForEPointOnSphere.ipynb   requirements.txt\n",
      "environment.yml                \u001b[31mrun_connector.py\u001b[m\u001b[m*\n",
      "\u001b[31mgenerate_cell_position.py\u001b[m\u001b[m*     start_ipcluster.sh\n",
      "\u001b[31mgenerate_cell_position_mli.py\u001b[m\u001b[m* \u001b[34mtest_data\u001b[m\u001b[m/\n",
      "\u001b[34mmovie_figs\u001b[m\u001b[m/                    \u001b[31munpack_db.py\u001b[m\u001b[m*\n",
      "\u001b[34mnotebooks\u001b[m\u001b[m/\n"
     ]
    }
   ],
   "source": [
    "%ls"
   ]
  },
  {
   "cell_type": "code",
   "execution_count": 7,
   "metadata": {},
   "outputs": [
    {
     "data": {
      "text/plain": [
       "array([[ 260.49691676,  240.67988039,  322.96117708],\n",
       "       [1465.06295851,  597.04816666,  306.79052032],\n",
       "       [ 472.20029745,  592.2483781 ,  291.51042226],\n",
       "       ...,\n",
       "       [ 246.18660025,  454.16079958,  231.49146258],\n",
       "       [1195.12771213,  411.52965724,  382.92238184],\n",
       "       [1441.1328444 ,  644.26804017,  321.50457917]])"
      ]
     },
     "execution_count": 7,
     "metadata": {},
     "output_type": "execute_result"
    }
   ],
   "source": [
    "somas=np.loadtxt(\"test_data/MLIcoordinates.dat\")\n",
    "# somas = somas['mli']\n",
    "somas"
   ]
  },
  {
   "cell_type": "code",
   "execution_count": 8,
   "metadata": {},
   "outputs": [
    {
     "data": {
      "text/plain": [
       "230.00575452245153"
      ]
     },
     "execution_count": 8,
     "metadata": {},
     "output_type": "execute_result"
    }
   ],
   "source": [
    "somas[:,2].min()"
   ]
  },
  {
   "cell_type": "code",
   "execution_count": 9,
   "metadata": {},
   "outputs": [
    {
     "name": "stderr",
     "output_type": "stream",
     "text": [
      "/Users/reuschenbachjosefine/ComputationalNeuroscienceUnit/pycabnn-MLI/pycabnn/connector.py:13: TqdmExperimentalWarning: Using `tqdm.autonotebook.tqdm` in notebook mode. Use `tqdm.tqdm` instead to force console mode (e.g. in jupyter console)\n",
      "  from tqdm.autonotebook import tqdm\n"
     ]
    }
   ],
   "source": [
    "import pycabnn.cell_population as pop"
   ]
  },
  {
   "cell_type": "code",
   "execution_count": 12,
   "metadata": {},
   "outputs": [],
   "source": [
    "mlipop = pop.MLI_pop(h)"
   ]
  },
  {
   "cell_type": "code",
   "execution_count": 13,
   "metadata": {},
   "outputs": [],
   "source": [
    "mlipop.load_somata(somas)"
   ]
  },
  {
   "cell_type": "code",
   "execution_count": null,
   "metadata": {},
   "outputs": [
    {
     "name": "stderr",
     "output_type": "stream",
     "text": [
      " 64%|██████▍   | 12817/19885 [46:31<26:55,  4.37it/s]     "
     ]
    }
   ],
   "source": [
    "DendPointAllAll, dendpt_ids_all, segs = mlipop.gen_dendrite(return_end_points=False)"
   ]
  },
  {
   "cell_type": "code",
   "execution_count": null,
   "metadata": {},
   "outputs": [],
   "source": []
  }
 ],
 "metadata": {
  "kernelspec": {
   "display_name": "Python 3",
   "language": "python",
   "name": "python3"
  },
  "language_info": {
   "codemirror_mode": {
    "name": "ipython",
    "version": 3
   },
   "file_extension": ".py",
   "mimetype": "text/x-python",
   "name": "python",
   "nbconvert_exporter": "python",
   "pygments_lexer": "ipython3",
   "version": "3.8.5"
  }
 },
 "nbformat": 4,
 "nbformat_minor": 4
}
