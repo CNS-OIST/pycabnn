{
 "cells": [
  {
   "cell_type": "markdown",
   "metadata": {},
   "source": [
    "# Statistical analysis of the generated cell positions\n",
    "\n",
    "This notebook contains some codes that analyze the cell position data generated from pycabnn."
   ]
  },
  {
   "cell_type": "code",
   "execution_count": 59,
   "metadata": {},
   "outputs": [],
   "source": [
    "import numpy as np\n",
    "import pandas as pd\n",
    "from tqdm.autonotebook import tqdm, trange\n",
    "import matplotlib.pyplot as plt\n",
    "\n",
    "from sklearn.neighbors import NearestNeighbors"
   ]
  },
  {
   "cell_type": "markdown",
   "metadata": {
    "tags": []
   },
   "source": [
    "## Load data\n",
    "\n",
    "Here we load the sample cell position data."
   ]
  },
  {
   "cell_type": "code",
   "execution_count": 2,
   "metadata": {},
   "outputs": [],
   "source": [
    "# A few utility functions to p\n",
    "\n",
    "def limit_to_box(x, box):\n",
    "    \"\"\"select only the points within a given box.\"\"\"\n",
    "    mf = x.copy()\n",
    "    for i, t in enumerate(box):\n",
    "        mf = mf[mf[:, i] >= t[0], :]\n",
    "        mf = mf[mf[:, i] <= t[1], :]\n",
    "    return mf\n",
    "\n",
    "def print_range(goc):\n",
    "    \"\"\"prints the 3d range occupied by the cell population\"\"\"\n",
    "    print(\n",
    "        \"Current range:\\n\",\n",
    "        \"x: [{}, {}]\\n\".format(goc[:, 0].min(), goc[:, 0].max()),\n",
    "        \"y: [{}, {}]\\n\".format(goc[:, 1].min(), goc[:, 1].max()),\n",
    "        \"z: [{}, {}]\".format(goc[:, 2].min(), goc[:, 2].max()),\n",
    "    )\n",
    "\n",
    "def fix_coords(x, bbox):\n",
    "    \"\"\"removes the cells in a 25 um-wide gutter.\"\"\"\n",
    "    y = x - 25\n",
    "    y = limit_to_box(y, bbox)\n",
    "    print_range(y)\n",
    "    return y\n"
   ]
  },
  {
   "cell_type": "code",
   "execution_count": 3,
   "metadata": {},
   "outputs": [
    {
     "name": "stdout",
     "output_type": "stream",
     "text": [
      "Current range:\n",
      " x: [0.008738726727301582, 699.9951413085064]\n",
      " y: [0.0056677228167814064, 699.9989124811175]\n",
      " z: [0.0020255851778578915, 199.99996645157134]\n",
      "Current range:\n",
      " x: [0.0003566497912323996, 699.9434720937548]\n",
      " y: [0.03680411733359179, 699.9969905094972]\n",
      " z: [0.0011508231361929688, 199.98956118528915]\n"
     ]
    }
   ],
   "source": [
    "# load the data\n",
    "fname = \"../../test_data/generated_positions/coords_20190626_1_6.npz\"\n",
    "f = np.load(fname)\n",
    "f['grc_nop'].shape # grc_nop is grc positions without perturbation\n",
    "\n",
    "# readjuct the data to the bounding box - note that the data were generated in a larger volume\n",
    "bbox = [[0, 700], [0, 700], [0, 200]]\n",
    "grc = fix_coords(f['grc_nop'], bbox) # here we use the unperturbed position\n",
    "glo = fix_coords(f['glo'], bbox)\n",
    "grx = grc + np.random.randn(*grc.shape)*0.2 # add perturbation, corresponding to the softness margin, 0.2 um here.\n"
   ]
  },
  {
   "cell_type": "markdown",
   "metadata": {},
   "source": [
    "## Simple distance-based GrC-Glo connection\n",
    "\n",
    "Here we demonstrate and analyze the GrC-glomerulus connectivity based on the simple distance-based rule."
   ]
  },
  {
   "cell_type": "markdown",
   "metadata": {},
   "source": [
    "## Pycabnn-generated cell position"
   ]
  },
  {
   "cell_type": "code",
   "execution_count": 132,
   "metadata": {},
   "outputs": [],
   "source": [
    "## [0,1,2] = [mediolateral, sagittal, z]\n",
    "## we first rescale the sagittal direction to make the connection stretch more in the sagittal direction\n",
    "\n",
    "scale_factor = 1/4\n",
    "\n",
    "src = glo.copy() #GL\n",
    "tgt = grx.copy() #GrC\n",
    "\n",
    "src[:, 1] *= scale_factor\n",
    "tgt[:, 1] *= scale_factor"
   ]
  },
  {
   "cell_type": "code",
   "execution_count": 32,
   "metadata": {},
   "outputs": [
    {
     "name": "stdout",
     "output_type": "stream",
     "text": [
      "connection list =  [array([24439,  7510,  9711, 38567, 44375,  6622])\n",
      " array([23850, 14883, 16094, 53010])\n",
      " array([51504, 10381, 41401,  8627,  1244]) ...\n",
      " array([34542, 38056, 22814]) array([48580, 35881, 32586])\n",
      " array([ 7809,  6599, 31167, 27955, 46612])]\n"
     ]
    }
   ],
   "source": [
    "rr = 7.85\n",
    "nn = NearestNeighbors()\n",
    "nn.fit(src)\n",
    "conns = nn.radius_neighbors(tgt, radius=rr, return_distance=False)\n",
    "print(\"connection list = \", conns)"
   ]
  },
  {
   "cell_type": "code",
   "execution_count": 34,
   "metadata": {},
   "outputs": [],
   "source": [
    "# Check the number of GrC is the same as the length of the connection list\n",
    "assert tgt.shape[0] == conns.shape[0]"
   ]
  },
  {
   "cell_type": "code",
   "execution_count": 107,
   "metadata": {},
   "outputs": [
    {
     "data": {
      "application/vnd.jupyter.widget-view+json": {
       "model_id": "c6770f3e7c80439a8f7f3aac9ea9d254",
       "version_major": 2,
       "version_minor": 0
      },
      "text/plain": [
       "  0%|          | 0/181527 [00:00<?, ?it/s]"
      ]
     },
     "metadata": {},
     "output_type": "display_data"
    },
    {
     "data": {
      "text/html": [
       "<div>\n",
       "<style scoped>\n",
       "    .dataframe tbody tr th:only-of-type {\n",
       "        vertical-align: middle;\n",
       "    }\n",
       "\n",
       "    .dataframe tbody tr th {\n",
       "        vertical-align: top;\n",
       "    }\n",
       "\n",
       "    .dataframe thead th {\n",
       "        text-align: right;\n",
       "    }\n",
       "</style>\n",
       "<table border=\"1\" class=\"dataframe\">\n",
       "  <thead>\n",
       "    <tr style=\"text-align: right;\">\n",
       "      <th></th>\n",
       "      <th>src</th>\n",
       "      <th>tgt</th>\n",
       "    </tr>\n",
       "  </thead>\n",
       "  <tbody>\n",
       "    <tr>\n",
       "      <th>0</th>\n",
       "      <td>24439</td>\n",
       "      <td>0</td>\n",
       "    </tr>\n",
       "    <tr>\n",
       "      <th>1</th>\n",
       "      <td>7510</td>\n",
       "      <td>0</td>\n",
       "    </tr>\n",
       "    <tr>\n",
       "      <th>2</th>\n",
       "      <td>9711</td>\n",
       "      <td>0</td>\n",
       "    </tr>\n",
       "    <tr>\n",
       "      <th>3</th>\n",
       "      <td>38567</td>\n",
       "      <td>0</td>\n",
       "    </tr>\n",
       "    <tr>\n",
       "      <th>4</th>\n",
       "      <td>44375</td>\n",
       "      <td>0</td>\n",
       "    </tr>\n",
       "    <tr>\n",
       "      <th>...</th>\n",
       "      <td>...</td>\n",
       "      <td>...</td>\n",
       "    </tr>\n",
       "    <tr>\n",
       "      <th>804039</th>\n",
       "      <td>7809</td>\n",
       "      <td>181526</td>\n",
       "    </tr>\n",
       "    <tr>\n",
       "      <th>804040</th>\n",
       "      <td>6599</td>\n",
       "      <td>181526</td>\n",
       "    </tr>\n",
       "    <tr>\n",
       "      <th>804041</th>\n",
       "      <td>31167</td>\n",
       "      <td>181526</td>\n",
       "    </tr>\n",
       "    <tr>\n",
       "      <th>804042</th>\n",
       "      <td>27955</td>\n",
       "      <td>181526</td>\n",
       "    </tr>\n",
       "    <tr>\n",
       "      <th>804043</th>\n",
       "      <td>46612</td>\n",
       "      <td>181526</td>\n",
       "    </tr>\n",
       "  </tbody>\n",
       "</table>\n",
       "<p>804044 rows × 2 columns</p>\n",
       "</div>"
      ],
      "text/plain": [
       "          src     tgt\n",
       "0       24439       0\n",
       "1        7510       0\n",
       "2        9711       0\n",
       "3       38567       0\n",
       "4       44375       0\n",
       "...       ...     ...\n",
       "804039   7809  181526\n",
       "804040   6599  181526\n",
       "804041  31167  181526\n",
       "804042  27955  181526\n",
       "804043  46612  181526\n",
       "\n",
       "[804044 rows x 2 columns]"
      ]
     },
     "execution_count": 107,
     "metadata": {},
     "output_type": "execute_result"
    }
   ],
   "source": [
    "# Transform conns into the pandas table\n",
    "\n",
    "def transform_conns_table(conns):\n",
    "    Nconns = sum(c.size for c in conns)\n",
    "\n",
    "    src = np.zeros(Nconns, dtype='int')\n",
    "    tgt = np.zeros(Nconns, dtype='int')\n",
    "\n",
    "    count = 0\n",
    "    for i in trange(conns.size):\n",
    "        n = conns[i].size\n",
    "        tgt[count:(count+n)] = i\n",
    "        src[count:(count+n)] = conns[i]\n",
    "        count +=n\n",
    "\n",
    "    return pd.DataFrame({'src':src, 'tgt':tgt})\n",
    "\n",
    "df_conns = transform_conns_table(conns)\n",
    "df_conns"
   ]
  },
  {
   "cell_type": "markdown",
   "metadata": {},
   "source": [
    "### Now we analyze the connectivityhist"
   ]
  },
  {
   "cell_type": "code",
   "execution_count": 120,
   "metadata": {},
   "outputs": [
    {
     "name": "stdout",
     "output_type": "stream",
     "text": [
      "N conns per GrC = 4.434563434502766 ± 1.3565512932630999\n",
      "N conns per GL = 15.128396176714082 ± 3.4410763879196278\n"
     ]
    },
    {
     "data": {
      "image/png": "[encoded data removed]",
      "text/plain": [
       "<Figure size 432x288 with 2 Axes>"
      ]
     },
     "metadata": {
      "needs_background": "light"
     },
     "output_type": "display_data"
    }
   ],
   "source": [
    "def plot_conns(df_conns):\n",
    "    nconns_per_grc = df_conns.groupby('tgt').count().values.ravel()\n",
    "    nconns_per_gl = df_conns.groupby('src').count().values.ravel()\n",
    "\n",
    "    print('N conns per GrC = {} ± {}'.format(np.mean(nconns_per_grc), np.std(nconns_per_grc)))\n",
    "    print('N conns per GL = {} ± {}'.format(np.mean(nconns_per_gl), np.std(nconns_per_gl)))\n",
    "\n",
    "    _, (ax1, ax2) = plt.subplots(ncols=2)\n",
    "    n_r, x_r, _ = ax1.hist(nconns_per_grc, np.arange(nconns_per_grc.max()),10)\n",
    "    ax1.set_title('count', loc=\"left\")\n",
    "    ax1.set(xlabel='connections per GrC')\n",
    "\n",
    "    _ = ax2.hist(nconns_per_gl, np.arange(nconns_per_gl.max()),10)\n",
    "    ax2.set(xlabel='connections per GL')\n",
    "\n",
    "plot_conns(df_conns)"
   ]
  },
  {
   "cell_type": "markdown",
   "metadata": {},
   "source": [
    "### Dendrite length"
   ]
  },
  {
   "cell_type": "code",
   "execution_count": 147,
   "metadata": {},
   "outputs": [],
   "source": [
    "src = glo.copy() #GL\n",
    "tgt = grx.copy() #GrC\n",
    "\n",
    "src_coord = src[df_conns.src.values.ravel(),:]\n",
    "tgt_coord = tgt[df_conns.tgt.values.ravel(),:]"
   ]
  },
  {
   "cell_type": "code",
   "execution_count": 146,
   "metadata": {},
   "outputs": [
    {
     "name": "stdout",
     "output_type": "stream",
     "text": [
      "(181527, 3)\n",
      "181526\n"
     ]
    }
   ],
   "source": [
    "print(tgt.shape)\n",
    "print(df_conns.tgt.values.ravel().max()"
   ]
  },
  {
   "cell_type": "code",
   "execution_count": 148,
   "metadata": {},
   "outputs": [],
   "source": [
    "delta = tgt_coord-src_coord\n",
    "dend_length = np.sqrt((delta**2).sum(axis=1))"
   ]
  },
  {
   "cell_type": "code",
   "execution_count": 152,
   "metadata": {},
   "outputs": [
    {
     "data": {
      "text/plain": [
       "(array([ 24876., 105360., 149700., 159448., 147080., 115997.,  71482.,\n",
       "         24361.,   5220.,    520.]),\n",
       " array([  2.95111649,  99.86053777, 196.76995905, 293.67938033,\n",
       "        390.58880161, 487.49822289, 584.40764416, 681.31706544,\n",
       "        778.22648672, 875.135908  , 972.04532928]),\n",
       " <BarContainer object of 10 artists>)"
      ]
     },
     "execution_count": 152,
     "metadata": {},
     "output_type": "execute_result"
    },
    {
     "data": {
      "image/png": "[encoded data removed]",
      "text/plain": [
       "<Figure size 432x288 with 1 Axes>"
      ]
     },
     "metadata": {
      "needs_background": "light"
     },
     "output_type": "display_data"
    }
   ],
   "source": [
    "plt.hist(dend_length)"
   ]
  },
  {
   "cell_type": "markdown",
   "metadata": {},
   "source": [
    "## Comparison with random cell positions\n",
    "\n",
    "The same connectivity analysis with the purely random cell positions. The result can be slightly different from the numbers that we reported in the paper --- since it is random!"
   ]
  },
  {
   "cell_type": "code",
   "execution_count": 118,
   "metadata": {},
   "outputs": [],
   "source": [
    "# generate the purely rarndom cell position\n",
    "grx = np.random.rand(*grx.shape)\n",
    "glo = np.random.rand(*glo.shape)\n",
    "\n",
    "grx[:,0] *= 700\n",
    "grx[:,1] *= 700\n",
    "grx[:,2] *= 200\n",
    "\n",
    "glo[:,0] *= 700\n",
    "glo[:,1] *= 700\n",
    "glo[:,2] *= 200\n",
    "\n",
    "scale_factor = 1/4\n",
    "\n",
    "# grx = grc + np.random.randn(*grc.shape)*0.2\n",
    "\n",
    "src = grx.copy()\n",
    "tgt = glo.copy()\n",
    "src[:, 1] *= scale_factor\n",
    "tgt[:, 1] *= scale_factor"
   ]
  },
  {
   "cell_type": "code",
   "execution_count": 125,
   "metadata": {},
   "outputs": [
    {
     "data": {
      "application/vnd.jupyter.widget-view+json": {
       "model_id": "2d239d41e15644dda60ce812d89b6b18",
       "version_major": 2,
       "version_minor": 0
      },
      "text/plain": [
       "  0%|          | 0/181527 [00:00<?, ?it/s]"
      ]
     },
     "metadata": {},
     "output_type": "display_data"
    }
   ],
   "source": [
    "nn = NearestNeighbors()\n",
    "nn.fit(tgt)\n",
    "df_rand = transform_conns_table(nn.radius_neighbors(src, radius=rr, return_distance=False))"
   ]
  },
  {
   "cell_type": "code",
   "execution_count": 126,
   "metadata": {},
   "outputs": [
    {
     "name": "stdout",
     "output_type": "stream",
     "text": [
      "N conns per GrC = 4.307813410425351 ± 2.043862921293718\n",
      "N conns per GL = 14.467016632798977 ± 4.118770808935937\n"
     ]
    },
    {
     "data": {
      "image/png": "[encoded data removed]",
      "text/plain": [
       "<Figure size 432x288 with 2 Axes>"
      ]
     },
     "metadata": {
      "needs_background": "light"
     },
     "output_type": "display_data"
    }
   ],
   "source": [
    "plot_conns(df_rand)"
   ]
  },
  {
   "cell_type": "code",
   "execution_count": null,
   "metadata": {},
   "outputs": [],
   "source": []
  }
 ],
 "metadata": {
  "@webio": {
   "lastCommId": null,
   "lastKernelId": null
  },
  "jupytext": {
   "encoding": "# -*- coding: utf-8 -*-",
   "formats": "ipynb,py:light"
  },
  "kernelspec": {
   "display_name": "Python 3",
   "language": "python",
   "name": "python3"
  },
  "language_info": {
   "codemirror_mode": {
    "name": "ipython",
    "version": 3
   },
   "file_extension": ".py",
   "mimetype": "text/x-python",
   "name": "python",
   "nbconvert_exporter": "python",
   "pygments_lexer": "ipython3",
   "version": "3.8.12"
  },
  "vscode": {
   "interpreter": {
    "hash": "40d3a090f54c6569ab1632332b64b2c03c39dcf918b08424e98f38b5ae0af88f"
   }
  }
 },
 "nbformat": 4,
 "nbformat_minor": 4
}
