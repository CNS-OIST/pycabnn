{
 "cells": [
  {
   "cell_type": "code",
   "execution_count": 4,
   "metadata": {},
   "outputs": [
    {
     "name": "stdout",
     "output_type": "stream",
     "text": [
      "C:\\Users\\idsan\\OneDrive\\문서\\GitHub\\pybrep\\poisson_disk_sampling\\python\\New trial\n"
     ]
    }
   ],
   "source": [
    "cd C:\\Users\\idsan\\OneDrive\\문서\\GitHub\\pybrep\\poisson_disk_sampling\\python\\New trial"
   ]
  },
  {
   "cell_type": "code",
   "execution_count": 2,
   "metadata": {},
   "outputs": [],
   "source": [
    "import numpy as np\n",
    "from GL_poisson import Bridson_sampling\n",
    "from testpoisson import Bridson_sampling_2\n",
    "from threepoisson import Bridson_sampling_3\n",
    "import matplotlib.pyplot as plt"
   ]
  },
  {
   "cell_type": "code",
   "execution_count": 3,
   "metadata": {},
   "outputs": [],
   "source": [
    "Transverse_range = 1500  # Y range\n",
    "Horizontal_range = 700  # X range\n",
    "Vertical_range = 200  # 140 for daria"
   ]
  },
  {
   "cell_type": "code",
   "execution_count": 6,
   "metadata": {},
   "outputs": [
    {
     "name": "stdout",
     "output_type": "stream",
     "text": [
      "C:\\Users\\idsan\\OneDrive\\문서\\GitHub\\pybrep\\poisson_disk_sampling\\python\n"
     ]
    }
   ],
   "source": [
    "cd C:\\Users\\idsan\\OneDrive\\문서\\GitHub\\pybrep\\poisson_disk_sampling\\python"
   ]
  },
  {
   "cell_type": "code",
   "execution_count": 7,
   "metadata": {},
   "outputs": [],
   "source": [
    "grc_points = np.loadtxt('GRCwgoc(670855).txt')\n",
    "points = np.loadtxt('noise_glo_withgoc.txt')\n",
    "goc_points = np.loadtxt('noise_goc.txt')"
   ]
  },
  {
   "cell_type": "code",
   "execution_count": 9,
   "metadata": {},
   "outputs": [
    {
     "name": "stdout",
     "output_type": "stream",
     "text": [
      "C:\\Users\\idsan\\OneDrive\\문서\\GitHub\\pybrep\\poisson_disk_sampling\n"
     ]
    }
   ],
   "source": [
    "cd C:\\Users\\idsan\\OneDrive\\문서\\GitHub\\pybrep\\poisson_disk_sampling    "
   ]
  },
  {
   "cell_type": "code",
   "execution_count": 11,
   "metadata": {},
   "outputs": [],
   "source": [
    "from fourthpoisson import Bridson_sampling_me\n",
    "from scipy import spatial"
   ]
  },
  {
   "cell_type": "code",
   "execution_count": 26,
   "metadata": {},
   "outputs": [],
   "source": [
    "grc_points1 = grc_points+np.random.normal(2, 2, size=(len(grc_points), 3))"
   ]
  },
  {
   "cell_type": "code",
   "execution_count": 27,
   "metadata": {},
   "outputs": [],
   "source": [
    "tree,_ = spatial.cKDTree(grc_points1).query(grc_points1, k=2)\n",
    "tree = tree[:, 1]"
   ]
  },
  {
   "cell_type": "code",
   "execution_count": 28,
   "metadata": {},
   "outputs": [
    {
     "data": {
      "image/png": "[encoded data removed]",
      "text/plain": [
       "<Figure size 432x288 with 1 Axes>"
      ]
     },
     "metadata": {
      "needs_background": "light"
     },
     "output_type": "display_data"
    }
   ],
   "source": [
    "_=plt.hist(tree, 2000)"
   ]
  },
  {
   "cell_type": "code",
   "execution_count": null,
   "metadata": {},
   "outputs": [],
   "source": [
    "grc_points_more = Bridson_sampling_me((Horizontal_range, Transverse_range, Vertical_range), 5, 300000, True, goc_points, points, grc_points)"
   ]
  }
 ],
 "metadata": {
  "kernelspec": {
   "display_name": "Python 3",
   "language": "python",
   "name": "python3"
  },
  "language_info": {
   "codemirror_mode": {
    "name": "ipython",
    "version": 3
   },
   "file_extension": ".py",
   "mimetype": "text/x-python",
   "name": "python",
   "nbconvert_exporter": "python",
   "pygments_lexer": "ipython3",
   "version": "3.7.0"
  }
 },
 "nbformat": 4,
 "nbformat_minor": 2
}
