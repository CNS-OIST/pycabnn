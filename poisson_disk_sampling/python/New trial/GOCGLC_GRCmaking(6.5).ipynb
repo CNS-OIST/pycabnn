{
 "cells": [
  {
   "cell_type": "code",
   "execution_count": 14,
   "metadata": {},
   "outputs": [
    {
     "name": "stdout",
     "output_type": "stream",
     "text": [
      "C:\\Users\\idsan\\OneDrive\\문서\\GitHub\\pybrep\\poisson_disk_sampling\\python\\New trial\n"
     ]
    }
   ],
   "source": [
    "cd C:\\Users\\idsan\\OneDrive\\문서\\GitHub\\pybrep\\poisson_disk_sampling\\python\\New trial"
   ]
  },
  {
   "cell_type": "code",
   "execution_count": 18,
   "metadata": {},
   "outputs": [],
   "source": [
    "import numpy as np\n",
    "from GL_poisson import Bridson_sampling\n",
    "from testpoisson import Bridson_sampling_2\n",
    "from threepoisson_realgrcver import Bridson_sampling_3\n",
    "import matplotlib.pyplot as plt"
   ]
  },
  {
   "cell_type": "code",
   "execution_count": 3,
   "metadata": {},
   "outputs": [],
   "source": [
    "Transverse_range = 1500  # Y range\n",
    "Horizontal_range = 700  # X range\n",
    "Vertical_range = 200  # 140 for daria"
   ]
  },
  {
   "cell_type": "code",
   "execution_count": 4,
   "metadata": {},
   "outputs": [
    {
     "name": "stdout",
     "output_type": "stream",
     "text": [
      "C:\\Users\\idsan\\OneDrive\\문서\\GitHub\\pybrep\\poisson_disk_sampling\\python\n"
     ]
    }
   ],
   "source": [
    "cd C:\\Users\\idsan\\OneDrive\\문서\\GitHub\\pybrep\\poisson_disk_sampling\\python"
   ]
  },
  {
   "cell_type": "code",
   "execution_count": 5,
   "metadata": {},
   "outputs": [],
   "source": [
    "grc_points = np.loadtxt('GRCwgoc(670855).txt')\n",
    "points = np.loadtxt('noise_glo_withgoc.txt')\n",
    "goc_points = np.loadtxt('noise_goc.txt')"
   ]
  },
  {
   "cell_type": "code",
   "execution_count": null,
   "metadata": {},
   "outputs": [],
   "source": [
    "new_grc_points = Bridson_sampling_3((Horizontal_range, Transverse_range, Vertical_range), 6, 430000, True, goc_points, points)"
   ]
  }
 ],
 "metadata": {
  "kernelspec": {
   "display_name": "Python 3",
   "language": "python",
   "name": "python3"
  },
  "language_info": {
   "codemirror_mode": {
    "name": "ipython",
    "version": 3
   },
   "file_extension": ".py",
   "mimetype": "text/x-python",
   "name": "python",
   "nbconvert_exporter": "python",
   "pygments_lexer": "ipython3",
   "version": "3.7.0"
  }
 },
 "nbformat": 4,
 "nbformat_minor": 2
}
