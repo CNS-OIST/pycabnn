{
 "cells": [
  {
   "cell_type": "code",
   "execution_count": 1,
   "metadata": {},
   "outputs": [],
   "source": [
    "#For RUNNING check variables in MLI_geometry_workbook"
   ]
  },
  {
   "cell_type": "code",
   "execution_count": null,
   "metadata": {},
   "outputs": [],
   "source": []
  },
  {
   "cell_type": "code",
   "execution_count": null,
   "metadata": {},
   "outputs": [],
   "source": [
    "zTestAll=np.empty((0), dtype=object) #empty array for dendrites\n",
    "#def pqFormula(Ldend, EpointDendTEST, somas):\n",
    "for i in range(len(EpointDendTEST)):\n",
    "    q=(Ldend**2-(EpointDendTEST[i,0]-somas[0,0])**2-(EpointDendTEST[i,1]-somas[0,1])**2)\n",
    "    root=np.sqrt((somas[0,2])**2-q)\n",
    "    zTest=np.array(-somas[0,2]+root)\n",
    "    zTestAll =np.append(zTestAll, zTest, axis=0)\n",
    "\n",
    "\n",
    "\n"
   ]
  },
  {
   "cell_type": "code",
   "execution_count": null,
   "metadata": {},
   "outputs": [],
   "source": [
    "q =(Ldend**2-(EpointDendTEST[0,0]-somas[0,0])**2-(EpointDendTEST[0,1]-somas[0,1])**2)\n",
    "q"
   ]
  },
  {
   "cell_type": "code",
   "execution_count": null,
   "metadata": {},
   "outputs": [],
   "source": [
    "root=np.sqrt((somas[0,2])**2-q)"
   ]
  },
  {
   "cell_type": "code",
   "execution_count": null,
   "metadata": {},
   "outputs": [],
   "source": [
    "zTest=(-somas[0,2]+root)"
   ]
  },
  {
   "cell_type": "code",
   "execution_count": null,
   "metadata": {},
   "outputs": [],
   "source": [
    "X1=EpointDendTEST[0,0]\n",
    "Y1=EpointDendTEST[0,1]\n",
    "Z1=zTest"
   ]
  },
  {
   "cell_type": "code",
   "execution_count": null,
   "metadata": {},
   "outputs": [],
   "source": [
    "dist=((somas[0,0]-X1)**2+(somas[0,1]-Y1)**2+(somas[0,2]-Z1)**2)**0.5"
   ]
  },
  {
   "cell_type": "code",
   "execution_count": null,
   "metadata": {},
   "outputs": [],
   "source": []
  },
  {
   "cell_type": "code",
   "execution_count": null,
   "metadata": {},
   "outputs": [],
   "source": [
    "#how to add x\n",
    "for i in range(len(EpointDendTEST)):\n",
    "    #print(EpointDendTEST[i,:])\n",
    "    #b = np.array([[0],[1],[2],[3]])\n",
    "    test=np.append(EpointDendTEST,zTestAllTEST, axis=1)"
   ]
  },
  {
   "cell_type": "code",
   "execution_count": null,
   "metadata": {},
   "outputs": [],
   "source": []
  },
  {
   "cell_type": "code",
   "execution_count": null,
   "metadata": {},
   "outputs": [],
   "source": []
  },
  {
   "cell_type": "code",
   "execution_count": null,
   "metadata": {},
   "outputs": [],
   "source": []
  },
  {
   "cell_type": "code",
   "execution_count": 1,
   "metadata": {},
   "outputs": [
    {
     "ename": "NameError",
     "evalue": "name 'somas' is not defined",
     "output_type": "error",
     "traceback": [
      "\u001b[0;31m---------------------------------------------------------------------------\u001b[0m",
      "\u001b[0;31mNameError\u001b[0m                                 Traceback (most recent call last)",
      "\u001b[0;32m<ipython-input-1-7ca28c6263d5>\u001b[0m in \u001b[0;36m<module>\u001b[0;34m\u001b[0m\n\u001b[1;32m      1\u001b[0m \u001b[0;31m##Generating Dendrite points between soma and Epoint\u001b[0m\u001b[0;34m\u001b[0m\u001b[0;34m\u001b[0m\u001b[0;34m\u001b[0m\u001b[0m\n\u001b[1;32m      2\u001b[0m \u001b[0;31m#### geometrical approach -> not working well; to complicated\u001b[0m\u001b[0;34m\u001b[0m\u001b[0;34m\u001b[0m\u001b[0;34m\u001b[0m\u001b[0m\n\u001b[0;32m----> 3\u001b[0;31m \u001b[0msoma\u001b[0m\u001b[0;34m=\u001b[0m \u001b[0msomas\u001b[0m\u001b[0;34m[\u001b[0m\u001b[0;36m0\u001b[0m\u001b[0;34m]\u001b[0m\u001b[0;34m\u001b[0m\u001b[0;34m\u001b[0m\u001b[0m\n\u001b[0m\u001b[1;32m      4\u001b[0m \u001b[0mxDendAll\u001b[0m \u001b[0;34m=\u001b[0m \u001b[0mnp\u001b[0m\u001b[0;34m.\u001b[0m\u001b[0mzeros\u001b[0m\u001b[0;34m(\u001b[0m\u001b[0mshape\u001b[0m\u001b[0;34m=\u001b[0m\u001b[0;34m(\u001b[0m\u001b[0;36m0\u001b[0m\u001b[0;34m)\u001b[0m\u001b[0;34m)\u001b[0m\u001b[0;34m\u001b[0m\u001b[0;34m\u001b[0m\u001b[0m\n\u001b[1;32m      5\u001b[0m \u001b[0mxZhelp\u001b[0m \u001b[0;34m=\u001b[0m \u001b[0mnp\u001b[0m\u001b[0;34m.\u001b[0m\u001b[0mzeros\u001b[0m\u001b[0;34m(\u001b[0m\u001b[0mshape\u001b[0m\u001b[0;34m=\u001b[0m\u001b[0;34m(\u001b[0m\u001b[0;36m0\u001b[0m\u001b[0;34m)\u001b[0m\u001b[0;34m)\u001b[0m\u001b[0;34m\u001b[0m\u001b[0;34m\u001b[0m\u001b[0m\n",
      "\u001b[0;31mNameError\u001b[0m: name 'somas' is not defined"
     ]
    }
   ],
   "source": [
    "##Generating Dendrite points between soma and Epoint\n",
    "#### geometrical approach -> not working well; to complicated\n",
    "soma= somas[0]\n",
    "xDendAll = np.zeros(shape=(0))\n",
    "xZhelp = np.zeros(shape=(0))\n",
    "yDendAll = np.zeros(shape=(0))\n",
    "zDend_1EP = np.zeros(shape=(0))\n",
    "zDendAll = np.zeros(shape=(0))\n",
    "                     \n",
    "for i in range(ep1_3d.shape[0]):\n",
    "    nPoint= 90\n",
    "    xLen=abs(soma[0]-ep1_3d[i,0]) # length of dendrite on x axis\n",
    "    xComp= xLen/nPoint # distance of compartments on x axis\n",
    "    if ep1_3d[i,0] < soma[0]:\n",
    "        xDend=(np.cumsum(np.ones(nPoint-1)*xComp))+ ep1_3d[i,0]#soma[0]\n",
    "        xDendAll = np.append(xDendAll, xDend, axis=0)\n",
    "        xZhelp=(np.cumsum(np.ones(nPoint-1)*xComp))\n",
    "    else:\n",
    "        xDend=(np.cumsum(np.ones(nPoint-1)*xComp))+soma[0]\n",
    "        xDendAll = np.append(xDendAll, xDend, axis=0)\n",
    "        xZhelp=(np.cumsum(np.ones(nPoint-1)*xComp))\n",
    "\n",
    "\n",
    "        #calculating slope\n",
    "    m=(soma[1]-ep1_3d[i,1])/(soma[0]-ep1_3d[i,0]) #m=(y1-y2)/(x1-x2)\n",
    "        #function for calculating y\n",
    "    yDend=np.array((m*xDend)-(m*soma[0])+soma[1])\n",
    "        #calculating the length of the line between soma and endpoint-z.coord.\n",
    "        \n",
    "    zLen = np.sqrt((ep1_3d[i,0]-soma[0])**2 + (ep1_3d[i,1]-soma[1])**2 + (ep1_3d[i,2]-soma[2])**2)\n",
    "    zComp= zLen/nPoint # distance of compartments on x axis\n",
    "    zPhi=(np.cumsum(np.ones(nPoint-1)*zComp))\n",
    "    #for n in range(zPhi.shape[0]):\n",
    "    zDend=np.array((np.sqrt(zPhi**2-xZhelp**2)+soma[2]))\n",
    "    #zDend=np.array((zPhi**2-(ep1_3d[i,0])**2-(ep1_3d[i,1])**2))\n",
    "    \n",
    "    zDendAll = np.append(zDendAll, zDend, axis=0)      \n",
    "\n",
    "\n",
    "    #zDend_1EP = np.append(zDend_1EP, zDend, axis=0)\n",
    "        \n",
    "\n",
    "        \n",
    "    #zDendAll = np.append(zDendAll, zDend, axis=0)      \n",
    "    yDendAll = np.append(yDendAll, yDend, axis=0)\n",
    "        \n",
    "    \n",
    "\n"
   ]
  },
  {
   "cell_type": "code",
   "execution_count": null,
   "metadata": {},
   "outputs": [],
   "source": []
  }
 ],
 "metadata": {
  "kernelspec": {
   "display_name": "Python 3",
   "language": "python",
   "name": "python3"
  },
  "language_info": {
   "codemirror_mode": {
    "name": "ipython",
    "version": 3
   },
   "file_extension": ".py",
   "mimetype": "text/x-python",
   "name": "python",
   "nbconvert_exporter": "python",
   "pygments_lexer": "ipython3",
   "version": "3.8.5"
  }
 },
 "nbformat": 4,
 "nbformat_minor": 4
}
