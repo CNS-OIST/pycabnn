{
 "cells": [
  {
   "cell_type": "markdown",
   "metadata": {},
   "source": [
    "# Run pyBrep\n",
    "\n",
    "pyBrep needs cloudpickle installed (additionally to what was already in the pybrep env that you set up for me)\n"
   ]
  },
  {
   "cell_type": "code",
   "execution_count": 30,
   "metadata": {
    "ExecuteTime": {
     "end_time": "2017-12-07T09:05:08.513259Z",
     "start_time": "2017-12-07T09:05:08.494286Z"
    }
   },
   "outputs": [],
   "source": [
    "% run ../BREPpy.py"
   ]
  },
  {
   "cell_type": "markdown",
   "metadata": {},
   "source": [
    "## Specifications (the data that byBrep needs)"
   ]
  },
  {
   "cell_type": "code",
   "execution_count": 32,
   "metadata": {
    "ExecuteTime": {
     "end_time": "2017-12-07T09:06:11.922240Z",
     "start_time": "2017-12-07T09:06:11.911249Z"
    }
   },
   "outputs": [],
   "source": [
    "# Where the results will be stored\n",
    "output_path = './output/d3_trial16/'\n",
    "\n",
    "# Config file(s): see below\n",
    "config_hoc = '../input_files/Parameters.hoc'\n",
    "config_pseudo_hoc = 'pseudo_hoc.pkl'\n",
    "\n",
    "# Coordinate input files\n",
    "gol_in = '../example_simulation/coordinates_input/GoCcoordinates.sorted.dat'\n",
    "gran_in ='../example_simulation/coordinates_input/GCcoordinates.sorted.dat'"
   ]
  },
  {
   "cell_type": "markdown",
   "metadata": {},
   "source": [
    "## Config files\n",
    "pyBREP originally uses a hoc object with the parameters necessary to run the simulation as configuration input.\n",
    "However, if you want to run the simulation in an environment where neuron is not installed, you can do the following:\n",
    "- run the following code in an environment which has neuron installed. It converts the hoc object to a dict and pickles it.\n",
    "- Transfer the pickled file to the environment which does not have neuron installed and read it in as in the cell below the next.\n",
    "- You get a preudo-hoc object which basically consists of it attributes, the parameters for the simulation. This oject can be used instead of the real hoc file."
   ]
  },
  {
   "cell_type": "code",
   "execution_count": 23,
   "metadata": {
    "ExecuteTime": {
     "end_time": "2017-12-07T08:59:21.229760Z",
     "start_time": "2017-12-07T08:59:21.222001Z"
    }
   },
   "outputs": [],
   "source": [
    "ph = Pseudo_hoc()\n",
    "ph.convert_hoc_to_pickle(config_hoc, config_pseudo_hoc)"
   ]
  },
  {
   "cell_type": "code",
   "execution_count": 26,
   "metadata": {
    "ExecuteTime": {
     "end_time": "2017-12-07T09:01:24.406237Z",
     "start_time": "2017-12-07T09:01:24.394475Z"
    }
   },
   "outputs": [
    {
     "name": "stdout",
     "output_type": "stream",
     "text": [
      "Trying to read in hoc config object from  ../input_files/Parameters.hoc\n"
     ]
    }
   ],
   "source": [
    "# import config files\n",
    "try: #if neuron is installed\n",
    "    import neuron\n",
    "    h = neuron.hoc.HocObject()\n",
    "    neuron.h.xopen(config_hoc)\n",
    "    print ('Trying to read in hoc config object from ', config_hoc)\n",
    "except: \n",
    "    h = Pseudo_hoc(config_pseudo_hoc)\n",
    "    print ('Trying to read in pseudo-hoc config object from ', config_pseudo_hoc)"
   ]
  },
  {
   "cell_type": "markdown",
   "metadata": {},
   "source": [
    "## Population building"
   ]
  },
  {
   "cell_type": "code",
   "execution_count": 33,
   "metadata": {
    "ExecuteTime": {
     "end_time": "2017-12-07T09:06:28.439932Z",
     "start_time": "2017-12-07T09:06:17.290729Z"
    }
   },
   "outputs": [],
   "source": [
    "# Set up Golgi population, get dendrite points\n",
    "gg = Golgi_pop(h)\n",
    "gg.load_somata(gol_in)\n",
    "gg.add_dendrites()\n",
    "\n",
    "#Set up Granule population including aa and pf\n",
    "gp = Granule_pop(h)\n",
    "gp.load_somata(gran_in)\n",
    "gp.add_aa_endpoints_fixed()\n",
    "gp.add_aa_endpoints_random()\n",
    "gp.add_pf_endpoints()\n"
   ]
  },
  {
   "cell_type": "code",
   "execution_count": 13,
   "metadata": {
    "ExecuteTime": {
     "end_time": "2017-11-20T08:33:12.859200Z",
     "start_time": "2017-11-20T08:33:12.839132Z"
    }
   },
   "outputs": [
    {
     "name": "stdout",
     "output_type": "stream",
     "text": [
      "(1995, 50, 3)\n",
      "(1995, 24, 3)\n",
      "(147630, 3)\n",
      "(798000, 2, 3)\n",
      "(798000, 2, 3)\n"
     ]
    }
   ],
   "source": [
    "# Access the different points:\n",
    "\n",
    "# soma coordinates\n",
    "golgi_som = gg.som\n",
    "#gran_som = gp.som\n",
    "\n",
    "# The dendrites in a ncells x npoints x dim structure\n",
    "print (gg.a_dend.shape)\n",
    "print (gg.b_dend.shape)\n",
    "\n",
    "# All dendrite points mashed together \n",
    "# (qpts is some other class that stores which cell the points belonged to)\n",
    "print (gg.qpts.coo.shape)\n",
    "\n",
    "#The parallel fiber and ascending axon endpoints: (ncells x [begin, end] x dim)\n",
    "print (gp.aa_dots.shape)\n",
    "print (gp.pf_dots.shape)\n"
   ]
  },
  {
   "cell_type": "code",
   "execution_count": null,
   "metadata": {},
   "outputs": [],
   "source": [
    "# The rest should be done on the cluster..."
   ]
  },
  {
   "cell_type": "markdown",
   "metadata": {},
   "source": [
    "## Subsampling"
   ]
  },
  {
   "cell_type": "code",
   "execution_count": null,
   "metadata": {},
   "outputs": [],
   "source": [
    "# subsampling (constant density, smaller patch)\n",
    "\n",
    "p1 = p_co #path to coordinate files\n",
    "p2 = p_co #path where the subsampled data goes\n",
    "\n",
    "\n",
    "#output filenames\n",
    "fi_go = p1+'GoCcoordinates.dat'\n",
    "fi_gr = p1+'GCcoordinates.dat'\n",
    "fo_go64 = p2+'GoCcoordinates_64.dat'\n",
    "fo_gr64 = p2+'GCcoordinates_64.dat'\n",
    "fo_go16 = p2+'GoCcoordinates_16.dat'\n",
    "fo_gr16 = p2+'GCcoordinates_16.dat'\n",
    "fo_go4 = p2+'GoCcoordinates_4.dat'\n",
    "fo_gr4 = p2+'GCcoordinates_4.dat' \n",
    "\n",
    "\n",
    "# Original size of membrane patch:\n",
    "x_r = np.array([0.0, 1500.0])\n",
    "y_r = np.array([0.0, 750.0])\n",
    "z_r = [0.0, 1000.0]\n",
    "# Smaller sizes\n",
    "rrs64 = [x_r/8, y_r/8, z_r]\n",
    "rrs16 = [x_r/4, y_r/4, z_r]\n",
    "rrs4 = [x_r/2, y_r/2, z_r]\n",
    "\n",
    "\n",
    "def subsample_coords (rrs, fn_in, fn_out = 'input_files/downsampled.dat', save = True):\n",
    "    res = []\n",
    "    rnr = [0, 0]\n",
    "    with open(fn_in, newline = '') as f, open (fn_out, 'w', newline = '') as w_f:\n",
    "        rr = csv.reader(f, delimiter = ' ')\n",
    "        if save: wr = csv.writer(w_f, delimiter = ' ')\n",
    "        for line in rr:\n",
    "            in_range = all([float(line[i])>rrs[i][0] and float(line[i])<rrs[i][1] for i in range(len(rrs))]) #check if in range\n",
    "            if in_range: \n",
    "                if save: wr.writerow([float(line[j]) for j in range(len(rrs))])\n",
    "                res.append([float(line[j]) for j in range(len(rrs))])\n",
    "                rnr[0] = rnr[0]+1\n",
    "            else:\n",
    "                rnr[1] = rnr[1]+1\n",
    "    print ('Subsampled {} of {}'.format(rnr[0], sum(rnr)))\n",
    "    return res\n",
    "\n",
    "\n",
    "\n",
    "\n",
    "_ = subsample_coords (rrs64, fi_go, fo_go64)\n",
    "_ = subsample_coords (rrs64, fi_gr, fo_gr64)\n",
    "\n",
    "'''_ = subsample_coords (rrs16, fi_go, fo_go16)\n",
    "_ = subsample_coords (rrs16, fi_gr, fo_gr16)\n",
    "_ = subsample_coords (rrs4, fi_go, fo_go4)\n",
    "_ = subsample_coords (rrs4, fi_gr, fo_gr4)\n",
    "'''"
   ]
  }
 ],
 "metadata": {
  "kernelspec": {
   "display_name": "Python 3",
   "language": "python",
   "name": "python3"
  },
  "language_info": {
   "codemirror_mode": {
    "name": "ipython",
    "version": 3
   },
   "file_extension": ".py",
   "mimetype": "text/x-python",
   "name": "python",
   "nbconvert_exporter": "python",
   "pygments_lexer": "ipython3",
   "version": "3.5.2"
  },
  "toc": {
   "nav_menu": {},
   "number_sections": true,
   "sideBar": true,
   "skip_h1_title": true,
   "toc_cell": false,
   "toc_position": {},
   "toc_section_display": "block",
   "toc_window_display": false
  },
  "varInspector": {
   "cols": {
    "lenName": 16,
    "lenType": 16,
    "lenVar": 40
   },
   "kernels_config": {
    "python": {
     "delete_cmd_postfix": "",
     "delete_cmd_prefix": "del ",
     "library": "var_list.py",
     "varRefreshCmd": "print(var_dic_list())"
    },
    "r": {
     "delete_cmd_postfix": ") ",
     "delete_cmd_prefix": "rm(",
     "library": "var_list.r",
     "varRefreshCmd": "cat(var_dic_list()) "
    }
   },
   "types_to_exclude": [
    "module",
    "function",
    "builtin_function_or_method",
    "instance",
    "_Feature"
   ],
   "window_display": false
  }
 },
 "nbformat": 4,
 "nbformat_minor": 2
}
