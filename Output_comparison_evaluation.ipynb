{
 "cells": [
  {
   "cell_type": "code",
   "execution_count": 3,
   "metadata": {
    "ExecuteTime": {
     "end_time": "2017-11-22T00:35:29.025530Z",
     "start_time": "2017-11-22T00:35:24.274165Z"
    }
   },
   "outputs": [],
   "source": [
    "import numpy as np\n",
    "import pandas as pd\n",
    "import matplotlib.pyplot as plt#\n",
    "import matplotlib as mpl\n",
    "import matplotlib.cm as cm\n",
    "from mpl_toolkits.mplot3d import Axes3D\n",
    "\n",
    "%matplotlib inline"
   ]
  },
  {
   "cell_type": "markdown",
   "metadata": {},
   "source": []
  },
  {
   "cell_type": "code",
   "execution_count": 4,
   "metadata": {
    "ExecuteTime": {
     "end_time": "2017-11-22T00:35:29.813324Z",
     "start_time": "2017-11-22T00:35:29.063534Z"
    }
   },
   "outputs": [],
   "source": [
    "''' this cell is basically the python 3 version of the nrnvector file'''\n",
    "import struct\n",
    "import numpy as np\n",
    "from tqdm import tqdm\n",
    "\n",
    "type_length = {3: 4, # FLOAT\n",
    "               4: 8, # #DOUBLE\n",
    "               5: 4}  # INT\n",
    "\n",
    "type_name = {3: 'float', # FLOAT\n",
    "             4: 'double', # #DOUBLE\n",
    "             5: 'int'}  # INT\n",
    "\n",
    "\n",
    "def get_all_data_size(filename):\n",
    "    n = 0\n",
    "    ncell = 0\n",
    "    ntype = None\n",
    "    with open(filename, 'rb') as f:\n",
    "        try:\n",
    "            x = f.read(8) #read two integers\n",
    "            on = True\n",
    "        except:\n",
    "            raise Exception('What!')\n",
    "\n",
    "        while on:\n",
    "            try:\n",
    "                n1, ntype = struct.unpack('<ii', x) # read two integers\n",
    "                n += n1 - 1 # subtract 1 from the cell index\n",
    "                ncell += 1\n",
    "                f.seek(n1*type_length[ntype], 1)\n",
    "                x = f.read(8) # read two integers again\n",
    "            except:\n",
    "                f.close()\n",
    "                on = False\n",
    "        return (n, ncell, ntype)\n",
    "\n",
    "\n",
    "def read_neuron_vectors(filename, data_size):\n",
    "    ndata, ncell, ntype = data_size\n",
    "    data = np.empty(ndata, dtype=type_name[ntype])\n",
    "    cell = np.empty(ndata, dtype=int)\n",
    "\n",
    "    count = 0\n",
    "    mincell = ncell*100\n",
    "    maxcell = 1\n",
    "    with open(filename, 'rb') as f:\n",
    "        for _ in tqdm(range(ncell)):\n",
    "            x = f.read(8)\n",
    "            n, ntype = struct.unpack('<ii', x)\n",
    "            x = f.read(n*type_length[ntype])\n",
    "            if n>1:\n",
    "                st = np.fromstring(x, dtype=type_name[ntype])\n",
    "                data[count:(count+n-1)] = st[1:]\n",
    "                cell[count:(count+n-1)] = st[0]\n",
    "                count = count + n-1\n",
    "            else:\n",
    "                st = np.fromstring(x, dtype=type_name[ntype])\n",
    "            if mincell>st[0]:\n",
    "                mincell = st[0]\n",
    "            if maxcell<st[0]:\n",
    "                maxcell = st[0]\n",
    "        # print mincell, maxcell\n",
    "    return (data, cell, int(mincell)-1)\n",
    "\n",
    "def count_pre(post):\n",
    "    \"count_pre counts the number of presynaptic cells converging to each postsynaptic cell\"\n",
    "    cells = np.sort(np.unique(post))\n",
    "    return cells, np.array([(post==c).sum() for c in cells])"
   ]
  },
  {
   "cell_type": "code",
   "execution_count": null,
   "metadata": {
    "ExecuteTime": {
     "end_time": "2017-11-20T04:17:47.315703Z",
     "start_time": "2017-11-20T04:17:45.516927Z"
    }
   },
   "outputs": [],
   "source": [
    "filename = 'example_simulation/data/PFtoGoC.bin'\n",
    "dsize = get_all_data_size(filename) # first we read the data size (number of cells, etc.)\n",
    "pfs, gocs, _ = read_neuron_vectors(filename, dsize) # and read the data\n",
    "pfs = pfs.astype(int)"
   ]
  },
  {
   "cell_type": "code",
   "execution_count": null,
   "metadata": {
    "ExecuteTime": {
     "end_time": "2017-11-20T04:19:42.622730Z",
     "start_time": "2017-11-20T04:18:53.850308Z"
    }
   },
   "outputs": [],
   "source": [
    "def count_pre(post):\n",
    "    \"count_pre counts the number of presynaptic cells converging to each postsynaptic cell\"\n",
    "    cells = np.sort(np.unique(post))\n",
    "    return cells, np.array([(post==c).sum() for c in cells])\n",
    "\n",
    "_, count_pf_to_goc = count_pre(gocs)"
   ]
  },
  {
   "cell_type": "code",
   "execution_count": null,
   "metadata": {
    "ExecuteTime": {
     "end_time": "2017-11-20T04:23:53.198332Z",
     "start_time": "2017-11-20T04:23:52.866970Z"
    }
   },
   "outputs": [],
   "source": [
    "#This function is a lot more effective in doing the same thing as count_pre\n",
    "_, cptg2 = np.unique(gocs, return_counts=True)"
   ]
  },
  {
   "cell_type": "code",
   "execution_count": null,
   "metadata": {
    "ExecuteTime": {
     "end_time": "2017-11-20T04:24:46.566629Z",
     "start_time": "2017-11-20T04:24:46.549005Z"
    }
   },
   "outputs": [],
   "source": [
    "print (len(count_pf_to_goc))\n",
    "print (len(cptg2))\n",
    "\n",
    "count_pf_to_goc == cptg2\n",
    "\n",
    "# The problem is, that both functions do not take into acount cells that have 0 connections"
   ]
  },
  {
   "cell_type": "code",
   "execution_count": null,
   "metadata": {
    "ExecuteTime": {
     "end_time": "2017-11-21T01:22:22.029436Z",
     "start_time": "2017-11-21T01:22:22.013150Z"
    },
    "code_folding": []
   },
   "outputs": [],
   "source": [
    "# This function does take into account cells with 0 connections\n",
    "def con_per_cell (ref, n_cells):\n",
    "    cs, c_counts = np.unique(ref, return_counts = True)\n",
    "    real_ccs = np.zeros(n_cells)\n",
    "    #print (n_cells)\n",
    "    #print (max(cs))\n",
    "    for i, c in enumerate( cs):\n",
    "        real_ccs[int(c-1)]\n",
    "        real_ccs[int(c-1)] = c_counts[i]\n",
    "    return real_ccs"
   ]
  },
  {
   "cell_type": "code",
   "execution_count": null,
   "metadata": {
    "ExecuteTime": {
     "end_time": "2017-11-20T04:30:50.192653Z",
     "start_time": "2017-11-20T04:30:45.420826Z"
    }
   },
   "outputs": [],
   "source": [
    "p1 = './example_simulation/coordinates_input/'\n",
    "\n",
    "go_ori = p1+'GoCcoordinates.dat'\n",
    "gr_ori = p1+'GCcoordinates.dat'\n",
    "\n",
    "%run BREPpy.py\n",
    "cp = Cell_pop('d')\n",
    "cp.read_in_soma_file(go_ori)\n",
    "go_s = cp.som\n",
    "cp.read_in_soma_file(gr_ori)\n",
    "gr_s = cp.som\n",
    "\n",
    "print (len(go_s))"
   ]
  },
  {
   "cell_type": "code",
   "execution_count": null,
   "metadata": {
    "ExecuteTime": {
     "end_time": "2017-11-20T04:42:32.161022Z",
     "start_time": "2017-11-20T04:42:31.437569Z"
    }
   },
   "outputs": [],
   "source": [
    "#cpop = gocs\n",
    "\n",
    "c_gol = con_per_cell (gocs, len(go_s))\n",
    "_ = plt.hist(c_gol,100)"
   ]
  },
  {
   "cell_type": "code",
   "execution_count": null,
   "metadata": {
    "ExecuteTime": {
     "end_time": "2017-11-20T06:32:14.826602Z",
     "start_time": "2017-11-20T06:32:10.638720Z"
    }
   },
   "outputs": [],
   "source": [
    "print (max(pfs), min(pfs))\n",
    "print (len(gr_s))\n",
    "c_pf = con_per_cell (pfs, len(gr_s)) # this hsould not give an error if the cell-ID mapping is direct\n",
    "plt.figure()\n",
    "_ = plt.hist(c_pf, 100)\n",
    "\n",
    "    "
   ]
  },
  {
   "cell_type": "code",
   "execution_count": null,
   "metadata": {
    "ExecuteTime": {
     "end_time": "2017-11-20T04:35:15.404911Z",
     "start_time": "2017-11-20T04:35:12.664872Z"
    }
   },
   "outputs": [],
   "source": [
    "c_pf = con_per_cell (pfs, max(pfs)) # this hsould not give an error if the cell-ID mapping is direct\n",
    "plt.figure()\n",
    "_ = plt.hist(c_pf, int(max(c_pf)))"
   ]
  },
  {
   "cell_type": "code",
   "execution_count": null,
   "metadata": {
    "ExecuteTime": {
     "end_time": "2017-11-20T06:34:24.126050Z",
     "start_time": "2017-11-20T06:34:22.661836Z"
    }
   },
   "outputs": [],
   "source": [
    "real_ccs = c_gol\n",
    "norm = mpl.colors.Normalize(vmin=0, vmax=max(real_ccs))\n",
    "cmap = cm.plasma\n",
    "m = cm.ScalarMappable(norm=norm, cmap=cmap)\n",
    "rgb = m.to_rgba(real_ccs)\n",
    "print (rgb.shape)"
   ]
  },
  {
   "cell_type": "code",
   "execution_count": null,
   "metadata": {
    "ExecuteTime": {
     "end_time": "2017-11-20T04:42:42.611248Z",
     "start_time": "2017-11-20T04:42:42.160585Z"
    }
   },
   "outputs": [],
   "source": [
    "fig = plt.figure(figsize = (15,12))\n",
    "ax = fig.add_subplot(111, projection = '3d')\n",
    "ax.scatter(go_s[:,0], go_s[:,1], go_s[:,2], depthshade = False, facecolors = rgb, s  = 40)\n",
    "plt.show()"
   ]
  },
  {
   "cell_type": "code",
   "execution_count": null,
   "metadata": {
    "ExecuteTime": {
     "end_time": "2017-11-20T04:49:13.989833Z",
     "start_time": "2017-11-20T04:49:13.343890Z"
    },
    "scrolled": true
   },
   "outputs": [],
   "source": [
    "#2D projections\n",
    "s_val = np.sort(real_ccs)\n",
    "p10 = int(len(s_val)/10)\n",
    "idx_top10 = real_ccs>s_val[9*p10]\n",
    "idx_bot10 = real_ccs<s_val[p10]\n",
    "idx_all = np.arange(len(s_val)-1)\n",
    "idx_0  = real_ccs == 0\n",
    "\n",
    "\n",
    "cur_idx = idx_0\n",
    "\n",
    "plt.figure(figsize=(21,7))\n",
    "for i, [j, k, tit] in enumerate([[0,1, 'x-y plane'], [1,2, 'y-z plane'], [0,2, 'x-z plane']]):\n",
    "    \n",
    "    plt.subplot(1,3,i+1)\n",
    "    \n",
    "    plt.scatter(go_s[cur_idx,j], go_s[cur_idx,k], facecolors = rgb[cur_idx], s  = 30)\n",
    "    #plt.axis('equal')\n",
    "    \n",
    "    if False:\n",
    "        if i in [0,2]: plt.xlim([-100, 500])\n",
    "    plt.title (tit)"
   ]
  },
  {
   "cell_type": "code",
   "execution_count": 5,
   "metadata": {
    "ExecuteTime": {
     "end_time": "2017-11-22T00:35:36.136171Z",
     "start_time": "2017-11-22T00:35:32.002496Z"
    }
   },
   "outputs": [],
   "source": [
    "import csv\n",
    "def read_in_coordfile (fn, parse_ignore = True):\n",
    "    '''\n",
    "    reads in the file stored under fn (works for certain files that contain coordinates)\n",
    "    Returns a np array with the data.\n",
    "    If there is a problem parsing, this function will not break, however it will store it in a dict \n",
    "    If parse-ignore is set False, the number of unparsable signs as well as a set of them will be printed.\n",
    "    '''\n",
    "    res = []\n",
    "    with open (fn, newline = '') as f:\n",
    "        rr = csv.reader(f, delimiter = ' ')\n",
    "        err = []\n",
    "        for line in rr:\n",
    "            ar = []\n",
    "            for j in range(len(line)):\n",
    "                try: ar.append(float(line[j]))\n",
    "                except: err.append(line[j])\n",
    "            res.append(np.asarray(ar))\n",
    "    if len(err)> 0 and not parse_ignore: print ('Could not parse on {} instances: {}'.format(len(err), set(err)))\n",
    "    return np.asarray(res)\n",
    "\n",
    "src_ori = read_in_coordfile('Output_default/output_16/AAtoGoCsources.dat')\n",
    "src_fake = read_in_coordfile('testAAtoGoC_source.dat')\n",
    "tar_ori =  read_in_coordfile('Output_default/output_16/AAtoGoCtargets.dat')\n",
    "tar_fake = read_in_coordfile('testAAtoGoC_target.dat')\n",
    "\n",
    "goco_f = read_in_coordfile('example_simulation/coordinates_input/subsampled/GoCcoordinates_32.dat')\n",
    "grco_f = read_in_coordfile('example_simulation/coordinates_input/subsampled/GCcoordinates_32.dat')\n"
   ]
  },
  {
   "cell_type": "code",
   "execution_count": null,
   "metadata": {
    "ExecuteTime": {
     "end_time": "2017-11-20T04:49:25.993852Z",
     "start_time": "2017-11-20T04:49:24.822937Z"
    }
   },
   "outputs": [],
   "source": [
    "for f in [src_ori, src_fake, tar_ori, tar_fake]:\n",
    "    print ('len', len(f))\n",
    "    print ('min', min(f))\n",
    "    print('max', max(f))\n",
    "    \n"
   ]
  },
  {
   "cell_type": "code",
   "execution_count": null,
   "metadata": {
    "ExecuteTime": {
     "end_time": "2017-11-20T04:55:48.266822Z",
     "start_time": "2017-11-20T04:55:45.454673Z"
    }
   },
   "outputs": [],
   "source": [
    "so = con_per_cell (src_fake, int(max(src_fake)))\n",
    "to = con_per_cell (tar_fake, int(max(tar_fake)))\n",
    "#so = con_per_cell (src_ori, int(max(src_ori)))\n",
    "#c_pf = con_per_cell (pfs, len(gr_s))\n",
    "\n",
    "#cs,so = np.unique(src_fake,  return_counts=True)\n",
    "\n",
    "plt.figure()\n",
    "_ = plt.hist(so, int(max(so)))\n",
    "\n",
    "\n",
    "plt.figure()\n",
    "plt.plot(np.sort(so))\n",
    "plt.title ('Connection count for Granule cells')"
   ]
  },
  {
   "cell_type": "code",
   "execution_count": null,
   "metadata": {
    "ExecuteTime": {
     "end_time": "2017-11-20T04:55:48.894689Z",
     "start_time": "2017-11-20T04:55:48.367588Z"
    }
   },
   "outputs": [],
   "source": [
    "to = con_per_cell (tar_fake,  int(max(tar_fake)))\n",
    "#so = con_per_cell (src_ori, int(max(src_ori)))\n",
    "#c_pf = con_per_cell (pfs, len(gr_s))\n",
    "\n",
    "#cs,so = np.unique(src_fake,  return_counts=True)\n",
    "\n",
    "plt.plot(np.sort(to), 'kx')\n",
    "plt.title('connection count for the Golgi cells')"
   ]
  },
  {
   "cell_type": "code",
   "execution_count": null,
   "metadata": {
    "ExecuteTime": {
     "end_time": "2017-11-19T01:23:55.967901Z",
     "start_time": "2017-11-19T01:23:55.876394Z"
    }
   },
   "outputs": [],
   "source": [
    "def plot_point_count_stats (coords, counts, idx = -1, D3 = True, D2 = True):\n",
    "    norm = mpl.colors.Normalize(vmin=0, vmax=max(counts))\n",
    "    cmap = cm.hot\n",
    "    m = cm.ScalarMappable(norm=norm, cmap=cmap)\n",
    "    rgb = m.to_rgba(counts)\n",
    "    \n",
    "    if type(idx)=='int': \n",
    "        if idx<0 : idx = np.arange(len(counts))\n",
    "    \n",
    "    if D3:\n",
    "        plt.figure(figsize = (15,12))\n",
    "        ax = plt.gcf().gca(projection='3d')\n",
    "        ax.scatter(coords[idx,0], coords[idx,1], coords[idx,2], depthshade = False, facecolors = rgb[idx], s  = 40)\n",
    "        plt.show()\n",
    "    \n",
    "    if D2:\n",
    "        plt.figure(figsize=(21,7))\n",
    "        for i, [j, k, tit] in enumerate([[0,1, 'x-y plane'], [1,2, 'y-z plane'], [0,2, 'x-z plane']]):\n",
    "\n",
    "            plt.subplot(1,3,i+1)\n",
    "\n",
    "            plt.scatter(coords[idx,j], coords[idx,k], facecolors = rgb[idx], s  = 30)\n",
    "            #plt.axis('equal')\n",
    "\n",
    "            if False:\n",
    "                if i in [0,2]: plt.xlim([-100, 500])\n",
    "            plt.title (tit)"
   ]
  },
  {
   "cell_type": "code",
   "execution_count": null,
   "metadata": {
    "ExecuteTime": {
     "end_time": "2017-11-19T01:23:59.010358Z",
     "start_time": "2017-11-19T01:23:56.913428Z"
    }
   },
   "outputs": [],
   "source": [
    "plt.plot(np.sort(to))\n",
    "\n",
    "print (len(to))\n",
    "idx_l = to<15000\n",
    "idx_h = to>15000\n",
    "\n",
    "plot_point_count_stats(goco_f, to,idx_l)\n",
    "plot_point_count_stats(goco_f, to, idx_h)"
   ]
  },
  {
   "cell_type": "code",
   "execution_count": null,
   "metadata": {},
   "outputs": [],
   "source": [
    "fig, ax = plt.subplots(nrows=1,ncols=1)\n",
    "_ = ax.hist(count_pf_to_goc, 100)\n",
    "_ = ax.set(xlabel=\"PFs\", ylabel=\"Count\")"
   ]
  },
  {
   "cell_type": "markdown",
   "metadata": {},
   "source": [
    "# Distance Files"
   ]
  },
  {
   "cell_type": "code",
   "execution_count": null,
   "metadata": {},
   "outputs": [],
   "source": [
    "filename = 'example_simulation/data/AxontoGoC.bin'\n",
    "dsize = get_all_data_size(filename) # first we read the data size (number of cells, etc.)\n",
    "pfs, gocs, _ = read_neuron_vectors(filename, dsize) # and read the data\n",
    "pfs = pfs.astype(int)"
   ]
  },
  {
   "cell_type": "code",
   "execution_count": null,
   "metadata": {
    "ExecuteTime": {
     "end_time": "2017-11-21T02:09:53.703852Z",
     "start_time": "2017-11-21T02:09:50.612890Z"
    }
   },
   "outputs": [],
   "source": [
    "do_aa = read_in_coordfile('Output_default/output_full_def/AAtoGoCdistances.dat')\n",
    "do_pf = read_in_coordfile('Output_default/output_full_def/PFtoGoCdistances.dat')\n",
    "\n",
    "#do_pf = read_in_coordfile('Output_default/output_16/PFtoGoCdistances.dat')\n",
    "\n",
    "\n",
    "titles = ['AA', 'PF']\n",
    "for n, do in enumerate([do_aa, do_pf]):\n",
    "    print (do.shape)\n",
    "    print (max(do))\n",
    "    print (min(do))\n",
    "    plt.figure()\n",
    "    #plt.plot(np.log(np.diff(np.sort(do.ravel()))))\n",
    "    plt.plot(np.sort(do.ravel()))\n",
    "    plt.figure()\n",
    "    _ = plt.hist(do, 250)\n"
   ]
  },
  {
   "cell_type": "markdown",
   "metadata": {},
   "source": [
    "# Segment Files"
   ]
  },
  {
   "cell_type": "code",
   "execution_count": 6,
   "metadata": {
    "ExecuteTime": {
     "end_time": "2017-11-22T00:35:43.214614Z",
     "start_time": "2017-11-22T00:35:42.612064Z"
    }
   },
   "outputs": [],
   "source": [
    "#pa = 'Output_default/Dendrite_checking_output1/'\n",
    "pa = ''\n",
    "\n",
    "goc = read_in_coordfile(pa+'GoCcoordinates.sorted.dat')\n",
    "grc = read_in_coordfile(pa+'GCcoordinates.sorted.dat')\n",
    "grt = read_in_coordfile(pa+'GCTcoordinates.sorted.dat')\n",
    "sor_aa = read_in_coordfile(pa+'AAtoGoCsources.dat')\n",
    "tar_aa = read_in_coordfile(pa+'AAtoGoCtargets.dat')\n",
    "sor_pf = read_in_coordfile(pa+'PFtoGoCsources.dat')\n",
    "tar_pf = read_in_coordfile(pa+'PFtoGoCtargets.dat')\n",
    "so_aa= read_in_coordfile(pa+'AAtoGoCsegments.dat')\n",
    "so_pf= read_in_coordfile(pa+'PFtoGoCsegments.dat')\n",
    "do_aa= read_in_coordfile(pa+'AAtoGoCdistances.dat')\n",
    "do_pf= read_in_coordfile(pa+'PFtoGoCdistances.dat')\n",
    "\n",
    "a_dend = read_in_coordfile(pa+'GoCadendcoordinates.sorted.dat')\n",
    "b_dend = read_in_coordfile(pa+'GoCbdendcoordinates.sorted.dat')"
   ]
  },
  {
   "cell_type": "code",
   "execution_count": 7,
   "metadata": {
    "ExecuteTime": {
     "end_time": "2017-11-22T00:35:44.219809Z",
     "start_time": "2017-11-22T00:35:44.069905Z"
    }
   },
   "outputs": [
    {
     "name": "stdout",
     "output_type": "stream",
     "text": [
      "AA : 1055\n",
      "First\n",
      "1.0 : n = 196 , corresponding mean distance: 17.2854334392\n",
      "2.0 : n = 198 , corresponding mean distance: 59.9852412524\n",
      "3.0 : n = 192 , corresponding mean distance: 108.283656402\n",
      "4.0 : n = 188 , corresponding mean distance: 168.3546766\n",
      "5.0 : n = 204 , corresponding mean distance: 211.441224726\n",
      "6.0 : n = 77 , corresponding mean distance: 226.769573578\n",
      "Second\n",
      "1.0 : n = 556 , corresponding mean distance: 119.430166889\n",
      "2.0 : n = 499 , corresponding mean distance: 124.044605554\n",
      "PF : 3470\n",
      "First\n",
      "1.0 : n = 105 , corresponding mean distance: 252.310519482\n",
      "2.0 : n = 377 , corresponding mean distance: 270.421537191\n",
      "3.0 : n = 680 , corresponding mean distance: 309.378093662\n",
      "4.0 : n = 979 , corresponding mean distance: 327.433961526\n",
      "5.0 : n = 1329 , corresponding mean distance: 367.044075443\n",
      "Second\n",
      "2.0 : n = 3470 , corresponding mean distance: 330.59886235\n"
     ]
    },
    {
     "data": {
      "text/plain": [
       "\"titles = ['AA', 'PF']\\n\\nfor n, so in enumerate([so_aa, so_pf]):\\n    print (so.shape)\\n    fc = so[:,0]\\n    sc = so[:,1]\\n    print (titles[n], ':', len(so))\\n    print ('First')\\n    for i in np.unique(fc):\\n        idx = np.isclose(fc, i)\\n        print (i, ': n =', sum(idx))\\n    print ('Second')\\n    for i in np.unique(sc):\\n        idx = np.isclose(sc, i)\\n        print (i, ': n =', sum(idx))\""
      ]
     },
     "execution_count": 7,
     "metadata": {},
     "output_type": "execute_result"
    }
   ],
   "source": [
    "#so_aa= read_in_coordfile('Output_default/output_full_def/AAtoGoCsegments.dat')\n",
    "#so_pf= read_in_coordfile('Output_default/output_full_def/PFtoGoCsegments.dat')\n",
    "\n",
    "dist_info = True\n",
    "\n",
    "titles = ['AA', 'PF']\n",
    "dis_f = [do_aa, do_pf]\n",
    "for n, so in enumerate([so_aa, so_pf]):\n",
    "    fc = so[:,0]\n",
    "    sc = so[:,1]\n",
    "    print (titles[n], ':', len(so))\n",
    "    print ('First')\n",
    "    for i in np.unique(fc):\n",
    "        idx = np.isclose(fc, i)\n",
    "        if dist_info: print (i, ': n =', sum(idx), ', corresponding mean distance:', np.mean(dis_f[n][idx]))\n",
    "        else: print (i, ': n =', sum(idx))\n",
    "    print ('Second')\n",
    "    for i in np.unique(sc):\n",
    "        idx = np.isclose(sc, i)\n",
    "        if dist_info: print (i, ': n =', sum(idx), ', corresponding mean distance:', np.mean(dis_f[n][idx]))\n",
    "        else: print (i, ': n =', sum(idx))\n",
    "\n",
    "'''titles = ['AA', 'PF']\n",
    "\n",
    "for n, so in enumerate([so_aa, so_pf]):\n",
    "    print (so.shape)\n",
    "    fc = so[:,0]\n",
    "    sc = so[:,1]\n",
    "    print (titles[n], ':', len(so))\n",
    "    print ('First')\n",
    "    for i in np.unique(fc):\n",
    "        idx = np.isclose(fc, i)\n",
    "        print (i, ': n =', sum(idx))\n",
    "    print ('Second')\n",
    "    for i in np.unique(sc):\n",
    "        idx = np.isclose(sc, i)\n",
    "        print (i, ': n =', sum(idx))'''\n"
   ]
  },
  {
   "cell_type": "code",
   "execution_count": 8,
   "metadata": {
    "ExecuteTime": {
     "end_time": "2017-11-22T00:35:47.315012Z",
     "start_time": "2017-11-22T00:35:46.897015Z"
    }
   },
   "outputs": [
    {
     "name": "stdout",
     "output_type": "stream",
     "text": [
      "(1000, 60)\n",
      "[ 5.26315789  5.26315789  5.26315789  5.26315789  5.26315789  5.26315789\n",
      "  5.26315789  5.26315789  5.26315789  5.26315789  5.26315789  5.26315789\n",
      "  5.26315789  5.26315789  5.26315789  5.26315789  5.26315789  5.26315789\n",
      "  5.26315789]\n"
     ]
    },
    {
     "data": {
      "image/png": "[encoded data removed]",
      "text/plain": [
       "<matplotlib.figure.Figure at 0x7f2ec0726da0>"
      ]
     },
     "metadata": {},
     "output_type": "display_data"
    }
   ],
   "source": [
    "print (a_dend.shape)\n",
    "zc = np.arange(len(a_dend[1])/3)*3+2\n",
    "zc = zc.astype('int')\n",
    "plt.plot(a_dend[1,zc], 'kx')\n",
    "\n",
    "print (np.diff(a_dend[1,zc]))\n"
   ]
  },
  {
   "cell_type": "code",
   "execution_count": 53,
   "metadata": {
    "ExecuteTime": {
     "end_time": "2017-11-22T01:32:24.446671Z",
     "start_time": "2017-11-22T01:32:24.019759Z"
    }
   },
   "outputs": [
    {
     "name": "stdout",
     "output_type": "stream",
     "text": [
      "[ 1.37579653] [ 346.30634607]\n",
      "95\n",
      "-4.75857147369 11.7536820937 -0.404857936073\n",
      "99\n",
      "-13.6675729972 36.8306345114 -0.37109252063\n",
      "97\n",
      "-21.0694575566 62.2576065299 -0.338423828523\n",
      "83\n",
      "-28.2790881101 87.6208968794 -0.322743650398\n",
      "105\n",
      "-35.6387154768 112.969887951 -0.315470928787\n",
      "77\n",
      "-41.8534776547 134.952862971 -0.310134047795\n"
     ]
    },
    {
     "data": {
      "image/png": "[encoded data removed]",
      "text/plain": [
       "<matplotlib.figure.Figure at 0x7f2ebe44ce10>"
      ]
     },
     "metadata": {},
     "output_type": "display_data"
    }
   ],
   "source": [
    "cc = ['kx', 'rx', 'gx', 'mx', 'cx']\n",
    "\n",
    "if True:\n",
    "    so, do, sor, tar = so_aa, do_aa, sor_aa, tar_aa\n",
    "else:\n",
    "    so, do, sor, tar = so_pf, do_pf, sor_pf, tar_pf \n",
    "    \n",
    "print (min(do_aa), max(do_aa))\n",
    "\n",
    "\n",
    "\n",
    "for i in np.unique(so[:,0]).astype('int'):\n",
    "    #idx = so[:,0] == i \n",
    "    idx = np.logical_and(so[:,0]== i, so[:,1] == 1.0)\n",
    "    print (sum(idx))\n",
    "    if len(idx)>0:\n",
    "        si = sor[idx].ravel().astype('int')\n",
    "        ti = tar[idx].ravel().astype('int')\n",
    "        di = do[idx].ravel()\n",
    "\n",
    "        gri = grc[si]\n",
    "        goi = goc[ti]\n",
    "\n",
    "        #gri = grt[np.logical_and([so[:,1] == 1.0], idx)]\n",
    "        #goi = got[np.logical_and([so[:,1] == 1.0], idx)]\n",
    "\n",
    "        #for the parallel fiber\n",
    "        #plt.plot(np.linalg.norm(gri- goi, axis = 1), di, cc[(i-1)%len(cc)])\n",
    "        \n",
    "        #plt.plot(np.sign(gri[:,2] - goi[:,2])*np.linalg.norm(gri- goi, axis = 1), di, cc[(i-1)%len(cc)])\n",
    "\n",
    "        #plt.plot(np.linalg.norm(gri- goi, axis = 1) - di, cc[(i-1)%len(cc)])\n",
    "        dif = np.linalg.norm(gri[:,:2]- goi[:,:2], axis = 1)- di\n",
    "        \n",
    "        #plt.plot(np.mean(dif[dif>-100]), cc[(i-1)%len(cc)])\n",
    "        difm = np.mean(dif[dif>-100])\n",
    "        dim = np.mean(di[dif>-100])\n",
    "        print (difm, dim, difm/dim)\n",
    "        \n",
    "        alpha = np.pi/4\n",
    "        \n",
    "        d = np.linalg.norm((gri-goi)[:,[0,1]], axis = 1)\n",
    "        #d = np.sqrt (gri)\n",
    "        lpp  = d*np.tan(alpha)\n",
    "        lp = gri[:,2]- goi[:,2]\n",
    "        \n",
    "        di_pred = lpp - lp\n",
    "        \n",
    "        #plt.plot(di_pred, di, cc[(i-1)%len(cc)]) \n",
    "        plt.plot(goi[:,2], gri[:,2], cc[(i-1)%len(cc)])\n",
    "        #plt.plot(np.linalg.norm(gri[:,:2]- goi[:,:2], axis = 1)- di, cc[(i-1)%len(cc)])\n",
    "\n",
    "        #for aa\n",
    "        #plt.plot(gri[:,0]- goi[:,0], di, cc[(i-1)%len(cc)])\n",
    "        #plt.plot(gri[:,2]- goi[:,2], di, cc[(i-1)%len(cc)])\n",
    "        #plt.plot(goi[:,2], di, cc[i-2])\n",
    "\n",
    "        #mm = np.argmax(di)\n",
    "        #print (grt[si[mm],2] - goc[ti[mm],2])\n",
    "\n",
    "        plt.axis('equal')\n",
    "        #plt.plot(goi[:,0], di, 'xr')\n",
    "    \n",
    "#plt.figure()\n",
    "\n",
    "#plt.ylim((-100,50))\n",
    "\n",
    "#plt.plot(np.sqrt(cx[:,0]**2 + cx[:,1]**2), cx[:,2])"
   ]
  },
  {
   "cell_type": "code",
   "execution_count": 54,
   "metadata": {
    "ExecuteTime": {
     "end_time": "2017-11-22T01:32:26.173994Z",
     "start_time": "2017-11-22T01:32:24.675855Z"
    }
   },
   "outputs": [
    {
     "name": "stdout",
     "output_type": "stream",
     "text": [
      "AA : 127075\n",
      "First\n"
     ]
    },
    {
     "ename": "IndexError",
     "evalue": "boolean index did not match indexed array along dimension 0; dimension is 1055 but corresponding boolean dimension is 127075",
     "output_type": "error",
     "traceback": [
      "\u001b[0;31m---------------------------------------------------------------------------\u001b[0m",
      "\u001b[0;31mIndexError\u001b[0m                                Traceback (most recent call last)",
      "\u001b[0;32m<ipython-input-54-90f07047cd64>\u001b[0m in \u001b[0;36m<module>\u001b[0;34m()\u001b[0m\n\u001b[1;32m     12\u001b[0m     \u001b[0;32mfor\u001b[0m \u001b[0mi\u001b[0m \u001b[0;32min\u001b[0m \u001b[0mnp\u001b[0m\u001b[0;34m.\u001b[0m\u001b[0munique\u001b[0m\u001b[0;34m(\u001b[0m\u001b[0mfc\u001b[0m\u001b[0;34m)\u001b[0m\u001b[0;34m:\u001b[0m\u001b[0;34m\u001b[0m\u001b[0m\n\u001b[1;32m     13\u001b[0m         \u001b[0midx\u001b[0m \u001b[0;34m=\u001b[0m \u001b[0mnp\u001b[0m\u001b[0;34m.\u001b[0m\u001b[0misclose\u001b[0m\u001b[0;34m(\u001b[0m\u001b[0mfc\u001b[0m\u001b[0;34m,\u001b[0m \u001b[0mi\u001b[0m\u001b[0;34m)\u001b[0m\u001b[0;34m\u001b[0m\u001b[0m\n\u001b[0;32m---> 14\u001b[0;31m         \u001b[0mprint\u001b[0m \u001b[0;34m(\u001b[0m\u001b[0mi\u001b[0m\u001b[0;34m,\u001b[0m \u001b[0;34m': n ='\u001b[0m\u001b[0;34m,\u001b[0m \u001b[0msum\u001b[0m\u001b[0;34m(\u001b[0m\u001b[0midx\u001b[0m\u001b[0;34m)\u001b[0m\u001b[0;34m,\u001b[0m \u001b[0;34m', corresponding mean distance:'\u001b[0m\u001b[0;34m,\u001b[0m \u001b[0mnp\u001b[0m\u001b[0;34m.\u001b[0m\u001b[0mmean\u001b[0m\u001b[0;34m(\u001b[0m\u001b[0mdis_f\u001b[0m\u001b[0;34m[\u001b[0m\u001b[0mn\u001b[0m\u001b[0;34m]\u001b[0m\u001b[0;34m[\u001b[0m\u001b[0midx\u001b[0m\u001b[0;34m]\u001b[0m\u001b[0;34m)\u001b[0m\u001b[0;34m)\u001b[0m\u001b[0;34m\u001b[0m\u001b[0m\n\u001b[0m\u001b[1;32m     15\u001b[0m     \u001b[0mprint\u001b[0m \u001b[0;34m(\u001b[0m\u001b[0;34m'Second'\u001b[0m\u001b[0;34m)\u001b[0m\u001b[0;34m\u001b[0m\u001b[0m\n\u001b[1;32m     16\u001b[0m     \u001b[0;32mfor\u001b[0m \u001b[0mi\u001b[0m \u001b[0;32min\u001b[0m \u001b[0mnp\u001b[0m\u001b[0;34m.\u001b[0m\u001b[0munique\u001b[0m\u001b[0;34m(\u001b[0m\u001b[0msc\u001b[0m\u001b[0;34m)\u001b[0m\u001b[0;34m:\u001b[0m\u001b[0;34m\u001b[0m\u001b[0m\n",
      "\u001b[0;31mIndexError\u001b[0m: boolean index did not match indexed array along dimension 0; dimension is 1055 but corresponding boolean dimension is 127075"
     ]
    }
   ],
   "source": [
    "so_aa= read_in_coordfile('Output_default/output_full_def/AAtoGoCsegments.dat')\n",
    "so_pf= read_in_coordfile('Output_default/output_full_def/PFtoGoCsegments.dat')\n",
    "\n",
    "\n",
    "titles = ['AA', 'PF']\n",
    "dis_f = [do_aa, do_pf]\n",
    "for n, so in enumerate([so_aa, so_pf]):\n",
    "    fc = so[:,0]\n",
    "    sc = so[:,1]\n",
    "    print (titles[n], ':', len(so))\n",
    "    print ('First')\n",
    "    for i in np.unique(fc):\n",
    "        idx = np.isclose(fc, i)\n",
    "        print (i, ': n =', sum(idx), ', corresponding mean distance:', np.mean(dis_f[n][idx]))\n",
    "    print ('Second')\n",
    "    for i in np.unique(sc):\n",
    "        idx = np.isclose(sc, i)\n",
    "        print (i, ': n =', sum(idx), ', corresponding mean distance:', np.mean(dis_f[n][idx]))\n",
    "\n"
   ]
  },
  {
   "cell_type": "code",
   "execution_count": 41,
   "metadata": {
    "ExecuteTime": {
     "end_time": "2017-11-22T01:04:56.863344Z",
     "start_time": "2017-11-22T01:04:56.858598Z"
    }
   },
   "outputs": [
    {
     "data": {
      "text/plain": [
       "0.99999999999999989"
      ]
     },
     "execution_count": 41,
     "metadata": {},
     "output_type": "execute_result"
    }
   ],
   "source": [
    "np.tan(1/4*np.pi)"
   ]
  },
  {
   "cell_type": "code",
   "execution_count": null,
   "metadata": {
    "ExecuteTime": {
     "end_time": "2017-11-21T06:54:53.924473Z",
     "start_time": "2017-11-21T06:54:53.856524Z"
    }
   },
   "outputs": [],
   "source": [
    "comment ='''\n",
    "    (pf-length . 100)\n",
    "    (pf-step   . 30)\n",
    "    (aa-length . 200)\n",
    "    (aa-step   . 100)\n",
    "    (z-extent . 200.)\n",
    "    (y-extent . 700.)\n",
    "    (x-extent . 1500.)\n",
    "    (num-gc . 10000) ;798000\n",
    "    (num-goc . 1000) ;1995\n",
    "    (mean-goc-distance . 50)\n",
    "    (goc-grid-xstep . 200)\n",
    "    (goc-grid-ystep . 500)\n",
    "    (pf-goc-zone . 5)\n",
    "    (aa-goc-zone . 5)\n",
    "    (goc-goc-zone . 30)\n",
    "    (goc-goc-gap-zone . 30)\n",
    "    (goc-dendrites . 8) ;4\n",
    "\n",
    "    (goc-apical-nseg . 4) ;2\n",
    "    (goc-basolateral-nseg . 9) ;2\n",
    "    (goc-apical-nsegpts . 1) ;4\n",
    "    (goc-basolateral-nsegpts . 1) ;4'''\n",
    "    \n",
    "np.save('comment.txt', comment)\n"
   ]
  },
  {
   "cell_type": "code",
   "execution_count": null,
   "metadata": {
    "ExecuteTime": {
     "end_time": "2017-11-21T06:55:16.696000Z",
     "start_time": "2017-11-21T06:55:16.636749Z"
    }
   },
   "outputs": [],
   "source": []
  },
  {
   "cell_type": "code",
   "execution_count": null,
   "metadata": {
    "ExecuteTime": {
     "end_time": "2017-11-21T07:40:57.157629Z",
     "start_time": "2017-11-21T07:40:57.117834Z"
    }
   },
   "outputs": [],
   "source": [
    "a = np.zeros(3)\n",
    "print (type(a))\n",
    "print (type(a) == 'numpy.ndarray')\n",
    "type(a).__module__ == np.__name__\n",
    "\n"
   ]
  },
  {
   "cell_type": "code",
   "execution_count": 55,
   "metadata": {
    "ExecuteTime": {
     "end_time": "2017-11-22T06:19:25.378841Z",
     "start_time": "2017-11-22T06:19:24.238064Z"
    }
   },
   "outputs": [],
   "source": [
    " c2 = read_in_coordfile('teeeeest_GCTcoordinates.dat')"
   ]
  },
  {
   "cell_type": "code",
   "execution_count": 56,
   "metadata": {
    "ExecuteTime": {
     "end_time": "2017-11-22T06:19:33.316005Z",
     "start_time": "2017-11-22T06:19:33.294472Z"
    }
   },
   "outputs": [
    {
     "name": "stdout",
     "output_type": "stream",
     "text": [
      "[[ 163.   44.  422.]\n",
      " [  18.   89.  231.]\n",
      " [ 186.    3.  412.]\n",
      " ..., \n",
      " [ 186.   33.  403.]\n",
      " [  89.   76.  353.]\n",
      " [ 144.   49.  332.]]\n"
     ]
    }
   ],
   "source": [
    "print (c2)"
   ]
  },
  {
   "cell_type": "code",
   "execution_count": null,
   "metadata": {},
   "outputs": [],
   "source": []
  }
 ],
 "metadata": {
  "kernelspec": {
   "display_name": "Python 3",
   "language": "python",
   "name": "python3"
  },
  "language_info": {
   "codemirror_mode": {
    "name": "ipython",
    "version": 3
   },
   "file_extension": ".py",
   "mimetype": "text/x-python",
   "name": "python",
   "nbconvert_exporter": "python",
   "pygments_lexer": "ipython3",
   "version": "3.5.2"
  },
  "toc": {
   "nav_menu": {},
   "number_sections": true,
   "sideBar": true,
   "skip_h1_title": true,
   "toc_cell": false,
   "toc_position": {},
   "toc_section_display": "block",
   "toc_window_display": false
  },
  "varInspector": {
   "cols": {
    "lenName": 16,
    "lenType": 16,
    "lenVar": 40
   },
   "kernels_config": {
    "python": {
     "delete_cmd_postfix": "",
     "delete_cmd_prefix": "del ",
     "library": "var_list.py",
     "varRefreshCmd": "print(var_dic_list())"
    },
    "r": {
     "delete_cmd_postfix": ") ",
     "delete_cmd_prefix": "rm(",
     "library": "var_list.r",
     "varRefreshCmd": "cat(var_dic_list()) "
    }
   },
   "types_to_exclude": [
    "module",
    "function",
    "builtin_function_or_method",
    "instance",
    "_Feature"
   ],
   "window_display": false
  }
 },
 "nbformat": 4,
 "nbformat_minor": 1
}
