{
 "cells": [
  {
   "cell_type": "code",
   "execution_count": 1,
   "metadata": {},
   "outputs": [],
   "source": [
    "import numpy as np\n",
    "import matplotlib.pyplot as plt"
   ]
  },
  {
   "cell_type": "code",
   "execution_count": 2,
   "metadata": {},
   "outputs": [],
   "source": [
    "from joblib import Parallel, delayed"
   ]
  },
  {
   "cell_type": "code",
   "execution_count": 94,
   "metadata": {},
   "outputs": [],
   "source": [
    "from pathlib import Path\n",
    "dataroot = Path('/Users/shhong/Dropbox/network_data/output_brep_2')"
   ]
  },
  {
   "cell_type": "code",
   "execution_count": 15,
   "metadata": {},
   "outputs": [
    {
     "data": {
      "application/vnd.jupyter.widget-view+json": {
       "model_id": "82b11e8d18074f29970d64d36e846ecd",
       "version_major": 2,
       "version_minor": 0
      },
      "text/plain": [
       "HBox(children=(IntProgress(value=0, max=120), HTML(value='')))"
      ]
     },
     "metadata": {},
     "output_type": "display_data"
    }
   ],
   "source": [
    "from tqdm import tnrange\n",
    "aasrc = np.hstack([np.loadtxt(dataroot / 'AAtoGoCsources{}.dat'.format(i)) for i in tnrange(120)])\n",
    "aatgt = np.hstack([np.loadtxt(dataroot / 'AAtoGoCtargets{}.dat'.format(i)) for i in tnrange(120)])"
   ]
  },
  {
   "cell_type": "code",
   "execution_count": 30,
   "metadata": {},
   "outputs": [
    {
     "data": {
      "text/plain": [
       "(1.0, 797999.0)"
      ]
     },
     "execution_count": 30,
     "metadata": {},
     "output_type": "execute_result"
    }
   ],
   "source": [
    "np.min(aasrc), np.max(aasrc)"
   ]
  },
  {
   "cell_type": "code",
   "execution_count": 31,
   "metadata": {},
   "outputs": [
    {
     "data": {
      "application/vnd.jupyter.widget-view+json": {
       "model_id": "39a451365ac24ffebd0e6c1e628cbbaa",
       "version_major": 2,
       "version_minor": 0
      },
      "text/plain": [
       "HBox(children=(IntProgress(value=0, max=120), HTML(value='')))"
      ]
     },
     "metadata": {},
     "output_type": "display_data"
    },
    {
     "data": {
      "application/vnd.jupyter.widget-view+json": {
       "model_id": "f536f49b36a34e4eb775151def8bda5a",
       "version_major": 2,
       "version_minor": 0
      },
      "text/plain": [
       "HBox(children=(IntProgress(value=0, max=120), HTML(value='')))"
      ]
     },
     "metadata": {},
     "output_type": "display_data"
    }
   ],
   "source": [
    "pfsrc = np.hstack([np.loadtxt(dataroot / 'PFtoGoCsources{}.dat'.format(i)) for i in tnrange(120)])\n",
    "pftgt = np.hstack([np.loadtxt(dataroot / 'PFtoGoCtargets{}.dat'.format(i)) for i in tnrange(120)])\n"
   ]
  },
  {
   "cell_type": "code",
   "execution_count": 32,
   "metadata": {},
   "outputs": [
    {
     "data": {
      "text/plain": [
       "(0.0, 797999.0)"
      ]
     },
     "execution_count": 32,
     "metadata": {},
     "output_type": "execute_result"
    }
   ],
   "source": [
    "np.min(pfsrc), np.max(pfsrc)"
   ]
  },
  {
   "cell_type": "code",
   "execution_count": 33,
   "metadata": {},
   "outputs": [
    {
     "data": {
      "text/plain": [
       "(0.0, 1994.0)"
      ]
     },
     "execution_count": 33,
     "metadata": {},
     "output_type": "execute_result"
    }
   ],
   "source": [
    "np.min(pftgt), np.max(pftgt)"
   ]
  },
  {
   "cell_type": "code",
   "execution_count": 39,
   "metadata": {},
   "outputs": [
    {
     "data": {
      "text/plain": [
       "(13772965, 15642772)"
      ]
     },
     "execution_count": 39,
     "metadata": {},
     "output_type": "execute_result"
    }
   ],
   "source": [
    "naacons = aasrc.size\n",
    "npfcons = pfsrc.size\n",
    "naacons, npfcons"
   ]
  },
  {
   "cell_type": "code",
   "execution_count": 43,
   "metadata": {},
   "outputs": [
    {
     "data": {
      "text/plain": [
       "(6903.741854636592, 7840.988471177945)"
      ]
     },
     "execution_count": 43,
     "metadata": {},
     "output_type": "execute_result"
    }
   ],
   "source": [
    "(naacons/(np.max(pftgt)+1), npfcons/(np.max(pftgt)+1))"
   ]
  },
  {
   "cell_type": "code",
   "execution_count": 44,
   "metadata": {},
   "outputs": [
    {
     "data": {
      "text/plain": [
       "(17.25935463659148, 19.602471177944864)"
      ]
     },
     "execution_count": 44,
     "metadata": {},
     "output_type": "execute_result"
    }
   ],
   "source": [
    "(naacons/(np.max(pfsrc)+1), npfcons/(np.max(pfsrc)+1))"
   ]
  },
  {
   "cell_type": "markdown",
   "metadata": {},
   "source": [
    "## BREP 1"
   ]
  },
  {
   "cell_type": "code",
   "execution_count": 45,
   "metadata": {},
   "outputs": [
    {
     "data": {
      "application/vnd.jupyter.widget-view+json": {
       "model_id": "3f5b2b03cbd44a489f283462caf97b10",
       "version_major": 2,
       "version_minor": 0
      },
      "text/plain": [
       "HBox(children=(IntProgress(value=0, max=120), HTML(value='')))"
      ]
     },
     "metadata": {},
     "output_type": "display_data"
    },
    {
     "data": {
      "application/vnd.jupyter.widget-view+json": {
       "model_id": "d4c531e3ae3c4de998098c4443b1fdae",
       "version_major": 2,
       "version_minor": 0
      },
      "text/plain": [
       "HBox(children=(IntProgress(value=0, max=120), HTML(value='')))"
      ]
     },
     "metadata": {},
     "output_type": "display_data"
    },
    {
     "data": {
      "application/vnd.jupyter.widget-view+json": {
       "model_id": "ef8e22523c264181a7623d5dd23e7565",
       "version_major": 2,
       "version_minor": 0
      },
      "text/plain": [
       "HBox(children=(IntProgress(value=0, max=120), HTML(value='')))"
      ]
     },
     "metadata": {},
     "output_type": "display_data"
    },
    {
     "data": {
      "application/vnd.jupyter.widget-view+json": {
       "model_id": "d6136bf97c3f4b72b62554ddaf433314",
       "version_major": 2,
       "version_minor": 0
      },
      "text/plain": [
       "HBox(children=(IntProgress(value=0, max=120), HTML(value='')))"
      ]
     },
     "metadata": {},
     "output_type": "display_data"
    }
   ],
   "source": [
    "dataroot = Path('/Users/shhong/Dropbox/network_data/output_brep_1')\n",
    "aasrc = np.hstack([np.loadtxt(dataroot / 'AAtoGoCsources{}.dat'.format(i)) for i in tnrange(120)])\n",
    "aatgt = np.hstack([np.loadtxt(dataroot / 'AAtoGoCtargets{}.dat'.format(i)) for i in tnrange(120)])\n",
    "pfsrc = np.hstack([np.loadtxt(dataroot / 'PFtoGoCsources{}.dat'.format(i)) for i in tnrange(120)])\n",
    "pftgt = np.hstack([np.loadtxt(dataroot / 'PFtoGoCtargets{}.dat'.format(i)) for i in tnrange(120)])"
   ]
  },
  {
   "cell_type": "code",
   "execution_count": 46,
   "metadata": {},
   "outputs": [
    {
     "name": "stdout",
     "output_type": "stream",
     "text": [
      "(0.0, 797999.0)\n",
      "(0.0, 1994.0)\n"
     ]
    },
    {
     "data": {
      "text/plain": [
       "(13674411, 15651755)"
      ]
     },
     "execution_count": 46,
     "metadata": {},
     "output_type": "execute_result"
    }
   ],
   "source": [
    "print((np.min(pfsrc), np.max(pfsrc)))\n",
    "print((np.min(pftgt), np.max(pftgt)))\n",
    "naacons = aasrc.size\n",
    "npfcons = pfsrc.size\n",
    "naacons, npfcons"
   ]
  },
  {
   "cell_type": "code",
   "execution_count": 49,
   "metadata": {},
   "outputs": [
    {
     "data": {
      "application/vnd.jupyter.widget-view+json": {
       "model_id": "627e5463ff4e4f999240f2828b3d9478",
       "version_major": 2,
       "version_minor": 0
      },
      "text/plain": [
       "HBox(children=(IntProgress(value=0, max=120), HTML(value='')))"
      ]
     },
     "metadata": {},
     "output_type": "display_data"
    }
   ],
   "source": [
    "aaseg = np.vstack([np.loadtxt(dataroot / 'AAtoGoCsegments{}.dat'.format(i)) for i in tnrange(120)])"
   ]
  },
  {
   "cell_type": "code",
   "execution_count": 71,
   "metadata": {},
   "outputs": [
    {
     "data": {
      "text/plain": [
       "(1.0, 5.0)"
      ]
     },
     "execution_count": 71,
     "metadata": {},
     "output_type": "execute_result"
    }
   ],
   "source": [
    "np.min(aaseg[:,0]), np.max(aaseg[:,0])"
   ]
  },
  {
   "cell_type": "code",
   "execution_count": 72,
   "metadata": {},
   "outputs": [
    {
     "data": {
      "text/plain": [
       "(1.0, 4.0)"
      ]
     },
     "execution_count": 72,
     "metadata": {},
     "output_type": "execute_result"
    }
   ],
   "source": [
    "np.min(aaseg[:,1]), np.max(aaseg[:,1])"
   ]
  },
  {
   "cell_type": "code",
   "execution_count": 73,
   "metadata": {},
   "outputs": [
    {
     "data": {
      "text/plain": [
       "(array([      0., 3627469., 4101815., 3758054., 1547149.,  639924.,\n",
       "              0.]),\n",
       " array([0, 1, 2, 3, 4, 5, 6, 7]),\n",
       " <a list of 7 Patch objects>)"
      ]
     },
     "execution_count": 73,
     "metadata": {},
     "output_type": "execute_result"
    },
    {
     "data": {
      "image/png": "[encoded data removed]",
      "text/plain": [
       "<Figure size 432x288 with 1 Axes>"
      ]
     },
     "metadata": {
      "needs_background": "light"
     },
     "output_type": "display_data"
    }
   ],
   "source": [
    "plt.hist(aaseg[:,0],np.arange(0,8))"
   ]
  },
  {
   "cell_type": "code",
   "execution_count": 74,
   "metadata": {},
   "outputs": [
    {
     "data": {
      "text/plain": [
       "(array([      0., 2030424., 2001638., 4823136., 4819213.,       0.]),\n",
       " array([0, 1, 2, 3, 4, 5, 6]),\n",
       " <a list of 6 Patch objects>)"
      ]
     },
     "execution_count": 74,
     "metadata": {},
     "output_type": "execute_result"
    },
    {
     "data": {
      "image/png": "[encoded data removed]",
      "text/plain": [
       "<Figure size 432x288 with 1 Axes>"
      ]
     },
     "metadata": {
      "needs_background": "light"
     },
     "output_type": "display_data"
    }
   ],
   "source": [
    "plt.hist(aaseg[:,1],np.arange(0,7))"
   ]
  },
  {
   "cell_type": "code",
   "execution_count": 76,
   "metadata": {},
   "outputs": [
    {
     "data": {
      "application/vnd.jupyter.widget-view+json": {
       "model_id": "17dd8a93a5d94a92b18d9def8acf43ea",
       "version_major": 2,
       "version_minor": 0
      },
      "text/plain": [
       "HBox(children=(IntProgress(value=0, max=120), HTML(value='')))"
      ]
     },
     "metadata": {},
     "output_type": "display_data"
    }
   ],
   "source": [
    "aadst = np.hstack([np.loadtxt(dataroot / 'AAtoGoCdistances{}.dat'.format(i)) for i in tnrange(120)])"
   ]
  },
  {
   "cell_type": "code",
   "execution_count": 78,
   "metadata": {},
   "outputs": [
    {
     "data": {
      "text/plain": [
       "(array([313752., 316521., 304466., 315060., 305929., 315910., 317399.,\n",
       "        306182., 314467., 304850., 312476., 314099., 303533., 314564.,\n",
       "        301152., 309691., 309091., 293301., 304394., 294612., 300433.,\n",
       "        301852., 288112., 294530., 282849., 290021., 286675., 274186.,\n",
       "        281122., 267991., 275129., 271197., 257849., 264336., 250547.,\n",
       "        257428., 251895., 237220., 242735., 228153., 229082., 224554.,\n",
       "        211327., 212383., 203773., 210851., 206196., 197725., 203783.,\n",
       "        199028.]),\n",
       " array([  0. ,   4.6,   9.2,  13.8,  18.4,  23. ,  27.6,  32.2,  36.8,\n",
       "         41.4,  46. ,  50.6,  55.2,  59.8,  64.4,  69. ,  73.6,  78.2,\n",
       "         82.8,  87.4,  92. ,  96.6, 101.2, 105.8, 110.4, 115. , 119.6,\n",
       "        124.2, 128.8, 133.4, 138. , 142.6, 147.2, 151.8, 156.4, 161. ,\n",
       "        165.6, 170.2, 174.8, 179.4, 184. , 188.6, 193.2, 197.8, 202.4,\n",
       "        207. , 211.6, 216.2, 220.8, 225.4, 230. ]),\n",
       " <a list of 50 Patch objects>)"
      ]
     },
     "execution_count": 78,
     "metadata": {},
     "output_type": "execute_result"
    },
    {
     "data": {
      "image/png": "[encoded data removed]",
      "text/plain": [
       "<Figure size 432x288 with 1 Axes>"
      ]
     },
     "metadata": {
      "needs_background": "light"
     },
     "output_type": "display_data"
    }
   ],
   "source": [
    "plt.hist(aadst,50)"
   ]
  },
  {
   "cell_type": "code",
   "execution_count": 95,
   "metadata": {},
   "outputs": [
    {
     "data": {
      "application/vnd.jupyter.widget-view+json": {
       "model_id": "685931f2879646c2a2d9b6582d8f98cc",
       "version_major": 2,
       "version_minor": 0
      },
      "text/plain": [
       "HBox(children=(IntProgress(value=0, max=120), HTML(value='')))"
      ]
     },
     "metadata": {},
     "output_type": "display_data"
    }
   ],
   "source": [
    "pfseg = np.vstack([np.loadtxt(dataroot / 'PFtoGoCsegments{}.dat'.format(i)) for i in tnrange(120)])"
   ]
  },
  {
   "cell_type": "code",
   "execution_count": 96,
   "metadata": {},
   "outputs": [
    {
     "data": {
      "text/plain": [
       "(array([      0.,  263880., 2125051., 4161063., 5424508., 3668270.,\n",
       "              0.]),\n",
       " array([0, 1, 2, 3, 4, 5, 6, 7]),\n",
       " <a list of 7 Patch objects>)"
      ]
     },
     "execution_count": 96,
     "metadata": {},
     "output_type": "execute_result"
    },
    {
     "data": {
      "image/png": "[encoded data removed]",
      "text/plain": [
       "<Figure size 432x288 with 1 Axes>"
      ]
     },
     "metadata": {
      "needs_background": "light"
     },
     "output_type": "display_data"
    }
   ],
   "source": [
    "plt.hist(pfseg[:,0],np.arange(0,8))"
   ]
  },
  {
   "cell_type": "code",
   "execution_count": 97,
   "metadata": {},
   "outputs": [
    {
     "data": {
      "text/plain": [
       "(array([      0.,       0.,       0., 7842881., 7799891.,       0.]),\n",
       " array([0, 1, 2, 3, 4, 5, 6]),\n",
       " <a list of 6 Patch objects>)"
      ]
     },
     "execution_count": 97,
     "metadata": {},
     "output_type": "execute_result"
    },
    {
     "data": {
      "image/png": "[encoded data removed]",
      "text/plain": [
       "<Figure size 432x288 with 1 Axes>"
      ]
     },
     "metadata": {
      "needs_background": "light"
     },
     "output_type": "display_data"
    }
   ],
   "source": [
    "plt.hist(pfseg[:,1],np.arange(0,7))"
   ]
  },
  {
   "cell_type": "code",
   "execution_count": 98,
   "metadata": {},
   "outputs": [
    {
     "data": {
      "application/vnd.jupyter.widget-view+json": {
       "model_id": "023e01b0d0554a259a179d897cf43253",
       "version_major": 2,
       "version_minor": 0
      },
      "text/plain": [
       "HBox(children=(IntProgress(value=0, max=120), HTML(value='')))"
      ]
     },
     "metadata": {},
     "output_type": "display_data"
    }
   ],
   "source": [
    "pfdst = np.hstack([np.loadtxt(dataroot / 'PFtoGoCdistances{}.dat'.format(i)) for i in tnrange(120)])"
   ]
  },
  {
   "cell_type": "code",
   "execution_count": 99,
   "metadata": {},
   "outputs": [
    {
     "data": {
      "text/plain": [
       "(array([  2071.,  14698.,  36220.,  76550., 106884., 170115., 232142.,\n",
       "        294902., 385904., 440459., 489110., 541065., 550268., 551756.,\n",
       "        533721., 529996., 512412., 510617., 492040., 489401., 472013.,\n",
       "        467624., 451970., 446550., 431201., 425090., 409163., 402245.,\n",
       "        387841., 378981., 364379., 354430., 341225., 332106., 319096.,\n",
       "        308107., 297230., 285833., 274891., 259604., 241293., 222852.,\n",
       "        198298., 171282., 146580., 109956.,  84008.,  54462.,  30343.,\n",
       "         13788.]),\n",
       " array([  35.28177995,   61.61079197,   87.939804  ,  114.26881602,\n",
       "         140.59782804,  166.92684007,  193.25585209,  219.58486411,\n",
       "         245.91387614,  272.24288816,  298.57190018,  324.90091221,\n",
       "         351.22992423,  377.55893626,  403.88794828,  430.2169603 ,\n",
       "         456.54597233,  482.87498435,  509.20399637,  535.5330084 ,\n",
       "         561.86202042,  588.19103244,  614.52004447,  640.84905649,\n",
       "         667.17806851,  693.50708054,  719.83609256,  746.16510458,\n",
       "         772.49411661,  798.82312863,  825.15214065,  851.48115268,\n",
       "         877.8101647 ,  904.13917672,  930.46818875,  956.79720077,\n",
       "         983.1262128 , 1009.45522482, 1035.78423684, 1062.11324887,\n",
       "        1088.44226089, 1114.77127291, 1141.10028494, 1167.42929696,\n",
       "        1193.75830898, 1220.08732101, 1246.41633303, 1272.74534505,\n",
       "        1299.07435708, 1325.4033691 , 1351.73238112]),\n",
       " <a list of 50 Patch objects>)"
      ]
     },
     "execution_count": 99,
     "metadata": {},
     "output_type": "execute_result"
    },
    {
     "data": {
      "image/png": "[encoded data removed]",
      "text/plain": [
       "<Figure size 432x288 with 1 Axes>"
      ]
     },
     "metadata": {
      "needs_background": "light"
     },
     "output_type": "display_data"
    }
   ],
   "source": [
    "plt.hist(pfdst,50)"
   ]
  },
  {
   "cell_type": "markdown",
   "metadata": {},
   "source": [
    "## PyBREP"
   ]
  },
  {
   "cell_type": "code",
   "execution_count": 79,
   "metadata": {},
   "outputs": [
    {
     "data": {
      "application/vnd.jupyter.widget-view+json": {
       "model_id": "b806a80d1cfc4ef4b4cc1b7ffa78fbda",
       "version_major": 2,
       "version_minor": 0
      },
      "text/plain": [
       "HBox(children=(IntProgress(value=0, max=120), HTML(value='')))"
      ]
     },
     "metadata": {},
     "output_type": "display_data"
    },
    {
     "data": {
      "application/vnd.jupyter.widget-view+json": {
       "model_id": "ff93dfec50464f769930497c03e66111",
       "version_major": 2,
       "version_minor": 0
      },
      "text/plain": [
       "HBox(children=(IntProgress(value=0, max=120), HTML(value='')))"
      ]
     },
     "metadata": {},
     "output_type": "display_data"
    },
    {
     "data": {
      "application/vnd.jupyter.widget-view+json": {
       "model_id": "2b2df0bb8fa447b2a489c899963be4bd",
       "version_major": 2,
       "version_minor": 0
      },
      "text/plain": [
       "HBox(children=(IntProgress(value=0, max=120), HTML(value='')))"
      ]
     },
     "metadata": {},
     "output_type": "display_data"
    },
    {
     "data": {
      "application/vnd.jupyter.widget-view+json": {
       "model_id": "9b2b5a3e55024f488c9f5be456f945ee",
       "version_major": 2,
       "version_minor": 0
      },
      "text/plain": [
       "HBox(children=(IntProgress(value=0, max=120), HTML(value='')))"
      ]
     },
     "metadata": {},
     "output_type": "display_data"
    }
   ],
   "source": [
    "dataroot = Path('/Users/shhong/Dropbox/network_data/model_pybrep_output')\n",
    "aasrc = np.hstack([np.loadtxt(dataroot / 'AAtoGoCsources{}.dat'.format(i)) for i in tnrange(120)])\n",
    "aatgt = np.hstack([np.loadtxt(dataroot / 'AAtoGoCtargets{}.dat'.format(i)) for i in tnrange(120)])\n",
    "pfsrc = np.hstack([np.loadtxt(dataroot / 'PFtoGoCsources{}.dat'.format(i)) for i in tnrange(120)])\n",
    "pftgt = np.hstack([np.loadtxt(dataroot / 'PFtoGoCtargets{}.dat'.format(i)) for i in tnrange(120)])"
   ]
  },
  {
   "cell_type": "code",
   "execution_count": 80,
   "metadata": {},
   "outputs": [
    {
     "data": {
      "text/plain": [
       "(0.0, 797999.0)"
      ]
     },
     "execution_count": 80,
     "metadata": {},
     "output_type": "execute_result"
    }
   ],
   "source": [
    "np.min(pfsrc), np.max(pfsrc)"
   ]
  },
  {
   "cell_type": "code",
   "execution_count": 81,
   "metadata": {},
   "outputs": [
    {
     "data": {
      "text/plain": [
       "(0.0, 1994.0)"
      ]
     },
     "execution_count": 81,
     "metadata": {},
     "output_type": "execute_result"
    }
   ],
   "source": [
    "np.min(pftgt), np.max(pftgt)"
   ]
  },
  {
   "cell_type": "code",
   "execution_count": 83,
   "metadata": {},
   "outputs": [
    {
     "data": {
      "text/plain": [
       "(13674411, 15651755)"
      ]
     },
     "execution_count": 83,
     "metadata": {},
     "output_type": "execute_result"
    }
   ],
   "source": [
    "naacons = aasrc.size\n",
    "npfcons = pfsrc.size\n",
    "naacons, npfcons"
   ]
  },
  {
   "cell_type": "code",
   "execution_count": 84,
   "metadata": {},
   "outputs": [
    {
     "data": {
      "text/plain": [
       "(6854.341353383458, 7845.491228070176)"
      ]
     },
     "execution_count": 84,
     "metadata": {},
     "output_type": "execute_result"
    }
   ],
   "source": [
    "(naacons/(np.max(pftgt)+1), npfcons/(np.max(pftgt)+1))"
   ]
  },
  {
   "cell_type": "code",
   "execution_count": 85,
   "metadata": {},
   "outputs": [
    {
     "data": {
      "text/plain": [
       "(17.135853383458645, 19.613728070175437)"
      ]
     },
     "execution_count": 85,
     "metadata": {},
     "output_type": "execute_result"
    }
   ],
   "source": [
    "(naacons/(np.max(pfsrc)+1), npfcons/(np.max(pfsrc)+1))"
   ]
  },
  {
   "cell_type": "code",
   "execution_count": 86,
   "metadata": {},
   "outputs": [
    {
     "data": {
      "application/vnd.jupyter.widget-view+json": {
       "model_id": "4006bcad03644c809824ee293b368af2",
       "version_major": 2,
       "version_minor": 0
      },
      "text/plain": [
       "HBox(children=(IntProgress(value=0, max=120), HTML(value='')))"
      ]
     },
     "metadata": {},
     "output_type": "display_data"
    }
   ],
   "source": [
    "aaseg = np.vstack([np.loadtxt(dataroot / 'AAtoGoCsegments{}.dat'.format(i)) for i in tnrange(120)])"
   ]
  },
  {
   "cell_type": "code",
   "execution_count": 87,
   "metadata": {},
   "outputs": [
    {
     "data": {
      "text/plain": [
       "(1.0, 5.0)"
      ]
     },
     "execution_count": 87,
     "metadata": {},
     "output_type": "execute_result"
    }
   ],
   "source": [
    "np.min(aaseg[:,0]), np.max(aaseg[:,0])"
   ]
  },
  {
   "cell_type": "code",
   "execution_count": 88,
   "metadata": {},
   "outputs": [
    {
     "data": {
      "text/plain": [
       "(1.0, 4.0)"
      ]
     },
     "execution_count": 88,
     "metadata": {},
     "output_type": "execute_result"
    }
   ],
   "source": [
    "np.min(aaseg[:,1]), np.max(aaseg[:,1])"
   ]
  },
  {
   "cell_type": "code",
   "execution_count": 89,
   "metadata": {},
   "outputs": [
    {
     "data": {
      "text/plain": [
       "(array([      0., 3627469., 4101815., 3758054., 1547149.,  639924.,\n",
       "              0.]),\n",
       " array([0, 1, 2, 3, 4, 5, 6, 7]),\n",
       " <a list of 7 Patch objects>)"
      ]
     },
     "execution_count": 89,
     "metadata": {},
     "output_type": "execute_result"
    },
    {
     "data": {
      "image/png": "[encoded data removed]",
      "text/plain": [
       "<Figure size 432x288 with 1 Axes>"
      ]
     },
     "metadata": {
      "needs_background": "light"
     },
     "output_type": "display_data"
    }
   ],
   "source": [
    "plt.hist(aaseg[:,0],np.arange(0,8))"
   ]
  },
  {
   "cell_type": "code",
   "execution_count": 90,
   "metadata": {},
   "outputs": [
    {
     "data": {
      "text/plain": [
       "(array([      0., 2030424., 2001638., 4823136., 4819213.,       0.]),\n",
       " array([0, 1, 2, 3, 4, 5, 6]),\n",
       " <a list of 6 Patch objects>)"
      ]
     },
     "execution_count": 90,
     "metadata": {},
     "output_type": "execute_result"
    },
    {
     "data": {
      "image/png": "[encoded data removed]",
      "text/plain": [
       "<Figure size 432x288 with 1 Axes>"
      ]
     },
     "metadata": {
      "needs_background": "light"
     },
     "output_type": "display_data"
    }
   ],
   "source": [
    "plt.hist(aaseg[:,1],np.arange(0,7))"
   ]
  },
  {
   "cell_type": "code",
   "execution_count": 92,
   "metadata": {},
   "outputs": [
    {
     "data": {
      "application/vnd.jupyter.widget-view+json": {
       "model_id": "c92927f0ca4141a0b920d6262d77b5d2",
       "version_major": 2,
       "version_minor": 0
      },
      "text/plain": [
       "HBox(children=(IntProgress(value=0, max=120), HTML(value='')))"
      ]
     },
     "metadata": {},
     "output_type": "display_data"
    }
   ],
   "source": [
    "aadst = np.hstack([np.loadtxt(dataroot / 'AAtoGoCdistances{}.dat'.format(i)) for i in tnrange(120)])"
   ]
  },
  {
   "cell_type": "code",
   "execution_count": 93,
   "metadata": {},
   "outputs": [
    {
     "data": {
      "text/plain": [
       "(array([313752., 316521., 304466., 315060., 305929., 315910., 317399.,\n",
       "        306182., 314467., 304850., 312476., 314099., 303533., 314564.,\n",
       "        301152., 309691., 309091., 293301., 304394., 294612., 300433.,\n",
       "        301852., 288112., 294530., 282849., 290021., 286675., 274186.,\n",
       "        281122., 267991., 275129., 271197., 257849., 264336., 250547.,\n",
       "        257428., 251895., 237220., 242735., 228153., 229082., 224554.,\n",
       "        211327., 212383., 203773., 210851., 206196., 197725., 203783.,\n",
       "        199028.]),\n",
       " array([  0. ,   4.6,   9.2,  13.8,  18.4,  23. ,  27.6,  32.2,  36.8,\n",
       "         41.4,  46. ,  50.6,  55.2,  59.8,  64.4,  69. ,  73.6,  78.2,\n",
       "         82.8,  87.4,  92. ,  96.6, 101.2, 105.8, 110.4, 115. , 119.6,\n",
       "        124.2, 128.8, 133.4, 138. , 142.6, 147.2, 151.8, 156.4, 161. ,\n",
       "        165.6, 170.2, 174.8, 179.4, 184. , 188.6, 193.2, 197.8, 202.4,\n",
       "        207. , 211.6, 216.2, 220.8, 225.4, 230. ]),\n",
       " <a list of 50 Patch objects>)"
      ]
     },
     "execution_count": 93,
     "metadata": {},
     "output_type": "execute_result"
    },
    {
     "data": {
      "image/png": "[encoded data removed]",
      "text/plain": [
       "<Figure size 432x288 with 1 Axes>"
      ]
     },
     "metadata": {
      "needs_background": "light"
     },
     "output_type": "display_data"
    }
   ],
   "source": [
    "plt.hist(aadst,50)"
   ]
  },
  {
   "cell_type": "code",
   "execution_count": 101,
   "metadata": {},
   "outputs": [
    {
     "data": {
      "application/vnd.jupyter.widget-view+json": {
       "model_id": "5805172d4ece4708bae77dcdc6215daa",
       "version_major": 2,
       "version_minor": 0
      },
      "text/plain": [
       "HBox(children=(IntProgress(value=0, max=120), HTML(value='')))"
      ]
     },
     "metadata": {},
     "output_type": "display_data"
    }
   ],
   "source": [
    "pfseg = np.vstack([np.loadtxt(dataroot / 'PFtoGoCsegments{}.dat'.format(i)) for i in tnrange(120)])"
   ]
  },
  {
   "cell_type": "code",
   "execution_count": 102,
   "metadata": {},
   "outputs": [
    {
     "data": {
      "text/plain": [
       "(array([      0.,  257202., 2106728., 4193520., 5438279., 3656026.,\n",
       "              0.]),\n",
       " array([0, 1, 2, 3, 4, 5, 6, 7]),\n",
       " <a list of 7 Patch objects>)"
      ]
     },
     "execution_count": 102,
     "metadata": {},
     "output_type": "execute_result"
    },
    {
     "data": {
      "image/png": "[encoded data removed]",
      "text/plain": [
       "<Figure size 432x288 with 1 Axes>"
      ]
     },
     "metadata": {
      "needs_background": "light"
     },
     "output_type": "display_data"
    }
   ],
   "source": [
    "plt.hist(pfseg[:,0],np.arange(0,8))"
   ]
  },
  {
   "cell_type": "code",
   "execution_count": 103,
   "metadata": {},
   "outputs": [
    {
     "data": {
      "text/plain": [
       "(array([      0.,       0.,       0., 7842965., 7808790.,       0.]),\n",
       " array([0, 1, 2, 3, 4, 5, 6]),\n",
       " <a list of 6 Patch objects>)"
      ]
     },
     "execution_count": 103,
     "metadata": {},
     "output_type": "execute_result"
    },
    {
     "data": {
      "image/png": "[encoded data removed]",
      "text/plain": [
       "<Figure size 432x288 with 1 Axes>"
      ]
     },
     "metadata": {
      "needs_background": "light"
     },
     "output_type": "display_data"
    }
   ],
   "source": [
    "plt.hist(pfseg[:,1],np.arange(0,7))"
   ]
  },
  {
   "cell_type": "code",
   "execution_count": 104,
   "metadata": {},
   "outputs": [
    {
     "data": {
      "application/vnd.jupyter.widget-view+json": {
       "model_id": "65ec3850a98841a68878f96f4adbafe1",
       "version_major": 2,
       "version_minor": 0
      },
      "text/plain": [
       "HBox(children=(IntProgress(value=0, max=120), HTML(value='')))"
      ]
     },
     "metadata": {},
     "output_type": "display_data"
    }
   ],
   "source": [
    "pfdst = np.hstack([np.loadtxt(dataroot / 'PFtoGoCdistances{}.dat'.format(i)) for i in tnrange(120)])"
   ]
  },
  {
   "cell_type": "code",
   "execution_count": 105,
   "metadata": {},
   "outputs": [
    {
     "data": {
      "text/plain": [
       "(array([455917., 455604., 452458., 446845., 442284., 437441., 430643.,\n",
       "        423857., 416849., 410942., 403588., 398779., 392504., 384923.,\n",
       "        378301., 371648., 366581., 360590., 354730., 348617., 342289.,\n",
       "        337606., 331983., 326090., 319165., 312122., 306635., 300923.,\n",
       "        293426., 286433., 280745., 274716., 267546., 261370., 253386.,\n",
       "        247750., 241573., 234337., 227688., 220711., 214929., 207936.,\n",
       "        201058., 194652., 187749., 181210., 175344., 168662., 163030.,\n",
       "        157590.]),\n",
       " array([ 230.        ,  249.9999998 ,  269.9999996 ,  289.99999939,\n",
       "         309.99999919,  329.99999899,  349.99999879,  369.99999858,\n",
       "         389.99999838,  409.99999818,  429.99999797,  449.99999777,\n",
       "         469.99999757,  489.99999737,  509.99999716,  529.99999696,\n",
       "         549.99999676,  569.99999655,  589.99999635,  609.99999615,\n",
       "         629.99999594,  649.99999574,  669.99999554,  689.99999534,\n",
       "         709.99999513,  729.99999493,  749.99999473,  769.99999452,\n",
       "         789.99999432,  809.99999412,  829.99999392,  849.99999371,\n",
       "         869.99999351,  889.99999331,  909.9999931 ,  929.9999929 ,\n",
       "         949.9999927 ,  969.9999925 ,  989.99999229, 1009.99999209,\n",
       "        1029.99999189, 1049.99999168, 1069.99999148, 1089.99999128,\n",
       "        1109.99999107, 1129.99999087, 1149.99999067, 1169.99999047,\n",
       "        1189.99999026, 1209.99999006, 1229.99998986]),\n",
       " <a list of 50 Patch objects>)"
      ]
     },
     "execution_count": 105,
     "metadata": {},
     "output_type": "execute_result"
    },
    {
     "data": {
      "image/png": "[encoded data removed]",
      "text/plain": [
       "<Figure size 432x288 with 1 Axes>"
      ]
     },
     "metadata": {
      "needs_background": "light"
     },
     "output_type": "display_data"
    }
   ],
   "source": [
    "plt.hist(pfdst,50)"
   ]
  },
  {
   "cell_type": "code",
   "execution_count": 106,
   "metadata": {},
   "outputs": [
    {
     "data": {
      "text/plain": [
       "230.00000000334592"
      ]
     },
     "execution_count": 106,
     "metadata": {},
     "output_type": "execute_result"
    }
   ],
   "source": [
    "min(pfdst)"
   ]
  },
  {
   "cell_type": "code",
   "execution_count": null,
   "metadata": {},
   "outputs": [],
   "source": []
  }
 ],
 "metadata": {
  "kernelspec": {
   "display_name": "Python 3",
   "language": "python",
   "name": "python3"
  },
  "language_info": {
   "codemirror_mode": {
    "name": "ipython",
    "version": 3
   },
   "file_extension": ".py",
   "mimetype": "text/x-python",
   "name": "python",
   "nbconvert_exporter": "python",
   "pygments_lexer": "ipython3",
   "version": "3.6.7"
  }
 },
 "nbformat": 4,
 "nbformat_minor": 2
}
