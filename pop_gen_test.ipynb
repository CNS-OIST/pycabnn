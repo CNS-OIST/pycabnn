{
 "cells": [
  {
   "cell_type": "code",
   "execution_count": 1,
   "metadata": {},
   "outputs": [
    {
     "name": "stderr",
     "output_type": "stream",
     "text": [
      "/Users/shhong/Documents/Ines/pycabnn/pycabnn/connector.py:7: TqdmExperimentalWarning: Using `tqdm.autonotebook.tqdm` in notebook mode. Use `tqdm.tqdm` instead to force console mode (e.g. in jupyter console)\n",
      "  from tqdm.autonotebook import tqdm\n"
     ]
    }
   ],
   "source": [
    "%load_ext autoreload\n",
    "%autoreload 2\n",
    "\n",
    "from neuron import h\n",
    "import numpy as np\n",
    "from pycabnn.pop_generation.ebeida import ebeida_sampling\n",
    "from pycabnn.pop_generation.utils import PointCloud"
   ]
  },
  {
   "cell_type": "code",
   "execution_count": 4,
   "metadata": {},
   "outputs": [],
   "source": [
    "h.load_file(\"./test_data/params/Parameters.hoc\")\n",
    "\n",
    "# we limit the x-range to 700 um and add 50 um in all directions\n",
    "h.MFxrange = 700\n",
    "h.MFxrange += 50\n",
    "h.MFyrange += 50\n",
    "h.GLdepth += 50"
   ]
  },
  {
   "cell_type": "code",
   "execution_count": 37,
   "metadata": {},
   "outputs": [],
   "source": [
    "fname = \"test_data/generated_positions/coords_20200224_1.npz\""
   ]
  },
  {
   "cell_type": "code",
   "execution_count": 38,
   "metadata": {
    "lines_to_next_cell": 1
   },
   "outputs": [
    {
     "name": "stdout",
     "output_type": "stream",
     "text": [
      "Target number of MFs = 1859\n"
     ]
    },
    {
     "data": {
      "application/vnd.jupyter.widget-view+json": {
       "model_id": "76f3755bae5c476ea3f4e04fc7374dbe",
       "version_major": 2,
       "version_minor": 0
      },
      "text/plain": [
       "HBox(children=(FloatProgress(value=0.0, max=1859.0), HTML(value='')))"
      ]
     },
     "metadata": {},
     "output_type": "display_data"
    },
    {
     "name": "stdout",
     "output_type": "stream",
     "text": [
      "\n"
     ]
    }
   ],
   "source": [
    "def compute_mf_params(h):\n",
    "    Transverse_range = h.MFyrange\n",
    "    Horizontal_range = h.MFxrange\n",
    "    Vertical_range = h.GLdepth\n",
    "    Volume = Transverse_range * Horizontal_range * Vertical_range\n",
    "\n",
    "    MFdensity = h.MFdensity\n",
    "\n",
    "    box_fac = 2.5\n",
    "    Xinstantiate = 64 + 40  # 297+40\n",
    "    Yinstantiate = 84 + 40 * box_fac  # 474+40x*box_fac\n",
    "\n",
    "    n_mf = int(\n",
    "        (Transverse_range + (2 * Xinstantiate))\n",
    "        * (Horizontal_range + (2 * Yinstantiate))\n",
    "        * MFdensity\n",
    "        * 1e-6\n",
    "    )\n",
    "    print(\"Target number of MFs = {}\".format(n_mf))\n",
    "    return (\n",
    "        (Horizontal_range + (2 * Yinstantiate), Transverse_range + (2 * Xinstantiate)),\n",
    "        n_mf,\n",
    "    )\n",
    "\n",
    "\n",
    "mf_box, n_mf = compute_mf_params(h)\n",
    "\n",
    "spacing_mf = 20.9\n",
    "mf_points = ebeida_sampling(mf_box, spacing_mf, n_mf, True)\n",
    "\n",
    "\n",
    "np.savez(fname, mf=mf_points)"
   ]
  },
  {
   "cell_type": "code",
   "execution_count": 39,
   "metadata": {},
   "outputs": [
    {
     "name": "stdout",
     "output_type": "stream",
     "text": [
      "N GoC = 1995\n"
     ]
    },
    {
     "data": {
      "application/vnd.jupyter.widget-view+json": {
       "model_id": "d6c334b6dd364febafcbd0e0468d48ba",
       "version_major": 2,
       "version_minor": 0
      },
      "text/plain": [
       "HBox(children=(FloatProgress(value=0.0, max=1995.0), HTML(value='')))"
      ]
     },
     "metadata": {},
     "output_type": "display_data"
    },
    {
     "name": "stdout",
     "output_type": "stream",
     "text": [
      "\n"
     ]
    }
   ],
   "source": [
    "def compute_goc_params(h):\n",
    "    Transverse_range = h.MFyrange\n",
    "    Horizontal_range = h.MFxrange\n",
    "    Vertical_range = h.GLdepth + 50\n",
    "\n",
    "    Volume = Transverse_range * Horizontal_range * Vertical_range\n",
    "\n",
    "    d_goc = h.GoCdensity\n",
    "    n_goc = int(d_goc * Volume * 1e-9)\n",
    "    print(\"N GoC = {}\".format(n_goc))\n",
    "    return ((Horizontal_range, Transverse_range, Vertical_range), n_goc)\n",
    "\n",
    "goc_box, n_goc = compute_goc_params(h)\n",
    "\n",
    "spacing_goc = 45 - 1  # 40 (NH Barmack, V Yakhnitsa, 2008)\n",
    "\n",
    "goc_points = ebeida_sampling(goc_box, spacing_goc, n_goc, True)\n",
    "goc_points = goc_points + np.random.normal(\n",
    "    0, 1, size=(len(goc_points), 3)\n",
    ")  # Gaussian noise"
   ]
  },
  {
   "cell_type": "code",
   "execution_count": 41,
   "metadata": {},
   "outputs": [],
   "source": [
    "np.savez(\n",
    "    fname,\n",
    "    mf=mf_points,\n",
    "    goc=goc_points\n",
    ")"
   ]
  },
  {
   "cell_type": "code",
   "execution_count": null,
   "metadata": {
    "lines_to_next_cell": 2
   },
   "outputs": [
    {
     "name": "stdout",
     "output_type": "stream",
     "text": [
      "N of Glomeruli = 102600\n"
     ]
    },
    {
     "data": {
      "application/vnd.jupyter.widget-view+json": {
       "model_id": "6cc688d09ab34ee5b6f0e9982dfe3640",
       "version_major": 2,
       "version_minor": 0
      },
      "text/plain": [
       "HBox(children=(FloatProgress(value=0.0, max=102600.0), HTML(value='')))"
      ]
     },
     "metadata": {},
     "output_type": "display_data"
    }
   ],
   "source": [
    "scale_factor = 1/3\n",
    "# (Billings et al., 2014) Since glomeruli is elipsoid shape, I recalculated based on the spatial occupancy of glomeruli and its density. Also, I subtract 1 cuz I will give Gaussian noise\n",
    "spacing_glo = 8.39 - 1\n",
    "# spacing_glo = 8 - 1?\n",
    "\n",
    "class GoC(PointCloud):\n",
    "    def test_points(self, x):\n",
    "        y = x.copy()\n",
    "        y[:, 1] = y[:, 1] / scale_factor\n",
    "        return super().test_points(y)\n",
    "\n",
    "    def test_cells(self, cell_corners, dgrid, nn=None):\n",
    "        y = cell_corners.copy()\n",
    "        y[:, 1] = y[:, 1] / scale_factor\n",
    "        return super().test_cells(y, dgrid, nn=nn)\n",
    "\n",
    "\n",
    "d_goc_glo = 27 / 2 + spacing_glo / 2 - 1 + 1/scale_factor\n",
    "goc = GoC(goc_points, d_goc_glo)\n",
    "goc.dlat[:,1] = goc.dlat[:,1]/scale_factor\n",
    "\n",
    "\n",
    "def compute_glo_params(h):\n",
    "    Transverse_range = h.MFyrange\n",
    "    Horizontal_range = h.MFxrange\n",
    "    Vertical_range = h.GLdepth\n",
    "    Volume = Transverse_range * Horizontal_range * Vertical_range\n",
    "\n",
    "    MFdensity = h.MFdensity\n",
    "\n",
    "    box_fac = 2.5\n",
    "    Xinstantiate = 64 + 40  # 297+40\n",
    "    Yinstantiate = 84 + 40 * box_fac  # 474+40x*box_fac\n",
    "\n",
    "    d_grc = 1.9 * 1e6  # (Billings et al., 2014)\n",
    "    d_glo = d_grc*0.3\n",
    "#     d_glo = 6.6 * 1e5  # (Billings et al., 2014)\n",
    "    n_glo = int(d_glo * Volume * 1e-9)\n",
    "    print(\"N of Glomeruli = {}\".format(n_glo))\n",
    "\n",
    "    return ((Horizontal_range, int(Transverse_range*scale_factor+0.5) , Vertical_range), n_glo)\n",
    "\n",
    "\n",
    "# Glomerulus (Rosettes)\n",
    "globox, n_glo = compute_glo_params(h)\n",
    "\n",
    "glo_points = ebeida_sampling(globox, spacing_glo, n_glo, True, ftests=[goc])\n",
    "\n",
    "# Since glomerulus is stretched for Horizontal section, we will generate coordinates in small area at first, and then multiply it with 3. (Billings et al., 2014)\n",
    "glo_points[:, 1] = glo_points[:, 1]/scale_factor"
   ]
  },
  {
   "cell_type": "raw",
   "metadata": {
    "lines_to_next_cell": 2
   },
   "source": [
    "glo_points1 = glo_points.copy()\n",
    "glo_points1[:, 1] = glo_points1[:, 1] * scale_factor\n",
    "glo_points1 = glo_points1 + np.random.normal(0, 1, size=(len(glo_points1), 3))\n",
    "glo_points1[:, 1] = glo_points1[:, 1] / scale_factor\n",
    "\n",
    "\n",
    "np.savez(\n",
    "    fname,\n",
    "    mf=mf_points,\n",
    "    goc=goc_points,\n",
    "    glo=glo_points1\n",
    ")"
   ]
  }
 ],
 "metadata": {
  "jupytext": {
   "cell_metadata_filter": "-all",
   "formats": "ipynb,py:hydrogen",
   "main_language": "python",
   "notebook_metadata_filter": "-all"
  },
  "kernelspec": {
   "display_name": "Python 3",
   "language": "python",
   "name": "python3"
  },
  "language_info": {
   "codemirror_mode": {
    "name": "ipython",
    "version": 3
   },
   "file_extension": ".py",
   "mimetype": "text/x-python",
   "name": "python",
   "nbconvert_exporter": "python",
   "pygments_lexer": "ipython3",
   "version": "3.7.6"
  }
 },
 "nbformat": 4,
 "nbformat_minor": 4
}
