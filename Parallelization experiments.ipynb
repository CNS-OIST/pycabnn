{
 "cells": [
  {
   "cell_type": "markdown",
   "metadata": {},
   "source": [
    "# General setup"
   ]
  },
  {
   "cell_type": "code",
   "execution_count": 5,
   "metadata": {
    "ExecuteTime": {
     "end_time": "2017-11-20T00:24:01.449991Z",
     "start_time": "2017-11-20T00:24:01.178788Z"
    }
   },
   "outputs": [
    {
     "name": "stdout",
     "output_type": "stream",
     "text": [
      "1150\n"
     ]
    }
   ],
   "source": [
    "\n",
    "\n",
    "%run BREPpy.py\n",
    "\n",
    "#conn = Connector()\n",
    "#conn.init_from_script(['--config_fn','./input_files/Parameters.hoc',\n",
    "#                       '--goc_points_fn', './example_simulation/coordinates_input/GoCcoordinates.dat',\n",
    "#                      '--gc_points_fn', './example_simulation/coordinates_input/GCcoordinates.dat'])\n",
    "\n",
    "\n",
    "p1 = './example_simulation/coordinates_input/'\n",
    "p2 = './example_simulation/coordinates_input/subsampled/'\n",
    "\n",
    "go_ori = p1+'GoCcoordinates.dat'\n",
    "gr_ori = p1+'GCcoordinates.dat'\n",
    "go_32 = p2+'GoCcoordinates_32.dat'\n",
    "gr_32 = p2+'GCcoordinates_32.dat'\n",
    "go_16 = p2+'GoCcoordinates_16.dat'\n",
    "gr_16 = p2+'GCcoordinates_16.dat'\n",
    "go_4 = p2+'GoCcoordinates_4.dat'\n",
    "gr_4 = p2+'GCcoordinates_4.dat' \n",
    "\n",
    "# read in parameter file\n",
    "empty_hoc = dir(neuron.hoc.HocObject()).copy()\n",
    "config_fn = './input_files/Parameters.hoc'\n",
    "neuron.h.xopen(config_fn)\n",
    "\n",
    "# find all points in radius c_rad from a single point pt in a KDTree kdt\n",
    "def pt_in_tr (kdt, pt, c_rad):\n",
    "    warnings.simplefilter('ignore')\n",
    "    ind, = kdt.query_radius(pt, r = c_rad)\n",
    "    return ind\n",
    "\n",
    "\n",
    "\n",
    "gg = Golgi_pop(h)\n",
    "gg.load_somata(go_32)\n",
    "gg.add_dendrites()\n",
    "\n",
    "gp = Granule_pop(h)\n",
    "gp.load_somata(gr_32)\n",
    "gp.add_aa_endpoints_fixed()\n",
    "gp.add_pf_endpoints()\n",
    "\n",
    "cc = Connect_2D(gg.qpts, gp.qpts_aa, 30)\n",
    "kdt, q_pts, lax_c, lax_range, lin_in_tree = cc.get_tree_setup()\n",
    "    \n",
    "\n",
    "a = pt_in_tr(kdt, q_pts[0], 30)\n",
    "print (len(a))"
   ]
  },
  {
   "cell_type": "code",
   "execution_count": null,
   "metadata": {},
   "outputs": [],
   "source": []
  },
  {
   "cell_type": "markdown",
   "metadata": {},
   "source": [
    "# joblib multithreading"
   ]
  },
  {
   "cell_type": "code",
   "execution_count": null,
   "metadata": {
    "ExecuteTime": {
     "end_time": "2017-11-15T17:20:47.878467Z",
     "start_time": "2017-11-15T17:20:47.870078Z"
    }
   },
   "outputs": [],
   "source": [
    "from joblib import Parallel, delayed\n",
    "\n",
    "gg = Golgi_pop(h)\n",
    "gg.load_somata(go_4)\n",
    "gg.add_dendrites()\n",
    "\n",
    "gp = Granule_pop(h)\n",
    "gp.load_somata(gr_4)\n",
    "gp.add_aa_endpoints_fixed()\n",
    "gp.add_pf_endpoints()\n",
    "\n",
    "cc = Connect_2D(gg.qpts, gp.qpts_aa, 30)\n",
    "kdt, q_pts = cc.search_connections()\n",
    "\n",
    "\n",
    "print ('none')\n",
    "%timeit a = [pt_in_tr(kdt,pt,30) for pt in q_pts]\n",
    "\n",
    "print('njobs = 1')\n",
    "%timeit a1 = (Parallel(n_jobs=1)(delayed(pt_in_tr)(kdt, pt, 30) for pt in q_pts))\n",
    "\n",
    "print('njobs = 2')\n",
    "%timeit a1 = (Parallel(n_jobs=2)(delayed(pt_in_tr)(kdt, pt, 30) for pt in q_pts))\n",
    "\n",
    "print('njobs = 3')\n",
    "%timeit a1 = (Parallel(n_jobs=3)(delayed(pt_in_tr)(kdt, pt, 30) for pt in q_pts))\n",
    "\n",
    "print('njobs = 4')\n",
    "%timeit a1 = (Parallel(n_jobs=4)(delayed(pt_in_tr)(kdt, pt, 30) for pt in q_pts))\n",
    "\n",
    "print('njobs = 6')\n",
    "%timeit a1 = (Parallel(n_jobs=6)(delayed(pt_in_tr)(kdt, pt, 30) for pt in q_pts))"
   ]
  },
  {
   "cell_type": "code",
   "execution_count": null,
   "metadata": {
    "ExecuteTime": {
     "end_time": "2017-11-15T17:54:32.982651Z",
     "start_time": "2017-11-15T17:49:57.053871Z"
    }
   },
   "outputs": [],
   "source": [
    "# And now with a loop and a saving file...\n",
    "\n",
    "n_jobs_a = [-1, 1 , 2, 3, 4, 6]\n",
    "files = [[go_32, gr_32], [go_16, gr_16], [go_4, gr_4]]\n",
    "import time\n",
    "import numpy as np\n",
    "\n",
    "times = np.zeros((len(files), len(n_jobs_a)))\n",
    "for fn, [go, gr] in enumerate(files):\n",
    "                 \n",
    "    gg = Golgi_pop(h)\n",
    "    gg.load_somata(go)\n",
    "    gg.add_dendrites()\n",
    "    gp = Granule_pop(h)\n",
    "    gp.load_somata(gr)\n",
    "    gp.add_aa_endpoints_fixed()\n",
    "    gp.add_pf_endpoints()\n",
    "                 \n",
    "    cc = Connect_2D(gg.qpts, gp.qpts_aa, 30)\n",
    "    kdt, q_pts = cc.search_connections()\n",
    "                 \n",
    "    for njc, nj in enumerate(n_jobs_a):\n",
    "        start = time.time()\n",
    "        if nj<0:\n",
    "            a = [pt_in_tr(kdt,pt,30) for pt in q_pts]\n",
    "        else:\n",
    "            a = (Parallel(n_jobs=njc)(delayed(pt_in_tr)(kdt, pt, 30) for pt in q_pts))\n",
    "        times[fn, njc] = time.time()-start\n",
    "\n",
    "np.savetxt('times_parallel.txt', times)\n",
    "            \n",
    "\n"
   ]
  },
  {
   "cell_type": "markdown",
   "metadata": {
    "collapsed": true
   },
   "source": [
    "It seems as if this is not really succesfull, multithreading does increase the computation time. \n",
    "This is probably because sklearn KDTree uses Cython (https://github.com/scikit-learn/scikit-learn/blob/master/sklearn/neighbors/kd_tree.pyx), so a GIL (Global Interpreter Lock) is enabled, which prevents more than one native thread active. \n",
    "\n",
    "Thus, multithreading seems not to be a useful option, and we should look into multiprocessing.\n",
    "\n",
    "http://people.duke.edu/~ccc14/sta-663-2016/19C_IPyParallel.html\n",
    "\n",
    "\n",
    "\n",
    "https://stackoverflow.com/questions/5128072/how-efficient-is-threading-in-python\n",
    "-> not very efficient due to GIL, have to use multiprocessing (actually, not a complete answer, however:)\n",
    "\n",
    "https://softwareengineering.stackexchange.com/questions/186889/why-was-python-written-with-the-gil\n",
    "-> CPython definitely does, and KDTrees from sklearn do use that.\n",
    "\n",
    "https://stackoverflow.com/questions/3044580/multiprocessing-vs-threading-python\n",
    "\n",
    "https://stackoverflow.com/questions/18114285/python-what-are-the-differences-between-the-threading-and-multiprocessing-modul\n",
    "-> good explanation\n",
    "\n"
   ]
  },
  {
   "cell_type": "markdown",
   "metadata": {},
   "source": [
    "## Visualization"
   ]
  },
  {
   "cell_type": "code",
   "execution_count": null,
   "metadata": {
    "ExecuteTime": {
     "end_time": "2017-11-14T15:09:47.958440Z",
     "start_time": "2017-11-14T15:09:47.940806Z"
    }
   },
   "outputs": [],
   "source": [
    "%run BREPpy.py\n",
    "\n",
    "\n",
    "import matplotlib.pyplot as plt\n",
    "%matplotlib inline\n",
    "gg.plot_somata(True, 'ro')\n",
    "gp.plot_somata(False, 'k.', markersize = 0.1)"
   ]
  },
  {
   "cell_type": "code",
   "execution_count": null,
   "metadata": {
    "ExecuteTime": {
     "end_time": "2017-11-15T11:13:25.999788Z",
     "start_time": "2017-11-15T11:13:24.381803Z"
    }
   },
   "outputs": [],
   "source": [
    "## plot some full cells\n",
    "gr_pop = gp\n",
    "go_pop = gg\n",
    "\n",
    "gr_cells = np.random.randint(0, len(gr_pop.som), 10)\n",
    "go_cells = np.random.randint(0, len(go_pop.som), 2)\n",
    "\n",
    "\n",
    "# 3D plot\n",
    "plt.figure()\n",
    "ax = plt.gcf().gca(projection='3d')\n",
    "def plot3d (ax, dat, *args, **kwargs):\n",
    "    if len(dat.shape) == 1: #if single dot\n",
    "        dat = np.expand_dims(dat, axis = 0)\n",
    "    ax.plot(dat[:,0], dat[:,1], dat[:,2], *args, **kwargs)\n",
    "\n",
    "for c in gr_cells:\n",
    "    plot3d(ax, gr_pop.aa_dots[c], 'c')\n",
    "    plot3d(ax, gr_pop.pf_dots[c], 'b')\n",
    "    plot3d(ax, gr_pop.som[c], 'bo')\n",
    "\n",
    "for c in go_cells:\n",
    "    plot3d(ax, go_pop.a_dend[c], 'r')\n",
    "    plot3d(ax, go_pop.b_dend[c], 'm')\n",
    "    plot3d(ax, np.expand_dims(go_pop.som[c], axis = 0), 'ro')\n",
    "    \n",
    "    \n",
    "#2D projections\n",
    "plt.figure(figsize=(15,5))\n",
    "for i, [j, k, tit] in enumerate([[0,1, 'x-y plane'], [1,2, 'y-z plane'], [0,2, 'x-z plane']]):\n",
    "    \n",
    "    plt.subplot(1,3,i+1)\n",
    "    \n",
    "    for c in gr_cells:\n",
    "        plt.plot(gr_pop.aa_dots[c,:,j], gr_pop.aa_dots[c,:,k], 'c')\n",
    "        plt.plot(gr_pop.pf_dots[c,:,j], gr_pop.pf_dots[c,:,k], 'b')\n",
    "        plt.plot(gr_pop.som[c,j], gr_pop.som[c,k], 'bo')\n",
    "\n",
    "    for c in go_cells:\n",
    "        plt.plot(go_pop.a_dend[c,:,j], go_pop.a_dend[c,:,k], 'r')\n",
    "        plt.plot(go_pop.b_dend[c,:,j], go_pop.b_dend[c,:,k], 'm')\n",
    "        plt.plot(go_pop.som[c,j], go_pop.som[c,k], 'ro')\n",
    "    \n",
    "    if True:\n",
    "        if i in [0,2]: plt.xlim([-100, 500])\n",
    "    plt.title (tit)"
   ]
  },
  {
   "cell_type": "code",
   "execution_count": null,
   "metadata": {
    "ExecuteTime": {
     "end_time": "2017-11-13T10:50:24.393140Z",
     "start_time": "2017-11-13T10:50:24.384933Z"
    }
   },
   "outputs": [],
   "source": [
    "qpt = Query_points(gg.som)\n",
    "\n",
    "qpt.npts"
   ]
  },
  {
   "cell_type": "markdown",
   "metadata": {
    "collapsed": true
   },
   "source": [
    "# Visualization of Golgi cells"
   ]
  },
  {
   "cell_type": "markdown",
   "metadata": {},
   "source": [
    "For both the apical and the basal dendrites, a parameter GoC_*d_nseg is defined by `int((GoC_ApicalDendL/(GoC_d_lambda*GoC_d_lambda_f)+0.9)/2)*2 + 1 ` (analogous for BasolateralDendL)\n",
    "Plugging in the values for the other parameters specified, I get that only if the length parameter GoC_**DendL is >= 488.6 (which seems an unlikely case), this parameter is not 1. (Values in the current config file are 166 for apical, 60 for basolateral)\n",
    "I would like to understand what this parameter does and what it is used for (something cable equationish?)\n"
   ]
  },
  {
   "cell_type": "markdown",
   "metadata": {},
   "source": [
    "# Multiprocessing library"
   ]
  },
  {
   "cell_type": "code",
   "execution_count": 14,
   "metadata": {
    "ExecuteTime": {
     "end_time": "2017-11-20T01:11:15.467159Z",
     "start_time": "2017-11-20T01:11:15.388248Z"
    }
   },
   "outputs": [
    {
     "name": "stdout",
     "output_type": "stream",
     "text": [
      "Worker 0 , result 0.0\n",
      "Worker 1 , result 1.0\n",
      "Worker 2 , result 1.41421356237\n",
      "Worker 3 , result 1.73205080757\n",
      "Worker 4 , result 2.0\n",
      "None\n"
     ]
    }
   ],
   "source": [
    "import multiprocessing\n",
    "\n",
    "def worker( num):\n",
    "    \"\"\"worker function\"\"\"\n",
    "    a = np.sqrt(num)\n",
    "    print ('Worker', num, ', result', a)\n",
    "    return num*a\n",
    "\n",
    "\n",
    "jobs = []\n",
    "for i in range(5):\n",
    "    p = multiprocessing.Process(target=worker, args = (i,)) #note the comma here which makes the integer i iterable.\n",
    "    jobs.append(p)\n",
    "    r = p.start()\n",
    "    \n",
    "print (r)\n"
   ]
  },
  {
   "cell_type": "code",
   "execution_count": null,
   "metadata": {},
   "outputs": [],
   "source": []
  },
  {
   "cell_type": "markdown",
   "metadata": {},
   "source": [
    "# IPyparallel\n",
    "http://ipyparallel.readthedocs.io/en/latest/process.html"
   ]
  },
  {
   "cell_type": "code",
   "execution_count": 15,
   "metadata": {
    "ExecuteTime": {
     "end_time": "2017-11-20T03:37:07.894233Z",
     "start_time": "2017-11-20T03:36:29.968959Z"
    },
    "scrolled": true
   },
   "outputs": [
    {
     "name": "stdout",
     "output_type": "stream",
     "text": [
      "2017-11-20 12:36:38.574 [IPClusterStart] Removing pid file: /home/ines/.ipython/profile_default/pid/ipcluster.pid\n",
      "2017-11-20 12:36:38.584 [IPClusterStart] Starting ipcluster with [daemon=False]\n",
      "2017-11-20 12:36:38.585 [IPClusterStart] Creating pid file: /home/ines/.ipython/profile_default/pid/ipcluster.pid\n",
      "2017-11-20 12:36:38.585 [IPClusterStart] Starting Controller with LocalControllerLauncher\n",
      "2017-11-20 12:36:39.589 [IPClusterStart] Starting 4 Engines with LocalEngineSetLauncher\n",
      "^C\n",
      "2017-11-20 12:37:07.146 [IPClusterStart] ERROR | IPython cluster: stopping\n",
      "2017-11-20 12:37:07.166 [IPClusterStart] Stopping Engines...\n"
     ]
    }
   ],
   "source": [
    "! ipcluster start -n 4"
   ]
  },
  {
   "cell_type": "code",
   "execution_count": null,
   "metadata": {
    "ExecuteTime": {
     "end_time": "2017-11-16T10:48:12.549163Z",
     "start_time": "2017-11-16T10:48:10.635920Z"
    }
   },
   "outputs": [],
   "source": [
    "! ipython profile create --parallel --profile=myprofile"
   ]
  },
  {
   "cell_type": "markdown",
   "metadata": {},
   "source": [
    "in the directory\n",
    "~/.ipython/\n",
    "you can find the different directories which would now have to be populated\n"
   ]
  },
  {
   "cell_type": "code",
   "execution_count": null,
   "metadata": {
    "ExecuteTime": {
     "end_time": "2017-11-17T00:41:34.095841Z",
     "start_time": "2017-11-17T00:41:33.173483Z"
    }
   },
   "outputs": [],
   "source": [
    "import ipyparallel as ipp\n",
    "c = ipp.Client()\n",
    "print (c.ids)\n",
    "c[:].apply_sync(lambda: 'Hello, World')"
   ]
  },
  {
   "cell_type": "code",
   "execution_count": null,
   "metadata": {
    "ExecuteTime": {
     "end_time": "2017-11-16T11:10:55.239255Z",
     "start_time": "2017-11-16T11:10:55.174819Z"
    }
   },
   "outputs": [],
   "source": [
    "ipp.Client?"
   ]
  },
  {
   "cell_type": "code",
   "execution_count": null,
   "metadata": {
    "ExecuteTime": {
     "end_time": "2017-11-17T01:54:55.814171Z",
     "start_time": "2017-11-17T01:54:55.517166Z"
    }
   },
   "outputs": [],
   "source": [
    "from IPython import parallel\n",
    "rc = parallel.Client()\n",
    "\n",
    "rc.block = True # As I get it, this parameter says whether or not to wait until some job is done before return.\n",
    "                # If false, this will lead to possibly asynchronous return, but if True it might be slightly slower\n",
    "\n",
    "#simble process\n",
    "def mul(a,b):\n",
    "    return a*b\n",
    "\n",
    "\n",
    "def summary():\n",
    "    \"\"\"summarize some info about this process\"\"\"\n",
    "    import os\n",
    "    import socket\n",
    "    import sys\n",
    "    print('cwd:     ', os.getcwd())\n",
    "    print('Python:  ', sys.version)\n",
    "    print('hostname:', socket.gethostname())\n",
    "    print('pid:     ', os.getpid())\n",
    "    return {\n",
    "        'cwd': os.getcwd(),\n",
    "        'Python': sys.version,\n",
    "        'hostname': socket.gethostname(),\n",
    "        'pid': os.getpid(),\n",
    "    }"
   ]
  },
  {
   "cell_type": "code",
   "execution_count": null,
   "metadata": {
    "ExecuteTime": {
     "end_time": "2017-11-17T01:55:13.018491Z",
     "start_time": "2017-11-17T01:55:13.011614Z"
    }
   },
   "outputs": [],
   "source": [
    "#Local execution\n",
    "m = mul(5,6)\n",
    "_=summary()\n",
    "print (m)"
   ]
  },
  {
   "cell_type": "code",
   "execution_count": null,
   "metadata": {
    "ExecuteTime": {
     "end_time": "2017-11-17T01:54:58.946044Z",
     "start_time": "2017-11-17T01:54:58.783398Z"
    }
   },
   "outputs": [],
   "source": [
    "#Now we work remotely\n",
    "r = rc[0].apply(mul, 5, [6,7,8,9])\n",
    "rc[0].apply(summary)\n",
    "\n",
    "print (r)"
   ]
  },
  {
   "cell_type": "code",
   "execution_count": null,
   "metadata": {
    "ExecuteTime": {
     "end_time": "2017-11-17T01:53:44.680467Z",
     "start_time": "2017-11-17T01:53:44.396839Z"
    }
   },
   "outputs": [],
   "source": [
    "#And now in parallel.\n",
    "rc[:].apply(mul, 5, 6)\n",
    "rc[:].apply(summary)"
   ]
  },
  {
   "cell_type": "code",
   "execution_count": null,
   "metadata": {
    "ExecuteTime": {
     "end_time": "2017-11-17T01:08:22.828025Z",
     "start_time": "2017-11-17T01:08:21.670607Z"
    }
   },
   "outputs": [],
   "source": [
    "map(mul, range(1,10), range(2,11))\n",
    "view = rc.load_balanced_view()\n",
    "view.map(mul, range(1,10), range(2,11))"
   ]
  },
  {
   "cell_type": "markdown",
   "metadata": {},
   "source": [
    "## Applying this to our own project"
   ]
  },
  {
   "cell_type": "code",
   "execution_count": 44,
   "metadata": {
    "ExecuteTime": {
     "end_time": "2017-11-28T06:55:34.631805Z",
     "start_time": "2017-11-28T06:55:34.009346Z"
    }
   },
   "outputs": [],
   "source": [
    "%run BREPpy.py\n",
    "\n",
    "\n",
    "\n",
    "p1 = './example_simulation/coordinates_input/'\n",
    "p2 = './example_simulation/coordinates_input/subsampled/'\n",
    "\n",
    "go_ori = p1+'GoCcoordinates.dat'\n",
    "gr_ori = p1+'GCcoordinates.dat'\n",
    "go_64 = p2+'GoCcoordinates_64.dat'\n",
    "gr_64 = p2+'GCcoordinates_64.dat'\n",
    "go_16 = p2+'GoCcoordinates_16.dat'\n",
    "gr_16 = p2+'GCcoordinates_16.dat'\n",
    "go_4 = p2+'GoCcoordinates_4.dat'\n",
    "gr_4 = p2+'GCcoordinates_4.dat' \n",
    "\n",
    "# read in parameter file\n",
    "empty_hoc = dir(neuron.hoc.HocObject()).copy()\n",
    "config_fn = './input_files/Parameters.hoc'\n",
    "neuron.h.xopen(config_fn)\n",
    "\n",
    "# find a single point in a KDTree\n",
    "def pts_in_tr (kdt, pt, c_rad):\n",
    "    import numpy as np\n",
    "    import warnings\n",
    "    if sum(np.array(pt.shape)>1)==1: pt = [pt]\n",
    "    res = []\n",
    "    for p in pt: \n",
    "        warnings.simplefilter('ignore')\n",
    "        ind, = kdt.query_radius(p, r = c_rad)\n",
    "        res.append(ind,)\n",
    "    return res\n",
    "\n",
    "def pt_in_tr (kdt, pt, c_rad):\n",
    "    import warnings\n",
    "    warnings.simplefilter('ignore')\n",
    "    res, = kdt.query_radius(pt, r = c_rad)\n",
    "    return res\n",
    "\n",
    "#pt_in_tr (kdt, pt, c_)\n",
    "\n",
    "\n",
    "gg = Golgi_pop(h)\n",
    "gg.load_somata(go_64)\n",
    "gg.add_dendrites()\n",
    "\n",
    "gp = Granule_pop(h)\n",
    "gp.load_somata(gr_64)\n",
    "gp.add_aa_endpoints_fixed()\n",
    "gp.add_pf_endpoints()\n",
    "\n",
    "c_rad = 15\n",
    "cc = Connect_2D(gg.qpts, gp.qpts_aa, c_rad)\n",
    "kdt, q_pts, lax_c, lax_range, lin_in_tree = cc.get_tree_setup()\n"
   ]
  },
  {
   "cell_type": "code",
   "execution_count": 37,
   "metadata": {
    "ExecuteTime": {
     "end_time": "2017-11-28T06:26:44.514217Z",
     "start_time": "2017-11-28T06:26:42.517962Z"
    }
   },
   "outputs": [],
   "source": [
    "ts1 = time.time()\n",
    "r1, l_r1 = cc.find_connections()\n",
    "ts2 = time.time()"
   ]
  },
  {
   "cell_type": "code",
   "execution_count": 6,
   "metadata": {
    "ExecuteTime": {
     "end_time": "2017-11-28T05:38:57.744412Z",
     "start_time": "2017-11-28T05:38:57.724804Z"
    }
   },
   "outputs": [],
   "source": [
    "import ipyparallel as ipp\n",
    "rc = parallel.Client()\n",
    "import time"
   ]
  },
  {
   "cell_type": "code",
   "execution_count": 45,
   "metadata": {
    "ExecuteTime": {
     "end_time": "2017-11-28T06:58:32.011277Z",
     "start_time": "2017-11-28T06:57:24.218151Z"
    }
   },
   "outputs": [
    {
     "name": "stdout",
     "output_type": "stream",
     "text": [
      "importing parallel_util_test on engine(s)\n"
     ]
    }
   ],
   "source": [
    "rc = ipp.Client()\n",
    "dv = rc[:]\n",
    "lv = rc.load_balanced_view()\n",
    "\n",
    "t1 = time.time()\n",
    "dv.block = True\n",
    "with dv.sync_imports(): # note: import as does not work as only import part works, not assignment. Also, you will have to store the file in a directory reachable from the PYTHONPATH\n",
    "    import parallel_util_test \n",
    "dv.push(dict(kdt = kdt, q_pts = q_pts))\n",
    "\n",
    "lam_qpt = lambda pt: parallel_util_test.pt_in_tr(kdt, pt, 15)\n",
    "dv.block = False\n",
    "t2 = time.time()\n",
    "res = list(lv.map (lam_qpt, q_pts))\n",
    "t3 = time.time()\n",
    "\n",
    "\n"
   ]
  },
  {
   "cell_type": "code",
   "execution_count": 46,
   "metadata": {
    "ExecuteTime": {
     "end_time": "2017-11-28T07:27:27.562004Z",
     "start_time": "2017-11-28T07:27:27.334030Z"
    }
   },
   "outputs": [
    {
     "name": "stdout",
     "output_type": "stream",
     "text": [
      "-0.31743836402893066\n",
      "-67.44466352462769\n",
      "-1.9915156364440918\n",
      "2220\n",
      "[11493  5633  7415  8072  4947  2601  4174 10172  3822 10943  7030  6322\n",
      " 12358 12393  3985  5983 12797  3548  3562  9528  3266  5494   143  6066\n",
      "  5928  7710  4296  5960  1108  5401  3803  1884  5830  6709  8717  1051\n",
      "  8396  4419  2174  5676  7006 12305  6221  7070  4956  3515  7072  9950\n",
      "  5826  4227  4620  5202  9817  4949   435  4151  2105  4664  8473 12869\n",
      "  8880 12678  1929 11373  3637  8761  6631  4726  9664  6556  5149  9986\n",
      "  9233  5653  6757  1618  5705  1096 10842  2537  4433 12074  2367  5901\n",
      "   513  6909 12035   907  6925  1728  5984  8682  8691    34  6538  5627\n",
      "  4106 12773  6962 10122   806  6358 12874  6795  6672 10314  2029  7791\n",
      "  5545 10204  7241 12591 13022  5143 13096 10014  7298  3300 11252  7941\n",
      "  9047    62 11557  5534  7894  2907  1031  6410  8855  4291  8411 11691\n",
      "  5638  2264 12067  1246 10585  7926 12029 10712  9689  6364 10527  1008\n",
      "  7329 13045  2049  6650  5773  7521  2321  7262  4867  8469  7380 10102\n",
      "   910  6345  6350  2503  4332 12043   744  9661  4561  5460  2967  3720\n",
      "  1674  6164  4536 12436 12452  7671  1736  6549 12868  4342 11172 11791\n",
      "  1541    38  8223 11997  5996 12642  3407  2605  4411  9212   815 10690\n",
      "  4157  2413  3730  9617   324  6547 12700  4971   748  4960   233 10033\n",
      "  9311  4875 11912 12434 12361   943  2895  2991  6130  5139   283 11813\n",
      "  6673  4625 10611 11904  1275  1456  5752  3373  6812  1317  4801  9635\n",
      "  2426 11156  3664 12324  2818 11547  7127  4101  8544  6627  3776 12002\n",
      "  5376 12528 11354 11805 10438   975  9692  1200  8708 11835  3927   919\n",
      "  9282  1082  9222  3016  6251 10554  9404 11495  3110  7842  9410  2882\n",
      " 10999 12776  6771 10408  9511  9674 11793  4294  1836  8240  8164  7019\n",
      " 12381 10946 10255 11892 12550  2798  2304   786  8361  5104  7992   886\n",
      " 10663  8066  2186  5882   879  6898  2658 10547  3627 11196  5898 11709\n",
      "  5436  3163 11622 12774  8844 11831  2349  3510  2323 11533  7973  4170\n",
      " 11170 11460 12080 11846  7925  3160   903  3359  5047  9059 11273  2694\n",
      "  6502  2519 11818  1068  5934 12166  5508  5506  5219  1115  5558 10568\n",
      " 11248 11499  6089  2214  7786 11829 12155  7701  2194   993  1922  4156\n",
      " 12420 12793  4606  9921  9576  3025  1316 10761 12152  8101  8826  9623\n",
      "  1218  5544 10808  5238  4764  4245 11699  8887  9442  8002 11749 12106\n",
      "  6157  3310  8098  2936  9365  1584 12705  7296  9221 11445 12488  7460\n",
      "  1465  1520  3265  4839 12524  7727 10309  5211   883   391  5576   838\n",
      "  4197  5204  1365 10851  4914  7660  3871  7406 11335  2533  5156  9709\n",
      "  9217 10020  1983  8323   494 11659  5666  1307  3531   590 11274  4899\n",
      "  5161  1157  8067  1516 11176  7462  1954  8318  4240  4262 10186]\n"
     ]
    }
   ],
   "source": [
    "print (t2-t1)\n",
    "print (t3-t2)\n",
    "print (ts2-ts1)\n",
    "print (len(res))\n",
    "\n",
    "print (res[1])"
   ]
  },
  {
   "cell_type": "code",
   "execution_count": 41,
   "metadata": {
    "ExecuteTime": {
     "end_time": "2017-11-28T06:37:14.019976Z",
     "start_time": "2017-11-28T06:37:14.014629Z"
    }
   },
   "outputs": [
    {
     "name": "stdout",
     "output_type": "stream",
     "text": [
      "-1.9915156364440918\n"
     ]
    }
   ],
   "source": [
    "print (ts1 - ts2)"
   ]
  },
  {
   "cell_type": "code",
   "execution_count": 26,
   "metadata": {
    "ExecuteTime": {
     "end_time": "2017-11-28T06:03:03.511155Z",
     "start_time": "2017-11-28T06:03:03.500731Z"
    }
   },
   "outputs": [
    {
     "name": "stdout",
     "output_type": "stream",
     "text": [
      "[<class '_frozen_importlib.BuiltinImporter'>, <class '_frozen_importlib.FrozenImporter'>, <class '_frozen_importlib_external.PathFinder'>, <six._SixMetaPathImporter object at 0x7fddfedcb908>, <pkg_resources.extern.VendorImporter object at 0x7fddfba8aac8>, <pkg_resources._vendor.six._SixMetaPathImporter object at 0x7fddfb5abda0>, <matplotlib.externals.six._SixMetaPathImporter object at 0x7fddd08ab6d8>, <IPython.utils.shimmodule.ShimImporter object at 0x7fddac2f4128>]\n"
     ]
    }
   ],
   "source": [
    "#import parallel_util_test\n",
    "import sys\n",
    "import os\n",
    "sys.path.append('~/home/ines/Desktop/LabRot_OIST/pybrep')\n",
    "\n",
    "print (sys.meta_path)"
   ]
  },
  {
   "cell_type": "code",
   "execution_count": 27,
   "metadata": {
    "ExecuteTime": {
     "end_time": "2017-11-28T06:09:07.125040Z",
     "start_time": "2017-11-28T06:09:06.958392Z"
    }
   },
   "outputs": [
    {
     "name": "stdout",
     "output_type": "stream",
     "text": [
      "/home/ines/.local/lib/auto/07p/python/::/usr/local/nrn/lib/python/\r\n"
     ]
    }
   ],
   "source": [
    "! echo $PYTHONPATH"
   ]
  },
  {
   "cell_type": "code",
   "execution_count": null,
   "metadata": {},
   "outputs": [],
   "source": [
    "print (t2-t1)"
   ]
  },
  {
   "cell_type": "code",
   "execution_count": null,
   "metadata": {
    "ExecuteTime": {
     "end_time": "2017-11-17T03:38:22.426214Z",
     "start_time": "2017-11-17T03:38:06.032Z"
    }
   },
   "outputs": [],
   "source": [
    "a = pt_in_tr(kdt, q_pts[0], 15)\n",
    "#print (a)\n",
    "\n",
    "r = rc[0].apply(mul, 5, [6,7,8,9])\n",
    "rc[0].apply(summary)\n",
    "\n",
    "start = time.time()\n",
    "r = [rc[i%4].apply(pts_in_tr, kdt, q_pts[i,:], 15) for i in range(len(q_pts))]\n",
    "\n"
   ]
  },
  {
   "cell_type": "code",
   "execution_count": null,
   "metadata": {
    "ExecuteTime": {
     "start_time": "2017-11-17T05:37:17.230Z"
    }
   },
   "outputs": [],
   "source": [
    "n_jobs = 4\n",
    "\n",
    "idx = np.linspace(0, len(q_pts)-1, n_jobs+1).astype('int')\n",
    "import time\n",
    "start = time.time()\n",
    "rr = [rc[i].apply(pts_in_tr, kdt, q_pts[idx[i]:idx[i+1],:], 15) for i in range(n_jobs)]\n",
    "\n",
    "stop = time.time()-start\n",
    "print (stop)"
   ]
  },
  {
   "cell_type": "code",
   "execution_count": null,
   "metadata": {
    "ExecuteTime": {
     "end_time": "2017-11-17T02:00:21.422455Z",
     "start_time": "2017-11-17T02:00:19.582010Z"
    }
   },
   "outputs": [],
   "source": [
    "r = []\n",
    "#for sr in map(pt_in_tr, [kdt], [q_pts[i,:] for i in range(len(q_pts))], [15]):\n",
    "#    r.append(sr)\n",
    "#print (qpl)\n",
    "#print (qpl)\n",
    "\n",
    "\n",
    "def pt_in_tr (kdt, pt, c_rad):\n",
    "    #print (pt)\n",
    "    #print (c_rad)\n",
    "    warnings.simplefilter('ignore')\n",
    "    ind, = kdt.query_radius(pt, r = c_rad)\n",
    "    return ind\n",
    "\n",
    "r = [*map(lambda pt: pt_in_tr(kdt, pt, 15), q_pts)]"
   ]
  },
  {
   "cell_type": "code",
   "execution_count": null,
   "metadata": {
    "ExecuteTime": {
     "end_time": "2017-11-17T02:08:52.645092Z",
     "start_time": "2017-11-17T02:08:46.987391Z"
    }
   },
   "outputs": [],
   "source": [
    "dview = rc[:]\n",
    "\n",
    "#%timeit r2 = dview.map_sync(lambda pt: pt_in_tr(kdt, pt, 15), q_pts) "
   ]
  },
  {
   "cell_type": "code",
   "execution_count": null,
   "metadata": {},
   "outputs": [],
   "source": []
  },
  {
   "cell_type": "markdown",
   "metadata": {},
   "source": [
    "# Parallelization unrelated insights found while looking at tutorials\n",
    "https://github.com/minrk/IPython-parallel-tutorial/blob/42ae138529d652d7f18925c619dd305dde579a2f/Background.ipynb"
   ]
  },
  {
   "cell_type": "code",
   "execution_count": null,
   "metadata": {
    "ExecuteTime": {
     "end_time": "2017-11-16T11:12:10.143664Z",
     "start_time": "2017-11-16T11:12:10.120287Z"
    }
   },
   "outputs": [],
   "source": [
    "files = !ls\n",
    "#print (files)\n",
    "print (repr(files))\n",
    "# repr gives the canonical string representation of an object\n"
   ]
  },
  {
   "cell_type": "code",
   "execution_count": null,
   "metadata": {
    "ExecuteTime": {
     "end_time": "2017-11-16T11:17:17.533712Z",
     "start_time": "2017-11-16T11:17:17.527639Z"
    }
   },
   "outputs": [],
   "source": [
    "#some more magics\n",
    "%lsmagic #gives you the different magics!"
   ]
  },
  {
   "cell_type": "code",
   "execution_count": null,
   "metadata": {
    "ExecuteTime": {
     "end_time": "2017-11-16T11:17:51.402133Z",
     "start_time": "2017-11-16T11:17:51.214582Z"
    }
   },
   "outputs": [],
   "source": [
    "def inner(x):\n",
    "    return 1/x\n",
    "\n",
    "def outer(y):\n",
    "    return inner(1-y)\n",
    "\n",
    "z = 2\n",
    "outer(-z + 3)\n",
    "%debug"
   ]
  },
  {
   "cell_type": "code",
   "execution_count": null,
   "metadata": {
    "ExecuteTime": {
     "end_time": "2017-11-16T11:19:59.938596Z",
     "start_time": "2017-11-16T11:19:59.930077Z"
    }
   },
   "outputs": [],
   "source": [
    "%%latex\n",
    "#here comes cell magic (must really be in the first line, or it won't work)\n",
    "\\begin{eqnarray}\n",
    "\\nabla \\times \\vec{\\mathbf{B}} &\n",
    "    - \\frac{1}{c} \\frac{\\partial\\vec{\\mathbf{E}}}{\\partial t} \n",
    "    & = & \\frac{4 \\pi}{c} \\vec{\\mathbf{j}} \\\\\n",
    "\\nabla \\cdot \\vec{\\mathbf{E}} && = & 4 \\pi \\rho \\\\\n",
    "\\nabla \\times \\vec{\\mathbf{E}} &\n",
    "    + \\frac{1}{c} \\frac{\\partial\\vec{\\mathbf{B}}}{\\partial t}\n",
    "    & = & \\vec{\\mathbf{0}} \\\\\n",
    "\\nabla \\cdot \\vec{\\mathbf{B}} && = & 0 \n",
    "\\end{eqnarray}"
   ]
  },
  {
   "cell_type": "code",
   "execution_count": null,
   "metadata": {
    "ExecuteTime": {
     "end_time": "2017-11-16T11:19:45.294204Z",
     "start_time": "2017-11-16T11:19:42.141186Z"
    }
   },
   "outputs": [],
   "source": [
    "%matplotlib inline\n",
    "import numpy as np\n",
    "import matplotlib.pyplot as plt\n",
    "from scipy.special import jn\n",
    "x = np.linspace(0,10)\n",
    "for n in range(5):\n",
    "    plt.plot(x, jn(n,x))\n"
   ]
  },
  {
   "cell_type": "code",
   "execution_count": null,
   "metadata": {
    "ExecuteTime": {
     "end_time": "2017-11-16T11:21:39.151159Z",
     "start_time": "2017-11-16T11:21:38.752199Z"
    }
   },
   "outputs": [],
   "source": [
    "from IPython.display import display\n",
    "from IPython.html.widgets import interact\n",
    "import sympy\n",
    "sympy.init_printing(use_latex='mathjax')\n",
    "x = sympy.symbols('x')\n",
    "expr = x**10-1\n",
    "expr\n",
    "sympy.factor(expr)\n"
   ]
  },
  {
   "cell_type": "code",
   "execution_count": null,
   "metadata": {
    "ExecuteTime": {
     "end_time": "2017-11-16T11:21:53.891102Z",
     "start_time": "2017-11-16T11:21:53.842968Z"
    }
   },
   "outputs": [],
   "source": [
    "@interact\n",
    "def factorit(n=10):\n",
    "    display(sympy.factor(x**n-1))"
   ]
  },
  {
   "cell_type": "code",
   "execution_count": null,
   "metadata": {
    "ExecuteTime": {
     "end_time": "2017-11-16T11:25:27.112899Z",
     "start_time": "2017-11-16T11:25:26.833904Z"
    }
   },
   "outputs": [],
   "source": [
    "from IPython.display import YouTubeVideo\n",
    "YouTubeVideo('-Lw_smO-CjQ')"
   ]
  },
  {
   "cell_type": "code",
   "execution_count": null,
   "metadata": {
    "ExecuteTime": {
     "end_time": "2017-11-16T11:28:53.881602Z",
     "start_time": "2017-11-16T11:28:53.259175Z"
    }
   },
   "outputs": [],
   "source": [
    "name = \"pyB\"\n",
    "!head -n 100 {name}.ipynb | pygmentize -l json"
   ]
  },
  {
   "cell_type": "code",
   "execution_count": null,
   "metadata": {},
   "outputs": [],
   "source": [
    "%connect_info #-> gives the number and the address of the kernel you use\n",
    "%qtconsole #-> opens the console with iqdb\n",
    "%debug #-> starts a iqdb pocess inline\n",
    "#-> here, if you print debug, you will jump to the last error. Leave with q\n"
   ]
  }
 ],
 "metadata": {
  "kernelspec": {
   "display_name": "Python 3",
   "language": "python",
   "name": "python3"
  },
  "language_info": {
   "codemirror_mode": {
    "name": "ipython",
    "version": 3
   },
   "file_extension": ".py",
   "mimetype": "text/x-python",
   "name": "python",
   "nbconvert_exporter": "python",
   "pygments_lexer": "ipython3",
   "version": "3.5.2"
  },
  "toc": {
   "nav_menu": {},
   "number_sections": true,
   "sideBar": true,
   "skip_h1_title": true,
   "toc_cell": false,
   "toc_position": {},
   "toc_section_display": "block",
   "toc_window_display": false
  },
  "varInspector": {
   "cols": {
    "lenName": 16,
    "lenType": 16,
    "lenVar": 40
   },
   "kernels_config": {
    "python": {
     "delete_cmd_postfix": "",
     "delete_cmd_prefix": "del ",
     "library": "var_list.py",
     "varRefreshCmd": "print(var_dic_list())"
    },
    "r": {
     "delete_cmd_postfix": ") ",
     "delete_cmd_prefix": "rm(",
     "library": "var_list.r",
     "varRefreshCmd": "cat(var_dic_list()) "
    }
   },
   "types_to_exclude": [
    "module",
    "function",
    "builtin_function_or_method",
    "instance",
    "_Feature"
   ],
   "window_display": false
  }
 },
 "nbformat": 4,
 "nbformat_minor": 1
}
