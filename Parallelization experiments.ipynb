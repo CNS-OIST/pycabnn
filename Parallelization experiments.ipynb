{
 "cells": [
  {
   "cell_type": "code",
   "execution_count": null,
   "metadata": {
    "ExecuteTime": {
     "end_time": "2017-11-16T09:37:12.218458Z",
     "start_time": "2017-11-16T09:37:11.016218Z"
    }
   },
   "outputs": [],
   "source": [
    "from joblib import Parallel, delayed\n",
    "\n",
    "%run BREPpy.py\n",
    "\n",
    "conn = Connector()\n",
    "conn.init_from_script(['--config_fn','./input_files/Parameters.hoc',\n",
    "                       '--goc_points_fn', './example_simulation/coordinates_input/GoCcoordinates.dat',\n",
    "                      '--gc_points_fn', './example_simulation/coordinates_input/GCcoordinates.dat'])\n",
    "\n",
    "\n",
    "p1 = './example_simulation/coordinates_input/'\n",
    "p2 = './example_simulation/coordinates_input/subsampled/'\n",
    "\n",
    "go_ori = p1+'GoCcoordinates.dat'\n",
    "gr_ori = p1+'GCcoordinates.dat'\n",
    "go_32 = p2+'GoCcoordinates_32.dat'\n",
    "gr_32 = p2+'GCcoordinates_32.dat'\n",
    "go_16 = p2+'GoCcoordinates_16.dat'\n",
    "gr_16 = p2+'GCcoordinates_16.dat'\n",
    "go_4 = p2+'GoCcoordinates_4.dat'\n",
    "gr_4 = p2+'GCcoordinates_4.dat' \n",
    "\n",
    "# read in parameter file\n",
    "empty_hoc = dir(neuron.hoc.HocObject()).copy()\n",
    "config_fn = './input_files/Parameters.hoc'\n",
    "neuron.h.xopen(config_fn)\n",
    "\n",
    "# find a single point in a KDTree\n",
    "def pt_in_tr (kdt, pt, c_rad):\n",
    "    warnings.simplefilter('ignore')\n",
    "    ind, = kdt.query_radius(pt, r = c_rad)\n",
    "    return ind\n",
    "\n",
    "a = pt_in_tr(kdt, q_pts[0], 30)\n",
    "\n"
   ]
  },
  {
   "cell_type": "code",
   "execution_count": null,
   "metadata": {
    "ExecuteTime": {
     "end_time": "2017-11-15T17:20:47.878467Z",
     "start_time": "2017-11-15T17:20:47.870078Z"
    }
   },
   "outputs": [],
   "source": [
    "gg = Golgi_pop(h)\n",
    "gg.load_somata(go_4)\n",
    "gg.add_dendrites()\n",
    "\n",
    "gp = Granule_pop(h)\n",
    "gp.load_somata(gr_4)\n",
    "gp.add_aa_endpoints_fixed()\n",
    "gp.add_pf_endpoints()\n",
    "\n",
    "cc = Connect_2D(gg.qpts, gp.qpts_aa, 30)\n",
    "kdt, q_pts = cc.search_connections()\n",
    "\n",
    "\n",
    "print ('none')\n",
    "%timeit a = [pt_in_tr(kdt,pt,30) for pt in q_pts]\n",
    "\n",
    "print('njobs = 1')\n",
    "%timeit a1 = (Parallel(n_jobs=1)(delayed(pt_in_tr)(kdt, pt, 30) for pt in q_pts))\n",
    "\n",
    "print('njobs = 2')\n",
    "%timeit a1 = (Parallel(n_jobs=2)(delayed(pt_in_tr)(kdt, pt, 30) for pt in q_pts))\n",
    "\n",
    "print('njobs = 3')\n",
    "%timeit a1 = (Parallel(n_jobs=3)(delayed(pt_in_tr)(kdt, pt, 30) for pt in q_pts))\n",
    "\n",
    "print('njobs = 4')\n",
    "%timeit a1 = (Parallel(n_jobs=4)(delayed(pt_in_tr)(kdt, pt, 30) for pt in q_pts))\n",
    "\n",
    "print('njobs = 6')\n",
    "%timeit a1 = (Parallel(n_jobs=6)(delayed(pt_in_tr)(kdt, pt, 30) for pt in q_pts))"
   ]
  },
  {
   "cell_type": "code",
   "execution_count": null,
   "metadata": {
    "ExecuteTime": {
     "end_time": "2017-11-15T17:54:32.982651Z",
     "start_time": "2017-11-15T17:49:57.053871Z"
    }
   },
   "outputs": [],
   "source": [
    "# And now with a loop and a saving file...\n",
    "\n",
    "n_jobs_a = [-1, 1 , 2, 3, 4, 6]\n",
    "files = [[go_32, gr_32], [go_16, gr_16], [go_4, gr_4]]\n",
    "import time\n",
    "import numpy as np\n",
    "\n",
    "times = np.zeros((len(files), len(n_jobs_a)))\n",
    "for fn, [go, gr] in enumerate(files):\n",
    "                 \n",
    "    gg = Golgi_pop(h)\n",
    "    gg.load_somata(go)\n",
    "    gg.add_dendrites()\n",
    "    gp = Granule_pop(h)\n",
    "    gp.load_somata(gr)\n",
    "    gp.add_aa_endpoints_fixed()\n",
    "    gp.add_pf_endpoints()\n",
    "                 \n",
    "    cc = Connect_2D(gg.qpts, gp.qpts_aa, 30)\n",
    "    kdt, q_pts = cc.search_connections()\n",
    "                 \n",
    "    for njc, nj in enumerate(n_jobs_a):\n",
    "        start = time.time()\n",
    "        if nj<0:\n",
    "            a = [pt_in_tr(kdt,pt,30) for pt in q_pts]\n",
    "        else:\n",
    "            a = (Parallel(n_jobs=njc)(delayed(pt_in_tr)(kdt, pt, 30) for pt in q_pts))\n",
    "        times[fn, njc] = time.time()-start\n",
    "\n",
    "np.savetxt('times_parallel.txt', times)\n",
    "            \n",
    "\n"
   ]
  },
  {
   "cell_type": "markdown",
   "metadata": {
    "collapsed": true
   },
   "source": [
    "It seems as if this is not really succesfull, multithreading does increase the computation time. \n",
    "This is probably because sklearn KDTree uses Cython (https://github.com/scikit-learn/scikit-learn/blob/master/sklearn/neighbors/kd_tree.pyx), so a GIL (Global Interpreter Lock) is enabled, which prevents more than one native thread active. \n",
    "\n",
    "Thus, multithreading seems not to be a useful option, and we should look into multiprocessing.\n",
    "\n",
    "http://people.duke.edu/~ccc14/sta-663-2016/19C_IPyParallel.html\n",
    "\n",
    "\n",
    "\n",
    "https://stackoverflow.com/questions/5128072/how-efficient-is-threading-in-python\n",
    "-> not very efficient due to GIL, have to use multiprocessing (actually, not a complete answer, however:)\n",
    "\n",
    "https://softwareengineering.stackexchange.com/questions/186889/why-was-python-written-with-the-gil\n",
    "-> CPython definitely does, and KDTrees from sklearn do use that.\n",
    "\n",
    "https://stackoverflow.com/questions/3044580/multiprocessing-vs-threading-python\n",
    "\n",
    "https://stackoverflow.com/questions/18114285/python-what-are-the-differences-between-the-threading-and-multiprocessing-modul\n",
    "-> good explanation\n",
    "\n"
   ]
  },
  {
   "cell_type": "code",
   "execution_count": null,
   "metadata": {
    "ExecuteTime": {
     "end_time": "2017-11-16T10:33:58.323062Z",
     "start_time": "2017-11-16T10:33:58.318214Z"
    }
   },
   "outputs": [],
   "source": [
    "a = np.ones(0)\n",
    "print (list(a))"
   ]
  },
  {
   "cell_type": "code",
   "execution_count": null,
   "metadata": {
    "ExecuteTime": {
     "end_time": "2017-11-14T15:09:47.958440Z",
     "start_time": "2017-11-14T15:09:47.940806Z"
    }
   },
   "outputs": [],
   "source": [
    "%run BREPpy.py\n",
    "\n",
    "\n",
    "import matplotlib.pyplot as plt\n",
    "%matplotlib inline\n",
    "gg.plot_somata(True, 'ro')\n",
    "gp.plot_somata(False, 'k.', markersize = 0.1)"
   ]
  },
  {
   "cell_type": "code",
   "execution_count": null,
   "metadata": {
    "ExecuteTime": {
     "end_time": "2017-11-15T11:13:25.999788Z",
     "start_time": "2017-11-15T11:13:24.381803Z"
    }
   },
   "outputs": [],
   "source": [
    "## plot some full cells\n",
    "gr_pop = gp\n",
    "go_pop = gg\n",
    "\n",
    "gr_cells = np.random.randint(0, len(gr_pop.som), 10)\n",
    "go_cells = np.random.randint(0, len(go_pop.som), 2)\n",
    "\n",
    "\n",
    "# 3D plot\n",
    "plt.figure()\n",
    "ax = plt.gcf().gca(projection='3d')\n",
    "def plot3d (ax, dat, *args, **kwargs):\n",
    "    if len(dat.shape) == 1: #if single dot\n",
    "        dat = np.expand_dims(dat, axis = 0)\n",
    "    ax.plot(dat[:,0], dat[:,1], dat[:,2], *args, **kwargs)\n",
    "\n",
    "for c in gr_cells:\n",
    "    plot3d(ax, gr_pop.aa_dots[c], 'c')\n",
    "    plot3d(ax, gr_pop.pf_dots[c], 'b')\n",
    "    plot3d(ax, gr_pop.som[c], 'bo')\n",
    "\n",
    "for c in go_cells:\n",
    "    plot3d(ax, go_pop.a_dend[c], 'r')\n",
    "    plot3d(ax, go_pop.b_dend[c], 'm')\n",
    "    plot3d(ax, np.expand_dims(go_pop.som[c], axis = 0), 'ro')\n",
    "    \n",
    "    \n",
    "#2D projections\n",
    "plt.figure(figsize=(15,5))\n",
    "for i, [j, k, tit] in enumerate([[0,1, 'x-y plane'], [1,2, 'y-z plane'], [0,2, 'x-z plane']]):\n",
    "    \n",
    "    plt.subplot(1,3,i+1)\n",
    "    \n",
    "    for c in gr_cells:\n",
    "        plt.plot(gr_pop.aa_dots[c,:,j], gr_pop.aa_dots[c,:,k], 'c')\n",
    "        plt.plot(gr_pop.pf_dots[c,:,j], gr_pop.pf_dots[c,:,k], 'b')\n",
    "        plt.plot(gr_pop.som[c,j], gr_pop.som[c,k], 'bo')\n",
    "\n",
    "    for c in go_cells:\n",
    "        plt.plot(go_pop.a_dend[c,:,j], go_pop.a_dend[c,:,k], 'r')\n",
    "        plt.plot(go_pop.b_dend[c,:,j], go_pop.b_dend[c,:,k], 'm')\n",
    "        plt.plot(go_pop.som[c,j], go_pop.som[c,k], 'ro')\n",
    "    \n",
    "    if True:\n",
    "        if i in [0,2]: plt.xlim([-100, 500])\n",
    "    plt.title (tit)"
   ]
  },
  {
   "cell_type": "code",
   "execution_count": null,
   "metadata": {
    "ExecuteTime": {
     "end_time": "2017-11-13T10:50:24.393140Z",
     "start_time": "2017-11-13T10:50:24.384933Z"
    }
   },
   "outputs": [],
   "source": [
    "qpt = Query_points(gg.som)\n",
    "\n",
    "qpt.npts"
   ]
  },
  {
   "cell_type": "code",
   "execution_count": null,
   "metadata": {
    "ExecuteTime": {
     "end_time": "2017-11-14T13:03:32.638698Z",
     "start_time": "2017-11-14T13:03:20.946889Z"
    }
   },
   "outputs": [],
   "source": [
    "from neuron import hoc, h\n",
    "\n",
    "%run BREPpy.py\n",
    "\n",
    "\n",
    "empty_hoc = dir(neuron.hoc.HocObject()).copy()\n",
    "config_fn = './input_files/Parameters.hoc'\n",
    "#load our own hoc object from the parameter file, get the disjunct list of parameters (probably useless...)\n",
    "neuron.h.xopen(config_fn)\n",
    "gp = Granule_pop(h)\n",
    "gp.load_somata('./example_simulation/coordinates_input/GCcoordinates.dat')\n",
    "\n",
    "\n",
    "plt.figure()\n",
    "ax = plt.gcf().gca(projection='3d')\n",
    "ax.plot(gp.som[:,0], gp.som[:,1], gp.som[:,2], *args)"
   ]
  },
  {
   "cell_type": "code",
   "execution_count": null,
   "metadata": {},
   "outputs": [],
   "source": []
  },
  {
   "cell_type": "code",
   "execution_count": null,
   "metadata": {
    "ExecuteTime": {
     "end_time": "2017-11-14T08:54:59.243050Z",
     "start_time": "2017-11-14T08:54:58.271204Z"
    }
   },
   "outputs": [],
   "source": [
    "from neuron import hoc, h\n",
    "\n",
    "%run BREPpy.py\n",
    "gp = Granule_pop('./example_simulation/coordinates_input/GCcoordinates.dat', h)\n",
    "gp.add_aa_endpoints_random()\n",
    "\n"
   ]
  },
  {
   "cell_type": "code",
   "execution_count": null,
   "metadata": {},
   "outputs": [],
   "source": [
    "    def read_in_config2 (self):\n",
    "       '''checks if a config file has been specified, and if so, updates the args.\n",
    "        If overwrite_config is set True, command line arguments that specify a parameter that also exists\n",
    "        in the config file will have priority.'''\n",
    "        if self.args.config_fn == '':\n",
    "            warnings.warn('Cannot find config file!')\n",
    "        else:  #read in config file using neurons h object\n",
    "            self.p_verb('Reading config file')\n",
    "            empty_hoc = dir(hoc.HocObject()).copy()\n",
    "            neuron.h.xopen(self.args.config_fn)\n",
    "            full_hoc = dir(neuron.h) \n",
    "        self.\n"
   ]
  },
  {
   "cell_type": "code",
   "execution_count": null,
   "metadata": {
    "ExecuteTime": {
     "end_time": "2017-11-13T14:11:02.527743Z",
     "start_time": "2017-11-13T14:11:02.514237Z"
    }
   },
   "outputs": [],
   "source": [
    "%run BREPpy.py"
   ]
  },
  {
   "cell_type": "markdown",
   "metadata": {
    "collapsed": true
   },
   "source": [
    "# Visualization of Golgi cells"
   ]
  },
  {
   "cell_type": "markdown",
   "metadata": {},
   "source": [
    "For both the apical and the basal dendrites, a parameter GoC_*d_nseg is defined by `int((GoC_ApicalDendL/(GoC_d_lambda*GoC_d_lambda_f)+0.9)/2)*2 + 1 ` (analogous for BasolateralDendL)\n",
    "Plugging in the values for the other parameters specified, I get that only if the length parameter GoC_**DendL is >= 488.6 (which seems an unlikely case), this parameter is not 1. (Values in the current config file are 166 for apical, 60 for basolateral)\n",
    "I would like to understand what this parameter does and what it is used for (something cable equationish?)\n"
   ]
  },
  {
   "cell_type": "markdown",
   "metadata": {},
   "source": [
    "# Visualization of Parallel fiber"
   ]
  },
  {
   "cell_type": "markdown",
   "metadata": {},
   "source": [
    "# Visualization of Somata"
   ]
  },
  {
   "cell_type": "markdown",
   "metadata": {},
   "source": [
    "# Single connection visualization"
   ]
  },
  {
   "cell_type": "markdown",
   "metadata": {},
   "source": [
    "# Connection density visualization"
   ]
  },
  {
   "cell_type": "code",
   "execution_count": null,
   "metadata": {
    "ExecuteTime": {
     "end_time": "2017-11-14T12:44:01.403282Z",
     "start_time": "2017-11-14T12:44:01.396534Z"
    }
   },
   "outputs": [],
   "source": [
    "l = 166\n",
    "fr = l/(0.1*1000*np.sqrt (3/(4*np.pi)))\n",
    "print (fr)\n",
    "nsegp = fr+0.9\n",
    "nseg = int(nsegp/2)*2+1\n",
    "print (nsegp)\n",
    "print (nseg)\n"
   ]
  },
  {
   "cell_type": "code",
   "execution_count": null,
   "metadata": {
    "ExecuteTime": {
     "end_time": "2017-11-14T12:39:04.709959Z",
     "start_time": "2017-11-14T12:39:04.361772Z"
    }
   },
   "outputs": [],
   "source": [
    "int (0.9)"
   ]
  },
  {
   "cell_type": "code",
   "execution_count": null,
   "metadata": {
    "ExecuteTime": {
     "end_time": "2017-11-14T12:50:53.363142Z",
     "start_time": "2017-11-14T12:50:53.186476Z"
    }
   },
   "outputs": [],
   "source": [
    "b = 'ga'\n",
    "print (type(b) == str)"
   ]
  },
  {
   "cell_type": "code",
   "execution_count": null,
   "metadata": {},
   "outputs": [],
   "source": [
    "import threading\n",
    "from queue import Queue\n",
    "import time\n",
    "\n",
    "\n"
   ]
  },
  {
   "cell_type": "code",
   "execution_count": null,
   "metadata": {
    "ExecuteTime": {
     "end_time": "2017-11-15T15:47:32.666023Z",
     "start_time": "2017-11-15T15:47:06.559718Z"
    }
   },
   "outputs": [],
   "source": [
    "\n"
   ]
  },
  {
   "cell_type": "code",
   "execution_count": null,
   "metadata": {},
   "outputs": [],
   "source": [
    "%connect_info #-> gives the number and the address of the kernel you use\n",
    "%qtconsole #-> opens the console with iqdb\n",
    "%debug #-> starts a iqdb pocess inline\n",
    "#-> here, if you print debug, you will jump to the last error. Leave with q\n",
    "\n",
    "# pdb.set_trace() -> "
   ]
  },
  {
   "cell_type": "markdown",
   "metadata": {},
   "source": [
    "# Reading stuff from the ipyparallel documentation:  \n",
    "http://ipyparallel.readthedocs.io/en/latest/process.html"
   ]
  },
  {
   "cell_type": "code",
   "execution_count": null,
   "metadata": {
    "ExecuteTime": {
     "start_time": "2017-11-17T05:36:25.961Z"
    }
   },
   "outputs": [
    {
     "name": "stdout",
     "output_type": "stream",
     "text": [
      "2017-11-17 14:36:27.676 [IPClusterStart] Removing pid file: /home/ines/.ipython/profile_default/pid/ipcluster.pid\n",
      "2017-11-17 14:36:27.686 [IPClusterStart] Starting ipcluster with [daemon=False]\n",
      "2017-11-17 14:36:27.687 [IPClusterStart] Creating pid file: /home/ines/.ipython/profile_default/pid/ipcluster.pid\n",
      "2017-11-17 14:36:27.687 [IPClusterStart] Starting Controller with LocalControllerLauncher\n",
      "2017-11-17 14:36:28.690 [IPClusterStart] Starting 4 Engines with LocalEngineSetLauncher\n",
      "2017-11-17 14:36:59.013 [IPClusterStart] Engines appear to have started successfully\n"
     ]
    }
   ],
   "source": [
    "! ipcluster start -n 4"
   ]
  },
  {
   "cell_type": "code",
   "execution_count": null,
   "metadata": {
    "ExecuteTime": {
     "end_time": "2017-11-16T10:48:12.549163Z",
     "start_time": "2017-11-16T10:48:10.635920Z"
    }
   },
   "outputs": [],
   "source": [
    "! ipython profile create --parallel --profile=myprofile"
   ]
  },
  {
   "cell_type": "markdown",
   "metadata": {},
   "source": [
    "in the directory\n",
    "~/.ipython/\n",
    "you can find the different directories which would now have to be populated\n"
   ]
  },
  {
   "cell_type": "code",
   "execution_count": null,
   "metadata": {
    "ExecuteTime": {
     "end_time": "2017-11-17T00:41:34.095841Z",
     "start_time": "2017-11-17T00:41:33.173483Z"
    }
   },
   "outputs": [],
   "source": [
    "import ipyparallel as ipp\n",
    "c = ipp.Client()\n",
    "print (c.ids)\n",
    "c[:].apply_sync(lambda: 'Hello, World')"
   ]
  },
  {
   "cell_type": "code",
   "execution_count": null,
   "metadata": {
    "ExecuteTime": {
     "end_time": "2017-11-16T11:10:55.239255Z",
     "start_time": "2017-11-16T11:10:55.174819Z"
    }
   },
   "outputs": [],
   "source": [
    "ipp.Client?"
   ]
  },
  {
   "cell_type": "code",
   "execution_count": null,
   "metadata": {
    "ExecuteTime": {
     "end_time": "2017-11-17T01:54:55.814171Z",
     "start_time": "2017-11-17T01:54:55.517166Z"
    }
   },
   "outputs": [],
   "source": [
    "from IPython import parallel\n",
    "rc = parallel.Client()\n",
    "\n",
    "rc.block = True # As I get it, this parameter says whether or not to wait until some job is done before return.\n",
    "                # If false, this will lead to possibly asynchronous return, but if True it might be slightly slower\n",
    "\n",
    "#simble process\n",
    "def mul(a,b):\n",
    "    return a*b\n",
    "\n",
    "\n",
    "def summary():\n",
    "    \"\"\"summarize some info about this process\"\"\"\n",
    "    import os\n",
    "    import socket\n",
    "    import sys\n",
    "    print('cwd:     ', os.getcwd())\n",
    "    print('Python:  ', sys.version)\n",
    "    print('hostname:', socket.gethostname())\n",
    "    print('pid:     ', os.getpid())\n",
    "    return {\n",
    "        'cwd': os.getcwd(),\n",
    "        'Python': sys.version,\n",
    "        'hostname': socket.gethostname(),\n",
    "        'pid': os.getpid(),\n",
    "    }"
   ]
  },
  {
   "cell_type": "code",
   "execution_count": null,
   "metadata": {
    "ExecuteTime": {
     "end_time": "2017-11-17T01:55:13.018491Z",
     "start_time": "2017-11-17T01:55:13.011614Z"
    }
   },
   "outputs": [],
   "source": [
    "#Local execution\n",
    "m = mul(5,6)\n",
    "_=summary()\n",
    "print (m)"
   ]
  },
  {
   "cell_type": "code",
   "execution_count": null,
   "metadata": {
    "ExecuteTime": {
     "end_time": "2017-11-17T01:54:58.946044Z",
     "start_time": "2017-11-17T01:54:58.783398Z"
    }
   },
   "outputs": [],
   "source": [
    "#Now we work remotely\n",
    "r = rc[0].apply(mul, 5, [6,7,8,9])\n",
    "rc[0].apply(summary)\n",
    "\n",
    "print (r)"
   ]
  },
  {
   "cell_type": "code",
   "execution_count": null,
   "metadata": {
    "ExecuteTime": {
     "end_time": "2017-11-17T01:53:44.680467Z",
     "start_time": "2017-11-17T01:53:44.396839Z"
    }
   },
   "outputs": [],
   "source": [
    "#And now in parallel.\n",
    "rc[:].apply(mul, 5, 6)\n",
    "rc[:].apply(summary)"
   ]
  },
  {
   "cell_type": "code",
   "execution_count": null,
   "metadata": {
    "ExecuteTime": {
     "end_time": "2017-11-17T01:08:22.828025Z",
     "start_time": "2017-11-17T01:08:21.670607Z"
    }
   },
   "outputs": [],
   "source": [
    "map(mul, range(1,10), range(2,11))\n",
    "view = rc.load_balanced_view()\n",
    "view.map(mul, range(1,10), range(2,11))"
   ]
  },
  {
   "cell_type": "markdown",
   "metadata": {},
   "source": [
    "## Applying this to our own project\n",
    "\n",
    "\n",
    "\n"
   ]
  },
  {
   "cell_type": "code",
   "execution_count": 2,
   "metadata": {
    "ExecuteTime": {
     "end_time": "2017-11-17T05:36:09.125853Z",
     "start_time": "2017-11-17T05:36:01.039738Z"
    }
   },
   "outputs": [],
   "source": [
    "%run BREPpy.py\n",
    "\n",
    "conn = Connector()\n",
    "conn.init_from_script(['--config_fn','./input_files/Parameters.hoc',\n",
    "                       '--goc_points_fn', './example_simulation/coordinates_input/GoCcoordinates.dat',\n",
    "                      '--gc_points_fn', './example_simulation/coordinates_input/GCcoordinates.dat'])\n",
    "\n",
    "\n",
    "p1 = './example_simulation/coordinates_input/'\n",
    "p2 = './example_simulation/coordinates_input/subsampled/'\n",
    "\n",
    "go_ori = p1+'GoCcoordinates.dat'\n",
    "gr_ori = p1+'GCcoordinates.dat'\n",
    "go_32 = p2+'GoCcoordinates_32.dat'\n",
    "gr_32 = p2+'GCcoordinates_32.dat'\n",
    "go_16 = p2+'GoCcoordinates_16.dat'\n",
    "gr_16 = p2+'GCcoordinates_16.dat'\n",
    "go_4 = p2+'GoCcoordinates_4.dat'\n",
    "gr_4 = p2+'GCcoordinates_4.dat' \n",
    "\n",
    "# read in parameter file\n",
    "empty_hoc = dir(neuron.hoc.HocObject()).copy()\n",
    "config_fn = './input_files/Parameters.hoc'\n",
    "neuron.h.xopen(config_fn)\n",
    "\n",
    "# find a single point in a KDTree\n",
    "def pts_in_tr (kdt, pt, c_rad):\n",
    "    import numpy as np\n",
    "    import warnings\n",
    "    if sum(np.array(pt.shape)>1)==1: pt = [pt]\n",
    "    res = []\n",
    "    for p in pt: \n",
    "        warnings.simplefilter('ignore')\n",
    "        ind, = kdt.query_radius(p, r = c_rad)\n",
    "        res.append(ind,)\n",
    "    return res\n",
    "\n",
    "def pt_in_tr (kdt, pt, c_rad):\n",
    "    import warnings\n",
    "    warnings.simplefilter('ignore')\n",
    "    res, = kdt.query_radius(pt, r = c_rad)\n",
    "    return res\n",
    "\n",
    "#pt_in_tr (kdt, pt, c_)\n",
    "\n",
    "\n",
    "gg = Golgi_pop(h)\n",
    "gg.load_somata(go_32)\n",
    "gg.add_dendrites()\n",
    "\n",
    "gp = Granule_pop(h)\n",
    "gp.load_somata(gr_32)\n",
    "gp.add_aa_endpoints_fixed()\n",
    "gp.add_pf_endpoints()\n",
    "\n",
    "cc = Connect_2D(gg.qpts, gp.qpts_aa, 30)\n",
    "kdt, q_pts, lax_c, lax_range, lin_in_tree = cc.get_tree_setup()\n"
   ]
  },
  {
   "cell_type": "code",
   "execution_count": null,
   "metadata": {},
   "outputs": [],
   "source": [
    "from IPython import parallel\n",
    "rc = parallel.Client()\n",
    "import time"
   ]
  },
  {
   "cell_type": "code",
   "execution_count": null,
   "metadata": {
    "ExecuteTime": {
     "end_time": "2017-11-17T03:38:22.426214Z",
     "start_time": "2017-11-17T03:38:06.032Z"
    }
   },
   "outputs": [],
   "source": [
    "a = pt_in_tr(kdt, q_pts[0], 15)\n",
    "#print (a)\n",
    "\n",
    "r = rc[0].apply(mul, 5, [6,7,8,9])\n",
    "rc[0].apply(summary)\n",
    "\n",
    "start = time.time()\n",
    "r = [rc[i%4].apply(pts_in_tr, kdt, q_pts[i,:], 15) for i in range(len(q_pts))]\n",
    "\n"
   ]
  },
  {
   "cell_type": "code",
   "execution_count": null,
   "metadata": {
    "ExecuteTime": {
     "start_time": "2017-11-17T05:37:17.230Z"
    }
   },
   "outputs": [],
   "source": [
    "n_jobs = 4\n",
    "\n",
    "idx = np.linspace(0, len(q_pts)-1, n_jobs+1).astype('int')\n",
    "import time\n",
    "start = time.time()\n",
    "rr = [rc[i].apply(pts_in_tr, kdt, q_pts[idx[i]:idx[i+1],:], 15) for i in range(n_jobs)]\n",
    "\n",
    "stop = time.time()-start\n",
    "print (stop)"
   ]
  },
  {
   "cell_type": "code",
   "execution_count": null,
   "metadata": {
    "ExecuteTime": {
     "end_time": "2017-11-17T02:00:21.422455Z",
     "start_time": "2017-11-17T02:00:19.582010Z"
    }
   },
   "outputs": [],
   "source": [
    "r = []\n",
    "#for sr in map(pt_in_tr, [kdt], [q_pts[i,:] for i in range(len(q_pts))], [15]):\n",
    "#    r.append(sr)\n",
    "#print (qpl)\n",
    "#print (qpl)\n",
    "\n",
    "\n",
    "def pt_in_tr (kdt, pt, c_rad):\n",
    "    #print (pt)\n",
    "    #print (c_rad)\n",
    "    warnings.simplefilter('ignore')\n",
    "    ind, = kdt.query_radius(pt, r = c_rad)\n",
    "    return ind\n",
    "\n",
    "r = [*map(lambda pt: pt_in_tr(kdt, pt, 15), q_pts)]"
   ]
  },
  {
   "cell_type": "code",
   "execution_count": null,
   "metadata": {
    "ExecuteTime": {
     "end_time": "2017-11-17T02:08:52.645092Z",
     "start_time": "2017-11-17T02:08:46.987391Z"
    }
   },
   "outputs": [],
   "source": [
    "dview = rc[:]\n",
    "\n",
    "#%timeit r2 = dview.map_sync(lambda pt: pt_in_tr(kdt, pt, 15), q_pts) "
   ]
  },
  {
   "cell_type": "code",
   "execution_count": null,
   "metadata": {},
   "outputs": [],
   "source": []
  },
  {
   "cell_type": "markdown",
   "metadata": {},
   "source": [
    "# Some insights from the following tutorial:\n",
    "https://github.com/minrk/IPython-parallel-tutorial/blob/42ae138529d652d7f18925c619dd305dde579a2f/Background.ipynb"
   ]
  },
  {
   "cell_type": "code",
   "execution_count": null,
   "metadata": {
    "ExecuteTime": {
     "end_time": "2017-11-16T11:12:10.143664Z",
     "start_time": "2017-11-16T11:12:10.120287Z"
    }
   },
   "outputs": [],
   "source": [
    "files = !ls\n",
    "#print (files)\n",
    "print (repr(files))\n",
    "# repr gives the canonical string representation of an object\n"
   ]
  },
  {
   "cell_type": "code",
   "execution_count": null,
   "metadata": {
    "ExecuteTime": {
     "end_time": "2017-11-16T11:17:17.533712Z",
     "start_time": "2017-11-16T11:17:17.527639Z"
    }
   },
   "outputs": [],
   "source": [
    "#some more magics\n",
    "%lsmagic #gives you the different magics!"
   ]
  },
  {
   "cell_type": "code",
   "execution_count": null,
   "metadata": {
    "ExecuteTime": {
     "end_time": "2017-11-16T11:17:51.402133Z",
     "start_time": "2017-11-16T11:17:51.214582Z"
    }
   },
   "outputs": [],
   "source": [
    "def inner(x):\n",
    "    return 1/x\n",
    "\n",
    "def outer(y):\n",
    "    return inner(1-y)\n",
    "\n",
    "z = 2\n",
    "outer(-z + 3)\n",
    "%debug"
   ]
  },
  {
   "cell_type": "code",
   "execution_count": null,
   "metadata": {
    "ExecuteTime": {
     "end_time": "2017-11-16T11:19:59.938596Z",
     "start_time": "2017-11-16T11:19:59.930077Z"
    }
   },
   "outputs": [],
   "source": [
    "%%latex\n",
    "#here comes cell magic (must really be in the first line, or it won't work)\n",
    "\\begin{eqnarray}\n",
    "\\nabla \\times \\vec{\\mathbf{B}} &\n",
    "    - \\frac{1}{c} \\frac{\\partial\\vec{\\mathbf{E}}}{\\partial t} \n",
    "    & = & \\frac{4 \\pi}{c} \\vec{\\mathbf{j}} \\\\\n",
    "\\nabla \\cdot \\vec{\\mathbf{E}} && = & 4 \\pi \\rho \\\\\n",
    "\\nabla \\times \\vec{\\mathbf{E}} &\n",
    "    + \\frac{1}{c} \\frac{\\partial\\vec{\\mathbf{B}}}{\\partial t}\n",
    "    & = & \\vec{\\mathbf{0}} \\\\\n",
    "\\nabla \\cdot \\vec{\\mathbf{B}} && = & 0 \n",
    "\\end{eqnarray}"
   ]
  },
  {
   "cell_type": "code",
   "execution_count": null,
   "metadata": {
    "ExecuteTime": {
     "end_time": "2017-11-16T11:19:45.294204Z",
     "start_time": "2017-11-16T11:19:42.141186Z"
    }
   },
   "outputs": [],
   "source": [
    "%matplotlib inline\n",
    "import numpy as np\n",
    "import matplotlib.pyplot as plt\n",
    "from scipy.special import jn\n",
    "x = np.linspace(0,10)\n",
    "for n in range(5):\n",
    "    plt.plot(x, jn(n,x))\n"
   ]
  },
  {
   "cell_type": "code",
   "execution_count": null,
   "metadata": {
    "ExecuteTime": {
     "end_time": "2017-11-16T11:21:39.151159Z",
     "start_time": "2017-11-16T11:21:38.752199Z"
    }
   },
   "outputs": [],
   "source": [
    "from IPython.display import display\n",
    "from IPython.html.widgets import interact\n",
    "import sympy\n",
    "sympy.init_printing(use_latex='mathjax')\n",
    "x = sympy.symbols('x')\n",
    "expr = x**10-1\n",
    "expr\n",
    "sympy.factor(expr)\n"
   ]
  },
  {
   "cell_type": "code",
   "execution_count": null,
   "metadata": {
    "ExecuteTime": {
     "end_time": "2017-11-16T11:21:53.891102Z",
     "start_time": "2017-11-16T11:21:53.842968Z"
    }
   },
   "outputs": [],
   "source": [
    "@interact\n",
    "def factorit(n=10):\n",
    "    display(sympy.factor(x**n-1))"
   ]
  },
  {
   "cell_type": "code",
   "execution_count": null,
   "metadata": {
    "ExecuteTime": {
     "end_time": "2017-11-16T11:25:27.112899Z",
     "start_time": "2017-11-16T11:25:26.833904Z"
    }
   },
   "outputs": [],
   "source": [
    "from IPython.display import YouTubeVideo\n",
    "YouTubeVideo('-Lw_smO-CjQ')"
   ]
  },
  {
   "cell_type": "code",
   "execution_count": null,
   "metadata": {
    "ExecuteTime": {
     "end_time": "2017-11-16T11:28:53.881602Z",
     "start_time": "2017-11-16T11:28:53.259175Z"
    }
   },
   "outputs": [],
   "source": [
    "name = \"pyB\"\n",
    "!head -n 100 {name}.ipynb | pygmentize -l json"
   ]
  },
  {
   "cell_type": "code",
   "execution_count": null,
   "metadata": {},
   "outputs": [],
   "source": []
  }
 ],
 "metadata": {
  "kernelspec": {
   "display_name": "Python 3",
   "language": "python",
   "name": "python3"
  },
  "language_info": {
   "codemirror_mode": {
    "name": "ipython",
    "version": 3
   },
   "file_extension": ".py",
   "mimetype": "text/x-python",
   "name": "python",
   "nbconvert_exporter": "python",
   "pygments_lexer": "ipython3",
   "version": "3.5.2"
  },
  "toc": {
   "nav_menu": {},
   "number_sections": true,
   "sideBar": true,
   "skip_h1_title": true,
   "toc_cell": false,
   "toc_position": {},
   "toc_section_display": "block",
   "toc_window_display": false
  },
  "varInspector": {
   "cols": {
    "lenName": 16,
    "lenType": 16,
    "lenVar": 40
   },
   "kernels_config": {
    "python": {
     "delete_cmd_postfix": "",
     "delete_cmd_prefix": "del ",
     "library": "var_list.py",
     "varRefreshCmd": "print(var_dic_list())"
    },
    "r": {
     "delete_cmd_postfix": ") ",
     "delete_cmd_prefix": "rm(",
     "library": "var_list.r",
     "varRefreshCmd": "cat(var_dic_list()) "
    }
   },
   "types_to_exclude": [
    "module",
    "function",
    "builtin_function_or_method",
    "instance",
    "_Feature"
   ],
   "window_display": false
  }
 },
 "nbformat": 4,
 "nbformat_minor": 1
}
