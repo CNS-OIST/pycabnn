{
 "cells": [
  {
   "cell_type": "code",
   "execution_count": null,
   "metadata": {
    "ExecuteTime": {
     "end_time": "2017-11-22T12:59:28.412575Z",
     "start_time": "2017-11-22T12:59:28.085665Z"
    }
   },
   "outputs": [],
   "source": [
    "import matplotlib.pyplot as plt\n",
    "%matplotlib inline"
   ]
  },
  {
   "cell_type": "code",
   "execution_count": null,
   "metadata": {
    "ExecuteTime": {
     "start_time": "2017-11-29T01:13:47.421Z"
    }
   },
   "outputs": [],
   "source": [
    "%run BREPpy.py\n",
    "\n",
    "np.random.seed(0)\n",
    "\n",
    "import pdb\n",
    "\n",
    "#conn = Connector()\n",
    "#conn.init_from_script(['--config_fn','./input_files/Parameters.hoc',\n",
    "#                       '--goc_points_fn', './example_simulation/coordinates_input/GoCcoordinates.dat',\n",
    "#                      '--gc_points_fn', './example_simulation/coordinates_input/GCcoordinates.dat'])\n",
    "\n",
    "\n",
    "p1 = './example_simulation/coordinates_input/'\n",
    "p2 = './example_simulation/coordinates_input/subsampled/'\n",
    "\n",
    "go_ori = p1+'GoCcoordinates.dat'\n",
    "gr_ori = p1+'GCcoordinates.dat'\n",
    "go_64 = p2+'GoCcoordinates_64.dat'\n",
    "gr_64 = p2+'GCcoordinates_64.dat'\n",
    "go_16 = p2+'GoCcoordinates_16.dat'\n",
    "gr_16 = p2+'GCcoordinates_16.dat'\n",
    "go_4 = p2+'GoCcoordinates_4.dat'\n",
    "gr_4 = p2+'GCcoordinates_4.dat' \n",
    "\n",
    "\n",
    "empty_hoc = dir(neuron.hoc.HocObject()).copy()\n",
    "config_fn = './input_files/Parameters.hoc'\n",
    "neuron.h.xopen(config_fn)\n",
    "\n",
    "#pdb.set_trace()\n",
    "\n",
    "\n",
    "# Set up the Golgi population, render dendrites\n",
    "gg = Golgi_pop(h)\n",
    "gg.load_somata(go_64)\n",
    "gg.add_dendrites()\n",
    "\n",
    "\n",
    "#Set up Granule population including aa and pf\n",
    "gp = Granule_pop(h)\n",
    "gp.load_somata(gr_64)\n",
    "gp.add_aa_endpoints_fixed()\n",
    "gp.add_pf_endpoints()\n",
    "\n",
    "#Build connector and obtain the connections\n",
    "cc = Connect_2D(gg.qpts, gp.qpts_aa, 15)\n",
    "res_aa, l_res_aa = cc.find_connections()\n",
    "cc.save_results (res_aa, l_res_aa)\n",
    "#cc.save_results(l1,r1, 'first_test/pts_in_lin_aa_')\n",
    "#cc.save_results(l2,r2, 'first_test/lin_in_pts_aa_', query_is_lin=True)\n",
    "\n",
    "cc = Connect_2D(gg.qpts, gp.qpts_pf, 15)\n",
    "res_pf, l_res_pf = cc.find_connections()\n",
    "\n",
    "\n",
    "#l21,r21 = cc.query_pts_in_lin()\n",
    "#l22,r22 = cc.query_lin_in_pts()\n",
    "#cc.save_results(l1,r1, 'first_test/pts_in_lin_pf')\n",
    "#cc.save_results(l2,r2, 'first_test/lin_in_pts_pf', query_is_lin=True)\n",
    "\n",
    "#gg.save_dend_coords ('first_test/')\n",
    "#gg.save_somata ('first_test/', 'GoCcoordinates.dat')\n",
    "\n",
    "#gp.save_gct_points('first_test/')\n",
    "#gp.save_somata('first_test/', 'GCcoordinates.dat')\n",
    "\n"
   ]
  },
  {
   "cell_type": "code",
   "execution_count": null,
   "metadata": {
    "ExecuteTime": {
     "start_time": "2017-11-29T01:13:56.303Z"
    }
   },
   "outputs": [],
   "source": [
    "res_pf3= res_pf.copy()\n",
    "res_aa3 = res_aa.copy()"
   ]
  },
  {
   "cell_type": "code",
   "execution_count": 6,
   "metadata": {
    "ExecuteTime": {
     "end_time": "2017-11-29T00:36:00.725337Z",
     "start_time": "2017-11-29T00:36:00.721182Z"
    }
   },
   "outputs": [
    {
     "name": "stdout",
     "output_type": "stream",
     "text": [
      "2220\n",
      "2220\n"
     ]
    }
   ],
   "source": [
    "print (len(res_pf1))\n",
    "print (len(res_pf2))"
   ]
  },
  {
   "cell_type": "code",
   "execution_count": 14,
   "metadata": {
    "ExecuteTime": {
     "end_time": "2017-11-29T00:42:42.816194Z",
     "start_time": "2017-11-29T00:42:42.782472Z"
    }
   },
   "outputs": [
    {
     "name": "stdout",
     "output_type": "stream",
     "text": [
      "True\n",
      "True\n"
     ]
    }
   ],
   "source": [
    "print (np.all(np.array([np.all(res_pf1[i] == res_pf2[i]) for i in range(len(res_pf1))])))\n",
    "print (np.all(np.array([np.all(res_aa1[i] == res_aa2[i]) for i in range(len(res_aa1))])))"
   ]
  },
  {
   "cell_type": "code",
   "execution_count": 12,
   "metadata": {
    "ExecuteTime": {
     "end_time": "2017-11-29T00:40:36.851541Z",
     "start_time": "2017-11-29T00:40:36.843834Z"
    }
   },
   "outputs": [
    {
     "name": "stdout",
     "output_type": "stream",
     "text": [
      "[ 4171   153  6352 10534   493 11871  6916  6065  8336 11597   577 10393\n",
      " 10780  8438  3651  1988  3983 11364  4771  1632  2258 12520  3082  3620\n",
      "  7892  2733  3559  6248  1432  1144  7359  6346  4557  1279  4496  8924\n",
      "  5680  1335  8565  2295  2427 12544  3880   639  4929 10347  7290  8551\n",
      "  4501 10983  7230  7642   619  6527  2080  6167  4428  3140  8338  1977\n",
      "  6897  7687 11127 10709 12750 11136  2134  6019  9272  1932    50  4221\n",
      "  6747  3852  7151  2274  6876 11765  4900  5236  7736 10101 11971 10677\n",
      "  5089  8988 12258  8108 10024  4059 12578  1497  3754 12673  7144  9609\n",
      "  7670  9476 13083  3089  2603  5748  9148 10355   405 12994 10064  8721\n",
      "  6424  8251  9286  3961  8144  1099 10597 10069  3435  2684  6990  6222\n",
      "  3796  6619  1835  4041  7022  1703  9430  9452  7661  4915  7784 11921\n",
      "  8614 10470  4234  5947 11110  9521 10610   198  5988  6487  4511   899\n",
      "  8786  5302  9142  3135 12960  3512 10813  4787  8713  9005  2040  1769\n",
      "   171  7260   858  3783 10523  9051  6086  6755 11516     4  2301  8875\n",
      " 11478  8991  9001 12841 11168  3695  8239   966  4802 11375   999  9207\n",
      "  2740  6254  3506 12607  4165  5788 12495  8626  6917  4068 10025  6319\n",
      " 12846  4330  4981  2778 13007  7402 12761  8401 10357  6333  8293 12288\n",
      " 11426  1672 11806  1530  9962    82  5787 10458 12107  8454  5097  6818\n",
      "   708  5477  7205  7219 10002  6554 10216  3183  2132  7518  7934 10669\n",
      " 12070   379  8139 11193  2005 11664 10290  8015 13062  9405  4297  8195\n",
      "  1776  4921 12554  9136 12659  5549   782 11454  4721  6389  9704  6098\n",
      "  5690  8372  9685  2463 10941 12565 10833  9537  6113  6499  4959 13074\n",
      "  1087  8442 11740  6614  3097  7413   673  8960   834  9618  1202  5540\n",
      "  7294 11725  3537  2762 11908  8383 11920 11833 11853  4643  5546 10093\n",
      "  8309  7864  1011  2018  1654  9010 12519   466  1178  3666  1834  7266\n",
      "  6506  2354 11387 11407 11471 12143  9587  2742   110  2993 10297  3843\n",
      "  7949  2481  6679  1294  9344 12603 11444  3629  5893  9003  3799  9744\n",
      "  2797  2865  1689  1269  4050   118  4397  5560  1865  7651  3453 10581\n",
      "  7810  3162  8896 12979  1634  7371  4175  9501  5280  8281 12249  8932\n",
      "  8128  5966  4874     9  5632  9085  4231  8371  3227  3136  7305  3214\n",
      "  3405  7534  7436  1215  1548  5195  3195  8533  3500 10940  5259  4261\n",
      " 10955  2195  9845  2834  6033  9291  8369 10687  4452  5395  2711 13015\n",
      "  8232  3594   250 10871  1664 11834  8502   743  4188  4348  7343  2053\n",
      "  6395  2419  3142  4632  8559 11927 11103  1033 10131 10753  2172  3954\n",
      " 12501  5533 10030 11798  1380  8686  7007  2582  8728  7475  2309   807\n",
      "  3643 12911  1781  3991 11667 12013  2776 11524  9651  9439  5675 11236\n",
      "  8007  7645  7424  6458 10660  4195   201 11917  9331  5325 11283  7476\n",
      "  4219 12824  9888  7857 12946 11763  3583  3342  8491  2313  5819 10806\n",
      " 12081  4793  8203  8016  8791  8114  3409  8405  5706  6326  3404  8026\n",
      "  1896  3006  8531  9102  6715 10899 12216  3235   228  9902   124  7282\n",
      " 11461]\n"
     ]
    }
   ],
   "source": [
    "print (res_pf1[15])"
   ]
  },
  {
   "cell_type": "code",
   "execution_count": null,
   "metadata": {
    "ExecuteTime": {
     "end_time": "2017-11-22T13:02:22.570637Z",
     "start_time": "2017-11-22T13:02:22.549171Z"
    }
   },
   "outputs": [],
   "source": [
    "print (sum([len(l11[i]) for i in range(len(l11))]))\n",
    "print (sum([len(l12[i]) for i in range(len(l12))]))\n",
    "print (sum([len(l13[i]) for i in range(len(l13))]))\n",
    "\n",
    "def ravel_list (l):\n",
    "    return [i for ar in l for i in ar]\n",
    "    \n",
    "\n",
    "\n",
    "\n"
   ]
  },
  {
   "cell_type": "code",
   "execution_count": 1,
   "metadata": {
    "ExecuteTime": {
     "end_time": "2017-11-28T08:30:13.538578Z",
     "start_time": "2017-11-28T08:30:06.704198Z"
    }
   },
   "outputs": [],
   "source": [
    "from BREPpy import *\n",
    "p1 = './example_simulation/coordinates_input/'\n",
    "p2 = './example_simulation/coordinates_input/subsampled/'\n",
    "\n",
    "go_ori = p1+'GoCcoordinates.dat'\n",
    "gr_ori = p1+'GCcoordinates.dat'\n",
    "go_64 = p2+'GoCcoordinates_64.dat'\n",
    "gr_64 = p2+'GCcoordinates_64.dat'\n",
    "go_16 = p2+'GoCcoordinates_16.dat'\n",
    "gr_16 = p2+'GCcoordinates_16.dat'\n",
    "go_4 = p2+'GoCcoordinates_4.dat'\n",
    "gr_4 = p2+'GCcoordinates_4.dat' \n",
    "\n",
    "\n",
    "empty_hoc = dir(neuron.hoc.HocObject()).copy()\n",
    "config_fn = './input_files/Parameters.hoc'\n",
    "neuron.h.xopen(config_fn)\n",
    "\n",
    "#pdb.set_trace()\n",
    "\n",
    "\n",
    "# Set up the Golgi population, render dendrites\n",
    "gg = Golgi_pop(h)\n",
    "gg.load_somata(go_64)\n",
    "gg.add_dendrites()\n",
    "\n",
    "\n",
    "#Set up Granule population including aa and pf\n",
    "gp = Granule_pop(h)\n",
    "gp.load_somata(gr_64)\n",
    "gp.add_aa_endpoints_fixed()\n",
    "gp.add_pf_endpoints()\n",
    "\n",
    "#Build connector and obtain the connections\n",
    "cc = Connect_2D(gg.qpts, gp.qpts_aa, 15)\n",
    "res_aa, l_res_aa = cc.find_connections()\n",
    "cc.save_results (res_aa, l_res_aa)\n",
    "#cc.save_results(l1,r1, 'first_test/pts_in_lin_aa_')\n",
    "#cc.save_results(l2,r2, 'first_test/lin_in_pts_aa_', query_is_lin=True)\n",
    "\n",
    "cc = Connect_2D(gg.qpts, gp.qpts_pf, 15)\n",
    "res_pf, l_res_pf = cc.find_connections()\n",
    "\n",
    "\n"
   ]
  },
  {
   "cell_type": "code",
   "execution_count": null,
   "metadata": {
    "ExecuteTime": {
     "end_time": "2017-11-22T13:04:52.813042Z",
     "start_time": "2017-11-22T13:04:52.649277Z"
    }
   },
   "outputs": [],
   "source": [
    "l1_r = ravel_list(r11)\n",
    "idx,nc= np.unique(r11_r, return_counts = True)"
   ]
  },
  {
   "cell_type": "code",
   "execution_count": null,
   "metadata": {
    "ExecuteTime": {
     "end_time": "2017-11-22T11:29:56.494162Z",
     "start_time": "2017-11-22T11:28:59.437323Z"
    }
   },
   "outputs": [],
   "source": [
    "cc.save_results(l2,r2, 'first_test/lin_in_pts_pf', query_is_lin=True)"
   ]
  },
  {
   "cell_type": "code",
   "execution_count": null,
   "metadata": {
    "ExecuteTime": {
     "end_time": "2017-11-22T12:10:57.499646Z",
     "start_time": "2017-11-22T12:10:57.486424Z"
    }
   },
   "outputs": [],
   "source": [
    "a = True\n",
    "print (type(a))\n",
    "print (type([]).__name__ == 'bool')"
   ]
  },
  {
   "cell_type": "code",
   "execution_count": null,
   "metadata": {
    "ExecuteTime": {
     "end_time": "2017-11-22T12:32:40.513015Z",
     "start_time": "2017-11-22T12:32:40.507726Z"
    }
   },
   "outputs": [],
   "source": [
    "print (type(gp).__name__)"
   ]
  },
  {
   "cell_type": "code",
   "execution_count": null,
   "metadata": {
    "ExecuteTime": {
     "end_time": "2017-11-22T03:58:44.199359Z",
     "start_time": "2017-11-22T03:58:44.095289Z"
    }
   },
   "outputs": [],
   "source": [
    "so = gg.qpts.seg\n",
    "\n",
    "print (sg.shape)\n",
    "\n",
    "dist_info = False\n",
    "\n",
    "titles = ['AA', 'PF']\n",
    "\n",
    "fc = so[:,0]\n",
    "sc = so[:,1]\n",
    "print ('First')\n",
    "for i in np.unique(fc):\n",
    "    idx = np.isclose(fc, i)\n",
    "    if dist_info: print (i, ': n =', sum(idx), ', corresponding mean distance:', np.mean(dis_f[n][idx]))\n",
    "    else: print (i, ': n =', sum(idx))\n",
    "print ('Second')\n",
    "for i in np.unique(sc):\n",
    "    idx = np.isclose(sc, i)\n",
    "    if dist_info: print (i, ': n =', sum(idx), ', corresponding mean distance:', np.mean(dis_f[n][idx]))\n",
    "    else: print (i, ': n =', sum(idx))"
   ]
  },
  {
   "cell_type": "code",
   "execution_count": null,
   "metadata": {
    "ExecuteTime": {
     "end_time": "2017-11-22T06:43:20.173830Z",
     "start_time": "2017-11-22T06:43:19.338013Z"
    }
   },
   "outputs": [],
   "source": [
    "%run BREPpy.py\n",
    "gg = Golgi_pop(h)\n",
    "gg.load_somata(go_64)\n",
    "gg.add_dendrites()\n",
    "gg.save_dend_coords('teeeeest_')"
   ]
  },
  {
   "cell_type": "code",
   "execution_count": null,
   "metadata": {
    "ExecuteTime": {
     "end_time": "2017-11-22T06:40:11.133674Z",
     "start_time": "2017-11-22T06:40:10.986793Z"
    }
   },
   "outputs": [],
   "source": [
    "%run BREPpy.py\n",
    "\n",
    "gp = Granule_pop(h)\n",
    "gp.load_somata(gr_64)\n",
    "gp.save_gct_points('teeeeest_')\n",
    "gp.add_aa_endpoints_fixed()\n",
    "gp.add_pf_endpoints()\n",
    "gp.save_gct_points('teeeeest_')\n"
   ]
  },
  {
   "cell_type": "code",
   "execution_count": null,
   "metadata": {
    "ExecuteTime": {
     "end_time": "2017-11-22T06:31:04.755634Z",
     "start_time": "2017-11-22T06:31:04.744174Z"
    }
   },
   "outputs": [],
   "source": [
    "ad = gg.a_dend\n",
    "print (ad.shape)\n",
    "nn = ad[1]\n",
    "#print (nn)\n",
    "print (ad.ravel().shape)"
   ]
  },
  {
   "cell_type": "code",
   "execution_count": null,
   "metadata": {
    "ExecuteTime": {
     "end_time": "2017-11-22T02:32:22.176024Z",
     "start_time": "2017-11-22T02:32:22.150605Z"
    }
   },
   "outputs": [],
   "source": [
    "seg2 = seg.copy()"
   ]
  },
  {
   "cell_type": "code",
   "execution_count": null,
   "metadata": {
    "ExecuteTime": {
     "end_time": "2017-11-22T04:56:03.468729Z",
     "start_time": "2017-11-22T04:56:03.445017Z"
    }
   },
   "outputs": [],
   "source": [
    "t = np.array([1,2])\n",
    "print (str(t))"
   ]
  },
  {
   "cell_type": "code",
   "execution_count": null,
   "metadata": {
    "ExecuteTime": {
     "end_time": "2017-11-22T06:35:26.927539Z",
     "start_time": "2017-11-22T06:35:26.899535Z"
    }
   },
   "outputs": [],
   "source": [
    "warnings.warn?\n"
   ]
  },
  {
   "cell_type": "code",
   "execution_count": null,
   "metadata": {
    "ExecuteTime": {
     "end_time": "2017-11-22T05:05:31.059979Z",
     "start_time": "2017-11-22T05:05:28.728272Z"
    }
   },
   "outputs": [],
   "source": [
    "r1, lr1 = cc.query_pts_in_lin()"
   ]
  },
  {
   "cell_type": "code",
   "execution_count": null,
   "metadata": {
    "ExecuteTime": {
     "end_time": "2017-11-22T05:06:55.381056Z",
     "start_time": "2017-11-22T05:05:46.583887Z"
    }
   },
   "outputs": [],
   "source": [
    "% run BREPpy.py\n",
    "cc = Connect_2D(gg.qpts, gp.qpts_aa, 15)\n",
    "cc.save_results(r1, lr1, 'test_AA')\n"
   ]
  },
  {
   "cell_type": "code",
   "execution_count": null,
   "metadata": {
    "ExecuteTime": {
     "end_time": "2017-11-22T06:13:50.654789Z",
     "start_time": "2017-11-22T06:13:50.639137Z"
    }
   },
   "outputs": [],
   "source": [
    "print (gp.aa_dots.shape)\n",
    "\n",
    "print (gp.aa_dots[:2, :, :])\n",
    "print (gp.aa_dots[:2, -1, :])\n",
    "\n",
    " "
   ]
  },
  {
   "cell_type": "code",
   "execution_count": null,
   "metadata": {
    "ExecuteTime": {
     "end_time": "2017-11-20T04:09:22.007979Z",
     "start_time": "2017-11-20T04:09:21.615481Z"
    }
   },
   "outputs": [],
   "source": [
    "#%run BREPpy.py\n",
    "plt.figure(figsize = (12,8))\n",
    "\n",
    "gg.plot_somata(False, 'ro')\n",
    "gp.plot_somata(False, 'k.', markersize = 0.5)\n",
    "plt.title ('Somata in the granule layer (Granule: black, Golgi: red)');"
   ]
  },
  {
   "cell_type": "code",
   "execution_count": null,
   "metadata": {
    "ExecuteTime": {
     "end_time": "2017-11-20T05:21:41.304761Z",
     "start_time": "2017-11-20T05:21:24.087725Z"
    }
   },
   "outputs": [],
   "source": [
    "## plot some full cells\n",
    "\n",
    "#Different populations\n",
    "gr_pop = gp\n",
    "go_pop = gg\n",
    "\n",
    "m = 1254\n",
    "#print (gg.qpts.idx[m])\n",
    "\n",
    "#Get all Granule cells that are attached to one Golgi cell point (r1 comes from query_pts_in_lin)\n",
    "go_cells = gg.qpts.idx[m]   #indices for the Golgi population\n",
    "gr_cells =r1[m] #indices for the Granule cell population\n",
    "q_pt =gg.qpts.coo[m]     # special (query?) points\n",
    "\n",
    "\n",
    "# 3D plot\n",
    "plt.figure()\n",
    "ax = plt.gcf().gca(projection='3d')\n",
    "def plot3d (ax, dat, *args, **kwargs):\n",
    "    if dat == []: return\n",
    "    if len(dat.shape) == 1: #if single dot\n",
    "        dat = np.expand_dims(dat, axis = 0)\n",
    "    ax.plot(dat[:,0], dat[:,1], dat[:,2], *args, **kwargs)\n",
    "\n",
    "for c in gr_cells:\n",
    "    plot3d(ax, gr_pop.aa_dots[c], 'c')\n",
    "    plot3d(ax, gr_pop.pf_dots[c], 'b')\n",
    "    plot3d(ax, gr_pop.som[c], 'bo')\n",
    "\n",
    "for c in go_cells:\n",
    "    plot3d(ax, go_pop.a_dend[c], 'rx')\n",
    "    plot3d(ax, go_pop.b_dend[c], 'mx')\n",
    "    plot3d(ax, np.expand_dims(go_pop.som[c], axis = 0), 'ro')\n",
    "\n",
    "    plot3d(ax, q_pt, 'gx', markersize = 2)\n",
    "\n",
    "    plt.title('3D space')\n",
    "    \n",
    "#2D projections\n",
    "plt.figure(figsize=(15,5))\n",
    "for i, [j, k, tit] in enumerate([[0,1, 'x-y plane'], [1,2, 'y-z plane'], [0,2, 'x-z plane']]):\n",
    "    \n",
    "    plt.subplot(1,3,i+1)\n",
    "    \n",
    "    for c in gr_cells:\n",
    "        plt.plot(gr_pop.aa_dots[c,:,j], gr_pop.aa_dots[c,:,k], 'c')\n",
    "        plt.plot(gr_pop.pf_dots[c,:,j], gr_pop.pf_dots[c,:,k], 'b')\n",
    "        plt.plot(gr_pop.som[c,j], gr_pop.som[c,k], 'bo')\n",
    "\n",
    "    for c in go_cells:\n",
    "        plt.plot(go_pop.a_dend[c,:,j], go_pop.a_dend[c,:,k], 'rx')\n",
    "        plt.plot(go_pop.b_dend[c,:,j], go_pop.b_dend[c,:,k], 'mx')\n",
    "        plt.plot(go_pop.som[c,j], go_pop.som[c,k], 'ro')\n",
    "        \n",
    "    if len(q_pt) > 0: plt.plot(q_pt[j], q_pt[k], 'gx', markersize = 20)\n",
    "    \n",
    "    \n",
    "    if True:\n",
    "        if i in [0,2]: plt.xlim([-100, 500])\n",
    "    plt.title (tit)\n",
    "    \n",
    "    \n",
    "    plt.axis('equal')"
   ]
  },
  {
   "cell_type": "code",
   "execution_count": null,
   "metadata": {
    "ExecuteTime": {
     "end_time": "2017-11-16T05:01:42.648464Z",
     "start_time": "2017-11-16T05:01:41.449399Z"
    }
   },
   "outputs": [],
   "source": [
    "## plot some full cells\n",
    "import matplotlib.pyplot as plt\n",
    "%matplotlib inline\n",
    "\n",
    "gr_pop = gp\n",
    "go_pop = gg\n",
    "\n",
    "a = np.random.randint(0, len(r2[0]), 5)\n",
    "#ex = r2[a]\n",
    "\n",
    "\n",
    "gr_cells = r2[0] #np.random.randint(0, len(gr_pop.som), 10)\n",
    "go_cells = [0] #np.random.randint(0, len(go_pop.som), 2)\n",
    "\n",
    "\n",
    "# 3D plot\n",
    "plt.figure()\n",
    "ax = plt.gcf().gca(projection='3d')\n",
    "def plot3d (ax, dat, *args, **kwargs):\n",
    "    if len(dat.shape) == 1: #if single dot\n",
    "        dat = np.expand_dims(dat, axis = 0)\n",
    "    ax.plot(dat[:,0], dat[:,1], dat[:,2], *args, **kwargs)\n",
    "\n",
    "for c in gr_cells:\n",
    "    plot3d(ax, gr_pop.aa_dots[c], 'c')\n",
    "    plot3d(ax, gr_pop.pf_dots[c], 'b')\n",
    "    plot3d(ax, gr_pop.som[c], 'bo')\n",
    "\n",
    "for c in go_cells:\n",
    "    plot3d(ax, go_pop.a_dend[c], 'r')\n",
    "    plot3d(ax, go_pop.b_dend[c], 'm')\n",
    "    plot3d(ax, np.expand_dims(go_pop.som[c], axis = 0), 'ro')\n",
    "    \n",
    "    \n",
    "#2D projections\n",
    "plt.figure(figsize=(15,5))\n",
    "for i, [j, k, tit] in enumerate([[0,1, 'x-y plane'], [1,2, 'y-z plane'], [0,2, 'x-z plane']]):\n",
    "    \n",
    "    plt.subplot(1,3,i+1)\n",
    "    \n",
    "    for c in gr_cells:\n",
    "        plt.plot(gr_pop.aa_dots[c,:,j], gr_pop.aa_dots[c,:,k], 'c')\n",
    "        plt.plot(gr_pop.pf_dots[c,:,j], gr_pop.pf_dots[c,:,k], 'b')\n",
    "        plt.plot(gr_pop.som[c,j], gr_pop.som[c,k], 'bo')\n",
    "\n",
    "    for c in go_cells:\n",
    "        plt.plot(go_pop.a_dend[c,:,j], go_pop.a_dend[c,:,k], 'r')\n",
    "        plt.plot(go_pop.b_dend[c,:,j], go_pop.b_dend[c,:,k], 'm')\n",
    "        plt.plot(go_pop.som[c,j], go_pop.som[c,k], 'ro')\n",
    "    \n",
    "    if True:\n",
    "        if i in [0,2]: plt.xlim([-100, 500])\n",
    "    plt.title (tit)"
   ]
  },
  {
   "cell_type": "code",
   "execution_count": null,
   "metadata": {},
   "outputs": [],
   "source": []
  },
  {
   "cell_type": "code",
   "execution_count": null,
   "metadata": {
    "ExecuteTime": {
     "end_time": "2017-11-13T10:50:24.393140Z",
     "start_time": "2017-11-13T10:50:24.384933Z"
    }
   },
   "outputs": [],
   "source": [
    "qpt = Query_points(gg.som)\n",
    "\n",
    "qpt.npts"
   ]
  },
  {
   "cell_type": "code",
   "execution_count": null,
   "metadata": {
    "ExecuteTime": {
     "end_time": "2017-11-14T13:03:32.638698Z",
     "start_time": "2017-11-14T13:03:20.946889Z"
    }
   },
   "outputs": [],
   "source": [
    "from neuron import hoc, h\n",
    "\n",
    "%run BREPpy.py\n",
    "\n",
    "\n",
    "empty_hoc = dir(neuron.hoc.HocObject()).copy()\n",
    "config_fn = './input_files/Parameters.hoc'\n",
    "#load our own hoc object from the parameter file, get the disjunct list of parameters (probably useless...)\n",
    "neuron.h.xopen(config_fn)\n",
    "gp = Granule_pop(h)\n",
    "gp.load_somata('./example_simulation/coordinates_input/GCcoordinates.dat')\n",
    "\n",
    "\n",
    "plt.figure()\n",
    "ax = plt.gcf().gca(projection='3d')\n",
    "ax.plot(gp.som[:,0], gp.som[:,1], gp.som[:,2], *args)"
   ]
  },
  {
   "cell_type": "code",
   "execution_count": null,
   "metadata": {
    "ExecuteTime": {
     "end_time": "2017-11-14T08:54:59.243050Z",
     "start_time": "2017-11-14T08:54:58.271204Z"
    }
   },
   "outputs": [],
   "source": [
    "from neuron import hoc, h\n",
    "\n",
    "%run BREPpy.py\n",
    "gp = Granule_pop('./example_simulation/coordinates_input/GCcoordinates.dat', h)\n",
    "gp.add_aa_endpoints_random()\n",
    "\n"
   ]
  },
  {
   "cell_type": "code",
   "execution_count": null,
   "metadata": {},
   "outputs": [],
   "source": [
    "    def read_in_config2 (self):\n",
    "       '''checks if a config file has been specified, and if so, updates the args.\n",
    "        If overwrite_config is set True, command line arguments that specify a parameter that also exists\n",
    "        in the config file will have priority.'''\n",
    "        if self.args.config_fn == '':\n",
    "            warnings.warn('Cannot find config file!')\n",
    "        else:  #read in config file using neurons h object\n",
    "            self.p_verb('Reading config file')\n",
    "            empty_hoc = dir(hoc.HocObject()).copy()\n",
    "            neuron.h.xopen(self.args.config_fn)\n",
    "            full_hoc = dir(neuron.h) \n",
    "        self.\n"
   ]
  },
  {
   "cell_type": "code",
   "execution_count": null,
   "metadata": {
    "ExecuteTime": {
     "end_time": "2017-11-13T14:11:02.527743Z",
     "start_time": "2017-11-13T14:11:02.514237Z"
    }
   },
   "outputs": [],
   "source": [
    "%run BREPpy.py"
   ]
  },
  {
   "cell_type": "markdown",
   "metadata": {
    "collapsed": true
   },
   "source": [
    "# Visualization of Golgi cells"
   ]
  },
  {
   "cell_type": "markdown",
   "metadata": {},
   "source": [
    "For both the apical and the basal dendrites, a parameter GoC_*d_nseg is defined by `int((GoC_ApicalDendL/(GoC_d_lambda*GoC_d_lambda_f)+0.9)/2)*2 + 1 ` (analogous for BasolateralDendL)\n",
    "Plugging in the values for the other parameters specified, I get that only if the length parameter GoC_**DendL is >= 488.6 (which seems an unlikely case), this parameter is not 1. (Values in the current config file are 166 for apical, 60 for basolateral)\n",
    "I would like to understand what this parameter does and what it is used for (something cable equationish?)\n"
   ]
  },
  {
   "cell_type": "markdown",
   "metadata": {},
   "source": [
    "# Visualization of Parallel fiber"
   ]
  },
  {
   "cell_type": "markdown",
   "metadata": {},
   "source": [
    "# Visualization of Somata"
   ]
  },
  {
   "cell_type": "markdown",
   "metadata": {},
   "source": [
    "# Single connection visualization"
   ]
  },
  {
   "cell_type": "markdown",
   "metadata": {},
   "source": [
    "# Connection density visualization"
   ]
  },
  {
   "cell_type": "code",
   "execution_count": null,
   "metadata": {
    "ExecuteTime": {
     "end_time": "2017-11-14T12:44:01.403282Z",
     "start_time": "2017-11-14T12:44:01.396534Z"
    }
   },
   "outputs": [],
   "source": [
    "l = 166\n",
    "fr = l/(0.1*1000*np.sqrt (3/(4*np.pi)))\n",
    "print (fr)\n",
    "nsegp = fr+0.9\n",
    "nseg = int(nsegp/2)*2+1\n",
    "print (nsegp)\n",
    "print (nseg)\n"
   ]
  },
  {
   "cell_type": "code",
   "execution_count": null,
   "metadata": {
    "ExecuteTime": {
     "end_time": "2017-11-14T12:39:04.709959Z",
     "start_time": "2017-11-14T12:39:04.361772Z"
    }
   },
   "outputs": [],
   "source": [
    "int (0.9)"
   ]
  },
  {
   "cell_type": "code",
   "execution_count": null,
   "metadata": {
    "ExecuteTime": {
     "end_time": "2017-11-14T12:50:53.363142Z",
     "start_time": "2017-11-14T12:50:53.186476Z"
    }
   },
   "outputs": [],
   "source": [
    "b = 'ga'\n",
    "print (type(b) == str)"
   ]
  },
  {
   "cell_type": "code",
   "execution_count": null,
   "metadata": {},
   "outputs": [],
   "source": [
    "import threading\n",
    "from queue import Queue\n",
    "import time\n",
    "\n",
    "\n"
   ]
  },
  {
   "cell_type": "code",
   "execution_count": null,
   "metadata": {
    "ExecuteTime": {
     "end_time": "2017-11-15T15:47:32.666023Z",
     "start_time": "2017-11-15T15:47:06.559718Z"
    }
   },
   "outputs": [],
   "source": [
    "\n",
    "q"
   ]
  },
  {
   "cell_type": "code",
   "execution_count": null,
   "metadata": {},
   "outputs": [],
   "source": [
    "%connect_info #-> gives the number and the address of the kernel you use\n",
    "%qtconsole #-> opens the console with iqdb\n",
    "%debug #-> starts a iqdb pocess inline\n",
    "#-> here, if you print debug, you will jump to the last error. Leave with q\n",
    "\n",
    "# pdb.set_trace() -> "
   ]
  },
  {
   "cell_type": "code",
   "execution_count": null,
   "metadata": {},
   "outputs": [],
   "source": [
    "# about the nseg parameter in the Parameters.hoc file.\n",
    "l = 166\n",
    "fr = l/(0.1*1000*np.sqrt (3/(4*np.pi)))\n",
    "print (fr)\n",
    "nsegp = fr+0.9\n",
    "nseg = int(nsegp/2)*2+1\n",
    "print (nsegp)\n",
    "print (nseg)\n"
   ]
  }
 ],
 "metadata": {
  "kernelspec": {
   "display_name": "Python 3",
   "language": "python",
   "name": "python3"
  },
  "language_info": {
   "codemirror_mode": {
    "name": "ipython",
    "version": 3
   },
   "file_extension": ".py",
   "mimetype": "text/x-python",
   "name": "python",
   "nbconvert_exporter": "python",
   "pygments_lexer": "ipython3",
   "version": "3.5.2"
  },
  "toc": {
   "nav_menu": {},
   "number_sections": true,
   "sideBar": true,
   "skip_h1_title": true,
   "toc_cell": false,
   "toc_position": {},
   "toc_section_display": "block",
   "toc_window_display": false
  },
  "varInspector": {
   "cols": {
    "lenName": 16,
    "lenType": 16,
    "lenVar": 40
   },
   "kernels_config": {
    "python": {
     "delete_cmd_postfix": "",
     "delete_cmd_prefix": "del ",
     "library": "var_list.py",
     "varRefreshCmd": "print(var_dic_list())"
    },
    "r": {
     "delete_cmd_postfix": ") ",
     "delete_cmd_prefix": "rm(",
     "library": "var_list.r",
     "varRefreshCmd": "cat(var_dic_list()) "
    }
   },
   "types_to_exclude": [
    "module",
    "function",
    "builtin_function_or_method",
    "instance",
    "_Feature"
   ],
   "window_display": false
  }
 },
 "nbformat": 4,
 "nbformat_minor": 1
}
