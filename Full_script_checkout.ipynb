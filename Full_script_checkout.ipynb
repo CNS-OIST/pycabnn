{
 "cells": [
  {
   "cell_type": "code",
   "execution_count": 1,
   "metadata": {
    "ExecuteTime": {
     "end_time": "2017-11-22T12:59:28.412575Z",
     "start_time": "2017-11-22T12:59:28.085665Z"
    }
   },
   "outputs": [],
   "source": [
    "import matplotlib.pyplot as plt\n",
    "%matplotlib inline"
   ]
  },
  {
   "cell_type": "code",
   "execution_count": 2,
   "metadata": {
    "ExecuteTime": {
     "end_time": "2017-11-22T12:59:49.595256Z",
     "start_time": "2017-11-22T12:59:46.608907Z"
    }
   },
   "outputs": [],
   "source": [
    "%run BREPpy.py\n",
    "\n",
    "import pdb\n",
    "\n",
    "conn = Connector()\n",
    "conn.init_from_script(['--config_fn','./input_files/Parameters.hoc',\n",
    "                       '--goc_points_fn', './example_simulation/coordinates_input/GoCcoordinates.dat',\n",
    "                      '--gc_points_fn', './example_simulation/coordinates_input/GCcoordinates.dat'])\n",
    "\n",
    "\n",
    "p1 = './example_simulation/coordinates_input/'\n",
    "p2 = './example_simulation/coordinates_input/subsampled/'\n",
    "\n",
    "go_ori = p1+'GoCcoordinates.dat'\n",
    "gr_ori = p1+'GCcoordinates.dat'\n",
    "go_64 = p2+'GoCcoordinates_64.dat'\n",
    "gr_64 = p2+'GCcoordinates_64.dat'\n",
    "go_16 = p2+'GoCcoordinates_16.dat'\n",
    "gr_16 = p2+'GCcoordinates_16.dat'\n",
    "go_4 = p2+'GoCcoordinates_4.dat'\n",
    "gr_4 = p2+'GCcoordinates_4.dat' \n",
    "\n",
    "\n",
    "empty_hoc = dir(neuron.hoc.HocObject()).copy()\n",
    "config_fn = './input_files/Parameters.hoc'\n",
    "neuron.h.xopen(config_fn)\n",
    "\n",
    "#pdb.set_trace()\n",
    "\n",
    "\n",
    "# Set up the Golgi population, render dendrites\n",
    "gg = Golgi_pop(h)\n",
    "gg.load_somata(go_64)\n",
    "gg.add_dendrites()\n",
    "\n",
    "\n",
    "#Set up Granule population including aa and pf\n",
    "gp = Granule_pop(h)\n",
    "gp.load_somata(gr_64)\n",
    "gp.add_aa_endpoints_fixed()\n",
    "gp.add_pf_endpoints()\n",
    "\n",
    "#Build connector and obtain the connections\n",
    "cc = Connect_2D(gg.qpts, gp.qpts_aa, 15)\n",
    "l11,r11 = cc.query_pts_in_lin()\n",
    "l12,r12 = cc.query_lin_in_pts()\n",
    "l13,r13 = cc.find_connections()\n",
    "#cc.save_results(l1,r1, 'first_test/pts_in_lin_aa_')\n",
    "#cc.save_results(l2,r2, 'first_test/lin_in_pts_aa_', query_is_lin=True)\n",
    "\n",
    "#cc = Connect_2D(gg.qpts, gp.qpts_pf, 15)\n",
    "#l21,r21 = cc.query_pts_in_lin()\n",
    "#l22,r22 = cc.query_lin_in_pts()\n",
    "#cc.save_results(l1,r1, 'first_test/pts_in_lin_pf')\n",
    "#cc.save_results(l2,r2, 'first_test/lin_in_pts_pf', query_is_lin=True)\n",
    "\n",
    "#gg.save_dend_coords ('first_test/')\n",
    "#gg.save_somata ('first_test/', 'GoCcoordinates.dat')\n",
    "\n",
    "#gp.save_gct_points('first_test/')\n",
    "#gp.save_somata('first_test/', 'GCcoordinates.dat')\n",
    "\n"
   ]
  },
  {
   "cell_type": "code",
   "execution_count": 3,
   "metadata": {
    "ExecuteTime": {
     "end_time": "2017-11-22T13:02:22.570637Z",
     "start_time": "2017-11-22T13:02:22.549171Z"
    }
   },
   "outputs": [
    {
     "name": "stdout",
     "output_type": "stream",
     "text": [
      "379552\n",
      "379552\n",
      "379552\n"
     ]
    }
   ],
   "source": [
    "print (sum([len(l11[i]) for i in range(len(l11))]))\n",
    "print (sum([len(l12[i]) for i in range(len(l12))]))\n",
    "print (sum([len(l13[i]) for i in range(len(l13))]))\n",
    "\n",
    "def ravel_list (l):\n",
    "    return [i for ar in l for i in ar]\n",
    "    \n",
    "\n",
    "\n",
    "\n"
   ]
  },
  {
   "cell_type": "code",
   "execution_count": 8,
   "metadata": {
    "ExecuteTime": {
     "end_time": "2017-11-22T13:11:09.896006Z",
     "start_time": "2017-11-22T13:11:09.886052Z"
    }
   },
   "outputs": [
    {
     "name": "stdout",
     "output_type": "stream",
     "text": [
      "[array([10785,  3622, 11746, 12318,  8799,  7633,  3070, 11493,  1867,\n",
      "        5633, 10702,  6287,   812,  8072,  4947,  3822, 10943,  6322,\n",
      "       12797,  3548,  9528,  5928,  4296,  6709,  4419,  2174,  4956,\n",
      "        9950,  5826,  2848,  4620,  4949,  4151,  4664,  8880, 11373,\n",
      "        5653,  1618,  1096,  2367,  5901, 12035,  6925,  1728,  8682,\n",
      "          34,  6538,  4106,  2958,  1681, 11205,  6962, 12874,  6672,\n",
      "       12591, 13022,  5143, 13096,  3300,  7941,    62, 11557,  2907,\n",
      "        1031, 11691,  5638, 10585,  9689,  7521,  4867,   910,  6345,\n",
      "        4332, 12043,  9661,  4561,  5460,  1674,  4536,  4342, 11791,\n",
      "         815, 10690,  6547,  4960, 10033,  9311,  4875, 11912, 12434,\n",
      "        2895,  6130, 11813,  4625, 11904,  5752,  3373,  4801,  9635,\n",
      "       11156,  3664,  2818,  7127,  4101, 12002, 12528, 11354, 11805,\n",
      "       10438,  9692,  8708,  3927,   919,  9222,  3016,  9404,  9410,\n",
      "        9674, 10255, 11892, 12550,  8361,   886,  2658,  3627, 11709,\n",
      "       11170,  3160,   903,  2694,  2519, 11818,  5508,  5506,  1115,\n",
      "       11248,  6089, 12155,  7701,  2194,   993,  4156,  9921,  1316,\n",
      "       12152,  8101,  8826,  4245,  9442,  6157,  9365,  1584,  1520,\n",
      "        5156,  9217]), array([ 8072,  4947,  3822, 10943,  6322, 12797,  3548,  9528,  5928,\n",
      "        4296,  6709,  2174,  4956,  9950,  5826,  4949,  4151,  4664,\n",
      "        8880, 11373,  5653,  1618,  1096,  2367,  5901, 12035,   907,\n",
      "        6925,  1728,  8682,    34,  6538,  4106,  6962, 12874,  6672,\n",
      "       12591,  5143, 13096,    62, 11557,  7894,  1031, 11691,  5638,\n",
      "        7521,  4867,   910,  6345,  4332, 12043,  9661,  4561,  5460,\n",
      "        1674,  4536, 12452, 12868,  4342, 11791,   815, 10690,  6547,\n",
      "        4960, 10033,  9311,  4875, 11912, 12434,  2895,  6130,  5139,\n",
      "       11813,  4625, 11904,  1456,  5752,  3373,  1317,  4801,  9635,\n",
      "       11156,  3664,  2818,  7127,  4101,  3776, 12002, 12528, 11354,\n",
      "       11805, 10438,  9692,  8708,  3927,   919,  9282,  1082,  9222,\n",
      "        3016,  9404, 11495,  7842,  9410, 10408,  9674,  4294,  1923,\n",
      "        8164,  4690,  9479,  7019,  7966,  5740, 10255, 11892, 12550,\n",
      "        2304,  8361,   886, 10663,  2186,  2658,    40,  3627, 11709,\n",
      "        5436, 12774,  8844, 11533,  7973,  4170, 11170,  3160,   903,\n",
      "        5047,  2694,  2519, 11818,  5508,  5506,  1115, 11248,  6089,\n",
      "        2214, 12155,  7701,  2194,   993,  4156,  9921,  1316, 10761,\n",
      "       12152,  8101,  8826,  4245,  9442, 11749, 12106,  6157,  3310,\n",
      "        2936,  9365,  1584,  1520, 12524, 10309,  5211, 10851,  2533,\n",
      "        5156,  9217,  1983,  8323, 11659, 11274,  4899,  5161,  8067,\n",
      "        1516, 11176,  8318])]\n",
      "[array([ 706,  707, 1381, 1382, 1383,  382,  383,  708,  384,  838, 1384,\n",
      "       1017,  206,  385,  709, 1385,  839, 1186, 1386,  205,  386, 1018,\n",
      "        710,  840,  387, 1387, 1019,  711,  202,  203, 1020, 1188,  204,\n",
      "        529,  530,  841,  531,  842, 1106,  712,  532, 1105,  388, 1083,\n",
      "       1187, 1437, 1015, 1016,  208,  207, 1438,  528]), array([ 650,  675, 1812, 1824, 1825,    2, 1699, 1700,    3, 1701,  651,\n",
      "       1813,  676,  677,    4,    5, 1702,  652, 1814, 1815,  678, 1816,\n",
      "       1703,  653,    6,    7, 1766,  575, 1764,  550, 1776, 1765,  576])]\n",
      "[array([10785,  3622, 11746, 12318,  8799,  7633,  3070, 11493,  1867,\n",
      "        5633, 10702,  6287,   812,  8072,  4947,  3822, 10943,  6322,\n",
      "       12797,  3548,  9528,  5928,  4296,  6709,  4419,  2174,  4956,\n",
      "        9950,  5826,  2848,  4620,  4949,  4151,  4664,  8880, 11373,\n",
      "        5653,  1618,  1096,  2367,  5901, 12035,  6925,  1728,  8682,\n",
      "          34,  6538,  4106,  2958,  1681, 11205,  6962, 12874,  6672,\n",
      "       12591, 13022,  5143, 13096,  3300,  7941,    62, 11557,  2907,\n",
      "        1031, 11691,  5638, 10585,  9689,  7521,  4867,   910,  6345,\n",
      "        4332, 12043,  9661,  4561,  5460,  1674,  4536,  4342, 11791,\n",
      "         815, 10690,  6547,  4960, 10033,  9311,  4875, 11912, 12434,\n",
      "        2895,  6130, 11813,  4625, 11904,  5752,  3373,  4801,  9635,\n",
      "       11156,  3664,  2818,  7127,  4101, 12002, 12528, 11354, 11805,\n",
      "       10438,  9692,  8708,  3927,   919,  9222,  3016,  9404,  9410,\n",
      "        9674, 10255, 11892, 12550,  8361,   886,  2658,  3627, 11709,\n",
      "       11170,  3160,   903,  2694,  2519, 11818,  5508,  5506,  1115,\n",
      "       11248,  6089, 12155,  7701,  2194,   993,  4156,  9921,  1316,\n",
      "       12152,  8101,  8826,  4245,  9442,  6157,  9365,  1584,  1520,\n",
      "        5156,  9217]), array([ 8072,  4947,  3822, 10943,  6322, 12797,  3548,  9528,  5928,\n",
      "        4296,  6709,  2174,  4956,  9950,  5826,  4949,  4151,  4664,\n",
      "        8880, 11373,  5653,  1618,  1096,  2367,  5901, 12035,   907,\n",
      "        6925,  1728,  8682,    34,  6538,  4106,  6962, 12874,  6672,\n",
      "       12591,  5143, 13096,    62, 11557,  7894,  1031, 11691,  5638,\n",
      "        7521,  4867,   910,  6345,  4332, 12043,  9661,  4561,  5460,\n",
      "        1674,  4536, 12452, 12868,  4342, 11791,   815, 10690,  6547,\n",
      "        4960, 10033,  9311,  4875, 11912, 12434,  2895,  6130,  5139,\n",
      "       11813,  4625, 11904,  1456,  5752,  3373,  1317,  4801,  9635,\n",
      "       11156,  3664,  2818,  7127,  4101,  3776, 12002, 12528, 11354,\n",
      "       11805, 10438,  9692,  8708,  3927,   919,  9282,  1082,  9222,\n",
      "        3016,  9404, 11495,  7842,  9410, 10408,  9674,  4294,  1923,\n",
      "        8164,  4690,  9479,  7019,  7966,  5740, 10255, 11892, 12550,\n",
      "        2304,  8361,   886, 10663,  2186,  2658,    40,  3627, 11709,\n",
      "        5436, 12774,  8844, 11533,  7973,  4170, 11170,  3160,   903,\n",
      "        5047,  2694,  2519, 11818,  5508,  5506,  1115, 11248,  6089,\n",
      "        2214, 12155,  7701,  2194,   993,  4156,  9921,  1316, 10761,\n",
      "       12152,  8101,  8826,  4245,  9442, 11749, 12106,  6157,  3310,\n",
      "        2936,  9365,  1584,  1520, 12524, 10309,  5211, 10851,  2533,\n",
      "        5156,  9217,  1983,  8323, 11659, 11274,  4899,  5161,  8067,\n",
      "        1516, 11176,  8318])]\n"
     ]
    }
   ],
   "source": [
    "print (l11[:2])\n",
    "print (l12[:2])\n",
    "print (l13[:2])"
   ]
  },
  {
   "cell_type": "code",
   "execution_count": 4,
   "metadata": {
    "ExecuteTime": {
     "end_time": "2017-11-22T13:04:52.813042Z",
     "start_time": "2017-11-22T13:04:52.649277Z"
    }
   },
   "outputs": [
    {
     "ename": "NameError",
     "evalue": "name 'r1' is not defined",
     "output_type": "error",
     "traceback": [
      "\u001b[0;31m---------------------------------------------------------------------------\u001b[0m",
      "\u001b[0;31mNameError\u001b[0m                                 Traceback (most recent call last)",
      "\u001b[0;32m<ipython-input-4-22bbdacaace4>\u001b[0m in \u001b[0;36m<module>\u001b[0;34m()\u001b[0m\n\u001b[0;32m----> 1\u001b[0;31m \u001b[0mr1_r\u001b[0m \u001b[0;34m=\u001b[0m \u001b[0mravel_list\u001b[0m\u001b[0;34m(\u001b[0m\u001b[0mr1\u001b[0m\u001b[0;34m)\u001b[0m\u001b[0;34m\u001b[0m\u001b[0m\n\u001b[0m\u001b[1;32m      2\u001b[0m \u001b[0midx\u001b[0m\u001b[0;34m,\u001b[0m\u001b[0mnc\u001b[0m\u001b[0;34m=\u001b[0m \u001b[0mnp\u001b[0m\u001b[0;34m.\u001b[0m\u001b[0munique\u001b[0m\u001b[0;34m(\u001b[0m\u001b[0mr1_r\u001b[0m\u001b[0;34m,\u001b[0m \u001b[0mreturn_counts\u001b[0m \u001b[0;34m=\u001b[0m \u001b[0;32mTrue\u001b[0m\u001b[0;34m)\u001b[0m\u001b[0;34m\u001b[0m\u001b[0m\n",
      "\u001b[0;31mNameError\u001b[0m: name 'r1' is not defined"
     ]
    }
   ],
   "source": [
    "l1_r = ravel_list(r11)\n",
    "idx,nc= np.unique(r11_r, return_counts = True)"
   ]
  },
  {
   "cell_type": "code",
   "execution_count": null,
   "metadata": {
    "ExecuteTime": {
     "end_time": "2017-11-22T11:29:56.494162Z",
     "start_time": "2017-11-22T11:28:59.437323Z"
    }
   },
   "outputs": [],
   "source": [
    "cc.save_results(l2,r2, 'first_test/lin_in_pts_pf', query_is_lin=True)"
   ]
  },
  {
   "cell_type": "code",
   "execution_count": null,
   "metadata": {
    "ExecuteTime": {
     "end_time": "2017-11-22T12:10:57.499646Z",
     "start_time": "2017-11-22T12:10:57.486424Z"
    }
   },
   "outputs": [],
   "source": [
    "a = True\n",
    "print (type(a))\n",
    "print (type([]).__name__ == 'bool')"
   ]
  },
  {
   "cell_type": "code",
   "execution_count": null,
   "metadata": {
    "ExecuteTime": {
     "end_time": "2017-11-22T12:32:40.513015Z",
     "start_time": "2017-11-22T12:32:40.507726Z"
    }
   },
   "outputs": [],
   "source": [
    "print (type(gp).__name__)"
   ]
  },
  {
   "cell_type": "code",
   "execution_count": null,
   "metadata": {
    "ExecuteTime": {
     "end_time": "2017-11-22T03:58:44.199359Z",
     "start_time": "2017-11-22T03:58:44.095289Z"
    }
   },
   "outputs": [],
   "source": [
    "so = gg.qpts.seg\n",
    "\n",
    "print (sg.shape)\n",
    "\n",
    "dist_info = False\n",
    "\n",
    "titles = ['AA', 'PF']\n",
    "\n",
    "fc = so[:,0]\n",
    "sc = so[:,1]\n",
    "print ('First')\n",
    "for i in np.unique(fc):\n",
    "    idx = np.isclose(fc, i)\n",
    "    if dist_info: print (i, ': n =', sum(idx), ', corresponding mean distance:', np.mean(dis_f[n][idx]))\n",
    "    else: print (i, ': n =', sum(idx))\n",
    "print ('Second')\n",
    "for i in np.unique(sc):\n",
    "    idx = np.isclose(sc, i)\n",
    "    if dist_info: print (i, ': n =', sum(idx), ', corresponding mean distance:', np.mean(dis_f[n][idx]))\n",
    "    else: print (i, ': n =', sum(idx))"
   ]
  },
  {
   "cell_type": "code",
   "execution_count": null,
   "metadata": {
    "ExecuteTime": {
     "end_time": "2017-11-22T06:43:20.173830Z",
     "start_time": "2017-11-22T06:43:19.338013Z"
    }
   },
   "outputs": [],
   "source": [
    "%run BREPpy.py\n",
    "gg = Golgi_pop(h)\n",
    "gg.load_somata(go_64)\n",
    "gg.add_dendrites()\n",
    "gg.save_dend_coords('teeeeest_')"
   ]
  },
  {
   "cell_type": "code",
   "execution_count": null,
   "metadata": {
    "ExecuteTime": {
     "end_time": "2017-11-22T06:40:11.133674Z",
     "start_time": "2017-11-22T06:40:10.986793Z"
    }
   },
   "outputs": [],
   "source": [
    "%run BREPpy.py\n",
    "\n",
    "gp = Granule_pop(h)\n",
    "gp.load_somata(gr_64)\n",
    "gp.save_gct_points('teeeeest_')\n",
    "gp.add_aa_endpoints_fixed()\n",
    "gp.add_pf_endpoints()\n",
    "gp.save_gct_points('teeeeest_')\n"
   ]
  },
  {
   "cell_type": "code",
   "execution_count": null,
   "metadata": {
    "ExecuteTime": {
     "end_time": "2017-11-22T06:31:04.755634Z",
     "start_time": "2017-11-22T06:31:04.744174Z"
    }
   },
   "outputs": [],
   "source": [
    "ad = gg.a_dend\n",
    "print (ad.shape)\n",
    "nn = ad[1]\n",
    "#print (nn)\n",
    "print (ad.ravel().shape)"
   ]
  },
  {
   "cell_type": "code",
   "execution_count": null,
   "metadata": {
    "ExecuteTime": {
     "end_time": "2017-11-22T02:32:22.176024Z",
     "start_time": "2017-11-22T02:32:22.150605Z"
    }
   },
   "outputs": [],
   "source": [
    "seg2 = seg.copy()"
   ]
  },
  {
   "cell_type": "code",
   "execution_count": null,
   "metadata": {
    "ExecuteTime": {
     "end_time": "2017-11-22T04:56:03.468729Z",
     "start_time": "2017-11-22T04:56:03.445017Z"
    }
   },
   "outputs": [],
   "source": [
    "t = np.array([1,2])\n",
    "print (str(t))"
   ]
  },
  {
   "cell_type": "code",
   "execution_count": null,
   "metadata": {
    "ExecuteTime": {
     "end_time": "2017-11-22T06:35:26.927539Z",
     "start_time": "2017-11-22T06:35:26.899535Z"
    }
   },
   "outputs": [],
   "source": [
    "warnings.warn?\n"
   ]
  },
  {
   "cell_type": "code",
   "execution_count": null,
   "metadata": {
    "ExecuteTime": {
     "end_time": "2017-11-22T05:05:31.059979Z",
     "start_time": "2017-11-22T05:05:28.728272Z"
    }
   },
   "outputs": [],
   "source": [
    "r1, lr1 = cc.query_pts_in_lin()"
   ]
  },
  {
   "cell_type": "code",
   "execution_count": null,
   "metadata": {
    "ExecuteTime": {
     "end_time": "2017-11-22T05:06:55.381056Z",
     "start_time": "2017-11-22T05:05:46.583887Z"
    }
   },
   "outputs": [],
   "source": [
    "% run BREPpy.py\n",
    "cc = Connect_2D(gg.qpts, gp.qpts_aa, 15)\n",
    "cc.save_results(r1, lr1, 'test_AA')\n"
   ]
  },
  {
   "cell_type": "code",
   "execution_count": null,
   "metadata": {
    "ExecuteTime": {
     "end_time": "2017-11-22T06:13:50.654789Z",
     "start_time": "2017-11-22T06:13:50.639137Z"
    }
   },
   "outputs": [],
   "source": [
    "print (gp.aa_dots.shape)\n",
    "\n",
    "print (gp.aa_dots[:2, :, :])\n",
    "print (gp.aa_dots[:2, -1, :])\n",
    "\n",
    " "
   ]
  },
  {
   "cell_type": "code",
   "execution_count": null,
   "metadata": {
    "ExecuteTime": {
     "end_time": "2017-11-20T04:09:22.007979Z",
     "start_time": "2017-11-20T04:09:21.615481Z"
    }
   },
   "outputs": [],
   "source": [
    "#%run BREPpy.py\n",
    "plt.figure(figsize = (12,8))\n",
    "\n",
    "gg.plot_somata(False, 'ro')\n",
    "gp.plot_somata(False, 'k.', markersize = 0.5)\n",
    "plt.title ('Somata in the granule layer (Granule: black, Golgi: red)');"
   ]
  },
  {
   "cell_type": "code",
   "execution_count": null,
   "metadata": {
    "ExecuteTime": {
     "end_time": "2017-11-20T05:21:41.304761Z",
     "start_time": "2017-11-20T05:21:24.087725Z"
    }
   },
   "outputs": [],
   "source": [
    "## plot some full cells\n",
    "\n",
    "#Different populations\n",
    "gr_pop = gp\n",
    "go_pop = gg\n",
    "\n",
    "m = 1254\n",
    "#print (gg.qpts.idx[m])\n",
    "\n",
    "#Get all Granule cells that are attached to one Golgi cell point (r1 comes from query_pts_in_lin)\n",
    "go_cells = gg.qpts.idx[m]   #indices for the Golgi population\n",
    "gr_cells =r1[m] #indices for the Granule cell population\n",
    "q_pt =gg.qpts.coo[m]     # special (query?) points\n",
    "\n",
    "\n",
    "# 3D plot\n",
    "plt.figure()\n",
    "ax = plt.gcf().gca(projection='3d')\n",
    "def plot3d (ax, dat, *args, **kwargs):\n",
    "    if dat == []: return\n",
    "    if len(dat.shape) == 1: #if single dot\n",
    "        dat = np.expand_dims(dat, axis = 0)\n",
    "    ax.plot(dat[:,0], dat[:,1], dat[:,2], *args, **kwargs)\n",
    "\n",
    "for c in gr_cells:\n",
    "    plot3d(ax, gr_pop.aa_dots[c], 'c')\n",
    "    plot3d(ax, gr_pop.pf_dots[c], 'b')\n",
    "    plot3d(ax, gr_pop.som[c], 'bo')\n",
    "\n",
    "for c in go_cells:\n",
    "    plot3d(ax, go_pop.a_dend[c], 'rx')\n",
    "    plot3d(ax, go_pop.b_dend[c], 'mx')\n",
    "    plot3d(ax, np.expand_dims(go_pop.som[c], axis = 0), 'ro')\n",
    "\n",
    "    plot3d(ax, q_pt, 'gx', markersize = 2)\n",
    "\n",
    "    plt.title('3D space')\n",
    "    \n",
    "#2D projections\n",
    "plt.figure(figsize=(15,5))\n",
    "for i, [j, k, tit] in enumerate([[0,1, 'x-y plane'], [1,2, 'y-z plane'], [0,2, 'x-z plane']]):\n",
    "    \n",
    "    plt.subplot(1,3,i+1)\n",
    "    \n",
    "    for c in gr_cells:\n",
    "        plt.plot(gr_pop.aa_dots[c,:,j], gr_pop.aa_dots[c,:,k], 'c')\n",
    "        plt.plot(gr_pop.pf_dots[c,:,j], gr_pop.pf_dots[c,:,k], 'b')\n",
    "        plt.plot(gr_pop.som[c,j], gr_pop.som[c,k], 'bo')\n",
    "\n",
    "    for c in go_cells:\n",
    "        plt.plot(go_pop.a_dend[c,:,j], go_pop.a_dend[c,:,k], 'rx')\n",
    "        plt.plot(go_pop.b_dend[c,:,j], go_pop.b_dend[c,:,k], 'mx')\n",
    "        plt.plot(go_pop.som[c,j], go_pop.som[c,k], 'ro')\n",
    "        \n",
    "    if len(q_pt) > 0: plt.plot(q_pt[j], q_pt[k], 'gx', markersize = 20)\n",
    "    \n",
    "    \n",
    "    if True:\n",
    "        if i in [0,2]: plt.xlim([-100, 500])\n",
    "    plt.title (tit)\n",
    "    \n",
    "    \n",
    "    plt.axis('equal')"
   ]
  },
  {
   "cell_type": "code",
   "execution_count": null,
   "metadata": {
    "ExecuteTime": {
     "end_time": "2017-11-16T05:01:42.648464Z",
     "start_time": "2017-11-16T05:01:41.449399Z"
    }
   },
   "outputs": [],
   "source": [
    "## plot some full cells\n",
    "import matplotlib.pyplot as plt\n",
    "%matplotlib inline\n",
    "\n",
    "gr_pop = gp\n",
    "go_pop = gg\n",
    "\n",
    "a = np.random.randint(0, len(r2[0]), 5)\n",
    "#ex = r2[a]\n",
    "\n",
    "\n",
    "gr_cells = r2[0] #np.random.randint(0, len(gr_pop.som), 10)\n",
    "go_cells = [0] #np.random.randint(0, len(go_pop.som), 2)\n",
    "\n",
    "\n",
    "# 3D plot\n",
    "plt.figure()\n",
    "ax = plt.gcf().gca(projection='3d')\n",
    "def plot3d (ax, dat, *args, **kwargs):\n",
    "    if len(dat.shape) == 1: #if single dot\n",
    "        dat = np.expand_dims(dat, axis = 0)\n",
    "    ax.plot(dat[:,0], dat[:,1], dat[:,2], *args, **kwargs)\n",
    "\n",
    "for c in gr_cells:\n",
    "    plot3d(ax, gr_pop.aa_dots[c], 'c')\n",
    "    plot3d(ax, gr_pop.pf_dots[c], 'b')\n",
    "    plot3d(ax, gr_pop.som[c], 'bo')\n",
    "\n",
    "for c in go_cells:\n",
    "    plot3d(ax, go_pop.a_dend[c], 'r')\n",
    "    plot3d(ax, go_pop.b_dend[c], 'm')\n",
    "    plot3d(ax, np.expand_dims(go_pop.som[c], axis = 0), 'ro')\n",
    "    \n",
    "    \n",
    "#2D projections\n",
    "plt.figure(figsize=(15,5))\n",
    "for i, [j, k, tit] in enumerate([[0,1, 'x-y plane'], [1,2, 'y-z plane'], [0,2, 'x-z plane']]):\n",
    "    \n",
    "    plt.subplot(1,3,i+1)\n",
    "    \n",
    "    for c in gr_cells:\n",
    "        plt.plot(gr_pop.aa_dots[c,:,j], gr_pop.aa_dots[c,:,k], 'c')\n",
    "        plt.plot(gr_pop.pf_dots[c,:,j], gr_pop.pf_dots[c,:,k], 'b')\n",
    "        plt.plot(gr_pop.som[c,j], gr_pop.som[c,k], 'bo')\n",
    "\n",
    "    for c in go_cells:\n",
    "        plt.plot(go_pop.a_dend[c,:,j], go_pop.a_dend[c,:,k], 'r')\n",
    "        plt.plot(go_pop.b_dend[c,:,j], go_pop.b_dend[c,:,k], 'm')\n",
    "        plt.plot(go_pop.som[c,j], go_pop.som[c,k], 'ro')\n",
    "    \n",
    "    if True:\n",
    "        if i in [0,2]: plt.xlim([-100, 500])\n",
    "    plt.title (tit)"
   ]
  },
  {
   "cell_type": "code",
   "execution_count": null,
   "metadata": {},
   "outputs": [],
   "source": []
  },
  {
   "cell_type": "code",
   "execution_count": null,
   "metadata": {
    "ExecuteTime": {
     "end_time": "2017-11-13T10:50:24.393140Z",
     "start_time": "2017-11-13T10:50:24.384933Z"
    }
   },
   "outputs": [],
   "source": [
    "qpt = Query_points(gg.som)\n",
    "\n",
    "qpt.npts"
   ]
  },
  {
   "cell_type": "code",
   "execution_count": null,
   "metadata": {
    "ExecuteTime": {
     "end_time": "2017-11-14T13:03:32.638698Z",
     "start_time": "2017-11-14T13:03:20.946889Z"
    }
   },
   "outputs": [],
   "source": [
    "from neuron import hoc, h\n",
    "\n",
    "%run BREPpy.py\n",
    "\n",
    "\n",
    "empty_hoc = dir(neuron.hoc.HocObject()).copy()\n",
    "config_fn = './input_files/Parameters.hoc'\n",
    "#load our own hoc object from the parameter file, get the disjunct list of parameters (probably useless...)\n",
    "neuron.h.xopen(config_fn)\n",
    "gp = Granule_pop(h)\n",
    "gp.load_somata('./example_simulation/coordinates_input/GCcoordinates.dat')\n",
    "\n",
    "\n",
    "plt.figure()\n",
    "ax = plt.gcf().gca(projection='3d')\n",
    "ax.plot(gp.som[:,0], gp.som[:,1], gp.som[:,2], *args)"
   ]
  },
  {
   "cell_type": "code",
   "execution_count": null,
   "metadata": {
    "ExecuteTime": {
     "end_time": "2017-11-14T08:54:59.243050Z",
     "start_time": "2017-11-14T08:54:58.271204Z"
    }
   },
   "outputs": [],
   "source": [
    "from neuron import hoc, h\n",
    "\n",
    "%run BREPpy.py\n",
    "gp = Granule_pop('./example_simulation/coordinates_input/GCcoordinates.dat', h)\n",
    "gp.add_aa_endpoints_random()\n",
    "\n"
   ]
  },
  {
   "cell_type": "code",
   "execution_count": null,
   "metadata": {},
   "outputs": [],
   "source": [
    "    def read_in_config2 (self):\n",
    "       '''checks if a config file has been specified, and if so, updates the args.\n",
    "        If overwrite_config is set True, command line arguments that specify a parameter that also exists\n",
    "        in the config file will have priority.'''\n",
    "        if self.args.config_fn == '':\n",
    "            warnings.warn('Cannot find config file!')\n",
    "        else:  #read in config file using neurons h object\n",
    "            self.p_verb('Reading config file')\n",
    "            empty_hoc = dir(hoc.HocObject()).copy()\n",
    "            neuron.h.xopen(self.args.config_fn)\n",
    "            full_hoc = dir(neuron.h) \n",
    "        self.\n"
   ]
  },
  {
   "cell_type": "code",
   "execution_count": null,
   "metadata": {
    "ExecuteTime": {
     "end_time": "2017-11-13T14:11:02.527743Z",
     "start_time": "2017-11-13T14:11:02.514237Z"
    }
   },
   "outputs": [],
   "source": [
    "%run BREPpy.py"
   ]
  },
  {
   "cell_type": "markdown",
   "metadata": {
    "collapsed": true
   },
   "source": [
    "# Visualization of Golgi cells"
   ]
  },
  {
   "cell_type": "markdown",
   "metadata": {},
   "source": [
    "For both the apical and the basal dendrites, a parameter GoC_*d_nseg is defined by `int((GoC_ApicalDendL/(GoC_d_lambda*GoC_d_lambda_f)+0.9)/2)*2 + 1 ` (analogous for BasolateralDendL)\n",
    "Plugging in the values for the other parameters specified, I get that only if the length parameter GoC_**DendL is >= 488.6 (which seems an unlikely case), this parameter is not 1. (Values in the current config file are 166 for apical, 60 for basolateral)\n",
    "I would like to understand what this parameter does and what it is used for (something cable equationish?)\n"
   ]
  },
  {
   "cell_type": "markdown",
   "metadata": {},
   "source": [
    "# Visualization of Parallel fiber"
   ]
  },
  {
   "cell_type": "markdown",
   "metadata": {},
   "source": [
    "# Visualization of Somata"
   ]
  },
  {
   "cell_type": "markdown",
   "metadata": {},
   "source": [
    "# Single connection visualization"
   ]
  },
  {
   "cell_type": "markdown",
   "metadata": {},
   "source": [
    "# Connection density visualization"
   ]
  },
  {
   "cell_type": "code",
   "execution_count": null,
   "metadata": {
    "ExecuteTime": {
     "end_time": "2017-11-14T12:44:01.403282Z",
     "start_time": "2017-11-14T12:44:01.396534Z"
    }
   },
   "outputs": [],
   "source": [
    "l = 166\n",
    "fr = l/(0.1*1000*np.sqrt (3/(4*np.pi)))\n",
    "print (fr)\n",
    "nsegp = fr+0.9\n",
    "nseg = int(nsegp/2)*2+1\n",
    "print (nsegp)\n",
    "print (nseg)\n"
   ]
  },
  {
   "cell_type": "code",
   "execution_count": null,
   "metadata": {
    "ExecuteTime": {
     "end_time": "2017-11-14T12:39:04.709959Z",
     "start_time": "2017-11-14T12:39:04.361772Z"
    }
   },
   "outputs": [],
   "source": [
    "int (0.9)"
   ]
  },
  {
   "cell_type": "code",
   "execution_count": null,
   "metadata": {
    "ExecuteTime": {
     "end_time": "2017-11-14T12:50:53.363142Z",
     "start_time": "2017-11-14T12:50:53.186476Z"
    }
   },
   "outputs": [],
   "source": [
    "b = 'ga'\n",
    "print (type(b) == str)"
   ]
  },
  {
   "cell_type": "code",
   "execution_count": null,
   "metadata": {},
   "outputs": [],
   "source": [
    "import threading\n",
    "from queue import Queue\n",
    "import time\n",
    "\n",
    "\n"
   ]
  },
  {
   "cell_type": "code",
   "execution_count": null,
   "metadata": {
    "ExecuteTime": {
     "end_time": "2017-11-15T15:47:32.666023Z",
     "start_time": "2017-11-15T15:47:06.559718Z"
    }
   },
   "outputs": [],
   "source": [
    "\n",
    "q"
   ]
  },
  {
   "cell_type": "code",
   "execution_count": null,
   "metadata": {},
   "outputs": [],
   "source": [
    "%connect_info #-> gives the number and the address of the kernel you use\n",
    "%qtconsole #-> opens the console with iqdb\n",
    "%debug #-> starts a iqdb pocess inline\n",
    "#-> here, if you print debug, you will jump to the last error. Leave with q\n",
    "\n",
    "# pdb.set_trace() -> "
   ]
  },
  {
   "cell_type": "code",
   "execution_count": null,
   "metadata": {},
   "outputs": [],
   "source": [
    "# about the nseg parameter in the Parameters.hoc file.\n",
    "l = 166\n",
    "fr = l/(0.1*1000*np.sqrt (3/(4*np.pi)))\n",
    "print (fr)\n",
    "nsegp = fr+0.9\n",
    "nseg = int(nsegp/2)*2+1\n",
    "print (nsegp)\n",
    "print (nseg)\n"
   ]
  }
 ],
 "metadata": {
  "kernelspec": {
   "display_name": "Python 3",
   "language": "python",
   "name": "python3"
  },
  "language_info": {
   "codemirror_mode": {
    "name": "ipython",
    "version": 3
   },
   "file_extension": ".py",
   "mimetype": "text/x-python",
   "name": "python",
   "nbconvert_exporter": "python",
   "pygments_lexer": "ipython3",
   "version": "3.5.2"
  },
  "toc": {
   "nav_menu": {},
   "number_sections": true,
   "sideBar": true,
   "skip_h1_title": true,
   "toc_cell": false,
   "toc_position": {},
   "toc_section_display": "block",
   "toc_window_display": false
  },
  "varInspector": {
   "cols": {
    "lenName": 16,
    "lenType": 16,
    "lenVar": 40
   },
   "kernels_config": {
    "python": {
     "delete_cmd_postfix": "",
     "delete_cmd_prefix": "del ",
     "library": "var_list.py",
     "varRefreshCmd": "print(var_dic_list())"
    },
    "r": {
     "delete_cmd_postfix": ") ",
     "delete_cmd_prefix": "rm(",
     "library": "var_list.r",
     "varRefreshCmd": "cat(var_dic_list()) "
    }
   },
   "types_to_exclude": [
    "module",
    "function",
    "builtin_function_or_method",
    "instance",
    "_Feature"
   ],
   "window_display": false
  }
 },
 "nbformat": 4,
 "nbformat_minor": 1
}
