{
 "cells": [
  {
   "cell_type": "code",
   "execution_count": 15,
   "metadata": {
    "ExecuteTime": {
     "end_time": "2017-11-13T10:51:22.695578Z",
     "start_time": "2017-11-13T10:51:22.386293Z"
    },
    "collapsed": false
   },
   "outputs": [
    {
     "name": "stdout",
     "output_type": "stream",
     "text": [
      "(1995, 8, 3)\n",
      "(1995, 8)\n",
      "(1995, 8)\n",
      "[[   0    0    0 ...,    0    0    0]\n",
      " [   1    1    1 ...,    1    1    1]\n",
      " [   2    2    2 ...,    2    2    2]\n",
      " ..., \n",
      " [1992 1992 1992 ..., 1992 1992 1992]\n",
      " [1993 1993 1993 ..., 1993 1993 1993]\n",
      " [1994 1994 1994 ..., 1994 1994 1994]]\n",
      "[[0 1 2 ..., 1 2 3]\n",
      " [0 1 2 ..., 1 2 3]\n",
      " [0 1 2 ..., 1 2 3]\n",
      " ..., \n",
      " [0 1 2 ..., 1 2 3]\n",
      " [0 1 2 ..., 1 2 3]\n",
      " [0 1 2 ..., 1 2 3]]\n"
     ]
    }
   ],
   "source": [
    "%run BREPpy.py\n",
    "\n",
    "conn = Connector()\n",
    "conn.init_from_script(['--config_fn','./input_files/Parameters.hoc', '--goc_points_fn', './example_simulation/coordinates_input/GoCcoordinates.dat'])\n",
    "#cp = Cell_pop (conn)\n",
    "\n",
    "#print (cp.args)\n",
    "\n",
    "gg = Golgi_pop(conn.args)\n",
    "gg.load_somata()\n",
    "gg.add_dendrites()\n",
    "\n",
    "\n",
    "\n",
    "\n",
    "#qpt = Query_points\n"
   ]
  },
  {
   "cell_type": "code",
   "execution_count": 14,
   "metadata": {
    "ExecuteTime": {
     "end_time": "2017-11-13T10:50:24.393140Z",
     "start_time": "2017-11-13T10:50:24.384933Z"
    },
    "collapsed": false
   },
   "outputs": [
    {
     "data": {
      "text/plain": [
       "1995"
      ]
     },
     "execution_count": 14,
     "metadata": {},
     "output_type": "execute_result"
    }
   ],
   "source": [
    "qpt = Query_points(gg.som)\n",
    "\n",
    "qpt.npts"
   ]
  },
  {
   "cell_type": "code",
   "execution_count": null,
   "metadata": {
    "collapsed": true
   },
   "outputs": [],
   "source": []
  }
 ],
 "metadata": {
  "kernelspec": {
   "display_name": "Python 3",
   "language": "python",
   "name": "python3"
  },
  "language_info": {
   "codemirror_mode": {
    "name": "ipython",
    "version": 3
   },
   "file_extension": ".py",
   "mimetype": "text/x-python",
   "name": "python",
   "nbconvert_exporter": "python",
   "pygments_lexer": "ipython3",
   "version": "3.5.2"
  },
  "toc": {
   "nav_menu": {},
   "number_sections": true,
   "sideBar": true,
   "skip_h1_title": true,
   "toc_cell": false,
   "toc_position": {},
   "toc_section_display": "block",
   "toc_window_display": false
  },
  "varInspector": {
   "cols": {
    "lenName": 16,
    "lenType": 16,
    "lenVar": 40
   },
   "kernels_config": {
    "python": {
     "delete_cmd_postfix": "",
     "delete_cmd_prefix": "del ",
     "library": "var_list.py",
     "varRefreshCmd": "print(var_dic_list())"
    },
    "r": {
     "delete_cmd_postfix": ") ",
     "delete_cmd_prefix": "rm(",
     "library": "var_list.r",
     "varRefreshCmd": "cat(var_dic_list()) "
    }
   },
   "types_to_exclude": [
    "module",
    "function",
    "builtin_function_or_method",
    "instance",
    "_Feature"
   ],
   "window_display": false
  }
 },
 "nbformat": 4,
 "nbformat_minor": 1
}
