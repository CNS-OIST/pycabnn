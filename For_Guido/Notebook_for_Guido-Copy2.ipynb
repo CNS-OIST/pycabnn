{
 "cells": [
  {
   "cell_type": "markdown",
   "metadata": {},
   "source": [
    "Hey Guido,\n",
    "\n",
    "\n",
    "here is a small example notebook that shows how I use the kdt search.\n",
    "\n",
    "The input files are here:\n",
    "https://www.dropbox.com/sh/wm272v5dqgbpu8k/AABKb356GCXPRUu3S0lehiuia/brep%20input?dl=0\n",
    "You will need the files GoCcoordinates.dat and GCcoordinates.dat from this dropbox.\n",
    "Please specify the path to where you have stored them in the next cell.\n",
    "\n",
    "There are two more files that are needed, the parameters.hoc file and the BREP.py file, of which the paths also have to be specified in the next cell (if you use it from github, the paths should be fine)\n",
    "\n",
    "I also attached a downsampling function in case you want to use a smaller dataset to start with!\n",
    "\n",
    "Thanks a lot for looking into it, I am curious what comes out!\n",
    "\n",
    "Best, Ines\n"
   ]
  },
  {
   "cell_type": "code",
   "execution_count": 7,
   "metadata": {
    "ExecuteTime": {
     "end_time": "2017-11-20T08:27:00.528010Z",
     "start_time": "2017-11-20T08:27:00.499934Z"
    }
   },
   "outputs": [],
   "source": [
    "# Input filenames and paths\n",
    "\n",
    "%run ../BREPpy.py  \n",
    "#the Parameters file\n",
    "config_fn = '../input_files/Parameters.hoc'\n",
    "#path to the coordinate files\n",
    "p_co = \n",
    "\n",
    "\n",
    "#filenames:\n",
    "fi_go = p_co+'GoCcoordinates.dat'\n",
    "fi_gr = p_co+'GCcoordinates.dat'\n",
    "\n"
   ]
  },
  {
   "cell_type": "code",
   "execution_count": 8,
   "metadata": {
    "ExecuteTime": {
     "end_time": "2017-11-20T08:27:22.918479Z",
     "start_time": "2017-11-20T08:27:14.373827Z"
    }
   },
   "outputs": [],
   "source": [
    "# Setup\n",
    "\n",
    "#Read in config file\n",
    "#h = neuron.hoc.HocObject()\n",
    "#h = neuron.\n",
    "neuron.h.xopen(config_fn)\n",
    "\n",
    "# Set up the Golgi population, get dendrite points\n",
    "gg = Golgi_pop(h)\n",
    "gg.load_somata(fi_go)\n",
    "gg.add_dendrites()\n",
    "\n",
    "#Set up Granule population including aa and pf\n",
    "gp = Granule_pop(h)\n",
    "gp.load_somata(fi_gr)\n",
    "gp.add_aa_endpoints_fixed()\n",
    "gp.add_pf_endpoints()\n"
   ]
  },
  {
   "cell_type": "code",
   "execution_count": 13,
   "metadata": {
    "ExecuteTime": {
     "end_time": "2017-11-20T08:33:12.859200Z",
     "start_time": "2017-11-20T08:33:12.839132Z"
    }
   },
   "outputs": [
    {
     "name": "stdout",
     "output_type": "stream",
     "text": [
      "(1995, 50, 3)\n",
      "(1995, 24, 3)\n",
      "(147630, 3)\n",
      "(798000, 2, 3)\n",
      "(798000, 2, 3)\n"
     ]
    }
   ],
   "source": [
    "# Access the different points:\n",
    "\n",
    "# soma coordinates\n",
    "golgi_som = gg.som\n",
    "#gran_som = gp.som\n",
    "\n",
    "# The dendrites in a ncells x npoints x dim structure\n",
    "print (gg.a_dend.shape)\n",
    "print (gg.b_dend.shape)\n",
    "\n",
    "# All dendrite points mashed together \n",
    "# (qpts is some other class that stores which cell the points belonged to)\n",
    "print (gg.qpts.coo.shape)\n",
    "\n",
    "#The parallel fiber and ascending axon endpoints: (ncells x [begin, end] x dim)\n",
    "print (gp.aa_dots.shape)\n",
    "print (gp.pf_dots.shape)\n"
   ]
  },
  {
   "cell_type": "code",
   "execution_count": 15,
   "metadata": {
    "ExecuteTime": {
     "end_time": "2017-11-20T10:06:55.019491Z",
     "start_time": "2017-11-20T10:06:54.079986Z"
    }
   },
   "outputs": [],
   "source": [
    "c_rad = 15 #critical radius (distance around points\n",
    "cc = Connect_2D(gg.qpts, gp.qpts_aa, c_rad) # This class is constructed on the query points\n",
    "kdt, q_pts, lax_c, lax_range, lin_in_tree = cc.get_tree_setup() \n",
    "# the kdt is the 2D tree that contains the aa points, and q_pts contains the 2d projections of the Golgi query points"
   ]
  },
  {
   "cell_type": "code",
   "execution_count": 17,
   "metadata": {
    "ExecuteTime": {
     "end_time": "2017-11-20T10:07:04.890542Z",
     "start_time": "2017-11-20T10:07:04.869781Z"
    }
   },
   "outputs": [
    {
     "name": "stdout",
     "output_type": "stream",
     "text": [
      "[699964 620592 100583  53090 558203 242234 726650 283077 545714 601099\n",
      " 642758 580733 552228 314127 358070 340115 784781 278942 552279 527459\n",
      " 190550 697651 249989 262822 375618 241017 727845 483544 716643 746257\n",
      " 429157 451788 507011 356132 509819 340864 705649  72728 337576 553758\n",
      "    596 592145 450223 609067 101147 675497 181881  86406 529170 490368\n",
      " 663466  81406  26668 755031 720898 415611 673926 437254 763130 593151\n",
      " 454240 255336 254693 159257 476200 130492 155770 423228 645670 263469\n",
      " 277898 617371 667910 654777 722026 491550  50343 756955 105881 478713\n",
      " 296248 554513 435330 252858 414755 736488 293696  56534 350248 760294\n",
      " 597238 742497 418875 546466 174609 566528 764993 703422 100912 543595\n",
      " 506492 406414   2007 669132 100141 448018 274556 123615 407132 164247\n",
      "  94681  65068 227504 300130 179910 439698 127210 372916 138279 574846\n",
      " 512713 464833 357221  85411 190049 770600 398847 611099 186728 582317\n",
      " 459852 204774 257430 745119 429158 599297 408855 177748 384360  42802\n",
      " 180162 100365 459981 724893   4280 154878 180768  45483 779537 556955\n",
      " 107321 444309  22511 174556 514731 731287 649432 519346 477445 320666\n",
      " 771938 782170 603285   5975 705685 797129 281997 512475 755739 292614\n",
      " 203736 371562  28864 194301 190834 676027 727631 691500  99638 524414\n",
      " 479015 710097 787797 533366 254016 747651 282757 496859 108578 255618\n",
      " 540279 744735  52877 111038 691026 408842 106027 147728 221624 427302\n",
      "  24550 136237 724574 629250 464851 126227 534217 570640 517764 117178\n",
      " 289759 448782 450751  75433  55172 667927 711089 193570 672473 604147\n",
      " 758321 166077 549082 617161 136925 786555 754369 608463 565272  98086\n",
      " 140683  72896 552782  35858 195605 115057  12329 503659 666790 644814\n",
      " 583697 102280 377022 505883 439416 744909 143305 469460 681983 216313\n",
      "  13984 332085 363484 543270 339388  11203  83774 520368 288562 753479\n",
      " 517040 416929 609092 727188 520556 428080 420651 721262 609543 119992\n",
      " 181456 740426 154950 371471 622710 401057 131327 461259 198404 228504\n",
      " 717842 275730 173077 728903 283087 606989 793001 348867 140129 232613\n",
      "  66103   6414 240783 758142 224513 656718   2167 377036 678204 628596\n",
      " 311327 709009 735392 363498 319670 665060 330157 528969 361207 535282\n",
      " 132186 397729  24634]\n"
     ]
    }
   ],
   "source": [
    "# query a single point in the 2D tree\n",
    "def pt_in_tr (kdt, pt, c_rad):\n",
    "    warnings.simplefilter('ignore')\n",
    "    ind, = kdt.query_radius(pt, r = c_rad)\n",
    "    return ind\n",
    "\n",
    "#example:\n",
    "a = pt_in_tr(kdt, q_pts[0], c_rad)\n",
    "print (a)"
   ]
  },
  {
   "cell_type": "code",
   "execution_count": null,
   "metadata": {},
   "outputs": [],
   "source": [
    "#As the Connector object is initialized with objects from the Query class, here are the\n",
    "#corresponding numpy arrays that contain the 3-dimensional points:\n",
    "query_points = gg.qpts.coo\n",
    "lin_tree_points = gp.qpts_aa.coo "
   ]
  },
  {
   "cell_type": "markdown",
   "metadata": {},
   "source": [
    "## Subsampling"
   ]
  },
  {
   "cell_type": "code",
   "execution_count": null,
   "metadata": {},
   "outputs": [],
   "source": [
    "# subsampling (constant density, smaller patch)\n",
    "\n",
    "p1 = p_co #path to coordinate files\n",
    "p2 = p_co #path where the subsampled data goes\n",
    "\n",
    "\n",
    "#output filenames\n",
    "fi_go = p1+'GoCcoordinates.dat'\n",
    "fi_gr = p1+'GCcoordinates.dat'\n",
    "fo_go64 = p2+'GoCcoordinates_64.dat'\n",
    "fo_gr64 = p2+'GCcoordinates_64.dat'\n",
    "fo_go16 = p2+'GoCcoordinates_16.dat'\n",
    "fo_gr16 = p2+'GCcoordinates_16.dat'\n",
    "fo_go4 = p2+'GoCcoordinates_4.dat'\n",
    "fo_gr4 = p2+'GCcoordinates_4.dat' \n",
    "\n",
    "\n",
    "# Original size of membrane patch:\n",
    "x_r = np.array([0.0, 1500.0])\n",
    "y_r = np.array([0.0, 750.0])\n",
    "z_r = [0.0, 1000.0]\n",
    "# Smaller sizes\n",
    "rrs64 = [x_r/8, y_r/8, z_r]\n",
    "rrs16 = [x_r/4, y_r/4, z_r]\n",
    "rrs4 = [x_r/2, y_r/2, z_r]\n",
    "\n",
    "\n",
    "def subsample_coords (rrs, fn_in, fn_out = 'input_files/downsampled.dat', save = True):\n",
    "    res = []\n",
    "    rnr = [0, 0]\n",
    "    with open(fn_in, newline = '') as f, open (fn_out, 'w', newline = '') as w_f:\n",
    "        rr = csv.reader(f, delimiter = ' ')\n",
    "        if save: wr = csv.writer(w_f, delimiter = ' ')\n",
    "        for line in rr:\n",
    "            in_range = all([float(line[i])>rrs[i][0] and float(line[i])<rrs[i][1] for i in range(len(rrs))]) #check if in range\n",
    "            if in_range: \n",
    "                if save: wr.writerow([float(line[j]) for j in range(len(rrs))])\n",
    "                res.append([float(line[j]) for j in range(len(rrs))])\n",
    "                rnr[0] = rnr[0]+1\n",
    "            else:\n",
    "                rnr[1] = rnr[1]+1\n",
    "    print ('Subsampled {} of {}'.format(rnr[0], sum(rnr)))\n",
    "    return res\n",
    "\n",
    "\n",
    "\n",
    "\n",
    "_ = subsample_coords (rrs64, fi_go, fo_go64)\n",
    "_ = subsample_coords (rrs64, fi_gr, fo_gr64)\n",
    "\n",
    "'''_ = subsample_coords (rrs16, fi_go, fo_go16)\n",
    "_ = subsample_coords (rrs16, fi_gr, fo_gr16)\n",
    "_ = subsample_coords (rrs4, fi_go, fo_go4)\n",
    "_ = subsample_coords (rrs4, fi_gr, fo_gr4)\n",
    "'''"
   ]
  }
 ],
 "metadata": {
  "kernelspec": {
   "display_name": "Python 3",
   "language": "python",
   "name": "python3"
  },
  "language_info": {
   "codemirror_mode": {
    "name": "ipython",
    "version": 3
   },
   "file_extension": ".py",
   "mimetype": "text/x-python",
   "name": "python",
   "nbconvert_exporter": "python",
   "pygments_lexer": "ipython3",
   "version": "3.5.2"
  },
  "toc": {
   "nav_menu": {},
   "number_sections": true,
   "sideBar": true,
   "skip_h1_title": true,
   "toc_cell": false,
   "toc_position": {},
   "toc_section_display": "block",
   "toc_window_display": false
  },
  "varInspector": {
   "cols": {
    "lenName": 16,
    "lenType": 16,
    "lenVar": 40
   },
   "kernels_config": {
    "python": {
     "delete_cmd_postfix": "",
     "delete_cmd_prefix": "del ",
     "library": "var_list.py",
     "varRefreshCmd": "print(var_dic_list())"
    },
    "r": {
     "delete_cmd_postfix": ") ",
     "delete_cmd_prefix": "rm(",
     "library": "var_list.r",
     "varRefreshCmd": "cat(var_dic_list()) "
    }
   },
   "types_to_exclude": [
    "module",
    "function",
    "builtin_function_or_method",
    "instance",
    "_Feature"
   ],
   "window_display": false
  }
 },
 "nbformat": 4,
 "nbformat_minor": 2
}
