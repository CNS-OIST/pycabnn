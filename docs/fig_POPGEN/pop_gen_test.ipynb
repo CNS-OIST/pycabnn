{
 "cells": [
  {
   "cell_type": "code",
   "execution_count": 1,
   "metadata": {
    "lines_to_next_cell": 1
   },
   "outputs": [],
   "source": [
    "%load_ext autoreload\n",
    "%autoreload 2\n",
    "\n",
    "import sys\n",
    "sys.path.append('../../')"
   ]
  },
  {
   "cell_type": "code",
   "execution_count": 2,
   "metadata": {
    "lines_to_next_cell": 1
   },
   "outputs": [
    {
     "name": "stdout",
     "output_type": "stream",
     "text": [
      "Nseg for APical is 5 and Basal is 3\n",
      "\t36 \n"
     ]
    },
    {
     "name": "stderr",
     "output_type": "stream",
     "text": [
      "/opt/anaconda3/lib/python3.6/site-packages/tqdm/autonotebook/__init__.py:14: TqdmExperimentalWarning: Using `tqdm.autonotebook.tqdm` in notebook mode. Use `tqdm.tqdm` instead to force console mode (e.g. in jupyter console)\n",
      "  \" (e.g. in jupyter console)\", TqdmExperimentalWarning)\n"
     ]
    }
   ],
   "source": [
    "import numpy as np\n",
    "from neuron import h\n",
    "from pybrep.pop_generation.bridson import Bridson_sampling_2d, Bridson_sampling_3d\n",
    "\n",
    "h.load_file(\"../../test/set3005/Parameters.hoc\")\n",
    "h.MFxrange += 50\n",
    "h.MFyrange += 50\n",
    "h.GLdepth += 50"
   ]
  },
  {
   "cell_type": "code",
   "execution_count": 7,
   "metadata": {
    "lines_to_next_cell": 1
   },
   "outputs": [
    {
     "name": "stdout",
     "output_type": "stream",
     "text": [
      "N MF = 3031\n"
     ]
    },
    {
     "data": {
      "application/vnd.jupyter.widget-view+json": {
       "model_id": "71577fe87c4241edac64dc891ffd491e",
       "version_major": 2,
       "version_minor": 0
      },
      "text/plain": [
       "HBox(children=(IntProgress(value=0, max=3031), HTML(value='')))"
      ]
     },
     "metadata": {},
     "output_type": "display_data"
    },
    {
     "name": "stdout",
     "output_type": "stream",
     "text": [
      "Iteration: 504, (final)Points Created: 3031, is_grid_empty:5880 (65.98586017282011%)\n"
     ]
    }
   ],
   "source": [
    "def compute_mf_params(h):\n",
    "    Transverse_range = h.MFyrange\n",
    "    Horizontal_range = h.MFxrange\n",
    "    Vertical_range = h.GLdepth\n",
    "    Volume = Transverse_range * Horizontal_range * Vertical_range\n",
    "\n",
    "    MFdensity = h.MFdensity\n",
    "\n",
    "    box_fac = 2.5\n",
    "    Xinstantiate = 64 + 40  # 297+40\n",
    "    Yinstantiate = 84 + 40 * box_fac  # 474+40x*box_fac\n",
    "\n",
    "    n_mf = int(\n",
    "        (Transverse_range + (2 * Xinstantiate))\n",
    "        * (Horizontal_range + (2 * Yinstantiate))\n",
    "        * MFdensity\n",
    "        * 1e-6\n",
    "    )\n",
    "    print(\"N MF = {}\".format(n_mf))\n",
    "    return (\n",
    "        (Horizontal_range + (2 * Yinstantiate), Transverse_range + (2 * Xinstantiate)),\n",
    "        n_mf,\n",
    "    )\n",
    "\n",
    "\n",
    "mf_box, n_mf = compute_mf_params(h)\n",
    "\n",
    "spacing_mf = 20.5\n",
    "mf_points = Bridson_sampling_2d(mf_box, spacing_mf, n_mf, True)\n",
    "\n",
    "np.savez(\n",
    "    \"coords_20190613_1.npz\",\n",
    "    mf=mf_points\n",
    ")"
   ]
  },
  {
   "cell_type": "code",
   "execution_count": 12,
   "metadata": {},
   "outputs": [
    {
     "data": {
      "application/vnd.jupyter.widget-view+json": {
       "model_id": "bbd4d6df9b24406c8376cafe293dd15c",
       "version_major": 2,
       "version_minor": 0
      },
      "text/plain": [
       "HBox(children=(IntProgress(value=0, max=3313), HTML(value='')))"
      ]
     },
     "metadata": {},
     "output_type": "display_data"
    },
    {
     "name": "stdout",
     "output_type": "stream",
     "text": [
      "Iteration: 4193, (final)Points Created: 3313, is_grid_empty:18647 (84.91347905282332%)\n"
     ]
    }
   ],
   "source": [
    "def compute_goc_params(h):\n",
    "    Transverse_range = h.MFyrange\n",
    "    Horizontal_range = h.MFxrange\n",
    "    Vertical_range = h.GLdepth + 50\n",
    "\n",
    "    Volume = Transverse_range * Horizontal_range * Vertical_range\n",
    "\n",
    "    d_goc = h.GoCdensity\n",
    "    n_goc = int(d_goc * Volume * 1e-9)\n",
    "    return ((Horizontal_range, Transverse_range, Vertical_range), n_goc)\n",
    "\n",
    "\n",
    "goc_box, n_goc = compute_goc_params(h)\n",
    "spacing_goc = 45.5 - 1  # 40 #(NH Barmack, V Yakhnitsa, 2008)\n",
    "\n",
    "goc_points = Bridson_sampling_3d(goc_box, spacing_goc, n_goc, True)\n",
    "goc_points = goc_points + np.random.normal(\n",
    "    0, 1, size=(len(goc_points), 3)\n",
    ")  # Gaussian noise\n",
    "\n",
    "\n",
    "np.savez(\n",
    "    \"coords_20190613_1.npz\",\n",
    "    mf=mf_points,\n",
    "    goc=goc_points\n",
    ")\n",
    "# _ = plt.hist(goc_points[:, 2], 50)"
   ]
  },
  {
   "cell_type": "code",
   "execution_count": null,
   "metadata": {},
   "outputs": [
    {
     "name": "stdout",
     "output_type": "stream",
     "text": [
      "N of Glomeruli = 165656\n"
     ]
    },
    {
     "data": {
      "application/vnd.jupyter.widget-view+json": {
       "model_id": "e3387833c3cf4b64a34c51330e06e1da",
       "version_major": 2,
       "version_minor": 0
      },
      "text/plain": [
       "HBox(children=(IntProgress(value=0, max=165656), HTML(value='')))"
      ]
     },
     "metadata": {},
     "output_type": "display_data"
    }
   ],
   "source": [
    "from sklearn.neighbors import KDTree\n",
    "\n",
    "goc_tree = KDTree(goc_points)\n",
    "d_goc_glo = 27 / 2 + (7.6) / 2 - 1\n",
    "\n",
    "scale_factor = 0.29/0.75\n",
    "\n",
    "def fgoc(x):\n",
    "    y = x.copy()\n",
    "    y[:, 1] = y[:, 1] / scale_factor\n",
    "    nnsearch = goc_tree.query_radius(y, r=d_goc_glo, count_only=True)\n",
    "    return nnsearch == 0\n",
    "\n",
    "\n",
    "def compute_glo_params(h):\n",
    "    Transverse_range = h.MFyrange\n",
    "    Horizontal_range = h.MFxrange\n",
    "    Vertical_range = h.GLdepth\n",
    "    Volume = Transverse_range * Horizontal_range * Vertical_range\n",
    "\n",
    "    MFdensity = h.MFdensity\n",
    "\n",
    "    box_fac = 2.5\n",
    "    Xinstantiate = 64 + 40  # 297+40\n",
    "    Yinstantiate = 84 + 40 * box_fac  # 474+40x*box_fac\n",
    "\n",
    "    d_grc = 1.9 * 1e6  # (Billings et al., 2014)\n",
    "    d_glo = d_grc*0.3\n",
    "#     d_glo = 6.6 * 1e5  # (Billings et al., 2014)\n",
    "    n_glo = int(d_glo * Volume * 1e-9)\n",
    "    print(\"N of Glomeruli = {}\".format(n_glo))\n",
    "\n",
    "    return ((Horizontal_range, int(Transverse_range*scale_factor+0.5) , Vertical_range), n_glo)\n",
    "\n",
    "\n",
    "# Glomerulus (Rosettes)\n",
    "globox, n_glo = compute_glo_params(h)\n",
    "\n",
    "# (Billings et al., 2014) Since glomeruli is elipsoid shape, I recalculated based on the spatial occupancy of glomeruli and its density. Also, I subtract 1 cuz I will give Gaussian noise\n",
    "spacing_glo = 8.5 - 1\n",
    "\n",
    "glo_points = Bridson_sampling_3d(globox, spacing_glo, n_glo, True, ftests=[fgoc])\n",
    "\n",
    "# Since glomerulus is stretched for Horizontal section, we will generate coordinates in small area at first, and then multiply it with 3. (Billings et al., 2014)\n",
    "glo_points[:, 1] = glo_points[:, 1]/scale_factor\n"
   ]
  },
  {
   "cell_type": "code",
   "execution_count": null,
   "metadata": {},
   "outputs": [],
   "source": [
    "np.savez(\n",
    "    \"coords_20190613_1.npz\",\n",
    "    mf=mf_points,\n",
    "    goc=goc_points,\n",
    "    glo=glo_points\n",
    ")\n"
   ]
  },
  {
   "cell_type": "code",
   "execution_count": 94,
   "metadata": {},
   "outputs": [
    {
     "data": {
      "image/png": "[encoded data removed]",
      "text/plain": [
       "<Figure size 432x288 with 1 Axes>"
      ]
     },
     "metadata": {
      "needs_background": "light"
     },
     "output_type": "display_data"
    }
   ],
   "source": [
    "_ = plt.hist(glo_points[:, 2], 100)"
   ]
  },
  {
   "cell_type": "code",
   "execution_count": null,
   "metadata": {},
   "outputs": [],
   "source": []
  },
  {
   "cell_type": "code",
   "execution_count": null,
   "metadata": {},
   "outputs": [],
   "source": [
    "d_goc_grc = 27 / 2 + 7.2 / 2 - 1\n",
    "\n",
    "\n",
    "def fgoc(x):\n",
    "    nnsearch = goc_tree.query_radius(x, r=d_goc_grc, count_only=True).astype(bool)\n",
    "    return nnsearch == 0\n",
    "\n",
    "\n",
    "glo_tree = KDTree(glo_points)\n",
    "d_glo_grc = 6.6 / 1.5 + 6 / 2 - 1\n",
    "\n",
    "\n",
    "def fglo(x):\n",
    "    nnsearch = glo_tree.query_radius(x, r=d_glo_grc, count_only=True).astype(bool)\n",
    "    return nnsearch == 0\n",
    "\n",
    "\n",
    "def compute_grc_params(h):\n",
    "    Transverse_range = h.MFyrange\n",
    "    Horizontal_range = h.MFxrange\n",
    "    Vertical_range = h.GLdepth\n",
    "    Volume = Transverse_range * Horizontal_range * Vertical_range\n",
    "\n",
    "    MFdensity = h.MFdensity\n",
    "\n",
    "    box_fac = 2.5\n",
    "    Xinstantiate = 64 + 40  # 297+40\n",
    "    Yinstantiate = 84 + 40 * box_fac  # 474+40x*box_fac\n",
    "\n",
    "    d_grc = 1.9 * 1e6  # (Billings et al., 2014)\n",
    "    n_grc = int(d_grc * Volume * 1e-9)\n",
    "\n",
    "    print(\"N of GrC = {}\".format(n_grc))\n",
    "\n",
    "    return ((Horizontal_range, Transverse_range, Vertical_range), n_grc)\n",
    "\n",
    "\n",
    "# (Billings et al., 2014) I subtract 1 because I will give Gaussian noise\n",
    "spacing_grc = 6 - 1\n",
    "\n",
    "grcbox, n_grc = compute_grc_params(h)\n",
    "grc_points = Bridson_sampling_3d(grcbox, spacing_grc, n_grc, True, ftests=[fgoc, fglo])"
   ]
  },
  {
   "cell_type": "code",
   "execution_count": null,
   "metadata": {},
   "outputs": [],
   "source": [
    "np.savez(\n",
    "    \"coords_20190604_1.npz\",\n",
    "    mf=mf_points,\n",
    "    goc=goc_points,\n",
    "    glo=glo_points,\n",
    "    grc_nop=grc_points,\n",
    ")"
   ]
  }
 ],
 "metadata": {
  "jupytext": {
   "cell_metadata_filter": "-all",
   "formats": "ipynb,py:hydrogen",
   "main_language": "python",
   "notebook_metadata_filter": "-all"
  },
  "kernelspec": {
   "display_name": "Python 3",
   "language": "python",
   "name": "python3"
  },
  "language_info": {
   "codemirror_mode": {
    "name": "ipython",
    "version": 3
   },
   "file_extension": ".py",
   "mimetype": "text/x-python",
   "name": "python",
   "nbconvert_exporter": "python",
   "pygments_lexer": "ipython3",
   "version": "3.6.8"
  }
 },
 "nbformat": 4,
 "nbformat_minor": 2
}
