{
 "cells": [
  {
   "cell_type": "code",
   "execution_count": 1,
   "metadata": {
    "lines_to_next_cell": 1
   },
   "outputs": [],
   "source": [
    "%load_ext autoreload\n",
    "%autoreload 2\n",
    "\n",
    "import sys\n",
    "sys.path.append('../../')"
   ]
  },
  {
   "cell_type": "code",
   "execution_count": 71,
   "metadata": {
    "lines_to_next_cell": 1
   },
   "outputs": [],
   "source": [
    "import numpy as np\n",
    "from neuron import h\n",
    "from pybrep.pop_generation.bridson import Bridson_sampling_2d, Bridson_sampling_3d\n",
    "\n",
    "h.load_file(\"../../test/set3005/Parameters.hoc\")\n",
    "h.MFxrange = 700\n",
    "h.MFxrange += 50\n",
    "h.MFyrange += 50\n",
    "h.GLdepth += 50"
   ]
  },
  {
   "cell_type": "code",
   "execution_count": 88,
   "metadata": {
    "lines_to_next_cell": 1
   },
   "outputs": [
    {
     "name": "stdout",
     "output_type": "stream",
     "text": [
      "N MF = 1859\n"
     ]
    },
    {
     "data": {
      "application/vnd.jupyter.widget-view+json": {
       "model_id": "6018054a4b74403ca712a34099c72f66",
       "version_major": 2,
       "version_minor": 0
      },
      "text/plain": [
       "HBox(children=(IntProgress(value=0, max=1859), HTML(value='')))"
      ]
     },
     "metadata": {},
     "output_type": "display_data"
    },
    {
     "data": {
      "application/vnd.jupyter.widget-view+json": {
       "model_id": "2069b1e884324e828c173171a4c96763",
       "version_major": 2,
       "version_minor": 0
      },
      "text/plain": [
       "HBox(children=(IntProgress(value=0, max=5460), HTML(value='')))"
      ]
     },
     "metadata": {},
     "output_type": "display_data"
    },
    {
     "name": "stdout",
     "output_type": "stream",
     "text": [
      "Iteration: 1065, (final)Points Created: 1859, is_grid_empty:3601 (65.95238095238095%)\n"
     ]
    }
   ],
   "source": [
    "fname = \"coords_20190613_2.npz\"\n",
    "\n",
    "def compute_mf_params(h):\n",
    "    Transverse_range = h.MFyrange\n",
    "    Horizontal_range = h.MFxrange\n",
    "    Vertical_range = h.GLdepth\n",
    "    Volume = Transverse_range * Horizontal_range * Vertical_range\n",
    "\n",
    "    MFdensity = h.MFdensity\n",
    "\n",
    "    box_fac = 2.5\n",
    "    Xinstantiate = 64 + 40  # 297+40\n",
    "    Yinstantiate = 84 + 40 * box_fac  # 474+40x*box_fac\n",
    "\n",
    "    n_mf = int(\n",
    "        (Transverse_range + (2 * Xinstantiate))\n",
    "        * (Horizontal_range + (2 * Yinstantiate))\n",
    "        * MFdensity\n",
    "        * 1e-6\n",
    "    )\n",
    "    print(\"N MF = {}\".format(n_mf))\n",
    "    return (\n",
    "        (Horizontal_range + (2 * Yinstantiate), Transverse_range + (2 * Xinstantiate)),\n",
    "        n_mf,\n",
    "    )\n",
    "\n",
    "\n",
    "mf_box, n_mf = compute_mf_params(h)\n",
    "\n",
    "spacing_mf = 20.5\n",
    "mf_points = Bridson_sampling_2d(mf_box, spacing_mf, n_mf, True)\n"
   ]
  },
  {
   "cell_type": "code",
   "execution_count": 75,
   "metadata": {},
   "outputs": [
    {
     "data": {
      "application/vnd.jupyter.widget-view+json": {
       "model_id": "7e17bf7df2724f9caaf435dec7796b79",
       "version_major": 2,
       "version_minor": 0
      },
      "text/plain": [
       "HBox(children=(IntProgress(value=0, max=1995), HTML(value='')))"
      ]
     },
     "metadata": {},
     "output_type": "display_data"
    },
    {
     "data": {
      "application/vnd.jupyter.widget-view+json": {
       "model_id": "1195168d077e4f90b2732f83889b05d7",
       "version_major": 2,
       "version_minor": 0
      },
      "text/plain": [
       "HBox(children=(IntProgress(value=0, max=13440), HTML(value='')))"
      ]
     },
     "metadata": {},
     "output_type": "display_data"
    },
    {
     "name": "stdout",
     "output_type": "stream",
     "text": [
      "Iteration: 2736, (final)Points Created: 1995, is_grid_empty:11445 (85.15625%)\n"
     ]
    }
   ],
   "source": [
    "def compute_goc_params(h):\n",
    "    Transverse_range = h.MFyrange\n",
    "    Horizontal_range = h.MFxrange\n",
    "    Vertical_range = h.GLdepth + 50\n",
    "\n",
    "    Volume = Transverse_range * Horizontal_range * Vertical_range\n",
    "\n",
    "    d_goc = h.GoCdensity\n",
    "    n_goc = int(d_goc * Volume * 1e-9)\n",
    "    return ((Horizontal_range, Transverse_range, Vertical_range), n_goc)\n",
    "\n",
    "\n",
    "goc_box, n_goc = compute_goc_params(h)\n",
    "spacing_goc = 45.5 - 1  # 40 #(NH Barmack, V Yakhnitsa, 2008)\n",
    "spacing_goc = 42.5 - 1  # 40 #(NH Barmack, V Yakhnitsa, 2008)\n",
    "\n",
    "\n",
    "goc_points = Bridson_sampling_3d(goc_box, spacing_goc, n_goc, True)\n",
    "goc_points = goc_points + np.random.normal(\n",
    "    0, 1, size=(len(goc_points), 3)\n",
    ")  # Gaussian noise\n",
    "\n",
    "\n",
    "np.savez(\n",
    "    fname,\n",
    "    mf=mf_points,\n",
    "    goc=goc_points\n",
    ")\n"
   ]
  },
  {
   "cell_type": "code",
   "execution_count": 81,
   "metadata": {},
   "outputs": [
    {
     "name": "stdout",
     "output_type": "stream",
     "text": [
      "N of Glomeruli = 102600\n"
     ]
    },
    {
     "data": {
      "application/vnd.jupyter.widget-view+json": {
       "model_id": "683ad77eae64452abac009d0b3743395",
       "version_major": 2,
       "version_minor": 0
      },
      "text/plain": [
       "HBox(children=(IntProgress(value=0, max=102600), HTML(value='')))"
      ]
     },
     "metadata": {},
     "output_type": "display_data"
    },
    {
     "data": {
      "application/vnd.jupyter.widget-view+json": {
       "model_id": "3c3ce5f2cbe54633a5c00fc1e7120150",
       "version_major": 2,
       "version_minor": 0
      },
      "text/plain": [
       "HBox(children=(IntProgress(value=0, max=1074150), HTML(value='')))"
      ]
     },
     "metadata": {},
     "output_type": "display_data"
    },
    {
     "name": "stdout",
     "output_type": "stream",
     "text": [
      "Iteration: 106, (final)Points Created: 102600, is_grid_empty:971543 (90.44760973793232%)\n"
     ]
    }
   ],
   "source": [
    "from pybrep.pop_generation.utils import PointCloud\n",
    "\n",
    "scale_factor = 0.29/0.75\n",
    "\n",
    "class GoC(PointCloud):\n",
    "    def test_points(self, x):\n",
    "        y = x.copy()\n",
    "        y[:, 1] = y[:, 1] / scale_factor\n",
    "        return super().test_points(y)\n",
    "\n",
    "d_goc_glo = 27 / 2 + (7.6) / 2 - 1 + 1/scale_factor\n",
    "goc = GoC(goc_points, d_goc_glo)\n",
    "\n",
    "def compute_glo_params(h):\n",
    "    Transverse_range = h.MFyrange\n",
    "    Horizontal_range = h.MFxrange\n",
    "    Vertical_range = h.GLdepth\n",
    "    Volume = Transverse_range * Horizontal_range * Vertical_range\n",
    "\n",
    "    MFdensity = h.MFdensity\n",
    "\n",
    "    box_fac = 2.5\n",
    "    Xinstantiate = 64 + 40  # 297+40\n",
    "    Yinstantiate = 84 + 40 * box_fac  # 474+40x*box_fac\n",
    "\n",
    "    d_grc = 1.9 * 1e6  # (Billings et al., 2014)\n",
    "    d_glo = d_grc*0.3\n",
    "#     d_glo = 6.6 * 1e5  # (Billings et al., 2014)\n",
    "    n_glo = int(d_glo * Volume * 1e-9)\n",
    "    print(\"N of Glomeruli = {}\".format(n_glo))\n",
    "\n",
    "    return ((Horizontal_range, int(Transverse_range*scale_factor+0.5) , Vertical_range), n_glo)\n",
    "\n",
    "\n",
    "# Glomerulus (Rosettes)\n",
    "globox, n_glo = compute_glo_params(h)\n",
    "\n",
    "# (Billings et al., 2014) Since glomeruli is elipsoid shape, I recalculated based on the spatial occupancy of glomeruli and its density. Also, I subtract 1 cuz I will give Gaussian noise\n",
    "spacing_glo = 8.5 - 1\n",
    "spacing_glo = 8 - 1\n",
    "\n",
    "glo_points = Bridson_sampling_3d(globox, spacing_glo, n_glo, True, ftests=[goc])\n",
    "\n",
    "# Since glomerulus is stretched for Horizontal section, we will generate coordinates in small area at first, and then multiply it with 3. (Billings et al., 2014)\n",
    "glo_points[:, 1] = glo_points[:, 1]/scale_factor\n",
    "\n"
   ]
  },
  {
   "cell_type": "code",
   "execution_count": 85,
   "metadata": {},
   "outputs": [],
   "source": [
    "glo_points1 = glo_points.copy()\n",
    "glo_points1[:, 1] = glo_points1[:, 1] * scale_factor\n",
    "glo_points1 = glo_points1 + np.random.normal(0, 1, size=(len(glo_points1), 3))\n",
    "glo_points1[:, 1] = glo_points1[:, 1] / scale_factor\n",
    "\n",
    "\n",
    "np.savez(\n",
    "    fname,\n",
    "    mf=mf_points,\n",
    "    goc=goc_points,\n",
    "    glo=glo_points1\n",
    ")\n"
   ]
  },
  {
   "cell_type": "code",
   "execution_count": 86,
   "metadata": {},
   "outputs": [
    {
     "name": "stdout",
     "output_type": "stream",
     "text": [
      "N of GrC = 342000\n"
     ]
    },
    {
     "data": {
      "application/vnd.jupyter.widget-view+json": {
       "model_id": "2bec8e3e39fb47c188f50e6213f8d47e",
       "version_major": 2,
       "version_minor": 0
      },
      "text/plain": [
       "HBox(children=(IntProgress(value=0, max=342000), HTML(value='')))"
      ]
     },
     "metadata": {},
     "output_type": "display_data"
    },
    {
     "data": {
      "application/vnd.jupyter.widget-view+json": {
       "model_id": "77cebe458b074a98a4ea1896a9a4ce47",
       "version_major": 2,
       "version_minor": 0
      },
      "text/plain": [
       "HBox(children=(IntProgress(value=0, max=7517120), HTML(value='')))"
      ]
     },
     "metadata": {},
     "output_type": "display_data"
    },
    {
     "name": "stdout",
     "output_type": "stream",
     "text": [
      "Iteration: 91, (final)Points Created: 342000, is_grid_empty:7174759 (95.44558288280618%)\n"
     ]
    }
   ],
   "source": [
    "np.savez(\n",
    "    fname,\n",
    "    mf=mf_points,\n",
    "    goc=goc_points,\n",
    "    glo=glo_points,\n",
    "    grc_nop=grc_points,\n",
    ")"
   ]
  },
  {
   "cell_type": "code",
   "execution_count": 87,
   "metadata": {},
   "outputs": [],
   "source": [
    "np.savez(\n",
    "    fname,\n",
    "    mf=mf_points,\n",
    "    goc=goc_points,\n",
    "    glo=glo_points1,\n",
    "    grc_nop=grc_points,\n",
    ")"
   ]
  },
  {
   "cell_type": "code",
   "execution_count": null,
   "metadata": {},
   "outputs": [],
   "source": []
  }
 ],
 "metadata": {
  "jupytext": {
   "cell_metadata_filter": "-all",
   "formats": "ipynb,py:hydrogen",
   "main_language": "python",
   "notebook_metadata_filter": "-all"
  },
  "kernelspec": {
   "display_name": "Python 3",
   "language": "python",
   "name": "python3"
  },
  "language_info": {
   "codemirror_mode": {
    "name": "ipython",
    "version": 3
   },
   "file_extension": ".py",
   "mimetype": "text/x-python",
   "name": "python",
   "nbconvert_exporter": "python",
   "pygments_lexer": "ipython3",
   "version": "3.6.8"
  }
 },
 "nbformat": 4,
 "nbformat_minor": 2
}
