{
 "cells": [
  {
   "cell_type": "code",
   "execution_count": null,
   "metadata": {},
   "outputs": [],
   "source": [
    "import pds_plots as ppl"
   ]
  },
  {
   "cell_type": "code",
   "execution_count": null,
   "metadata": {
    "lines_to_next_cell": 2
   },
   "outputs": [],
   "source": [
    "\n",
    "ppl.plot_mf_1(mf_points, [1500, 750], 4, save=True)\n",
    "ppl.plot_mf_2(mf_points, [1500, 750], save=True)"
   ]
  },
  {
   "cell_type": "code",
   "execution_count": null,
   "metadata": {},
   "outputs": [],
   "source": [
    "ppl.plot_goc(goc_points, [1500, 750], 100, 16, save=True)\n",
    "\n",
    "ppl.plot_glo(glo_points, [1500, 750], 50, 3.3)"
   ]
  },
  {
   "cell_type": "code",
   "execution_count": null,
   "metadata": {},
   "outputs": [],
   "source": [
    "ppl.plot_goc_glo((goc_points, 15), (glo_points, 6.6 / 2), [1500, 750], 100, save=True)\n",
    "plt.xlim([25, 425])\n",
    "plt.ylim([25, 225])"
   ]
  },
  {
   "cell_type": "code",
   "execution_count": null,
   "metadata": {},
   "outputs": [],
   "source": [
    "ppl.plot_goc_glo((glo_points, 6.6 / 1.75), (grc_points, 3), [1500, 750], 100)\n",
    "plt.xlim([25, 425])\n",
    "plt.ylim([25, 225])"
   ]
  },
  {
   "cell_type": "code",
   "execution_count": null,
   "metadata": {
    "lines_to_next_cell": 2
   },
   "outputs": [],
   "source": [
    "ppl.plot_all_pop(\n",
    "    (goc_points, 17),\n",
    "    (glo_points, 6.6 / 1.75),\n",
    "    (grc_points, 3),\n",
    "    [1500, 750],\n",
    "    100,\n",
    "    save=True,\n",
    ")\n",
    "plt.xlim([25, 425])\n",
    "plt.ylim([25, 225])"
   ]
  }
 ],
 "metadata": {
  "jupytext": {
   "cell_metadata_filter": "-all",
   "formats": "ipynb,py:hydrogen",
   "main_language": "python",
   "notebook_metadata_filter": "-all",
   "text_representation": {
    "extension": ".py",
    "format_name": "percent"
   }
  },
  "kernelspec": {
   "display_name": "Python 3",
   "language": "python",
   "name": "python3"
  },
  "language_info": {
   "codemirror_mode": {
    "name": "ipython",
    "version": 3
   },
   "file_extension": ".py",
   "mimetype": "text/x-python",
   "name": "python",
   "nbconvert_exporter": "python",
   "pygments_lexer": "ipython3",
   "version": "3.6.8"
  }
 },
 "nbformat": 4,
 "nbformat_minor": 2
}
