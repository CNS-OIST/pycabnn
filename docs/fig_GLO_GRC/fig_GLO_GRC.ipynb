{
 "cells": [
  {
   "cell_type": "code",
   "execution_count": 1,
   "metadata": {},
   "outputs": [],
   "source": [
    "# # Glomerulus - GrC connectivity\n",
    "import numpy as np\n",
    "import matplotlib.pyplot as plt"
   ]
  },
  {
   "cell_type": "code",
   "execution_count": 12,
   "metadata": {},
   "outputs": [],
   "source": [
    "fname = \"../fig_POPGEN/coords_20190626_1_1.npz\"\n",
    "f = np.load(fname)"
   ]
  },
  {
   "cell_type": "code",
   "execution_count": 13,
   "metadata": {},
   "outputs": [],
   "source": [
    "def limit_to_box(x, box):\n",
    "    mf = x.copy()\n",
    "    for i, t in enumerate(box):\n",
    "        mf = mf[mf[:, i] >= t[0], :]\n",
    "        mf = mf[mf[:, i] <= t[1], :]\n",
    "    return mf"
   ]
  },
  {
   "cell_type": "code",
   "execution_count": 14,
   "metadata": {},
   "outputs": [],
   "source": [
    "def print_range(goc):\n",
    "    print(\n",
    "        \"Current range:\\n\",\n",
    "        \"x: [{}, {}]\\n\".format(goc[:, 0].min(), goc[:, 0].max()),\n",
    "        \"y: [{}, {}]\\n\".format(goc[:, 1].min(), goc[:, 1].max()),\n",
    "        \"z: [{}, {}]\".format(goc[:, 2].min(), goc[:, 2].max()),\n",
    "    )"
   ]
  },
  {
   "cell_type": "code",
   "execution_count": 15,
   "metadata": {},
   "outputs": [],
   "source": [
    "def fix_coords(x, bbox):\n",
    "    y = x - 25\n",
    "    y = limit_to_box(y, bbox)\n",
    "    print_range(y)\n",
    "    return y"
   ]
  },
  {
   "cell_type": "code",
   "execution_count": 16,
   "metadata": {},
   "outputs": [
    {
     "name": "stdout",
     "output_type": "stream",
     "text": [
      "Current range:\n",
      " x: [0.003944765146023599, 699.9953144750888]\n",
      " y: [0.002694796591811155, 699.9975472714127]\n",
      " z: [0.005286919214093189, 199.99992334117667]\n",
      "Current range:\n",
      " x: [0.0003566497912323996, 699.9434720937548]\n",
      " y: [0.03680411733359179, 699.9969905094972]\n",
      " z: [0.0011508231361929688, 199.98956118528915]\n"
     ]
    }
   ],
   "source": [
    "bbox = [[0, 700], [0, 700], [0, 200]]\n",
    "grc = fix_coords(f['grc_nop'], bbox)\n",
    "glo = fix_coords(f['glo'], bbox)"
   ]
  },
  {
   "cell_type": "code",
   "execution_count": 18,
   "metadata": {},
   "outputs": [],
   "source": [
    "scale_factor = 1/3"
   ]
  },
  {
   "cell_type": "code",
   "execution_count": 19,
   "metadata": {},
   "outputs": [],
   "source": [
    "src = grc.copy()\n",
    "tgt = glo.copy()\n",
    "src[:, 1] = src[:, 1]*scale_factor\n",
    "tgt[:, 1] = tgt[:, 1]*scale_factor"
   ]
  },
  {
   "cell_type": "code",
   "execution_count": 20,
   "metadata": {},
   "outputs": [],
   "source": [
    "from sklearn.neighbors import NearestNeighbors"
   ]
  },
  {
   "cell_type": "code",
   "execution_count": 21,
   "metadata": {},
   "outputs": [],
   "source": [
    "nn = NearestNeighbors()\n",
    "nn.fit(tgt)\n",
    "# conns = nn.radius_neighbors(src, radius=8.7, return_distance=False)\n",
    "# nconns = np.frompyfunc(lambda x: x.size, 1, 1)(conns).astype(int)\n",
    "# _ = plt.hist(nconns,np.arange(nconns.max()))\n",
    "# print('Mean connection = {}'.format(np.mean(nconns))\n",
    "      \n",
    "conns = nn.kneighbors(src, n_neighbors=4, return_distance=False)\n"
   ]
  },
  {
   "cell_type": "code",
   "execution_count": 22,
   "metadata": {},
   "outputs": [
    {
     "data": {
      "text/plain": [
       "array([ 7.33505065, 11.38642138,  7.76195521, ..., 14.93118195,\n",
       "       11.473802  ,  7.51439112])"
      ]
     },
     "execution_count": 22,
     "metadata": {},
     "output_type": "execute_result"
    }
   ],
   "source": [
    "dendvs = np.vstack([glo[conn,:] - grc[i,:] for i, conn in enumerate(conns)])\n",
    "dendlens = np.sqrt((dendvs**2).sum(axis=-1))\n",
    "dendlens"
   ]
  },
  {
   "cell_type": "code",
   "execution_count": 23,
   "metadata": {},
   "outputs": [
    {
     "data": {
      "text/plain": [
       "11.737048416632037"
      ]
     },
     "execution_count": 23,
     "metadata": {},
     "output_type": "execute_result"
    }
   ],
   "source": [
    "dendlens.mean()"
   ]
  },
  {
   "cell_type": "code",
   "execution_count": 24,
   "metadata": {},
   "outputs": [],
   "source": [
    "dendvs = [glo[conn,:] - grc[i,:] for i, conn in enumerate(conns) if conn.size>0]"
   ]
  },
  {
   "cell_type": "code",
   "execution_count": 25,
   "metadata": {},
   "outputs": [
    {
     "data": {
      "text/plain": [
       "3.6308223908526287"
      ]
     },
     "execution_count": 25,
     "metadata": {},
     "output_type": "execute_result"
    }
   ],
   "source": [
    "dendvs[0][:,0].max()"
   ]
  },
  {
   "cell_type": "code",
   "execution_count": 26,
   "metadata": {},
   "outputs": [
    {
     "name": "stdout",
     "output_type": "stream",
     "text": [
      "9.0974682774357±2.5915822545564686\n"
     ]
    },
    {
     "data": {
      "image/png": "[encoded data removed]",
      "text/plain": [
       "<Figure size 432x288 with 1 Axes>"
      ]
     },
     "metadata": {
      "needs_background": "light"
     },
     "output_type": "display_data"
    }
   ],
   "source": [
    "ml_spread = np.array([z[:,0].max()-z[:,0].min() for z in dendvs])\n",
    "\n",
    "plt.hist(ml_spread)\n",
    "print('{}±{}'.format(ml_spread.mean(), ml_spread.std()))"
   ]
  },
  {
   "cell_type": "code",
   "execution_count": 27,
   "metadata": {
    "lines_to_next_cell": 0
   },
   "outputs": [
    {
     "name": "stdout",
     "output_type": "stream",
     "text": [
      "25.200369760709908±7.293581475760949\n"
     ]
    },
    {
     "data": {
      "image/png": "[encoded data removed]",
      "text/plain": [
       "<Figure size 432x288 with 1 Axes>"
      ]
     },
     "metadata": {
      "needs_background": "light"
     },
     "output_type": "display_data"
    }
   ],
   "source": [
    "sg_spread = np.array([z[:,1].max()-z[:,1].min() for z in dendvs])\n",
    "\n",
    "plt.hist(sg_spread)\n",
    "print('{}±{}'.format(sg_spread.mean(), sg_spread.std()))"
   ]
  }
 ],
 "metadata": {
  "@webio": {
   "lastCommId": null,
   "lastKernelId": null
  },
  "jupytext": {
   "formats": "ipynb,py:light"
  },
  "kernelspec": {
   "display_name": "Python 3",
   "language": "python",
   "name": "python3"
  },
  "language_info": {
   "codemirror_mode": {
    "name": "ipython",
    "version": 3
   },
   "file_extension": ".py",
   "mimetype": "text/x-python",
   "name": "python",
   "nbconvert_exporter": "python",
   "pygments_lexer": "ipython3",
   "version": "3.6.8"
  }
 },
 "nbformat": 4,
 "nbformat_minor": 2
}
