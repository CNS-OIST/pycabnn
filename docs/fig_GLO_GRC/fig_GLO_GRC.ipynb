{
 "cells": [
  {
   "cell_type": "code",
   "execution_count": 1,
   "metadata": {},
   "outputs": [],
   "source": [
    "# # Glomerulus - GrC connectivity\n",
    "import numpy as np\n",
    "import matplotlib.pyplot as plt"
   ]
  },
  {
   "cell_type": "code",
   "execution_count": 2,
   "metadata": {},
   "outputs": [],
   "source": [
    "fname = \"../fig_POPGEN/coords_20190614_1e.npz\"\n",
    "f = np.load(fname)"
   ]
  },
  {
   "cell_type": "code",
   "execution_count": 3,
   "metadata": {},
   "outputs": [],
   "source": [
    "def limit_to_box(x, box):\n",
    "    mf = x.copy()\n",
    "    for i, t in enumerate(box):\n",
    "        mf = mf[mf[:, i] >= t[0], :]\n",
    "        mf = mf[mf[:, i] <= t[1], :]\n",
    "    return mf"
   ]
  },
  {
   "cell_type": "code",
   "execution_count": 4,
   "metadata": {},
   "outputs": [],
   "source": [
    "def print_range(goc):\n",
    "    print(\n",
    "        \"Current range:\\n\",\n",
    "        \"x: [{}, {}]\\n\".format(goc[:, 0].min(), goc[:, 0].max()),\n",
    "        \"y: [{}, {}]\\n\".format(goc[:, 1].min(), goc[:, 1].max()),\n",
    "        \"z: [{}, {}]\".format(goc[:, 2].min(), goc[:, 2].max()),\n",
    "    )"
   ]
  },
  {
   "cell_type": "code",
   "execution_count": 5,
   "metadata": {},
   "outputs": [],
   "source": [
    "def fix_coords(x, bbox):\n",
    "    y = x - 25\n",
    "    y = limit_to_box(y, bbox)\n",
    "    print_range(y)\n",
    "    return y"
   ]
  },
  {
   "cell_type": "code",
   "execution_count": 6,
   "metadata": {},
   "outputs": [
    {
     "name": "stdout",
     "output_type": "stream",
     "text": [
      "Current range:\n",
      " x: [0.0002409080380090245, 699.9790169761062]\n",
      " y: [0.007936263447842151, 699.9952781289369]\n",
      " z: [0.003539723340455936, 199.99940619898615]\n",
      "Current range:\n",
      " x: [0.011901658401296089, 699.9840840289842]\n",
      " y: [0.01332209544780838, 699.9887123544025]\n",
      " z: [0.0012346484151777304, 199.9843226012892]\n"
     ]
    }
   ],
   "source": [
    "bbox = [[0, 700], [0, 700], [0, 200]]\n",
    "grc = fix_coords(f['grc_nop'], bbox)\n",
    "glo = fix_coords(f['glo'], bbox)"
   ]
  },
  {
   "cell_type": "code",
   "execution_count": 7,
   "metadata": {},
   "outputs": [],
   "source": [
    "scale_factor = 0.29/0.75"
   ]
  },
  {
   "cell_type": "code",
   "execution_count": 8,
   "metadata": {},
   "outputs": [],
   "source": [
    "src = grc.copy()\n",
    "tgt = glo.copy()\n",
    "src[:, 1] = src[:, 1]*scale_factor\n",
    "tgt[:, 1] = tgt[:, 1]*scale_factor"
   ]
  },
  {
   "cell_type": "code",
   "execution_count": 9,
   "metadata": {},
   "outputs": [],
   "source": [
    "from sklearn.neighbors import NearestNeighbors"
   ]
  },
  {
   "cell_type": "code",
   "execution_count": 72,
   "metadata": {},
   "outputs": [],
   "source": [
    "nn = NearestNeighbors()\n",
    "nn.fit(tgt)\n",
    "# conns = nn.radius_neighbors(src, radius=8.7, return_distance=False)\n",
    "# nconns = np.frompyfunc(lambda x: x.size, 1, 1)(conns).astype(int)\n",
    "# _ = plt.hist(nconns,np.arange(nconns.max()))\n",
    "# print('Mean connection = {}'.format(np.mean(nconns))\n",
    "      \n",
    "conns = nn.kneighbors(src, n_neighbors=4, return_distance=False)\n"
   ]
  },
  {
   "cell_type": "code",
   "execution_count": 73,
   "metadata": {},
   "outputs": [
    {
     "data": {
      "text/plain": [
       "array([13.16509278, 13.57178638,  9.60738532, ...,  7.56854438,\n",
       "       18.11835131,  7.75657078])"
      ]
     },
     "execution_count": 73,
     "metadata": {},
     "output_type": "execute_result"
    }
   ],
   "source": [
    "dendvs = np.vstack([glo[conn,:] - grc[i,:] for i, conn in enumerate(conns)])\n",
    "dendlens = np.sqrt((dendvs**2).sum(axis=-1))\n",
    "dendlens"
   ]
  },
  {
   "cell_type": "code",
   "execution_count": 74,
   "metadata": {},
   "outputs": [
    {
     "data": {
      "text/plain": [
       "11.015112458343552"
      ]
     },
     "execution_count": 74,
     "metadata": {},
     "output_type": "execute_result"
    }
   ],
   "source": [
    "dendlens.mean()"
   ]
  },
  {
   "cell_type": "code",
   "execution_count": 77,
   "metadata": {},
   "outputs": [],
   "source": [
    "dendvs = [glo[conn,:] - grc[i,:] for i, conn in enumerate(conns) if conn.size>0]"
   ]
  },
  {
   "cell_type": "code",
   "execution_count": 83,
   "metadata": {},
   "outputs": [
    {
     "data": {
      "text/plain": [
       "2.6574632560311784"
      ]
     },
     "execution_count": 83,
     "metadata": {},
     "output_type": "execute_result"
    }
   ],
   "source": [
    "dendvs[0][:,0].max()"
   ]
  },
  {
   "cell_type": "code",
   "execution_count": 86,
   "metadata": {},
   "outputs": [
    {
     "name": "stdout",
     "output_type": "stream",
     "text": [
      "9.541146179754625±2.6530019695687286\n"
     ]
    },
    {
     "data": {
      "image/png": "[encoded data removed]",
      "text/plain": [
       "<Figure size 432x288 with 1 Axes>"
      ]
     },
     "metadata": {
      "needs_background": "light"
     },
     "output_type": "display_data"
    }
   ],
   "source": [
    "ml_spread = np.array([z[:,0].max()-z[:,0].min() for z in dendvs])\n",
    "\n",
    "plt.hist(ml_spread)\n",
    "print('{}±{}'.format(ml_spread.mean(), ml_spread.std()))"
   ]
  },
  {
   "cell_type": "code",
   "execution_count": 88,
   "metadata": {},
   "outputs": [
    {
     "name": "stdout",
     "output_type": "stream",
     "text": [
      "22.797251225360878±6.4362907988582965\n"
     ]
    },
    {
     "data": {
      "image/png": "[encoded data removed]",
      "text/plain": [
       "<Figure size 432x288 with 1 Axes>"
      ]
     },
     "metadata": {
      "needs_background": "light"
     },
     "output_type": "display_data"
    }
   ],
   "source": [
    "sg_spread = np.array([z[:,1].max()-z[:,1].min() for z in dendvs])\n",
    "\n",
    "plt.hist(sg_spread)\n",
    "print('{}±{}'.format(sg_spread.mean(), sg_spread.std()))"
   ]
  },
  {
   "cell_type": "code",
   "execution_count": null,
   "metadata": {},
   "outputs": [],
   "source": []
  },
  {
   "cell_type": "code",
   "execution_count": 41,
   "metadata": {},
   "outputs": [
    {
     "data": {
      "text/plain": [
       "(array([ 1150.,  3176.,  5407.,  7743., 10363., 11594., 12596., 13224.,\n",
       "        13888., 14897., 15525., 16322., 16728., 17812., 18052., 18770.,\n",
       "        19389., 19682., 20183., 20513., 21381., 21567., 21538., 22014.,\n",
       "        22202., 21851., 22030., 21771., 21438., 21233., 20706., 20568.,\n",
       "        19745., 19334., 18813., 18066., 17535., 16859., 15958., 15652.,\n",
       "        14912., 13883., 13181., 12351., 11588., 10449.,  7716.,  5440.,\n",
       "         3248.,  1158.]),\n",
       " array([-8.68495624e+00, -8.33744220e+00, -7.98992815e+00, -7.64241411e+00,\n",
       "        -7.29490006e+00, -6.94738602e+00, -6.59987197e+00, -6.25235793e+00,\n",
       "        -5.90484388e+00, -5.55732984e+00, -5.20981579e+00, -4.86230175e+00,\n",
       "        -4.51478770e+00, -4.16727365e+00, -3.81975961e+00, -3.47224556e+00,\n",
       "        -3.12473152e+00, -2.77721747e+00, -2.42970343e+00, -2.08218938e+00,\n",
       "        -1.73467534e+00, -1.38716129e+00, -1.03964725e+00, -6.92133202e-01,\n",
       "        -3.44619157e-01,  2.89488866e-03,  3.50408934e-01,  6.97922979e-01,\n",
       "         1.04543702e+00,  1.39295107e+00,  1.74046512e+00,  2.08797916e+00,\n",
       "         2.43549321e+00,  2.78300725e+00,  3.13052130e+00,  3.47803534e+00,\n",
       "         3.82554939e+00,  4.17306343e+00,  4.52057748e+00,  4.86809152e+00,\n",
       "         5.21560557e+00,  5.56311961e+00,  5.91063366e+00,  6.25814770e+00,\n",
       "         6.60566175e+00,  6.95317579e+00,  7.30068984e+00,  7.64820389e+00,\n",
       "         7.99571793e+00,  8.34323198e+00,  8.69074602e+00]),\n",
       " <a list of 50 Patch objects>)"
      ]
     },
     "execution_count": 41,
     "metadata": {},
     "output_type": "execute_result"
    },
    {
     "data": {
      "image/png": "[encoded data removed]",
      "text/plain": [
       "<Figure size 432x288 with 1 Axes>"
      ]
     },
     "metadata": {
      "needs_background": "light"
     },
     "output_type": "display_data"
    }
   ],
   "source": [
    "plt.hist(dendvs[:,0], 50)"
   ]
  },
  {
   "cell_type": "code",
   "execution_count": 42,
   "metadata": {},
   "outputs": [
    {
     "data": {
      "text/plain": [
       "(array([ 1185.,  3134.,  5230.,  7495., 10331., 11597., 12461., 13043.,\n",
       "        13808., 14837., 15449., 16200., 16783., 17330., 17894., 18822.,\n",
       "        19545., 20103., 20406., 21046., 21355., 21971., 21796., 22021.,\n",
       "        22299., 22218., 22228., 22011., 21730., 21415., 20914., 20464.,\n",
       "        19821., 19271., 18777., 18064., 17458., 16788., 16182., 15447.,\n",
       "        14839., 13929., 12989., 12223., 11379., 10091.,  7647.,  5092.,\n",
       "         2992.,  1091.]),\n",
       " array([-8.68515492e+00, -8.33748794e+00, -7.98982097e+00, -7.64215399e+00,\n",
       "        -7.29448702e+00, -6.94682004e+00, -6.59915307e+00, -6.25148610e+00,\n",
       "        -5.90381912e+00, -5.55615215e+00, -5.20848517e+00, -4.86081820e+00,\n",
       "        -4.51315122e+00, -4.16548425e+00, -3.81781727e+00, -3.47015030e+00,\n",
       "        -3.12248332e+00, -2.77481635e+00, -2.42714938e+00, -2.07948240e+00,\n",
       "        -1.73181543e+00, -1.38414845e+00, -1.03648148e+00, -6.88814503e-01,\n",
       "        -3.41147528e-01,  6.51944621e-03,  3.54186421e-01,  7.01853395e-01,\n",
       "         1.04952037e+00,  1.39718734e+00,  1.74485432e+00,  2.09252129e+00,\n",
       "         2.44018827e+00,  2.78785524e+00,  3.13552222e+00,  3.48318919e+00,\n",
       "         3.83085617e+00,  4.17852314e+00,  4.52619012e+00,  4.87385709e+00,\n",
       "         5.22152406e+00,  5.56919104e+00,  5.91685801e+00,  6.26452499e+00,\n",
       "         6.61219196e+00,  6.95985894e+00,  7.30752591e+00,  7.65519289e+00,\n",
       "         8.00285986e+00,  8.35052684e+00,  8.69819381e+00]),\n",
       " <a list of 50 Patch objects>)"
      ]
     },
     "execution_count": 42,
     "metadata": {},
     "output_type": "execute_result"
    },
    {
     "data": {
      "image/png": "[encoded data removed]",
      "text/plain": [
       "<Figure size 432x288 with 1 Axes>"
      ]
     },
     "metadata": {
      "needs_background": "light"
     },
     "output_type": "display_data"
    }
   ],
   "source": [
    "plt.hist(dendvs[:,2], 50)"
   ]
  },
  {
   "cell_type": "code",
   "execution_count": null,
   "metadata": {},
   "outputs": [],
   "source": []
  }
 ],
 "metadata": {
  "@webio": {
   "lastCommId": null,
   "lastKernelId": null
  },
  "jupytext": {
   "formats": "ipynb,py:light"
  },
  "kernelspec": {
   "display_name": "Python 3",
   "language": "python",
   "name": "python3"
  },
  "language_info": {
   "codemirror_mode": {
    "name": "ipython",
    "version": 3
   },
   "file_extension": ".py",
   "mimetype": "text/x-python",
   "name": "python",
   "nbconvert_exporter": "python",
   "pygments_lexer": "ipython3",
   "version": "3.6.8"
  }
 },
 "nbformat": 4,
 "nbformat_minor": 2
}
