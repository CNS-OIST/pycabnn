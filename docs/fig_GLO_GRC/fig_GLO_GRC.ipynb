{
 "cells": [
  {
   "cell_type": "code",
   "execution_count": 5,
   "metadata": {},
   "outputs": [],
   "source": [
    "# # Glomerulus - GrC connectivity\n",
    "import numpy as np\n",
    "from tqdm.autonotebook import tqdm\n",
    "import matplotlib.pyplot as plt"
   ]
  },
  {
   "cell_type": "code",
   "execution_count": 6,
   "metadata": {},
   "outputs": [
    {
     "data": {
      "text/plain": [
       "(267187, 3)"
      ]
     },
     "execution_count": 6,
     "metadata": {},
     "output_type": "execute_result"
    }
   ],
   "source": [
    "fname = \"../fig_POPGEN/data/coords_20190626_1_6.npz\"\n",
    "f = np.load(fname)\n",
    "f['grc_nop'].shape"
   ]
  },
  {
   "cell_type": "code",
   "execution_count": 7,
   "metadata": {},
   "outputs": [],
   "source": [
    "def limit_to_box(x, box):\n",
    "    mf = x.copy()\n",
    "    for i, t in enumerate(box):\n",
    "        mf = mf[mf[:, i] >= t[0], :]\n",
    "        mf = mf[mf[:, i] <= t[1], :]\n",
    "    return mf"
   ]
  },
  {
   "cell_type": "code",
   "execution_count": 8,
   "metadata": {},
   "outputs": [],
   "source": [
    "def print_range(goc):\n",
    "    print(\n",
    "        \"Current range:\\n\",\n",
    "        \"x: [{}, {}]\\n\".format(goc[:, 0].min(), goc[:, 0].max()),\n",
    "        \"y: [{}, {}]\\n\".format(goc[:, 1].min(), goc[:, 1].max()),\n",
    "        \"z: [{}, {}]\".format(goc[:, 2].min(), goc[:, 2].max()),\n",
    "    )"
   ]
  },
  {
   "cell_type": "code",
   "execution_count": 9,
   "metadata": {},
   "outputs": [],
   "source": [
    "def fix_coords(x, bbox):\n",
    "    y = x - 25\n",
    "    y = limit_to_box(y, bbox)\n",
    "    print_range(y)\n",
    "    return y"
   ]
  },
  {
   "cell_type": "code",
   "execution_count": 10,
   "metadata": {},
   "outputs": [
    {
     "name": "stdout",
     "output_type": "stream",
     "text": [
      "Current range:\n",
      " x: [0.008738726727301582, 699.9951413085064]\n",
      " y: [0.0056677228167814064, 699.9989124811175]\n",
      " z: [0.0020255851778578915, 199.99996645157134]\n",
      "Current range:\n",
      " x: [0.0003566497912323996, 699.9434720937548]\n",
      " y: [0.03680411733359179, 699.9969905094972]\n",
      " z: [0.0011508231361929688, 199.98956118528915]\n"
     ]
    }
   ],
   "source": [
    "bbox = [[0, 700], [0, 700], [0, 200]]\n",
    "grc = fix_coords(f['grc_nop'], bbox)\n",
    "glo = fix_coords(f['glo'], bbox)\n",
    "grx = grc + np.random.randn(*grc.shape)*0.2"
   ]
  },
  {
   "cell_type": "code",
   "execution_count": 65,
   "metadata": {},
   "outputs": [],
   "source": [
    "grx = np.random.rand(*grx.shape)\n",
    "glo = np.random.rand(*glo.shape)\n",
    "\n",
    "grx[:,0] *= 700\n",
    "grx[:,1] *= 700\n",
    "grx[:,2] *= 200\n",
    "\n",
    "glo[:,0] *= 700\n",
    "glo[:,1] *= 700\n",
    "glo[:,2] *= 200"
   ]
  },
  {
   "cell_type": "code",
   "execution_count": 19,
   "metadata": {},
   "outputs": [],
   "source": [
    "scale_factor = 1/4\n",
    "\n",
    "# grx = grc + np.random.randn(*grc.shape)*0.2\n",
    "\n",
    "src = grx.copy()\n",
    "tgt = glo.copy()\n",
    "src[:, 1] *= scale_factor\n",
    "tgt[:, 1] *= scale_factor"
   ]
  },
  {
   "cell_type": "code",
   "execution_count": 20,
   "metadata": {},
   "outputs": [],
   "source": [
    "from sklearn.neighbors import NearestNeighbors"
   ]
  },
  {
   "cell_type": "code",
   "execution_count": 21,
   "metadata": {},
   "outputs": [
    {
     "name": "stdout",
     "output_type": "stream",
     "text": [
      "N conns = 4.430018674907865 ± 1.366111598344647\n"
     ]
    },
    {
     "data": {
      "image/png": "[encoded data removed]",
      "text/plain": [
       "<Figure size 432x288 with 1 Axes>"
      ]
     },
     "metadata": {
      "needs_background": "light"
     },
     "output_type": "display_data"
    }
   ],
   "source": [
    "rr = 7.85\n",
    "nn = NearestNeighbors()\n",
    "nn.fit(tgt)\n",
    "conns = nn.radius_neighbors(src, radius=rr, return_distance=False)\n",
    "nconns = np.frompyfunc(lambda x: x.size, 1, 1)(conns).astype(int)\n",
    "\n",
    "n_r, x_r, _ = plt.hist(nconns,np.arange(nconns.max()),100)\n",
    "print('N conns = {} ± {}'.format(np.mean(nconns), np.std(nconns)))\n",
    "      \n",
    "# conns = nn.kneighbors(src, n_neighbors=2, return_distance=False)"
   ]
  },
  {
   "cell_type": "code",
   "execution_count": 22,
   "metadata": {},
   "outputs": [
    {
     "name": "stdout",
     "output_type": "stream",
     "text": [
      "N conns = 4.430018674907865 ± 1.366111598344647\n"
     ]
    },
    {
     "data": {
      "image/png": "[encoded data removed]",
      "text/plain": [
       "<Figure size 432x288 with 1 Axes>"
      ]
     },
     "metadata": {
      "needs_background": "light"
     },
     "output_type": "display_data"
    }
   ],
   "source": [
    "nn = NearestNeighbors()\n",
    "nn.fit(tgt)\n",
    "conns = nn.radius_neighbors(src, radius=rr, return_distance=False)\n",
    "nconns = np.frompyfunc(lambda x: x.size, 1, 1)(conns).astype(int)\n",
    "nc, xc, _ = plt.hist(nconns, np.arange(nconns.max()), 100)\n",
    "print('N conns = {} ± {}'.format(np.mean(nconns), np.std(nconns)))\n",
    "      \n",
    "# conns = nn.kneighbors(src, n_neighbors=2, return_distance=False)"
   ]
  },
  {
   "cell_type": "code",
   "execution_count": 70,
   "metadata": {},
   "outputs": [
    {
     "data": {
      "text/plain": [
       "<BarContainer object of 10 artists>"
      ]
     },
     "execution_count": 70,
     "metadata": {},
     "output_type": "execute_result"
    },
    {
     "data": {
      "image/png": "[encoded data removed]",
      "text/plain": [
       "<Figure size 432x288 with 1 Axes>"
      ]
     },
     "metadata": {
      "needs_background": "light"
     },
     "output_type": "display_data"
    }
   ],
   "source": [
    "plt.bar(x_r[:-1], n_r, 1, alpha=0.5)\n",
    "plt.bar(xc[:-1], nc, 1, alpha=0.5)"
   ]
  },
  {
   "cell_type": "code",
   "execution_count": 64,
   "metadata": {},
   "outputs": [
    {
     "data": {
      "text/plain": [
       "0.641548079377487"
      ]
     },
     "execution_count": 64,
     "metadata": {},
     "output_type": "execute_result"
    }
   ],
   "source": [
    "1.364489593641605/2.126870358595118"
   ]
  },
  {
   "cell_type": "code",
   "execution_count": 16,
   "metadata": {},
   "outputs": [
    {
     "data": {
      "text/plain": [
       "array([ 7.8891964 ,  7.45201683,  7.59084105, ...,  7.47733495,\n",
       "       13.10967186,  7.52792657])"
      ]
     },
     "execution_count": 16,
     "metadata": {},
     "output_type": "execute_result"
    }
   ],
   "source": [
    "dendvs = np.vstack([glo[conn,:] - grc[i,:] for i, conn in enumerate(conns) if conn.size>1])\n",
    "dendlens = np.sqrt((dendvs**2).sum(axis=-1))\n",
    "dendlens"
   ]
  },
  {
   "cell_type": "code",
   "execution_count": 17,
   "metadata": {},
   "outputs": [
    {
     "name": "stdout",
     "output_type": "stream",
     "text": [
      "11.285368493422872±3.8292353573299285\n"
     ]
    },
    {
     "data": {
      "image/png": "[encoded data removed]",
      "text/plain": [
       "<Figure size 432x288 with 1 Axes>"
      ]
     },
     "metadata": {
      "needs_background": "light"
     },
     "output_type": "display_data"
    }
   ],
   "source": [
    "plt.hist(dendlens,500)\n",
    "plt.xlim([0, 40])\n",
    "plt.ylim([0, 5000])\n",
    "print('{}±{}'.format(dendlens.mean(), dendlens.std()))"
   ]
  },
  {
   "cell_type": "code",
   "execution_count": 18,
   "metadata": {},
   "outputs": [
    {
     "name": "stdout",
     "output_type": "stream",
     "text": [
      "7.746542431301045±3.0807047509466106\n",
      "22.023142228729444±8.618558943871323\n"
     ]
    },
    {
     "data": {
      "image/png": "[encoded data removed]",
      "text/plain": [
       "<Figure size 432x288 with 1 Axes>"
      ]
     },
     "metadata": {
      "needs_background": "light"
     },
     "output_type": "display_data"
    }
   ],
   "source": [
    "dendvs = [glo[conns[i],:] - grc[i,:] for i, conn in enumerate(conns) if conn.size>1]\n",
    "\n",
    "ml_spread = np.array([z[:,0].max()-z[:,0].min() for z in dendvs])\n",
    "\n",
    "plt.hist(ml_spread,100)\n",
    "print('{}±{}'.format(ml_spread.mean(), ml_spread.std()))\n",
    "\n",
    "sg_spread = np.array([z[:,1].max()-z[:,1].min() for z in dendvs])\n",
    "\n",
    "plt.hist(sg_spread,100)\n",
    "print('{}±{}'.format(sg_spread.mean(), sg_spread.std()))"
   ]
  },
  {
   "cell_type": "code",
   "execution_count": 47,
   "metadata": {},
   "outputs": [],
   "source": [
    "nn.fit(grx)\n",
    "dists, nnids = nn.kneighbors(grx, n_neighbors=2, return_distance=True)\n",
    "\n",
    "nn.fit(grc)\n",
    "dists_u, nnids = nn.kneighbors(grc, n_neighbors=2, return_distance=True)\n",
    "\n",
    "nnids = nnids[:,1]\n",
    "dists = dists[:,1]\n",
    "\n",
    "dists_u = dists_u[:,1]"
   ]
  },
  {
   "cell_type": "code",
   "execution_count": 48,
   "metadata": {},
   "outputs": [
    {
     "data": {
      "image/png": "[encoded data removed]",
      "text/plain": [
       "<Figure size 252.283x157.677 with 1 Axes>"
      ]
     },
     "metadata": {
      "needs_background": "light"
     },
     "output_type": "display_data"
    }
   ],
   "source": [
    "_, ax = plt.subplots(figsize=(8.9/2.54, 8.9/2.54*5/8))\n",
    "ax.hist(dists, 450, density=True, color='k')\n",
    "# _ = plt.hist(dists_u, 500)\n",
    "ax.set(\n",
    "    xlim=[5, 10],\n",
    "    xlabel='nearest neighbor distance (μm)',\n",
    "    ylabel='density'\n",
    ")\n",
    "plt.tight_layout()\n",
    "plt.savefig('nn_dist_hist.png', dpi=600)"
   ]
  },
  {
   "cell_type": "code",
   "execution_count": 52,
   "metadata": {},
   "outputs": [
    {
     "data": {
      "application/vnd.jupyter.widget-view+json": {
       "model_id": "ade270808b0442ff8bbcd7ddb1545c49",
       "version_major": 2,
       "version_minor": 0
      },
      "text/plain": [
       "HBox(children=(IntProgress(value=0, max=240), HTML(value='')))"
      ]
     },
     "metadata": {},
     "output_type": "display_data"
    },
    {
     "name": "stdout",
     "output_type": "stream",
     "text": [
      "\n"
     ]
    }
   ],
   "source": [
    "gry = limit_to_box(grx, [[30, 670], [30, 670], [30, 170]])\n",
    "\n",
    "nn = NearestNeighbors(n_jobs=-1)\n",
    "nn.fit(grx)\n",
    "\n",
    "from tqdm.autonotebook import tqdm\n",
    "\n",
    "mcounts = []\n",
    "sdcounts = []\n",
    "dists = np.linspace(0, 30, 240)\n",
    "for r in tqdm(dists):\n",
    "    count = np.frompyfunc(lambda x: x.size, 1, 1)(nn.radius_neighbors(\n",
    "        gry, radius=r, return_distance=False\n",
    "    )).astype(float) - 1\n",
    "    mcounts.append(count.mean())\n",
    "    sdcounts.append(count.std()/np.sqrt(count.size))\n",
    "# mcount = count.mean()\n",
    "# sdcount = count.std()\n",
    "# print('{} ± {}'.format(mcount, sdcount))"
   ]
  },
  {
   "cell_type": "code",
   "execution_count": 53,
   "metadata": {
    "lines_to_next_cell": 0,
    "scrolled": true
   },
   "outputs": [
    {
     "name": "stderr",
     "output_type": "stream",
     "text": [
      "/opt/anaconda3/lib/python3.7/site-packages/ipykernel_launcher.py:1: RuntimeWarning: invalid value encountered in true_divide\n",
      "  \"\"\"Entry point for launching an IPython kernel.\n"
     ]
    },
    {
     "data": {
      "image/png": "[encoded data removed]",
      "text/plain": [
       "<Figure size 252.283x157.677 with 1 Axes>"
      ]
     },
     "metadata": {
      "needs_background": "light"
     },
     "output_type": "display_data"
    }
   ],
   "source": [
    "cc2 = np.gradient(mcounts)/(dists**2)\n",
    "cc2_0 = cc2[-1]\n",
    "cc2 = cc2/cc2_0\n",
    "\n",
    "mcounts = np.array(mcounts)\n",
    "sdcounts = np.array(sdcounts)\n",
    "\n",
    "cc2_u = np.gradient(mcounts + 150*sdcounts)/(dists**2+0.001)/cc2_0\n",
    "cc2_d = np.gradient(mcounts - 150*sdcounts)/(dists**2+0.001)/cc2_0\n",
    "# plt.fill_between(dists, cc2_d, cc2_u)\n",
    "# plt.fill_between(dists, cc2_d, cc2_u, alpha=0.5)\n",
    "\n",
    "\n",
    "_, ax = plt.subplots(figsize=(8.9/2.54, 8.9/2.54*5/8))\n",
    "ax.plot(dists, cc2, 'k')\n",
    "ax.set(\n",
    "    ylim = [0, 3],\n",
    "    xlim = [0, 30],\n",
    "    xlabel='radial distance (μm)',\n",
    "    ylabel='pair correlation function'\n",
    ")\n",
    "plt.tight_layout()\n",
    "plt.savefig('cc2_grc.png', dpi=600)"
   ]
  },
  {
   "cell_type": "code",
   "execution_count": 47,
   "metadata": {
    "lines_to_next_cell": 2
   },
   "outputs": [],
   "source": []
  },
  {
   "cell_type": "code",
   "execution_count": 72,
   "metadata": {},
   "outputs": [],
   "source": [
    "scale_factor = 1/4\n",
    "gry = limit_to_box(grx, [[40, 660], [40/scale_factor, 700-40/scale_factor], [0, 200]])\n",
    "src = gry.copy()\n",
    "tgt = glo.copy()\n",
    "src[:, 1] *= scale_factor\n",
    "tgt[:, 1] *= scale_factor"
   ]
  },
  {
   "cell_type": "code",
   "execution_count": null,
   "metadata": {},
   "outputs": [
    {
     "data": {
      "application/vnd.jupyter.widget-view+json": {
       "model_id": "e07cb19ef109421f9c97d40da880871e",
       "version_major": 2,
       "version_minor": 0
      },
      "text/plain": [
       "HBox(children=(IntProgress(value=0, max=120), HTML(value='')))"
      ]
     },
     "metadata": {},
     "output_type": "display_data"
    }
   ],
   "source": [
    "nn = NearestNeighbors(n_jobs=-1)\n",
    "nn.fit(tgt)\n",
    "# conns = nn.radius_neighbors(src, radius=7, return_distance=False)\n",
    "# nconns = np.frompyfunc(lambda x: x.size, 1, 1)(conns).astype(int)\n",
    "# _ = plt.hist(nconns,np.arange(nconns.max()),100)\n",
    "# print('Mean connection = {}'.format(np.mean(nconns)))\n",
    "\n",
    "mcounts = []\n",
    "vcounts = []\n",
    "dists0 = np.linspace(1, 40, 120)\n",
    "for r in tqdm(dists0):\n",
    "    count = np.frompyfunc(lambda x: x.size, 1, 1)(nn.radius_neighbors(\n",
    "        src, radius=r, return_distance=False\n",
    "    )).astype(float)\n",
    "    mcounts.append(count.mean())\n",
    "    vcounts.append(count.var())"
   ]
  },
  {
   "cell_type": "code",
   "execution_count": 478,
   "metadata": {},
   "outputs": [],
   "source": [
    "mcounts0 = np.array(mcounts)\n",
    "vcounts0 = np.array(vcounts)"
   ]
  },
  {
   "cell_type": "code",
   "execution_count": 479,
   "metadata": {},
   "outputs": [],
   "source": [
    "ii = (mcounts0>0) * (mcounts0 < 60)\n",
    "mcounts = mcounts0[ii]\n",
    "dists = dists0[ii]\n",
    "vcounts = vcounts0[ii]"
   ]
  },
  {
   "cell_type": "code",
   "execution_count": 480,
   "metadata": {},
   "outputs": [],
   "source": [
    "mcr = np.interp(dists, dists_r, ((vcounts_r)/mcounts_r))"
   ]
  },
  {
   "cell_type": "code",
   "execution_count": 573,
   "metadata": {},
   "outputs": [
    {
     "data": {
      "image/png": "[encoded data removed]",
      "text/plain": [
       "<Figure size 252.283x157.677 with 1 Axes>"
      ]
     },
     "metadata": {
      "needs_background": "light"
     },
     "output_type": "display_data"
    }
   ],
   "source": [
    " _, ax = plt.subplots(figsize=(8.9/2.54, 8.9/2.54*5/8))\n",
    "#_, ax = plt.subplots()\n",
    "\n",
    "# ax.plot(\n",
    "#      mcounts, ((vcounts)/mcounts)/mcr, 'k',\n",
    "#      mcounts, mcr/mcr, '--g'\n",
    "# )\n",
    "\n",
    "\n",
    "ax.plot(\n",
    "    2.128*dists, (((vcounts)/mcounts)/mcr), 'k',\n",
    "    2.128*dists, mcr/mcr, '--g'\n",
    ")\n",
    "ax.plot(np.array([20.26, 20.26]), [0.31, 0.5], ':b')\n",
    "ax.annotate('6.1 glomeruli', [20.-1, 0.52], color='b')\n",
    "ax.plot(np.array([17.47, 17.47]), [0.31, 0.63], ':r')\n",
    "ax.annotate('4 glomeruli', [17.-3, 0.65], color='r')\n",
    "ax.annotate('50 glomeruli', [32., 0.75], color='c')\n",
    "ax.plot(np.array([42., 42.]), [0.31, 0.72], ':c')\n",
    "\n",
    "ax.annotate('random', [37, 0.93], color='g')\n",
    "\n",
    "ax.set(\n",
    "#     xticks=np.arange(0, 44, 4),\n",
    "    xlabel='average search range (μm)',\n",
    "    ylabel='Fano factor (normalized)'\n",
    ")\n",
    "\n",
    "plt.tight_layout()\n",
    "plt.savefig('var_conns.png', dpi=300)\n",
    "\n",
    "# plt.xlim([0, 60])\n",
    "\n",
    "# plt.ylim([-0.02, 0.02])"
   ]
  },
  {
   "cell_type": "code",
   "execution_count": 587,
   "metadata": {
    "lines_to_next_cell": 2
   },
   "outputs": [
    {
     "data": {
      "text/plain": [
       "[<matplotlib.lines.Line2D at 0x1a1f2b8e10>]"
      ]
     },
     "execution_count": 587,
     "metadata": {},
     "output_type": "execute_result"
    },
    {
     "data": {
      "image/png": "[encoded data removed]",
      "text/plain": [
       "<Figure size 252.283x157.677 with 1 Axes>"
      ]
     },
     "metadata": {
      "needs_background": "light"
     },
     "output_type": "display_data"
    }
   ],
   "source": [
    " _, ax = plt.subplots(figsize=(8.9/2.54, 8.9/2.54*5/8))\n",
    "#_, ax = plt.subplots()\n",
    "\n",
    "# ax.plot(\n",
    "#      mcounts, ((vcounts)/mcounts)/mcr, 'k',\n",
    "#      mcounts, mcr/mcr, '--g'\n",
    "# )\n",
    "\n",
    "\n",
    "ax.semilogy(\n",
    "    2.128*dists, mcounts, 'k'\n",
    ")\n"
   ]
  },
  {
   "cell_type": "code",
   "execution_count": 503,
   "metadata": {},
   "outputs": [
    {
     "name": "stdout",
     "output_type": "stream",
     "text": [
      "20.26070588235294\n",
      "6.1085867434394325\n",
      "50.30256740503632\n"
     ]
    }
   ],
   "source": [
    "print(2.128*dists[(((vcounts)/mcounts)/mcr).argmin()])\n",
    "print(mcounts[(((vcounts)/mcounts)/mcr).argmin()])\n",
    "print(mcounts[abs(dists-42/2.128).argmin()])\n",
    "# print(mcounts[abs(dists-40).argmin()])\n",
    "\n",
    "\n"
   ]
  },
  {
   "cell_type": "code",
   "execution_count": 186,
   "metadata": {
    "scrolled": true
   },
   "outputs": [
    {
     "data": {
      "text/plain": [
       "[<matplotlib.lines.Line2D at 0x1a1c8e8048>,\n",
       " <matplotlib.lines.Line2D at 0x1a1c9a3da0>]"
      ]
     },
     "execution_count": 186,
     "metadata": {},
     "output_type": "execute_result"
    },
    {
     "data": {
      "image/png": "[encoded data removed]",
      "text/plain": [
       "<Figure size 432x288 with 1 Axes>"
      ]
     },
     "metadata": {
      "needs_background": "light"
     },
     "output_type": "display_data"
    }
   ],
   "source": [
    "plt.semilogy(mcounts, (vcounts)/mcounts, 'k',\n",
    "         mcounts, (mcounts/86)**(4/3)+0.36)\n",
    "# plt.xlim([0, 80])"
   ]
  },
  {
   "cell_type": "code",
   "execution_count": 122,
   "metadata": {},
   "outputs": [
    {
     "data": {
      "text/plain": [
       "(0.3, 0.5)"
      ]
     },
     "execution_count": 122,
     "metadata": {},
     "output_type": "execute_result"
    },
    {
     "data": {
      "image/png": "[encoded data removed]",
      "text/plain": [
       "<Figure size 432x288 with 1 Axes>"
      ]
     },
     "metadata": {
      "needs_background": "light"
     },
     "output_type": "display_data"
    }
   ],
   "source": [
    "plt.plot(mcounts, (vcounts)/mcounts, 'k',\n",
    "         mcounts, (mcounts/86)**(4/3)+0.36)\n",
    "plt.xlim([0, 20])\n",
    "plt.ylim([0.3, 0.5])"
   ]
  },
  {
   "cell_type": "code",
   "execution_count": 94,
   "metadata": {},
   "outputs": [
    {
     "data": {
      "text/plain": [
       "[<matplotlib.lines.Line2D at 0x1a1bfcfa58>]"
      ]
     },
     "execution_count": 94,
     "metadata": {},
     "output_type": "execute_result"
    },
    {
     "data": {
      "image/png": "[encoded data removed]",
      "text/plain": [
       "<Figure size 432x288 with 1 Axes>"
      ]
     },
     "metadata": {
      "needs_background": "light"
     },
     "output_type": "display_data"
    }
   ],
   "source": [
    "plt.plot(dists, (vcounts)/mcounts)\n",
    "# plt.xlim([0, 20])"
   ]
  },
  {
   "cell_type": "code",
   "execution_count": 712,
   "metadata": {},
   "outputs": [
    {
     "data": {
      "text/plain": [
       "(0, 15)"
      ]
     },
     "execution_count": 712,
     "metadata": {},
     "output_type": "execute_result"
    },
    {
     "data": {
      "image/png": "[encoded data removed]",
      "text/plain": [
       "<Figure size 432x288 with 1 Axes>"
      ]
     },
     "metadata": {
      "needs_background": "light"
     },
     "output_type": "display_data"
    }
   ],
   "source": [
    "plt.plot(dists, mcounts, 'o-')\n",
    "plt.ylim([0, 15])"
   ]
  },
  {
   "cell_type": "code",
   "execution_count": 470,
   "metadata": {},
   "outputs": [],
   "source": [
    "mcounts_r = mcounts.copy()\n",
    "vcounts_r = vcounts.copy()\n",
    "dists_r = dists.copy()"
   ]
  },
  {
   "cell_type": "code",
   "execution_count": 185,
   "metadata": {},
   "outputs": [
    {
     "data": {
      "text/plain": [
       "[<matplotlib.lines.Line2D at 0x1a1bea2d68>]"
      ]
     },
     "execution_count": 185,
     "metadata": {},
     "output_type": "execute_result"
    },
    {
     "data": {
      "image/png": "[encoded data removed]",
      "text/plain": [
       "<Figure size 432x288 with 1 Axes>"
      ]
     },
     "metadata": {
      "needs_background": "light"
     },
     "output_type": "display_data"
    }
   ],
   "source": [
    "plt.loglog(mcounts_r, (vcounts_r)/mcounts_r)"
   ]
  },
  {
   "cell_type": "code",
   "execution_count": null,
   "metadata": {},
   "outputs": [],
   "source": []
  }
 ],
 "metadata": {
  "@webio": {
   "lastCommId": null,
   "lastKernelId": null
  },
  "jupytext": {
   "encoding": "# -*- coding: utf-8 -*-",
   "formats": "ipynb,py:light"
  },
  "kernelspec": {
   "display_name": "Python 3",
   "language": "python",
   "name": "python3"
  },
  "language_info": {
   "codemirror_mode": {
    "name": "ipython",
    "version": 3
   },
   "file_extension": ".py",
   "mimetype": "text/x-python",
   "name": "python",
   "nbconvert_exporter": "python",
   "pygments_lexer": "ipython3",
   "version": "3.7.4"
  }
 },
 "nbformat": 4,
 "nbformat_minor": 4
}
