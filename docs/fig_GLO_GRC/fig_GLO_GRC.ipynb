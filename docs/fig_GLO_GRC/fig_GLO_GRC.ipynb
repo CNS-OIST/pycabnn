{
 "cells": [
  {
   "cell_type": "code",
   "execution_count": 1,
   "metadata": {},
   "outputs": [],
   "source": [
    "# # Glomerulus - GrC connectivity\n",
    "import numpy as np\n",
    "import matplotlib.pyplot as plt"
   ]
  },
  {
   "cell_type": "code",
   "execution_count": 315,
   "metadata": {},
   "outputs": [
    {
     "data": {
      "text/plain": [
       "(212349, 3)"
      ]
     },
     "execution_count": 315,
     "metadata": {},
     "output_type": "execute_result"
    }
   ],
   "source": [
    "fname = \"../fig_POPGEN/coords_20190626_1_4.npz\"\n",
    "f = np.load(fname)\n",
    "f['grc_nop'].shape"
   ]
  },
  {
   "cell_type": "code",
   "execution_count": 316,
   "metadata": {},
   "outputs": [],
   "source": [
    "def limit_to_box(x, box):\n",
    "    mf = x.copy()\n",
    "    for i, t in enumerate(box):\n",
    "        mf = mf[mf[:, i] >= t[0], :]\n",
    "        mf = mf[mf[:, i] <= t[1], :]\n",
    "    return mf"
   ]
  },
  {
   "cell_type": "code",
   "execution_count": 317,
   "metadata": {},
   "outputs": [],
   "source": [
    "def print_range(goc):\n",
    "    print(\n",
    "        \"Current range:\\n\",\n",
    "        \"x: [{}, {}]\\n\".format(goc[:, 0].min(), goc[:, 0].max()),\n",
    "        \"y: [{}, {}]\\n\".format(goc[:, 1].min(), goc[:, 1].max()),\n",
    "        \"z: [{}, {}]\".format(goc[:, 2].min(), goc[:, 2].max()),\n",
    "    )"
   ]
  },
  {
   "cell_type": "code",
   "execution_count": 318,
   "metadata": {},
   "outputs": [],
   "source": [
    "def fix_coords(x, bbox):\n",
    "    y = x - 25\n",
    "    y = limit_to_box(y, bbox)\n",
    "    print_range(y)\n",
    "    return y"
   ]
  },
  {
   "cell_type": "code",
   "execution_count": 319,
   "metadata": {},
   "outputs": [
    {
     "name": "stdout",
     "output_type": "stream",
     "text": [
      "Current range:\n",
      " x: [0.0008549989220831833, 699.986297113957]\n",
      " y: [0.006435911091646318, 699.996080630667]\n",
      " z: [0.0007185494940316062, 199.99976741257763]\n",
      "Current range:\n",
      " x: [0.0003566497912323996, 699.9434720937548]\n",
      " y: [0.03680411733359179, 699.9969905094972]\n",
      " z: [0.0011508231361929688, 199.98956118528915]\n"
     ]
    }
   ],
   "source": [
    "bbox = [[0, 700], [0, 700], [0, 200]]\n",
    "grc = fix_coords(f['grc_nop'], bbox)\n",
    "glo = fix_coords(f['glo'], bbox)"
   ]
  },
  {
   "cell_type": "code",
   "execution_count": 342,
   "metadata": {},
   "outputs": [],
   "source": [
    "scale_factor = 1/5.5"
   ]
  },
  {
   "cell_type": "code",
   "execution_count": 343,
   "metadata": {},
   "outputs": [],
   "source": [
    "src = grx.copy()\n",
    "tgt = glo.copy()\n",
    "src[:, 1] *= scale_factor\n",
    "tgt[:, 1] *= scale_factor"
   ]
  },
  {
   "cell_type": "code",
   "execution_count": 344,
   "metadata": {},
   "outputs": [],
   "source": [
    "from sklearn.neighbors import NearestNeighbors"
   ]
  },
  {
   "cell_type": "code",
   "execution_count": 345,
   "metadata": {},
   "outputs": [],
   "source": [
    "nn = NearestNeighbors()\n",
    "nn.fit(tgt)\n",
    "# conns = nn.radius_neighbors(src, radius=7, return_distance=False)\n",
    "# nconns = np.frompyfunc(lambda x: x.size, 1, 1)(conns).astype(int)\n",
    "# _ = plt.hist(nconns,np.arange(nconns.max()),100)\n",
    "# print('Mean connection = {}'.format(np.mean(nconns)))\n",
    "      \n",
    "conns = nn.kneighbors(src, n_neighbors=4, return_distance=False)"
   ]
  },
  {
   "cell_type": "code",
   "execution_count": 346,
   "metadata": {},
   "outputs": [
    {
     "data": {
      "text/plain": [
       "array([10.99275749, 12.46118169, 10.14724923, ..., 16.46701368,\n",
       "        8.30000052, 28.4160095 ])"
      ]
     },
     "execution_count": 346,
     "metadata": {},
     "output_type": "execute_result"
    }
   ],
   "source": [
    "dendvs = np.vstack([glo[conn,:] - grc[i,:] for i, conn in enumerate(conns) if conn.size>1])\n",
    "dendlens = np.sqrt((dendvs**2).sum(axis=-1))\n",
    "dendlens"
   ]
  },
  {
   "cell_type": "code",
   "execution_count": 347,
   "metadata": {},
   "outputs": [
    {
     "name": "stdout",
     "output_type": "stream",
     "text": [
      "16.60390238850449±7.946743327086621\n"
     ]
    },
    {
     "data": {
      "image/png": "[encoded data removed]",
      "text/plain": [
       "<Figure size 432x288 with 1 Axes>"
      ]
     },
     "metadata": {
      "needs_background": "light"
     },
     "output_type": "display_data"
    }
   ],
   "source": [
    "plt.hist(dendlens,500)\n",
    "plt.xlim([7.5, 40])\n",
    "print('{}±{}'.format(dendlens.mean(), dendlens.std()))"
   ]
  },
  {
   "cell_type": "code",
   "execution_count": 348,
   "metadata": {},
   "outputs": [
    {
     "name": "stdout",
     "output_type": "stream",
     "text": [
      "7.281630819227872±2.327065346940019\n",
      "40.08056804103227±11.326421144759417\n"
     ]
    },
    {
     "data": {
      "image/png": "[encoded data removed]",
      "text/plain": [
       "<Figure size 432x288 with 1 Axes>"
      ]
     },
     "metadata": {
      "needs_background": "light"
     },
     "output_type": "display_data"
    }
   ],
   "source": [
    "dendvs = [glo[conns[i],:] - grc[i,:] for i, conn in enumerate(conns) if conn.size>1]\n",
    "\n",
    "ml_spread = np.array([z[:,0].max()-z[:,0].min() for z in dendvs])\n",
    "\n",
    "plt.hist(ml_spread,100)\n",
    "print('{}±{}'.format(ml_spread.mean(), ml_spread.std()))\n",
    "\n",
    "sg_spread = np.array([z[:,1].max()-z[:,1].min() for z in dendvs])\n",
    "\n",
    "plt.hist(sg_spread,100)\n",
    "print('{}±{}'.format(sg_spread.mean(), sg_spread.std()))"
   ]
  },
  {
   "cell_type": "code",
   "execution_count": 327,
   "metadata": {},
   "outputs": [],
   "source": [
    "grx = grc + np.random.randn(*grc.shape)*0.25\n",
    "nn.fit(grx)\n",
    "dists, nnids = nn.kneighbors(grx, n_neighbors=2, return_distance=True)\n",
    "\n",
    "nn.fit(grc)\n",
    "dists_u, nnids = nn.kneighbors(grc, n_neighbors=2, return_distance=True)\n",
    "\n",
    "nnids = nnids[:,1]\n",
    "dists = dists[:,1]\n",
    "\n",
    "dists_u = dists_u[:,1]"
   ]
  },
  {
   "cell_type": "code",
   "execution_count": 300,
   "metadata": {},
   "outputs": [
    {
     "data": {
      "text/plain": [
       "(4, 10)"
      ]
     },
     "execution_count": 300,
     "metadata": {},
     "output_type": "execute_result"
    },
    {
     "data": {
      "image/png": "[encoded data removed]",
      "text/plain": [
       "<Figure size 432x288 with 1 Axes>"
      ]
     },
     "metadata": {
      "needs_background": "light"
     },
     "output_type": "display_data"
    }
   ],
   "source": [
    "_ = plt.hist(dists, 500)\n",
    "# _ = plt.hist(dists_u, 500)\n",
    "plt.xlim([4, 10])"
   ]
  },
  {
   "cell_type": "code",
   "execution_count": 353,
   "metadata": {},
   "outputs": [],
   "source": [
    "gry = limit_to_box(grx, [[30, 670], [30, 670], [30, 170]])\n",
    "\n",
    "nn = NearestNeighbors(n_jobs=-1)\n",
    "nn.fit(grx)\n",
    "\n",
    "from tqdm.autonotebook import tqdm\n",
    "\n",
    "mcounts = []\n",
    "sdcounts = []\n",
    "dists = np.linspace(0, 30, 120)\n",
    "for r in tqdm(dists):\n",
    "    count = np.frompyfunc(lambda x: x.size, 1, 1)(nn.radius_neighbors(\n",
    "        gry, radius=r, return_distance=False\n",
    "    )).astype(float) - 1\n",
    "    mcounts.append(count.mean())\n",
    "    sdcounts.append(count.std()/np.sqrt(count.size))\n",
    "# mcount = count.mean()\n",
    "# sdcount = count.std()\n",
    "# print('{} ± {}'.format(mcount, sdcount))\n",
    "\n",
    "cc2 = np.gradient(mcounts)/(dists**2)\n",
    "cc2_0 = cc2[-1]\n",
    "cc2 = cc2/cc2_0\n",
    "plt.plot(dists, cc2)\n",
    "\n",
    "mcounts = np.array(mcounts)\n",
    "sdcounts = np.array(sdcounts)\n",
    "\n",
    "_, ax = plt.\n",
    "cc2_u = np.gradient(mcounts + 150*sdcounts)/(dists**2+0.001)/cc2_0\n",
    "cc2_d = np.gradient(mcounts - 150*sdcounts)/(dists**2+0.001)/cc2_0\n",
    "# plt.fill_between(dists, cc2_d, cc2_u)\n",
    "plt.fill_between(dists, cc2_d, cc2_u, alpha=0.5)\n",
    "plt.plot(dists, cc2, 'k')"
   ]
  },
  {
   "cell_type": "code",
   "execution_count": 521,
   "metadata": {},
   "outputs": [],
   "source": [
    "scale_factor = 1/3\n",
    "gry = limit_to_box(grx, [[40, 660], [40/scale_factor, 700-40/scale_factor], [0, 200]])\n",
    "src = gry.copy()\n",
    "tgt = glo.copy()\n",
    "src[:, 1] *= scale_factor\n",
    "tgt[:, 1] *= scale_factor"
   ]
  },
  {
   "cell_type": "code",
   "execution_count": 523,
   "metadata": {},
   "outputs": [
    {
     "data": {
      "application/vnd.jupyter.widget-view+json": {
       "model_id": "0ec7535c1168431baf9d6d4b6313c372",
       "version_major": 2,
       "version_minor": 0
      },
      "text/plain": [
       "HBox(children=(IntProgress(value=0, max=120), HTML(value='')))"
      ]
     },
     "metadata": {},
     "output_type": "display_data"
    }
   ],
   "source": [
    "nn = NearestNeighbors(n_jobs=-1)\n",
    "nn.fit(tgt)\n",
    "# conns = nn.radius_neighbors(src, radius=7, return_distance=False)\n",
    "# nconns = np.frompyfunc(lambda x: x.size, 1, 1)(conns).astype(int)\n",
    "# _ = plt.hist(nconns,np.arange(nconns.max()),100)\n",
    "# print('Mean connection = {}'.format(np.mean(nconns)))\n",
    "\n",
    "mcounts = []\n",
    "vcounts = []\n",
    "dists0 = np.linspace(0, 40, 120)\n",
    "for r in tqdm(dists0):\n",
    "    count = np.frompyfunc(lambda x: x.size, 1, 1)(nn.radius_neighbors(\n",
    "        src, radius=r, return_distance=False\n",
    "    )).astype(float)\n",
    "    mcounts.append(count.mean())\n",
    "    vcounts.append(count.var())"
   ]
  },
  {
   "cell_type": "code",
   "execution_count": 524,
   "metadata": {},
   "outputs": [],
   "source": [
    "mcounts0 = np.array(mcounts)\n",
    "vcounts0 = np.array(vcounts)"
   ]
  },
  {
   "cell_type": "code",
   "execution_count": 659,
   "metadata": {},
   "outputs": [],
   "source": [
    "dists0 = np.linspace(0, 40, 120)\n",
    "\n",
    "\n",
    "ii = (mcounts0>0) * (mcounts0 < 80)\n",
    "mcounts = mcounts0[ii]\n",
    "dists = dists0[ii]\n",
    "vcounts = vcounts0[ii]"
   ]
  },
  {
   "cell_type": "code",
   "execution_count": 705,
   "metadata": {
    "scrolled": true
   },
   "outputs": [
    {
     "data": {
      "text/plain": [
       "[<matplotlib.lines.Line2D at 0x1a357bf780>,\n",
       " <matplotlib.lines.Line2D at 0x1a357bf8d0>]"
      ]
     },
     "execution_count": 705,
     "metadata": {},
     "output_type": "execute_result"
    },
    {
     "data": {
      "image/png": "[encoded data removed]",
      "text/plain": [
       "<Figure size 432x288 with 1 Axes>"
      ]
     },
     "metadata": {
      "needs_background": "light"
     },
     "output_type": "display_data"
    }
   ],
   "source": [
    "plt.plot(mcounts, (vcounts)/mcounts, mcounts, (mcounts/86)**(4/3)+0.36)\n",
    "# plt.xlim([0, 20])"
   ]
  },
  {
   "cell_type": "code",
   "execution_count": 706,
   "metadata": {},
   "outputs": [
    {
     "data": {
      "text/plain": [
       "[<matplotlib.lines.Line2D at 0x1a3abe0710>]"
      ]
     },
     "execution_count": 706,
     "metadata": {},
     "output_type": "execute_result"
    },
    {
     "data": {
      "image/png": "[encoded data removed]",
      "text/plain": [
       "<Figure size 432x288 with 1 Axes>"
      ]
     },
     "metadata": {
      "needs_background": "light"
     },
     "output_type": "display_data"
    }
   ],
   "source": [
    "plt.plot(dists, (vcounts)/mcounts)\n",
    "# plt.xlim([0, 20])"
   ]
  },
  {
   "cell_type": "code",
   "execution_count": 712,
   "metadata": {},
   "outputs": [
    {
     "data": {
      "text/plain": [
       "(0, 15)"
      ]
     },
     "execution_count": 712,
     "metadata": {},
     "output_type": "execute_result"
    },
    {
     "data": {
      "image/png": "[encoded data removed]",
      "text/plain": [
       "<Figure size 432x288 with 1 Axes>"
      ]
     },
     "metadata": {
      "needs_background": "light"
     },
     "output_type": "display_data"
    }
   ],
   "source": [
    "plt.plot(dists, mcounts, 'o-')\n",
    "plt.ylim([0, 15])\n",
    "\n"
   ]
  },
  {
   "cell_type": "code",
   "execution_count": null,
   "metadata": {},
   "outputs": [],
   "source": []
  }
 ],
 "metadata": {
  "@webio": {
   "lastCommId": null,
   "lastKernelId": null
  },
  "jupytext": {
   "formats": "ipynb,py:light"
  },
  "kernelspec": {
   "display_name": "Python 3",
   "language": "python",
   "name": "python3"
  },
  "language_info": {
   "codemirror_mode": {
    "name": "ipython",
    "version": 3
   },
   "file_extension": ".py",
   "mimetype": "text/x-python",
   "name": "python",
   "nbconvert_exporter": "python",
   "pygments_lexer": "ipython3",
   "version": "3.6.8"
  }
 },
 "nbformat": 4,
 "nbformat_minor": 2
}
