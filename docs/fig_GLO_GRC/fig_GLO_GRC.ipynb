{
 "cells": [
  {
   "cell_type": "code",
   "execution_count": 2,
   "metadata": {},
   "outputs": [],
   "source": [
    "# # Glomerulus - GrC connectivity\n",
    "import numpy as np\n",
    "import matplotlib.pyplot as plt"
   ]
  },
  {
   "cell_type": "code",
   "execution_count": 212,
   "metadata": {},
   "outputs": [
    {
     "data": {
      "text/plain": [
       "(267187, 3)"
      ]
     },
     "execution_count": 212,
     "metadata": {},
     "output_type": "execute_result"
    }
   ],
   "source": [
    "fname = \"../fig_POPGEN/coords_20190626_1_4.npz\"\n",
    "f = np.load(fname)\n",
    "f['grc_nop'].shape"
   ]
  },
  {
   "cell_type": "code",
   "execution_count": 213,
   "metadata": {},
   "outputs": [],
   "source": [
    "def limit_to_box(x, box):\n",
    "    mf = x.copy()\n",
    "    for i, t in enumerate(box):\n",
    "        mf = mf[mf[:, i] >= t[0], :]\n",
    "        mf = mf[mf[:, i] <= t[1], :]\n",
    "    return mf"
   ]
  },
  {
   "cell_type": "code",
   "execution_count": 214,
   "metadata": {},
   "outputs": [],
   "source": [
    "def print_range(goc):\n",
    "    print(\n",
    "        \"Current range:\\n\",\n",
    "        \"x: [{}, {}]\\n\".format(goc[:, 0].min(), goc[:, 0].max()),\n",
    "        \"y: [{}, {}]\\n\".format(goc[:, 1].min(), goc[:, 1].max()),\n",
    "        \"z: [{}, {}]\".format(goc[:, 2].min(), goc[:, 2].max()),\n",
    "    )"
   ]
  },
  {
   "cell_type": "code",
   "execution_count": 215,
   "metadata": {},
   "outputs": [],
   "source": [
    "def fix_coords(x, bbox):\n",
    "    y = x - 25\n",
    "    y = limit_to_box(y, bbox)\n",
    "    print_range(y)\n",
    "    return y"
   ]
  },
  {
   "cell_type": "code",
   "execution_count": 216,
   "metadata": {},
   "outputs": [
    {
     "name": "stdout",
     "output_type": "stream",
     "text": [
      "Current range:\n",
      " x: [0.00915224337234477, 699.9969142891243]\n",
      " y: [0.0002866683292097605, 699.9884065668228]\n",
      " z: [4.855103756540302e-05, 199.99788245973926]\n",
      "Current range:\n",
      " x: [0.0003566497912323996, 699.9434720937548]\n",
      " y: [0.03680411733359179, 699.9969905094972]\n",
      " z: [0.0011508231361929688, 199.98956118528915]\n"
     ]
    }
   ],
   "source": [
    "bbox = [[0, 700], [0, 700], [0, 200]]\n",
    "grc = fix_coords(f['grc_nop'], bbox)\n",
    "glo = fix_coords(f['glo'], bbox)"
   ]
  },
  {
   "cell_type": "code",
   "execution_count": 238,
   "metadata": {},
   "outputs": [],
   "source": [
    "scale_factor = 1/5.5"
   ]
  },
  {
   "cell_type": "code",
   "execution_count": 239,
   "metadata": {},
   "outputs": [],
   "source": [
    "src = grc.copy()\n",
    "tgt = glo.copy()\n",
    "src[:, 1] *= scale_factor\n",
    "tgt[:, 1] *= scale_factor"
   ]
  },
  {
   "cell_type": "code",
   "execution_count": 240,
   "metadata": {},
   "outputs": [],
   "source": [
    "from sklearn.neighbors import NearestNeighbors"
   ]
  },
  {
   "cell_type": "code",
   "execution_count": 241,
   "metadata": {},
   "outputs": [],
   "source": [
    "nn = NearestNeighbors()\n",
    "nn.fit(tgt)\n",
    "# conns = nn.radius_neighbors(src, radius=8.7, return_distance=False)\n",
    "# nconns = np.frompyfunc(lambda x: x.size, 1, 1)(conns).astype(int)\n",
    "# _ = plt.hist(nconns,np.arange(nconns.max()))\n",
    "# print('Mean connection = {}'.format(np.mean(nconns))\n",
    "      \n",
    "conns = nn.kneighbors(src, n_neighbors=4, return_distance=False)\n"
   ]
  },
  {
   "cell_type": "code",
   "execution_count": 242,
   "metadata": {},
   "outputs": [
    {
     "data": {
      "text/plain": [
       "array([ 9.49117616,  9.00777628, 23.7390856 , ...,  8.06249215,\n",
       "        7.63516275, 25.38042174])"
      ]
     },
     "execution_count": 242,
     "metadata": {},
     "output_type": "execute_result"
    }
   ],
   "source": [
    "dendvs = np.vstack([glo[conn,:] - grc[i,:] for i, conn in enumerate(conns)])\n",
    "dendlens = np.sqrt((dendvs**2).sum(axis=-1))\n",
    "dendlens"
   ]
  },
  {
   "cell_type": "code",
   "execution_count": 243,
   "metadata": {},
   "outputs": [
    {
     "name": "stdout",
     "output_type": "stream",
     "text": [
      "16.17798946365197±8.026560123321726\n"
     ]
    },
    {
     "data": {
      "image/png": "[encoded data removed]",
      "text/plain": [
       "<Figure size 432x288 with 1 Axes>"
      ]
     },
     "metadata": {
      "needs_background": "light"
     },
     "output_type": "display_data"
    }
   ],
   "source": [
    "plt.hist(dendlens,100)\n",
    "print('{}±{}'.format(dendlens.mean(), dendlens.std()))"
   ]
  },
  {
   "cell_type": "code",
   "execution_count": 244,
   "metadata": {},
   "outputs": [
    {
     "name": "stdout",
     "output_type": "stream",
     "text": [
      "7.335330536577271±2.3363372753214393\n",
      "39.42741748932631±11.294430259277904\n"
     ]
    },
    {
     "data": {
      "image/png": "[encoded data removed]",
      "text/plain": [
       "<Figure size 432x288 with 1 Axes>"
      ]
     },
     "metadata": {
      "needs_background": "light"
     },
     "output_type": "display_data"
    }
   ],
   "source": [
    "dendvs = [glo[conns[i],:] - grc[i,:] for i, conn in enumerate(conns) if conn.size>0]\n",
    "\n",
    "ml_spread = np.array([z[:,0].max()-z[:,0].min() for z in dendvs])\n",
    "\n",
    "plt.hist(ml_spread,100)\n",
    "print('{}±{}'.format(ml_spread.mean(), ml_spread.std()))\n",
    "\n",
    "sg_spread = np.array([z[:,1].max()-z[:,1].min() for z in dendvs])\n",
    "\n",
    "plt.hist(sg_spread,100)\n",
    "print('{}±{}'.format(sg_spread.mean(), sg_spread.std()))"
   ]
  },
  {
   "cell_type": "code",
   "execution_count": null,
   "metadata": {},
   "outputs": [],
   "source": []
  },
  {
   "cell_type": "code",
   "execution_count": null,
   "metadata": {},
   "outputs": [],
   "source": []
  }
 ],
 "metadata": {
  "@webio": {
   "lastCommId": null,
   "lastKernelId": null
  },
  "jupytext": {
   "formats": "ipynb,py:light"
  },
  "kernelspec": {
   "display_name": "Python 3",
   "language": "python",
   "name": "python3"
  }
 },
 "nbformat": 4,
 "nbformat_minor": 2
}
