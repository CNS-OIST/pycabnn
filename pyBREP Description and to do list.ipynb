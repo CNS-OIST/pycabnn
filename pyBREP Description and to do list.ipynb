{
 "cells": [
  {
   "cell_type": "markdown",
   "metadata": {},
   "source": [
    "# pyBrep Description and to do list\n",
    "\n",
    "**Dear soon-to-be pyBrep enthusiast!**\n",
    "\n",
    "This notebook is supposed to help you get started with, use and further develope pyBREP. It contains\n",
    "- A quick overview over the structure\n",
    "- A documentation of the material that I used while developing that could possibly be helpful\n",
    "- Differences to the original (scheme) BREP\n",
    "- A to-do list containing known caveats and more nice-to-have things (and, if available, my initial ideas on how to tackle them)\n",
    "\n",
    "If you have any question, do not hesitate to contact me, I am happy to try and help! \n",
    "\n",
    "Best, Ines"
   ]
  },
  {
   "cell_type": "markdown",
   "metadata": {},
   "source": [
    "## Short overview over the structure of pyBREP\n",
    "\n",
    "pyBREP consists essentially of the following components:\n",
    "- **The population files**: So far there are only Golgi and Granule cell populations. Those populations contain routines to read in data from coordinate files, render cell structures (like dendrites or axons) by representing them with points or lines, to save those cell structures and to prepare so-called query points.\n",
    "- **Query_point** is a small class that contains the coordinates of the data points from one population, as well as other information (for example, each Golgi cell has a lot of points that represent the dendrites"
   ]
  },
  {
   "cell_type": "markdown",
   "metadata": {},
   "source": [
    "## List of to dos and nice-to-haves:"
   ]
  },
  {
   "cell_type": "markdown",
   "metadata": {},
   "source": [
    "### Population generation (caveat)\n",
    "Right now, the coordinates of the populations are generated from the simulation and pyBrep just reads them in.\n",
    "However, it seems as if those coordinates are 'not random enough': If you plot them as projections to the x-y or the y-z axis, you can see that there are 'stripes' in the z axis. With pyBrep, this leads to "
   ]
  },
  {
   "cell_type": "markdown",
   "metadata": {},
   "source": [
    "### Test the code with more dendrites\n",
    "I generally tried to make it possible that there is an arbitrary number of dendrites. But I did not really evaluate that. Sungho mentioned he might want to add more dendrites than there are currently existing."
   ]
  },
  {
   "cell_type": "markdown",
   "metadata": {},
   "source": [
    "### Multiple connections (will probably be fixed by Sungho in the big simulation)"
   ]
  },
  {
   "cell_type": "markdown",
   "metadata": {},
   "source": [
    "### Test varying aa length (talk to Sungho, that is probably more a new project...)"
   ]
  },
  {
   "cell_type": "markdown",
   "metadata": {},
   "source": [
    "## On the parameters.hoc file...\n",
    "PFzoffset\n",
    "- Dendrite_theta_min/max: They are actually just angle 1 and 2"
   ]
  }
 ],
 "metadata": {
  "kernelspec": {
   "display_name": "Python 3",
   "language": "python",
   "name": "python3"
  },
  "language_info": {
   "codemirror_mode": {
    "name": "ipython",
    "version": 3
   },
   "file_extension": ".py",
   "mimetype": "text/x-python",
   "name": "python",
   "nbconvert_exporter": "python",
   "pygments_lexer": "ipython3",
   "version": "3.5.2"
  },
  "toc": {
   "nav_menu": {},
   "number_sections": true,
   "sideBar": true,
   "skip_h1_title": true,
   "toc_cell": false,
   "toc_position": {},
   "toc_section_display": "block",
   "toc_window_display": false
  },
  "varInspector": {
   "cols": {
    "lenName": 16,
    "lenType": 16,
    "lenVar": 40
   },
   "kernels_config": {
    "python": {
     "delete_cmd_postfix": "",
     "delete_cmd_prefix": "del ",
     "library": "var_list.py",
     "varRefreshCmd": "print(var_dic_list())"
    },
    "r": {
     "delete_cmd_postfix": ") ",
     "delete_cmd_prefix": "rm(",
     "library": "var_list.r",
     "varRefreshCmd": "cat(var_dic_list()) "
    }
   },
   "types_to_exclude": [
    "module",
    "function",
    "builtin_function_or_method",
    "instance",
    "_Feature"
   ],
   "window_display": false
  }
 },
 "nbformat": 4,
 "nbformat_minor": 2
}
