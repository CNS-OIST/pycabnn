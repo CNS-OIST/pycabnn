{
 "cells": [
  {
   "cell_type": "markdown",
   "metadata": {},
   "source": [
    "# Testing Notebook\n",
    "\n",
    "The goal of this notebook is to test the code by visualizing connections and connectivity statistics.\n",
    "The connectivity part can deal with the whole simulation, the second part runs better on scaled-down versions.\n",
    "Some of the routines have predecessor routines in the BREP_Original_Output code, so results can be compared with the ones from the original BREP code.\n"
   ]
  },
  {
   "cell_type": "code",
   "execution_count": 1,
   "metadata": {
    "ExecuteTime": {
     "end_time": "2018-01-06T14:59:05.572229Z",
     "start_time": "2018-01-06T14:58:47.568998Z"
    }
   },
   "outputs": [],
   "source": [
    "import numpy as np\n",
    "import pandas as pd\n",
    "import matplotlib.pyplot as plt#\n",
    "import matplotlib as mpl\n",
    "import matplotlib.cm as cm\n",
    "from mpl_toolkits.mplot3d import Axes3D\n",
    "import csv\n",
    "import pickle\n",
    "\n",
    "%matplotlib inline"
   ]
  },
  {
   "cell_type": "markdown",
   "metadata": {},
   "source": [
    "## Utils"
   ]
  },
  {
   "cell_type": "markdown",
   "metadata": {},
   "source": [
    "### General and Read-In"
   ]
  },
  {
   "cell_type": "code",
   "execution_count": 2,
   "metadata": {
    "ExecuteTime": {
     "end_time": "2018-01-06T14:59:05.806116Z",
     "start_time": "2018-01-06T14:59:05.583780Z"
    }
   },
   "outputs": [],
   "source": [
    "def read_in_flat(fn, conv2int = False):\n",
    "    '''Reads in a flat list (first element of each line of the file)'''\n",
    "    with open (fn, newline = '') as f:\n",
    "        rr = csv.reader(f, delimiter = ' ')\n",
    "        if conv2int: res = [int(float(line[0])) for line in rr]\n",
    "        else: res = [float(line[0]) for line in rr]\n",
    "    return res\n",
    "\n",
    "def read_in_nested(fn, conv2int = False):\n",
    "    '''Reads in a nested list where each line of the file is converted to a list itself.'''\n",
    "    with open (fn, newline = '') as f:\n",
    "        rr = csv.reader(f, delimiter = ' ')\n",
    "        if conv2int: res = [[int(float(i)) for i in line] for line in rr]\n",
    "        else:res = [[float(i) for i in line] for line in rr]\n",
    "    return res\n",
    "\n",
    "def read_in_multiple (fn_begin, fn_end, nested, conv2int = False, ind_start = 0, max_ind = 10000):\n",
    "    '''Reads in data from multiple files with similar names and  concatenates them.\n",
    "    Filename convention: fn_begin + str(id) + fn_end, where id is increased step by step until no more file is found.\n",
    "    If nested, each line of the file will be converted to an extra list.'''\n",
    "    new_file = True\n",
    "    cur_id = int(ind_start)\n",
    "    res = []\n",
    "    while new_file and cur_id<=max_ind:\n",
    "        fn_no = fn_begin + str(cur_id)+fn_end\n",
    "        try: \n",
    "            if nested: subres = read_in_nested (fn_no, conv2int)\n",
    "            else: subres = read_in_flat (fn_no, conv2int)\n",
    "        except: break\n",
    "        res.extend(subres)\n",
    "        cur_id = cur_id+1\n",
    "    return res\n",
    "\n",
    "def read_in_coordfile (fn, parse_ignore = True, return_list = False):\n",
    "    '''\n",
    "    reads in the file stored under fn, packing each line in an array line (-> file should have the same number of elments in each line)\n",
    "    Returns a np array with the data.\n",
    "    If there is a problem parsing, this function will not break, however it will store it in a dict \n",
    "    If parse-ignore is set False, the number of unparsable signs as well as a set of them will be printed.\n",
    "    '''\n",
    "    res = []\n",
    "    with open (fn, newline = '') as f:\n",
    "        rr = csv.reader(f, delimiter = ' ')\n",
    "        err = []\n",
    "        for line in rr:\n",
    "            ar = []\n",
    "            for j in range(len(line)):\n",
    "                try: ar.append(float(line[j]))\n",
    "                except: err.append(line[j])\n",
    "            res.append(np.asarray(ar))\n",
    "    if len(err)> 0 and not parse_ignore: print ('Could not parse on {} instances: {}'.format(len(err), set(err)))\n",
    "    if return_list: return res\n",
    "    else: return np.asarray(res)\n",
    "\n",
    "def reshape_dendcoo (dends):\n",
    "    '''Reshape the 3D coordinates for the dendrite files, adding one dimension'''\n",
    "    return dends.reshape((len(dends), int(len(dends[0])/3), 3))\n",
    "    \n",
    "def select_region (grt, cts, xr, yr, zr, cr):\n",
    "    ''' Lets you find cells with defined propoerties: x,y,z-range, and with a number of connections in range cr\n",
    "    (all ranges in form [min, max]), returns indices'''\n",
    "    a = np.ones(len(grt))>0\n",
    "    for i, (j, k) in enumerate([xr,yr,zr]):\n",
    "        a = np.logical_and(a, grt[:,i]>=j)\n",
    "        a = np.logical_and(a, grt[:,i]<=k)\n",
    "    a = np.logical_and (a, cts>=cr[0])\n",
    "    a = np.logical_and (a, cts<=cr[1])\n",
    "    return np.where(a == True)[0]"
   ]
  },
  {
   "cell_type": "markdown",
   "metadata": {},
   "source": [
    "### Connectivity statistics"
   ]
  },
  {
   "cell_type": "code",
   "execution_count": 3,
   "metadata": {
    "ExecuteTime": {
     "end_time": "2018-01-06T14:59:06.230305Z",
     "start_time": "2018-01-06T14:59:05.819528Z"
    }
   },
   "outputs": [],
   "source": [
    "# This function does take into account cells with 0 connections\n",
    "def con_per_cell (ref, n_cells):\n",
    "    '''Finds the occurence of each number from 0 to n_cell-1 in ref\n",
    "    -> if ref contains source or target IDs, it is the number of connections for each ID'''\n",
    "    cs, c_counts = np.unique(ref, return_counts = True)\n",
    "    real_ccs = np.zeros(n_cells)\n",
    "    for i, c in enumerate( cs):\n",
    "        real_ccs[int(c-1)]\n",
    "        real_ccs[int(c-1)] = c_counts[i]\n",
    "    return real_ccs\n",
    "\n",
    "def quick_stats (ccs):\n",
    "    '''quick printout of a few characteristics for fast sanity checks'''\n",
    "    print ('Average number of connections:', np.mean(ccs))\n",
    "    print ('Standard dev:', np.std(ccs))\n",
    "    print ('Range:', min(ccs), '-', max(ccs))\n",
    "    \n",
    "    \n",
    "def con_per_cell_multifile (fn_begin, fn_end, n_cell):\n",
    "    '''Like the con_per_cell method, but can deal with data distributed over several files.\n",
    "    Finds the occurence of all indices from 0 to n_cell-1 in the file fn_begin\n",
    "    Filename convention: fn_begin + str(id) + fn_end, where id is increased step by step until no more file is found.'''\n",
    "    new_file = True\n",
    "    cur_id = 0\n",
    "    res = []\n",
    "    while new_file:\n",
    "        fn_no = fn_begin + str(cur_id)+fn_end\n",
    "        try: \n",
    "            subr = np.array(read_in_flat (fn_no, True))\n",
    "            subc = con_per_cell(subr, n_cell)\n",
    "        except:break\n",
    "        if len(res) == 0: res = subc\n",
    "        else: res = res+subc\n",
    "        cur_id = cur_id+1\n",
    "    return res\n",
    "\n",
    "def unique_con_per_cell (ref, ref2_gran,  idx = -1, return_conn = False):\n",
    "    ''' searches in ref for all indices given in idx and returns a unique list of the corresponding indices in ref2gran.\n",
    "    Intended use: ref as target, ref2_gran as source file returns all granule cell indices that connect to the Golgi cells specified in idx\n",
    "    Difference to con_per_cell: Lets you choose certain indices, returns, the IDs and not just counts, does not count diplicates'''\n",
    "    if type(idx) == int: idx = [idx]\n",
    "    if sum(idx) < 0: idx = np.arange(n_cell)\n",
    "    res = [[] for i in range(len(idx))]\n",
    "    n_r = np.zeros(len(idx))\n",
    "    for n,i in  enumerate(idx):\n",
    "        res[n] = list(np.unique(ref2_gran[ref == i]))\n",
    "        n_r[n] = len(res[n])\n",
    "        if i%1000 == 0: print (i)\n",
    "    return res, n_r\n",
    "\n",
    "def unique_con_per_cell_multifile (fn1_begin, fn2_begin, fn_end, idx = -1):\n",
    "    '''Like the unique_con_per_cell method, but allows for data distributed over severall files.\n",
    "    Filename convention: fn_begin + str(id) + fn_end, where id is increased step by step until no more file is found.'''\n",
    "    new_file = True\n",
    "    cur_id = 0\n",
    "    res = []\n",
    "    n_r = []\n",
    "    while new_file:\n",
    "        fn1_no = fn1_begin + str(cur_id)+fn_end\n",
    "        fn2_no = fn2_begin + str(cur_id)+fn_end\n",
    "        try: \n",
    "            ref = np.array(read_in_flat (fn1_no, True))\n",
    "            ref2_gr =  np.array(read_in_flat (fn2_no, True))\n",
    "        except: break\n",
    "            \n",
    "        sres, sn_r = unique_con_per_cell(ref, ref2_gr, idx)\n",
    "        if len(res) == 0: \n",
    "            res = sres.copy()\n",
    "            n_r = sn_r\n",
    "        else: \n",
    "            for i in range(len(res)):\n",
    "                res[i].append(sres[i])\n",
    "                n_r = n_r + sn_r\n",
    "        cur_id = cur_id+1\n",
    "    #if type(res) == int: res = [res]\n",
    "    for nr in range(len(res)):\n",
    "        rr = res[nr]\n",
    "        rnew = []\n",
    "        for c in rr:\n",
    "            if type(c) == list:\n",
    "                rnew.extend(c)\n",
    "            else: rnew.append(c)\n",
    "        res[nr] = rnew\n",
    "    return res, n_r\n"
   ]
  },
  {
   "cell_type": "markdown",
   "metadata": {
    "ExecuteTime": {
     "end_time": "2017-12-05T23:20:42.529423Z",
     "start_time": "2017-12-05T23:20:42.408354Z"
    }
   },
   "source": [
    "### Plotting"
   ]
  },
  {
   "cell_type": "code",
   "execution_count": 4,
   "metadata": {
    "ExecuteTime": {
     "end_time": "2018-01-06T14:59:06.450508Z",
     "start_time": "2018-01-06T14:59:06.246335Z"
    }
   },
   "outputs": [],
   "source": [
    "def label_graph (title, xlabel, ylabel):\n",
    "    plt.title (title)\n",
    "    plt.xlabel(xlabel)\n",
    "    plt.ylabel(ylabel)\n",
    "    \n",
    "def plot3d (ax, dat, *args, **kwargs):\n",
    "    '''plots points (or a single point) in 3D.\n",
    "    ax has to have 3d proj type: ax = plt.gcf().gca(projection='3d')\n",
    "    '''\n",
    "    if dat == []: return\n",
    "    if len(dat.shape) == 1: #if single dot\n",
    "        dat = np.expand_dims(dat, axis = 0)\n",
    "    ax.plot(dat[:,0], dat[:,1], dat[:,2], *args, **kwargs)\n",
    "    \n",
    "def plot_point_count_stats (coords, counts = [1], idx = -1, D3 = True, D2 = True, setdims2D = [-1, -1, -1]):\n",
    "    ''' Plots 3d or 2d projections of points, possibly color-coded:\n",
    "    coords = Coordinates of the population that is to be plotted.\n",
    "    counts: 1D array, same len as coords. e.g. the number of connections per cell. If set, this quantity will be color-coded.\n",
    "    idx: If set, a subpopulation of coords will be plotted, the cells specified by idx.\n",
    "    D3: 3D plot, \n",
    "    D2: 2D projections\n",
    "    setdims2D [x,y,z]: if set to something else than -1, this will be the upper limit of the axis.\n",
    "    '''\n",
    "    #set counts, prepare color norm\n",
    "    if len(counts) < len(coords):\n",
    "        counts = np.ones(len(coords))\n",
    "        norm = mpl.colors.Normalize(vmin=0, vmax=100)\n",
    "    else: norm = mpl.colors.Normalize(vmin=0, vmax=max(counts))\n",
    "    # get colormap\n",
    "    cmap = cm.viridis\n",
    "    m = cm.ScalarMappable(norm=norm, cmap=cmap)\n",
    "    rgb = m.to_rgba(counts)\n",
    "    #Check if idx is set, if not, use all cells\n",
    "    if type(idx)=='int': \n",
    "        if idx<0 : idx = np.arange(len(counts))\n",
    "    # 3D plot\n",
    "    if D3:\n",
    "        plt.figure(figsize = (15,12))\n",
    "        ax = plt.gcf().gca(projection='3d')\n",
    "        ax.scatter(coords[idx,0], coords[idx,1], coords[idx,2], depthshade = False, facecolors = rgb[idx], s  = 40)\n",
    "        plt.show()\n",
    "    # 2D projections\n",
    "    if D2:\n",
    "        plt.figure(figsize=(21,7))\n",
    "        ax_n = ['x', 'y', 'z'] \n",
    "        for i, [j, k] in enumerate([[0,1], [1,2], [0,2]]):\n",
    "            plt.subplot(1,3,i+1)\n",
    "            plt.scatter(coords[idx,j], coords[idx,k], facecolors = rgb[idx], s  = 30)\n",
    "            label_graph(ax_n[j]+'-'+ax_n[k]+' plane', ax_n[j], ax_n[k])\n",
    "            if not setdims2D[j] == -1: plt.xlim([0, setdims2D[j]])\n",
    "            if not setdims2D[k] == -1: plt.ylim([0, setdims2D[k]])"
   ]
  },
  {
   "cell_type": "markdown",
   "metadata": {},
   "source": [
    "## Analyse the full set"
   ]
  },
  {
   "cell_type": "markdown",
   "metadata": {},
   "source": [
    "### Load data"
   ]
  },
  {
   "cell_type": "code",
   "execution_count": 5,
   "metadata": {
    "ExecuteTime": {
     "end_time": "2018-01-06T14:59:06.654851Z",
     "start_time": "2018-01-06T14:59:06.469925Z"
    }
   },
   "outputs": [],
   "source": [
    "path_full = './output_pybrep/parallel_full_4/'"
   ]
  },
  {
   "cell_type": "code",
   "execution_count": 6,
   "metadata": {
    "ExecuteTime": {
     "end_time": "2018-01-06T14:59:12.501858Z",
     "start_time": "2018-01-06T14:59:06.743942Z"
    }
   },
   "outputs": [],
   "source": [
    "#cell coordinates\n",
    "gol = read_in_coordfile(path_full + 'GoCcoordinates.sorted.dat')\n",
    "gran = read_in_coordfile(path_full + 'GCcoordinates.sorted.dat')"
   ]
  },
  {
   "cell_type": "code",
   "execution_count": 7,
   "metadata": {
    "ExecuteTime": {
     "end_time": "2018-01-06T15:00:20.809599Z",
     "start_time": "2018-01-06T14:59:12.757816Z"
    }
   },
   "outputs": [
    {
     "name": "stdout",
     "output_type": "stream",
     "text": [
      "finished so_aa\n",
      "finished ta_aa\n",
      "finished so_pf\n",
      "finished ta_pf\n"
     ]
    }
   ],
   "source": [
    "#get statistics\n",
    "n_gran = 798000\n",
    "n_gol = 1995\n",
    "so_aa = con_per_cell_multifile(path_full+'AAtoGoCsources', '.dat', n_gran)\n",
    "print ('finished so_aa')\n",
    "ta_aa = con_per_cell_multifile(path_full+'AAtoGoCtargets', '.dat', n_gol)\n",
    "print ('finished ta_aa')\n",
    "so_pf = con_per_cell_multifile(path_full+'PFtoGoCsources', '.dat', n_gran)\n",
    "print ('finished so_pf')\n",
    "ta_pf = con_per_cell_multifile(path_full+'PFtoGoCtargets', '.dat', n_gol)\n",
    "print ('finished ta_pf')\n",
    "\n",
    "# as for big files this might take a while, you can save them in a dict and then just reload them.\n",
    "if True:\n",
    "    stat_dict = dict (so_aa = so_aa, ta_aa=ta_aa, so_pf = so_pf, ta_pf = ta_pf)\n",
    "    with open (path_full+'conn_stat_dict.pkl', 'wb') as f:\n",
    "        pickle.dump(stat_dict, f)"
   ]
  },
  {
   "cell_type": "code",
   "execution_count": 8,
   "metadata": {
    "ExecuteTime": {
     "end_time": "2018-01-06T15:00:21.191009Z",
     "start_time": "2018-01-06T15:00:21.130949Z"
    }
   },
   "outputs": [
    {
     "name": "stdout",
     "output_type": "stream",
     "text": [
      "[ 15343.  16354.  10006.  23582.  24504.  24346.  23342.  21980.  14841.\n",
      "  25153.]\n",
      "[]\n"
     ]
    }
   ],
   "source": [
    "print (so_aa[:10])\n",
    "print (ta_aa[:10])"
   ]
  },
  {
   "cell_type": "code",
   "execution_count": 9,
   "metadata": {
    "ExecuteTime": {
     "end_time": "2018-01-06T15:00:33.492148Z",
     "start_time": "2018-01-06T15:00:33.478957Z"
    }
   },
   "outputs": [],
   "source": [
    "# alternatively, load already existing dict:\n",
    "with open (path_full+'conn_stat_dict.pkl', 'rb') as f:\n",
    "    sd = pickle.load( f)\n",
    "    locals().update(sd)"
   ]
  },
  {
   "cell_type": "markdown",
   "metadata": {},
   "source": [
    "### Connectivity analysis"
   ]
  },
  {
   "cell_type": "code",
   "execution_count": 10,
   "metadata": {
    "ExecuteTime": {
     "end_time": "2018-01-06T15:02:30.477596Z",
     "start_time": "2018-01-06T15:00:48.025253Z"
    }
   },
   "outputs": [
    {
     "data": {
      "text/plain": [
       "<matplotlib.text.Text at 0x7f9874966710>"
      ]
     },
     "execution_count": 10,
     "metadata": {},
     "output_type": "execute_result"
    },
    {
     "data": {
      "image/png": "[encoded data removed]",
      "text/plain": [
       "<matplotlib.figure.Figure at 0x7f98749835f8>"
      ]
     },
     "metadata": {},
     "output_type": "display_data"
    }
   ],
   "source": [
    "plt.figure(figsize = (12,12))\n",
    "for n, (dat, tit) in enumerate([[so_aa, 'AA Granule (so_aa)'], [ta_aa, 'AA Golgi (ta_aa)'], [so_pf, 'PF Granule (so_pf)'], [ta_pf, 'PF Golgi (ta_pf)']]):\n",
    "    plt.subplot(2,2,n+1)\n",
    "    if n>1: c= 'r'# PF#\n",
    "    else: c= 'b' # AA\n",
    "    if n%2==1: _= plt.hist(dat,100, color = c) #Golgi\n",
    "    else: _= plt.hist(dat, int(max(dat)), color = c) #Granule\n",
    "    label_graph(tit, '# of connections per cell', '# of cells with x connections')\n",
    "    plt.title(tit)\n",
    "plt.suptitle('Connections statistics for full dataset')\n"
   ]
  },
  {
   "cell_type": "markdown",
   "metadata": {},
   "source": [
    "### Find and investigate spatial inhomogeneities"
   ]
  },
  {
   "cell_type": "markdown",
   "metadata": {},
   "source": [
    "#### Get color-coded overview over number of connections per cell"
   ]
  },
  {
   "cell_type": "code",
   "execution_count": null,
   "metadata": {
    "ExecuteTime": {
     "end_time": "2017-12-07T09:53:50.557709Z",
     "start_time": "2017-12-07T09:53:43.308835Z"
    }
   },
   "outputs": [],
   "source": [
    "plot_point_count_stats(gol, counts=ta_pf, idx = np.arange(n_gol))"
   ]
  },
  {
   "cell_type": "markdown",
   "metadata": {},
   "source": [
    "#### Look at interesting indices"
   ]
  },
  {
   "cell_type": "code",
   "execution_count": null,
   "metadata": {
    "ExecuteTime": {
     "end_time": "2017-12-07T09:54:04.494475Z",
     "start_time": "2017-12-07T09:54:03.932207Z"
    }
   },
   "outputs": [],
   "source": [
    "dat = ta_pf\n",
    "s_val = np.sort(dat)\n",
    "p10 = int(len(s_val)/10)\n",
    "# 10/20% of the cells with highest/lowest number of connections\n",
    "idx_top10 = dat>s_val[9*p10]\n",
    "idx_bot10 = dat<s_val[p10]\n",
    "idx_top20 = dat>s_val[8*p10]\n",
    "idx_bot20 = dat<s_val[2*p10]\n",
    "\n",
    "idx_upper = dat>12500 #upper peak for ta_pf hist\n",
    "idx_0  = dat == 0 #cells with 0 connections\n",
    "\n",
    "plot_point_count_stats(gol, idx = idx_bot20, D3 = False)\n",
    "plt.suptitle('Golgi cells with 20% least connections')\n",
    "plot_point_count_stats(gol, idx = idx_top20, D3 = False)\n",
    "plt.suptitle('Golgi cells with 20% most connections')"
   ]
  },
  {
   "cell_type": "markdown",
   "metadata": {},
   "source": [
    "#### Go more into detail: select regions with an especially high/low number of connections"
   ]
  },
  {
   "cell_type": "code",
   "execution_count": null,
   "metadata": {
    "ExecuteTime": {
     "end_time": "2017-12-07T09:54:04.500848Z",
     "start_time": "2017-12-07T09:49:39.482Z"
    }
   },
   "outputs": [],
   "source": [
    "hc_str = select_region(gol, np.asarray(ta_pf), [1200,1500], [0, 700], [100, 200], [13000, 14000])\n",
    "lc_str = select_region(gol, np.asarray(ta_pf), [800,1000], [150, 550], [100, 200], [0, 10000])\n",
    "plot_point_count_stats(gol, idx = hc_str, D3 = False, setdims2D=[1500,700,200])\n",
    "plt.suptitle('Example for cells in region with high conn')\n",
    "plot_point_count_stats(gol, idx = lc_str, D3 = False, setdims2D=[1500,700,200])\n",
    "plt.suptitle('Example for cells in region with low conn')"
   ]
  },
  {
   "cell_type": "markdown",
   "metadata": {
    "ExecuteTime": {
     "end_time": "2017-12-05T23:26:46.055252Z",
     "start_time": "2017-12-05T23:26:45.860082Z"
    }
   },
   "source": [
    "### Find connected granule cells for certain exemplary cells"
   ]
  },
  {
   "cell_type": "code",
   "execution_count": null,
   "metadata": {
    "ExecuteTime": {
     "end_time": "2017-12-06T02:30:39.387502Z",
     "start_time": "2017-12-06T02:30:01.348293Z"
    }
   },
   "outputs": [],
   "source": [
    "#The following test indices are examples for cells from the high/low conn region from the previous section,\n",
    "# but this array can be replaced arbitrarily\n",
    "test_idx = np.concatenate((hc_str[:5], lc_str[:5]))\n",
    "pf2, npf2= unique_con_per_cell_multifile(path_full+'PFtoGoCtargets',path_full+'PFtoGoCsources', '.dat', test_idx)"
   ]
  },
  {
   "cell_type": "code",
   "execution_count": null,
   "metadata": {
    "ExecuteTime": {
     "end_time": "2017-12-06T02:32:14.073438Z",
     "start_time": "2017-12-06T02:32:06.764655Z"
    }
   },
   "outputs": [],
   "source": [
    "#plot the granule cells\n",
    "plot_point_count_stats (gran, counts = [1], idx = np.asarray(pf2[0]), D3 = False, D2 = True, setdims2D=[1500,700,200])\n",
    "plt.suptitle('example for cell with esp. many connections')\n",
    "plot_point_count_stats (gran, counts = [1], idx = np.asarray(pf2[7]), D3 = False, D2 = True, setdims2D=[1500,700,200])\n",
    "plt.suptitle('example for cell with esp. few connections')\n",
    "plot_point_count_stats (gran, counts = [1], idx = np.asarray(pf2[8]), D3 = False, D2 = True, setdims2D=[1500,700,200])\n",
    "plt.suptitle('example for cell with esp. few connections')"
   ]
  },
  {
   "cell_type": "markdown",
   "metadata": {},
   "source": [
    "## Analyse the smaller dataset"
   ]
  },
  {
   "cell_type": "markdown",
   "metadata": {},
   "source": [
    "### Read in files"
   ]
  },
  {
   "cell_type": "code",
   "execution_count": null,
   "metadata": {
    "ExecuteTime": {
     "end_time": "2017-12-06T08:57:22.815001Z",
     "start_time": "2017-12-06T08:57:03.632281Z"
    }
   },
   "outputs": [],
   "source": [
    "path = './output_pybrep/parallel_16/'\n",
    "\n",
    "src_aa = read_in_multiple(path+'AAtoGoCsources', '.dat', False, True)\n",
    "tar_aa = read_in_multiple(path+'AAtoGoCtargets', '.dat', False, True)\n",
    "dis_aa = read_in_multiple(path+'AAtoGoCdistances', '.dat', False)\n",
    "seg_aa = read_in_multiple(path+'AAtoGoCsegments', '.dat', True)\n",
    "\n",
    "src_pf = read_in_multiple(path+'PFtoGoCsources', '.dat', False, True)\n",
    "tar_pf = read_in_multiple(path+'PFtoGoCtargets', '.dat', False, True)\n",
    "dis_pf = read_in_multiple(path+'PFtoGoCdistances', '.dat', False)\n",
    "seg_pf = read_in_multiple(path+'PFtoGoCsegments', '.dat', True)\n",
    "\n",
    "gol = read_in_coordfile(path+'GoCcoordinates.sorted.dat')\n",
    "a_dend = reshape_dendcoo(read_in_coordfile(path+'GoCadendcoordinates.dat'))\n",
    "b_dend = reshape_dendcoo(read_in_coordfile(path+'GoCbdendcoordinates.dat'))\n",
    "gran = read_in_coordfile(path+'GCcoordinates.sorted.dat')\n",
    "granT = read_in_coordfile(path+ 'GCTcoordinates.dat')"
   ]
  },
  {
   "cell_type": "markdown",
   "metadata": {},
   "source": [
    "### Connectivity analysis"
   ]
  },
  {
   "cell_type": "markdown",
   "metadata": {},
   "source": [
    "#### Granule cell to Golgi cell"
   ]
  },
  {
   "cell_type": "code",
   "execution_count": null,
   "metadata": {
    "ExecuteTime": {
     "end_time": "2017-12-06T08:57:44.228963Z",
     "start_time": "2017-12-06T08:57:42.002656Z"
    }
   },
   "outputs": [],
   "source": [
    "\n",
    "plt.figure(figsize = (12,5))\n",
    "\n",
    "plt.subplot(121)\n",
    "\n",
    "so_aa = con_per_cell(src_aa, len(gran))\n",
    "_ = plt.hist(so_aa, int(max(so_aa)))\n",
    "label_graph ('... via ascending axon', '# of conn. per AA', '# of granule cells')\n",
    "\n",
    "plt.subplot(122)\n",
    "so_pf = con_per_cell(src_pf, len(gran))\n",
    "_ = plt.hist(so_pf, int(max(so_pf)), color = 'r')\n",
    "label_graph ('... via parallel fiber', '# of conn. per PF', '# of granule cells')\n",
    "\n",
    "plt.suptitle('Connectivity of the granule cells...')\n"
   ]
  },
  {
   "cell_type": "markdown",
   "metadata": {},
   "source": [
    "#### Golgi cell to Granule cell"
   ]
  },
  {
   "cell_type": "code",
   "execution_count": null,
   "metadata": {
    "ExecuteTime": {
     "end_time": "2017-12-06T08:58:01.830200Z",
     "start_time": "2017-12-06T08:57:59.875510Z"
    }
   },
   "outputs": [],
   "source": [
    "to_pf = con_per_cell(tar_pf, len(gol)-1)\n",
    "to_aa = con_per_cell(tar_aa, len(gol)-1)\n",
    "single_point_fig = True\n",
    "hist_fig = True\n",
    "n_bins = 20\n",
    "\n",
    "if single_point_fig:\n",
    "    plt.figure(figsize = (12,5))\n",
    "    plt.subplot(121)\n",
    "    plt.plot(np.sort(to_aa), 'bx')\n",
    "    label_graph('...via AA', 'Golgi cell no.', 'No. of connections')\n",
    "    plt.subplot(122)\n",
    "    plt.plot(np.sort(to_pf), 'rx')\n",
    "    label_graph('...via PF', 'Golgi cell no.', 'No. of connections')\n",
    "    plt.suptitle('No. of connections per Golgi cell...')\n",
    "    \n",
    "if hist_fig:\n",
    "    plt.figure(figsize = (12,5))\n",
    "    plt.subplot(121)\n",
    "    _ = plt.hist(to_aa, n_bins)\n",
    "    label_graph('...via AA', '# of AA connections', '# of Golgi cells')\n",
    "    plt.subplot(122)\n",
    "    _ = plt.hist(to_pf,n_bins, color = 'r')\n",
    "    label_graph('...via PF', '# of PF connections', '# of Golgi cells')\n",
    "    plt.suptitle('Golgi cell connectivity...')"
   ]
  },
  {
   "cell_type": "markdown",
   "metadata": {},
   "source": [
    "### Single cell connection visualization"
   ]
  },
  {
   "cell_type": "markdown",
   "metadata": {},
   "source": [
    "#### Show all Granule cells that connect to a certain Golgi cell"
   ]
  },
  {
   "cell_type": "code",
   "execution_count": null,
   "metadata": {
    "ExecuteTime": {
     "end_time": "2017-12-06T08:58:20.158940Z",
     "start_time": "2017-12-06T08:58:16.542348Z"
    }
   },
   "outputs": [],
   "source": [
    "cell_id = 13\n",
    "select_aa = True\n",
    "select_pf = True\n",
    "plot_dends = True\n",
    "\n",
    "go_sel = gol[cell_id]\n",
    "if select_aa: \n",
    "    idx_aa = np.unique(np.array(src_aa)[np.isclose(tar_aa, cell_id)])\n",
    "    grs_aa = gran[idx_aa,:]\n",
    "if select_pf: \n",
    "    idx_pf = np.unique(np.array(src_pf)[np.isclose(tar_pf, cell_id)])\n",
    "    grs_pf = gran[idx_pf,:]\n",
    "if select_aa and select_pf:\n",
    "    idx_both = np.intersect1d(idx_pf, idx_aa)\n",
    "    grs_both = gran[idx_both,:]\n",
    "if plot_dends:\n",
    "    ad = a_dend[cell_id]\n",
    "    bd = b_dend[cell_id]\n",
    "    \n",
    "ms_gran = 5.0\n",
    "ms_gol = 5.0\n",
    "\n",
    "\n",
    "plt.figure(figsize = (12,8))\n",
    "ax = plt.gcf().gca(projection='3d')\n",
    "#plot ground population\n",
    "plot3d(ax, gran, 'k.', markersize = 0.2, label = 'Gran')\n",
    "plot3d(ax, gol, 'yo', markersize = ms_gol, label = 'Gol')\n",
    "#plot selected cell and connected GrC\n",
    "if select_aa: plot3d(ax, grs_aa, 'b.', markersize = ms_gran, label = 'AA conn')\n",
    "if select_pf: plot3d(ax, grs_pf, 'g.', markersize = ms_gran, label = 'PF conn')\n",
    "if select_aa and select_pf: plot3d(ax, grs_both,'c.', markersize = ms_gran, label = 'AA and PF conn')\n",
    "plot3d(ax, go_sel, 'ro', markersize = 1.5*ms_gol, label = 'sel. Gol')\n",
    "#plot dendrites\n",
    "if plot_dends:\n",
    "    plot3d(ax, ad, 'rx', label = 'Gol dends')\n",
    "    plot3d(ax, bd, 'mx')\n",
    "    \n",
    "label_graph('Granule cells that connect to Golgi cell no.'+ str(cell_id), 'x', 'y')\n",
    "plt.legend(loc = 0)\n",
    "\n",
    "\n",
    "plt.figure(figsize=(15,5))\n",
    "graph_labels = [['x-y plane projection', 'x', 'y'], ['y-z plane projection', 'y', 'z'], ['x-z plane projection', 'x', 'z']]\n",
    "\n",
    "for i, [j, k] in enumerate([[0,1], [1,2], [0,2]]):\n",
    "    plt.subplot(1,3,i+1)\n",
    "    #plot ground populations\n",
    "    plt.plot(gran[:,j], gran[:,k],  'k.', markersize = 0.2)\n",
    "    plt.plot(gol[:,j], gol[:,k], 'yo', markersize = ms_gol)\n",
    "    #plot selected cell and connected GrC\n",
    "    if select_aa: plt.plot(grs_aa[:,j], grs_aa[:,k], 'b.', markersize = ms_gran)\n",
    "    if select_pf: plt.plot(grs_pf[:,j], grs_pf[:,k], 'g.', markersize = ms_gran)\n",
    "    if select_aa and select_pf: plt.plot(grs_both[:,j], grs_both[:,k], 'c.', markersize = ms_gran)\n",
    "    plt.plot(go_sel[j], go_sel[k], 'ro', markersize = 1.5*ms_gol) \n",
    "        \n",
    "    if plot_dends:\n",
    "        plt.plot(ad[:,j], ad[:,k], 'rx')\n",
    "        plt.plot(bd[:,j], bd[:,k], 'mx')\n",
    "\n",
    "    label_graph(*graph_labels[i])\n",
    "    \n",
    "    plt.suptitle('Granule cells that connect to Golgi cell no.'+str(cell_id))\n",
    "    "
   ]
  },
  {
   "cell_type": "markdown",
   "metadata": {},
   "source": [
    "#### Show all Golgi cells that connect to a certain Granule cell"
   ]
  },
  {
   "cell_type": "code",
   "execution_count": null,
   "metadata": {
    "ExecuteTime": {
     "end_time": "2017-12-06T08:58:38.214124Z",
     "start_time": "2017-12-06T08:58:35.624991Z"
    }
   },
   "outputs": [],
   "source": [
    "cell_id = 13\n",
    "select_aa = True\n",
    "select_pf = True\n",
    "plot_dends = True\n",
    "\n",
    "len_pf = 1000\n",
    "cut_pf = True\n",
    "grs = gran[cell_id,:]\n",
    "aa_co = np.array([gran[cell_id,:], granT[cell_id,:]])\n",
    "pf_co = np.array([granT[cell_id,:]-np.array([len_pf,0,0]),granT[cell_id,:]+np.array([len_pf, 0,0])])\n",
    "if cut_pf:\n",
    "    pf_co[0,0] = max ([pf_co[0,0], 0])\n",
    "    pf_co[1,0] = min ([pf_co[1,0], max(gran[:, 0])]) \n",
    "\n",
    "if select_aa: idx_aa = np.unique(np.array(tar_aa)[np.isclose(src_aa, cell_id)])\n",
    "if select_pf: idx_pf = np.unique(np.array(tar_pf)[np.isclose(src_pf, cell_id)])\n",
    "    \n",
    "    \n",
    "ms_gran = 5.0\n",
    "ms_gol = 5.0\n",
    "\n",
    "\n",
    "plt.figure(figsize = (12,8))\n",
    "ax = plt.gcf().gca(projection='3d')\n",
    "#plot ground population, this time only Golgi...\n",
    "plot3d(ax, gol, 'yo', markersize = 0.5*ms_gol, label = 'Gol')\n",
    "#plot selected Granule cell\n",
    "plot3d(ax, grs, 'co', markersize = ms_gran,label = 'sel. Gran')\n",
    "plot3d(ax, aa_co, 'b')\n",
    "plot3d(ax, pf_co, 'g')\n",
    "#plot Golgi cells and Golgi cell dendrites\n",
    "if select_aa: \n",
    "    first = True\n",
    "    for c in idx_aa:\n",
    "        if first:\n",
    "            plot3d(ax, gol[c,:], 'ro', markersize = ms_gol, label = 'conn. to AA')\n",
    "            first = False\n",
    "        else: plot3d(ax, gol[c,:], 'ro', markersize = ms_gol)\n",
    "        if plot_dends:\n",
    "            plot3d (ax, a_dend[c,:], 'r')\n",
    "            plot3d (ax, b_dend[c,:], 'r')\n",
    "if select_pf: \n",
    "    first = True\n",
    "    for c in idx_pf:\n",
    "        if first:\n",
    "            plot3d(ax, gol[c,:], 'mo', markersize = ms_gol, label = 'conn. to PF')\n",
    "            first = False\n",
    "        else: plot3d(ax, gol[c,:], 'mo', markersize = ms_gol)\n",
    "        if plot_dends:\n",
    "            plot3d (ax, a_dend[c,:], 'm')\n",
    "            plot3d (ax, b_dend[c,:], 'm')\n",
    "        \n",
    "\n",
    "label_graph('Golgi cells that connect to Granule cell no.'+str(cell_id), 'x', 'y')\n",
    "plt.legend(loc = 0)\n",
    "\n",
    "plt.figure(figsize=(15,5))\n",
    "graph_labels = [['x-y plane projection', 'x', 'y'], ['y-z plane projection', 'y', 'z'], ['x-z plane projection', 'x', 'z']]\n",
    "\n",
    "for i, [j, k] in enumerate([[0,1], [1,2], [0,2]]):\n",
    "    plt.subplot(1,3,i+1)\n",
    "    plt.plot(gol[:,j], gol[:,k], 'yo', markersize = 0.5*ms_gol)\n",
    "    #plot selected cell and connected GrC\n",
    "    plt.plot(grs[j], grs[k], 'co', markersize = ms_gran)\n",
    "    plt.plot(aa_co[:,j], aa_co[:,k], 'b')\n",
    "    plt.plot(pf_co[:,j], pf_co[:,k], 'g')\n",
    "    \n",
    "    #plot Golgi cells and Golgi cell dendrites\n",
    "    if select_aa: \n",
    "        for c in idx_aa:\n",
    "            plt.plot(gol[c,j], gol[c,k],'ro', markersize = ms_gol)\n",
    "            if plot_dends:\n",
    "                plt.plot(a_dend[c,:,j], a_dend[c,:,k], 'r')\n",
    "                plt.plot(b_dend[c,:,j], b_dend[c,:,k], 'r')\n",
    "    if select_pf: \n",
    "        for c in idx_pf:\n",
    "            plt.plot(gol[c,j], gol[c,k],'mo', markersize = ms_gol)\n",
    "            if plot_dends:\n",
    "                plt.plot(a_dend[c,:,j], a_dend[c,:,k], 'm')\n",
    "                plt.plot(b_dend[c,:,j], b_dend[c,:,k], 'm')\n",
    "\n",
    "    if True: \n",
    "        if not j == 2: plt.xlim([min(gol[:,j])-40, max(gol[:,j])+40])\n",
    "        if not k == 2: plt.ylim([min(gol[:,k])-40, max(gol[:,k])+40])\n",
    "    label_graph(*graph_labels[i])\n",
    "    \n",
    "    plt.suptitle('Golgi cells that connect to Granule cell no.'+str(cell_id))\n",
    "  \n"
   ]
  },
  {
   "cell_type": "markdown",
   "metadata": {},
   "source": [
    "### Segments and distance"
   ]
  },
  {
   "cell_type": "markdown",
   "metadata": {},
   "source": [
    "#### Segments\n",
    "Things to check for:\n",
    "- The first column corresponds to the number of segments- is that the number you expected?\n",
    "- The second column corresponds to the dendrite number.\n",
    "- For AA, you would expect lower segment numbers to have a higher number of found connections, because for those segments, both basal and apical dendrites can connect, whereas for the higher segments, only basal dendrites can connect.\n",
    "- For PF, you expect the dendrites 1 and 2 (the basal dendrites) to have 0 connections, because those dendrites are in the granule cell layer whereas the parallel fiber is in the molecular layer\n",
    "- For PF, you would expect both high and low segment numbers to have fewer connections, because those segments are in the molecular layer only if the soma of the cell is very high or very low."
   ]
  },
  {
   "cell_type": "code",
   "execution_count": null,
   "metadata": {
    "ExecuteTime": {
     "end_time": "2017-12-06T08:59:57.627532Z",
     "start_time": "2017-12-06T08:58:53.973979Z"
    }
   },
   "outputs": [],
   "source": [
    "def con_per_seg (so):\n",
    "    fc = so[:,0]\n",
    "    sc = so[:,1]\n",
    "    print ('First (segment number)')\n",
    "    for i in np.unique(fc):\n",
    "        idx = np.isclose(fc, i)\n",
    "        print (i, ': n =', sum(idx))\n",
    "    print ('Second (dendrite number)')\n",
    "    for i in np.unique(sc):\n",
    "        idx = np.isclose(sc, i)\n",
    "        print (i, ': n =', sum(idx))\n",
    "        \n",
    "print ('AA stats:')\n",
    "con_per_seg(np.array(seg_aa))\n",
    "print (' ')\n",
    "print ('PF stats:')\n",
    "con_per_seg(np.array(seg_pf))"
   ]
  },
  {
   "cell_type": "markdown",
   "metadata": {},
   "source": [
    "#### Distance\n",
    "\n",
    "Things to check for:\n",
    "- AA connections should have distances that are maximally aa_length\n",
    "- PF connecions should have distances that are at least aa_length."
   ]
  },
  {
   "cell_type": "code",
   "execution_count": null,
   "metadata": {
    "ExecuteTime": {
     "end_time": "2017-12-06T09:00:13.129567Z",
     "start_time": "2017-12-06T09:00:11.874768Z"
    }
   },
   "outputs": [],
   "source": [
    "n_bins = 115\n",
    "\n",
    "plt.figure(figsize = (12,5))\n",
    "\n",
    "plt.subplot(121)\n",
    "_ = plt.hist(np.array(dis_aa), n_bins)\n",
    "label_graph('... for connections onto AA', 'distance', '# of connections')\n",
    "\n",
    "plt.subplot(122)\n",
    "_ = plt.hist(np.array(dis_pf),n_bins, color = 'r')\n",
    "label_graph('... for connections onto PF', 'distance', '# of connections')\n",
    "\n",
    "plt.suptitle('Distance between soma and connection...')\n",
    "\n"
   ]
  },
  {
   "cell_type": "code",
   "execution_count": null,
   "metadata": {},
   "outputs": [],
   "source": []
  }
 ],
 "metadata": {
  "kernelspec": {
   "display_name": "Python 3",
   "language": "python",
   "name": "python3"
  },
  "language_info": {
   "codemirror_mode": {
    "name": "ipython",
    "version": 3
   },
   "file_extension": ".py",
   "mimetype": "text/x-python",
   "name": "python",
   "nbconvert_exporter": "python",
   "pygments_lexer": "ipython3",
   "version": "3.5.2"
  },
  "toc": {
   "nav_menu": {},
   "number_sections": true,
   "sideBar": true,
   "skip_h1_title": true,
   "toc_cell": false,
   "toc_position": {},
   "toc_section_display": "block",
   "toc_window_display": false
  },
  "varInspector": {
   "cols": {
    "lenName": 16,
    "lenType": 16,
    "lenVar": 40
   },
   "kernels_config": {
    "python": {
     "delete_cmd_postfix": "",
     "delete_cmd_prefix": "del ",
     "library": "var_list.py",
     "varRefreshCmd": "print(var_dic_list())"
    },
    "r": {
     "delete_cmd_postfix": ") ",
     "delete_cmd_prefix": "rm(",
     "library": "var_list.r",
     "varRefreshCmd": "cat(var_dic_list()) "
    }
   },
   "types_to_exclude": [
    "module",
    "function",
    "builtin_function_or_method",
    "instance",
    "_Feature"
   ],
   "window_display": false
  }
 },
 "nbformat": 4,
 "nbformat_minor": 2
}
